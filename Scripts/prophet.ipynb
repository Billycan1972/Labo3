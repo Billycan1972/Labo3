{
 "cells": [
  {
   "cell_type": "code",
   "execution_count": 3,
   "id": "7fa9ce4b",
   "metadata": {},
   "outputs": [
    {
     "name": "stderr",
     "output_type": "stream",
     "text": [
      "100%|██████████| 756/756 [01:31<00:00,  8.23it/s]"
     ]
    },
    {
     "name": "stdout",
     "output_type": "stream",
     "text": [
      "\n",
      "📋 INFORME FINAL\n",
      "────────────────────────────\n",
      "🔢 Total de productos:            780\n",
      "✅ Procesados con Prophet:        756\n",
      "❌ Descartados:                   24\n",
      "   └─ Por pocas ventas (>0):      24\n",
      "   └─ Por pocos meses de datos:   0\n",
      "🗃️ Archivo generado: productos_descartados_prophet.csv\n"
     ]
    },
    {
     "name": "stderr",
     "output_type": "stream",
     "text": [
      "\n"
     ]
    }
   ],
   "source": [
    "import pandas as pd\n",
    "from prophet import Prophet\n",
    "from tqdm import tqdm\n",
    "\n",
    "# 1. Cargar dataset\n",
    "df = pd.read_csv(\"datasetwg.csv\")\n",
    "df['periodo'] = pd.to_datetime(df['periodo'])\n",
    "\n",
    "# 2. Agregar ventas por producto y mes\n",
    "df_agg = df.groupby(['product_id', 'periodo'])['tn'].sum().reset_index()\n",
    "\n",
    "# 3. Contar meses con ventas y total de meses por producto\n",
    "ventas_x_prod = df_agg.groupby('product_id')['tn'].apply(lambda x: (x > 0).sum())\n",
    "meses_totales = df_agg.groupby('product_id')['periodo'].count()\n",
    "\n",
    "# 4. Categorizar productos\n",
    "productos_ventas_bajas = ventas_x_prod[ventas_x_prod < 6].index.tolist()\n",
    "productos_con_pocos_meses = meses_totales[meses_totales < 12].index.tolist()\n",
    "\n",
    "# 5. Filtrar válidos\n",
    "productos_validos = [\n",
    "    prod for prod in df_agg['product_id'].unique()\n",
    "    if prod not in productos_ventas_bajas and prod not in productos_con_pocos_meses\n",
    "]\n",
    "\n",
    "# 6. Predicción Prophet\n",
    "resultados = []\n",
    "\n",
    "for prod in tqdm(productos_validos):\n",
    "    df_prod = df_agg[df_agg['product_id'] == prod].copy()\n",
    "    df_prod = df_prod.rename(columns={'periodo': 'ds', 'tn': 'y'})\n",
    "    df_prod = df_prod[['ds', 'y']].sort_values('ds')\n",
    "    df_prod = df_prod.set_index('ds').asfreq('MS').reset_index()\n",
    "\n",
    "    try:\n",
    "        model = Prophet(\n",
    "            yearly_seasonality=True,\n",
    "            weekly_seasonality=False,\n",
    "            daily_seasonality=False\n",
    "        )\n",
    "        model.fit(df_prod)\n",
    "\n",
    "        future = model.make_future_dataframe(periods=2, freq='MS')\n",
    "        forecast = model.predict(future)\n",
    "\n",
    "        pred_feb = forecast[forecast['ds'] == '2020-02-01']['yhat'].values[0]\n",
    "        resultados.append((prod, pred_feb))\n",
    "\n",
    "    except Exception:\n",
    "        resultados.append((prod, 0.0))\n",
    "\n",
    "# 7. Guardar resultados\n",
    "df_resultado = pd.DataFrame(resultados, columns=['product_id', 'tn_predicho'])\n",
    "df_resultado.to_csv(\"prediccion_feb2020_prophet_CORREGIDO2.csv\", index=False)\n",
    "\n",
    "# 8. Generar informe\n",
    "total = df_agg['product_id'].nunique()\n",
    "procesados = len(productos_validos)\n",
    "descartados = total - procesados\n",
    "\n",
    "print(\"\\n📋 INFORME FINAL\")\n",
    "print(\"────────────────────────────\")\n",
    "print(f\"🔢 Total de productos:            {total}\")\n",
    "print(f\"✅ Procesados con Prophet:        {procesados}\")\n",
    "print(f\"❌ Descartados:                   {descartados}\")\n",
    "print(f\"   └─ Por pocas ventas (>0):      {len(productos_ventas_bajas)}\")\n",
    "print(f\"   └─ Por pocos meses de datos:   {len(productos_con_pocos_meses)}\")\n",
    "\n",
    "# (Opcional) Guardar productos descartados para auditar\n",
    "df_descartes = pd.DataFrame({\n",
    "    'product_id': list(set(productos_ventas_bajas + productos_con_pocos_meses)),\n",
    "    'motivo': ['ventas < 6' if pid in productos_ventas_bajas else 'menos de 12 meses' for pid in set(productos_ventas_bajas + productos_con_pocos_meses)]\n",
    "})\n",
    "df_descartes.to_csv(\"productos_descartados_prophet.csv\", index=False)\n",
    "print(\"🗃️ Archivo generado: productos_descartados_prophet.csv\")\n"
   ]
  },
  {
   "cell_type": "code",
   "execution_count": 4,
   "id": "be64a26c",
   "metadata": {},
   "outputs": [
    {
     "data": {
      "image/png": "[encoded data removed]",
      "text/plain": [
       "<Figure size 800x400 with 1 Axes>"
      ]
     },
     "metadata": {},
     "output_type": "display_data"
    }
   ],
   "source": [
    "import matplotlib.pyplot as plt\n",
    "\n",
    "df = pd.read_csv(\"datasetwg.csv\")\n",
    "df['periodo'] = pd.to_datetime(df['periodo'])\n",
    "\n",
    "agg = df.groupby('product_id')['tn'].sum()\n",
    "agg.plot.hist(bins=100, figsize=(8,4))\n",
    "plt.title(\"Distribución total de ventas por producto (tn)\")\n",
    "plt.xlabel(\"Ventas acumuladas (tn)\")\n",
    "plt.show()\n"
   ]
  },
  {
   "cell_type": "code",
   "execution_count": 7,
   "id": "505ed0af",
   "metadata": {},
   "outputs": [
    {
     "name": "stderr",
     "output_type": "stream",
     "text": [
      "100%|██████████| 780/780 [01:05<00:00, 11.82it/s]"
     ]
    },
    {
     "name": "stdout",
     "output_type": "stream",
     "text": [
      "\n",
      "📋 INFORME FINAL - PROPHET FILTRADO\n",
      "────────────────────────────────────────\n",
      "🔢 Total de productos:        780\n",
      "✅ Con Prophet aplicado:      0\n",
      "⚠️  Usaron media positiva:     780\n",
      "🗃️ Archivos: predicción y descartes exportados.\n"
     ]
    },
    {
     "name": "stderr",
     "output_type": "stream",
     "text": [
      "\n"
     ]
    }
   ],
   "source": [
    "import pandas as pd\n",
    "from prophet import Prophet\n",
    "from tqdm import tqdm\n",
    "\n",
    "# 1. Cargar dataset\n",
    "df = pd.read_csv(\"datasetwg.csv\")\n",
    "df['periodo'] = pd.to_datetime(df['periodo'])\n",
    "\n",
    "# 2. Agregar por producto\n",
    "df_agg = df.groupby(['product_id', 'periodo'])['tn'].sum().reset_index()\n",
    "\n",
    "# 3. Lista de productos únicos\n",
    "productos = df_agg['product_id'].unique()\n",
    "\n",
    "# 4. Listas para resultados y descartes\n",
    "resultados = []\n",
    "descartes = []\n",
    "\n",
    "# 5. Loop por producto\n",
    "for prod in tqdm(productos):\n",
    "    df_prod = df_agg[df_agg['product_id'] == prod].copy()\n",
    "    df_prod = df_prod.rename(columns={'periodo': 'ds', 'tn': 'y'})\n",
    "    df_prod = df_prod[['ds', 'y']].sort_values('ds')\n",
    "\n",
    "    # Frecuencia mensual\n",
    "    df_prod = df_prod.set_index('ds').asfreq('MS').reset_index()\n",
    "\n",
    "    # Cantidad de períodos positivos\n",
    "    positivos = df_prod[df_prod['y'] > 0]\n",
    "\n",
    "    if len(positivos) > 18:\n",
    "        try:\n",
    "            model = Prophet(\n",
    "                yearly_seasonality=True,\n",
    "                weekly_seasonality=False,\n",
    "                daily_seasonality=False\n",
    "            )\n",
    "            model.fit(df_prod)\n",
    "\n",
    "            future = model.make_future_dataframe(periods=2, freq='MS')\n",
    "            forecast = model.predict(future)\n",
    "            pred_feb = forecast[forecast['ds'] == '2020-02-01']['yhat'].values[0]\n",
    "            resultados.append((prod, pred_feb))\n",
    "\n",
    "        except Exception as e:\n",
    "            # Si falla Prophet, usamos media positiva como fallback\n",
    "            mean_pos = positivos['y'].mean()\n",
    "            resultados.append((prod, mean_pos))\n",
    "            descartes.append((prod, 'Fallo Prophet, uso media positiva'))\n",
    "\n",
    "    else:\n",
    "        # Si tiene pocos positivos, usar la media positiva como predicción\n",
    "        mean_pos = positivos['y'].mean() if len(positivos) > 0 else 0.0\n",
    "        resultados.append((prod, mean_pos))\n",
    "        descartes.append((prod, 'Menos de 19 períodos positivos'))\n",
    "\n",
    "# 6. Exportar predicciones\n",
    "df_pred = pd.DataFrame(resultados, columns=['product_id', 'tn_predicho'])\n",
    "df_pred.to_csv(\"prediccion_feb2020_prophet_FILTRADO.csv\", index=False)\n",
    "\n",
    "# 7. Exportar descartados\n",
    "df_desc = pd.DataFrame(descartes, columns=['product_id', 'motivo'])\n",
    "df_desc.to_csv(\"productos_descartados_prophet.csv\", index=False)\n",
    "\n",
    "# 8. Informe\n",
    "print(\"\\n📋 INFORME FINAL - PROPHET FILTRADO\")\n",
    "print(\"────────────────────────────────────────\")\n",
    "print(f\"🔢 Total de productos:        {len(productos)}\")\n",
    "print(f\"✅ Con Prophet aplicado:      {len(productos) - len(df_desc)}\")\n",
    "print(f\"⚠️  Usaron media positiva:     {len(df_desc)}\")\n",
    "print(\"🗃️ Archivos: predicción y descartes exportados.\")\n"
   ]
  }
 ],
 "metadata": {
  "kernelspec": {
   "display_name": "prophet_env",
   "language": "python",
   "name": "python3"
  },
  "language_info": {
   "codemirror_mode": {
    "name": "ipython",
    "version": 3
   },
   "file_extension": ".py",
   "mimetype": "text/x-python",
   "name": "python",
   "nbconvert_exporter": "python",
   "pygments_lexer": "ipython3",
   "version": "3.10.18"
  }
 },
 "nbformat": 4,
 "nbformat_minor": 5
}
