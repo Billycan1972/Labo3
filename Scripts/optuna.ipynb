{
 "cells": [
  {
   "cell_type": "code",
   "execution_count": 3,
   "id": "a315d464",
   "metadata": {},
   "outputs": [
    {
     "name": "stderr",
     "output_type": "stream",
     "text": [
      "[I 2025-06-24 21:48:27,483] A new study created in RDB with name: optuna_tn_studyw7\n"
     ]
    },
    {
     "name": "stdout",
     "output_type": "stream",
     "text": [
      "Training until validation scores don't improve for 50 rounds\n",
      "[100]\tvalid_0's rmse: 0.622277\n",
      "Early stopping, best iteration is:\n",
      "[90]\tvalid_0's rmse: 0.621323\n"
     ]
    },
    {
     "name": "stderr",
     "output_type": "stream",
     "text": [
      "[I 2025-06-24 21:49:45,690] Trial 0 finished with value: 0.6213231727842913 and parameters: {'learning_rate': 0.22964921091172663, 'num_leaves': 178, 'min_data_in_leaf': 15, 'lambda_l1': 1.6829328757591355, 'lambda_l2': 0.13618439852783715}. Best is trial 0 with value: 0.6213231727842913.\n"
     ]
    },
    {
     "name": "stdout",
     "output_type": "stream",
     "text": [
      "Training until validation scores don't improve for 50 rounds\n",
      "[100]\tvalid_0's rmse: 0.604834\n",
      "Early stopping, best iteration is:\n",
      "[50]\tvalid_0's rmse: 0.602391\n"
     ]
    },
    {
     "name": "stderr",
     "output_type": "stream",
     "text": [
      "[I 2025-06-24 21:50:55,673] Trial 1 finished with value: 0.6023906997685285 and parameters: {'learning_rate': 0.1750995286210126, 'num_leaves': 254, 'min_data_in_leaf': 26, 'lambda_l1': 3.184853212835522, 'lambda_l2': 2.237942453026239}. Best is trial 1 with value: 0.6023906997685285.\n"
     ]
    },
    {
     "name": "stdout",
     "output_type": "stream",
     "text": [
      "Training until validation scores don't improve for 50 rounds\n",
      "[100]\tvalid_0's rmse: 0.627349\n",
      "Early stopping, best iteration is:\n",
      "[95]\tvalid_0's rmse: 0.626154\n"
     ]
    },
    {
     "name": "stderr",
     "output_type": "stream",
     "text": [
      "[I 2025-06-24 21:52:02,932] Trial 2 finished with value: 0.6261540381924107 and parameters: {'learning_rate': 0.23983689790910087, 'num_leaves': 59, 'min_data_in_leaf': 72, 'lambda_l1': 1.8735459968856893, 'lambda_l2': 3.9860237725543115}. Best is trial 1 with value: 0.6023906997685285.\n"
     ]
    },
    {
     "name": "stdout",
     "output_type": "stream",
     "text": [
      "Training until validation scores don't improve for 50 rounds\n",
      "[100]\tvalid_0's rmse: 0.624107\n",
      "Early stopping, best iteration is:\n",
      "[73]\tvalid_0's rmse: 0.621875\n"
     ]
    },
    {
     "name": "stderr",
     "output_type": "stream",
     "text": [
      "[I 2025-06-24 21:52:55,864] Trial 3 finished with value: 0.6218748235812996 and parameters: {'learning_rate': 0.18020182137369245, 'num_leaves': 32, 'min_data_in_leaf': 51, 'lambda_l1': 1.4426752551258208, 'lambda_l2': 3.3662343409246938}. Best is trial 1 with value: 0.6023906997685285.\n"
     ]
    },
    {
     "name": "stdout",
     "output_type": "stream",
     "text": [
      "Training until validation scores don't improve for 50 rounds\n",
      "[100]\tvalid_0's rmse: 0.633094\n",
      "Early stopping, best iteration is:\n",
      "[78]\tvalid_0's rmse: 0.630657\n"
     ]
    },
    {
     "name": "stderr",
     "output_type": "stream",
     "text": [
      "[I 2025-06-24 21:55:02,206] Trial 4 finished with value: 0.6306565390644706 and parameters: {'learning_rate': 0.27956877615538256, 'num_leaves': 216, 'min_data_in_leaf': 97, 'lambda_l1': 4.041190200512751, 'lambda_l2': 3.268546471407215}. Best is trial 1 with value: 0.6023906997685285.\n"
     ]
    },
    {
     "name": "stdout",
     "output_type": "stream",
     "text": [
      "Training until validation scores don't improve for 50 rounds\n",
      "[100]\tvalid_0's rmse: 0.612421\n",
      "Early stopping, best iteration is:\n",
      "[88]\tvalid_0's rmse: 0.61141\n"
     ]
    },
    {
     "name": "stderr",
     "output_type": "stream",
     "text": [
      "[I 2025-06-24 21:57:16,093] Trial 5 finished with value: 0.6114099091078532 and parameters: {'learning_rate': 0.1561884075386204, 'num_leaves': 133, 'min_data_in_leaf': 50, 'lambda_l1': 0.6595406343963733, 'lambda_l2': 1.8410998746096119}. Best is trial 1 with value: 0.6023906997685285.\n"
     ]
    },
    {
     "name": "stdout",
     "output_type": "stream",
     "text": [
      "Training until validation scores don't improve for 50 rounds\n",
      "[100]\tvalid_0's rmse: 0.644301\n",
      "[200]\tvalid_0's rmse: 0.619098\n",
      "[300]\tvalid_0's rmse: 0.610703\n",
      "[400]\tvalid_0's rmse: 0.608227\n",
      "[500]\tvalid_0's rmse: 0.605725\n",
      "Early stopping, best iteration is:\n",
      "[502]\tvalid_0's rmse: 0.605638\n"
     ]
    },
    {
     "name": "stderr",
     "output_type": "stream",
     "text": [
      "[I 2025-06-24 22:00:17,098] Trial 6 finished with value: 0.6056378657926214 and parameters: {'learning_rate': 0.03895318921270915, 'num_leaves': 25, 'min_data_in_leaf': 37, 'lambda_l1': 1.2177960471688343, 'lambda_l2': 3.8801353770346307}. Best is trial 1 with value: 0.6023906997685285.\n"
     ]
    },
    {
     "name": "stdout",
     "output_type": "stream",
     "text": [
      "Training until validation scores don't improve for 50 rounds\n",
      "[100]\tvalid_0's rmse: 0.623795\n",
      "[200]\tvalid_0's rmse: 0.599631\n",
      "[300]\tvalid_0's rmse: 0.59761\n",
      "Early stopping, best iteration is:\n",
      "[282]\tvalid_0's rmse: 0.597178\n"
     ]
    },
    {
     "name": "stderr",
     "output_type": "stream",
     "text": [
      "[I 2025-06-24 22:04:54,039] Trial 7 finished with value: 0.597177876155734 and parameters: {'learning_rate': 0.04177519359878403, 'num_leaves': 161, 'min_data_in_leaf': 30, 'lambda_l1': 3.8566884597031272, 'lambda_l2': 4.768308471362556}. Best is trial 7 with value: 0.597177876155734.\n"
     ]
    },
    {
     "name": "stdout",
     "output_type": "stream",
     "text": [
      "Training until validation scores don't improve for 50 rounds\n",
      "[100]\tvalid_0's rmse: 0.773771\n",
      "[200]\tvalid_0's rmse: 0.639483\n",
      "[300]\tvalid_0's rmse: 0.611579\n",
      "[400]\tvalid_0's rmse: 0.601893\n",
      "[500]\tvalid_0's rmse: 0.596613\n",
      "[600]\tvalid_0's rmse: 0.594616\n",
      "[700]\tvalid_0's rmse: 0.592823\n",
      "[800]\tvalid_0's rmse: 0.592195\n",
      "[900]\tvalid_0's rmse: 0.590819\n",
      "Early stopping, best iteration is:\n",
      "[921]\tvalid_0's rmse: 0.590695\n"
     ]
    },
    {
     "name": "stderr",
     "output_type": "stream",
     "text": [
      "[I 2025-06-24 22:13:02,482] Trial 8 finished with value: 0.5906949135347229 and parameters: {'learning_rate': 0.015588654702110199, 'num_leaves': 92, 'min_data_in_leaf': 20, 'lambda_l1': 0.6518463688005355, 'lambda_l2': 4.456169365794379}. Best is trial 8 with value: 0.5906949135347229.\n"
     ]
    },
    {
     "name": "stdout",
     "output_type": "stream",
     "text": [
      "Training until validation scores don't improve for 50 rounds\n",
      "[100]\tvalid_0's rmse: 0.613891\n",
      "Early stopping, best iteration is:\n",
      "[121]\tvalid_0's rmse: 0.612038\n"
     ]
    },
    {
     "name": "stderr",
     "output_type": "stream",
     "text": [
      "[I 2025-06-24 22:14:12,391] Trial 9 finished with value: 0.612037933026765 and parameters: {'learning_rate': 0.15881556427661067, 'num_leaves': 141, 'min_data_in_leaf': 55, 'lambda_l1': 1.7992429531616265, 'lambda_l2': 1.5190641747200628}. Best is trial 8 with value: 0.5906949135347229.\n"
     ]
    },
    {
     "name": "stdout",
     "output_type": "stream",
     "text": [
      "Training until validation scores don't improve for 50 rounds\n",
      "[100]\tvalid_0's rmse: 0.600446\n",
      "Early stopping, best iteration is:\n",
      "[104]\tvalid_0's rmse: 0.599694\n"
     ]
    },
    {
     "name": "stderr",
     "output_type": "stream",
     "text": [
      "[I 2025-06-24 22:14:56,134] Trial 10 finished with value: 0.5996941004993668 and parameters: {'learning_rate': 0.08904272447118626, 'num_leaves': 90, 'min_data_in_leaf': 11, 'lambda_l1': 0.01549178342590074, 'lambda_l2': 4.886281191328884}. Best is trial 8 with value: 0.5906949135347229.\n"
     ]
    },
    {
     "name": "stdout",
     "output_type": "stream",
     "text": [
      "Training until validation scores don't improve for 50 rounds\n",
      "[100]\tvalid_0's rmse: 0.639229\n",
      "[200]\tvalid_0's rmse: 0.603818\n",
      "[300]\tvalid_0's rmse: 0.596591\n",
      "[400]\tvalid_0's rmse: 0.595321\n",
      "Early stopping, best iteration is:\n",
      "[376]\tvalid_0's rmse: 0.594722\n"
     ]
    },
    {
     "name": "stderr",
     "output_type": "stream",
     "text": [
      "[I 2025-06-24 22:17:06,896] Trial 11 finished with value: 0.5947224414486804 and parameters: {'learning_rate': 0.033796817347262545, 'num_leaves': 110, 'min_data_in_leaf': 32, 'lambda_l1': 4.741764675532293, 'lambda_l2': 4.788843388436612}. Best is trial 8 with value: 0.5906949135347229.\n"
     ]
    },
    {
     "name": "stdout",
     "output_type": "stream",
     "text": [
      "Training until validation scores don't improve for 50 rounds\n",
      "[100]\tvalid_0's rmse: 0.597223\n",
      "[200]\tvalid_0's rmse: 0.59433\n",
      "Early stopping, best iteration is:\n",
      "[163]\tvalid_0's rmse: 0.593071\n"
     ]
    },
    {
     "name": "stderr",
     "output_type": "stream",
     "text": [
      "[I 2025-06-24 22:18:12,115] Trial 12 finished with value: 0.5930713652260109 and parameters: {'learning_rate': 0.09413235648804523, 'num_leaves': 96, 'min_data_in_leaf': 37, 'lambda_l1': 4.870171759690421, 'lambda_l2': 4.9486102009370185}. Best is trial 8 with value: 0.5906949135347229.\n"
     ]
    },
    {
     "name": "stdout",
     "output_type": "stream",
     "text": [
      "Training until validation scores don't improve for 50 rounds\n",
      "[100]\tvalid_0's rmse: 0.610731\n",
      "[200]\tvalid_0's rmse: 0.605015\n",
      "Early stopping, best iteration is:\n",
      "[224]\tvalid_0's rmse: 0.603551\n"
     ]
    },
    {
     "name": "stderr",
     "output_type": "stream",
     "text": [
      "[I 2025-06-24 22:19:29,794] Trial 13 finished with value: 0.6035512524881551 and parameters: {'learning_rate': 0.09375296770255298, 'num_leaves': 76, 'min_data_in_leaf': 42, 'lambda_l1': 2.892553338503241, 'lambda_l2': 4.092607870472428}. Best is trial 8 with value: 0.5906949135347229.\n"
     ]
    },
    {
     "name": "stdout",
     "output_type": "stream",
     "text": [
      "Training until validation scores don't improve for 50 rounds\n",
      "[100]\tvalid_0's rmse: 0.620347\n",
      "[200]\tvalid_0's rmse: 0.608027\n",
      "Early stopping, best iteration is:\n",
      "[199]\tvalid_0's rmse: 0.607862\n"
     ]
    },
    {
     "name": "stderr",
     "output_type": "stream",
     "text": [
      "[I 2025-06-24 22:21:03,910] Trial 14 finished with value: 0.6078617523725598 and parameters: {'learning_rate': 0.09559888264700445, 'num_leaves': 113, 'min_data_in_leaf': 66, 'lambda_l1': 4.917653884513507, 'lambda_l2': 2.86738720455176}. Best is trial 8 with value: 0.5906949135347229.\n"
     ]
    },
    {
     "name": "stdout",
     "output_type": "stream",
     "text": [
      "Training until validation scores don't improve for 50 rounds\n",
      "[100]\tvalid_0's rmse: 0.602654\n",
      "[200]\tvalid_0's rmse: 0.600688\n",
      "Early stopping, best iteration is:\n",
      "[158]\tvalid_0's rmse: 0.599611\n"
     ]
    },
    {
     "name": "stderr",
     "output_type": "stream",
     "text": [
      "[I 2025-06-24 22:21:55,775] Trial 15 finished with value: 0.5996114837433392 and parameters: {'learning_rate': 0.07310985558756147, 'num_leaves': 58, 'min_data_in_leaf': 20, 'lambda_l1': 2.4794345724115123, 'lambda_l2': 4.24672751829523}. Best is trial 8 with value: 0.5906949135347229.\n"
     ]
    },
    {
     "name": "stdout",
     "output_type": "stream",
     "text": [
      "Training until validation scores don't improve for 50 rounds\n",
      "[100]\tvalid_0's rmse: 0.619867\n",
      "[200]\tvalid_0's rmse: 0.614385\n",
      "Early stopping, best iteration is:\n",
      "[221]\tvalid_0's rmse: 0.613883\n"
     ]
    },
    {
     "name": "stderr",
     "output_type": "stream",
     "text": [
      "[I 2025-06-24 22:23:28,881] Trial 16 finished with value: 0.6138834842264729 and parameters: {'learning_rate': 0.11811712337226116, 'num_leaves': 97, 'min_data_in_leaf': 68, 'lambda_l1': 0.15367017996972182, 'lambda_l2': 4.96606586184436}. Best is trial 8 with value: 0.5906949135347229.\n"
     ]
    },
    {
     "name": "stdout",
     "output_type": "stream",
     "text": [
      "Training until validation scores don't improve for 50 rounds\n",
      "[100]\tvalid_0's rmse: 0.920277\n",
      "[200]\tvalid_0's rmse: 0.712605\n",
      "[300]\tvalid_0's rmse: 0.653343\n",
      "[400]\tvalid_0's rmse: 0.632773\n",
      "[500]\tvalid_0's rmse: 0.623021\n",
      "[600]\tvalid_0's rmse: 0.615104\n",
      "[700]\tvalid_0's rmse: 0.609636\n",
      "[800]\tvalid_0's rmse: 0.606956\n",
      "[900]\tvalid_0's rmse: 0.606089\n",
      "Early stopping, best iteration is:\n",
      "[900]\tvalid_0's rmse: 0.606089\n"
     ]
    },
    {
     "name": "stderr",
     "output_type": "stream",
     "text": [
      "[I 2025-06-24 22:30:11,925] Trial 17 finished with value: 0.6060892258259557 and parameters: {'learning_rate': 0.010080517873514383, 'num_leaves': 174, 'min_data_in_leaf': 43, 'lambda_l1': 3.925615334497211, 'lambda_l2': 0.4091459487840119}. Best is trial 8 with value: 0.5906949135347229.\n"
     ]
    },
    {
     "name": "stdout",
     "output_type": "stream",
     "text": [
      "Training until validation scores don't improve for 50 rounds\n",
      "[100]\tvalid_0's rmse: 0.600138\n",
      "Early stopping, best iteration is:\n",
      "[106]\tvalid_0's rmse: 0.600029\n"
     ]
    },
    {
     "name": "stderr",
     "output_type": "stream",
     "text": [
      "[I 2025-06-24 22:30:51,838] Trial 18 finished with value: 0.6000293099109361 and parameters: {'learning_rate': 0.11753786937557348, 'num_leaves': 61, 'min_data_in_leaf': 23, 'lambda_l1': 0.8314752838081922, 'lambda_l2': 3.6418327279612033}. Best is trial 8 with value: 0.5906949135347229.\n"
     ]
    },
    {
     "name": "stdout",
     "output_type": "stream",
     "text": [
      "Training until validation scores don't improve for 50 rounds\n",
      "[100]\tvalid_0's rmse: 0.654156\n",
      "[200]\tvalid_0's rmse: 0.635045\n",
      "[300]\tvalid_0's rmse: 0.627619\n",
      "[400]\tvalid_0's rmse: 0.623454\n",
      "Early stopping, best iteration is:\n",
      "[449]\tvalid_0's rmse: 0.621534\n"
     ]
    },
    {
     "name": "stderr",
     "output_type": "stream",
     "text": [
      "[I 2025-06-24 22:34:30,778] Trial 19 finished with value: 0.6215338010717346 and parameters: {'learning_rate': 0.06081546080736169, 'num_leaves': 124, 'min_data_in_leaf': 97, 'lambda_l1': 2.761075495000397, 'lambda_l2': 4.450362814789547}. Best is trial 8 with value: 0.5906949135347229.\n"
     ]
    },
    {
     "name": "stdout",
     "output_type": "stream",
     "text": [
      "Training until validation scores don't improve for 50 rounds\n",
      "[100]\tvalid_0's rmse: 0.855525\n",
      "[200]\tvalid_0's rmse: 0.663009\n",
      "[300]\tvalid_0's rmse: 0.617481\n",
      "[400]\tvalid_0's rmse: 0.604228\n",
      "[500]\tvalid_0's rmse: 0.599478\n",
      "[600]\tvalid_0's rmse: 0.597304\n",
      "[700]\tvalid_0's rmse: 0.596661\n",
      "Early stopping, best iteration is:\n",
      "[661]\tvalid_0's rmse: 0.596483\n"
     ]
    },
    {
     "name": "stderr",
     "output_type": "stream",
     "text": [
      "[I 2025-06-24 22:38:48,856] Trial 20 finished with value: 0.596482594127592 and parameters: {'learning_rate': 0.01177437835557904, 'num_leaves': 152, 'min_data_in_leaf': 10, 'lambda_l1': 3.4236428153646554, 'lambda_l2': 2.9173162716128562}. Best is trial 8 with value: 0.5906949135347229.\n"
     ]
    },
    {
     "name": "stdout",
     "output_type": "stream",
     "text": [
      "Training until validation scores don't improve for 50 rounds\n",
      "[100]\tvalid_0's rmse: 0.622996\n",
      "[200]\tvalid_0's rmse: 0.597745\n",
      "[300]\tvalid_0's rmse: 0.593871\n",
      "[400]\tvalid_0's rmse: 0.591947\n",
      "Early stopping, best iteration is:\n",
      "[437]\tvalid_0's rmse: 0.591485\n"
     ]
    },
    {
     "name": "stderr",
     "output_type": "stream",
     "text": [
      "[I 2025-06-24 22:41:27,863] Trial 21 finished with value: 0.5914847009335725 and parameters: {'learning_rate': 0.04163984328562511, 'num_leaves': 103, 'min_data_in_leaf': 32, 'lambda_l1': 4.840594065911286, 'lambda_l2': 4.591460882041056}. Best is trial 8 with value: 0.5906949135347229.\n"
     ]
    },
    {
     "name": "stdout",
     "output_type": "stream",
     "text": [
      "Training until validation scores don't improve for 50 rounds\n",
      "[100]\tvalid_0's rmse: 0.609991\n",
      "[200]\tvalid_0's rmse: 0.595585\n",
      "Early stopping, best iteration is:\n",
      "[235]\tvalid_0's rmse: 0.593786\n"
     ]
    },
    {
     "name": "stderr",
     "output_type": "stream",
     "text": [
      "[I 2025-06-24 22:42:55,342] Trial 22 finished with value: 0.5937861396931907 and parameters: {'learning_rate': 0.05814231883114839, 'num_leaves': 85, 'min_data_in_leaf': 35, 'lambda_l1': 4.395306231136205, 'lambda_l2': 4.505439639741762}. Best is trial 8 with value: 0.5906949135347229.\n"
     ]
    },
    {
     "name": "stdout",
     "output_type": "stream",
     "text": [
      "Training until validation scores don't improve for 50 rounds\n",
      "[100]\tvalid_0's rmse: 0.606301\n",
      "Early stopping, best iteration is:\n",
      "[78]\tvalid_0's rmse: 0.604488\n"
     ]
    },
    {
     "name": "stderr",
     "output_type": "stream",
     "text": [
      "[I 2025-06-24 22:43:37,001] Trial 23 finished with value: 0.6044884232477525 and parameters: {'learning_rate': 0.12304523231384483, 'num_leaves': 107, 'min_data_in_leaf': 19, 'lambda_l1': 4.441183442769317, 'lambda_l2': 4.312062955642488}. Best is trial 8 with value: 0.5906949135347229.\n"
     ]
    },
    {
     "name": "stdout",
     "output_type": "stream",
     "text": [
      "Training until validation scores don't improve for 50 rounds\n",
      "[100]\tvalid_0's rmse: 0.661257\n",
      "[200]\tvalid_0's rmse: 0.618001\n",
      "[300]\tvalid_0's rmse: 0.609151\n",
      "[400]\tvalid_0's rmse: 0.603928\n",
      "[500]\tvalid_0's rmse: 0.601909\n",
      "[600]\tvalid_0's rmse: 0.602436\n",
      "Early stopping, best iteration is:\n",
      "[552]\tvalid_0's rmse: 0.600769\n"
     ]
    },
    {
     "name": "stderr",
     "output_type": "stream",
     "text": [
      "[I 2025-06-24 22:46:07,134] Trial 24 finished with value: 0.6007686477867884 and parameters: {'learning_rate': 0.029075493398019188, 'num_leaves': 43, 'min_data_in_leaf': 41, 'lambda_l1': 2.2105191024787536, 'lambda_l2': 1.015342146327708}. Best is trial 8 with value: 0.5906949135347229.\n"
     ]
    },
    {
     "name": "stdout",
     "output_type": "stream",
     "text": [
      "Training until validation scores don't improve for 50 rounds\n",
      "[100]\tvalid_0's rmse: 0.604604\n",
      "Early stopping, best iteration is:\n",
      "[146]\tvalid_0's rmse: 0.600167\n"
     ]
    },
    {
     "name": "stderr",
     "output_type": "stream",
     "text": [
      "[I 2025-06-24 22:47:01,982] Trial 25 finished with value: 0.6001668461984871 and parameters: {'learning_rate': 0.07081296518984177, 'num_leaves': 77, 'min_data_in_leaf': 27, 'lambda_l1': 3.396837092476178, 'lambda_l2': 3.7493210078547152}. Best is trial 8 with value: 0.5906949135347229.\n"
     ]
    },
    {
     "name": "stdout",
     "output_type": "stream",
     "text": [
      "Training until validation scores don't improve for 50 rounds\n",
      "[100]\tvalid_0's rmse: 0.635773\n",
      "[200]\tvalid_0's rmse: 0.611023\n",
      "[300]\tvalid_0's rmse: 0.606521\n",
      "[400]\tvalid_0's rmse: 0.604944\n",
      "Early stopping, best iteration is:\n",
      "[387]\tvalid_0's rmse: 0.604589\n"
     ]
    },
    {
     "name": "stderr",
     "output_type": "stream",
     "text": [
      "[I 2025-06-24 22:49:47,366] Trial 26 finished with value: 0.6045891968071813 and parameters: {'learning_rate': 0.04894378972056996, 'num_leaves': 124, 'min_data_in_leaf': 60, 'lambda_l1': 4.957804797037021, 'lambda_l2': 3.4274680780316764}. Best is trial 8 with value: 0.5906949135347229.\n"
     ]
    },
    {
     "name": "stdout",
     "output_type": "stream",
     "text": [
      "Training until validation scores don't improve for 50 rounds\n",
      "[100]\tvalid_0's rmse: 0.745571\n",
      "[200]\tvalid_0's rmse: 0.669046\n",
      "[300]\tvalid_0's rmse: 0.648518\n",
      "[400]\tvalid_0's rmse: 0.63589\n",
      "[500]\tvalid_0's rmse: 0.629761\n",
      "[600]\tvalid_0's rmse: 0.625088\n",
      "[700]\tvalid_0's rmse: 0.622237\n",
      "[800]\tvalid_0's rmse: 0.620379\n",
      "[900]\tvalid_0's rmse: 0.618248\n",
      "[1000]\tvalid_0's rmse: 0.617511\n",
      "Did not meet early stopping. Best iteration is:\n",
      "[997]\tvalid_0's rmse: 0.617365\n"
     ]
    },
    {
     "name": "stderr",
     "output_type": "stream",
     "text": [
      "[I 2025-06-24 22:59:01,974] Trial 27 finished with value: 0.617365349505166 and parameters: {'learning_rate': 0.022032027250766677, 'num_leaves': 194, 'min_data_in_leaf': 78, 'lambda_l1': 4.34475641925257, 'lambda_l2': 4.573174234503557}. Best is trial 8 with value: 0.5906949135347229.\n"
     ]
    },
    {
     "name": "stdout",
     "output_type": "stream",
     "text": [
      "Training until validation scores don't improve for 50 rounds\n",
      "[100]\tvalid_0's rmse: 0.60827\n",
      "Early stopping, best iteration is:\n",
      "[96]\tvalid_0's rmse: 0.606711\n"
     ]
    },
    {
     "name": "stderr",
     "output_type": "stream",
     "text": [
      "[I 2025-06-24 22:59:50,795] Trial 28 finished with value: 0.6067107002562291 and parameters: {'learning_rate': 0.13022946596879967, 'num_leaves': 102, 'min_data_in_leaf': 47, 'lambda_l1': 3.626775504358808, 'lambda_l2': 4.996883131651598}. Best is trial 8 with value: 0.5906949135347229.\n"
     ]
    },
    {
     "name": "stdout",
     "output_type": "stream",
     "text": [
      "Training until validation scores don't improve for 50 rounds\n",
      "[100]\tvalid_0's rmse: 0.609776\n",
      "Early stopping, best iteration is:\n",
      "[110]\tvalid_0's rmse: 0.609064\n"
     ]
    },
    {
     "name": "stderr",
     "output_type": "stream",
     "text": [
      "[I 2025-06-24 23:00:32,936] Trial 29 finished with value: 0.6090644634824653 and parameters: {'learning_rate': 0.08588323646227056, 'num_leaves': 71, 'min_data_in_leaf': 18, 'lambda_l1': 0.5319265140089423, 'lambda_l2': 2.8394237436550607}. Best is trial 8 with value: 0.5906949135347229.\n"
     ]
    },
    {
     "name": "stdout",
     "output_type": "stream",
     "text": [
      "Training until validation scores don't improve for 50 rounds\n",
      "[100]\tvalid_0's rmse: 0.60362\n",
      "Early stopping, best iteration is:\n",
      "[139]\tvalid_0's rmse: 0.599478\n"
     ]
    },
    {
     "name": "stderr",
     "output_type": "stream",
     "text": [
      "[I 2025-06-24 23:01:18,667] Trial 30 finished with value: 0.5994777569649773 and parameters: {'learning_rate': 0.10647725186025969, 'num_leaves': 43, 'min_data_in_leaf': 33, 'lambda_l1': 4.54015092102128, 'lambda_l2': 4.231463102330037}. Best is trial 8 with value: 0.5906949135347229.\n"
     ]
    },
    {
     "name": "stdout",
     "output_type": "stream",
     "text": [
      "Training until validation scores don't improve for 50 rounds\n",
      "[100]\tvalid_0's rmse: 0.610337\n",
      "[200]\tvalid_0's rmse: 0.599213\n",
      "[300]\tvalid_0's rmse: 0.597118\n",
      "Early stopping, best iteration is:\n",
      "[277]\tvalid_0's rmse: 0.596582\n"
     ]
    },
    {
     "name": "stderr",
     "output_type": "stream",
     "text": [
      "[I 2025-06-24 23:02:49,776] Trial 31 finished with value: 0.5965817527598677 and parameters: {'learning_rate': 0.057379287607645095, 'num_leaves': 87, 'min_data_in_leaf': 36, 'lambda_l1': 4.281988187876389, 'lambda_l2': 4.525323894823889}. Best is trial 8 with value: 0.5906949135347229.\n"
     ]
    },
    {
     "name": "stdout",
     "output_type": "stream",
     "text": [
      "Training until validation scores don't improve for 50 rounds\n",
      "[100]\tvalid_0's rmse: 0.602182\n",
      "[200]\tvalid_0's rmse: 0.592666\n",
      "Early stopping, best iteration is:\n",
      "[173]\tvalid_0's rmse: 0.592138\n"
     ]
    },
    {
     "name": "stderr",
     "output_type": "stream",
     "text": [
      "[I 2025-06-24 23:03:52,388] Trial 32 finished with value: 0.5921381182008483 and parameters: {'learning_rate': 0.06194791501685699, 'num_leaves': 85, 'min_data_in_leaf': 25, 'lambda_l1': 4.577055540402452, 'lambda_l2': 4.529485743777492}. Best is trial 8 with value: 0.5906949135347229.\n"
     ]
    },
    {
     "name": "stdout",
     "output_type": "stream",
     "text": [
      "Training until validation scores don't improve for 50 rounds\n",
      "[100]\tvalid_0's rmse: 0.607339\n",
      "Early stopping, best iteration is:\n",
      "[104]\tvalid_0's rmse: 0.606912\n"
     ]
    },
    {
     "name": "stderr",
     "output_type": "stream",
     "text": [
      "[I 2025-06-24 23:04:39,429] Trial 33 finished with value: 0.6069120412007448 and parameters: {'learning_rate': 0.2035702258965783, 'num_leaves': 121, 'min_data_in_leaf': 25, 'lambda_l1': 4.622315753595781, 'lambda_l2': 3.9968741468648346}. Best is trial 8 with value: 0.5906949135347229.\n"
     ]
    },
    {
     "name": "stdout",
     "output_type": "stream",
     "text": [
      "Training until validation scores don't improve for 50 rounds\n",
      "[100]\tvalid_0's rmse: 0.607392\n",
      "[200]\tvalid_0's rmse: 0.606147\n",
      "Early stopping, best iteration is:\n",
      "[156]\tvalid_0's rmse: 0.602027\n"
     ]
    },
    {
     "name": "stderr",
     "output_type": "stream",
     "text": [
      "[I 2025-06-24 23:05:31,335] Trial 34 finished with value: 0.6020267800234544 and parameters: {'learning_rate': 0.14057909704984806, 'num_leaves': 64, 'min_data_in_leaf': 27, 'lambda_l1': 4.972418705903711, 'lambda_l2': 4.6470153426592375}. Best is trial 8 with value: 0.5906949135347229.\n"
     ]
    },
    {
     "name": "stdout",
     "output_type": "stream",
     "text": [
      "Training until validation scores don't improve for 50 rounds\n",
      "[100]\tvalid_0's rmse: 0.601932\n",
      "[200]\tvalid_0's rmse: 0.599645\n",
      "Early stopping, best iteration is:\n",
      "[162]\tvalid_0's rmse: 0.598557\n"
     ]
    },
    {
     "name": "stderr",
     "output_type": "stream",
     "text": [
      "[I 2025-06-24 23:06:21,831] Trial 35 finished with value: 0.598556503981893 and parameters: {'learning_rate': 0.07094342472547008, 'num_leaves': 51, 'min_data_in_leaf': 16, 'lambda_l1': 4.214952022470624, 'lambda_l2': 2.416745599268501}. Best is trial 8 with value: 0.5906949135347229.\n"
     ]
    },
    {
     "name": "stdout",
     "output_type": "stream",
     "text": [
      "Training until validation scores don't improve for 50 rounds\n",
      "[100]\tvalid_0's rmse: 0.646139\n",
      "[200]\tvalid_0's rmse: 0.604505\n",
      "[300]\tvalid_0's rmse: 0.595069\n",
      "Early stopping, best iteration is:\n",
      "[348]\tvalid_0's rmse: 0.593096\n"
     ]
    },
    {
     "name": "stderr",
     "output_type": "stream",
     "text": [
      "[I 2025-06-24 23:09:10,846] Trial 36 finished with value: 0.5930960886273222 and parameters: {'learning_rate': 0.027987514922315486, 'num_leaves': 234, 'min_data_in_leaf': 25, 'lambda_l1': 2.117139846629142, 'lambda_l2': 3.6856255994415985}. Best is trial 8 with value: 0.5906949135347229.\n"
     ]
    },
    {
     "name": "stdout",
     "output_type": "stream",
     "text": [
      "Training until validation scores don't improve for 50 rounds\n",
      "[100]\tvalid_0's rmse: 0.607631\n",
      "[200]\tvalid_0's rmse: 0.596285\n",
      "[300]\tvalid_0's rmse: 0.596168\n",
      "Early stopping, best iteration is:\n",
      "[266]\tvalid_0's rmse: 0.594598\n"
     ]
    },
    {
     "name": "stderr",
     "output_type": "stream",
     "text": [
      "[I 2025-06-24 23:10:52,006] Trial 37 finished with value: 0.5945977503519002 and parameters: {'learning_rate': 0.04536164666430678, 'num_leaves': 145, 'min_data_in_leaf': 14, 'lambda_l1': 1.3062968626733547, 'lambda_l2': 3.2899687891687845}. Best is trial 8 with value: 0.5906949135347229.\n"
     ]
    },
    {
     "name": "stdout",
     "output_type": "stream",
     "text": [
      "Training until validation scores don't improve for 50 rounds\n",
      "Early stopping, best iteration is:\n",
      "[32]\tvalid_0's rmse: 0.622782\n"
     ]
    },
    {
     "name": "stderr",
     "output_type": "stream",
     "text": [
      "[I 2025-06-24 23:11:18,519] Trial 38 finished with value: 0.6227820489084822 and parameters: {'learning_rate': 0.2676140985581069, 'num_leaves': 103, 'min_data_in_leaf': 39, 'lambda_l1': 3.7196129516164045, 'lambda_l2': 4.248446717708622}. Best is trial 8 with value: 0.5906949135347229.\n"
     ]
    },
    {
     "name": "stdout",
     "output_type": "stream",
     "text": [
      "Training until validation scores don't improve for 50 rounds\n",
      "[100]\tvalid_0's rmse: 0.628793\n",
      "[200]\tvalid_0's rmse: 0.614923\n",
      "[300]\tvalid_0's rmse: 0.612192\n",
      "Early stopping, best iteration is:\n",
      "[284]\tvalid_0's rmse: 0.611631\n"
     ]
    },
    {
     "name": "stderr",
     "output_type": "stream",
     "text": [
      "[I 2025-06-24 23:12:28,608] Trial 39 finished with value: 0.6116314056166836 and parameters: {'learning_rate': 0.07822244793851887, 'num_leaves': 25, 'min_data_in_leaf': 47, 'lambda_l1': 4.6914645991204535, 'lambda_l2': 3.946604626447086}. Best is trial 8 with value: 0.5906949135347229.\n"
     ]
    },
    {
     "name": "stdout",
     "output_type": "stream",
     "text": [
      "Training until validation scores don't improve for 50 rounds\n",
      "[100]\tvalid_0's rmse: 0.613652\n",
      "Early stopping, best iteration is:\n",
      "[101]\tvalid_0's rmse: 0.613227\n"
     ]
    },
    {
     "name": "stderr",
     "output_type": "stream",
     "text": [
      "[I 2025-06-24 23:13:12,234] Trial 40 finished with value: 0.6132271481383303 and parameters: {'learning_rate': 0.1743601986847102, 'num_leaves': 90, 'min_data_in_leaf': 30, 'lambda_l1': 1.5735275645164193, 'lambda_l2': 1.7214235658437462}. Best is trial 8 with value: 0.5906949135347229.\n"
     ]
    },
    {
     "name": "stdout",
     "output_type": "stream",
     "text": [
      "Training until validation scores don't improve for 50 rounds\n",
      "[100]\tvalid_0's rmse: 0.683932\n",
      "[200]\tvalid_0's rmse: 0.616327\n",
      "[300]\tvalid_0's rmse: 0.605671\n",
      "[400]\tvalid_0's rmse: 0.600073\n",
      "[500]\tvalid_0's rmse: 0.597752\n",
      "Early stopping, best iteration is:\n",
      "[534]\tvalid_0's rmse: 0.59685\n"
     ]
    },
    {
     "name": "stderr",
     "output_type": "stream",
     "text": [
      "[I 2025-06-24 23:17:21,731] Trial 41 finished with value: 0.5968496006581795 and parameters: {'learning_rate': 0.022313496871357533, 'num_leaves': 243, 'min_data_in_leaf': 21, 'lambda_l1': 1.0243612752642492, 'lambda_l2': 3.6120154425431332}. Best is trial 8 with value: 0.5906949135347229.\n"
     ]
    },
    {
     "name": "stdout",
     "output_type": "stream",
     "text": [
      "Training until validation scores don't improve for 50 rounds\n",
      "[100]\tvalid_0's rmse: 0.612762\n",
      "[200]\tvalid_0's rmse: 0.593749\n",
      "Early stopping, best iteration is:\n",
      "[246]\tvalid_0's rmse: 0.590268\n"
     ]
    },
    {
     "name": "stderr",
     "output_type": "stream",
     "text": [
      "[I 2025-06-24 23:19:17,845] Trial 42 finished with value: 0.5902676727099929 and parameters: {'learning_rate': 0.04139511287713252, 'num_leaves': 197, 'min_data_in_leaf': 25, 'lambda_l1': 2.1394729782629565, 'lambda_l2': 4.709963551310892}. Best is trial 42 with value: 0.5902676727099929.\n"
     ]
    },
    {
     "name": "stdout",
     "output_type": "stream",
     "text": [
      "Training until validation scores don't improve for 50 rounds\n",
      "[100]\tvalid_0's rmse: 0.673963\n",
      "[200]\tvalid_0's rmse: 0.639543\n",
      "[300]\tvalid_0's rmse: 0.630422\n",
      "[400]\tvalid_0's rmse: 0.624852\n",
      "[500]\tvalid_0's rmse: 0.622092\n",
      "[600]\tvalid_0's rmse: 0.621479\n",
      "[700]\tvalid_0's rmse: 0.620117\n",
      "Early stopping, best iteration is:\n",
      "[684]\tvalid_0's rmse: 0.619869\n"
     ]
    },
    {
     "name": "stderr",
     "output_type": "stream",
     "text": [
      "[I 2025-06-24 23:26:18,160] Trial 43 finished with value: 0.6198694700397799 and parameters: {'learning_rate': 0.041981715462575425, 'num_leaves': 193, 'min_data_in_leaf': 83, 'lambda_l1': 2.828241376703094, 'lambda_l2': 4.648463783352099}. Best is trial 42 with value: 0.5902676727099929.\n"
     ]
    },
    {
     "name": "stdout",
     "output_type": "stream",
     "text": [
      "Training until validation scores don't improve for 50 rounds\n",
      "[100]\tvalid_0's rmse: 0.608841\n",
      "[200]\tvalid_0's rmse: 0.597803\n",
      "Early stopping, best iteration is:\n",
      "[226]\tvalid_0's rmse: 0.597466\n"
     ]
    },
    {
     "name": "stderr",
     "output_type": "stream",
     "text": [
      "[I 2025-06-24 23:27:51,598] Trial 44 finished with value: 0.597466434344476 and parameters: {'learning_rate': 0.06221057657587736, 'num_leaves': 134, 'min_data_in_leaf': 30, 'lambda_l1': 0.33528173363759706, 'lambda_l2': 4.884438661704392}. Best is trial 42 with value: 0.5902676727099929.\n"
     ]
    },
    {
     "name": "stdout",
     "output_type": "stream",
     "text": [
      "Training until validation scores don't improve for 50 rounds\n",
      "[100]\tvalid_0's rmse: 0.601387\n",
      "Early stopping, best iteration is:\n",
      "[148]\tvalid_0's rmse: 0.599296\n"
     ]
    },
    {
     "name": "stderr",
     "output_type": "stream",
     "text": [
      "[I 2025-06-24 23:29:03,336] Trial 45 finished with value: 0.5992959266302125 and parameters: {'learning_rate': 0.1046743378164566, 'num_leaves': 208, 'min_data_in_leaf': 15, 'lambda_l1': 4.061534586400574, 'lambda_l2': 4.727719897400256}. Best is trial 42 with value: 0.5902676727099929.\n"
     ]
    },
    {
     "name": "stdout",
     "output_type": "stream",
     "text": [
      "Training until validation scores don't improve for 50 rounds\n",
      "[100]\tvalid_0's rmse: 0.61437\n",
      "[200]\tvalid_0's rmse: 0.59552\n",
      "[300]\tvalid_0's rmse: 0.594732\n",
      "Early stopping, best iteration is:\n",
      "[271]\tvalid_0's rmse: 0.594274\n"
     ]
    },
    {
     "name": "stderr",
     "output_type": "stream",
     "text": [
      "[I 2025-06-24 23:30:40,605] Trial 46 finished with value: 0.5942739770284756 and parameters: {'learning_rate': 0.04514307965685858, 'num_leaves': 119, 'min_data_in_leaf': 22, 'lambda_l1': 3.1266200233482557, 'lambda_l2': 4.368307094708371}. Best is trial 42 with value: 0.5902676727099929.\n"
     ]
    },
    {
     "name": "stdout",
     "output_type": "stream",
     "text": [
      "Training until validation scores don't improve for 50 rounds\n",
      "[100]\tvalid_0's rmse: 0.759783\n",
      "[200]\tvalid_0's rmse: 0.643471\n",
      "[300]\tvalid_0's rmse: 0.617491\n",
      "[400]\tvalid_0's rmse: 0.608317\n",
      "[500]\tvalid_0's rmse: 0.602482\n",
      "[600]\tvalid_0's rmse: 0.600474\n",
      "[700]\tvalid_0's rmse: 0.599187\n",
      "[800]\tvalid_0's rmse: 0.599453\n",
      "Early stopping, best iteration is:\n",
      "[770]\tvalid_0's rmse: 0.598937\n"
     ]
    },
    {
     "name": "stderr",
     "output_type": "stream",
     "text": [
      "[I 2025-06-24 23:36:17,319] Trial 47 finished with value: 0.5989370395437653 and parameters: {'learning_rate': 0.016719585743084076, 'num_leaves': 175, 'min_data_in_leaf': 34, 'lambda_l1': 4.758888591911505, 'lambda_l2': 3.975351286703072}. Best is trial 42 with value: 0.5902676727099929.\n"
     ]
    },
    {
     "name": "stdout",
     "output_type": "stream",
     "text": [
      "Training until validation scores don't improve for 50 rounds\n",
      "[100]\tvalid_0's rmse: 0.62478\n",
      "Early stopping, best iteration is:\n",
      "[51]\tvalid_0's rmse: 0.620968\n"
     ]
    },
    {
     "name": "stderr",
     "output_type": "stream",
     "text": [
      "[I 2025-06-24 23:37:00,376] Trial 48 finished with value: 0.620967646388639 and parameters: {'learning_rate': 0.2990312423199424, 'num_leaves': 158, 'min_data_in_leaf': 52, 'lambda_l1': 2.051973478169594, 'lambda_l2': 4.110829385767673}. Best is trial 42 with value: 0.5902676727099929.\n"
     ]
    },
    {
     "name": "stdout",
     "output_type": "stream",
     "text": [
      "Training until validation scores don't improve for 50 rounds\n",
      "[100]\tvalid_0's rmse: 0.637381\n",
      "[200]\tvalid_0's rmse: 0.602163\n",
      "[300]\tvalid_0's rmse: 0.597431\n",
      "[400]\tvalid_0's rmse: 0.59692\n",
      "Early stopping, best iteration is:\n",
      "[367]\tvalid_0's rmse: 0.596738\n"
     ]
    },
    {
     "name": "stderr",
     "output_type": "stream",
     "text": [
      "[I 2025-06-24 23:38:48,348] Trial 49 finished with value: 0.5967382271785875 and parameters: {'learning_rate': 0.03358090448054765, 'num_leaves': 80, 'min_data_in_leaf': 13, 'lambda_l1': 2.4116917607888793, 'lambda_l2': 4.859607837019257}. Best is trial 42 with value: 0.5902676727099929.\n"
     ]
    },
    {
     "name": "stdout",
     "output_type": "stream",
     "text": [
      "\n",
      "🎯 Mejores hiperparámetros encontrados:\n",
      "{'learning_rate': 0.04139511287713252, 'num_leaves': 197, 'min_data_in_leaf': 25, 'lambda_l1': 2.1394729782629565, 'lambda_l2': 4.709963551310892}\n"
     ]
    }
   ],
   "source": [
    "import lightgbm as lgb\n",
    "import optuna\n",
    "import pandas as pd\n",
    "import numpy as np\n",
    "from sklearn.model_selection import train_test_split\n",
    "from sklearn.metrics import mean_squared_error\n",
    "from sklearn.preprocessing import LabelEncoder\n",
    "\n",
    "# 1. Cargar dataset\n",
    "df = pd.read_csv(r\"C:\\Users\\waldo\\Dropbox\\Maestría Ciencia de Datos\\Labo 3\\Proceso\\datasetwg_features.csv\")\n",
    "\n",
    "# 2. Renombrar columnas para evitar caracteres especiales\n",
    "df.columns = [col.replace(\"(\", \"_\").replace(\")\", \"\").replace(\",\", \"_\").replace(\" \", \"_\") for col in df.columns]\n",
    "\n",
    "# 3. Label Encoding para columnas categóricas\n",
    "for col in df.select_dtypes(include=\"object\").columns:\n",
    "    df[col] = LabelEncoder().fit_transform(df[col].astype(str))\n",
    "\n",
    "# 4. Separar X e y\n",
    "X = df.drop(columns=[\"tn\"])\n",
    "y = df[\"tn\"]\n",
    "\n",
    "# 5. Split train / valid\n",
    "X_train, X_valid, y_train, y_valid = train_test_split(X, y, test_size=0.3, random_state=42)\n",
    "\n",
    "# 6. Crear datasets de LightGBM\n",
    "train_data = lgb.Dataset(X_train, label=y_train)\n",
    "valid_data = lgb.Dataset(X_valid, label=y_valid)\n",
    "\n",
    "# 7. Definir función objetivo\n",
    "def objective(trial):\n",
    "    params = {\n",
    "        \"objective\": \"regression\",\n",
    "        \"metric\": \"rmse\",\n",
    "        \"verbosity\": -1,\n",
    "        \"boosting_type\": \"gbdt\",\n",
    "        \"feature_pre_filter\": False,\n",
    "        \"learning_rate\": trial.suggest_float(\"learning_rate\", 0.01, 0.3),\n",
    "        \"num_leaves\": trial.suggest_int(\"num_leaves\", 16, 256),\n",
    "        \"min_data_in_leaf\": trial.suggest_int(\"min_data_in_leaf\", 10, 100),\n",
    "        \"lambda_l1\": trial.suggest_float(\"lambda_l1\", 0.0, 5.0),\n",
    "        \"lambda_l2\": trial.suggest_float(\"lambda_l2\", 0.0, 5.0)\n",
    "    }\n",
    "\n",
    "    model = lgb.train(\n",
    "        params,\n",
    "        train_data,\n",
    "        valid_sets=[valid_data],\n",
    "        num_boost_round=1000,\n",
    "        callbacks=[\n",
    "            lgb.early_stopping(50),\n",
    "            lgb.log_evaluation(100)\n",
    "        ]\n",
    "    )\n",
    "\n",
    "    preds = model.predict(X_valid)\n",
    "    rmse = np.sqrt(mean_squared_error(y_valid, preds))\n",
    "    return rmse\n",
    "\n",
    "# 8. Crear y ejecutar estudio Optuna\n",
    "storage = \"sqlite:///optuna_lgbm_study.db\"\n",
    "study = optuna.create_study(direction=\"minimize\", study_name=\"optuna_tn_studyw7\", storage=storage, load_if_exists=True)\n",
    "study.optimize(objective, n_trials=50)\n",
    "\n",
    "# 9. Mostrar mejores hiperparámetros\n",
    "print(\"\\n🎯 Mejores hiperparámetros encontrados:\")\n",
    "print(study.best_params)\n"
   ]
  }
 ],
 "metadata": {
  "kernelspec": {
   "display_name": "lgbmgpu",
   "language": "python",
   "name": "python3"
  },
  "language_info": {
   "codemirror_mode": {
    "name": "ipython",
    "version": 3
   },
   "file_extension": ".py",
   "mimetype": "text/x-python",
   "name": "python",
   "nbconvert_exporter": "python",
   "pygments_lexer": "ipython3",
   "version": "3.10.16"
  }
 },
 "nbformat": 4,
 "nbformat_minor": 5
}
