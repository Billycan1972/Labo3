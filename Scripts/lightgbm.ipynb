{
 "cells": [
  {
   "cell_type": "code",
   "execution_count": 2,
   "id": "7aa988f1",
   "metadata": {},
   "outputs": [
    {
     "data": {
      "text/plain": [
       "(9460980, 43)"
      ]
     },
     "execution_count": 2,
     "metadata": {},
     "output_type": "execute_result"
    }
   ],
   "source": [
    "import pandas as pd\n",
    "df=pd.read_csv(\"datasetwg.csv\")\n",
    "df.shape"
   ]
  },
  {
   "cell_type": "code",
   "execution_count": 3,
   "id": "3b1d3145",
   "metadata": {},
   "outputs": [
    {
     "name": "stderr",
     "output_type": "stream",
     "text": [
      "/home/waldo/miniconda3/envs/lightgbm_env/lib/python3.10/site-packages/lightgbm/basic.py:18: UserWarning: A NumPy version >=1.22.4 and <1.29.0 is required for this version of SciPy (detected version 1.22.3)\n",
      "  import scipy.sparse\n"
     ]
    },
    {
     "name": "stdout",
     "output_type": "stream",
     "text": [
      "[LightGBM] [Warning] min_data_in_leaf is set=43, min_child_samples=20 will be ignored. Current value: min_data_in_leaf=43\n",
      "📊 MAE en diciembre 2019: 8.40573661494098\n",
      "✅ Predicción de febrero 2020 guardada en prediccion_feb2020_lightgbm.csv\n"
     ]
    }
   ],
   "source": [
    "# 💾 Script LightGBM para predecir tn en febrero 2020\n",
    "\n",
    "import pandas as pd\n",
    "import numpy as np\n",
    "import lightgbm as lgb\n",
    "from sklearn.metrics import mean_absolute_error\n",
    "\n",
    "# 1. Cargar datos\n",
    "df = pd.read_csv(\"datasetwg.csv\")\n",
    "df['periodo'] = pd.to_datetime(df['periodo'])\n",
    "\n",
    "# 2. Agregar ventas por producto y mes\n",
    "df_prod = df.groupby(['product_id', 'periodo'])['tn'].sum().reset_index()\n",
    "\n",
    "# 3. Crear lags\n",
    "def crear_lags(df, lags=[1, 2, 3]):\n",
    "    df_lags = df.copy()\n",
    "    for lag in lags:\n",
    "        df_lags[f'lag_{lag}'] = df_lags.groupby('product_id')['tn'].shift(lag)\n",
    "    return df_lags\n",
    "\n",
    "df_lags = crear_lags(df_prod)\n",
    "\n",
    "# 4. Agregar variable mes\n",
    "df_lags['mes'] = df_lags['periodo'].dt.month\n",
    "\n",
    "# 5. Eliminar filas con NaN por los lags\n",
    "df_train = df_lags.dropna()\n",
    "\n",
    "# 6. Separar features y target\n",
    "features = ['lag_1', 'lag_2', 'lag_3', 'mes']\n",
    "target = 'tn'\n",
    "\n",
    "# 7. Separar train y validación\n",
    "train_data = df_train[df_train['periodo'] < '2019-12-01']\n",
    "val_data = df_train[df_train['periodo'] == '2019-12-01']\n",
    "\n",
    "X_train = train_data[features]\n",
    "y_train = train_data[target]\n",
    "X_val = val_data[features]\n",
    "y_val = val_data[target]\n",
    "\n",
    "# 8. Hiperparámetros de Optuna\n",
    "mejores_params = {\n",
    "    'n_estimators': 480,\n",
    "    'learning_rate': 0.03970088518771,\n",
    "    'max_depth': 7,\n",
    "    'num_leaves': 119,\n",
    "    'subsample': 0.9,\n",
    "    'colsample_bytree': 0.75,\n",
    "    'random_state': 42,\n",
    "    'min_data_in_leaf': 43,\n",
    "    'reg_alpha': 1.3007611422443943,  # lambda_l1\n",
    "    'reg_lambda': 3.395240691772275   # lambda_l2\n",
    "}\n",
    "\n",
    "modelo = lgb.LGBMRegressor(**mejores_params)\n",
    "modelo.fit(X_train, y_train)\n",
    "\n",
    "# 9. Validación\n",
    "y_pred_val = modelo.predict(X_val)\n",
    "print(\"📊 MAE en diciembre 2019:\", mean_absolute_error(y_val, y_pred_val))\n",
    "\n",
    "# 10. Predicción enero 2020\n",
    "enero_df = df_prod[df_prod['periodo'] == '2019-12-01'].copy()\n",
    "enero_df['periodo'] = pd.to_datetime('2020-01-01')\n",
    "enero_df['lag_1'] = df_prod[df_prod['periodo'] == '2019-12-01']['tn'].values\n",
    "enero_df['lag_2'] = df_prod[df_prod['periodo'] == '2019-11-01']['tn'].values\n",
    "enero_df['lag_3'] = df_prod[df_prod['periodo'] == '2019-10-01']['tn'].values\n",
    "enero_df['mes'] = 1\n",
    "enero_df['tn'] = modelo.predict(enero_df[features])\n",
    "\n",
    "# 11. Predicción febrero 2020\n",
    "feb_df = pd.DataFrame()\n",
    "feb_df['product_id'] = enero_df['product_id']\n",
    "feb_df['periodo'] = pd.to_datetime('2020-02-01')\n",
    "feb_df['lag_1'] = enero_df['tn']  # predicción enero\n",
    "feb_df['lag_2'] = df_prod[df_prod['periodo'] == '2019-12-01']['tn'].values\n",
    "feb_df['lag_3'] = df_prod[df_prod['periodo'] == '2019-11-01']['tn'].values\n",
    "feb_df['mes'] = 2\n",
    "feb_df['tn_predicho'] = modelo.predict(feb_df[features])\n",
    "\n",
    "# 12. Exportar resultados\n",
    "resultado = feb_df[['product_id', 'tn_predicho']]\n",
    "resultado.to_csv(\"prediccion_feb2020_lightgbm.csv\", index=False)\n",
    "print(\"✅ Predicción de febrero 2020 guardada en prediccion_feb2020_lightgbm.csv\")\n"
   ]
  }
 ],
 "metadata": {
  "kernelspec": {
   "display_name": "lightgbm_env",
   "language": "python",
   "name": "python3"
  },
  "language_info": {
   "codemirror_mode": {
    "name": "ipython",
    "version": 3
   },
   "file_extension": ".py",
   "mimetype": "text/x-python",
   "name": "python",
   "nbconvert_exporter": "python",
   "pygments_lexer": "ipython3",
   "version": "3.10.18"
  }
 },
 "nbformat": 4,
 "nbformat_minor": 5
}
