{
 "cells": [
  {
   "cell_type": "markdown",
   "metadata": {},
   "source": [
    "<a id = \"1.0\"></a>\n",
    "<p style=\"font-size:25px;color:#34656d;font-family:'Comic Sans MS';text-align:center;border-radius:5px 5px;\">\n",
    "<strong>\n",
    "D-Tale\n",
    "</strong></p> "
   ]
  },
  {
   "cell_type": "code",
   "execution_count": 1,
   "metadata": {},
   "outputs": [],
   "source": [
    "import warnings\n",
    "warnings.filterwarnings(\"ignore\")"
   ]
  },
  {
   "cell_type": "code",
   "execution_count": 2,
   "metadata": {},
   "outputs": [],
   "source": [
    "import dtale"
   ]
  },
  {
   "cell_type": "code",
   "execution_count": 3,
   "metadata": {},
   "outputs": [],
   "source": [
    "import pandas as pd"
   ]
  },
  {
   "cell_type": "code",
   "execution_count": 4,
   "metadata": {},
   "outputs": [],
   "source": [
    "df = pd.read_csv('dataset_completo_con_features.csv')"
   ]
  },
  {
   "cell_type": "code",
   "execution_count": 5,
   "metadata": {},
   "outputs": [
    {
     "data": {
      "application/vnd.microsoft.datawrangler.viewer.v0+json": {
       "columns": [
        {
         "name": "index",
         "rawType": "int64",
         "type": "integer"
        },
        {
         "name": "customer_id",
         "rawType": "int64",
         "type": "integer"
        },
        {
         "name": "product_id",
         "rawType": "int64",
         "type": "integer"
        },
        {
         "name": "periodo",
         "rawType": "object",
         "type": "string"
        },
        {
         "name": "plan_precios_cuidados",
         "rawType": "float64",
         "type": "float"
        },
        {
         "name": "cust_request_qty",
         "rawType": "float64",
         "type": "float"
        },
        {
         "name": "cust_request_tn",
         "rawType": "float64",
         "type": "float"
        },
        {
         "name": "tn",
         "rawType": "float64",
         "type": "float"
        },
        {
         "name": "stock_final",
         "rawType": "float64",
         "type": "float"
        },
        {
         "name": "cat1",
         "rawType": "object",
         "type": "string"
        },
        {
         "name": "cat2",
         "rawType": "object",
         "type": "string"
        },
        {
         "name": "cat3",
         "rawType": "object",
         "type": "string"
        },
        {
         "name": "brand",
         "rawType": "object",
         "type": "string"
        },
        {
         "name": "sku_size",
         "rawType": "int64",
         "type": "integer"
        },
        {
         "name": "venta_id",
         "rawType": "int64",
         "type": "integer"
        },
        {
         "name": "DIFF(cust_request_qty)",
         "rawType": "float64",
         "type": "float"
        },
        {
         "name": "DIFF(cust_request_tn)",
         "rawType": "float64",
         "type": "float"
        },
        {
         "name": "DIFF(plan_precios_cuidados)",
         "rawType": "float64",
         "type": "float"
        },
        {
         "name": "DIFF(sku_size)",
         "rawType": "float64",
         "type": "float"
        },
        {
         "name": "DIFF(stock_final)",
         "rawType": "float64",
         "type": "float"
        },
        {
         "name": "DIFF(tn)",
         "rawType": "float64",
         "type": "float"
        },
        {
         "name": "LAG(brand, periodo)",
         "rawType": "object",
         "type": "unknown"
        },
        {
         "name": "LAG(cat1, periodo)",
         "rawType": "object",
         "type": "unknown"
        },
        {
         "name": "LAG(cat2, periodo)",
         "rawType": "object",
         "type": "unknown"
        },
        {
         "name": "LAG(cat3, periodo)",
         "rawType": "object",
         "type": "unknown"
        },
        {
         "name": "LAG(cust_request_qty, periodo)",
         "rawType": "float64",
         "type": "float"
        },
        {
         "name": "LAG(cust_request_tn, periodo)",
         "rawType": "float64",
         "type": "float"
        },
        {
         "name": "LAG(plan_precios_cuidados, periodo)",
         "rawType": "float64",
         "type": "float"
        },
        {
         "name": "LAG(sku_size, periodo)",
         "rawType": "float64",
         "type": "float"
        },
        {
         "name": "LAG(stock_final, periodo)",
         "rawType": "float64",
         "type": "float"
        },
        {
         "name": "LAG(tn, periodo)",
         "rawType": "float64",
         "type": "float"
        },
        {
         "name": "MONTH(periodo)",
         "rawType": "int64",
         "type": "integer"
        },
        {
         "name": "ROLLING_MEAN(periodo, cust_request_qty)",
         "rawType": "float64",
         "type": "float"
        },
        {
         "name": "ROLLING_MEAN(periodo, cust_request_tn)",
         "rawType": "float64",
         "type": "float"
        },
        {
         "name": "ROLLING_MEAN(periodo, plan_precios_cuidados)",
         "rawType": "float64",
         "type": "float"
        },
        {
         "name": "ROLLING_MEAN(periodo, sku_size)",
         "rawType": "float64",
         "type": "float"
        },
        {
         "name": "ROLLING_MEAN(periodo, stock_final)",
         "rawType": "float64",
         "type": "float"
        },
        {
         "name": "ROLLING_MEAN(periodo, tn)",
         "rawType": "float64",
         "type": "float"
        },
        {
         "name": "tn_lag_1",
         "rawType": "float64",
         "type": "float"
        },
        {
         "name": "tn_lag_2",
         "rawType": "float64",
         "type": "float"
        },
        {
         "name": "tn_lag_3",
         "rawType": "float64",
         "type": "float"
        },
        {
         "name": "tn_lag_4",
         "rawType": "float64",
         "type": "float"
        },
        {
         "name": "tn_lag_5",
         "rawType": "float64",
         "type": "float"
        },
        {
         "name": "tn_delta",
         "rawType": "float64",
         "type": "float"
        }
       ],
       "ref": "fbbd947c-ebef-45e1-a506-1416398b5a16",
       "rows": [
        [
         "0",
         "10001",
         "20001",
         "2017-01-01",
         "0.0",
         "11.0",
         "99.43861",
         "99.43861",
         "0.0",
         "HC",
         "ROPA LAVADO",
         "Liquido",
         "ARIEL",
         "3000",
         "0",
         null,
         null,
         null,
         null,
         null,
         null,
         null,
         null,
         null,
         null,
         null,
         null,
         null,
         null,
         null,
         null,
         "1",
         null,
         null,
         null,
         null,
         null,
         null,
         null,
         null,
         null,
         null,
         null,
         null
        ],
        [
         "1",
         "10001",
         "20002",
         "2017-01-01",
         "0.0",
         "17.0",
         "90.13504",
         "87.64856",
         "0.0",
         "HC",
         "ROPA LAVADO",
         "Liquido",
         "LIMPIEX",
         "3000",
         "36",
         "6.0",
         "-9.303569999999992",
         "0.0",
         "0.0",
         "0.0",
         "-11.790049999999994",
         "ARIEL",
         "HC",
         "ROPA LAVADO",
         "Liquido",
         "11.0",
         "99.43861",
         "0.0",
         "3000.0",
         "0.0",
         "99.43861",
         "1",
         "11.0",
         "99.43861",
         "0.0",
         "3000.0",
         "0.0",
         "99.43861",
         "99.43861",
         null,
         null,
         null,
         null,
         "-11.790049999999994"
        ],
        [
         "2",
         "10001",
         "20003",
         "2017-01-01",
         "0.0",
         "25.0",
         "100.21284",
         "100.21284",
         "0.0",
         "FOODS",
         "ADEREZOS",
         "Mayonesa",
         "NATURA",
         "475",
         "72",
         "8.0",
         "10.077799999999996",
         "0.0",
         "-2525.0",
         "0.0",
         "12.564279999999997",
         "LIMPIEX",
         "HC",
         "ROPA LAVADO",
         "Liquido",
         "17.0",
         "90.13504",
         "0.0",
         "3000.0",
         "0.0",
         "87.64856",
         "1",
         "14.0",
         "94.786825",
         "0.0",
         "3000.0",
         "0.0",
         "93.543585",
         "87.64856",
         "99.43861",
         null,
         null,
         null,
         "12.564279999999997"
        ],
        [
         "3",
         "10001",
         "20004",
         "2017-01-01",
         "0.0",
         "13.0",
         "21.73954",
         "21.73954",
         "0.0",
         "FOODS",
         "ADEREZOS",
         "Mayonesa",
         "NATURA",
         "240",
         "108",
         "-12.0",
         "-78.4733",
         "0.0",
         "-235.0",
         "0.0",
         "-78.4733",
         "NATURA",
         "FOODS",
         "ADEREZOS",
         "Mayonesa",
         "25.0",
         "100.21284",
         "0.0",
         "475.0",
         "0.0",
         "100.21284",
         "1",
         "17.666666666666668",
         "96.59549666666663",
         "0.0",
         "2158.333333333333",
         "0.0",
         "95.76667000000002",
         "100.21284",
         "87.64856",
         "99.43861",
         null,
         null,
         "-78.4733"
        ],
        [
         "4",
         "10001",
         "20005",
         "2017-01-01",
         "0.0",
         "0.0",
         "0.0",
         "0.0",
         "0.0",
         "FOODS",
         "ADEREZOS",
         "Mayonesa",
         "NATURA",
         "120",
         "144",
         "-13.0",
         "-21.73954",
         "0.0",
         "-120.0",
         "0.0",
         "-21.73954",
         "NATURA",
         "FOODS",
         "ADEREZOS",
         "Mayonesa",
         "13.0",
         "21.73954",
         "0.0",
         "240.0",
         "0.0",
         "21.73954",
         "1",
         "18.33333333333333",
         "70.69580666666667",
         "0.0",
         "1238.3333333333333",
         "0.0",
         "69.86698",
         "21.73954",
         "100.21284",
         "87.64856",
         "99.43861",
         null,
         "-21.73954"
        ]
       ],
       "shape": {
        "columns": 43,
        "rows": 5
       }
      },
      "text/html": [
       "<div>\n",
       "<style scoped>\n",
       "    .dataframe tbody tr th:only-of-type {\n",
       "        vertical-align: middle;\n",
       "    }\n",
       "\n",
       "    .dataframe tbody tr th {\n",
       "        vertical-align: top;\n",
       "    }\n",
       "\n",
       "    .dataframe thead th {\n",
       "        text-align: right;\n",
       "    }\n",
       "</style>\n",
       "<table border=\"1\" class=\"dataframe\">\n",
       "  <thead>\n",
       "    <tr style=\"text-align: right;\">\n",
       "      <th></th>\n",
       "      <th>customer_id</th>\n",
       "      <th>product_id</th>\n",
       "      <th>periodo</th>\n",
       "      <th>plan_precios_cuidados</th>\n",
       "      <th>cust_request_qty</th>\n",
       "      <th>cust_request_tn</th>\n",
       "      <th>tn</th>\n",
       "      <th>stock_final</th>\n",
       "      <th>cat1</th>\n",
       "      <th>cat2</th>\n",
       "      <th>...</th>\n",
       "      <th>ROLLING_MEAN(periodo, plan_precios_cuidados)</th>\n",
       "      <th>ROLLING_MEAN(periodo, sku_size)</th>\n",
       "      <th>ROLLING_MEAN(periodo, stock_final)</th>\n",
       "      <th>ROLLING_MEAN(periodo, tn)</th>\n",
       "      <th>tn_lag_1</th>\n",
       "      <th>tn_lag_2</th>\n",
       "      <th>tn_lag_3</th>\n",
       "      <th>tn_lag_4</th>\n",
       "      <th>tn_lag_5</th>\n",
       "      <th>tn_delta</th>\n",
       "    </tr>\n",
       "  </thead>\n",
       "  <tbody>\n",
       "    <tr>\n",
       "      <th>0</th>\n",
       "      <td>10001</td>\n",
       "      <td>20001</td>\n",
       "      <td>2017-01-01</td>\n",
       "      <td>0.0</td>\n",
       "      <td>11.0</td>\n",
       "      <td>99.43861</td>\n",
       "      <td>99.43861</td>\n",
       "      <td>0.0</td>\n",
       "      <td>HC</td>\n",
       "      <td>ROPA LAVADO</td>\n",
       "      <td>...</td>\n",
       "      <td>NaN</td>\n",
       "      <td>NaN</td>\n",
       "      <td>NaN</td>\n",
       "      <td>NaN</td>\n",
       "      <td>NaN</td>\n",
       "      <td>NaN</td>\n",
       "      <td>NaN</td>\n",
       "      <td>NaN</td>\n",
       "      <td>NaN</td>\n",
       "      <td>NaN</td>\n",
       "    </tr>\n",
       "    <tr>\n",
       "      <th>1</th>\n",
       "      <td>10001</td>\n",
       "      <td>20002</td>\n",
       "      <td>2017-01-01</td>\n",
       "      <td>0.0</td>\n",
       "      <td>17.0</td>\n",
       "      <td>90.13504</td>\n",
       "      <td>87.64856</td>\n",
       "      <td>0.0</td>\n",
       "      <td>HC</td>\n",
       "      <td>ROPA LAVADO</td>\n",
       "      <td>...</td>\n",
       "      <td>0.0</td>\n",
       "      <td>3000.000000</td>\n",
       "      <td>0.0</td>\n",
       "      <td>99.438610</td>\n",
       "      <td>99.43861</td>\n",
       "      <td>NaN</td>\n",
       "      <td>NaN</td>\n",
       "      <td>NaN</td>\n",
       "      <td>NaN</td>\n",
       "      <td>-11.79005</td>\n",
       "    </tr>\n",
       "    <tr>\n",
       "      <th>2</th>\n",
       "      <td>10001</td>\n",
       "      <td>20003</td>\n",
       "      <td>2017-01-01</td>\n",
       "      <td>0.0</td>\n",
       "      <td>25.0</td>\n",
       "      <td>100.21284</td>\n",
       "      <td>100.21284</td>\n",
       "      <td>0.0</td>\n",
       "      <td>FOODS</td>\n",
       "      <td>ADEREZOS</td>\n",
       "      <td>...</td>\n",
       "      <td>0.0</td>\n",
       "      <td>3000.000000</td>\n",
       "      <td>0.0</td>\n",
       "      <td>93.543585</td>\n",
       "      <td>87.64856</td>\n",
       "      <td>99.43861</td>\n",
       "      <td>NaN</td>\n",
       "      <td>NaN</td>\n",
       "      <td>NaN</td>\n",
       "      <td>12.56428</td>\n",
       "    </tr>\n",
       "    <tr>\n",
       "      <th>3</th>\n",
       "      <td>10001</td>\n",
       "      <td>20004</td>\n",
       "      <td>2017-01-01</td>\n",
       "      <td>0.0</td>\n",
       "      <td>13.0</td>\n",
       "      <td>21.73954</td>\n",
       "      <td>21.73954</td>\n",
       "      <td>0.0</td>\n",
       "      <td>FOODS</td>\n",
       "      <td>ADEREZOS</td>\n",
       "      <td>...</td>\n",
       "      <td>0.0</td>\n",
       "      <td>2158.333333</td>\n",
       "      <td>0.0</td>\n",
       "      <td>95.766670</td>\n",
       "      <td>100.21284</td>\n",
       "      <td>87.64856</td>\n",
       "      <td>99.43861</td>\n",
       "      <td>NaN</td>\n",
       "      <td>NaN</td>\n",
       "      <td>-78.47330</td>\n",
       "    </tr>\n",
       "    <tr>\n",
       "      <th>4</th>\n",
       "      <td>10001</td>\n",
       "      <td>20005</td>\n",
       "      <td>2017-01-01</td>\n",
       "      <td>0.0</td>\n",
       "      <td>0.0</td>\n",
       "      <td>0.00000</td>\n",
       "      <td>0.00000</td>\n",
       "      <td>0.0</td>\n",
       "      <td>FOODS</td>\n",
       "      <td>ADEREZOS</td>\n",
       "      <td>...</td>\n",
       "      <td>0.0</td>\n",
       "      <td>1238.333333</td>\n",
       "      <td>0.0</td>\n",
       "      <td>69.866980</td>\n",
       "      <td>21.73954</td>\n",
       "      <td>100.21284</td>\n",
       "      <td>87.64856</td>\n",
       "      <td>99.43861</td>\n",
       "      <td>NaN</td>\n",
       "      <td>-21.73954</td>\n",
       "    </tr>\n",
       "  </tbody>\n",
       "</table>\n",
       "<p>5 rows × 43 columns</p>\n",
       "</div>"
      ],
      "text/plain": [
       "   customer_id  product_id     periodo  plan_precios_cuidados  \\\n",
       "0        10001       20001  2017-01-01                    0.0   \n",
       "1        10001       20002  2017-01-01                    0.0   \n",
       "2        10001       20003  2017-01-01                    0.0   \n",
       "3        10001       20004  2017-01-01                    0.0   \n",
       "4        10001       20005  2017-01-01                    0.0   \n",
       "\n",
       "   cust_request_qty  cust_request_tn         tn  stock_final   cat1  \\\n",
       "0              11.0         99.43861   99.43861          0.0     HC   \n",
       "1              17.0         90.13504   87.64856          0.0     HC   \n",
       "2              25.0        100.21284  100.21284          0.0  FOODS   \n",
       "3              13.0         21.73954   21.73954          0.0  FOODS   \n",
       "4               0.0          0.00000    0.00000          0.0  FOODS   \n",
       "\n",
       "          cat2  ... ROLLING_MEAN(periodo, plan_precios_cuidados)  \\\n",
       "0  ROPA LAVADO  ...                                          NaN   \n",
       "1  ROPA LAVADO  ...                                          0.0   \n",
       "2     ADEREZOS  ...                                          0.0   \n",
       "3     ADEREZOS  ...                                          0.0   \n",
       "4     ADEREZOS  ...                                          0.0   \n",
       "\n",
       "  ROLLING_MEAN(periodo, sku_size)  ROLLING_MEAN(periodo, stock_final)  \\\n",
       "0                             NaN                                 NaN   \n",
       "1                     3000.000000                                 0.0   \n",
       "2                     3000.000000                                 0.0   \n",
       "3                     2158.333333                                 0.0   \n",
       "4                     1238.333333                                 0.0   \n",
       "\n",
       "   ROLLING_MEAN(periodo, tn)   tn_lag_1   tn_lag_2  tn_lag_3  tn_lag_4  \\\n",
       "0                        NaN        NaN        NaN       NaN       NaN   \n",
       "1                  99.438610   99.43861        NaN       NaN       NaN   \n",
       "2                  93.543585   87.64856   99.43861       NaN       NaN   \n",
       "3                  95.766670  100.21284   87.64856  99.43861       NaN   \n",
       "4                  69.866980   21.73954  100.21284  87.64856  99.43861   \n",
       "\n",
       "   tn_lag_5  tn_delta  \n",
       "0       NaN       NaN  \n",
       "1       NaN -11.79005  \n",
       "2       NaN  12.56428  \n",
       "3       NaN -78.47330  \n",
       "4       NaN -21.73954  \n",
       "\n",
       "[5 rows x 43 columns]"
      ]
     },
     "execution_count": 5,
     "metadata": {},
     "output_type": "execute_result"
    }
   ],
   "source": [
    "df.head()"
   ]
  },
  {
   "cell_type": "code",
   "execution_count": null,
   "metadata": {},
   "outputs": [],
   "source": [
    "#columns = ['Rank']\n",
    "#df.drop(columns, inplace=True, axis=1)"
   ]
  },
  {
   "cell_type": "code",
   "execution_count": 6,
   "metadata": {},
   "outputs": [],
   "source": [
    "d = dtale.show(df)"
   ]
  },
  {
   "cell_type": "code",
   "execution_count": 7,
   "metadata": {},
   "outputs": [],
   "source": [
    "d.open_browser()"
   ]
  },
  {
   "cell_type": "markdown",
   "metadata": {},
   "source": [
    "<a id = \"1.0\"></a>\n",
    "<p style=\"font-size:15px;color:#34656d;font-family:'Comic Sans MS';text-align:center;border-radius:5px 5px;\">\n",
    "<strong>_____________________________________________________________</strong></p> "
   ]
  }
 ],
 "metadata": {
  "kernelspec": {
   "display_name": "dtale",
   "language": "python",
   "name": "python3"
  },
  "language_info": {
   "codemirror_mode": {
    "name": "ipython",
    "version": 3
   },
   "file_extension": ".py",
   "mimetype": "text/x-python",
   "name": "python",
   "nbconvert_exporter": "python",
   "pygments_lexer": "ipython3",
   "version": "3.11.11"
  }
 },
 "nbformat": 4,
 "nbformat_minor": 4
}
