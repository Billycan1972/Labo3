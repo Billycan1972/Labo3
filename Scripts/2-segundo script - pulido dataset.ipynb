{
 "cells": [
  {
   "cell_type": "code",
   "execution_count": 1,
   "id": "37ce3aa3",
   "metadata": {},
   "outputs": [
    {
     "name": "stdout",
     "output_type": "stream",
     "text": [
      "🔢 Shape del DataFrame: (16763760, 13)\n",
      "\n",
      "🧱 Tipos de columnas:\n",
      "customer_id                int64\n",
      "product_id                 int64\n",
      "periodo                   object\n",
      "plan_precios_cuidados    float64\n",
      "cust_request_qty         float64\n",
      "cust_request_tn          float64\n",
      "tn                       float64\n",
      "stock_final              float64\n",
      "cat1                      object\n",
      "cat2                      object\n",
      "cat3                      object\n",
      "brand                     object\n",
      "sku_size                   int64\n",
      "dtype: object\n",
      "\n",
      "🔍 Primeras filas del dataset:\n"
     ]
    },
    {
     "data": {
      "application/vnd.microsoft.datawrangler.viewer.v0+json": {
       "columns": [
        {
         "name": "index",
         "rawType": "int64",
         "type": "integer"
        },
        {
         "name": "customer_id",
         "rawType": "int64",
         "type": "integer"
        },
        {
         "name": "product_id",
         "rawType": "int64",
         "type": "integer"
        },
        {
         "name": "periodo",
         "rawType": "object",
         "type": "string"
        },
        {
         "name": "plan_precios_cuidados",
         "rawType": "float64",
         "type": "float"
        },
        {
         "name": "cust_request_qty",
         "rawType": "float64",
         "type": "float"
        },
        {
         "name": "cust_request_tn",
         "rawType": "float64",
         "type": "float"
        },
        {
         "name": "tn",
         "rawType": "float64",
         "type": "float"
        },
        {
         "name": "stock_final",
         "rawType": "float64",
         "type": "float"
        },
        {
         "name": "cat1",
         "rawType": "object",
         "type": "string"
        },
        {
         "name": "cat2",
         "rawType": "object",
         "type": "string"
        },
        {
         "name": "cat3",
         "rawType": "object",
         "type": "string"
        },
        {
         "name": "brand",
         "rawType": "object",
         "type": "string"
        },
        {
         "name": "sku_size",
         "rawType": "int64",
         "type": "integer"
        }
       ],
       "ref": "1ed959bf-31b9-4e4c-990e-381bd1cdcc40",
       "rows": [
        [
         "0",
         "10001",
         "20001",
         "2017-01-01",
         "0.0",
         "11.0",
         "99.43861",
         "99.43861",
         "0.0",
         "HC",
         "ROPA LAVADO",
         "Liquido",
         "ARIEL",
         "3000"
        ],
        [
         "1",
         "10001",
         "20001",
         "2017-02-01",
         "0.0",
         "23.0",
         "198.84365",
         "198.84365",
         "0.0",
         "HC",
         "ROPA LAVADO",
         "Liquido",
         "ARIEL",
         "3000"
        ],
        [
         "2",
         "10001",
         "20001",
         "2017-03-01",
         "0.0",
         "33.0",
         "92.46537",
         "92.46537",
         "0.0",
         "HC",
         "ROPA LAVADO",
         "Liquido",
         "ARIEL",
         "3000"
        ],
        [
         "3",
         "10001",
         "20001",
         "2017-04-01",
         "0.0",
         "8.0",
         "13.29728",
         "13.29728",
         "0.0",
         "HC",
         "ROPA LAVADO",
         "Liquido",
         "ARIEL",
         "3000"
        ],
        [
         "4",
         "10001",
         "20001",
         "2017-05-01",
         "0.0",
         "15.0",
         "101.20711",
         "101.00563",
         "0.0",
         "HC",
         "ROPA LAVADO",
         "Liquido",
         "ARIEL",
         "3000"
        ]
       ],
       "shape": {
        "columns": 13,
        "rows": 5
       }
      },
      "text/html": [
       "<div>\n",
       "<style scoped>\n",
       "    .dataframe tbody tr th:only-of-type {\n",
       "        vertical-align: middle;\n",
       "    }\n",
       "\n",
       "    .dataframe tbody tr th {\n",
       "        vertical-align: top;\n",
       "    }\n",
       "\n",
       "    .dataframe thead th {\n",
       "        text-align: right;\n",
       "    }\n",
       "</style>\n",
       "<table border=\"1\" class=\"dataframe\">\n",
       "  <thead>\n",
       "    <tr style=\"text-align: right;\">\n",
       "      <th></th>\n",
       "      <th>customer_id</th>\n",
       "      <th>product_id</th>\n",
       "      <th>periodo</th>\n",
       "      <th>plan_precios_cuidados</th>\n",
       "      <th>cust_request_qty</th>\n",
       "      <th>cust_request_tn</th>\n",
       "      <th>tn</th>\n",
       "      <th>stock_final</th>\n",
       "      <th>cat1</th>\n",
       "      <th>cat2</th>\n",
       "      <th>cat3</th>\n",
       "      <th>brand</th>\n",
       "      <th>sku_size</th>\n",
       "    </tr>\n",
       "  </thead>\n",
       "  <tbody>\n",
       "    <tr>\n",
       "      <th>0</th>\n",
       "      <td>10001</td>\n",
       "      <td>20001</td>\n",
       "      <td>2017-01-01</td>\n",
       "      <td>0.0</td>\n",
       "      <td>11.0</td>\n",
       "      <td>99.43861</td>\n",
       "      <td>99.43861</td>\n",
       "      <td>0.0</td>\n",
       "      <td>HC</td>\n",
       "      <td>ROPA LAVADO</td>\n",
       "      <td>Liquido</td>\n",
       "      <td>ARIEL</td>\n",
       "      <td>3000</td>\n",
       "    </tr>\n",
       "    <tr>\n",
       "      <th>1</th>\n",
       "      <td>10001</td>\n",
       "      <td>20001</td>\n",
       "      <td>2017-02-01</td>\n",
       "      <td>0.0</td>\n",
       "      <td>23.0</td>\n",
       "      <td>198.84365</td>\n",
       "      <td>198.84365</td>\n",
       "      <td>0.0</td>\n",
       "      <td>HC</td>\n",
       "      <td>ROPA LAVADO</td>\n",
       "      <td>Liquido</td>\n",
       "      <td>ARIEL</td>\n",
       "      <td>3000</td>\n",
       "    </tr>\n",
       "    <tr>\n",
       "      <th>2</th>\n",
       "      <td>10001</td>\n",
       "      <td>20001</td>\n",
       "      <td>2017-03-01</td>\n",
       "      <td>0.0</td>\n",
       "      <td>33.0</td>\n",
       "      <td>92.46537</td>\n",
       "      <td>92.46537</td>\n",
       "      <td>0.0</td>\n",
       "      <td>HC</td>\n",
       "      <td>ROPA LAVADO</td>\n",
       "      <td>Liquido</td>\n",
       "      <td>ARIEL</td>\n",
       "      <td>3000</td>\n",
       "    </tr>\n",
       "    <tr>\n",
       "      <th>3</th>\n",
       "      <td>10001</td>\n",
       "      <td>20001</td>\n",
       "      <td>2017-04-01</td>\n",
       "      <td>0.0</td>\n",
       "      <td>8.0</td>\n",
       "      <td>13.29728</td>\n",
       "      <td>13.29728</td>\n",
       "      <td>0.0</td>\n",
       "      <td>HC</td>\n",
       "      <td>ROPA LAVADO</td>\n",
       "      <td>Liquido</td>\n",
       "      <td>ARIEL</td>\n",
       "      <td>3000</td>\n",
       "    </tr>\n",
       "    <tr>\n",
       "      <th>4</th>\n",
       "      <td>10001</td>\n",
       "      <td>20001</td>\n",
       "      <td>2017-05-01</td>\n",
       "      <td>0.0</td>\n",
       "      <td>15.0</td>\n",
       "      <td>101.20711</td>\n",
       "      <td>101.00563</td>\n",
       "      <td>0.0</td>\n",
       "      <td>HC</td>\n",
       "      <td>ROPA LAVADO</td>\n",
       "      <td>Liquido</td>\n",
       "      <td>ARIEL</td>\n",
       "      <td>3000</td>\n",
       "    </tr>\n",
       "  </tbody>\n",
       "</table>\n",
       "</div>"
      ],
      "text/plain": [
       "   customer_id  product_id     periodo  plan_precios_cuidados  \\\n",
       "0        10001       20001  2017-01-01                    0.0   \n",
       "1        10001       20001  2017-02-01                    0.0   \n",
       "2        10001       20001  2017-03-01                    0.0   \n",
       "3        10001       20001  2017-04-01                    0.0   \n",
       "4        10001       20001  2017-05-01                    0.0   \n",
       "\n",
       "   cust_request_qty  cust_request_tn         tn  stock_final cat1  \\\n",
       "0              11.0         99.43861   99.43861          0.0   HC   \n",
       "1              23.0        198.84365  198.84365          0.0   HC   \n",
       "2              33.0         92.46537   92.46537          0.0   HC   \n",
       "3               8.0         13.29728   13.29728          0.0   HC   \n",
       "4              15.0        101.20711  101.00563          0.0   HC   \n",
       "\n",
       "          cat2     cat3  brand  sku_size  \n",
       "0  ROPA LAVADO  Liquido  ARIEL      3000  \n",
       "1  ROPA LAVADO  Liquido  ARIEL      3000  \n",
       "2  ROPA LAVADO  Liquido  ARIEL      3000  \n",
       "3  ROPA LAVADO  Liquido  ARIEL      3000  \n",
       "4  ROPA LAVADO  Liquido  ARIEL      3000  "
      ]
     },
     "metadata": {},
     "output_type": "display_data"
    }
   ],
   "source": [
    "# 📦 1. Importar librerías\n",
    "import pandas as pd\n",
    "\n",
    "# 📂 2. Cargar el archivo CSV desde tu máquina local\n",
    "ruta = r\"C:\\Users\\waldo\\Dropbox\\Maestría Ciencia de Datos\\Labo 3\\Proceso\\finalitoul.csv\"\n",
    "df = pd.read_csv(ruta)\n",
    "\n",
    "# 📊 3. Mostrar dimensiones y tipos de datos\n",
    "print(\"🔢 Shape del DataFrame:\", df.shape)\n",
    "print(\"\\n🧱 Tipos de columnas:\")\n",
    "print(df.dtypes)\n",
    "\n",
    "# 👀 4. Vista previa de los datos\n",
    "print(\"\\n🔍 Primeras filas del dataset:\")\n",
    "display(df.head())\n"
   ]
  },
  {
   "cell_type": "code",
   "execution_count": 2,
   "id": "7420940b",
   "metadata": {},
   "outputs": [
    {
     "name": "stdout",
     "output_type": "stream",
     "text": [
      "📆 Períodos únicos en el dataset: 36\n",
      "🔎 Combinaciones sin venta en los 36 períodos: 202855\n"
     ]
    }
   ],
   "source": [
    "# 🧮 1. Cuántos períodos distintos hay\n",
    "n_periodos = df['periodo'].nunique()\n",
    "print(f\"📆 Períodos únicos en el dataset: {n_periodos}\")\n",
    "\n",
    "# 🧲 2. Agrupar por combinación (customer_id, product_id)\n",
    "agrupado = df.groupby(['customer_id', 'product_id'])\n",
    "\n",
    "# 📐 3. Filtrar combinaciones con 36 períodos y suma de tn == 0\n",
    "combinaciones_sin_ventas = agrupado.agg(\n",
    "    cantidad_periodos=('periodo', 'nunique'),\n",
    "    suma_tn=('tn', 'sum')\n",
    ").reset_index()\n",
    "\n",
    "# 🧹 4. Filtrar los que tienen todos los períodos y nunca vendieron\n",
    "combinaciones_sin_ventas = combinaciones_sin_ventas[\n",
    "    (combinaciones_sin_ventas['cantidad_periodos'] == n_periodos) &\n",
    "    (combinaciones_sin_ventas['suma_tn'] == 0)\n",
    "]\n",
    "\n",
    "print(f\"🔎 Combinaciones sin venta en los {n_periodos} períodos:\", combinaciones_sin_ventas.shape[0])\n",
    "\n",
    "# 📂 5. Si querés filtrar el dataset original para ver esos registros:\n",
    "df_sin_ventas = df.merge(\n",
    "    combinaciones_sin_ventas[['customer_id', 'product_id']],\n",
    "    on=['customer_id', 'product_id'],\n",
    "    how='inner'\n",
    ")\n"
   ]
  },
  {
   "cell_type": "code",
   "execution_count": 3,
   "id": "ab133ae4",
   "metadata": {},
   "outputs": [
    {
     "name": "stdout",
     "output_type": "stream",
     "text": [
      "📉 Shape después de eliminar combinaciones sin venta: (9460980, 13)\n",
      "✅ Archivo guardado en: C:\\Users\\waldo\\Dropbox\\Maestría Ciencia de Datos\\Labo 3\\Proceso\\finalitoul_filtrado.csv\n"
     ]
    }
   ],
   "source": [
    "# 🧹 6. Eliminar esas combinaciones del dataset original\n",
    "df_filtrado = df.merge(\n",
    "    combinaciones_sin_ventas[['customer_id', 'product_id']],\n",
    "    on=['customer_id', 'product_id'],\n",
    "    how='left',\n",
    "    indicator=True\n",
    ")\n",
    "\n",
    "# Nos quedamos con las filas que NO estaban en las combinaciones sin ventas\n",
    "df_filtrado = df_filtrado[df_filtrado['_merge'] == 'left_only'].drop(columns=['_merge'])\n",
    "\n",
    "print(\"📉 Shape después de eliminar combinaciones sin venta:\", df_filtrado.shape)\n",
    "\n",
    "# 💾 7. Guardar el nuevo CSV (ajustá la ruta si querés)\n",
    "ruta_salida = r\"C:\\Users\\waldo\\Dropbox\\Maestría Ciencia de Datos\\Labo 3\\Proceso\\finalitoul_filtrado.csv\"\n",
    "df_filtrado.to_csv(ruta_salida, index=False)\n",
    "\n",
    "print(f\"✅ Archivo guardado en: {ruta_salida}\")\n"
   ]
  },
  {
   "cell_type": "code",
   "execution_count": 4,
   "id": "342d7850",
   "metadata": {},
   "outputs": [
    {
     "name": "stdout",
     "output_type": "stream",
     "text": [
      "\n",
      "📋 RESUMEN:\n",
      "🔸 Total de combinaciones originales: 465,660\n",
      "🔻 Combinaciones eliminadas: 202,855 (43.56%)\n",
      "✅ Combinaciones restantes: 262,805\n",
      "📉 Filas eliminadas: 7,302,780 (43.56%)\n",
      "💾 Dataset final guardado en: C:\\Users\\waldo\\Dropbox\\Maestría Ciencia de Datos\\Labo 3\\Proceso\\finalitoul_filtrado.csv\n"
     ]
    }
   ],
   "source": [
    "# 📊 Métricas del proceso de filtrado\n",
    "\n",
    "# Total de combinaciones originales\n",
    "total_combinaciones = df.groupby(['customer_id', 'product_id']).ngroups\n",
    "\n",
    "# Combinaciones eliminadas\n",
    "combinaciones_eliminadas = combinaciones_sin_ventas.shape[0]\n",
    "\n",
    "# Combinaciones restantes\n",
    "combinaciones_restantes = total_combinaciones - combinaciones_eliminadas\n",
    "\n",
    "# % de combinaciones eliminadas\n",
    "porcentaje_eliminado = (combinaciones_eliminadas / total_combinaciones) * 100\n",
    "\n",
    "# % de filas eliminadas\n",
    "filas_eliminadas = df.shape[0] - df_filtrado.shape[0]\n",
    "porcentaje_filas = (filas_eliminadas / df.shape[0]) * 100\n",
    "\n",
    "# 📋 Reporte\n",
    "print(\"\\n📋 RESUMEN:\")\n",
    "print(f\"🔸 Total de combinaciones originales: {total_combinaciones:,}\")\n",
    "print(f\"🔻 Combinaciones eliminadas: {combinaciones_eliminadas:,} ({porcentaje_eliminado:.2f}%)\")\n",
    "print(f\"✅ Combinaciones restantes: {combinaciones_restantes:,}\")\n",
    "print(f\"📉 Filas eliminadas: {filas_eliminadas:,} ({porcentaje_filas:.2f}%)\")\n",
    "print(f\"💾 Dataset final guardado en: {ruta_salida}\")\n"
   ]
  },
  {
   "cell_type": "code",
   "execution_count": 5,
   "id": "a709f13a",
   "metadata": {},
   "outputs": [
    {
     "name": "stdout",
     "output_type": "stream",
     "text": [
      "📁 Combinaciones eliminadas guardadas en: C:\\Users\\waldo\\Dropbox\\Maestría Ciencia de Datos\\Labo 3\\Proceso\\combinaciones_eliminadas.csv\n"
     ]
    }
   ],
   "source": [
    "# 💾 Guardar combinaciones eliminadas para trazabilidad\n",
    "ruta_combinaciones = r\"C:\\Users\\waldo\\Dropbox\\Maestría Ciencia de Datos\\Labo 3\\Proceso\\combinaciones_eliminadas.csv\"\n",
    "combinaciones_sin_ventas.to_csv(ruta_combinaciones, index=False)\n",
    "\n",
    "print(f\"📁 Combinaciones eliminadas guardadas en: {ruta_combinaciones}\")\n"
   ]
  },
  {
   "cell_type": "code",
   "execution_count": 6,
   "id": "24848030",
   "metadata": {},
   "outputs": [
    {
     "name": "stdout",
     "output_type": "stream",
     "text": [
      "🔍 Primeras combinaciones eliminadas:\n"
     ]
    },
    {
     "data": {
      "application/vnd.microsoft.datawrangler.viewer.v0+json": {
       "columns": [
        {
         "name": "index",
         "rawType": "int64",
         "type": "integer"
        },
        {
         "name": "customer_id",
         "rawType": "int64",
         "type": "integer"
        },
        {
         "name": "product_id",
         "rawType": "int64",
         "type": "integer"
        },
        {
         "name": "cantidad_periodos",
         "rawType": "int64",
         "type": "integer"
        },
        {
         "name": "suma_tn",
         "rawType": "float64",
         "type": "float"
        }
       ],
       "ref": "9b641030-89ef-4286-8a7e-c755d3fa5bf7",
       "rows": [
        [
         "0",
         "10001",
         "20032",
         "36",
         "0.0"
        ],
        [
         "1",
         "10001",
         "20052",
         "36",
         "0.0"
        ],
        [
         "2",
         "10001",
         "20069",
         "36",
         "0.0"
        ],
        [
         "3",
         "10001",
         "20071",
         "36",
         "0.0"
        ],
        [
         "4",
         "10001",
         "20089",
         "36",
         "0.0"
        ]
       ],
       "shape": {
        "columns": 4,
        "rows": 5
       }
      },
      "text/html": [
       "<div>\n",
       "<style scoped>\n",
       "    .dataframe tbody tr th:only-of-type {\n",
       "        vertical-align: middle;\n",
       "    }\n",
       "\n",
       "    .dataframe tbody tr th {\n",
       "        vertical-align: top;\n",
       "    }\n",
       "\n",
       "    .dataframe thead th {\n",
       "        text-align: right;\n",
       "    }\n",
       "</style>\n",
       "<table border=\"1\" class=\"dataframe\">\n",
       "  <thead>\n",
       "    <tr style=\"text-align: right;\">\n",
       "      <th></th>\n",
       "      <th>customer_id</th>\n",
       "      <th>product_id</th>\n",
       "      <th>cantidad_periodos</th>\n",
       "      <th>suma_tn</th>\n",
       "    </tr>\n",
       "  </thead>\n",
       "  <tbody>\n",
       "    <tr>\n",
       "      <th>0</th>\n",
       "      <td>10001</td>\n",
       "      <td>20032</td>\n",
       "      <td>36</td>\n",
       "      <td>0.0</td>\n",
       "    </tr>\n",
       "    <tr>\n",
       "      <th>1</th>\n",
       "      <td>10001</td>\n",
       "      <td>20052</td>\n",
       "      <td>36</td>\n",
       "      <td>0.0</td>\n",
       "    </tr>\n",
       "    <tr>\n",
       "      <th>2</th>\n",
       "      <td>10001</td>\n",
       "      <td>20069</td>\n",
       "      <td>36</td>\n",
       "      <td>0.0</td>\n",
       "    </tr>\n",
       "    <tr>\n",
       "      <th>3</th>\n",
       "      <td>10001</td>\n",
       "      <td>20071</td>\n",
       "      <td>36</td>\n",
       "      <td>0.0</td>\n",
       "    </tr>\n",
       "    <tr>\n",
       "      <th>4</th>\n",
       "      <td>10001</td>\n",
       "      <td>20089</td>\n",
       "      <td>36</td>\n",
       "      <td>0.0</td>\n",
       "    </tr>\n",
       "  </tbody>\n",
       "</table>\n",
       "</div>"
      ],
      "text/plain": [
       "   customer_id  product_id  cantidad_periodos  suma_tn\n",
       "0        10001       20032                 36      0.0\n",
       "1        10001       20052                 36      0.0\n",
       "2        10001       20069                 36      0.0\n",
       "3        10001       20071                 36      0.0\n",
       "4        10001       20089                 36      0.0"
      ]
     },
     "metadata": {},
     "output_type": "display_data"
    },
    {
     "name": "stdout",
     "output_type": "stream",
     "text": [
      "🔢 Total de combinaciones eliminadas: 202855\n",
      "\n",
      "👤 Top 10 customers más frecuentes entre los eliminados:\n",
      "customer_id\n",
      "10632    778\n",
      "10633    778\n",
      "10637    778\n",
      "10559    777\n",
      "10373    777\n",
      "10636    777\n",
      "10577    776\n",
      "10591    776\n",
      "10558    775\n",
      "10507    775\n",
      "Name: count, dtype: int64\n",
      "\n",
      "📦 Top 10 productos más frecuentes entre los eliminados:\n",
      "product_id\n",
      "21252    575\n",
      "21267    574\n",
      "21276    574\n",
      "20953    550\n",
      "20845    546\n",
      "20886    545\n",
      "21266    537\n",
      "21265    537\n",
      "21246    531\n",
      "21262    531\n",
      "Name: count, dtype: int64\n"
     ]
    }
   ],
   "source": [
    "# 📂 Cargar el archivo con combinaciones eliminadas\n",
    "df_eliminadas = pd.read_csv(ruta_combinaciones)\n",
    "\n",
    "# 👀 Mostrar primeras filas\n",
    "print(\"🔍 Primeras combinaciones eliminadas:\")\n",
    "display(df_eliminadas.head())\n",
    "\n",
    "# 🧮 ¿Cuántas combinaciones hay?\n",
    "print(f\"🔢 Total de combinaciones eliminadas: {df_eliminadas.shape[0]}\")\n",
    "\n",
    "# 📊 Si querés ver qué customers o productos aparecen más en este subconjunto:\n",
    "top_customers = df_eliminadas['customer_id'].value_counts().head(10)\n",
    "top_products = df_eliminadas['product_id'].value_counts().head(10)\n",
    "\n",
    "print(\"\\n👤 Top 10 customers más frecuentes entre los eliminados:\")\n",
    "print(top_customers)\n",
    "\n",
    "print(\"\\n📦 Top 10 productos más frecuentes entre los eliminados:\")\n",
    "print(top_products)\n"
   ]
  },
  {
   "cell_type": "code",
   "execution_count": 7,
   "id": "aa7abe37",
   "metadata": {},
   "outputs": [
    {
     "name": "stdout",
     "output_type": "stream",
     "text": [
      "🧾 Registros eliminados reconstruidos para inspección:\n"
     ]
    },
    {
     "data": {
      "application/vnd.microsoft.datawrangler.viewer.v0+json": {
       "columns": [
        {
         "name": "index",
         "rawType": "int64",
         "type": "integer"
        },
        {
         "name": "customer_id",
         "rawType": "int64",
         "type": "integer"
        },
        {
         "name": "product_id",
         "rawType": "int64",
         "type": "integer"
        },
        {
         "name": "periodo",
         "rawType": "object",
         "type": "string"
        },
        {
         "name": "plan_precios_cuidados",
         "rawType": "float64",
         "type": "float"
        },
        {
         "name": "cust_request_qty",
         "rawType": "float64",
         "type": "float"
        },
        {
         "name": "cust_request_tn",
         "rawType": "float64",
         "type": "float"
        },
        {
         "name": "tn",
         "rawType": "float64",
         "type": "float"
        },
        {
         "name": "stock_final",
         "rawType": "float64",
         "type": "float"
        },
        {
         "name": "cat1",
         "rawType": "object",
         "type": "string"
        },
        {
         "name": "cat2",
         "rawType": "object",
         "type": "string"
        },
        {
         "name": "cat3",
         "rawType": "object",
         "type": "string"
        },
        {
         "name": "brand",
         "rawType": "object",
         "type": "string"
        },
        {
         "name": "sku_size",
         "rawType": "int64",
         "type": "integer"
        },
        {
         "name": "cantidad_periodos",
         "rawType": "int64",
         "type": "integer"
        },
        {
         "name": "suma_tn",
         "rawType": "float64",
         "type": "float"
        }
       ],
       "ref": "4253c2ab-558d-4fff-80ab-a4d9089f4e5d",
       "rows": [
        [
         "0",
         "10001",
         "20032",
         "2017-01-01",
         "0.0",
         "0.0",
         "0.0",
         "0.0",
         "0.0",
         "HC",
         "ROPA LAVADO",
         "Liquido",
         "ROPEX2",
         "3000",
         "36",
         "0.0"
        ],
        [
         "1",
         "10001",
         "20032",
         "2017-02-01",
         "0.0",
         "0.0",
         "0.0",
         "0.0",
         "0.0",
         "HC",
         "ROPA LAVADO",
         "Liquido",
         "ROPEX2",
         "3000",
         "36",
         "0.0"
        ],
        [
         "2",
         "10001",
         "20032",
         "2017-03-01",
         "0.0",
         "0.0",
         "0.0",
         "0.0",
         "0.0",
         "HC",
         "ROPA LAVADO",
         "Liquido",
         "ROPEX2",
         "3000",
         "36",
         "0.0"
        ],
        [
         "3",
         "10001",
         "20032",
         "2017-04-01",
         "0.0",
         "0.0",
         "0.0",
         "0.0",
         "0.0",
         "HC",
         "ROPA LAVADO",
         "Liquido",
         "ROPEX2",
         "3000",
         "36",
         "0.0"
        ],
        [
         "4",
         "10001",
         "20032",
         "2017-05-01",
         "0.0",
         "0.0",
         "0.0",
         "0.0",
         "0.0",
         "HC",
         "ROPA LAVADO",
         "Liquido",
         "ROPEX2",
         "3000",
         "36",
         "0.0"
        ]
       ],
       "shape": {
        "columns": 15,
        "rows": 5
       }
      },
      "text/html": [
       "<div>\n",
       "<style scoped>\n",
       "    .dataframe tbody tr th:only-of-type {\n",
       "        vertical-align: middle;\n",
       "    }\n",
       "\n",
       "    .dataframe tbody tr th {\n",
       "        vertical-align: top;\n",
       "    }\n",
       "\n",
       "    .dataframe thead th {\n",
       "        text-align: right;\n",
       "    }\n",
       "</style>\n",
       "<table border=\"1\" class=\"dataframe\">\n",
       "  <thead>\n",
       "    <tr style=\"text-align: right;\">\n",
       "      <th></th>\n",
       "      <th>customer_id</th>\n",
       "      <th>product_id</th>\n",
       "      <th>periodo</th>\n",
       "      <th>plan_precios_cuidados</th>\n",
       "      <th>cust_request_qty</th>\n",
       "      <th>cust_request_tn</th>\n",
       "      <th>tn</th>\n",
       "      <th>stock_final</th>\n",
       "      <th>cat1</th>\n",
       "      <th>cat2</th>\n",
       "      <th>cat3</th>\n",
       "      <th>brand</th>\n",
       "      <th>sku_size</th>\n",
       "      <th>cantidad_periodos</th>\n",
       "      <th>suma_tn</th>\n",
       "    </tr>\n",
       "  </thead>\n",
       "  <tbody>\n",
       "    <tr>\n",
       "      <th>0</th>\n",
       "      <td>10001</td>\n",
       "      <td>20032</td>\n",
       "      <td>2017-01-01</td>\n",
       "      <td>0.0</td>\n",
       "      <td>0.0</td>\n",
       "      <td>0.0</td>\n",
       "      <td>0.0</td>\n",
       "      <td>0.0</td>\n",
       "      <td>HC</td>\n",
       "      <td>ROPA LAVADO</td>\n",
       "      <td>Liquido</td>\n",
       "      <td>ROPEX2</td>\n",
       "      <td>3000</td>\n",
       "      <td>36</td>\n",
       "      <td>0.0</td>\n",
       "    </tr>\n",
       "    <tr>\n",
       "      <th>1</th>\n",
       "      <td>10001</td>\n",
       "      <td>20032</td>\n",
       "      <td>2017-02-01</td>\n",
       "      <td>0.0</td>\n",
       "      <td>0.0</td>\n",
       "      <td>0.0</td>\n",
       "      <td>0.0</td>\n",
       "      <td>0.0</td>\n",
       "      <td>HC</td>\n",
       "      <td>ROPA LAVADO</td>\n",
       "      <td>Liquido</td>\n",
       "      <td>ROPEX2</td>\n",
       "      <td>3000</td>\n",
       "      <td>36</td>\n",
       "      <td>0.0</td>\n",
       "    </tr>\n",
       "    <tr>\n",
       "      <th>2</th>\n",
       "      <td>10001</td>\n",
       "      <td>20032</td>\n",
       "      <td>2017-03-01</td>\n",
       "      <td>0.0</td>\n",
       "      <td>0.0</td>\n",
       "      <td>0.0</td>\n",
       "      <td>0.0</td>\n",
       "      <td>0.0</td>\n",
       "      <td>HC</td>\n",
       "      <td>ROPA LAVADO</td>\n",
       "      <td>Liquido</td>\n",
       "      <td>ROPEX2</td>\n",
       "      <td>3000</td>\n",
       "      <td>36</td>\n",
       "      <td>0.0</td>\n",
       "    </tr>\n",
       "    <tr>\n",
       "      <th>3</th>\n",
       "      <td>10001</td>\n",
       "      <td>20032</td>\n",
       "      <td>2017-04-01</td>\n",
       "      <td>0.0</td>\n",
       "      <td>0.0</td>\n",
       "      <td>0.0</td>\n",
       "      <td>0.0</td>\n",
       "      <td>0.0</td>\n",
       "      <td>HC</td>\n",
       "      <td>ROPA LAVADO</td>\n",
       "      <td>Liquido</td>\n",
       "      <td>ROPEX2</td>\n",
       "      <td>3000</td>\n",
       "      <td>36</td>\n",
       "      <td>0.0</td>\n",
       "    </tr>\n",
       "    <tr>\n",
       "      <th>4</th>\n",
       "      <td>10001</td>\n",
       "      <td>20032</td>\n",
       "      <td>2017-05-01</td>\n",
       "      <td>0.0</td>\n",
       "      <td>0.0</td>\n",
       "      <td>0.0</td>\n",
       "      <td>0.0</td>\n",
       "      <td>0.0</td>\n",
       "      <td>HC</td>\n",
       "      <td>ROPA LAVADO</td>\n",
       "      <td>Liquido</td>\n",
       "      <td>ROPEX2</td>\n",
       "      <td>3000</td>\n",
       "      <td>36</td>\n",
       "      <td>0.0</td>\n",
       "    </tr>\n",
       "  </tbody>\n",
       "</table>\n",
       "</div>"
      ],
      "text/plain": [
       "   customer_id  product_id     periodo  plan_precios_cuidados  \\\n",
       "0        10001       20032  2017-01-01                    0.0   \n",
       "1        10001       20032  2017-02-01                    0.0   \n",
       "2        10001       20032  2017-03-01                    0.0   \n",
       "3        10001       20032  2017-04-01                    0.0   \n",
       "4        10001       20032  2017-05-01                    0.0   \n",
       "\n",
       "   cust_request_qty  cust_request_tn   tn  stock_final cat1         cat2  \\\n",
       "0               0.0              0.0  0.0          0.0   HC  ROPA LAVADO   \n",
       "1               0.0              0.0  0.0          0.0   HC  ROPA LAVADO   \n",
       "2               0.0              0.0  0.0          0.0   HC  ROPA LAVADO   \n",
       "3               0.0              0.0  0.0          0.0   HC  ROPA LAVADO   \n",
       "4               0.0              0.0  0.0          0.0   HC  ROPA LAVADO   \n",
       "\n",
       "      cat3   brand  sku_size  cantidad_periodos  suma_tn  \n",
       "0  Liquido  ROPEX2      3000                 36      0.0  \n",
       "1  Liquido  ROPEX2      3000                 36      0.0  \n",
       "2  Liquido  ROPEX2      3000                 36      0.0  \n",
       "3  Liquido  ROPEX2      3000                 36      0.0  \n",
       "4  Liquido  ROPEX2      3000                 36      0.0  "
      ]
     },
     "metadata": {},
     "output_type": "display_data"
    }
   ],
   "source": [
    "# 📂 Cargar el dataset original (si no lo tenés en memoria)\n",
    "ruta_original = r\"C:\\Users\\waldo\\Dropbox\\Maestría Ciencia de Datos\\Labo 3\\Proceso\\finalitoul.csv\"\n",
    "df = pd.read_csv(ruta_original)\n",
    "\n",
    "# 📂 Cargar las combinaciones eliminadas\n",
    "ruta_combinaciones = r\"C:\\Users\\waldo\\Dropbox\\Maestría Ciencia de Datos\\Labo 3\\Proceso\\combinaciones_eliminadas.csv\"\n",
    "df_eliminadas = pd.read_csv(ruta_combinaciones)\n",
    "\n",
    "# 🔄 Hacer un merge para reconstruir todos los registros que fueron eliminados\n",
    "df_eliminados_completo = df.merge(\n",
    "    df_eliminadas,\n",
    "    on=['customer_id', 'product_id'],\n",
    "    how='inner'\n",
    ").sort_values(['customer_id', 'product_id', 'periodo'])\n",
    "\n",
    "# 👀 Mostrar una vista general\n",
    "print(\"🧾 Registros eliminados reconstruidos para inspección:\")\n",
    "display(df_eliminados_completo.head())\n"
   ]
  },
  {
   "cell_type": "code",
   "execution_count": null,
   "id": "b929018b",
   "metadata": {},
   "outputs": [],
   "source": [
    "df_eliminados_completo"
   ]
  },
  {
   "cell_type": "code",
   "execution_count": 8,
   "id": "9acfae3b",
   "metadata": {},
   "outputs": [
    {
     "name": "stdout",
     "output_type": "stream",
     "text": [
      "📁 Archivo de inspección guardado en:\n",
      "C:\\Users\\waldo\\Dropbox\\Maestría Ciencia de Datos\\Labo 3\\Proceso\\finalitoul_inspeccion_eliminados.csv\n"
     ]
    }
   ],
   "source": [
    "ruta_inspeccion = r\"C:\\Users\\waldo\\Dropbox\\Maestría Ciencia de Datos\\Labo 3\\Proceso\\finalitoul_inspeccion_eliminados.csv\"\n",
    "df_eliminados_completo.to_csv(ruta_inspeccion, index=False)\n",
    "\n",
    "print(f\"📁 Archivo de inspección guardado en:\\n{ruta_inspeccion}\")\n"
   ]
  },
  {
   "cell_type": "code",
   "execution_count": null,
   "id": "50ace67a",
   "metadata": {},
   "outputs": [],
   "source": [
    "# Si querés volver a cargarlo:\n",
    "df_filtrado = pd.read_csv(ruta_salida)\n",
    "df_filtrado"
   ]
  }
 ],
 "metadata": {
  "kernelspec": {
   "display_name": "nuevito",
   "language": "python",
   "name": "python3"
  },
  "language_info": {
   "codemirror_mode": {
    "name": "ipython",
    "version": 3
   },
   "file_extension": ".py",
   "mimetype": "text/x-python",
   "name": "python",
   "nbconvert_exporter": "python",
   "pygments_lexer": "ipython3",
   "version": "3.12.9"
  }
 },
 "nbformat": 4,
 "nbformat_minor": 5
}
