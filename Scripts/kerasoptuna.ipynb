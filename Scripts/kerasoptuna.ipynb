{
 "cells": [
  {
   "cell_type": "code",
   "execution_count": 3,
   "id": "f4646eab",
   "metadata": {},
   "outputs": [
    {
     "name": "stderr",
     "output_type": "stream",
     "text": [
      "[I 2025-06-24 19:56:18,616] A new study created in memory with name: no-name-152c6110-ae61-4f6f-b72a-5f6f1b9d0497\n",
      "c:\\Users\\waldo\\miniconda3\\envs\\optuna_keras\\lib\\site-packages\\keras\\src\\layers\\core\\dense.py:93: UserWarning: Do not pass an `input_shape`/`input_dim` argument to a layer. When using Sequential models, prefer using an `Input(shape)` object as the first layer in the model instead.\n",
      "  super().__init__(activity_regularizer=activity_regularizer, **kwargs)\n"
     ]
    },
    {
     "name": "stdout",
     "output_type": "stream",
     "text": [
      "\u001b[1m129/129\u001b[0m \u001b[32m━━━━━━━━━━━━━━━━━━━━\u001b[0m\u001b[37m\u001b[0m \u001b[1m1s\u001b[0m 7ms/step\n"
     ]
    },
    {
     "name": "stderr",
     "output_type": "stream",
     "text": [
      "[I 2025-06-24 20:02:50,170] Trial 0 finished with value: 0.266854073746687 and parameters: {'n_units_l1': 34, 'act_l1': 'relu', 'n_units_l2': 14, 'act_l2': 'tanh', 'lr': 0.002313668292909702, 'batch_size': 16}. Best is trial 0 with value: 0.266854073746687.\n",
      "c:\\Users\\waldo\\miniconda3\\envs\\optuna_keras\\lib\\site-packages\\keras\\src\\layers\\core\\dense.py:93: UserWarning: Do not pass an `input_shape`/`input_dim` argument to a layer. When using Sequential models, prefer using an `Input(shape)` object as the first layer in the model instead.\n",
      "  super().__init__(activity_regularizer=activity_regularizer, **kwargs)\n"
     ]
    },
    {
     "name": "stdout",
     "output_type": "stream",
     "text": [
      "\u001b[1m129/129\u001b[0m \u001b[32m━━━━━━━━━━━━━━━━━━━━\u001b[0m\u001b[37m\u001b[0m \u001b[1m1s\u001b[0m 5ms/step\n"
     ]
    },
    {
     "name": "stderr",
     "output_type": "stream",
     "text": [
      "[I 2025-06-24 20:05:31,601] Trial 1 finished with value: 0.27253989143321145 and parameters: {'n_units_l1': 43, 'act_l1': 'relu', 'n_units_l2': 50, 'act_l2': 'relu', 'lr': 0.004020888573025294, 'batch_size': 64}. Best is trial 0 with value: 0.266854073746687.\n",
      "c:\\Users\\waldo\\miniconda3\\envs\\optuna_keras\\lib\\site-packages\\keras\\src\\layers\\core\\dense.py:93: UserWarning: Do not pass an `input_shape`/`input_dim` argument to a layer. When using Sequential models, prefer using an `Input(shape)` object as the first layer in the model instead.\n",
      "  super().__init__(activity_regularizer=activity_regularizer, **kwargs)\n"
     ]
    },
    {
     "name": "stdout",
     "output_type": "stream",
     "text": [
      "\u001b[1m129/129\u001b[0m \u001b[32m━━━━━━━━━━━━━━━━━━━━\u001b[0m\u001b[37m\u001b[0m \u001b[1m1s\u001b[0m 4ms/step\n"
     ]
    },
    {
     "name": "stderr",
     "output_type": "stream",
     "text": [
      "[I 2025-06-24 20:08:59,233] Trial 2 finished with value: 0.28679716697168167 and parameters: {'n_units_l1': 49, 'act_l1': 'relu', 'n_units_l2': 59, 'act_l2': 'tanh', 'lr': 0.008419510212061682, 'batch_size': 32}. Best is trial 0 with value: 0.266854073746687.\n",
      "c:\\Users\\waldo\\miniconda3\\envs\\optuna_keras\\lib\\site-packages\\keras\\src\\layers\\core\\dense.py:93: UserWarning: Do not pass an `input_shape`/`input_dim` argument to a layer. When using Sequential models, prefer using an `Input(shape)` object as the first layer in the model instead.\n",
      "  super().__init__(activity_regularizer=activity_regularizer, **kwargs)\n"
     ]
    },
    {
     "name": "stdout",
     "output_type": "stream",
     "text": [
      "\u001b[1m129/129\u001b[0m \u001b[32m━━━━━━━━━━━━━━━━━━━━\u001b[0m\u001b[37m\u001b[0m \u001b[1m1s\u001b[0m 3ms/step\n"
     ]
    },
    {
     "name": "stderr",
     "output_type": "stream",
     "text": [
      "[I 2025-06-24 20:15:37,411] Trial 3 finished with value: 0.31789545543631503 and parameters: {'n_units_l1': 78, 'act_l1': 'relu', 'n_units_l2': 9, 'act_l2': 'relu', 'lr': 0.00014248964409005406, 'batch_size': 16}. Best is trial 0 with value: 0.266854073746687.\n",
      "c:\\Users\\waldo\\miniconda3\\envs\\optuna_keras\\lib\\site-packages\\keras\\src\\layers\\core\\dense.py:93: UserWarning: Do not pass an `input_shape`/`input_dim` argument to a layer. When using Sequential models, prefer using an `Input(shape)` object as the first layer in the model instead.\n",
      "  super().__init__(activity_regularizer=activity_regularizer, **kwargs)\n"
     ]
    },
    {
     "name": "stdout",
     "output_type": "stream",
     "text": [
      "\u001b[1m129/129\u001b[0m \u001b[32m━━━━━━━━━━━━━━━━━━━━\u001b[0m\u001b[37m\u001b[0m \u001b[1m1s\u001b[0m 4ms/step\n"
     ]
    },
    {
     "name": "stderr",
     "output_type": "stream",
     "text": [
      "[I 2025-06-24 20:17:05,279] Trial 4 finished with value: 0.3870846717660063 and parameters: {'n_units_l1': 95, 'act_l1': 'tanh', 'n_units_l2': 24, 'act_l2': 'tanh', 'lr': 0.00014118810504112615, 'batch_size': 64}. Best is trial 0 with value: 0.266854073746687.\n",
      "c:\\Users\\waldo\\miniconda3\\envs\\optuna_keras\\lib\\site-packages\\keras\\src\\layers\\core\\dense.py:93: UserWarning: Do not pass an `input_shape`/`input_dim` argument to a layer. When using Sequential models, prefer using an `Input(shape)` object as the first layer in the model instead.\n",
      "  super().__init__(activity_regularizer=activity_regularizer, **kwargs)\n"
     ]
    },
    {
     "name": "stdout",
     "output_type": "stream",
     "text": [
      "\u001b[1m129/129\u001b[0m \u001b[32m━━━━━━━━━━━━━━━━━━━━\u001b[0m\u001b[37m\u001b[0m \u001b[1m1s\u001b[0m 5ms/step\n"
     ]
    },
    {
     "name": "stderr",
     "output_type": "stream",
     "text": [
      "[I 2025-06-24 20:23:24,734] Trial 5 finished with value: 0.27022182379091786 and parameters: {'n_units_l1': 60, 'act_l1': 'tanh', 'n_units_l2': 63, 'act_l2': 'tanh', 'lr': 0.001965224588979162, 'batch_size': 16}. Best is trial 0 with value: 0.266854073746687.\n",
      "c:\\Users\\waldo\\miniconda3\\envs\\optuna_keras\\lib\\site-packages\\keras\\src\\layers\\core\\dense.py:93: UserWarning: Do not pass an `input_shape`/`input_dim` argument to a layer. When using Sequential models, prefer using an `Input(shape)` object as the first layer in the model instead.\n",
      "  super().__init__(activity_regularizer=activity_regularizer, **kwargs)\n"
     ]
    },
    {
     "name": "stdout",
     "output_type": "stream",
     "text": [
      "\u001b[1m129/129\u001b[0m \u001b[32m━━━━━━━━━━━━━━━━━━━━\u001b[0m\u001b[37m\u001b[0m \u001b[1m0s\u001b[0m 3ms/step\n"
     ]
    },
    {
     "name": "stderr",
     "output_type": "stream",
     "text": [
      "[I 2025-06-24 20:28:17,151] Trial 6 finished with value: 0.2830731229116394 and parameters: {'n_units_l1': 68, 'act_l1': 'tanh', 'n_units_l2': 57, 'act_l2': 'tanh', 'lr': 0.00037757116489070596, 'batch_size': 16}. Best is trial 0 with value: 0.266854073746687.\n",
      "c:\\Users\\waldo\\miniconda3\\envs\\optuna_keras\\lib\\site-packages\\keras\\src\\layers\\core\\dense.py:93: UserWarning: Do not pass an `input_shape`/`input_dim` argument to a layer. When using Sequential models, prefer using an `Input(shape)` object as the first layer in the model instead.\n",
      "  super().__init__(activity_regularizer=activity_regularizer, **kwargs)\n"
     ]
    },
    {
     "name": "stdout",
     "output_type": "stream",
     "text": [
      "\u001b[1m129/129\u001b[0m \u001b[32m━━━━━━━━━━━━━━━━━━━━\u001b[0m\u001b[37m\u001b[0m \u001b[1m1s\u001b[0m 4ms/step\n"
     ]
    },
    {
     "name": "stderr",
     "output_type": "stream",
     "text": [
      "[I 2025-06-24 20:33:09,989] Trial 7 finished with value: 0.3704451170340244 and parameters: {'n_units_l1': 20, 'act_l1': 'tanh', 'n_units_l2': 22, 'act_l2': 'tanh', 'lr': 0.00012174971849556333, 'batch_size': 16}. Best is trial 0 with value: 0.266854073746687.\n",
      "c:\\Users\\waldo\\miniconda3\\envs\\optuna_keras\\lib\\site-packages\\keras\\src\\layers\\core\\dense.py:93: UserWarning: Do not pass an `input_shape`/`input_dim` argument to a layer. When using Sequential models, prefer using an `Input(shape)` object as the first layer in the model instead.\n",
      "  super().__init__(activity_regularizer=activity_regularizer, **kwargs)\n"
     ]
    },
    {
     "name": "stdout",
     "output_type": "stream",
     "text": [
      "\u001b[1m129/129\u001b[0m \u001b[32m━━━━━━━━━━━━━━━━━━━━\u001b[0m\u001b[37m\u001b[0m \u001b[1m1s\u001b[0m 4ms/step\n"
     ]
    },
    {
     "name": "stderr",
     "output_type": "stream",
     "text": [
      "[I 2025-06-24 20:36:02,126] Trial 8 finished with value: 0.3503143201730283 and parameters: {'n_units_l1': 110, 'act_l1': 'tanh', 'n_units_l2': 13, 'act_l2': 'tanh', 'lr': 0.00010004219081700586, 'batch_size': 32}. Best is trial 0 with value: 0.266854073746687.\n",
      "c:\\Users\\waldo\\miniconda3\\envs\\optuna_keras\\lib\\site-packages\\keras\\src\\layers\\core\\dense.py:93: UserWarning: Do not pass an `input_shape`/`input_dim` argument to a layer. When using Sequential models, prefer using an `Input(shape)` object as the first layer in the model instead.\n",
      "  super().__init__(activity_regularizer=activity_regularizer, **kwargs)\n"
     ]
    },
    {
     "name": "stdout",
     "output_type": "stream",
     "text": [
      "\u001b[1m129/129\u001b[0m \u001b[32m━━━━━━━━━━━━━━━━━━━━\u001b[0m\u001b[37m\u001b[0m \u001b[1m0s\u001b[0m 2ms/step\n"
     ]
    },
    {
     "name": "stderr",
     "output_type": "stream",
     "text": [
      "[I 2025-06-24 20:37:36,703] Trial 9 finished with value: 0.3617070614022075 and parameters: {'n_units_l1': 97, 'act_l1': 'tanh', 'n_units_l2': 10, 'act_l2': 'tanh', 'lr': 0.00014957376426752938, 'batch_size': 64}. Best is trial 0 with value: 0.266854073746687.\n",
      "c:\\Users\\waldo\\miniconda3\\envs\\optuna_keras\\lib\\site-packages\\keras\\src\\layers\\core\\dense.py:93: UserWarning: Do not pass an `input_shape`/`input_dim` argument to a layer. When using Sequential models, prefer using an `Input(shape)` object as the first layer in the model instead.\n",
      "  super().__init__(activity_regularizer=activity_regularizer, **kwargs)\n"
     ]
    },
    {
     "name": "stdout",
     "output_type": "stream",
     "text": [
      "\u001b[1m129/129\u001b[0m \u001b[32m━━━━━━━━━━━━━━━━━━━━\u001b[0m\u001b[37m\u001b[0m \u001b[1m1s\u001b[0m 5ms/step\n"
     ]
    },
    {
     "name": "stderr",
     "output_type": "stream",
     "text": [
      "[I 2025-06-24 20:44:05,845] Trial 10 finished with value: 0.29512921092784494 and parameters: {'n_units_l1': 16, 'act_l1': 'relu', 'n_units_l2': 38, 'act_l2': 'relu', 'lr': 0.0009026102700631261, 'batch_size': 16}. Best is trial 0 with value: 0.266854073746687.\n",
      "c:\\Users\\waldo\\miniconda3\\envs\\optuna_keras\\lib\\site-packages\\keras\\src\\layers\\core\\dense.py:93: UserWarning: Do not pass an `input_shape`/`input_dim` argument to a layer. When using Sequential models, prefer using an `Input(shape)` object as the first layer in the model instead.\n",
      "  super().__init__(activity_regularizer=activity_regularizer, **kwargs)\n"
     ]
    },
    {
     "name": "stdout",
     "output_type": "stream",
     "text": [
      "\u001b[1m129/129\u001b[0m \u001b[32m━━━━━━━━━━━━━━━━━━━━\u001b[0m\u001b[37m\u001b[0m \u001b[1m1s\u001b[0m 4ms/step\n"
     ]
    },
    {
     "name": "stderr",
     "output_type": "stream",
     "text": [
      "[I 2025-06-24 20:49:42,333] Trial 11 finished with value: 0.270955986449679 and parameters: {'n_units_l1': 46, 'act_l1': 'relu', 'n_units_l2': 42, 'act_l2': 'tanh', 'lr': 0.0020193423884505043, 'batch_size': 16}. Best is trial 0 with value: 0.266854073746687.\n",
      "c:\\Users\\waldo\\miniconda3\\envs\\optuna_keras\\lib\\site-packages\\keras\\src\\layers\\core\\dense.py:93: UserWarning: Do not pass an `input_shape`/`input_dim` argument to a layer. When using Sequential models, prefer using an `Input(shape)` object as the first layer in the model instead.\n",
      "  super().__init__(activity_regularizer=activity_regularizer, **kwargs)\n"
     ]
    },
    {
     "name": "stdout",
     "output_type": "stream",
     "text": [
      "\u001b[1m129/129\u001b[0m \u001b[32m━━━━━━━━━━━━━━━━━━━━\u001b[0m\u001b[37m\u001b[0m \u001b[1m1s\u001b[0m 3ms/step\n"
     ]
    },
    {
     "name": "stderr",
     "output_type": "stream",
     "text": [
      "[I 2025-06-24 20:54:18,496] Trial 12 finished with value: 0.2573445870279223 and parameters: {'n_units_l1': 63, 'act_l1': 'relu', 'n_units_l2': 28, 'act_l2': 'tanh', 'lr': 0.001552954889894353, 'batch_size': 16}. Best is trial 12 with value: 0.2573445870279223.\n",
      "c:\\Users\\waldo\\miniconda3\\envs\\optuna_keras\\lib\\site-packages\\keras\\src\\layers\\core\\dense.py:93: UserWarning: Do not pass an `input_shape`/`input_dim` argument to a layer. When using Sequential models, prefer using an `Input(shape)` object as the first layer in the model instead.\n",
      "  super().__init__(activity_regularizer=activity_regularizer, **kwargs)\n"
     ]
    },
    {
     "name": "stdout",
     "output_type": "stream",
     "text": [
      "\u001b[1m129/129\u001b[0m \u001b[32m━━━━━━━━━━━━━━━━━━━━\u001b[0m\u001b[37m\u001b[0m \u001b[1m0s\u001b[0m 3ms/step\n"
     ]
    },
    {
     "name": "stderr",
     "output_type": "stream",
     "text": [
      "[I 2025-06-24 20:58:40,472] Trial 13 finished with value: 0.26216873269549357 and parameters: {'n_units_l1': 128, 'act_l1': 'relu', 'n_units_l2': 26, 'act_l2': 'tanh', 'lr': 0.0008561971697772277, 'batch_size': 16}. Best is trial 12 with value: 0.2573445870279223.\n",
      "c:\\Users\\waldo\\miniconda3\\envs\\optuna_keras\\lib\\site-packages\\keras\\src\\layers\\core\\dense.py:93: UserWarning: Do not pass an `input_shape`/`input_dim` argument to a layer. When using Sequential models, prefer using an `Input(shape)` object as the first layer in the model instead.\n",
      "  super().__init__(activity_regularizer=activity_regularizer, **kwargs)\n"
     ]
    },
    {
     "name": "stdout",
     "output_type": "stream",
     "text": [
      "\u001b[1m129/129\u001b[0m \u001b[32m━━━━━━━━━━━━━━━━━━━━\u001b[0m\u001b[37m\u001b[0m \u001b[1m1s\u001b[0m 6ms/step\n"
     ]
    },
    {
     "name": "stderr",
     "output_type": "stream",
     "text": [
      "[I 2025-06-24 21:03:39,059] Trial 14 finished with value: 0.27904718460748934 and parameters: {'n_units_l1': 122, 'act_l1': 'relu', 'n_units_l2': 30, 'act_l2': 'relu', 'lr': 0.0004884650525558394, 'batch_size': 16}. Best is trial 12 with value: 0.2573445870279223.\n",
      "c:\\Users\\waldo\\miniconda3\\envs\\optuna_keras\\lib\\site-packages\\keras\\src\\layers\\core\\dense.py:93: UserWarning: Do not pass an `input_shape`/`input_dim` argument to a layer. When using Sequential models, prefer using an `Input(shape)` object as the first layer in the model instead.\n",
      "  super().__init__(activity_regularizer=activity_regularizer, **kwargs)\n"
     ]
    },
    {
     "name": "stdout",
     "output_type": "stream",
     "text": [
      "\u001b[1m129/129\u001b[0m \u001b[32m━━━━━━━━━━━━━━━━━━━━\u001b[0m\u001b[37m\u001b[0m \u001b[1m1s\u001b[0m 3ms/step\n"
     ]
    },
    {
     "name": "stderr",
     "output_type": "stream",
     "text": [
      "[I 2025-06-24 21:06:29,982] Trial 15 finished with value: 0.28491201428196294 and parameters: {'n_units_l1': 84, 'act_l1': 'relu', 'n_units_l2': 29, 'act_l2': 'tanh', 'lr': 0.000838266490137425, 'batch_size': 32}. Best is trial 12 with value: 0.2573445870279223.\n",
      "c:\\Users\\waldo\\miniconda3\\envs\\optuna_keras\\lib\\site-packages\\keras\\src\\layers\\core\\dense.py:93: UserWarning: Do not pass an `input_shape`/`input_dim` argument to a layer. When using Sequential models, prefer using an `Input(shape)` object as the first layer in the model instead.\n",
      "  super().__init__(activity_regularizer=activity_regularizer, **kwargs)\n"
     ]
    },
    {
     "name": "stdout",
     "output_type": "stream",
     "text": [
      "\u001b[1m129/129\u001b[0m \u001b[32m━━━━━━━━━━━━━━━━━━━━\u001b[0m\u001b[37m\u001b[0m \u001b[1m0s\u001b[0m 3ms/step\n"
     ]
    },
    {
     "name": "stderr",
     "output_type": "stream",
     "text": [
      "[I 2025-06-24 21:11:15,713] Trial 16 finished with value: 0.2824629561348999 and parameters: {'n_units_l1': 125, 'act_l1': 'relu', 'n_units_l2': 20, 'act_l2': 'tanh', 'lr': 0.00032193032095674816, 'batch_size': 16}. Best is trial 12 with value: 0.2573445870279223.\n",
      "c:\\Users\\waldo\\miniconda3\\envs\\optuna_keras\\lib\\site-packages\\keras\\src\\layers\\core\\dense.py:93: UserWarning: Do not pass an `input_shape`/`input_dim` argument to a layer. When using Sequential models, prefer using an `Input(shape)` object as the first layer in the model instead.\n",
      "  super().__init__(activity_regularizer=activity_regularizer, **kwargs)\n"
     ]
    },
    {
     "name": "stdout",
     "output_type": "stream",
     "text": [
      "\u001b[1m129/129\u001b[0m \u001b[32m━━━━━━━━━━━━━━━━━━━━\u001b[0m\u001b[37m\u001b[0m \u001b[1m0s\u001b[0m 3ms/step\n"
     ]
    },
    {
     "name": "stderr",
     "output_type": "stream",
     "text": [
      "[I 2025-06-24 21:15:05,329] Trial 17 finished with value: 0.2719959524705672 and parameters: {'n_units_l1': 62, 'act_l1': 'relu', 'n_units_l2': 33, 'act_l2': 'tanh', 'lr': 0.0013101239172600618, 'batch_size': 16}. Best is trial 12 with value: 0.2573445870279223.\n",
      "c:\\Users\\waldo\\miniconda3\\envs\\optuna_keras\\lib\\site-packages\\keras\\src\\layers\\core\\dense.py:93: UserWarning: Do not pass an `input_shape`/`input_dim` argument to a layer. When using Sequential models, prefer using an `Input(shape)` object as the first layer in the model instead.\n",
      "  super().__init__(activity_regularizer=activity_regularizer, **kwargs)\n"
     ]
    },
    {
     "name": "stdout",
     "output_type": "stream",
     "text": [
      "\u001b[1m129/129\u001b[0m \u001b[32m━━━━━━━━━━━━━━━━━━━━\u001b[0m\u001b[37m\u001b[0m \u001b[1m0s\u001b[0m 2ms/step\n"
     ]
    },
    {
     "name": "stderr",
     "output_type": "stream",
     "text": [
      "[I 2025-06-24 21:16:14,029] Trial 18 finished with value: 0.2654367415228967 and parameters: {'n_units_l1': 91, 'act_l1': 'relu', 'n_units_l2': 46, 'act_l2': 'relu', 'lr': 0.004745114189100828, 'batch_size': 64}. Best is trial 12 with value: 0.2573445870279223.\n",
      "c:\\Users\\waldo\\miniconda3\\envs\\optuna_keras\\lib\\site-packages\\keras\\src\\layers\\core\\dense.py:93: UserWarning: Do not pass an `input_shape`/`input_dim` argument to a layer. When using Sequential models, prefer using an `Input(shape)` object as the first layer in the model instead.\n",
      "  super().__init__(activity_regularizer=activity_regularizer, **kwargs)\n"
     ]
    },
    {
     "name": "stdout",
     "output_type": "stream",
     "text": [
      "\u001b[1m129/129\u001b[0m \u001b[32m━━━━━━━━━━━━━━━━━━━━\u001b[0m\u001b[37m\u001b[0m \u001b[1m0s\u001b[0m 2ms/step\n"
     ]
    },
    {
     "name": "stderr",
     "output_type": "stream",
     "text": [
      "[I 2025-06-24 21:18:14,534] Trial 19 finished with value: 0.28141390439878755 and parameters: {'n_units_l1': 108, 'act_l1': 'relu', 'n_units_l2': 38, 'act_l2': 'tanh', 'lr': 0.0004696847414403019, 'batch_size': 32}. Best is trial 12 with value: 0.2573445870279223.\n",
      "c:\\Users\\waldo\\miniconda3\\envs\\optuna_keras\\lib\\site-packages\\keras\\src\\layers\\core\\dense.py:93: UserWarning: Do not pass an `input_shape`/`input_dim` argument to a layer. When using Sequential models, prefer using an `Input(shape)` object as the first layer in the model instead.\n",
      "  super().__init__(activity_regularizer=activity_regularizer, **kwargs)\n"
     ]
    },
    {
     "name": "stdout",
     "output_type": "stream",
     "text": [
      "\u001b[1m129/129\u001b[0m \u001b[32m━━━━━━━━━━━━━━━━━━━━\u001b[0m\u001b[37m\u001b[0m \u001b[1m0s\u001b[0m 1ms/step\n"
     ]
    },
    {
     "name": "stderr",
     "output_type": "stream",
     "text": [
      "[I 2025-06-24 21:21:26,308] Trial 20 finished with value: 0.28129190392679243 and parameters: {'n_units_l1': 109, 'act_l1': 'relu', 'n_units_l2': 26, 'act_l2': 'tanh', 'lr': 0.000686238951273604, 'batch_size': 16}. Best is trial 12 with value: 0.2573445870279223.\n",
      "c:\\Users\\waldo\\miniconda3\\envs\\optuna_keras\\lib\\site-packages\\keras\\src\\layers\\core\\dense.py:93: UserWarning: Do not pass an `input_shape`/`input_dim` argument to a layer. When using Sequential models, prefer using an `Input(shape)` object as the first layer in the model instead.\n",
      "  super().__init__(activity_regularizer=activity_regularizer, **kwargs)\n"
     ]
    },
    {
     "name": "stdout",
     "output_type": "stream",
     "text": [
      "\u001b[1m129/129\u001b[0m \u001b[32m━━━━━━━━━━━━━━━━━━━━\u001b[0m\u001b[37m\u001b[0m \u001b[1m0s\u001b[0m 1ms/step\n"
     ]
    },
    {
     "name": "stderr",
     "output_type": "stream",
     "text": [
      "[I 2025-06-24 21:22:01,307] Trial 21 finished with value: 0.2663941858364119 and parameters: {'n_units_l1': 87, 'act_l1': 'relu', 'n_units_l2': 45, 'act_l2': 'relu', 'lr': 0.003840563673255005, 'batch_size': 64}. Best is trial 12 with value: 0.2573445870279223.\n",
      "c:\\Users\\waldo\\miniconda3\\envs\\optuna_keras\\lib\\site-packages\\keras\\src\\layers\\core\\dense.py:93: UserWarning: Do not pass an `input_shape`/`input_dim` argument to a layer. When using Sequential models, prefer using an `Input(shape)` object as the first layer in the model instead.\n",
      "  super().__init__(activity_regularizer=activity_regularizer, **kwargs)\n"
     ]
    },
    {
     "name": "stdout",
     "output_type": "stream",
     "text": [
      "\u001b[1m129/129\u001b[0m \u001b[32m━━━━━━━━━━━━━━━━━━━━\u001b[0m\u001b[37m\u001b[0m \u001b[1m0s\u001b[0m 3ms/step\n"
     ]
    },
    {
     "name": "stderr",
     "output_type": "stream",
     "text": [
      "[I 2025-06-24 21:22:41,586] Trial 22 finished with value: 0.2734484129554974 and parameters: {'n_units_l1': 73, 'act_l1': 'relu', 'n_units_l2': 49, 'act_l2': 'relu', 'lr': 0.008888792804688494, 'batch_size': 64}. Best is trial 12 with value: 0.2573445870279223.\n",
      "c:\\Users\\waldo\\miniconda3\\envs\\optuna_keras\\lib\\site-packages\\keras\\src\\layers\\core\\dense.py:93: UserWarning: Do not pass an `input_shape`/`input_dim` argument to a layer. When using Sequential models, prefer using an `Input(shape)` object as the first layer in the model instead.\n",
      "  super().__init__(activity_regularizer=activity_regularizer, **kwargs)\n"
     ]
    },
    {
     "name": "stdout",
     "output_type": "stream",
     "text": [
      "\u001b[1m129/129\u001b[0m \u001b[32m━━━━━━━━━━━━━━━━━━━━\u001b[0m\u001b[37m\u001b[0m \u001b[1m0s\u001b[0m 3ms/step\n"
     ]
    },
    {
     "name": "stderr",
     "output_type": "stream",
     "text": [
      "[I 2025-06-24 21:23:47,802] Trial 23 finished with value: 0.28249809004068466 and parameters: {'n_units_l1': 98, 'act_l1': 'relu', 'n_units_l2': 18, 'act_l2': 'relu', 'lr': 0.0034583290161762305, 'batch_size': 64}. Best is trial 12 with value: 0.2573445870279223.\n",
      "c:\\Users\\waldo\\miniconda3\\envs\\optuna_keras\\lib\\site-packages\\keras\\src\\layers\\core\\dense.py:93: UserWarning: Do not pass an `input_shape`/`input_dim` argument to a layer. When using Sequential models, prefer using an `Input(shape)` object as the first layer in the model instead.\n",
      "  super().__init__(activity_regularizer=activity_regularizer, **kwargs)\n"
     ]
    },
    {
     "name": "stdout",
     "output_type": "stream",
     "text": [
      "\u001b[1m129/129\u001b[0m \u001b[32m━━━━━━━━━━━━━━━━━━━━\u001b[0m\u001b[37m\u001b[0m \u001b[1m0s\u001b[0m 2ms/step\n"
     ]
    },
    {
     "name": "stderr",
     "output_type": "stream",
     "text": [
      "[I 2025-06-24 21:24:53,089] Trial 24 finished with value: 0.27514646889120953 and parameters: {'n_units_l1': 115, 'act_l1': 'relu', 'n_units_l2': 34, 'act_l2': 'relu', 'lr': 0.005900387949531286, 'batch_size': 64}. Best is trial 12 with value: 0.2573445870279223.\n",
      "c:\\Users\\waldo\\miniconda3\\envs\\optuna_keras\\lib\\site-packages\\keras\\src\\layers\\core\\dense.py:93: UserWarning: Do not pass an `input_shape`/`input_dim` argument to a layer. When using Sequential models, prefer using an `Input(shape)` object as the first layer in the model instead.\n",
      "  super().__init__(activity_regularizer=activity_regularizer, **kwargs)\n"
     ]
    },
    {
     "name": "stdout",
     "output_type": "stream",
     "text": [
      "\u001b[1m129/129\u001b[0m \u001b[32m━━━━━━━━━━━━━━━━━━━━\u001b[0m\u001b[37m\u001b[0m \u001b[1m0s\u001b[0m 2ms/step\n"
     ]
    },
    {
     "name": "stderr",
     "output_type": "stream",
     "text": [
      "[I 2025-06-24 21:25:58,495] Trial 25 finished with value: 0.26933815726767524 and parameters: {'n_units_l1': 56, 'act_l1': 'relu', 'n_units_l2': 42, 'act_l2': 'relu', 'lr': 0.0012029188509979393, 'batch_size': 64}. Best is trial 12 with value: 0.2573445870279223.\n",
      "c:\\Users\\waldo\\miniconda3\\envs\\optuna_keras\\lib\\site-packages\\keras\\src\\layers\\core\\dense.py:93: UserWarning: Do not pass an `input_shape`/`input_dim` argument to a layer. When using Sequential models, prefer using an `Input(shape)` object as the first layer in the model instead.\n",
      "  super().__init__(activity_regularizer=activity_regularizer, **kwargs)\n"
     ]
    },
    {
     "name": "stdout",
     "output_type": "stream",
     "text": [
      "\u001b[1m129/129\u001b[0m \u001b[32m━━━━━━━━━━━━━━━━━━━━\u001b[0m\u001b[37m\u001b[0m \u001b[1m0s\u001b[0m 3ms/step\n"
     ]
    },
    {
     "name": "stderr",
     "output_type": "stream",
     "text": [
      "[I 2025-06-24 21:29:37,586] Trial 26 finished with value: 0.2682973177737617 and parameters: {'n_units_l1': 84, 'act_l1': 'relu', 'n_units_l2': 29, 'act_l2': 'relu', 'lr': 0.0015596213993859646, 'batch_size': 16}. Best is trial 12 with value: 0.2573445870279223.\n",
      "c:\\Users\\waldo\\miniconda3\\envs\\optuna_keras\\lib\\site-packages\\keras\\src\\layers\\core\\dense.py:93: UserWarning: Do not pass an `input_shape`/`input_dim` argument to a layer. When using Sequential models, prefer using an `Input(shape)` object as the first layer in the model instead.\n",
      "  super().__init__(activity_regularizer=activity_regularizer, **kwargs)\n"
     ]
    },
    {
     "name": "stdout",
     "output_type": "stream",
     "text": [
      "\u001b[1m129/129\u001b[0m \u001b[32m━━━━━━━━━━━━━━━━━━━━\u001b[0m\u001b[37m\u001b[0m \u001b[1m0s\u001b[0m 3ms/step\n"
     ]
    },
    {
     "name": "stderr",
     "output_type": "stream",
     "text": [
      "[I 2025-06-24 21:32:50,004] Trial 27 finished with value: 0.2699065346241394 and parameters: {'n_units_l1': 35, 'act_l1': 'relu', 'n_units_l2': 53, 'act_l2': 'tanh', 'lr': 0.0029486507342760967, 'batch_size': 16}. Best is trial 12 with value: 0.2573445870279223.\n",
      "c:\\Users\\waldo\\miniconda3\\envs\\optuna_keras\\lib\\site-packages\\keras\\src\\layers\\core\\dense.py:93: UserWarning: Do not pass an `input_shape`/`input_dim` argument to a layer. When using Sequential models, prefer using an `Input(shape)` object as the first layer in the model instead.\n",
      "  super().__init__(activity_regularizer=activity_regularizer, **kwargs)\n"
     ]
    },
    {
     "name": "stdout",
     "output_type": "stream",
     "text": [
      "\u001b[1m129/129\u001b[0m \u001b[32m━━━━━━━━━━━━━━━━━━━━\u001b[0m\u001b[37m\u001b[0m \u001b[1m0s\u001b[0m 3ms/step\n"
     ]
    },
    {
     "name": "stderr",
     "output_type": "stream",
     "text": [
      "[I 2025-06-24 21:33:52,613] Trial 28 finished with value: 0.2733419229930632 and parameters: {'n_units_l1': 67, 'act_l1': 'relu', 'n_units_l2': 44, 'act_l2': 'relu', 'lr': 0.0049773719410021325, 'batch_size': 32}. Best is trial 12 with value: 0.2573445870279223.\n",
      "c:\\Users\\waldo\\miniconda3\\envs\\optuna_keras\\lib\\site-packages\\keras\\src\\layers\\core\\dense.py:93: UserWarning: Do not pass an `input_shape`/`input_dim` argument to a layer. When using Sequential models, prefer using an `Input(shape)` object as the first layer in the model instead.\n",
      "  super().__init__(activity_regularizer=activity_regularizer, **kwargs)\n"
     ]
    },
    {
     "name": "stdout",
     "output_type": "stream",
     "text": [
      "\u001b[1m129/129\u001b[0m \u001b[32m━━━━━━━━━━━━━━━━━━━━\u001b[0m\u001b[37m\u001b[0m \u001b[1m0s\u001b[0m 3ms/step\n"
     ]
    },
    {
     "name": "stderr",
     "output_type": "stream",
     "text": [
      "[I 2025-06-24 21:34:44,257] Trial 29 finished with value: 0.29619166751044296 and parameters: {'n_units_l1': 118, 'act_l1': 'relu', 'n_units_l2': 17, 'act_l2': 'tanh', 'lr': 0.00023572427918079462, 'batch_size': 64}. Best is trial 12 with value: 0.2573445870279223.\n"
     ]
    },
    {
     "name": "stdout",
     "output_type": "stream",
     "text": [
      "📌 Mejor score (MSE): 0.2573445870279223\n",
      "🧪 Mejores hiperparámetros: {'n_units_l1': 63, 'act_l1': 'relu', 'n_units_l2': 28, 'act_l2': 'tanh', 'lr': 0.001552954889894353, 'batch_size': 16}\n"
     ]
    },
    {
     "name": "stderr",
     "output_type": "stream",
     "text": [
      "C:\\Users\\waldo\\AppData\\Local\\Temp\\ipykernel_18984\\1670433243.py:65: ExperimentalWarning: plot_optimization_history is experimental (supported from v2.2.0). The interface can change in the future.\n",
      "  fig = plot_optimization_history(study)\n"
     ]
    },
    {
     "data": {
      "image/png": "[encoded data removed]",
      "text/plain": [
       "<Figure size 640x480 with 1 Axes>"
      ]
     },
     "metadata": {},
     "output_type": "display_data"
    }
   ],
   "source": [
    "# ⚙️ Instalar si hace falta\n",
    "# pip install optuna tensorflow scikit-learn pandas matplotlib\n",
    "\n",
    "import optuna\n",
    "import numpy as np\n",
    "import tensorflow as tf\n",
    "from tensorflow import keras\n",
    "from tensorflow.keras import layers\n",
    "from sklearn.datasets import fetch_california_housing\n",
    "from sklearn.model_selection import train_test_split\n",
    "from sklearn.preprocessing import StandardScaler\n",
    "from sklearn.metrics import mean_squared_error\n",
    "import matplotlib.pyplot as plt\n",
    "from optuna.visualization.matplotlib import plot_optimization_history\n",
    "\n",
    "# 🏡 Cargar datos California Housing\n",
    "data = fetch_california_housing()\n",
    "X = data.data\n",
    "y = data.target\n",
    "\n",
    "# 🔧 Escalar features\n",
    "scaler = StandardScaler()\n",
    "X_scaled = scaler.fit_transform(X)\n",
    "\n",
    "# 🔀 Train/test split\n",
    "X_train, X_val, y_train, y_val = train_test_split(X_scaled, y, test_size=0.2, random_state=42)\n",
    "\n",
    "# 🎯 Función objetivo para Optuna\n",
    "def objective(trial):\n",
    "    model = keras.Sequential()\n",
    "    model.add(layers.Dense(\n",
    "        trial.suggest_int(\"n_units_l1\", 16, 128),\n",
    "        activation=trial.suggest_categorical(\"act_l1\", [\"relu\", \"tanh\"]),\n",
    "        input_shape=(X_train.shape[1],)))\n",
    "    \n",
    "    model.add(layers.Dense(\n",
    "        trial.suggest_int(\"n_units_l2\", 8, 64),\n",
    "        activation=trial.suggest_categorical(\"act_l2\", [\"relu\", \"tanh\"])))\n",
    "\n",
    "    model.add(layers.Dense(1, activation='linear'))\n",
    "\n",
    "    optimizer = keras.optimizers.Adam(\n",
    "        learning_rate=trial.suggest_float(\"lr\", 1e-4, 1e-2, log=True)\n",
    "    )\n",
    "    model.compile(optimizer=optimizer, loss=\"mse\")\n",
    "\n",
    "    model.fit(X_train, y_train,\n",
    "              validation_data=(X_val, y_val),\n",
    "              epochs=50,\n",
    "              batch_size=trial.suggest_categorical(\"batch_size\", [16, 32, 64]),\n",
    "              verbose=0)\n",
    "    \n",
    "    y_pred = model.predict(X_val).flatten()\n",
    "    return mean_squared_error(y_val, y_pred)\n",
    "\n",
    "# 🔍 Ejecutar búsqueda bayesiana\n",
    "study = optuna.create_study(direction=\"minimize\")\n",
    "study.optimize(objective, n_trials=30)\n",
    "\n",
    "# 📢 Resultados\n",
    "print(\"📌 Mejor score (MSE):\", study.best_value)\n",
    "print(\"🧪 Mejores hiperparámetros:\", study.best_params)\n",
    "\n",
    "# 📈 Gráfico de evolución del score\n",
    "fig = plot_optimization_history(study)\n",
    "plt.title(\"Evolución del MSE por trial\")\n",
    "plt.xlabel(\"Trial\")\n",
    "plt.ylabel(\"MSE\")\n",
    "plt.grid(True)\n",
    "plt.show()\n"
   ]
  }
 ],
 "metadata": {
  "kernelspec": {
   "display_name": "optuna_keras",
   "language": "python",
   "name": "python3"
  },
  "language_info": {
   "codemirror_mode": {
    "name": "ipython",
    "version": 3
   },
   "file_extension": ".py",
   "mimetype": "text/x-python",
   "name": "python",
   "nbconvert_exporter": "python",
   "pygments_lexer": "ipython3",
   "version": "3.10.18"
  }
 },
 "nbformat": 4,
 "nbformat_minor": 5
}
