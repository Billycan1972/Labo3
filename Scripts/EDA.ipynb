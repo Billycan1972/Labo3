{
 "cells": [
  {
   "cell_type": "code",
   "execution_count": 1,
   "metadata": {},
   "outputs": [
    {
     "name": "stdout",
     "output_type": "stream",
     "text": [
      "Pandas Version: 2.1.4\n"
     ]
    }
   ],
   "source": [
    "import pandas as pd\n",
    "#Configuración de parametros de Pandas para mejor visualización\n",
    "pd.set_option('display.max_columns', None)\n",
    "pd.set_option('display.max_rows', None)\n",
    "pd.set_option('display.max_colwidth', None)\n",
    "pd.set_option('display.precision', 3)\n",
    "pd.set_option('plotting.backend', 'matplotlib') \n",
    "pd.options.mode.chained_assignment = None\n",
    "\n",
    "# En produccion eliminar, se incluye por informacion\n",
    "print(f'Pandas Version: {pd.__version__}') "
   ]
  },
  {
   "cell_type": "code",
   "execution_count": 2,
   "metadata": {},
   "outputs": [
    {
     "name": "stdout",
     "output_type": "stream",
     "text": [
      "Numpy version: 1.26.4\n"
     ]
    }
   ],
   "source": [
    "import numpy as np\n",
    "\n",
    "np.set_printoptions(suppress=True)\n",
    "\n",
    "# En produccion eliminar, se incluye por informacion\n",
    "print(f'Numpy version: {np.__version__}')"
   ]
  },
  {
   "cell_type": "code",
   "execution_count": 3,
   "metadata": {},
   "outputs": [
    {
     "name": "stdout",
     "output_type": "stream",
     "text": [
      "Matplotlib version: 3.7.5\n"
     ]
    }
   ],
   "source": [
    "# En produccion eliminar, se incluye por informacion\n",
    "import matplotlib\n",
    "print(f'Matplotlib version: {matplotlib.__version__}')\n",
    "\n",
    "import matplotlib.pyplot as plt\n",
    "%matplotlib inline\n",
    "plt.rcParams[\"figure.figsize\"] = (15,7)"
   ]
  },
  {
   "cell_type": "code",
   "execution_count": 4,
   "metadata": {},
   "outputs": [],
   "source": [
    "import warnings\n",
    "warnings.filterwarnings(\"ignore\")"
   ]
  },
  {
   "cell_type": "markdown",
   "metadata": {},
   "source": [
    "<a id = \"1.0\"></a>\n",
    "<p style=\"font-size:15px;color:#34656d;font-family:'Comic Sans MS';text-align:center;border-radius:5px 5px;\">\n",
    "<strong>____________________________________</strong></p> "
   ]
  },
  {
   "cell_type": "code",
   "execution_count": 5,
   "metadata": {},
   "outputs": [],
   "source": [
    "df = pd.read_csv('finalitoul.csv')  "
   ]
  },
  {
   "cell_type": "markdown",
   "metadata": {},
   "source": [
    "<a id = \"1.0\"></a>\n",
    "<p style=\"font-size:15px;color:#34656d;font-family:'Comic Sans MS';text-align:left;border-radius:5px 5px;\">\n",
    "<strong>Visualizar las primeras 5 filas  del dataset</strong></p> "
   ]
  },
  {
   "cell_type": "code",
   "execution_count": 6,
   "metadata": {},
   "outputs": [
    {
     "data": {
      "application/vnd.microsoft.datawrangler.viewer.v0+json": {
       "columns": [
        {
         "name": "index",
         "rawType": "int64",
         "type": "integer"
        },
        {
         "name": "customer_id",
         "rawType": "int64",
         "type": "integer"
        },
        {
         "name": "product_id",
         "rawType": "int64",
         "type": "integer"
        },
        {
         "name": "periodo",
         "rawType": "object",
         "type": "string"
        },
        {
         "name": "plan_precios_cuidados",
         "rawType": "float64",
         "type": "float"
        },
        {
         "name": "cust_request_qty",
         "rawType": "float64",
         "type": "float"
        },
        {
         "name": "cust_request_tn",
         "rawType": "float64",
         "type": "float"
        },
        {
         "name": "tn",
         "rawType": "float64",
         "type": "float"
        },
        {
         "name": "stock_final",
         "rawType": "float64",
         "type": "float"
        },
        {
         "name": "cat1",
         "rawType": "object",
         "type": "string"
        },
        {
         "name": "cat2",
         "rawType": "object",
         "type": "string"
        },
        {
         "name": "cat3",
         "rawType": "object",
         "type": "string"
        },
        {
         "name": "brand",
         "rawType": "object",
         "type": "string"
        },
        {
         "name": "sku_size",
         "rawType": "int64",
         "type": "integer"
        }
       ],
       "ref": "f68f61a6-6b12-4a86-bafc-8a7364462c41",
       "rows": [
        [
         "0",
         "10001",
         "20001",
         "2017-01-01",
         "0.0",
         "11.0",
         "99.43861",
         "99.43861",
         "0.0",
         "HC",
         "ROPA LAVADO",
         "Liquido",
         "ARIEL",
         "3000"
        ],
        [
         "1",
         "10001",
         "20001",
         "2017-02-01",
         "0.0",
         "23.0",
         "198.84365",
         "198.84365",
         "0.0",
         "HC",
         "ROPA LAVADO",
         "Liquido",
         "ARIEL",
         "3000"
        ],
        [
         "2",
         "10001",
         "20001",
         "2017-03-01",
         "0.0",
         "33.0",
         "92.46537",
         "92.46537",
         "0.0",
         "HC",
         "ROPA LAVADO",
         "Liquido",
         "ARIEL",
         "3000"
        ],
        [
         "3",
         "10001",
         "20001",
         "2017-04-01",
         "0.0",
         "8.0",
         "13.29728",
         "13.29728",
         "0.0",
         "HC",
         "ROPA LAVADO",
         "Liquido",
         "ARIEL",
         "3000"
        ],
        [
         "4",
         "10001",
         "20001",
         "2017-05-01",
         "0.0",
         "15.0",
         "101.20711",
         "101.00563",
         "0.0",
         "HC",
         "ROPA LAVADO",
         "Liquido",
         "ARIEL",
         "3000"
        ]
       ],
       "shape": {
        "columns": 13,
        "rows": 5
       }
      },
      "text/html": [
       "<div>\n",
       "<style scoped>\n",
       "    .dataframe tbody tr th:only-of-type {\n",
       "        vertical-align: middle;\n",
       "    }\n",
       "\n",
       "    .dataframe tbody tr th {\n",
       "        vertical-align: top;\n",
       "    }\n",
       "\n",
       "    .dataframe thead th {\n",
       "        text-align: right;\n",
       "    }\n",
       "</style>\n",
       "<table border=\"1\" class=\"dataframe\">\n",
       "  <thead>\n",
       "    <tr style=\"text-align: right;\">\n",
       "      <th></th>\n",
       "      <th>customer_id</th>\n",
       "      <th>product_id</th>\n",
       "      <th>periodo</th>\n",
       "      <th>plan_precios_cuidados</th>\n",
       "      <th>cust_request_qty</th>\n",
       "      <th>cust_request_tn</th>\n",
       "      <th>tn</th>\n",
       "      <th>stock_final</th>\n",
       "      <th>cat1</th>\n",
       "      <th>cat2</th>\n",
       "      <th>cat3</th>\n",
       "      <th>brand</th>\n",
       "      <th>sku_size</th>\n",
       "    </tr>\n",
       "  </thead>\n",
       "  <tbody>\n",
       "    <tr>\n",
       "      <th>0</th>\n",
       "      <td>10001</td>\n",
       "      <td>20001</td>\n",
       "      <td>2017-01-01</td>\n",
       "      <td>0.0</td>\n",
       "      <td>11.0</td>\n",
       "      <td>99.439</td>\n",
       "      <td>99.439</td>\n",
       "      <td>0.0</td>\n",
       "      <td>HC</td>\n",
       "      <td>ROPA LAVADO</td>\n",
       "      <td>Liquido</td>\n",
       "      <td>ARIEL</td>\n",
       "      <td>3000</td>\n",
       "    </tr>\n",
       "    <tr>\n",
       "      <th>1</th>\n",
       "      <td>10001</td>\n",
       "      <td>20001</td>\n",
       "      <td>2017-02-01</td>\n",
       "      <td>0.0</td>\n",
       "      <td>23.0</td>\n",
       "      <td>198.844</td>\n",
       "      <td>198.844</td>\n",
       "      <td>0.0</td>\n",
       "      <td>HC</td>\n",
       "      <td>ROPA LAVADO</td>\n",
       "      <td>Liquido</td>\n",
       "      <td>ARIEL</td>\n",
       "      <td>3000</td>\n",
       "    </tr>\n",
       "    <tr>\n",
       "      <th>2</th>\n",
       "      <td>10001</td>\n",
       "      <td>20001</td>\n",
       "      <td>2017-03-01</td>\n",
       "      <td>0.0</td>\n",
       "      <td>33.0</td>\n",
       "      <td>92.465</td>\n",
       "      <td>92.465</td>\n",
       "      <td>0.0</td>\n",
       "      <td>HC</td>\n",
       "      <td>ROPA LAVADO</td>\n",
       "      <td>Liquido</td>\n",
       "      <td>ARIEL</td>\n",
       "      <td>3000</td>\n",
       "    </tr>\n",
       "    <tr>\n",
       "      <th>3</th>\n",
       "      <td>10001</td>\n",
       "      <td>20001</td>\n",
       "      <td>2017-04-01</td>\n",
       "      <td>0.0</td>\n",
       "      <td>8.0</td>\n",
       "      <td>13.297</td>\n",
       "      <td>13.297</td>\n",
       "      <td>0.0</td>\n",
       "      <td>HC</td>\n",
       "      <td>ROPA LAVADO</td>\n",
       "      <td>Liquido</td>\n",
       "      <td>ARIEL</td>\n",
       "      <td>3000</td>\n",
       "    </tr>\n",
       "    <tr>\n",
       "      <th>4</th>\n",
       "      <td>10001</td>\n",
       "      <td>20001</td>\n",
       "      <td>2017-05-01</td>\n",
       "      <td>0.0</td>\n",
       "      <td>15.0</td>\n",
       "      <td>101.207</td>\n",
       "      <td>101.006</td>\n",
       "      <td>0.0</td>\n",
       "      <td>HC</td>\n",
       "      <td>ROPA LAVADO</td>\n",
       "      <td>Liquido</td>\n",
       "      <td>ARIEL</td>\n",
       "      <td>3000</td>\n",
       "    </tr>\n",
       "  </tbody>\n",
       "</table>\n",
       "</div>"
      ],
      "text/plain": [
       "   customer_id  product_id     periodo  plan_precios_cuidados  \\\n",
       "0        10001       20001  2017-01-01                    0.0   \n",
       "1        10001       20001  2017-02-01                    0.0   \n",
       "2        10001       20001  2017-03-01                    0.0   \n",
       "3        10001       20001  2017-04-01                    0.0   \n",
       "4        10001       20001  2017-05-01                    0.0   \n",
       "\n",
       "   cust_request_qty  cust_request_tn       tn  stock_final cat1         cat2  \\\n",
       "0              11.0           99.439   99.439          0.0   HC  ROPA LAVADO   \n",
       "1              23.0          198.844  198.844          0.0   HC  ROPA LAVADO   \n",
       "2              33.0           92.465   92.465          0.0   HC  ROPA LAVADO   \n",
       "3               8.0           13.297   13.297          0.0   HC  ROPA LAVADO   \n",
       "4              15.0          101.207  101.006          0.0   HC  ROPA LAVADO   \n",
       "\n",
       "      cat3  brand  sku_size  \n",
       "0  Liquido  ARIEL      3000  \n",
       "1  Liquido  ARIEL      3000  \n",
       "2  Liquido  ARIEL      3000  \n",
       "3  Liquido  ARIEL      3000  \n",
       "4  Liquido  ARIEL      3000  "
      ]
     },
     "execution_count": 6,
     "metadata": {},
     "output_type": "execute_result"
    }
   ],
   "source": [
    "df.head()"
   ]
  },
  {
   "cell_type": "markdown",
   "metadata": {},
   "source": [
    "<a id = \"1.0\"></a>\n",
    "<p style=\"font-size:15px;color:#34656d;font-family:'Comic Sans MS';text-align:left;border-radius:5px 5px;\">\n",
    "<strong>Visualizar de manera aleatoria 5 filas del dataset</strong></p> "
   ]
  },
  {
   "cell_type": "code",
   "execution_count": 7,
   "metadata": {},
   "outputs": [
    {
     "data": {
      "application/vnd.microsoft.datawrangler.viewer.v0+json": {
       "columns": [
        {
         "name": "index",
         "rawType": "int64",
         "type": "integer"
        },
        {
         "name": "customer_id",
         "rawType": "int64",
         "type": "integer"
        },
        {
         "name": "product_id",
         "rawType": "int64",
         "type": "integer"
        },
        {
         "name": "periodo",
         "rawType": "object",
         "type": "string"
        },
        {
         "name": "plan_precios_cuidados",
         "rawType": "float64",
         "type": "float"
        },
        {
         "name": "cust_request_qty",
         "rawType": "float64",
         "type": "float"
        },
        {
         "name": "cust_request_tn",
         "rawType": "float64",
         "type": "float"
        },
        {
         "name": "tn",
         "rawType": "float64",
         "type": "float"
        },
        {
         "name": "stock_final",
         "rawType": "float64",
         "type": "float"
        },
        {
         "name": "cat1",
         "rawType": "object",
         "type": "string"
        },
        {
         "name": "cat2",
         "rawType": "object",
         "type": "string"
        },
        {
         "name": "cat3",
         "rawType": "object",
         "type": "string"
        },
        {
         "name": "brand",
         "rawType": "object",
         "type": "string"
        },
        {
         "name": "sku_size",
         "rawType": "int64",
         "type": "integer"
        }
       ],
       "ref": "1003f4f0-7d56-4026-a4d8-634aae31deef",
       "rows": [
        [
         "9960111",
         "10355",
         "20751",
         "2019-04-01",
         "0.0",
         "0.0",
         "0.0",
         "0.0",
         "-0.00885",
         "PC",
         "DENTAL",
         "CREMA",
         "COLGATE",
         "180"
        ],
        [
         "7067548",
         "10252",
         "20739",
         "2019-05-01",
         "0.0",
         "1.0",
         "0.00175",
         "0.00175",
         "2.55732",
         "PC",
         "DEOS",
         "NoAero",
         "DEOS1",
         "50"
        ],
        [
         "13038737",
         "10472",
         "20326",
         "2017-06-01",
         "0.0",
         "0.0",
         "0.0",
         "0.0",
         "0.0",
         "PC",
         "DEOS",
         "RollOn",
         "NIVEA",
         "50"
        ],
        [
         "730484",
         "10027",
         "20012",
         "2017-09-01",
         "0.0",
         "1.0",
         "0.26271",
         "0.26271",
         "0.0",
         "HC",
         "ROPA ACONDICIONADOR",
         "ACONDICIONADOR",
         "DOWNY",
         "800"
        ],
        [
         "5993606",
         "10214",
         "20440",
         "2017-03-01",
         "0.0",
         "0.0",
         "0.0",
         "0.0",
         "0.0",
         "FOODS",
         "ADEREZOS",
         "Mayonesa",
         "NATURA",
         "250"
        ]
       ],
       "shape": {
        "columns": 13,
        "rows": 5
       }
      },
      "text/html": [
       "<div>\n",
       "<style scoped>\n",
       "    .dataframe tbody tr th:only-of-type {\n",
       "        vertical-align: middle;\n",
       "    }\n",
       "\n",
       "    .dataframe tbody tr th {\n",
       "        vertical-align: top;\n",
       "    }\n",
       "\n",
       "    .dataframe thead th {\n",
       "        text-align: right;\n",
       "    }\n",
       "</style>\n",
       "<table border=\"1\" class=\"dataframe\">\n",
       "  <thead>\n",
       "    <tr style=\"text-align: right;\">\n",
       "      <th></th>\n",
       "      <th>customer_id</th>\n",
       "      <th>product_id</th>\n",
       "      <th>periodo</th>\n",
       "      <th>plan_precios_cuidados</th>\n",
       "      <th>cust_request_qty</th>\n",
       "      <th>cust_request_tn</th>\n",
       "      <th>tn</th>\n",
       "      <th>stock_final</th>\n",
       "      <th>cat1</th>\n",
       "      <th>cat2</th>\n",
       "      <th>cat3</th>\n",
       "      <th>brand</th>\n",
       "      <th>sku_size</th>\n",
       "    </tr>\n",
       "  </thead>\n",
       "  <tbody>\n",
       "    <tr>\n",
       "      <th>9960111</th>\n",
       "      <td>10355</td>\n",
       "      <td>20751</td>\n",
       "      <td>2019-04-01</td>\n",
       "      <td>0.0</td>\n",
       "      <td>0.0</td>\n",
       "      <td>0.000</td>\n",
       "      <td>0.000</td>\n",
       "      <td>-0.009</td>\n",
       "      <td>PC</td>\n",
       "      <td>DENTAL</td>\n",
       "      <td>CREMA</td>\n",
       "      <td>COLGATE</td>\n",
       "      <td>180</td>\n",
       "    </tr>\n",
       "    <tr>\n",
       "      <th>7067548</th>\n",
       "      <td>10252</td>\n",
       "      <td>20739</td>\n",
       "      <td>2019-05-01</td>\n",
       "      <td>0.0</td>\n",
       "      <td>1.0</td>\n",
       "      <td>0.002</td>\n",
       "      <td>0.002</td>\n",
       "      <td>2.557</td>\n",
       "      <td>PC</td>\n",
       "      <td>DEOS</td>\n",
       "      <td>NoAero</td>\n",
       "      <td>DEOS1</td>\n",
       "      <td>50</td>\n",
       "    </tr>\n",
       "    <tr>\n",
       "      <th>13038737</th>\n",
       "      <td>10472</td>\n",
       "      <td>20326</td>\n",
       "      <td>2017-06-01</td>\n",
       "      <td>0.0</td>\n",
       "      <td>0.0</td>\n",
       "      <td>0.000</td>\n",
       "      <td>0.000</td>\n",
       "      <td>0.000</td>\n",
       "      <td>PC</td>\n",
       "      <td>DEOS</td>\n",
       "      <td>RollOn</td>\n",
       "      <td>NIVEA</td>\n",
       "      <td>50</td>\n",
       "    </tr>\n",
       "    <tr>\n",
       "      <th>730484</th>\n",
       "      <td>10027</td>\n",
       "      <td>20012</td>\n",
       "      <td>2017-09-01</td>\n",
       "      <td>0.0</td>\n",
       "      <td>1.0</td>\n",
       "      <td>0.263</td>\n",
       "      <td>0.263</td>\n",
       "      <td>0.000</td>\n",
       "      <td>HC</td>\n",
       "      <td>ROPA ACONDICIONADOR</td>\n",
       "      <td>ACONDICIONADOR</td>\n",
       "      <td>DOWNY</td>\n",
       "      <td>800</td>\n",
       "    </tr>\n",
       "    <tr>\n",
       "      <th>5993606</th>\n",
       "      <td>10214</td>\n",
       "      <td>20440</td>\n",
       "      <td>2017-03-01</td>\n",
       "      <td>0.0</td>\n",
       "      <td>0.0</td>\n",
       "      <td>0.000</td>\n",
       "      <td>0.000</td>\n",
       "      <td>0.000</td>\n",
       "      <td>FOODS</td>\n",
       "      <td>ADEREZOS</td>\n",
       "      <td>Mayonesa</td>\n",
       "      <td>NATURA</td>\n",
       "      <td>250</td>\n",
       "    </tr>\n",
       "  </tbody>\n",
       "</table>\n",
       "</div>"
      ],
      "text/plain": [
       "          customer_id  product_id     periodo  plan_precios_cuidados  \\\n",
       "9960111         10355       20751  2019-04-01                    0.0   \n",
       "7067548         10252       20739  2019-05-01                    0.0   \n",
       "13038737        10472       20326  2017-06-01                    0.0   \n",
       "730484          10027       20012  2017-09-01                    0.0   \n",
       "5993606         10214       20440  2017-03-01                    0.0   \n",
       "\n",
       "          cust_request_qty  cust_request_tn     tn  stock_final   cat1  \\\n",
       "9960111                0.0            0.000  0.000       -0.009     PC   \n",
       "7067548                1.0            0.002  0.002        2.557     PC   \n",
       "13038737               0.0            0.000  0.000        0.000     PC   \n",
       "730484                 1.0            0.263  0.263        0.000     HC   \n",
       "5993606                0.0            0.000  0.000        0.000  FOODS   \n",
       "\n",
       "                         cat2            cat3    brand  sku_size  \n",
       "9960111                DENTAL           CREMA  COLGATE       180  \n",
       "7067548                  DEOS          NoAero    DEOS1        50  \n",
       "13038737                 DEOS          RollOn    NIVEA        50  \n",
       "730484    ROPA ACONDICIONADOR  ACONDICIONADOR    DOWNY       800  \n",
       "5993606              ADEREZOS        Mayonesa   NATURA       250  "
      ]
     },
     "execution_count": 7,
     "metadata": {},
     "output_type": "execute_result"
    }
   ],
   "source": [
    "df.sample(5) "
   ]
  },
  {
   "cell_type": "code",
   "execution_count": null,
   "metadata": {},
   "outputs": [],
   "source": [
    "from reducirDT import optimize_memory_usage\n",
    "df = optimize_memory_usage(df)"
   ]
  },
  {
   "cell_type": "markdown",
   "metadata": {},
   "source": [
    "<a id = \"1.0\"></a>\n",
    "<p style=\"font-size:15px;color:#34656d;font-family:'Comic Sans MS';text-align:left;border-radius:5px 5px;\">\n",
    "<strong>Visualizar las ulitmas 5 filas del dataset</strong></p> "
   ]
  },
  {
   "cell_type": "code",
   "execution_count": 8,
   "metadata": {},
   "outputs": [
    {
     "data": {
      "application/vnd.microsoft.datawrangler.viewer.v0+json": {
       "columns": [
        {
         "name": "index",
         "rawType": "int64",
         "type": "integer"
        },
        {
         "name": "customer_id",
         "rawType": "int64",
         "type": "integer"
        },
        {
         "name": "product_id",
         "rawType": "int64",
         "type": "integer"
        },
        {
         "name": "periodo",
         "rawType": "object",
         "type": "string"
        },
        {
         "name": "plan_precios_cuidados",
         "rawType": "float64",
         "type": "float"
        },
        {
         "name": "cust_request_qty",
         "rawType": "float64",
         "type": "float"
        },
        {
         "name": "cust_request_tn",
         "rawType": "float64",
         "type": "float"
        },
        {
         "name": "tn",
         "rawType": "float64",
         "type": "float"
        },
        {
         "name": "stock_final",
         "rawType": "float64",
         "type": "float"
        },
        {
         "name": "cat1",
         "rawType": "object",
         "type": "string"
        },
        {
         "name": "cat2",
         "rawType": "object",
         "type": "string"
        },
        {
         "name": "cat3",
         "rawType": "object",
         "type": "string"
        },
        {
         "name": "brand",
         "rawType": "object",
         "type": "string"
        },
        {
         "name": "sku_size",
         "rawType": "int64",
         "type": "integer"
        }
       ],
       "ref": "1cc9b147-3897-4c0d-9c37-2780fd0cabc3",
       "rows": [
        [
         "16763755",
         "10637",
         "21276",
         "2019-08-01",
         "0.0",
         "0.0",
         "0.0",
         "0.0",
         "1.08488",
         "PC",
         "PIEL1",
         "Cara",
         "NIVEA",
         "140"
        ],
        [
         "16763756",
         "10637",
         "21276",
         "2019-09-01",
         "0.0",
         "0.0",
         "0.0",
         "0.0",
         "0.87622",
         "PC",
         "PIEL1",
         "Cara",
         "NIVEA",
         "140"
        ],
        [
         "16763757",
         "10637",
         "21276",
         "2019-10-01",
         "0.0",
         "0.0",
         "0.0",
         "0.0",
         "1.05889",
         "PC",
         "PIEL1",
         "Cara",
         "NIVEA",
         "140"
        ],
        [
         "16763758",
         "10637",
         "21276",
         "2019-11-01",
         "0.0",
         "0.0",
         "0.0",
         "0.0",
         "1.06112",
         "PC",
         "PIEL1",
         "Cara",
         "NIVEA",
         "140"
        ],
        [
         "16763759",
         "10637",
         "21276",
         "2019-12-01",
         "0.0",
         "0.0",
         "0.0",
         "0.0",
         "1.05592",
         "PC",
         "PIEL1",
         "Cara",
         "NIVEA",
         "140"
        ]
       ],
       "shape": {
        "columns": 13,
        "rows": 5
       }
      },
      "text/html": [
       "<div>\n",
       "<style scoped>\n",
       "    .dataframe tbody tr th:only-of-type {\n",
       "        vertical-align: middle;\n",
       "    }\n",
       "\n",
       "    .dataframe tbody tr th {\n",
       "        vertical-align: top;\n",
       "    }\n",
       "\n",
       "    .dataframe thead th {\n",
       "        text-align: right;\n",
       "    }\n",
       "</style>\n",
       "<table border=\"1\" class=\"dataframe\">\n",
       "  <thead>\n",
       "    <tr style=\"text-align: right;\">\n",
       "      <th></th>\n",
       "      <th>customer_id</th>\n",
       "      <th>product_id</th>\n",
       "      <th>periodo</th>\n",
       "      <th>plan_precios_cuidados</th>\n",
       "      <th>cust_request_qty</th>\n",
       "      <th>cust_request_tn</th>\n",
       "      <th>tn</th>\n",
       "      <th>stock_final</th>\n",
       "      <th>cat1</th>\n",
       "      <th>cat2</th>\n",
       "      <th>cat3</th>\n",
       "      <th>brand</th>\n",
       "      <th>sku_size</th>\n",
       "    </tr>\n",
       "  </thead>\n",
       "  <tbody>\n",
       "    <tr>\n",
       "      <th>16763755</th>\n",
       "      <td>10637</td>\n",
       "      <td>21276</td>\n",
       "      <td>2019-08-01</td>\n",
       "      <td>0.0</td>\n",
       "      <td>0.0</td>\n",
       "      <td>0.0</td>\n",
       "      <td>0.0</td>\n",
       "      <td>1.085</td>\n",
       "      <td>PC</td>\n",
       "      <td>PIEL1</td>\n",
       "      <td>Cara</td>\n",
       "      <td>NIVEA</td>\n",
       "      <td>140</td>\n",
       "    </tr>\n",
       "    <tr>\n",
       "      <th>16763756</th>\n",
       "      <td>10637</td>\n",
       "      <td>21276</td>\n",
       "      <td>2019-09-01</td>\n",
       "      <td>0.0</td>\n",
       "      <td>0.0</td>\n",
       "      <td>0.0</td>\n",
       "      <td>0.0</td>\n",
       "      <td>0.876</td>\n",
       "      <td>PC</td>\n",
       "      <td>PIEL1</td>\n",
       "      <td>Cara</td>\n",
       "      <td>NIVEA</td>\n",
       "      <td>140</td>\n",
       "    </tr>\n",
       "    <tr>\n",
       "      <th>16763757</th>\n",
       "      <td>10637</td>\n",
       "      <td>21276</td>\n",
       "      <td>2019-10-01</td>\n",
       "      <td>0.0</td>\n",
       "      <td>0.0</td>\n",
       "      <td>0.0</td>\n",
       "      <td>0.0</td>\n",
       "      <td>1.059</td>\n",
       "      <td>PC</td>\n",
       "      <td>PIEL1</td>\n",
       "      <td>Cara</td>\n",
       "      <td>NIVEA</td>\n",
       "      <td>140</td>\n",
       "    </tr>\n",
       "    <tr>\n",
       "      <th>16763758</th>\n",
       "      <td>10637</td>\n",
       "      <td>21276</td>\n",
       "      <td>2019-11-01</td>\n",
       "      <td>0.0</td>\n",
       "      <td>0.0</td>\n",
       "      <td>0.0</td>\n",
       "      <td>0.0</td>\n",
       "      <td>1.061</td>\n",
       "      <td>PC</td>\n",
       "      <td>PIEL1</td>\n",
       "      <td>Cara</td>\n",
       "      <td>NIVEA</td>\n",
       "      <td>140</td>\n",
       "    </tr>\n",
       "    <tr>\n",
       "      <th>16763759</th>\n",
       "      <td>10637</td>\n",
       "      <td>21276</td>\n",
       "      <td>2019-12-01</td>\n",
       "      <td>0.0</td>\n",
       "      <td>0.0</td>\n",
       "      <td>0.0</td>\n",
       "      <td>0.0</td>\n",
       "      <td>1.056</td>\n",
       "      <td>PC</td>\n",
       "      <td>PIEL1</td>\n",
       "      <td>Cara</td>\n",
       "      <td>NIVEA</td>\n",
       "      <td>140</td>\n",
       "    </tr>\n",
       "  </tbody>\n",
       "</table>\n",
       "</div>"
      ],
      "text/plain": [
       "          customer_id  product_id     periodo  plan_precios_cuidados  \\\n",
       "16763755        10637       21276  2019-08-01                    0.0   \n",
       "16763756        10637       21276  2019-09-01                    0.0   \n",
       "16763757        10637       21276  2019-10-01                    0.0   \n",
       "16763758        10637       21276  2019-11-01                    0.0   \n",
       "16763759        10637       21276  2019-12-01                    0.0   \n",
       "\n",
       "          cust_request_qty  cust_request_tn   tn  stock_final cat1   cat2  \\\n",
       "16763755               0.0              0.0  0.0        1.085   PC  PIEL1   \n",
       "16763756               0.0              0.0  0.0        0.876   PC  PIEL1   \n",
       "16763757               0.0              0.0  0.0        1.059   PC  PIEL1   \n",
       "16763758               0.0              0.0  0.0        1.061   PC  PIEL1   \n",
       "16763759               0.0              0.0  0.0        1.056   PC  PIEL1   \n",
       "\n",
       "          cat3  brand  sku_size  \n",
       "16763755  Cara  NIVEA       140  \n",
       "16763756  Cara  NIVEA       140  \n",
       "16763757  Cara  NIVEA       140  \n",
       "16763758  Cara  NIVEA       140  \n",
       "16763759  Cara  NIVEA       140  "
      ]
     },
     "execution_count": 8,
     "metadata": {},
     "output_type": "execute_result"
    }
   ],
   "source": [
    "df.tail()"
   ]
  },
  {
   "cell_type": "markdown",
   "metadata": {},
   "source": [
    "<a id = \"1.0\"></a>\n",
    "<p style=\"font-size:15px;color:#34656d;font-family:'Comic Sans MS';text-align:center;border-radius:5px 5px;\">\n",
    "<strong>_____________________________________________________________</strong></p> "
   ]
  },
  {
   "cell_type": "markdown",
   "metadata": {},
   "source": [
    "<a id = \"1.0\"></a>\n",
    "<p style=\"font-size:20px;color:#34656d;font-family:'Comic Sans MS';text-align:center;border-radius:5px 5px;\">\n",
    "<strong>Comienzo del proceso de exploración de datos</strong></p> "
   ]
  },
  {
   "cell_type": "code",
   "execution_count": 9,
   "metadata": {},
   "outputs": [
    {
     "name": "stdout",
     "output_type": "stream",
     "text": [
      "<class 'pandas.core.frame.DataFrame'>\n",
      "RangeIndex: 16763760 entries, 0 to 16763759\n",
      "Data columns (total 13 columns):\n",
      " #   Column                 Dtype  \n",
      "---  ------                 -----  \n",
      " 0   customer_id            int64  \n",
      " 1   product_id             int64  \n",
      " 2   periodo                object \n",
      " 3   plan_precios_cuidados  float64\n",
      " 4   cust_request_qty       float64\n",
      " 5   cust_request_tn        float64\n",
      " 6   tn                     float64\n",
      " 7   stock_final            float64\n",
      " 8   cat1                   object \n",
      " 9   cat2                   object \n",
      " 10  cat3                   object \n",
      " 11  brand                  object \n",
      " 12  sku_size               int64  \n",
      "dtypes: float64(5), int64(3), object(5)\n",
      "memory usage: 1.6+ GB\n"
     ]
    }
   ],
   "source": [
    "df.info()"
   ]
  },
  {
   "cell_type": "code",
   "execution_count": 10,
   "metadata": {},
   "outputs": [
    {
     "name": "stdout",
     "output_type": "stream",
     "text": [
      "['customer_id', 'product_id', 'periodo', 'plan_precios_cuidados', 'cust_request_qty', 'cust_request_tn', 'tn', 'stock_final', 'cat1', 'cat2', 'cat3', 'brand', 'sku_size']\n"
     ]
    }
   ],
   "source": [
    "print(df.columns.tolist())\n"
   ]
  },
  {
   "cell_type": "code",
   "execution_count": 11,
   "metadata": {},
   "outputs": [
    {
     "data": {
      "application/vnd.microsoft.datawrangler.viewer.v0+json": {
       "columns": [
        {
         "name": "index",
         "rawType": "object",
         "type": "string"
        },
        {
         "name": "tn",
         "rawType": "float64",
         "type": "float"
        }
       ],
       "ref": "872f5d6e-9e18-423a-ad23-e463297ce81c",
       "rows": [
        [
         "count",
         "16763760.0"
        ],
        [
         "mean",
         "0.06696619477372605"
        ],
        [
         "std",
         "1.2673224089998443"
        ],
        [
         "min",
         "0.0"
        ],
        [
         "5%",
         "0.0"
        ],
        [
         "25%",
         "0.0"
        ],
        [
         "50%",
         "0.0"
        ],
        [
         "75%",
         "0.0"
        ],
        [
         "95%",
         "0.08305"
        ],
        [
         "max",
         "547.87849"
        ]
       ],
       "shape": {
        "columns": 1,
        "rows": 10
       }
      },
      "text/html": [
       "<div>\n",
       "<style scoped>\n",
       "    .dataframe tbody tr th:only-of-type {\n",
       "        vertical-align: middle;\n",
       "    }\n",
       "\n",
       "    .dataframe tbody tr th {\n",
       "        vertical-align: top;\n",
       "    }\n",
       "\n",
       "    .dataframe thead th {\n",
       "        text-align: right;\n",
       "    }\n",
       "</style>\n",
       "<table border=\"1\" class=\"dataframe\">\n",
       "  <thead>\n",
       "    <tr style=\"text-align: right;\">\n",
       "      <th></th>\n",
       "      <th>tn</th>\n",
       "    </tr>\n",
       "  </thead>\n",
       "  <tbody>\n",
       "    <tr>\n",
       "      <th>count</th>\n",
       "      <td>1.676e+07</td>\n",
       "    </tr>\n",
       "    <tr>\n",
       "      <th>mean</th>\n",
       "      <td>6.697e-02</td>\n",
       "    </tr>\n",
       "    <tr>\n",
       "      <th>std</th>\n",
       "      <td>1.267e+00</td>\n",
       "    </tr>\n",
       "    <tr>\n",
       "      <th>min</th>\n",
       "      <td>0.000e+00</td>\n",
       "    </tr>\n",
       "    <tr>\n",
       "      <th>5%</th>\n",
       "      <td>0.000e+00</td>\n",
       "    </tr>\n",
       "    <tr>\n",
       "      <th>25%</th>\n",
       "      <td>0.000e+00</td>\n",
       "    </tr>\n",
       "    <tr>\n",
       "      <th>50%</th>\n",
       "      <td>0.000e+00</td>\n",
       "    </tr>\n",
       "    <tr>\n",
       "      <th>75%</th>\n",
       "      <td>0.000e+00</td>\n",
       "    </tr>\n",
       "    <tr>\n",
       "      <th>95%</th>\n",
       "      <td>8.305e-02</td>\n",
       "    </tr>\n",
       "    <tr>\n",
       "      <th>max</th>\n",
       "      <td>5.479e+02</td>\n",
       "    </tr>\n",
       "  </tbody>\n",
       "</table>\n",
       "</div>"
      ],
      "text/plain": [
       "              tn\n",
       "count  1.676e+07\n",
       "mean   6.697e-02\n",
       "std    1.267e+00\n",
       "min    0.000e+00\n",
       "5%     0.000e+00\n",
       "25%    0.000e+00\n",
       "50%    0.000e+00\n",
       "75%    0.000e+00\n",
       "95%    8.305e-02\n",
       "max    5.479e+02"
      ]
     },
     "execution_count": 11,
     "metadata": {},
     "output_type": "execute_result"
    }
   ],
   "source": [
    "df[['tn']].describe(percentiles=[0.05, 0.25, 0.50, 0.75, 0.95])"
   ]
  },
  {
   "cell_type": "code",
   "execution_count": 12,
   "metadata": {},
   "outputs": [
    {
     "data": {
      "application/vnd.microsoft.datawrangler.viewer.v0+json": {
       "columns": [
        {
         "name": "index",
         "rawType": "object",
         "type": "string"
        },
        {
         "name": "periodo",
         "rawType": "object",
         "type": "unknown"
        },
        {
         "name": "cat1",
         "rawType": "object",
         "type": "unknown"
        },
        {
         "name": "cat2",
         "rawType": "object",
         "type": "unknown"
        },
        {
         "name": "cat3",
         "rawType": "object",
         "type": "unknown"
        },
        {
         "name": "brand",
         "rawType": "object",
         "type": "unknown"
        }
       ],
       "ref": "51bdeec7-e053-4d80-9df4-a7b2bc393c4f",
       "rows": [
        [
         "count",
         "16763760",
         "16763760",
         "16763760",
         "16763760",
         "16763760"
        ],
        [
         "unique",
         "36",
         "4",
         "15",
         "84",
         "35"
        ],
        [
         "top",
         "2017-01-01",
         "PC",
         "CABELLO",
         "SHAMPOO",
         "NIVEA"
        ],
        [
         "freq",
         "465660",
         "9542448",
         "4362876",
         "1891296",
         "2342628"
        ]
       ],
       "shape": {
        "columns": 5,
        "rows": 4
       }
      },
      "text/html": [
       "<div>\n",
       "<style scoped>\n",
       "    .dataframe tbody tr th:only-of-type {\n",
       "        vertical-align: middle;\n",
       "    }\n",
       "\n",
       "    .dataframe tbody tr th {\n",
       "        vertical-align: top;\n",
       "    }\n",
       "\n",
       "    .dataframe thead th {\n",
       "        text-align: right;\n",
       "    }\n",
       "</style>\n",
       "<table border=\"1\" class=\"dataframe\">\n",
       "  <thead>\n",
       "    <tr style=\"text-align: right;\">\n",
       "      <th></th>\n",
       "      <th>periodo</th>\n",
       "      <th>cat1</th>\n",
       "      <th>cat2</th>\n",
       "      <th>cat3</th>\n",
       "      <th>brand</th>\n",
       "    </tr>\n",
       "  </thead>\n",
       "  <tbody>\n",
       "    <tr>\n",
       "      <th>count</th>\n",
       "      <td>16763760</td>\n",
       "      <td>16763760</td>\n",
       "      <td>16763760</td>\n",
       "      <td>16763760</td>\n",
       "      <td>16763760</td>\n",
       "    </tr>\n",
       "    <tr>\n",
       "      <th>unique</th>\n",
       "      <td>36</td>\n",
       "      <td>4</td>\n",
       "      <td>15</td>\n",
       "      <td>84</td>\n",
       "      <td>35</td>\n",
       "    </tr>\n",
       "    <tr>\n",
       "      <th>top</th>\n",
       "      <td>2017-01-01</td>\n",
       "      <td>PC</td>\n",
       "      <td>CABELLO</td>\n",
       "      <td>SHAMPOO</td>\n",
       "      <td>NIVEA</td>\n",
       "    </tr>\n",
       "    <tr>\n",
       "      <th>freq</th>\n",
       "      <td>465660</td>\n",
       "      <td>9542448</td>\n",
       "      <td>4362876</td>\n",
       "      <td>1891296</td>\n",
       "      <td>2342628</td>\n",
       "    </tr>\n",
       "  </tbody>\n",
       "</table>\n",
       "</div>"
      ],
      "text/plain": [
       "           periodo      cat1      cat2      cat3     brand\n",
       "count     16763760  16763760  16763760  16763760  16763760\n",
       "unique          36         4        15        84        35\n",
       "top     2017-01-01        PC   CABELLO   SHAMPOO     NIVEA\n",
       "freq        465660   9542448   4362876   1891296   2342628"
      ]
     },
     "execution_count": 12,
     "metadata": {},
     "output_type": "execute_result"
    }
   ],
   "source": [
    "df.describe(include=['object'], exclude=['float', 'int'])"
   ]
  }
 ],
 "metadata": {
  "kernelspec": {
   "display_name": "nuevito",
   "language": "python",
   "name": "python3"
  },
  "language_info": {
   "codemirror_mode": {
    "name": "ipython",
    "version": 3
   },
   "file_extension": ".py",
   "mimetype": "text/x-python",
   "name": "python",
   "nbconvert_exporter": "python",
   "pygments_lexer": "ipython3",
   "version": "3.12.9"
  }
 },
 "nbformat": 4,
 "nbformat_minor": 4
}
