{
 "cells": [
  {
   "cell_type": "code",
   "execution_count": null,
   "id": "1b034d1f",
   "metadata": {},
   "outputs": [],
   "source": [
    "# 📦 BLOQUE 1: Carga de datos\n",
    "import pandas as pd\n",
    "df = pd.read_csv(\"dataset_base.csv\", low_memory=False)\n",
    "df['periodo'] = pd.to_datetime(df['periodo'], format='%Y-%m')\n",
    "df = df.sort_values(['product_id', 'periodo'])"
   ]
  },
  {
   "cell_type": "code",
   "execution_count": null,
   "id": "cdf61494",
   "metadata": {},
   "outputs": [],
   "source": [
    "# ⚖️ BLOQUE 2: Normalización estándar por producto\n",
    "from sklearn.preprocessing import StandardScaler\n",
    "\n",
    "df_scaled = df.copy()\n",
    "cols_a_normalizar = ['tn', 'cust_request_tn']\n",
    "df_scaled[cols_a_normalizar] = df_scaled.groupby('product_id')[cols_a_normalizar].transform(lambda x: StandardScaler().fit_transform(x.values.reshape(-1,1)).flatten())"
   ]
  },
  {
   "cell_type": "code",
   "execution_count": null,
   "id": "7ea93ab4",
   "metadata": {},
   "outputs": [],
   "source": [
    "# 🔣 BLOQUE 3: Codificación de variables categóricas\n",
    "from sklearn.preprocessing import LabelEncoder\n",
    "\n",
    "categoricas = ['cat1', 'cat2']\n",
    "for col in categoricas:\n",
    "    le = LabelEncoder()\n",
    "    df_scaled[col] = le.fit_transform(df_scaled[col].astype(str))"
   ]
  },
  {
   "cell_type": "code",
   "execution_count": null,
   "id": "2d7b2e9d",
   "metadata": {},
   "outputs": [],
   "source": [
    "# 🌎 BLOQUE 4: Variables exógenas\n",
    "df_exog = pd.read_csv(\"variables_exogenas.csv\")\n",
    "df_exog['periodo'] = pd.to_datetime(df_exog['periodo'], format='%Y-%m')\n",
    "df = df_scaled.merge(df_exog, on='periodo', how='left')"
   ]
  },
  {
   "cell_type": "code",
   "execution_count": null,
   "id": "7dfa35d8",
   "metadata": {},
   "outputs": [],
   "source": [
    "# 📊 BLOQUE 5: Clustering con DTW\n",
    "from tslearn.clustering import TimeSeriesKMeans\n",
    "from tslearn.utils import to_time_series_dataset\n",
    "\n",
    "series = df.pivot_table(index='periodo', columns='product_id', values='tn', aggfunc='sum').fillna(0).T\n",
    "X = to_time_series_dataset(series.values)\n",
    "modelo_dtw = TimeSeriesKMeans(n_clusters=50, metric=\"dtw\", random_state=42)\n",
    "df['cluster_dtw'] = modelo_dtw.fit_predict(X)[df['product_id'].values - 1]"
   ]
  },
  {
   "cell_type": "code",
   "execution_count": null,
   "id": "7e8610e9",
   "metadata": {},
   "outputs": [],
   "source": [
    "# 🔮 BLOQUE 6: Variables generadas con Prophet\n",
    "# Supone que ya se tienen las features prophet generadas por producto en un archivo externo\n",
    "df_prophet = pd.read_csv(\"features_prophet.csv\")\n",
    "df_prophet['periodo'] = pd.to_datetime(df_prophet['periodo'], format='%Y-%m')\n",
    "df = df.merge(df_prophet, on=['product_id', 'periodo'], how='left')"
   ]
  },
  {
   "cell_type": "code",
   "execution_count": null,
   "id": "df56b5af",
   "metadata": {},
   "outputs": [],
   "source": [
    "# 🕒 BLOQUE 7: División temporal\n",
    "train = df[df['periodo'] < '2019-12-01']\n",
    "val = df[df['periodo'] == '2019-12-01']\n",
    "test = df[df['periodo'] == '2020-02-01']\n",
    "\n",
    "features = [c for c in df.columns if c not in ['tn', 'periodo', 'product_id']]\n",
    "X_train, y_train = train[features], train['tn']\n",
    "X_val, y_val = val[features], val['tn']\n",
    "X_test = test[features]"
   ]
  },
  {
   "cell_type": "code",
   "execution_count": null,
   "id": "172796c2",
   "metadata": {},
   "outputs": [],
   "source": [
    "# 🌲 BLOQUE 8: XGBoost entrenamiento\n",
    "import xgboost as xgb\n",
    "from sklearn.metrics import mean_absolute_error\n",
    "\n",
    "params = {\n",
    "    'max_depth': 7,\n",
    "    'learning_rate': 0.05,\n",
    "    'n_estimators': 400,\n",
    "    'subsample': 0.9,\n",
    "    'colsample_bytree': 0.8,\n",
    "    'reg_alpha': 0.5,\n",
    "    'reg_lambda': 1.0,\n",
    "    'random_state': 42\n",
    "}\n",
    "\n",
    "model = xgb.XGBRegressor(**params)\n",
    "model.fit(X_train, y_train, eval_set=[(X_val, y_val)], early_stopping_rounds=20, verbose=False)\n",
    "print(\"MAE validación diciembre:\", mean_absolute_error(y_val, model.predict(X_val)))"
   ]
  },
  {
   "cell_type": "code",
   "execution_count": null,
   "id": "3bd4a006",
   "metadata": {},
   "outputs": [],
   "source": [
    "# 🧾 BLOQUE 9: Predicción febrero 2020\n",
    "preds = model.predict(X_test)\n",
    "df_test = test[['product_id']].copy()\n",
    "df_test['tn_predicho'] = preds\n",
    "df_test.to_csv(\"prediccion_febrero2020_xgb.csv\", index=False)\n",
    "print(\"✅ Exportado a prediccion_febrero2020_xgb.csv\")"
   ]
  }
 ],
 "metadata": {},
 "nbformat": 4,
 "nbformat_minor": 5
}
