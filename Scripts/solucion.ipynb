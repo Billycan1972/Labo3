{
 "cells": [
  {
   "cell_type": "code",
   "execution_count": 2,
   "id": "cdc44fe5",
   "metadata": {},
   "outputs": [
    {
     "name": "stdout",
     "output_type": "stream",
     "text": [
      "Shape: (9460980, 13)\n",
      "Columnas:\n",
      "['customer_id', 'product_id', 'periodo', 'plan_precios_cuidados', 'cust_request_qty', 'cust_request_tn', 'tn', 'stock_final', 'cat1', 'cat2', 'cat3', 'brand', 'sku_size']\n"
     ]
    },
    {
     "data": {
      "application/vnd.microsoft.datawrangler.viewer.v0+json": {
       "columns": [
        {
         "name": "index",
         "rawType": "int64",
         "type": "integer"
        },
        {
         "name": "customer_id",
         "rawType": "int64",
         "type": "integer"
        },
        {
         "name": "product_id",
         "rawType": "int64",
         "type": "integer"
        },
        {
         "name": "periodo",
         "rawType": "object",
         "type": "string"
        },
        {
         "name": "plan_precios_cuidados",
         "rawType": "float64",
         "type": "float"
        },
        {
         "name": "cust_request_qty",
         "rawType": "float64",
         "type": "float"
        },
        {
         "name": "cust_request_tn",
         "rawType": "float64",
         "type": "float"
        },
        {
         "name": "tn",
         "rawType": "float64",
         "type": "float"
        },
        {
         "name": "stock_final",
         "rawType": "float64",
         "type": "float"
        },
        {
         "name": "cat1",
         "rawType": "object",
         "type": "string"
        },
        {
         "name": "cat2",
         "rawType": "object",
         "type": "string"
        },
        {
         "name": "cat3",
         "rawType": "object",
         "type": "string"
        },
        {
         "name": "brand",
         "rawType": "object",
         "type": "string"
        },
        {
         "name": "sku_size",
         "rawType": "int64",
         "type": "integer"
        }
       ],
       "ref": "f5a8f998-05a0-4052-982d-07a930ca6b88",
       "rows": [
        [
         "0",
         "10004",
         "20001",
         "2017-01",
         "0.0",
         "9.0",
         "184.72927",
         "184.72927",
         "0.0",
         "HC",
         "ROPA LAVADO",
         "Liquido",
         "ARIEL",
         "3000"
        ],
        [
         "1",
         "10003",
         "20001",
         "2017-01",
         "0.0",
         "17.0",
         "143.49426",
         "143.49426",
         "0.0",
         "HC",
         "ROPA LAVADO",
         "Liquido",
         "ARIEL",
         "3000"
        ],
        [
         "2",
         "10002",
         "20001",
         "2017-01",
         "0.0",
         "17.0",
         "38.68301",
         "35.72806",
         "0.0",
         "HC",
         "ROPA LAVADO",
         "Liquido",
         "ARIEL",
         "3000"
        ],
        [
         "3",
         "10001",
         "20001",
         "2017-01",
         "0.0",
         "11.0",
         "99.43861",
         "99.43861",
         "0.0",
         "HC",
         "ROPA LAVADO",
         "Liquido",
         "ARIEL",
         "3000"
        ],
        [
         "4",
         "10084",
         "20001",
         "2017-01",
         "0.0",
         "1.0",
         "0.22386",
         "0.22386",
         "0.0",
         "HC",
         "ROPA LAVADO",
         "Liquido",
         "ARIEL",
         "3000"
        ]
       ],
       "shape": {
        "columns": 13,
        "rows": 5
       }
      },
      "text/html": [
       "<div>\n",
       "<style scoped>\n",
       "    .dataframe tbody tr th:only-of-type {\n",
       "        vertical-align: middle;\n",
       "    }\n",
       "\n",
       "    .dataframe tbody tr th {\n",
       "        vertical-align: top;\n",
       "    }\n",
       "\n",
       "    .dataframe thead th {\n",
       "        text-align: right;\n",
       "    }\n",
       "</style>\n",
       "<table border=\"1\" class=\"dataframe\">\n",
       "  <thead>\n",
       "    <tr style=\"text-align: right;\">\n",
       "      <th></th>\n",
       "      <th>customer_id</th>\n",
       "      <th>product_id</th>\n",
       "      <th>periodo</th>\n",
       "      <th>plan_precios_cuidados</th>\n",
       "      <th>cust_request_qty</th>\n",
       "      <th>cust_request_tn</th>\n",
       "      <th>tn</th>\n",
       "      <th>stock_final</th>\n",
       "      <th>cat1</th>\n",
       "      <th>cat2</th>\n",
       "      <th>cat3</th>\n",
       "      <th>brand</th>\n",
       "      <th>sku_size</th>\n",
       "    </tr>\n",
       "  </thead>\n",
       "  <tbody>\n",
       "    <tr>\n",
       "      <th>0</th>\n",
       "      <td>10004</td>\n",
       "      <td>20001</td>\n",
       "      <td>2017-01</td>\n",
       "      <td>0.0</td>\n",
       "      <td>9.0</td>\n",
       "      <td>184.72927</td>\n",
       "      <td>184.72927</td>\n",
       "      <td>0.0</td>\n",
       "      <td>HC</td>\n",
       "      <td>ROPA LAVADO</td>\n",
       "      <td>Liquido</td>\n",
       "      <td>ARIEL</td>\n",
       "      <td>3000</td>\n",
       "    </tr>\n",
       "    <tr>\n",
       "      <th>1</th>\n",
       "      <td>10003</td>\n",
       "      <td>20001</td>\n",
       "      <td>2017-01</td>\n",
       "      <td>0.0</td>\n",
       "      <td>17.0</td>\n",
       "      <td>143.49426</td>\n",
       "      <td>143.49426</td>\n",
       "      <td>0.0</td>\n",
       "      <td>HC</td>\n",
       "      <td>ROPA LAVADO</td>\n",
       "      <td>Liquido</td>\n",
       "      <td>ARIEL</td>\n",
       "      <td>3000</td>\n",
       "    </tr>\n",
       "    <tr>\n",
       "      <th>2</th>\n",
       "      <td>10002</td>\n",
       "      <td>20001</td>\n",
       "      <td>2017-01</td>\n",
       "      <td>0.0</td>\n",
       "      <td>17.0</td>\n",
       "      <td>38.68301</td>\n",
       "      <td>35.72806</td>\n",
       "      <td>0.0</td>\n",
       "      <td>HC</td>\n",
       "      <td>ROPA LAVADO</td>\n",
       "      <td>Liquido</td>\n",
       "      <td>ARIEL</td>\n",
       "      <td>3000</td>\n",
       "    </tr>\n",
       "    <tr>\n",
       "      <th>3</th>\n",
       "      <td>10001</td>\n",
       "      <td>20001</td>\n",
       "      <td>2017-01</td>\n",
       "      <td>0.0</td>\n",
       "      <td>11.0</td>\n",
       "      <td>99.43861</td>\n",
       "      <td>99.43861</td>\n",
       "      <td>0.0</td>\n",
       "      <td>HC</td>\n",
       "      <td>ROPA LAVADO</td>\n",
       "      <td>Liquido</td>\n",
       "      <td>ARIEL</td>\n",
       "      <td>3000</td>\n",
       "    </tr>\n",
       "    <tr>\n",
       "      <th>4</th>\n",
       "      <td>10084</td>\n",
       "      <td>20001</td>\n",
       "      <td>2017-01</td>\n",
       "      <td>0.0</td>\n",
       "      <td>1.0</td>\n",
       "      <td>0.22386</td>\n",
       "      <td>0.22386</td>\n",
       "      <td>0.0</td>\n",
       "      <td>HC</td>\n",
       "      <td>ROPA LAVADO</td>\n",
       "      <td>Liquido</td>\n",
       "      <td>ARIEL</td>\n",
       "      <td>3000</td>\n",
       "    </tr>\n",
       "  </tbody>\n",
       "</table>\n",
       "</div>"
      ],
      "text/plain": [
       "   customer_id  product_id  periodo  plan_precios_cuidados  cust_request_qty  \\\n",
       "0        10004       20001  2017-01                    0.0               9.0   \n",
       "1        10003       20001  2017-01                    0.0              17.0   \n",
       "2        10002       20001  2017-01                    0.0              17.0   \n",
       "3        10001       20001  2017-01                    0.0              11.0   \n",
       "4        10084       20001  2017-01                    0.0               1.0   \n",
       "\n",
       "   cust_request_tn         tn  stock_final cat1         cat2     cat3  brand  \\\n",
       "0        184.72927  184.72927          0.0   HC  ROPA LAVADO  Liquido  ARIEL   \n",
       "1        143.49426  143.49426          0.0   HC  ROPA LAVADO  Liquido  ARIEL   \n",
       "2         38.68301   35.72806          0.0   HC  ROPA LAVADO  Liquido  ARIEL   \n",
       "3         99.43861   99.43861          0.0   HC  ROPA LAVADO  Liquido  ARIEL   \n",
       "4          0.22386    0.22386          0.0   HC  ROPA LAVADO  Liquido  ARIEL   \n",
       "\n",
       "   sku_size  \n",
       "0      3000  \n",
       "1      3000  \n",
       "2      3000  \n",
       "3      3000  \n",
       "4      3000  "
      ]
     },
     "execution_count": 2,
     "metadata": {},
     "output_type": "execute_result"
    }
   ],
   "source": [
    "# 📥 Cargar dataset base\n",
    "import pandas as pd\n",
    "\n",
    "df = pd.read_csv(\"dataset_base.csv\", low_memory=False)\n",
    "print(\"Shape:\", df.shape)\n",
    "print(\"Columnas:\")\n",
    "print(df.columns.tolist())\n",
    "\n",
    "# Vista rápida\n",
    "df.head()\n"
   ]
  },
  {
   "cell_type": "code",
   "execution_count": 4,
   "id": "cab1681a",
   "metadata": {},
   "outputs": [],
   "source": [
    "# ✅ Transformación de periodo\n",
    "df['periodo'] = pd.to_datetime(df['periodo'], format='%Y-%m')\n"
   ]
  },
  {
   "cell_type": "code",
   "execution_count": 5,
   "id": "53bb5c66",
   "metadata": {},
   "outputs": [],
   "source": [
    "# 📊 Normalización estandar por producto\n",
    "from sklearn.preprocessing import StandardScaler\n",
    "\n",
    "scaler_dict = {}\n",
    "for col in ['tn', 'cust_request_tn']:\n",
    "    df[f'{col}_norm'] = 0.0\n",
    "    for prod in df['product_id'].unique():\n",
    "        idx = df['product_id'] == prod\n",
    "        scaler = StandardScaler()\n",
    "        df.loc[idx, f'{col}_norm'] = scaler.fit_transform(df.loc[idx, [col]])\n",
    "        scaler_dict[(col, prod)] = scaler\n"
   ]
  },
  {
   "cell_type": "code",
   "execution_count": 6,
   "id": "cb81f088",
   "metadata": {},
   "outputs": [],
   "source": [
    "# 🧩 Codificación de variables categóricas\n",
    "\n",
    "from sklearn.preprocessing import LabelEncoder\n",
    "\n",
    "# Asegurar que los identificadores estén marcados como categorías\n",
    "df['product_id'] = df['product_id'].astype('category')\n",
    "df['customer_id'] = df['customer_id'].astype('category')\n",
    "\n",
    "# Codificar variables categóricas textuales si las hay\n",
    "for col in ['cat1', 'cat2', 'cat3', 'brand']:\n",
    "    df[col] = df[col].astype(str)  # por las dudas, si hay algún NaN o numérico disfrazado\n",
    "    le = LabelEncoder()\n",
    "    df[col] = le.fit_transform(df[col])\n"
   ]
  },
  {
   "cell_type": "code",
   "execution_count": 7,
   "id": "1d6d1422",
   "metadata": {},
   "outputs": [
    {
     "data": {
      "text/plain": [
       "(9460980, 15)"
      ]
     },
     "execution_count": 7,
     "metadata": {},
     "output_type": "execute_result"
    }
   ],
   "source": [
    "df.shape"
   ]
  },
  {
   "cell_type": "code",
   "execution_count": 8,
   "id": "3a71018e",
   "metadata": {},
   "outputs": [
    {
     "name": "stdout",
     "output_type": "stream",
     "text": [
      "['customer_id', 'product_id', 'periodo', 'plan_precios_cuidados', 'cust_request_qty', 'cust_request_tn', 'tn', 'stock_final', 'cat1', 'cat2', 'cat3', 'brand', 'sku_size', 'tn_norm', 'cust_request_tn_norm']\n"
     ]
    }
   ],
   "source": [
    "print(df.columns.tolist())\n"
   ]
  },
  {
   "cell_type": "code",
   "execution_count": 9,
   "id": "f1b503de",
   "metadata": {},
   "outputs": [
    {
     "name": "stderr",
     "output_type": "stream",
     "text": [
      "C:\\Users\\waldo\\AppData\\Local\\Temp\\ipykernel_44800\\596090252.py:9: FutureWarning: The default of observed=False is deprecated and will be changed to True in a future version of pandas. Pass observed=False to retain current behavior or observed=True to adopt the future default and silence this warning.\n",
      "  df[f'lag_{i}'] = df.groupby('product_id')['tn'].shift(i)\n",
      "C:\\Users\\waldo\\AppData\\Local\\Temp\\ipykernel_44800\\596090252.py:9: FutureWarning: The default of observed=False is deprecated and will be changed to True in a future version of pandas. Pass observed=False to retain current behavior or observed=True to adopt the future default and silence this warning.\n",
      "  df[f'lag_{i}'] = df.groupby('product_id')['tn'].shift(i)\n",
      "C:\\Users\\waldo\\AppData\\Local\\Temp\\ipykernel_44800\\596090252.py:9: FutureWarning: The default of observed=False is deprecated and will be changed to True in a future version of pandas. Pass observed=False to retain current behavior or observed=True to adopt the future default and silence this warning.\n",
      "  df[f'lag_{i}'] = df.groupby('product_id')['tn'].shift(i)\n",
      "C:\\Users\\waldo\\AppData\\Local\\Temp\\ipykernel_44800\\596090252.py:9: FutureWarning: The default of observed=False is deprecated and will be changed to True in a future version of pandas. Pass observed=False to retain current behavior or observed=True to adopt the future default and silence this warning.\n",
      "  df[f'lag_{i}'] = df.groupby('product_id')['tn'].shift(i)\n",
      "C:\\Users\\waldo\\AppData\\Local\\Temp\\ipykernel_44800\\596090252.py:9: FutureWarning: The default of observed=False is deprecated and will be changed to True in a future version of pandas. Pass observed=False to retain current behavior or observed=True to adopt the future default and silence this warning.\n",
      "  df[f'lag_{i}'] = df.groupby('product_id')['tn'].shift(i)\n",
      "C:\\Users\\waldo\\AppData\\Local\\Temp\\ipykernel_44800\\596090252.py:9: FutureWarning: The default of observed=False is deprecated and will be changed to True in a future version of pandas. Pass observed=False to retain current behavior or observed=True to adopt the future default and silence this warning.\n",
      "  df[f'lag_{i}'] = df.groupby('product_id')['tn'].shift(i)\n",
      "C:\\Users\\waldo\\AppData\\Local\\Temp\\ipykernel_44800\\596090252.py:9: FutureWarning: The default of observed=False is deprecated and will be changed to True in a future version of pandas. Pass observed=False to retain current behavior or observed=True to adopt the future default and silence this warning.\n",
      "  df[f'lag_{i}'] = df.groupby('product_id')['tn'].shift(i)\n",
      "C:\\Users\\waldo\\AppData\\Local\\Temp\\ipykernel_44800\\596090252.py:9: FutureWarning: The default of observed=False is deprecated and will be changed to True in a future version of pandas. Pass observed=False to retain current behavior or observed=True to adopt the future default and silence this warning.\n",
      "  df[f'lag_{i}'] = df.groupby('product_id')['tn'].shift(i)\n",
      "C:\\Users\\waldo\\AppData\\Local\\Temp\\ipykernel_44800\\596090252.py:9: FutureWarning: The default of observed=False is deprecated and will be changed to True in a future version of pandas. Pass observed=False to retain current behavior or observed=True to adopt the future default and silence this warning.\n",
      "  df[f'lag_{i}'] = df.groupby('product_id')['tn'].shift(i)\n",
      "C:\\Users\\waldo\\AppData\\Local\\Temp\\ipykernel_44800\\596090252.py:9: FutureWarning: The default of observed=False is deprecated and will be changed to True in a future version of pandas. Pass observed=False to retain current behavior or observed=True to adopt the future default and silence this warning.\n",
      "  df[f'lag_{i}'] = df.groupby('product_id')['tn'].shift(i)\n",
      "C:\\Users\\waldo\\AppData\\Local\\Temp\\ipykernel_44800\\596090252.py:9: FutureWarning: The default of observed=False is deprecated and will be changed to True in a future version of pandas. Pass observed=False to retain current behavior or observed=True to adopt the future default and silence this warning.\n",
      "  df[f'lag_{i}'] = df.groupby('product_id')['tn'].shift(i)\n",
      "C:\\Users\\waldo\\AppData\\Local\\Temp\\ipykernel_44800\\596090252.py:9: FutureWarning: The default of observed=False is deprecated and will be changed to True in a future version of pandas. Pass observed=False to retain current behavior or observed=True to adopt the future default and silence this warning.\n",
      "  df[f'lag_{i}'] = df.groupby('product_id')['tn'].shift(i)\n",
      "C:\\Users\\waldo\\AppData\\Local\\Temp\\ipykernel_44800\\596090252.py:9: FutureWarning: The default of observed=False is deprecated and will be changed to True in a future version of pandas. Pass observed=False to retain current behavior or observed=True to adopt the future default and silence this warning.\n",
      "  df[f'lag_{i}'] = df.groupby('product_id')['tn'].shift(i)\n",
      "C:\\Users\\waldo\\AppData\\Local\\Temp\\ipykernel_44800\\596090252.py:9: FutureWarning: The default of observed=False is deprecated and will be changed to True in a future version of pandas. Pass observed=False to retain current behavior or observed=True to adopt the future default and silence this warning.\n",
      "  df[f'lag_{i}'] = df.groupby('product_id')['tn'].shift(i)\n",
      "C:\\Users\\waldo\\AppData\\Local\\Temp\\ipykernel_44800\\596090252.py:9: FutureWarning: The default of observed=False is deprecated and will be changed to True in a future version of pandas. Pass observed=False to retain current behavior or observed=True to adopt the future default and silence this warning.\n",
      "  df[f'lag_{i}'] = df.groupby('product_id')['tn'].shift(i)\n",
      "C:\\Users\\waldo\\AppData\\Local\\Temp\\ipykernel_44800\\596090252.py:9: FutureWarning: The default of observed=False is deprecated and will be changed to True in a future version of pandas. Pass observed=False to retain current behavior or observed=True to adopt the future default and silence this warning.\n",
      "  df[f'lag_{i}'] = df.groupby('product_id')['tn'].shift(i)\n",
      "C:\\Users\\waldo\\AppData\\Local\\Temp\\ipykernel_44800\\596090252.py:9: FutureWarning: The default of observed=False is deprecated and will be changed to True in a future version of pandas. Pass observed=False to retain current behavior or observed=True to adopt the future default and silence this warning.\n",
      "  df[f'lag_{i}'] = df.groupby('product_id')['tn'].shift(i)\n",
      "C:\\Users\\waldo\\AppData\\Local\\Temp\\ipykernel_44800\\596090252.py:9: FutureWarning: The default of observed=False is deprecated and will be changed to True in a future version of pandas. Pass observed=False to retain current behavior or observed=True to adopt the future default and silence this warning.\n",
      "  df[f'lag_{i}'] = df.groupby('product_id')['tn'].shift(i)\n",
      "C:\\Users\\waldo\\AppData\\Local\\Temp\\ipykernel_44800\\596090252.py:9: FutureWarning: The default of observed=False is deprecated and will be changed to True in a future version of pandas. Pass observed=False to retain current behavior or observed=True to adopt the future default and silence this warning.\n",
      "  df[f'lag_{i}'] = df.groupby('product_id')['tn'].shift(i)\n",
      "C:\\Users\\waldo\\AppData\\Local\\Temp\\ipykernel_44800\\596090252.py:9: FutureWarning: The default of observed=False is deprecated and will be changed to True in a future version of pandas. Pass observed=False to retain current behavior or observed=True to adopt the future default and silence this warning.\n",
      "  df[f'lag_{i}'] = df.groupby('product_id')['tn'].shift(i)\n",
      "C:\\Users\\waldo\\AppData\\Local\\Temp\\ipykernel_44800\\596090252.py:9: FutureWarning: The default of observed=False is deprecated and will be changed to True in a future version of pandas. Pass observed=False to retain current behavior or observed=True to adopt the future default and silence this warning.\n",
      "  df[f'lag_{i}'] = df.groupby('product_id')['tn'].shift(i)\n",
      "C:\\Users\\waldo\\AppData\\Local\\Temp\\ipykernel_44800\\596090252.py:9: FutureWarning: The default of observed=False is deprecated and will be changed to True in a future version of pandas. Pass observed=False to retain current behavior or observed=True to adopt the future default and silence this warning.\n",
      "  df[f'lag_{i}'] = df.groupby('product_id')['tn'].shift(i)\n",
      "C:\\Users\\waldo\\AppData\\Local\\Temp\\ipykernel_44800\\596090252.py:9: FutureWarning: The default of observed=False is deprecated and will be changed to True in a future version of pandas. Pass observed=False to retain current behavior or observed=True to adopt the future default and silence this warning.\n",
      "  df[f'lag_{i}'] = df.groupby('product_id')['tn'].shift(i)\n",
      "C:\\Users\\waldo\\AppData\\Local\\Temp\\ipykernel_44800\\596090252.py:9: FutureWarning: The default of observed=False is deprecated and will be changed to True in a future version of pandas. Pass observed=False to retain current behavior or observed=True to adopt the future default and silence this warning.\n",
      "  df[f'lag_{i}'] = df.groupby('product_id')['tn'].shift(i)\n",
      "C:\\Users\\waldo\\AppData\\Local\\Temp\\ipykernel_44800\\596090252.py:9: FutureWarning: The default of observed=False is deprecated and will be changed to True in a future version of pandas. Pass observed=False to retain current behavior or observed=True to adopt the future default and silence this warning.\n",
      "  df[f'lag_{i}'] = df.groupby('product_id')['tn'].shift(i)\n",
      "C:\\Users\\waldo\\AppData\\Local\\Temp\\ipykernel_44800\\596090252.py:9: FutureWarning: The default of observed=False is deprecated and will be changed to True in a future version of pandas. Pass observed=False to retain current behavior or observed=True to adopt the future default and silence this warning.\n",
      "  df[f'lag_{i}'] = df.groupby('product_id')['tn'].shift(i)\n",
      "C:\\Users\\waldo\\AppData\\Local\\Temp\\ipykernel_44800\\596090252.py:9: FutureWarning: The default of observed=False is deprecated and will be changed to True in a future version of pandas. Pass observed=False to retain current behavior or observed=True to adopt the future default and silence this warning.\n",
      "  df[f'lag_{i}'] = df.groupby('product_id')['tn'].shift(i)\n",
      "C:\\Users\\waldo\\AppData\\Local\\Temp\\ipykernel_44800\\596090252.py:9: FutureWarning: The default of observed=False is deprecated and will be changed to True in a future version of pandas. Pass observed=False to retain current behavior or observed=True to adopt the future default and silence this warning.\n",
      "  df[f'lag_{i}'] = df.groupby('product_id')['tn'].shift(i)\n",
      "C:\\Users\\waldo\\AppData\\Local\\Temp\\ipykernel_44800\\596090252.py:9: FutureWarning: The default of observed=False is deprecated and will be changed to True in a future version of pandas. Pass observed=False to retain current behavior or observed=True to adopt the future default and silence this warning.\n",
      "  df[f'lag_{i}'] = df.groupby('product_id')['tn'].shift(i)\n",
      "C:\\Users\\waldo\\AppData\\Local\\Temp\\ipykernel_44800\\596090252.py:9: FutureWarning: The default of observed=False is deprecated and will be changed to True in a future version of pandas. Pass observed=False to retain current behavior or observed=True to adopt the future default and silence this warning.\n",
      "  df[f'lag_{i}'] = df.groupby('product_id')['tn'].shift(i)\n",
      "C:\\Users\\waldo\\AppData\\Local\\Temp\\ipykernel_44800\\596090252.py:9: FutureWarning: The default of observed=False is deprecated and will be changed to True in a future version of pandas. Pass observed=False to retain current behavior or observed=True to adopt the future default and silence this warning.\n",
      "  df[f'lag_{i}'] = df.groupby('product_id')['tn'].shift(i)\n",
      "C:\\Users\\waldo\\AppData\\Local\\Temp\\ipykernel_44800\\596090252.py:9: FutureWarning: The default of observed=False is deprecated and will be changed to True in a future version of pandas. Pass observed=False to retain current behavior or observed=True to adopt the future default and silence this warning.\n",
      "  df[f'lag_{i}'] = df.groupby('product_id')['tn'].shift(i)\n",
      "C:\\Users\\waldo\\AppData\\Local\\Temp\\ipykernel_44800\\596090252.py:9: FutureWarning: The default of observed=False is deprecated and will be changed to True in a future version of pandas. Pass observed=False to retain current behavior or observed=True to adopt the future default and silence this warning.\n",
      "  df[f'lag_{i}'] = df.groupby('product_id')['tn'].shift(i)\n",
      "C:\\Users\\waldo\\AppData\\Local\\Temp\\ipykernel_44800\\596090252.py:9: FutureWarning: The default of observed=False is deprecated and will be changed to True in a future version of pandas. Pass observed=False to retain current behavior or observed=True to adopt the future default and silence this warning.\n",
      "  df[f'lag_{i}'] = df.groupby('product_id')['tn'].shift(i)\n",
      "C:\\Users\\waldo\\AppData\\Local\\Temp\\ipykernel_44800\\596090252.py:9: FutureWarning: The default of observed=False is deprecated and will be changed to True in a future version of pandas. Pass observed=False to retain current behavior or observed=True to adopt the future default and silence this warning.\n",
      "  df[f'lag_{i}'] = df.groupby('product_id')['tn'].shift(i)\n",
      "C:\\Users\\waldo\\AppData\\Local\\Temp\\ipykernel_44800\\596090252.py:9: FutureWarning: The default of observed=False is deprecated and will be changed to True in a future version of pandas. Pass observed=False to retain current behavior or observed=True to adopt the future default and silence this warning.\n",
      "  df[f'lag_{i}'] = df.groupby('product_id')['tn'].shift(i)\n",
      "C:\\Users\\waldo\\AppData\\Local\\Temp\\ipykernel_44800\\596090252.py:17: FutureWarning: The default of observed=False is deprecated and will be changed to True in a future version of pandas. Pass observed=False to retain current behavior or observed=True to adopt the future default and silence this warning.\n",
      "  df[f'tn_mean_{win}'] = df.groupby('product_id')['tn'].transform(lambda x: x.rolling(win, min_periods=1).mean())\n",
      "C:\\Users\\waldo\\AppData\\Local\\Temp\\ipykernel_44800\\596090252.py:18: FutureWarning: The default of observed=False is deprecated and will be changed to True in a future version of pandas. Pass observed=False to retain current behavior or observed=True to adopt the future default and silence this warning.\n",
      "  df[f'tn_std_{win}'] = df.groupby('product_id')['tn'].transform(lambda x: x.rolling(win, min_periods=1).std())\n",
      "C:\\Users\\waldo\\AppData\\Local\\Temp\\ipykernel_44800\\596090252.py:17: FutureWarning: The default of observed=False is deprecated and will be changed to True in a future version of pandas. Pass observed=False to retain current behavior or observed=True to adopt the future default and silence this warning.\n",
      "  df[f'tn_mean_{win}'] = df.groupby('product_id')['tn'].transform(lambda x: x.rolling(win, min_periods=1).mean())\n",
      "C:\\Users\\waldo\\AppData\\Local\\Temp\\ipykernel_44800\\596090252.py:18: FutureWarning: The default of observed=False is deprecated and will be changed to True in a future version of pandas. Pass observed=False to retain current behavior or observed=True to adopt the future default and silence this warning.\n",
      "  df[f'tn_std_{win}'] = df.groupby('product_id')['tn'].transform(lambda x: x.rolling(win, min_periods=1).std())\n",
      "C:\\Users\\waldo\\AppData\\Local\\Temp\\ipykernel_44800\\596090252.py:17: FutureWarning: The default of observed=False is deprecated and will be changed to True in a future version of pandas. Pass observed=False to retain current behavior or observed=True to adopt the future default and silence this warning.\n",
      "  df[f'tn_mean_{win}'] = df.groupby('product_id')['tn'].transform(lambda x: x.rolling(win, min_periods=1).mean())\n",
      "C:\\Users\\waldo\\AppData\\Local\\Temp\\ipykernel_44800\\596090252.py:18: FutureWarning: The default of observed=False is deprecated and will be changed to True in a future version of pandas. Pass observed=False to retain current behavior or observed=True to adopt the future default and silence this warning.\n",
      "  df[f'tn_std_{win}'] = df.groupby('product_id')['tn'].transform(lambda x: x.rolling(win, min_periods=1).std())\n",
      "C:\\Users\\waldo\\AppData\\Local\\Temp\\ipykernel_44800\\596090252.py:17: FutureWarning: The default of observed=False is deprecated and will be changed to True in a future version of pandas. Pass observed=False to retain current behavior or observed=True to adopt the future default and silence this warning.\n",
      "  df[f'tn_mean_{win}'] = df.groupby('product_id')['tn'].transform(lambda x: x.rolling(win, min_periods=1).mean())\n",
      "C:\\Users\\waldo\\AppData\\Local\\Temp\\ipykernel_44800\\596090252.py:18: FutureWarning: The default of observed=False is deprecated and will be changed to True in a future version of pandas. Pass observed=False to retain current behavior or observed=True to adopt the future default and silence this warning.\n",
      "  df[f'tn_std_{win}'] = df.groupby('product_id')['tn'].transform(lambda x: x.rolling(win, min_periods=1).std())\n",
      "C:\\Users\\waldo\\AppData\\Local\\Temp\\ipykernel_44800\\596090252.py:17: FutureWarning: The default of observed=False is deprecated and will be changed to True in a future version of pandas. Pass observed=False to retain current behavior or observed=True to adopt the future default and silence this warning.\n",
      "  df[f'tn_mean_{win}'] = df.groupby('product_id')['tn'].transform(lambda x: x.rolling(win, min_periods=1).mean())\n",
      "C:\\Users\\waldo\\AppData\\Local\\Temp\\ipykernel_44800\\596090252.py:18: FutureWarning: The default of observed=False is deprecated and will be changed to True in a future version of pandas. Pass observed=False to retain current behavior or observed=True to adopt the future default and silence this warning.\n",
      "  df[f'tn_std_{win}'] = df.groupby('product_id')['tn'].transform(lambda x: x.rolling(win, min_periods=1).std())\n",
      "C:\\Users\\waldo\\AppData\\Local\\Temp\\ipykernel_44800\\596090252.py:22: FutureWarning: The default of observed=False is deprecated and will be changed to True in a future version of pandas. Pass observed=False to retain current behavior or observed=True to adopt the future default and silence this warning.\n",
      "  roll_min = df.groupby('product_id')['tn'].transform(lambda x: x.rolling(win, min_periods=1).min())\n",
      "C:\\Users\\waldo\\AppData\\Local\\Temp\\ipykernel_44800\\596090252.py:22: FutureWarning: The default of observed=False is deprecated and will be changed to True in a future version of pandas. Pass observed=False to retain current behavior or observed=True to adopt the future default and silence this warning.\n",
      "  roll_min = df.groupby('product_id')['tn'].transform(lambda x: x.rolling(win, min_periods=1).min())\n",
      "C:\\Users\\waldo\\AppData\\Local\\Temp\\ipykernel_44800\\596090252.py:22: FutureWarning: The default of observed=False is deprecated and will be changed to True in a future version of pandas. Pass observed=False to retain current behavior or observed=True to adopt the future default and silence this warning.\n",
      "  roll_min = df.groupby('product_id')['tn'].transform(lambda x: x.rolling(win, min_periods=1).min())\n",
      "C:\\Users\\waldo\\AppData\\Local\\Temp\\ipykernel_44800\\596090252.py:22: FutureWarning: The default of observed=False is deprecated and will be changed to True in a future version of pandas. Pass observed=False to retain current behavior or observed=True to adopt the future default and silence this warning.\n",
      "  roll_min = df.groupby('product_id')['tn'].transform(lambda x: x.rolling(win, min_periods=1).min())\n",
      "C:\\Users\\waldo\\AppData\\Local\\Temp\\ipykernel_44800\\596090252.py:22: FutureWarning: The default of observed=False is deprecated and will be changed to True in a future version of pandas. Pass observed=False to retain current behavior or observed=True to adopt the future default and silence this warning.\n",
      "  roll_min = df.groupby('product_id')['tn'].transform(lambda x: x.rolling(win, min_periods=1).min())\n",
      "C:\\Users\\waldo\\AppData\\Local\\Temp\\ipykernel_44800\\596090252.py:27: FutureWarning: The default of observed=False is deprecated and will be changed to True in a future version of pandas. Pass observed=False to retain current behavior or observed=True to adopt the future default and silence this warning.\n",
      "  roll_max = df.groupby('product_id')['tn'].transform(lambda x: x.rolling(win, min_periods=1).max())\n",
      "C:\\Users\\waldo\\AppData\\Local\\Temp\\ipykernel_44800\\596090252.py:27: FutureWarning: The default of observed=False is deprecated and will be changed to True in a future version of pandas. Pass observed=False to retain current behavior or observed=True to adopt the future default and silence this warning.\n",
      "  roll_max = df.groupby('product_id')['tn'].transform(lambda x: x.rolling(win, min_periods=1).max())\n",
      "C:\\Users\\waldo\\AppData\\Local\\Temp\\ipykernel_44800\\596090252.py:27: FutureWarning: The default of observed=False is deprecated and will be changed to True in a future version of pandas. Pass observed=False to retain current behavior or observed=True to adopt the future default and silence this warning.\n",
      "  roll_max = df.groupby('product_id')['tn'].transform(lambda x: x.rolling(win, min_periods=1).max())\n",
      "C:\\Users\\waldo\\AppData\\Local\\Temp\\ipykernel_44800\\596090252.py:27: FutureWarning: The default of observed=False is deprecated and will be changed to True in a future version of pandas. Pass observed=False to retain current behavior or observed=True to adopt the future default and silence this warning.\n",
      "  roll_max = df.groupby('product_id')['tn'].transform(lambda x: x.rolling(win, min_periods=1).max())\n",
      "C:\\Users\\waldo\\AppData\\Local\\Temp\\ipykernel_44800\\596090252.py:27: FutureWarning: The default of observed=False is deprecated and will be changed to True in a future version of pandas. Pass observed=False to retain current behavior or observed=True to adopt the future default and silence this warning.\n",
      "  roll_max = df.groupby('product_id')['tn'].transform(lambda x: x.rolling(win, min_periods=1).max())\n"
     ]
    }
   ],
   "source": [
    "# 🛠 Feature Engineering extendida\n",
    "import numpy as np\n",
    "\n",
    "# Asegurarse de tener los datos ordenados por producto y periodo\n",
    "df = df.sort_values(['product_id', 'periodo'])\n",
    "\n",
    "# --- 1. Lags de tn: desde 1 a 36\n",
    "for i in range(1, 37):\n",
    "    df[f'lag_{i}'] = df.groupby('product_id')['tn'].shift(i)\n",
    "\n",
    "# --- 2. Delta lags: diferencia entre lags consecutivos\n",
    "for i in range(1, 36):\n",
    "    df[f'delta_lag_{i}'] = df[f'lag_{i}'] - df[f'lag_{i+1}']\n",
    "\n",
    "# --- 3. Medias móviles: rolling mean y std\n",
    "for win in [3, 6, 12, 24, 36]:\n",
    "    df[f'tn_mean_{win}'] = df.groupby('product_id')['tn'].transform(lambda x: x.rolling(win, min_periods=1).mean())\n",
    "    df[f'tn_std_{win}'] = df.groupby('product_id')['tn'].transform(lambda x: x.rolling(win, min_periods=1).std())\n",
    "\n",
    "# --- 4. Mínimos booleanos: 1 si el valor es el mínimo en su ventana\n",
    "for win in [3, 6, 12, 24, 36]:\n",
    "    roll_min = df.groupby('product_id')['tn'].transform(lambda x: x.rolling(win, min_periods=1).min())\n",
    "    df[f'is_min_{win}'] = (df['tn'] == roll_min).astype(int)\n",
    "\n",
    "# --- 5. Máximos booleanos: 1 si el valor es el máximo en su ventana\n",
    "for win in [3, 6, 12, 24, 36]:\n",
    "    roll_max = df.groupby('product_id')['tn'].transform(lambda x: x.rolling(win, min_periods=1).max())\n",
    "    df[f'is_max_{win}'] = (df['tn'] == roll_max).astype(int)\n",
    "\n",
    "# --- 6. Features temporales\n",
    "df['año'] = df['periodo'].dt.year\n",
    "df['mes'] = df['periodo'].dt.month\n",
    "df['cuatrimestre'] = ((df['mes'] - 1) // 4) + 1\n",
    "\n",
    "# Continuidad temporal (número de mes absoluto desde el inicio)\n",
    "min_fecha = df['periodo'].min()\n",
    "df['mes_absoluto'] = ((df['periodo'].dt.year - min_fecha.year) * 12 +\n",
    "                      (df['periodo'].dt.month - min_fecha.month))\n",
    "\n",
    "# Coseno del mes para estacionalidad\n",
    "df['cos_mes'] = np.cos(2 * np.pi * df['mes'] / 12)\n"
   ]
  },
  {
   "cell_type": "code",
   "execution_count": 10,
   "id": "be8b5513",
   "metadata": {},
   "outputs": [
    {
     "data": {
      "text/plain": [
       "(9460980, 111)"
      ]
     },
     "execution_count": 10,
     "metadata": {},
     "output_type": "execute_result"
    }
   ],
   "source": [
    "df.shape"
   ]
  },
  {
   "cell_type": "code",
   "execution_count": 11,
   "id": "2a1c76de",
   "metadata": {},
   "outputs": [
    {
     "name": "stdout",
     "output_type": "stream",
     "text": [
      "['customer_id', 'product_id', 'periodo', 'plan_precios_cuidados', 'cust_request_qty', 'cust_request_tn', 'tn', 'stock_final', 'cat1', 'cat2', 'cat3', 'brand', 'sku_size', 'tn_norm', 'cust_request_tn_norm', 'lag_1', 'lag_2', 'lag_3', 'lag_4', 'lag_5', 'lag_6', 'lag_7', 'lag_8', 'lag_9', 'lag_10', 'lag_11', 'lag_12', 'lag_13', 'lag_14', 'lag_15', 'lag_16', 'lag_17', 'lag_18', 'lag_19', 'lag_20', 'lag_21', 'lag_22', 'lag_23', 'lag_24', 'lag_25', 'lag_26', 'lag_27', 'lag_28', 'lag_29', 'lag_30', 'lag_31', 'lag_32', 'lag_33', 'lag_34', 'lag_35', 'lag_36', 'delta_lag_1', 'delta_lag_2', 'delta_lag_3', 'delta_lag_4', 'delta_lag_5', 'delta_lag_6', 'delta_lag_7', 'delta_lag_8', 'delta_lag_9', 'delta_lag_10', 'delta_lag_11', 'delta_lag_12', 'delta_lag_13', 'delta_lag_14', 'delta_lag_15', 'delta_lag_16', 'delta_lag_17', 'delta_lag_18', 'delta_lag_19', 'delta_lag_20', 'delta_lag_21', 'delta_lag_22', 'delta_lag_23', 'delta_lag_24', 'delta_lag_25', 'delta_lag_26', 'delta_lag_27', 'delta_lag_28', 'delta_lag_29', 'delta_lag_30', 'delta_lag_31', 'delta_lag_32', 'delta_lag_33', 'delta_lag_34', 'delta_lag_35', 'tn_mean_3', 'tn_std_3', 'tn_mean_6', 'tn_std_6', 'tn_mean_12', 'tn_std_12', 'tn_mean_24', 'tn_std_24', 'tn_mean_36', 'tn_std_36', 'is_min_3', 'is_min_6', 'is_min_12', 'is_min_24', 'is_min_36', 'is_max_3', 'is_max_6', 'is_max_12', 'is_max_24', 'is_max_36', 'año', 'mes', 'cuatrimestre', 'mes_absoluto', 'cos_mes']\n"
     ]
    }
   ],
   "source": [
    "print(df.columns.tolist())\n"
   ]
  },
  {
   "cell_type": "code",
   "execution_count": 13,
   "id": "af463539",
   "metadata": {},
   "outputs": [
    {
     "name": "stdout",
     "output_type": "stream",
     "text": [
      "✅ Dataset guardado como df_features_111.parquet\n"
     ]
    }
   ],
   "source": [
    "# 🔐 Guardar dataset procesado para no perder avances\n",
    "df.to_parquet(\"df_features_111.parquet\", index=False)\n",
    "print(\"✅ Dataset guardado como df_features_111.parquet\")\n"
   ]
  },
  {
   "cell_type": "code",
   "execution_count": 14,
   "id": "b28fd6da",
   "metadata": {},
   "outputs": [
    {
     "name": "stdout",
     "output_type": "stream",
     "text": [
      "✅ Dataset cargado con shape: (9460980, 111)\n"
     ]
    }
   ],
   "source": [
    "# 📦 Cargar dataset previamente guardado\n",
    "import pandas as pd\n",
    "\n",
    "df = pd.read_parquet(\"df_features_111.parquet\")\n",
    "print(f\"✅ Dataset cargado con shape: {df.shape}\")\n"
   ]
  },
  {
   "cell_type": "code",
   "execution_count": null,
   "id": "e8c77b15",
   "metadata": {},
   "outputs": [],
   "source": [
    "# 💾 Guardar dataset extendido\n",
    "#df.to_csv(\"dataset_base_features.csv\", index=False)\n"
   ]
  },
  {
   "cell_type": "code",
   "execution_count": 15,
   "id": "bc28b38e",
   "metadata": {},
   "outputs": [
    {
     "name": "stderr",
     "output_type": "stream",
     "text": [
      "c:\\Users\\waldo\\miniconda3\\envs\\tslearn_env\\lib\\site-packages\\tslearn\\bases\\bases.py:15: UserWarning: h5py not installed, hdf5 features will not be supported.\n",
      "Install h5py to use hdf5 features: http://docs.h5py.org/\n",
      "  warn(h5py_msg)\n",
      "c:\\Users\\waldo\\miniconda3\\envs\\tslearn_env\\lib\\site-packages\\sklearn\\utils\\deprecation.py:132: FutureWarning: 'force_all_finite' was renamed to 'ensure_all_finite' in 1.6 and will be removed in 1.8.\n",
      "  warnings.warn(\n",
      "c:\\Users\\waldo\\miniconda3\\envs\\tslearn_env\\lib\\site-packages\\sklearn\\utils\\deprecation.py:132: FutureWarning: 'force_all_finite' was renamed to 'ensure_all_finite' in 1.6 and will be removed in 1.8.\n",
      "  warnings.warn(\n",
      "c:\\Users\\waldo\\miniconda3\\envs\\tslearn_env\\lib\\site-packages\\sklearn\\utils\\deprecation.py:132: FutureWarning: 'force_all_finite' was renamed to 'ensure_all_finite' in 1.6 and will be removed in 1.8.\n",
      "  warnings.warn(\n",
      "c:\\Users\\waldo\\miniconda3\\envs\\tslearn_env\\lib\\site-packages\\sklearn\\utils\\deprecation.py:132: FutureWarning: 'force_all_finite' was renamed to 'ensure_all_finite' in 1.6 and will be removed in 1.8.\n",
      "  warnings.warn(\n"
     ]
    }
   ],
   "source": [
    "# 🤝 Clustering con Dynamic Time Warping (DTW)\n",
    "# Requiere tslearn (pip install tslearn)\n",
    "\n",
    "from tslearn.clustering import TimeSeriesKMeans\n",
    "from tslearn.preprocessing import TimeSeriesScalerMeanVariance\n",
    "import numpy as np\n",
    "\n",
    "# 1. Crear matriz de series temporales por producto\n",
    "df_dtw = df[df['tn'] > 0].copy()\n",
    "serie = df_dtw.pivot_table(index='product_id', columns='periodo', values='tn', aggfunc='sum').fillna(0)\n",
    "serie_array = serie.values[:, :, np.newaxis]  # shape (n_series, n_timestamps, 1)\n",
    "serie_scaled = TimeSeriesScalerMeanVariance().fit_transform(serie_array)\n",
    "\n",
    "# 2. Clustering con DTW\n",
    "modelo_dtw = TimeSeriesKMeans(n_clusters=50, metric=\"dtw\", random_state=42)\n",
    "labels_dtw = modelo_dtw.fit_predict(serie_scaled)\n",
    "\n",
    "# 3. Agregar etiquetas de cluster al dataset principal\n",
    "df_clusters = pd.DataFrame({'product_id': serie.index, 'cluster_dtw': labels_dtw})\n",
    "df['product_id'] = df['product_id'].astype(str)\n",
    "df_clusters['product_id'] = df_clusters['product_id'].astype(str)\n",
    "df = df.merge(df_clusters, on='product_id', how='left')\n"
   ]
  },
  {
   "cell_type": "code",
   "execution_count": 21,
   "id": "17f39e8e",
   "metadata": {},
   "outputs": [
    {
     "ename": "MemoryError",
     "evalue": "Unable to allocate 6.27 GiB for an array with shape (89, 9460980) and data type float64",
     "output_type": "error",
     "traceback": [
      "\u001b[1;31m---------------------------------------------------------------------------\u001b[0m",
      "\u001b[1;31mMemoryError\u001b[0m                               Traceback (most recent call last)",
      "Cell \u001b[1;32mIn[21], line 2\u001b[0m\n\u001b[0;32m      1\u001b[0m \u001b[38;5;28;01mfrom\u001b[39;00m\u001b[38;5;250m \u001b[39m\u001b[38;5;21;01mreducirDT\u001b[39;00m\u001b[38;5;250m \u001b[39m\u001b[38;5;28;01mimport\u001b[39;00m optimize_memory_usage\n\u001b[1;32m----> 2\u001b[0m df \u001b[38;5;241m=\u001b[39m \u001b[43moptimize_memory_usage\u001b[49m\u001b[43m(\u001b[49m\u001b[43mdf\u001b[49m\u001b[43m)\u001b[49m\n",
      "File \u001b[1;32mc:\\Users\\waldo\\Dropbox\\Maestría Ciencia de Datos\\Labo 3\\Proceso\\reducirDT.py:22\u001b[0m, in \u001b[0;36moptimize_memory_usage\u001b[1;34m(df, verbose, convert_bool)\u001b[0m\n\u001b[0;32m     19\u001b[0m \u001b[38;5;28;01mimport\u001b[39;00m\u001b[38;5;250m \u001b[39m\u001b[38;5;21;01mpandas\u001b[39;00m\u001b[38;5;250m \u001b[39m\u001b[38;5;28;01mas\u001b[39;00m\u001b[38;5;250m \u001b[39m\u001b[38;5;21;01mpd\u001b[39;00m\n\u001b[0;32m     20\u001b[0m \u001b[38;5;28;01mimport\u001b[39;00m\u001b[38;5;250m \u001b[39m\u001b[38;5;21;01mnumpy\u001b[39;00m\u001b[38;5;250m \u001b[39m\u001b[38;5;28;01mas\u001b[39;00m\u001b[38;5;250m \u001b[39m\u001b[38;5;21;01mnp\u001b[39;00m\n\u001b[1;32m---> 22\u001b[0m df_optimized \u001b[38;5;241m=\u001b[39m \u001b[43mdf\u001b[49m\u001b[38;5;241;43m.\u001b[39;49m\u001b[43mcopy\u001b[49m\u001b[43m(\u001b[49m\u001b[43m)\u001b[49m\n\u001b[0;32m     23\u001b[0m start_mem \u001b[38;5;241m=\u001b[39m df_optimized\u001b[38;5;241m.\u001b[39mmemory_usage(deep\u001b[38;5;241m=\u001b[39m\u001b[38;5;28;01mTrue\u001b[39;00m)\u001b[38;5;241m.\u001b[39msum() \u001b[38;5;241m/\u001b[39m \u001b[38;5;241m1024\u001b[39m\u001b[38;5;241m*\u001b[39m\u001b[38;5;241m*\u001b[39m\u001b[38;5;241m2\u001b[39m\n\u001b[0;32m     25\u001b[0m \u001b[38;5;28;01mfor\u001b[39;00m col \u001b[38;5;129;01min\u001b[39;00m df_optimized\u001b[38;5;241m.\u001b[39mcolumns:\n",
      "File \u001b[1;32mc:\\Users\\waldo\\miniconda3\\envs\\tslearn_env\\lib\\site-packages\\pandas\\core\\generic.py:6830\u001b[0m, in \u001b[0;36mNDFrame.copy\u001b[1;34m(self, deep)\u001b[0m\n\u001b[0;32m   6681\u001b[0m \u001b[38;5;129m@final\u001b[39m\n\u001b[0;32m   6682\u001b[0m \u001b[38;5;28;01mdef\u001b[39;00m\u001b[38;5;250m \u001b[39m\u001b[38;5;21mcopy\u001b[39m(\u001b[38;5;28mself\u001b[39m, deep: bool_t \u001b[38;5;241m|\u001b[39m \u001b[38;5;28;01mNone\u001b[39;00m \u001b[38;5;241m=\u001b[39m \u001b[38;5;28;01mTrue\u001b[39;00m) \u001b[38;5;241m-\u001b[39m\u001b[38;5;241m>\u001b[39m Self:\n\u001b[0;32m   6683\u001b[0m \u001b[38;5;250m    \u001b[39m\u001b[38;5;124;03m\"\"\"\u001b[39;00m\n\u001b[0;32m   6684\u001b[0m \u001b[38;5;124;03m    Make a copy of this object's indices and data.\u001b[39;00m\n\u001b[0;32m   6685\u001b[0m \n\u001b[1;32m   (...)\u001b[0m\n\u001b[0;32m   6828\u001b[0m \u001b[38;5;124;03m    dtype: int64\u001b[39;00m\n\u001b[0;32m   6829\u001b[0m \u001b[38;5;124;03m    \"\"\"\u001b[39;00m\n\u001b[1;32m-> 6830\u001b[0m     data \u001b[38;5;241m=\u001b[39m \u001b[38;5;28;43mself\u001b[39;49m\u001b[38;5;241;43m.\u001b[39;49m\u001b[43m_mgr\u001b[49m\u001b[38;5;241;43m.\u001b[39;49m\u001b[43mcopy\u001b[49m\u001b[43m(\u001b[49m\u001b[43mdeep\u001b[49m\u001b[38;5;241;43m=\u001b[39;49m\u001b[43mdeep\u001b[49m\u001b[43m)\u001b[49m\n\u001b[0;32m   6831\u001b[0m     \u001b[38;5;28mself\u001b[39m\u001b[38;5;241m.\u001b[39m_clear_item_cache()\n\u001b[0;32m   6832\u001b[0m     \u001b[38;5;28;01mreturn\u001b[39;00m \u001b[38;5;28mself\u001b[39m\u001b[38;5;241m.\u001b[39m_constructor_from_mgr(data, axes\u001b[38;5;241m=\u001b[39mdata\u001b[38;5;241m.\u001b[39maxes)\u001b[38;5;241m.\u001b[39m__finalize__(\n\u001b[0;32m   6833\u001b[0m         \u001b[38;5;28mself\u001b[39m, method\u001b[38;5;241m=\u001b[39m\u001b[38;5;124m\"\u001b[39m\u001b[38;5;124mcopy\u001b[39m\u001b[38;5;124m\"\u001b[39m\n\u001b[0;32m   6834\u001b[0m     )\n",
      "File \u001b[1;32mc:\\Users\\waldo\\miniconda3\\envs\\tslearn_env\\lib\\site-packages\\pandas\\core\\internals\\managers.py:593\u001b[0m, in \u001b[0;36mBaseBlockManager.copy\u001b[1;34m(self, deep)\u001b[0m\n\u001b[0;32m    590\u001b[0m     \u001b[38;5;28;01melse\u001b[39;00m:\n\u001b[0;32m    591\u001b[0m         new_axes \u001b[38;5;241m=\u001b[39m \u001b[38;5;28mlist\u001b[39m(\u001b[38;5;28mself\u001b[39m\u001b[38;5;241m.\u001b[39maxes)\n\u001b[1;32m--> 593\u001b[0m res \u001b[38;5;241m=\u001b[39m \u001b[38;5;28;43mself\u001b[39;49m\u001b[38;5;241;43m.\u001b[39;49m\u001b[43mapply\u001b[49m\u001b[43m(\u001b[49m\u001b[38;5;124;43m\"\u001b[39;49m\u001b[38;5;124;43mcopy\u001b[39;49m\u001b[38;5;124;43m\"\u001b[39;49m\u001b[43m,\u001b[49m\u001b[43m \u001b[49m\u001b[43mdeep\u001b[49m\u001b[38;5;241;43m=\u001b[39;49m\u001b[43mdeep\u001b[49m\u001b[43m)\u001b[49m\n\u001b[0;32m    594\u001b[0m res\u001b[38;5;241m.\u001b[39maxes \u001b[38;5;241m=\u001b[39m new_axes\n\u001b[0;32m    596\u001b[0m \u001b[38;5;28;01mif\u001b[39;00m \u001b[38;5;28mself\u001b[39m\u001b[38;5;241m.\u001b[39mndim \u001b[38;5;241m>\u001b[39m \u001b[38;5;241m1\u001b[39m:\n\u001b[0;32m    597\u001b[0m     \u001b[38;5;66;03m# Avoid needing to re-compute these\u001b[39;00m\n",
      "File \u001b[1;32mc:\\Users\\waldo\\miniconda3\\envs\\tslearn_env\\lib\\site-packages\\pandas\\core\\internals\\managers.py:363\u001b[0m, in \u001b[0;36mBaseBlockManager.apply\u001b[1;34m(self, f, align_keys, **kwargs)\u001b[0m\n\u001b[0;32m    361\u001b[0m         applied \u001b[38;5;241m=\u001b[39m b\u001b[38;5;241m.\u001b[39mapply(f, \u001b[38;5;241m*\u001b[39m\u001b[38;5;241m*\u001b[39mkwargs)\n\u001b[0;32m    362\u001b[0m     \u001b[38;5;28;01melse\u001b[39;00m:\n\u001b[1;32m--> 363\u001b[0m         applied \u001b[38;5;241m=\u001b[39m \u001b[38;5;28mgetattr\u001b[39m(b, f)(\u001b[38;5;241m*\u001b[39m\u001b[38;5;241m*\u001b[39mkwargs)\n\u001b[0;32m    364\u001b[0m     result_blocks \u001b[38;5;241m=\u001b[39m extend_blocks(applied, result_blocks)\n\u001b[0;32m    366\u001b[0m out \u001b[38;5;241m=\u001b[39m \u001b[38;5;28mtype\u001b[39m(\u001b[38;5;28mself\u001b[39m)\u001b[38;5;241m.\u001b[39mfrom_blocks(result_blocks, \u001b[38;5;28mself\u001b[39m\u001b[38;5;241m.\u001b[39maxes)\n",
      "File \u001b[1;32mc:\\Users\\waldo\\miniconda3\\envs\\tslearn_env\\lib\\site-packages\\pandas\\core\\internals\\blocks.py:822\u001b[0m, in \u001b[0;36mBlock.copy\u001b[1;34m(self, deep)\u001b[0m\n\u001b[0;32m    820\u001b[0m refs: BlockValuesRefs \u001b[38;5;241m|\u001b[39m \u001b[38;5;28;01mNone\u001b[39;00m\n\u001b[0;32m    821\u001b[0m \u001b[38;5;28;01mif\u001b[39;00m deep:\n\u001b[1;32m--> 822\u001b[0m     values \u001b[38;5;241m=\u001b[39m \u001b[43mvalues\u001b[49m\u001b[38;5;241;43m.\u001b[39;49m\u001b[43mcopy\u001b[49m\u001b[43m(\u001b[49m\u001b[43m)\u001b[49m\n\u001b[0;32m    823\u001b[0m     refs \u001b[38;5;241m=\u001b[39m \u001b[38;5;28;01mNone\u001b[39;00m\n\u001b[0;32m    824\u001b[0m \u001b[38;5;28;01melse\u001b[39;00m:\n",
      "\u001b[1;31mMemoryError\u001b[0m: Unable to allocate 6.27 GiB for an array with shape (89, 9460980) and data type float64"
     ]
    }
   ],
   "source": [
    "from reducirDT import optimize_memory_usage\n",
    "df = optimize_memory_usage(df)"
   ]
  },
  {
   "cell_type": "code",
   "execution_count": 22,
   "id": "2b96164c",
   "metadata": {},
   "outputs": [
    {
     "name": "stdout",
     "output_type": "stream",
     "text": [
      "👉 Hay 780 productos por procesar...\n"
     ]
    },
    {
     "name": "stderr",
     "output_type": "stream",
     "text": [
      "  0%|          | 0/780 [00:00<?, ?it/s]18:40:13 - cmdstanpy - INFO - Chain [1] start processing\n",
      "18:40:14 - cmdstanpy - INFO - Chain [1] done processing\n",
      "C:\\Users\\waldo\\AppData\\Local\\Temp\\ipykernel_44800\\1165039906.py:39: SettingWithCopyWarning: \n",
      "A value is trying to be set on a copy of a slice from a DataFrame.\n",
      "Try using .loc[row_indexer,col_indexer] = value instead\n",
      "\n",
      "See the caveats in the documentation: https://pandas.pydata.org/pandas-docs/stable/user_guide/indexing.html#returning-a-view-versus-a-copy\n",
      "  componentes['seasonal_prophet'] = 0\n",
      "  0%|          | 1/780 [00:15<3:15:55, 15.09s/it]18:40:29 - cmdstanpy - INFO - Chain [1] start processing\n",
      "18:40:29 - cmdstanpy - INFO - Chain [1] done processing\n",
      "C:\\Users\\waldo\\AppData\\Local\\Temp\\ipykernel_44800\\1165039906.py:39: SettingWithCopyWarning: \n",
      "A value is trying to be set on a copy of a slice from a DataFrame.\n",
      "Try using .loc[row_indexer,col_indexer] = value instead\n",
      "\n",
      "See the caveats in the documentation: https://pandas.pydata.org/pandas-docs/stable/user_guide/indexing.html#returning-a-view-versus-a-copy\n",
      "  componentes['seasonal_prophet'] = 0\n",
      "  0%|          | 2/780 [00:29<3:07:28, 14.46s/it]18:40:43 - cmdstanpy - INFO - Chain [1] start processing\n",
      "18:40:43 - cmdstanpy - INFO - Chain [1] done processing\n",
      "C:\\Users\\waldo\\AppData\\Local\\Temp\\ipykernel_44800\\1165039906.py:39: SettingWithCopyWarning: \n",
      "A value is trying to be set on a copy of a slice from a DataFrame.\n",
      "Try using .loc[row_indexer,col_indexer] = value instead\n",
      "\n",
      "See the caveats in the documentation: https://pandas.pydata.org/pandas-docs/stable/user_guide/indexing.html#returning-a-view-versus-a-copy\n",
      "  componentes['seasonal_prophet'] = 0\n",
      "  0%|          | 3/780 [00:43<3:04:54, 14.28s/it]18:40:57 - cmdstanpy - INFO - Chain [1] start processing\n",
      "18:40:57 - cmdstanpy - INFO - Chain [1] done processing\n",
      "C:\\Users\\waldo\\AppData\\Local\\Temp\\ipykernel_44800\\1165039906.py:39: SettingWithCopyWarning: \n",
      "A value is trying to be set on a copy of a slice from a DataFrame.\n",
      "Try using .loc[row_indexer,col_indexer] = value instead\n",
      "\n",
      "See the caveats in the documentation: https://pandas.pydata.org/pandas-docs/stable/user_guide/indexing.html#returning-a-view-versus-a-copy\n",
      "  componentes['seasonal_prophet'] = 0\n",
      "  1%|          | 4/780 [00:57<3:04:00, 14.23s/it]18:41:11 - cmdstanpy - INFO - Chain [1] start processing\n",
      "18:41:11 - cmdstanpy - INFO - Chain [1] done processing\n",
      "C:\\Users\\waldo\\AppData\\Local\\Temp\\ipykernel_44800\\1165039906.py:39: SettingWithCopyWarning: \n",
      "A value is trying to be set on a copy of a slice from a DataFrame.\n",
      "Try using .loc[row_indexer,col_indexer] = value instead\n",
      "\n",
      "See the caveats in the documentation: https://pandas.pydata.org/pandas-docs/stable/user_guide/indexing.html#returning-a-view-versus-a-copy\n",
      "  componentes['seasonal_prophet'] = 0\n",
      "  1%|          | 5/780 [01:14<3:16:13, 15.19s/it]18:41:35 - cmdstanpy - INFO - Chain [1] start processing\n",
      "18:41:36 - cmdstanpy - INFO - Chain [1] done processing\n",
      "C:\\Users\\waldo\\AppData\\Local\\Temp\\ipykernel_44800\\1165039906.py:39: SettingWithCopyWarning: \n",
      "A value is trying to be set on a copy of a slice from a DataFrame.\n",
      "Try using .loc[row_indexer,col_indexer] = value instead\n",
      "\n",
      "See the caveats in the documentation: https://pandas.pydata.org/pandas-docs/stable/user_guide/indexing.html#returning-a-view-versus-a-copy\n",
      "  componentes['seasonal_prophet'] = 0\n",
      "  1%|          | 6/780 [01:42<4:15:19, 19.79s/it]18:41:57 - cmdstanpy - INFO - Chain [1] start processing\n",
      "18:41:58 - cmdstanpy - INFO - Chain [1] done processing\n",
      "C:\\Users\\waldo\\AppData\\Local\\Temp\\ipykernel_44800\\1165039906.py:39: SettingWithCopyWarning: \n",
      "A value is trying to be set on a copy of a slice from a DataFrame.\n",
      "Try using .loc[row_indexer,col_indexer] = value instead\n",
      "\n",
      "See the caveats in the documentation: https://pandas.pydata.org/pandas-docs/stable/user_guide/indexing.html#returning-a-view-versus-a-copy\n",
      "  componentes['seasonal_prophet'] = 0\n",
      "  1%|          | 7/780 [02:07<4:34:22, 21.30s/it]18:42:22 - cmdstanpy - INFO - Chain [1] start processing\n",
      "18:42:22 - cmdstanpy - INFO - Chain [1] done processing\n",
      "C:\\Users\\waldo\\AppData\\Local\\Temp\\ipykernel_44800\\1165039906.py:39: SettingWithCopyWarning: \n",
      "A value is trying to be set on a copy of a slice from a DataFrame.\n",
      "Try using .loc[row_indexer,col_indexer] = value instead\n",
      "\n",
      "See the caveats in the documentation: https://pandas.pydata.org/pandas-docs/stable/user_guide/indexing.html#returning-a-view-versus-a-copy\n",
      "  componentes['seasonal_prophet'] = 0\n",
      "  1%|          | 8/780 [02:30<4:42:09, 21.93s/it]18:42:45 - cmdstanpy - INFO - Chain [1] start processing\n",
      "18:42:45 - cmdstanpy - INFO - Chain [1] done processing\n",
      "C:\\Users\\waldo\\AppData\\Local\\Temp\\ipykernel_44800\\1165039906.py:39: SettingWithCopyWarning: \n",
      "A value is trying to be set on a copy of a slice from a DataFrame.\n",
      "Try using .loc[row_indexer,col_indexer] = value instead\n",
      "\n",
      "See the caveats in the documentation: https://pandas.pydata.org/pandas-docs/stable/user_guide/indexing.html#returning-a-view-versus-a-copy\n",
      "  componentes['seasonal_prophet'] = 0\n",
      "  1%|          | 9/780 [02:50<4:32:32, 21.21s/it]18:43:05 - cmdstanpy - INFO - Chain [1] start processing\n",
      "18:43:05 - cmdstanpy - INFO - Chain [1] done processing\n",
      "C:\\Users\\waldo\\AppData\\Local\\Temp\\ipykernel_44800\\1165039906.py:39: SettingWithCopyWarning: \n",
      "A value is trying to be set on a copy of a slice from a DataFrame.\n",
      "Try using .loc[row_indexer,col_indexer] = value instead\n",
      "\n",
      "See the caveats in the documentation: https://pandas.pydata.org/pandas-docs/stable/user_guide/indexing.html#returning-a-view-versus-a-copy\n",
      "  componentes['seasonal_prophet'] = 0\n",
      "  1%|▏         | 10/780 [03:06<4:12:04, 19.64s/it]18:43:21 - cmdstanpy - INFO - Chain [1] start processing\n",
      "18:43:21 - cmdstanpy - INFO - Chain [1] done processing\n",
      "C:\\Users\\waldo\\AppData\\Local\\Temp\\ipykernel_44800\\1165039906.py:39: SettingWithCopyWarning: \n",
      "A value is trying to be set on a copy of a slice from a DataFrame.\n",
      "Try using .loc[row_indexer,col_indexer] = value instead\n",
      "\n",
      "See the caveats in the documentation: https://pandas.pydata.org/pandas-docs/stable/user_guide/indexing.html#returning-a-view-versus-a-copy\n",
      "  componentes['seasonal_prophet'] = 0\n",
      "  1%|▏         | 11/780 [03:21<3:53:57, 18.25s/it]18:43:36 - cmdstanpy - INFO - Chain [1] start processing\n",
      "18:43:36 - cmdstanpy - INFO - Chain [1] done processing\n",
      "C:\\Users\\waldo\\AppData\\Local\\Temp\\ipykernel_44800\\1165039906.py:39: SettingWithCopyWarning: \n",
      "A value is trying to be set on a copy of a slice from a DataFrame.\n",
      "Try using .loc[row_indexer,col_indexer] = value instead\n",
      "\n",
      "See the caveats in the documentation: https://pandas.pydata.org/pandas-docs/stable/user_guide/indexing.html#returning-a-view-versus-a-copy\n",
      "  componentes['seasonal_prophet'] = 0\n",
      "  2%|▏         | 12/780 [03:41<4:00:53, 18.82s/it]18:43:56 - cmdstanpy - INFO - Chain [1] start processing\n",
      "18:43:56 - cmdstanpy - INFO - Chain [1] done processing\n",
      "C:\\Users\\waldo\\AppData\\Local\\Temp\\ipykernel_44800\\1165039906.py:39: SettingWithCopyWarning: \n",
      "A value is trying to be set on a copy of a slice from a DataFrame.\n",
      "Try using .loc[row_indexer,col_indexer] = value instead\n",
      "\n",
      "See the caveats in the documentation: https://pandas.pydata.org/pandas-docs/stable/user_guide/indexing.html#returning-a-view-versus-a-copy\n",
      "  componentes['seasonal_prophet'] = 0\n",
      "  2%|▏         | 13/780 [04:06<4:23:08, 20.59s/it]18:44:21 - cmdstanpy - INFO - Chain [1] start processing\n",
      "18:44:21 - cmdstanpy - INFO - Chain [1] done processing\n",
      "C:\\Users\\waldo\\AppData\\Local\\Temp\\ipykernel_44800\\1165039906.py:39: SettingWithCopyWarning: \n",
      "A value is trying to be set on a copy of a slice from a DataFrame.\n",
      "Try using .loc[row_indexer,col_indexer] = value instead\n",
      "\n",
      "See the caveats in the documentation: https://pandas.pydata.org/pandas-docs/stable/user_guide/indexing.html#returning-a-view-versus-a-copy\n",
      "  componentes['seasonal_prophet'] = 0\n",
      "  2%|▏         | 14/780 [04:18<3:49:46, 18.00s/it]18:44:31 - cmdstanpy - INFO - Chain [1] start processing\n",
      "18:44:32 - cmdstanpy - INFO - Chain [1] done processing\n",
      "C:\\Users\\waldo\\AppData\\Local\\Temp\\ipykernel_44800\\1165039906.py:39: SettingWithCopyWarning: \n",
      "A value is trying to be set on a copy of a slice from a DataFrame.\n",
      "Try using .loc[row_indexer,col_indexer] = value instead\n",
      "\n",
      "See the caveats in the documentation: https://pandas.pydata.org/pandas-docs/stable/user_guide/indexing.html#returning-a-view-versus-a-copy\n",
      "  componentes['seasonal_prophet'] = 0\n",
      "  2%|▏         | 15/780 [04:28<3:21:29, 15.80s/it]18:44:42 - cmdstanpy - INFO - Chain [1] start processing\n",
      "18:44:43 - cmdstanpy - INFO - Chain [1] done processing\n",
      "C:\\Users\\waldo\\AppData\\Local\\Temp\\ipykernel_44800\\1165039906.py:39: SettingWithCopyWarning: \n",
      "A value is trying to be set on a copy of a slice from a DataFrame.\n",
      "Try using .loc[row_indexer,col_indexer] = value instead\n",
      "\n",
      "See the caveats in the documentation: https://pandas.pydata.org/pandas-docs/stable/user_guide/indexing.html#returning-a-view-versus-a-copy\n",
      "  componentes['seasonal_prophet'] = 0\n",
      "  2%|▏         | 16/780 [04:38<2:56:18, 13.85s/it]18:44:52 - cmdstanpy - INFO - Chain [1] start processing\n",
      "18:44:52 - cmdstanpy - INFO - Chain [1] done processing\n",
      "C:\\Users\\waldo\\AppData\\Local\\Temp\\ipykernel_44800\\1165039906.py:39: SettingWithCopyWarning: \n",
      "A value is trying to be set on a copy of a slice from a DataFrame.\n",
      "Try using .loc[row_indexer,col_indexer] = value instead\n",
      "\n",
      "See the caveats in the documentation: https://pandas.pydata.org/pandas-docs/stable/user_guide/indexing.html#returning-a-view-versus-a-copy\n",
      "  componentes['seasonal_prophet'] = 0\n",
      "  2%|▏         | 17/780 [04:49<2:45:57, 13.05s/it]18:45:03 - cmdstanpy - INFO - Chain [1] start processing\n",
      "18:45:03 - cmdstanpy - INFO - Chain [1] done processing\n",
      "C:\\Users\\waldo\\AppData\\Local\\Temp\\ipykernel_44800\\1165039906.py:39: SettingWithCopyWarning: \n",
      "A value is trying to be set on a copy of a slice from a DataFrame.\n",
      "Try using .loc[row_indexer,col_indexer] = value instead\n",
      "\n",
      "See the caveats in the documentation: https://pandas.pydata.org/pandas-docs/stable/user_guide/indexing.html#returning-a-view-versus-a-copy\n",
      "  componentes['seasonal_prophet'] = 0\n",
      "  2%|▏         | 18/780 [05:00<2:38:37, 12.49s/it]18:45:14 - cmdstanpy - INFO - Chain [1] start processing\n",
      "18:45:15 - cmdstanpy - INFO - Chain [1] done processing\n",
      "C:\\Users\\waldo\\AppData\\Local\\Temp\\ipykernel_44800\\1165039906.py:39: SettingWithCopyWarning: \n",
      "A value is trying to be set on a copy of a slice from a DataFrame.\n",
      "Try using .loc[row_indexer,col_indexer] = value instead\n",
      "\n",
      "See the caveats in the documentation: https://pandas.pydata.org/pandas-docs/stable/user_guide/indexing.html#returning-a-view-versus-a-copy\n",
      "  componentes['seasonal_prophet'] = 0\n",
      "  2%|▏         | 19/780 [05:11<2:30:59, 11.90s/it]18:45:25 - cmdstanpy - INFO - Chain [1] start processing\n",
      "18:45:25 - cmdstanpy - INFO - Chain [1] done processing\n",
      "C:\\Users\\waldo\\AppData\\Local\\Temp\\ipykernel_44800\\1165039906.py:39: SettingWithCopyWarning: \n",
      "A value is trying to be set on a copy of a slice from a DataFrame.\n",
      "Try using .loc[row_indexer,col_indexer] = value instead\n",
      "\n",
      "See the caveats in the documentation: https://pandas.pydata.org/pandas-docs/stable/user_guide/indexing.html#returning-a-view-versus-a-copy\n",
      "  componentes['seasonal_prophet'] = 0\n",
      "  3%|▎         | 20/780 [05:20<2:21:14, 11.15s/it]18:45:34 - cmdstanpy - INFO - Chain [1] start processing\n",
      "18:45:34 - cmdstanpy - INFO - Chain [1] done processing\n",
      "C:\\Users\\waldo\\AppData\\Local\\Temp\\ipykernel_44800\\1165039906.py:39: SettingWithCopyWarning: \n",
      "A value is trying to be set on a copy of a slice from a DataFrame.\n",
      "Try using .loc[row_indexer,col_indexer] = value instead\n",
      "\n",
      "See the caveats in the documentation: https://pandas.pydata.org/pandas-docs/stable/user_guide/indexing.html#returning-a-view-versus-a-copy\n",
      "  componentes['seasonal_prophet'] = 0\n",
      "  3%|▎         | 21/780 [05:28<2:10:35, 10.32s/it]18:45:42 - cmdstanpy - INFO - Chain [1] start processing\n",
      "18:45:42 - cmdstanpy - INFO - Chain [1] done processing\n",
      "C:\\Users\\waldo\\AppData\\Local\\Temp\\ipykernel_44800\\1165039906.py:39: SettingWithCopyWarning: \n",
      "A value is trying to be set on a copy of a slice from a DataFrame.\n",
      "Try using .loc[row_indexer,col_indexer] = value instead\n",
      "\n",
      "See the caveats in the documentation: https://pandas.pydata.org/pandas-docs/stable/user_guide/indexing.html#returning-a-view-versus-a-copy\n",
      "  componentes['seasonal_prophet'] = 0\n",
      "  3%|▎         | 22/780 [05:36<2:01:22,  9.61s/it]18:45:50 - cmdstanpy - INFO - Chain [1] start processing\n",
      "18:45:51 - cmdstanpy - INFO - Chain [1] done processing\n",
      "C:\\Users\\waldo\\AppData\\Local\\Temp\\ipykernel_44800\\1165039906.py:39: SettingWithCopyWarning: \n",
      "A value is trying to be set on a copy of a slice from a DataFrame.\n",
      "Try using .loc[row_indexer,col_indexer] = value instead\n",
      "\n",
      "See the caveats in the documentation: https://pandas.pydata.org/pandas-docs/stable/user_guide/indexing.html#returning-a-view-versus-a-copy\n",
      "  componentes['seasonal_prophet'] = 0\n",
      "  3%|▎         | 23/780 [05:48<2:09:15, 10.25s/it]18:46:02 - cmdstanpy - INFO - Chain [1] start processing\n",
      "18:46:02 - cmdstanpy - INFO - Chain [1] done processing\n",
      "C:\\Users\\waldo\\AppData\\Local\\Temp\\ipykernel_44800\\1165039906.py:39: SettingWithCopyWarning: \n",
      "A value is trying to be set on a copy of a slice from a DataFrame.\n",
      "Try using .loc[row_indexer,col_indexer] = value instead\n",
      "\n",
      "See the caveats in the documentation: https://pandas.pydata.org/pandas-docs/stable/user_guide/indexing.html#returning-a-view-versus-a-copy\n",
      "  componentes['seasonal_prophet'] = 0\n",
      "  3%|▎         | 24/780 [05:57<2:02:56,  9.76s/it]18:46:11 - cmdstanpy - INFO - Chain [1] start processing\n",
      "18:46:11 - cmdstanpy - INFO - Chain [1] done processing\n",
      "C:\\Users\\waldo\\AppData\\Local\\Temp\\ipykernel_44800\\1165039906.py:39: SettingWithCopyWarning: \n",
      "A value is trying to be set on a copy of a slice from a DataFrame.\n",
      "Try using .loc[row_indexer,col_indexer] = value instead\n",
      "\n",
      "See the caveats in the documentation: https://pandas.pydata.org/pandas-docs/stable/user_guide/indexing.html#returning-a-view-versus-a-copy\n",
      "  componentes['seasonal_prophet'] = 0\n",
      "  3%|▎         | 25/780 [06:09<2:11:36, 10.46s/it]18:46:23 - cmdstanpy - INFO - Chain [1] start processing\n",
      "18:46:24 - cmdstanpy - INFO - Chain [1] done processing\n",
      "C:\\Users\\waldo\\AppData\\Local\\Temp\\ipykernel_44800\\1165039906.py:39: SettingWithCopyWarning: \n",
      "A value is trying to be set on a copy of a slice from a DataFrame.\n",
      "Try using .loc[row_indexer,col_indexer] = value instead\n",
      "\n",
      "See the caveats in the documentation: https://pandas.pydata.org/pandas-docs/stable/user_guide/indexing.html#returning-a-view-versus-a-copy\n",
      "  componentes['seasonal_prophet'] = 0\n",
      "  3%|▎         | 26/780 [06:30<2:52:32, 13.73s/it]18:46:45 - cmdstanpy - INFO - Chain [1] start processing\n",
      "18:46:46 - cmdstanpy - INFO - Chain [1] done processing\n",
      "C:\\Users\\waldo\\AppData\\Local\\Temp\\ipykernel_44800\\1165039906.py:39: SettingWithCopyWarning: \n",
      "A value is trying to be set on a copy of a slice from a DataFrame.\n",
      "Try using .loc[row_indexer,col_indexer] = value instead\n",
      "\n",
      "See the caveats in the documentation: https://pandas.pydata.org/pandas-docs/stable/user_guide/indexing.html#returning-a-view-versus-a-copy\n",
      "  componentes['seasonal_prophet'] = 0\n",
      "  3%|▎         | 27/780 [06:54<3:29:52, 16.72s/it]18:47:08 - cmdstanpy - INFO - Chain [1] start processing\n",
      "18:47:09 - cmdstanpy - INFO - Chain [1] done processing\n",
      "C:\\Users\\waldo\\AppData\\Local\\Temp\\ipykernel_44800\\1165039906.py:39: SettingWithCopyWarning: \n",
      "A value is trying to be set on a copy of a slice from a DataFrame.\n",
      "Try using .loc[row_indexer,col_indexer] = value instead\n",
      "\n",
      "See the caveats in the documentation: https://pandas.pydata.org/pandas-docs/stable/user_guide/indexing.html#returning-a-view-versus-a-copy\n",
      "  componentes['seasonal_prophet'] = 0\n",
      "  4%|▎         | 28/780 [07:09<3:21:41, 16.09s/it]18:47:23 - cmdstanpy - INFO - Chain [1] start processing\n",
      "18:47:24 - cmdstanpy - INFO - Chain [1] done processing\n",
      "C:\\Users\\waldo\\AppData\\Local\\Temp\\ipykernel_44800\\1165039906.py:39: SettingWithCopyWarning: \n",
      "A value is trying to be set on a copy of a slice from a DataFrame.\n",
      "Try using .loc[row_indexer,col_indexer] = value instead\n",
      "\n",
      "See the caveats in the documentation: https://pandas.pydata.org/pandas-docs/stable/user_guide/indexing.html#returning-a-view-versus-a-copy\n",
      "  componentes['seasonal_prophet'] = 0\n",
      "  4%|▎         | 29/780 [07:25<3:21:13, 16.08s/it]18:47:39 - cmdstanpy - INFO - Chain [1] start processing\n",
      "18:47:39 - cmdstanpy - INFO - Chain [1] done processing\n",
      "C:\\Users\\waldo\\AppData\\Local\\Temp\\ipykernel_44800\\1165039906.py:39: SettingWithCopyWarning: \n",
      "A value is trying to be set on a copy of a slice from a DataFrame.\n",
      "Try using .loc[row_indexer,col_indexer] = value instead\n",
      "\n",
      "See the caveats in the documentation: https://pandas.pydata.org/pandas-docs/stable/user_guide/indexing.html#returning-a-view-versus-a-copy\n",
      "  componentes['seasonal_prophet'] = 0\n",
      "  4%|▍         | 30/780 [07:34<2:56:16, 14.10s/it]18:47:48 - cmdstanpy - INFO - Chain [1] start processing\n",
      "18:47:49 - cmdstanpy - INFO - Chain [1] done processing\n",
      "C:\\Users\\waldo\\AppData\\Local\\Temp\\ipykernel_44800\\1165039906.py:39: SettingWithCopyWarning: \n",
      "A value is trying to be set on a copy of a slice from a DataFrame.\n",
      "Try using .loc[row_indexer,col_indexer] = value instead\n",
      "\n",
      "See the caveats in the documentation: https://pandas.pydata.org/pandas-docs/stable/user_guide/indexing.html#returning-a-view-versus-a-copy\n",
      "  componentes['seasonal_prophet'] = 0\n",
      "  4%|▍         | 31/780 [07:48<2:54:42, 14.00s/it]18:48:02 - cmdstanpy - INFO - Chain [1] start processing\n",
      "18:48:02 - cmdstanpy - INFO - Chain [1] done processing\n",
      "C:\\Users\\waldo\\AppData\\Local\\Temp\\ipykernel_44800\\1165039906.py:39: SettingWithCopyWarning: \n",
      "A value is trying to be set on a copy of a slice from a DataFrame.\n",
      "Try using .loc[row_indexer,col_indexer] = value instead\n",
      "\n",
      "See the caveats in the documentation: https://pandas.pydata.org/pandas-docs/stable/user_guide/indexing.html#returning-a-view-versus-a-copy\n",
      "  componentes['seasonal_prophet'] = 0\n",
      "  4%|▍         | 32/780 [07:52<2:19:03, 11.15s/it]18:48:07 - cmdstanpy - INFO - Chain [1] start processing\n",
      "18:48:08 - cmdstanpy - INFO - Chain [1] done processing\n",
      "C:\\Users\\waldo\\AppData\\Local\\Temp\\ipykernel_44800\\1165039906.py:39: SettingWithCopyWarning: \n",
      "A value is trying to be set on a copy of a slice from a DataFrame.\n",
      "Try using .loc[row_indexer,col_indexer] = value instead\n",
      "\n",
      "See the caveats in the documentation: https://pandas.pydata.org/pandas-docs/stable/user_guide/indexing.html#returning-a-view-versus-a-copy\n",
      "  componentes['seasonal_prophet'] = 0\n",
      "  4%|▍         | 33/780 [08:12<2:51:49, 13.80s/it]18:48:27 - cmdstanpy - INFO - Chain [1] start processing\n",
      "18:48:27 - cmdstanpy - INFO - Chain [1] done processing\n",
      "C:\\Users\\waldo\\AppData\\Local\\Temp\\ipykernel_44800\\1165039906.py:39: SettingWithCopyWarning: \n",
      "A value is trying to be set on a copy of a slice from a DataFrame.\n",
      "Try using .loc[row_indexer,col_indexer] = value instead\n",
      "\n",
      "See the caveats in the documentation: https://pandas.pydata.org/pandas-docs/stable/user_guide/indexing.html#returning-a-view-versus-a-copy\n",
      "  componentes['seasonal_prophet'] = 0\n",
      "  4%|▍         | 34/780 [08:25<2:46:29, 13.39s/it]18:48:39 - cmdstanpy - INFO - Chain [1] start processing\n",
      "18:48:40 - cmdstanpy - INFO - Chain [1] done processing\n",
      "C:\\Users\\waldo\\AppData\\Local\\Temp\\ipykernel_44800\\1165039906.py:39: SettingWithCopyWarning: \n",
      "A value is trying to be set on a copy of a slice from a DataFrame.\n",
      "Try using .loc[row_indexer,col_indexer] = value instead\n",
      "\n",
      "See the caveats in the documentation: https://pandas.pydata.org/pandas-docs/stable/user_guide/indexing.html#returning-a-view-versus-a-copy\n",
      "  componentes['seasonal_prophet'] = 0\n",
      "  4%|▍         | 35/780 [08:40<2:53:10, 13.95s/it]18:48:55 - cmdstanpy - INFO - Chain [1] start processing\n",
      "18:48:55 - cmdstanpy - INFO - Chain [1] done processing\n",
      "C:\\Users\\waldo\\AppData\\Local\\Temp\\ipykernel_44800\\1165039906.py:39: SettingWithCopyWarning: \n",
      "A value is trying to be set on a copy of a slice from a DataFrame.\n",
      "Try using .loc[row_indexer,col_indexer] = value instead\n",
      "\n",
      "See the caveats in the documentation: https://pandas.pydata.org/pandas-docs/stable/user_guide/indexing.html#returning-a-view-versus-a-copy\n",
      "  componentes['seasonal_prophet'] = 0\n",
      "  5%|▍         | 36/780 [08:55<2:56:25, 14.23s/it]18:49:10 - cmdstanpy - INFO - Chain [1] start processing\n",
      "18:49:10 - cmdstanpy - INFO - Chain [1] done processing\n",
      "C:\\Users\\waldo\\AppData\\Local\\Temp\\ipykernel_44800\\1165039906.py:39: SettingWithCopyWarning: \n",
      "A value is trying to be set on a copy of a slice from a DataFrame.\n",
      "Try using .loc[row_indexer,col_indexer] = value instead\n",
      "\n",
      "See the caveats in the documentation: https://pandas.pydata.org/pandas-docs/stable/user_guide/indexing.html#returning-a-view-versus-a-copy\n",
      "  componentes['seasonal_prophet'] = 0\n",
      "  5%|▍         | 37/780 [09:15<3:16:19, 15.85s/it]18:49:29 - cmdstanpy - INFO - Chain [1] start processing\n",
      "18:49:29 - cmdstanpy - INFO - Chain [1] done processing\n",
      "C:\\Users\\waldo\\AppData\\Local\\Temp\\ipykernel_44800\\1165039906.py:39: SettingWithCopyWarning: \n",
      "A value is trying to be set on a copy of a slice from a DataFrame.\n",
      "Try using .loc[row_indexer,col_indexer] = value instead\n",
      "\n",
      "See the caveats in the documentation: https://pandas.pydata.org/pandas-docs/stable/user_guide/indexing.html#returning-a-view-versus-a-copy\n",
      "  componentes['seasonal_prophet'] = 0\n",
      "  5%|▍         | 38/780 [09:27<3:04:37, 14.93s/it]18:49:42 - cmdstanpy - INFO - Chain [1] start processing\n",
      "18:49:43 - cmdstanpy - INFO - Chain [1] done processing\n",
      "C:\\Users\\waldo\\AppData\\Local\\Temp\\ipykernel_44800\\1165039906.py:39: SettingWithCopyWarning: \n",
      "A value is trying to be set on a copy of a slice from a DataFrame.\n",
      "Try using .loc[row_indexer,col_indexer] = value instead\n",
      "\n",
      "See the caveats in the documentation: https://pandas.pydata.org/pandas-docs/stable/user_guide/indexing.html#returning-a-view-versus-a-copy\n",
      "  componentes['seasonal_prophet'] = 0\n",
      "  5%|▌         | 39/780 [09:47<3:22:50, 16.42s/it]18:50:02 - cmdstanpy - INFO - Chain [1] start processing\n",
      "18:50:02 - cmdstanpy - INFO - Chain [1] done processing\n",
      "C:\\Users\\waldo\\AppData\\Local\\Temp\\ipykernel_44800\\1165039906.py:39: SettingWithCopyWarning: \n",
      "A value is trying to be set on a copy of a slice from a DataFrame.\n",
      "Try using .loc[row_indexer,col_indexer] = value instead\n",
      "\n",
      "See the caveats in the documentation: https://pandas.pydata.org/pandas-docs/stable/user_guide/indexing.html#returning-a-view-versus-a-copy\n",
      "  componentes['seasonal_prophet'] = 0\n",
      "  5%|▌         | 40/780 [10:02<3:15:14, 15.83s/it]18:50:17 - cmdstanpy - INFO - Chain [1] start processing\n",
      "18:50:17 - cmdstanpy - INFO - Chain [1] done processing\n",
      "C:\\Users\\waldo\\AppData\\Local\\Temp\\ipykernel_44800\\1165039906.py:39: SettingWithCopyWarning: \n",
      "A value is trying to be set on a copy of a slice from a DataFrame.\n",
      "Try using .loc[row_indexer,col_indexer] = value instead\n",
      "\n",
      "See the caveats in the documentation: https://pandas.pydata.org/pandas-docs/stable/user_guide/indexing.html#returning-a-view-versus-a-copy\n",
      "  componentes['seasonal_prophet'] = 0\n",
      "  5%|▌         | 41/780 [10:25<3:40:54, 17.94s/it]18:50:39 - cmdstanpy - INFO - Chain [1] start processing\n",
      "18:50:40 - cmdstanpy - INFO - Chain [1] done processing\n",
      "C:\\Users\\waldo\\AppData\\Local\\Temp\\ipykernel_44800\\1165039906.py:39: SettingWithCopyWarning: \n",
      "A value is trying to be set on a copy of a slice from a DataFrame.\n",
      "Try using .loc[row_indexer,col_indexer] = value instead\n",
      "\n",
      "See the caveats in the documentation: https://pandas.pydata.org/pandas-docs/stable/user_guide/indexing.html#returning-a-view-versus-a-copy\n",
      "  componentes['seasonal_prophet'] = 0\n",
      "  5%|▌         | 42/780 [10:42<3:37:22, 17.67s/it]18:50:56 - cmdstanpy - INFO - Chain [1] start processing\n",
      "18:50:56 - cmdstanpy - INFO - Chain [1] done processing\n",
      "C:\\Users\\waldo\\AppData\\Local\\Temp\\ipykernel_44800\\1165039906.py:39: SettingWithCopyWarning: \n",
      "A value is trying to be set on a copy of a slice from a DataFrame.\n",
      "Try using .loc[row_indexer,col_indexer] = value instead\n",
      "\n",
      "See the caveats in the documentation: https://pandas.pydata.org/pandas-docs/stable/user_guide/indexing.html#returning-a-view-versus-a-copy\n",
      "  componentes['seasonal_prophet'] = 0\n",
      "  6%|▌         | 43/780 [10:54<3:18:16, 16.14s/it]18:51:09 - cmdstanpy - INFO - Chain [1] start processing\n",
      "18:51:10 - cmdstanpy - INFO - Chain [1] done processing\n",
      "C:\\Users\\waldo\\AppData\\Local\\Temp\\ipykernel_44800\\1165039906.py:39: SettingWithCopyWarning: \n",
      "A value is trying to be set on a copy of a slice from a DataFrame.\n",
      "Try using .loc[row_indexer,col_indexer] = value instead\n",
      "\n",
      "See the caveats in the documentation: https://pandas.pydata.org/pandas-docs/stable/user_guide/indexing.html#returning-a-view-versus-a-copy\n",
      "  componentes['seasonal_prophet'] = 0\n",
      "  6%|▌         | 44/780 [11:18<3:45:12, 18.36s/it]18:51:32 - cmdstanpy - INFO - Chain [1] start processing\n",
      "18:51:32 - cmdstanpy - INFO - Chain [1] done processing\n",
      "C:\\Users\\waldo\\AppData\\Local\\Temp\\ipykernel_44800\\1165039906.py:39: SettingWithCopyWarning: \n",
      "A value is trying to be set on a copy of a slice from a DataFrame.\n",
      "Try using .loc[row_indexer,col_indexer] = value instead\n",
      "\n",
      "See the caveats in the documentation: https://pandas.pydata.org/pandas-docs/stable/user_guide/indexing.html#returning-a-view-versus-a-copy\n",
      "  componentes['seasonal_prophet'] = 0\n",
      "  6%|▌         | 45/780 [11:27<3:10:45, 15.57s/it]18:51:41 - cmdstanpy - INFO - Chain [1] start processing\n",
      "18:51:41 - cmdstanpy - INFO - Chain [1] done processing\n",
      "C:\\Users\\waldo\\AppData\\Local\\Temp\\ipykernel_44800\\1165039906.py:39: SettingWithCopyWarning: \n",
      "A value is trying to be set on a copy of a slice from a DataFrame.\n",
      "Try using .loc[row_indexer,col_indexer] = value instead\n",
      "\n",
      "See the caveats in the documentation: https://pandas.pydata.org/pandas-docs/stable/user_guide/indexing.html#returning-a-view-versus-a-copy\n",
      "  componentes['seasonal_prophet'] = 0\n",
      "  6%|▌         | 46/780 [11:40<3:00:53, 14.79s/it]18:51:54 - cmdstanpy - INFO - Chain [1] start processing\n",
      "18:51:54 - cmdstanpy - INFO - Chain [1] done processing\n",
      "C:\\Users\\waldo\\AppData\\Local\\Temp\\ipykernel_44800\\1165039906.py:39: SettingWithCopyWarning: \n",
      "A value is trying to be set on a copy of a slice from a DataFrame.\n",
      "Try using .loc[row_indexer,col_indexer] = value instead\n",
      "\n",
      "See the caveats in the documentation: https://pandas.pydata.org/pandas-docs/stable/user_guide/indexing.html#returning-a-view-versus-a-copy\n",
      "  componentes['seasonal_prophet'] = 0\n",
      "  6%|▌         | 47/780 [11:56<3:04:34, 15.11s/it]18:52:10 - cmdstanpy - INFO - Chain [1] start processing\n",
      "18:52:10 - cmdstanpy - INFO - Chain [1] done processing\n",
      "C:\\Users\\waldo\\AppData\\Local\\Temp\\ipykernel_44800\\1165039906.py:39: SettingWithCopyWarning: \n",
      "A value is trying to be set on a copy of a slice from a DataFrame.\n",
      "Try using .loc[row_indexer,col_indexer] = value instead\n",
      "\n",
      "See the caveats in the documentation: https://pandas.pydata.org/pandas-docs/stable/user_guide/indexing.html#returning-a-view-versus-a-copy\n",
      "  componentes['seasonal_prophet'] = 0\n",
      "  6%|▌         | 48/780 [12:05<2:41:43, 13.26s/it]18:52:19 - cmdstanpy - INFO - Chain [1] start processing\n",
      "18:52:20 - cmdstanpy - INFO - Chain [1] done processing\n",
      "C:\\Users\\waldo\\AppData\\Local\\Temp\\ipykernel_44800\\1165039906.py:39: SettingWithCopyWarning: \n",
      "A value is trying to be set on a copy of a slice from a DataFrame.\n",
      "Try using .loc[row_indexer,col_indexer] = value instead\n",
      "\n",
      "See the caveats in the documentation: https://pandas.pydata.org/pandas-docs/stable/user_guide/indexing.html#returning-a-view-versus-a-copy\n",
      "  componentes['seasonal_prophet'] = 0\n",
      "  6%|▋         | 49/780 [12:26<3:10:42, 15.65s/it]18:52:41 - cmdstanpy - INFO - Chain [1] start processing\n",
      "18:52:41 - cmdstanpy - INFO - Chain [1] done processing\n",
      "C:\\Users\\waldo\\AppData\\Local\\Temp\\ipykernel_44800\\1165039906.py:39: SettingWithCopyWarning: \n",
      "A value is trying to be set on a copy of a slice from a DataFrame.\n",
      "Try using .loc[row_indexer,col_indexer] = value instead\n",
      "\n",
      "See the caveats in the documentation: https://pandas.pydata.org/pandas-docs/stable/user_guide/indexing.html#returning-a-view-versus-a-copy\n",
      "  componentes['seasonal_prophet'] = 0\n",
      "  6%|▋         | 50/780 [12:49<3:36:35, 17.80s/it]18:53:03 - cmdstanpy - INFO - Chain [1] start processing\n",
      "18:53:03 - cmdstanpy - INFO - Chain [1] done processing\n",
      "C:\\Users\\waldo\\AppData\\Local\\Temp\\ipykernel_44800\\1165039906.py:39: SettingWithCopyWarning: \n",
      "A value is trying to be set on a copy of a slice from a DataFrame.\n",
      "Try using .loc[row_indexer,col_indexer] = value instead\n",
      "\n",
      "See the caveats in the documentation: https://pandas.pydata.org/pandas-docs/stable/user_guide/indexing.html#returning-a-view-versus-a-copy\n",
      "  componentes['seasonal_prophet'] = 0\n",
      "  7%|▋         | 51/780 [13:04<3:28:15, 17.14s/it]18:53:19 - cmdstanpy - INFO - Chain [1] start processing\n",
      "18:53:19 - cmdstanpy - INFO - Chain [1] done processing\n",
      "C:\\Users\\waldo\\AppData\\Local\\Temp\\ipykernel_44800\\1165039906.py:39: SettingWithCopyWarning: \n",
      "A value is trying to be set on a copy of a slice from a DataFrame.\n",
      "Try using .loc[row_indexer,col_indexer] = value instead\n",
      "\n",
      "See the caveats in the documentation: https://pandas.pydata.org/pandas-docs/stable/user_guide/indexing.html#returning-a-view-versus-a-copy\n",
      "  componentes['seasonal_prophet'] = 0\n",
      "  7%|▋         | 52/780 [13:16<3:08:22, 15.53s/it]18:53:31 - cmdstanpy - INFO - Chain [1] start processing\n",
      "18:53:31 - cmdstanpy - INFO - Chain [1] done processing\n",
      "C:\\Users\\waldo\\AppData\\Local\\Temp\\ipykernel_44800\\1165039906.py:39: SettingWithCopyWarning: \n",
      "A value is trying to be set on a copy of a slice from a DataFrame.\n",
      "Try using .loc[row_indexer,col_indexer] = value instead\n",
      "\n",
      "See the caveats in the documentation: https://pandas.pydata.org/pandas-docs/stable/user_guide/indexing.html#returning-a-view-versus-a-copy\n",
      "  componentes['seasonal_prophet'] = 0\n",
      "  7%|▋         | 53/780 [13:38<3:30:16, 17.35s/it]18:53:53 - cmdstanpy - INFO - Chain [1] start processing\n",
      "18:53:53 - cmdstanpy - INFO - Chain [1] done processing\n",
      "C:\\Users\\waldo\\AppData\\Local\\Temp\\ipykernel_44800\\1165039906.py:39: SettingWithCopyWarning: \n",
      "A value is trying to be set on a copy of a slice from a DataFrame.\n",
      "Try using .loc[row_indexer,col_indexer] = value instead\n",
      "\n",
      "See the caveats in the documentation: https://pandas.pydata.org/pandas-docs/stable/user_guide/indexing.html#returning-a-view-versus-a-copy\n",
      "  componentes['seasonal_prophet'] = 0\n",
      "  7%|▋         | 54/780 [14:03<4:00:53, 19.91s/it]18:54:18 - cmdstanpy - INFO - Chain [1] start processing\n",
      "18:54:19 - cmdstanpy - INFO - Chain [1] done processing\n",
      "C:\\Users\\waldo\\AppData\\Local\\Temp\\ipykernel_44800\\1165039906.py:39: SettingWithCopyWarning: \n",
      "A value is trying to be set on a copy of a slice from a DataFrame.\n",
      "Try using .loc[row_indexer,col_indexer] = value instead\n",
      "\n",
      "See the caveats in the documentation: https://pandas.pydata.org/pandas-docs/stable/user_guide/indexing.html#returning-a-view-versus-a-copy\n",
      "  componentes['seasonal_prophet'] = 0\n",
      "  7%|▋         | 55/780 [14:27<4:13:43, 21.00s/it]18:54:42 - cmdstanpy - INFO - Chain [1] start processing\n",
      "18:54:43 - cmdstanpy - INFO - Chain [1] done processing\n",
      "C:\\Users\\waldo\\AppData\\Local\\Temp\\ipykernel_44800\\1165039906.py:39: SettingWithCopyWarning: \n",
      "A value is trying to be set on a copy of a slice from a DataFrame.\n",
      "Try using .loc[row_indexer,col_indexer] = value instead\n",
      "\n",
      "See the caveats in the documentation: https://pandas.pydata.org/pandas-docs/stable/user_guide/indexing.html#returning-a-view-versus-a-copy\n",
      "  componentes['seasonal_prophet'] = 0\n",
      "  7%|▋         | 56/780 [14:49<4:17:37, 21.35s/it]18:55:04 - cmdstanpy - INFO - Chain [1] start processing\n",
      "18:55:05 - cmdstanpy - INFO - Chain [1] done processing\n",
      "C:\\Users\\waldo\\AppData\\Local\\Temp\\ipykernel_44800\\1165039906.py:39: SettingWithCopyWarning: \n",
      "A value is trying to be set on a copy of a slice from a DataFrame.\n",
      "Try using .loc[row_indexer,col_indexer] = value instead\n",
      "\n",
      "See the caveats in the documentation: https://pandas.pydata.org/pandas-docs/stable/user_guide/indexing.html#returning-a-view-versus-a-copy\n",
      "  componentes['seasonal_prophet'] = 0\n",
      "  7%|▋         | 57/780 [15:11<4:20:08, 21.59s/it]18:55:26 - cmdstanpy - INFO - Chain [1] start processing\n",
      "18:55:26 - cmdstanpy - INFO - Chain [1] done processing\n",
      "C:\\Users\\waldo\\AppData\\Local\\Temp\\ipykernel_44800\\1165039906.py:39: SettingWithCopyWarning: \n",
      "A value is trying to be set on a copy of a slice from a DataFrame.\n",
      "Try using .loc[row_indexer,col_indexer] = value instead\n",
      "\n",
      "See the caveats in the documentation: https://pandas.pydata.org/pandas-docs/stable/user_guide/indexing.html#returning-a-view-versus-a-copy\n",
      "  componentes['seasonal_prophet'] = 0\n",
      "  7%|▋         | 58/780 [15:27<3:58:02, 19.78s/it]18:55:42 - cmdstanpy - INFO - Chain [1] start processing\n",
      "18:55:42 - cmdstanpy - INFO - Chain [1] done processing\n",
      "C:\\Users\\waldo\\AppData\\Local\\Temp\\ipykernel_44800\\1165039906.py:39: SettingWithCopyWarning: \n",
      "A value is trying to be set on a copy of a slice from a DataFrame.\n",
      "Try using .loc[row_indexer,col_indexer] = value instead\n",
      "\n",
      "See the caveats in the documentation: https://pandas.pydata.org/pandas-docs/stable/user_guide/indexing.html#returning-a-view-versus-a-copy\n",
      "  componentes['seasonal_prophet'] = 0\n",
      "  8%|▊         | 59/780 [15:45<3:50:02, 19.14s/it]18:55:59 - cmdstanpy - INFO - Chain [1] start processing\n",
      "18:55:59 - cmdstanpy - INFO - Chain [1] done processing\n",
      "C:\\Users\\waldo\\AppData\\Local\\Temp\\ipykernel_44800\\1165039906.py:39: SettingWithCopyWarning: \n",
      "A value is trying to be set on a copy of a slice from a DataFrame.\n",
      "Try using .loc[row_indexer,col_indexer] = value instead\n",
      "\n",
      "See the caveats in the documentation: https://pandas.pydata.org/pandas-docs/stable/user_guide/indexing.html#returning-a-view-versus-a-copy\n",
      "  componentes['seasonal_prophet'] = 0\n",
      "  8%|▊         | 60/780 [15:58<3:29:15, 17.44s/it]18:56:12 - cmdstanpy - INFO - Chain [1] start processing\n",
      "18:56:13 - cmdstanpy - INFO - Chain [1] done processing\n",
      "C:\\Users\\waldo\\AppData\\Local\\Temp\\ipykernel_44800\\1165039906.py:39: SettingWithCopyWarning: \n",
      "A value is trying to be set on a copy of a slice from a DataFrame.\n",
      "Try using .loc[row_indexer,col_indexer] = value instead\n",
      "\n",
      "See the caveats in the documentation: https://pandas.pydata.org/pandas-docs/stable/user_guide/indexing.html#returning-a-view-versus-a-copy\n",
      "  componentes['seasonal_prophet'] = 0\n",
      "  8%|▊         | 61/780 [16:11<3:11:22, 15.97s/it]18:56:25 - cmdstanpy - INFO - Chain [1] start processing\n",
      "18:56:25 - cmdstanpy - INFO - Chain [1] done processing\n",
      "C:\\Users\\waldo\\AppData\\Local\\Temp\\ipykernel_44800\\1165039906.py:39: SettingWithCopyWarning: \n",
      "A value is trying to be set on a copy of a slice from a DataFrame.\n",
      "Try using .loc[row_indexer,col_indexer] = value instead\n",
      "\n",
      "See the caveats in the documentation: https://pandas.pydata.org/pandas-docs/stable/user_guide/indexing.html#returning-a-view-versus-a-copy\n",
      "  componentes['seasonal_prophet'] = 0\n",
      "  8%|▊         | 62/780 [16:26<3:09:45, 15.86s/it]18:56:41 - cmdstanpy - INFO - Chain [1] start processing\n",
      "18:56:41 - cmdstanpy - INFO - Chain [1] done processing\n",
      "C:\\Users\\waldo\\AppData\\Local\\Temp\\ipykernel_44800\\1165039906.py:39: SettingWithCopyWarning: \n",
      "A value is trying to be set on a copy of a slice from a DataFrame.\n",
      "Try using .loc[row_indexer,col_indexer] = value instead\n",
      "\n",
      "See the caveats in the documentation: https://pandas.pydata.org/pandas-docs/stable/user_guide/indexing.html#returning-a-view-versus-a-copy\n",
      "  componentes['seasonal_prophet'] = 0\n",
      "  8%|▊         | 63/780 [16:39<2:58:07, 14.91s/it]18:56:54 - cmdstanpy - INFO - Chain [1] start processing\n",
      "18:56:55 - cmdstanpy - INFO - Chain [1] done processing\n",
      "C:\\Users\\waldo\\AppData\\Local\\Temp\\ipykernel_44800\\1165039906.py:39: SettingWithCopyWarning: \n",
      "A value is trying to be set on a copy of a slice from a DataFrame.\n",
      "Try using .loc[row_indexer,col_indexer] = value instead\n",
      "\n",
      "See the caveats in the documentation: https://pandas.pydata.org/pandas-docs/stable/user_guide/indexing.html#returning-a-view-versus-a-copy\n",
      "  componentes['seasonal_prophet'] = 0\n",
      "  8%|▊         | 64/780 [17:02<3:26:37, 17.31s/it]18:57:16 - cmdstanpy - INFO - Chain [1] start processing\n",
      "18:57:16 - cmdstanpy - INFO - Chain [1] done processing\n",
      "C:\\Users\\waldo\\AppData\\Local\\Temp\\ipykernel_44800\\1165039906.py:39: SettingWithCopyWarning: \n",
      "A value is trying to be set on a copy of a slice from a DataFrame.\n",
      "Try using .loc[row_indexer,col_indexer] = value instead\n",
      "\n",
      "See the caveats in the documentation: https://pandas.pydata.org/pandas-docs/stable/user_guide/indexing.html#returning-a-view-versus-a-copy\n",
      "  componentes['seasonal_prophet'] = 0\n",
      "  8%|▊         | 65/780 [17:14<3:08:05, 15.78s/it]18:57:28 - cmdstanpy - INFO - Chain [1] start processing\n",
      "18:57:29 - cmdstanpy - INFO - Chain [1] done processing\n",
      "C:\\Users\\waldo\\AppData\\Local\\Temp\\ipykernel_44800\\1165039906.py:39: SettingWithCopyWarning: \n",
      "A value is trying to be set on a copy of a slice from a DataFrame.\n",
      "Try using .loc[row_indexer,col_indexer] = value instead\n",
      "\n",
      "See the caveats in the documentation: https://pandas.pydata.org/pandas-docs/stable/user_guide/indexing.html#returning-a-view-versus-a-copy\n",
      "  componentes['seasonal_prophet'] = 0\n",
      "  8%|▊         | 66/780 [17:24<2:47:47, 14.10s/it]18:57:39 - cmdstanpy - INFO - Chain [1] start processing\n",
      "18:57:39 - cmdstanpy - INFO - Chain [1] done processing\n",
      "C:\\Users\\waldo\\AppData\\Local\\Temp\\ipykernel_44800\\1165039906.py:39: SettingWithCopyWarning: \n",
      "A value is trying to be set on a copy of a slice from a DataFrame.\n",
      "Try using .loc[row_indexer,col_indexer] = value instead\n",
      "\n",
      "See the caveats in the documentation: https://pandas.pydata.org/pandas-docs/stable/user_guide/indexing.html#returning-a-view-versus-a-copy\n",
      "  componentes['seasonal_prophet'] = 0\n",
      "  9%|▊         | 67/780 [17:37<2:42:29, 13.67s/it]18:57:52 - cmdstanpy - INFO - Chain [1] start processing\n",
      "18:57:52 - cmdstanpy - INFO - Chain [1] done processing\n",
      "C:\\Users\\waldo\\AppData\\Local\\Temp\\ipykernel_44800\\1165039906.py:39: SettingWithCopyWarning: \n",
      "A value is trying to be set on a copy of a slice from a DataFrame.\n",
      "Try using .loc[row_indexer,col_indexer] = value instead\n",
      "\n",
      "See the caveats in the documentation: https://pandas.pydata.org/pandas-docs/stable/user_guide/indexing.html#returning-a-view-versus-a-copy\n",
      "  componentes['seasonal_prophet'] = 0\n",
      "  9%|▊         | 68/780 [17:54<2:55:35, 14.80s/it]18:58:09 - cmdstanpy - INFO - Chain [1] start processing\n",
      "18:58:09 - cmdstanpy - INFO - Chain [1] done processing\n",
      "C:\\Users\\waldo\\AppData\\Local\\Temp\\ipykernel_44800\\1165039906.py:39: SettingWithCopyWarning: \n",
      "A value is trying to be set on a copy of a slice from a DataFrame.\n",
      "Try using .loc[row_indexer,col_indexer] = value instead\n",
      "\n",
      "See the caveats in the documentation: https://pandas.pydata.org/pandas-docs/stable/user_guide/indexing.html#returning-a-view-versus-a-copy\n",
      "  componentes['seasonal_prophet'] = 0\n",
      "  9%|▉         | 69/780 [18:14<3:13:48, 16.35s/it]18:58:29 - cmdstanpy - INFO - Chain [1] start processing\n",
      "18:58:30 - cmdstanpy - INFO - Chain [1] done processing\n",
      "C:\\Users\\waldo\\AppData\\Local\\Temp\\ipykernel_44800\\1165039906.py:39: SettingWithCopyWarning: \n",
      "A value is trying to be set on a copy of a slice from a DataFrame.\n",
      "Try using .loc[row_indexer,col_indexer] = value instead\n",
      "\n",
      "See the caveats in the documentation: https://pandas.pydata.org/pandas-docs/stable/user_guide/indexing.html#returning-a-view-versus-a-copy\n",
      "  componentes['seasonal_prophet'] = 0\n",
      "  9%|▉         | 70/780 [18:34<3:25:35, 17.37s/it]18:58:49 - cmdstanpy - INFO - Chain [1] start processing\n",
      "18:58:49 - cmdstanpy - INFO - Chain [1] done processing\n",
      "C:\\Users\\waldo\\AppData\\Local\\Temp\\ipykernel_44800\\1165039906.py:39: SettingWithCopyWarning: \n",
      "A value is trying to be set on a copy of a slice from a DataFrame.\n",
      "Try using .loc[row_indexer,col_indexer] = value instead\n",
      "\n",
      "See the caveats in the documentation: https://pandas.pydata.org/pandas-docs/stable/user_guide/indexing.html#returning-a-view-versus-a-copy\n",
      "  componentes['seasonal_prophet'] = 0\n",
      "  9%|▉         | 71/780 [18:48<3:15:18, 16.53s/it]18:59:03 - cmdstanpy - INFO - Chain [1] start processing\n",
      "18:59:04 - cmdstanpy - INFO - Chain [1] done processing\n",
      "C:\\Users\\waldo\\AppData\\Local\\Temp\\ipykernel_44800\\1165039906.py:39: SettingWithCopyWarning: \n",
      "A value is trying to be set on a copy of a slice from a DataFrame.\n",
      "Try using .loc[row_indexer,col_indexer] = value instead\n",
      "\n",
      "See the caveats in the documentation: https://pandas.pydata.org/pandas-docs/stable/user_guide/indexing.html#returning-a-view-versus-a-copy\n",
      "  componentes['seasonal_prophet'] = 0\n",
      "  9%|▉         | 72/780 [19:07<3:21:27, 17.07s/it]18:59:21 - cmdstanpy - INFO - Chain [1] start processing\n",
      "18:59:22 - cmdstanpy - INFO - Chain [1] done processing\n",
      "C:\\Users\\waldo\\AppData\\Local\\Temp\\ipykernel_44800\\1165039906.py:39: SettingWithCopyWarning: \n",
      "A value is trying to be set on a copy of a slice from a DataFrame.\n",
      "Try using .loc[row_indexer,col_indexer] = value instead\n",
      "\n",
      "See the caveats in the documentation: https://pandas.pydata.org/pandas-docs/stable/user_guide/indexing.html#returning-a-view-versus-a-copy\n",
      "  componentes['seasonal_prophet'] = 0\n",
      "  9%|▉         | 73/780 [19:26<3:30:16, 17.84s/it]18:59:41 - cmdstanpy - INFO - Chain [1] start processing\n",
      "18:59:41 - cmdstanpy - INFO - Chain [1] done processing\n",
      "C:\\Users\\waldo\\AppData\\Local\\Temp\\ipykernel_44800\\1165039906.py:39: SettingWithCopyWarning: \n",
      "A value is trying to be set on a copy of a slice from a DataFrame.\n",
      "Try using .loc[row_indexer,col_indexer] = value instead\n",
      "\n",
      "See the caveats in the documentation: https://pandas.pydata.org/pandas-docs/stable/user_guide/indexing.html#returning-a-view-versus-a-copy\n",
      "  componentes['seasonal_prophet'] = 0\n",
      "  9%|▉         | 74/780 [19:45<3:32:11, 18.03s/it]19:00:00 - cmdstanpy - INFO - Chain [1] start processing\n",
      "19:00:00 - cmdstanpy - INFO - Chain [1] done processing\n",
      "C:\\Users\\waldo\\AppData\\Local\\Temp\\ipykernel_44800\\1165039906.py:39: SettingWithCopyWarning: \n",
      "A value is trying to be set on a copy of a slice from a DataFrame.\n",
      "Try using .loc[row_indexer,col_indexer] = value instead\n",
      "\n",
      "See the caveats in the documentation: https://pandas.pydata.org/pandas-docs/stable/user_guide/indexing.html#returning-a-view-versus-a-copy\n",
      "  componentes['seasonal_prophet'] = 0\n",
      " 10%|▉         | 75/780 [19:59<3:17:33, 16.81s/it]19:00:13 - cmdstanpy - INFO - Chain [1] start processing\n",
      "19:00:13 - cmdstanpy - INFO - Chain [1] done processing\n",
      "C:\\Users\\waldo\\AppData\\Local\\Temp\\ipykernel_44800\\1165039906.py:39: SettingWithCopyWarning: \n",
      "A value is trying to be set on a copy of a slice from a DataFrame.\n",
      "Try using .loc[row_indexer,col_indexer] = value instead\n",
      "\n",
      "See the caveats in the documentation: https://pandas.pydata.org/pandas-docs/stable/user_guide/indexing.html#returning-a-view-versus-a-copy\n",
      "  componentes['seasonal_prophet'] = 0\n",
      " 10%|▉         | 76/780 [20:09<2:54:05, 14.84s/it]19:00:23 - cmdstanpy - INFO - Chain [1] start processing\n",
      "19:00:23 - cmdstanpy - INFO - Chain [1] done processing\n",
      "C:\\Users\\waldo\\AppData\\Local\\Temp\\ipykernel_44800\\1165039906.py:39: SettingWithCopyWarning: \n",
      "A value is trying to be set on a copy of a slice from a DataFrame.\n",
      "Try using .loc[row_indexer,col_indexer] = value instead\n",
      "\n",
      "See the caveats in the documentation: https://pandas.pydata.org/pandas-docs/stable/user_guide/indexing.html#returning-a-view-versus-a-copy\n",
      "  componentes['seasonal_prophet'] = 0\n",
      " 10%|▉         | 77/780 [20:14<2:19:02, 11.87s/it]19:00:29 - cmdstanpy - INFO - Chain [1] start processing\n",
      "19:00:29 - cmdstanpy - INFO - Chain [1] done processing\n",
      "C:\\Users\\waldo\\AppData\\Local\\Temp\\ipykernel_44800\\1165039906.py:39: SettingWithCopyWarning: \n",
      "A value is trying to be set on a copy of a slice from a DataFrame.\n",
      "Try using .loc[row_indexer,col_indexer] = value instead\n",
      "\n",
      "See the caveats in the documentation: https://pandas.pydata.org/pandas-docs/stable/user_guide/indexing.html#returning-a-view-versus-a-copy\n",
      "  componentes['seasonal_prophet'] = 0\n",
      " 10%|█         | 78/780 [20:29<2:30:47, 12.89s/it]19:00:44 - cmdstanpy - INFO - Chain [1] start processing\n",
      "19:00:44 - cmdstanpy - INFO - Chain [1] done processing\n",
      "C:\\Users\\waldo\\AppData\\Local\\Temp\\ipykernel_44800\\1165039906.py:39: SettingWithCopyWarning: \n",
      "A value is trying to be set on a copy of a slice from a DataFrame.\n",
      "Try using .loc[row_indexer,col_indexer] = value instead\n",
      "\n",
      "See the caveats in the documentation: https://pandas.pydata.org/pandas-docs/stable/user_guide/indexing.html#returning-a-view-versus-a-copy\n",
      "  componentes['seasonal_prophet'] = 0\n",
      " 10%|█         | 79/780 [20:44<2:38:24, 13.56s/it]19:00:59 - cmdstanpy - INFO - Chain [1] start processing\n",
      "19:00:59 - cmdstanpy - INFO - Chain [1] done processing\n",
      "C:\\Users\\waldo\\AppData\\Local\\Temp\\ipykernel_44800\\1165039906.py:39: SettingWithCopyWarning: \n",
      "A value is trying to be set on a copy of a slice from a DataFrame.\n",
      "Try using .loc[row_indexer,col_indexer] = value instead\n",
      "\n",
      "See the caveats in the documentation: https://pandas.pydata.org/pandas-docs/stable/user_guide/indexing.html#returning-a-view-versus-a-copy\n",
      "  componentes['seasonal_prophet'] = 0\n",
      " 10%|█         | 80/780 [20:49<2:06:21, 10.83s/it]19:01:03 - cmdstanpy - INFO - Chain [1] start processing\n",
      "19:01:04 - cmdstanpy - INFO - Chain [1] done processing\n",
      "C:\\Users\\waldo\\AppData\\Local\\Temp\\ipykernel_44800\\1165039906.py:39: SettingWithCopyWarning: \n",
      "A value is trying to be set on a copy of a slice from a DataFrame.\n",
      "Try using .loc[row_indexer,col_indexer] = value instead\n",
      "\n",
      "See the caveats in the documentation: https://pandas.pydata.org/pandas-docs/stable/user_guide/indexing.html#returning-a-view-versus-a-copy\n",
      "  componentes['seasonal_prophet'] = 0\n",
      " 10%|█         | 81/780 [21:03<2:16:51, 11.75s/it]19:01:17 - cmdstanpy - INFO - Chain [1] start processing\n",
      "19:01:17 - cmdstanpy - INFO - Chain [1] done processing\n",
      "C:\\Users\\waldo\\AppData\\Local\\Temp\\ipykernel_44800\\1165039906.py:39: SettingWithCopyWarning: \n",
      "A value is trying to be set on a copy of a slice from a DataFrame.\n",
      "Try using .loc[row_indexer,col_indexer] = value instead\n",
      "\n",
      "See the caveats in the documentation: https://pandas.pydata.org/pandas-docs/stable/user_guide/indexing.html#returning-a-view-versus-a-copy\n",
      "  componentes['seasonal_prophet'] = 0\n",
      " 11%|█         | 82/780 [21:14<2:14:23, 11.55s/it]19:01:29 - cmdstanpy - INFO - Chain [1] start processing\n",
      "19:01:29 - cmdstanpy - INFO - Chain [1] done processing\n",
      "C:\\Users\\waldo\\AppData\\Local\\Temp\\ipykernel_44800\\1165039906.py:39: SettingWithCopyWarning: \n",
      "A value is trying to be set on a copy of a slice from a DataFrame.\n",
      "Try using .loc[row_indexer,col_indexer] = value instead\n",
      "\n",
      "See the caveats in the documentation: https://pandas.pydata.org/pandas-docs/stable/user_guide/indexing.html#returning-a-view-versus-a-copy\n",
      "  componentes['seasonal_prophet'] = 0\n",
      " 11%|█         | 83/780 [21:28<2:21:36, 12.19s/it]19:01:43 - cmdstanpy - INFO - Chain [1] start processing\n",
      "19:01:43 - cmdstanpy - INFO - Chain [1] done processing\n",
      "C:\\Users\\waldo\\AppData\\Local\\Temp\\ipykernel_44800\\1165039906.py:39: SettingWithCopyWarning: \n",
      "A value is trying to be set on a copy of a slice from a DataFrame.\n",
      "Try using .loc[row_indexer,col_indexer] = value instead\n",
      "\n",
      "See the caveats in the documentation: https://pandas.pydata.org/pandas-docs/stable/user_guide/indexing.html#returning-a-view-versus-a-copy\n",
      "  componentes['seasonal_prophet'] = 0\n",
      " 11%|█         | 84/780 [21:48<2:48:40, 14.54s/it]19:02:02 - cmdstanpy - INFO - Chain [1] start processing\n",
      "19:02:02 - cmdstanpy - INFO - Chain [1] done processing\n",
      "C:\\Users\\waldo\\AppData\\Local\\Temp\\ipykernel_44800\\1165039906.py:39: SettingWithCopyWarning: \n",
      "A value is trying to be set on a copy of a slice from a DataFrame.\n",
      "Try using .loc[row_indexer,col_indexer] = value instead\n",
      "\n",
      "See the caveats in the documentation: https://pandas.pydata.org/pandas-docs/stable/user_guide/indexing.html#returning-a-view-versus-a-copy\n",
      "  componentes['seasonal_prophet'] = 0\n",
      " 11%|█         | 85/780 [22:06<3:01:24, 15.66s/it]19:02:20 - cmdstanpy - INFO - Chain [1] start processing\n",
      "19:02:20 - cmdstanpy - INFO - Chain [1] done processing\n",
      "C:\\Users\\waldo\\AppData\\Local\\Temp\\ipykernel_44800\\1165039906.py:39: SettingWithCopyWarning: \n",
      "A value is trying to be set on a copy of a slice from a DataFrame.\n",
      "Try using .loc[row_indexer,col_indexer] = value instead\n",
      "\n",
      "See the caveats in the documentation: https://pandas.pydata.org/pandas-docs/stable/user_guide/indexing.html#returning-a-view-versus-a-copy\n",
      "  componentes['seasonal_prophet'] = 0\n",
      " 11%|█         | 86/780 [22:16<2:40:22, 13.86s/it]19:02:30 - cmdstanpy - INFO - Chain [1] start processing\n",
      "19:02:31 - cmdstanpy - INFO - Chain [1] done processing\n",
      "C:\\Users\\waldo\\AppData\\Local\\Temp\\ipykernel_44800\\1165039906.py:39: SettingWithCopyWarning: \n",
      "A value is trying to be set on a copy of a slice from a DataFrame.\n",
      "Try using .loc[row_indexer,col_indexer] = value instead\n",
      "\n",
      "See the caveats in the documentation: https://pandas.pydata.org/pandas-docs/stable/user_guide/indexing.html#returning-a-view-versus-a-copy\n",
      "  componentes['seasonal_prophet'] = 0\n",
      " 11%|█         | 87/780 [22:33<2:52:03, 14.90s/it]19:02:47 - cmdstanpy - INFO - Chain [1] start processing\n",
      "19:02:47 - cmdstanpy - INFO - Chain [1] done processing\n",
      "C:\\Users\\waldo\\AppData\\Local\\Temp\\ipykernel_44800\\1165039906.py:39: SettingWithCopyWarning: \n",
      "A value is trying to be set on a copy of a slice from a DataFrame.\n",
      "Try using .loc[row_indexer,col_indexer] = value instead\n",
      "\n",
      "See the caveats in the documentation: https://pandas.pydata.org/pandas-docs/stable/user_guide/indexing.html#returning-a-view-versus-a-copy\n",
      "  componentes['seasonal_prophet'] = 0\n",
      " 11%|█▏        | 88/780 [22:43<2:34:20, 13.38s/it]19:02:58 - cmdstanpy - INFO - Chain [1] start processing\n",
      "19:02:58 - cmdstanpy - INFO - Chain [1] done processing\n",
      "C:\\Users\\waldo\\AppData\\Local\\Temp\\ipykernel_44800\\1165039906.py:39: SettingWithCopyWarning: \n",
      "A value is trying to be set on a copy of a slice from a DataFrame.\n",
      "Try using .loc[row_indexer,col_indexer] = value instead\n",
      "\n",
      "See the caveats in the documentation: https://pandas.pydata.org/pandas-docs/stable/user_guide/indexing.html#returning-a-view-versus-a-copy\n",
      "  componentes['seasonal_prophet'] = 0\n",
      " 11%|█▏        | 89/780 [22:53<2:23:36, 12.47s/it]19:03:08 - cmdstanpy - INFO - Chain [1] start processing\n",
      "19:03:08 - cmdstanpy - INFO - Chain [1] done processing\n",
      "C:\\Users\\waldo\\AppData\\Local\\Temp\\ipykernel_44800\\1165039906.py:39: SettingWithCopyWarning: \n",
      "A value is trying to be set on a copy of a slice from a DataFrame.\n",
      "Try using .loc[row_indexer,col_indexer] = value instead\n",
      "\n",
      "See the caveats in the documentation: https://pandas.pydata.org/pandas-docs/stable/user_guide/indexing.html#returning-a-view-versus-a-copy\n",
      "  componentes['seasonal_prophet'] = 0\n",
      " 12%|█▏        | 90/780 [23:07<2:29:28, 13.00s/it]19:03:22 - cmdstanpy - INFO - Chain [1] start processing\n",
      "19:03:22 - cmdstanpy - INFO - Chain [1] done processing\n",
      "C:\\Users\\waldo\\AppData\\Local\\Temp\\ipykernel_44800\\1165039906.py:39: SettingWithCopyWarning: \n",
      "A value is trying to be set on a copy of a slice from a DataFrame.\n",
      "Try using .loc[row_indexer,col_indexer] = value instead\n",
      "\n",
      "See the caveats in the documentation: https://pandas.pydata.org/pandas-docs/stable/user_guide/indexing.html#returning-a-view-versus-a-copy\n",
      "  componentes['seasonal_prophet'] = 0\n",
      " 12%|█▏        | 91/780 [23:25<2:44:43, 14.34s/it]19:03:39 - cmdstanpy - INFO - Chain [1] start processing\n",
      "19:03:39 - cmdstanpy - INFO - Chain [1] done processing\n",
      "C:\\Users\\waldo\\AppData\\Local\\Temp\\ipykernel_44800\\1165039906.py:39: SettingWithCopyWarning: \n",
      "A value is trying to be set on a copy of a slice from a DataFrame.\n",
      "Try using .loc[row_indexer,col_indexer] = value instead\n",
      "\n",
      "See the caveats in the documentation: https://pandas.pydata.org/pandas-docs/stable/user_guide/indexing.html#returning-a-view-versus-a-copy\n",
      "  componentes['seasonal_prophet'] = 0\n",
      " 12%|█▏        | 92/780 [23:35<2:30:02, 13.08s/it]19:03:50 - cmdstanpy - INFO - Chain [1] start processing\n",
      "19:03:50 - cmdstanpy - INFO - Chain [1] done processing\n",
      "C:\\Users\\waldo\\AppData\\Local\\Temp\\ipykernel_44800\\1165039906.py:39: SettingWithCopyWarning: \n",
      "A value is trying to be set on a copy of a slice from a DataFrame.\n",
      "Try using .loc[row_indexer,col_indexer] = value instead\n",
      "\n",
      "See the caveats in the documentation: https://pandas.pydata.org/pandas-docs/stable/user_guide/indexing.html#returning-a-view-versus-a-copy\n",
      "  componentes['seasonal_prophet'] = 0\n",
      " 12%|█▏        | 93/780 [23:55<2:54:44, 15.26s/it]19:04:10 - cmdstanpy - INFO - Chain [1] start processing\n",
      "19:04:10 - cmdstanpy - INFO - Chain [1] done processing\n",
      "C:\\Users\\waldo\\AppData\\Local\\Temp\\ipykernel_44800\\1165039906.py:39: SettingWithCopyWarning: \n",
      "A value is trying to be set on a copy of a slice from a DataFrame.\n",
      "Try using .loc[row_indexer,col_indexer] = value instead\n",
      "\n",
      "See the caveats in the documentation: https://pandas.pydata.org/pandas-docs/stable/user_guide/indexing.html#returning-a-view-versus-a-copy\n",
      "  componentes['seasonal_prophet'] = 0\n",
      " 12%|█▏        | 94/780 [24:12<2:58:20, 15.60s/it]19:04:26 - cmdstanpy - INFO - Chain [1] start processing\n",
      "19:04:26 - cmdstanpy - INFO - Chain [1] done processing\n",
      "C:\\Users\\waldo\\AppData\\Local\\Temp\\ipykernel_44800\\1165039906.py:39: SettingWithCopyWarning: \n",
      "A value is trying to be set on a copy of a slice from a DataFrame.\n",
      "Try using .loc[row_indexer,col_indexer] = value instead\n",
      "\n",
      "See the caveats in the documentation: https://pandas.pydata.org/pandas-docs/stable/user_guide/indexing.html#returning-a-view-versus-a-copy\n",
      "  componentes['seasonal_prophet'] = 0\n",
      " 12%|█▏        | 95/780 [24:21<2:35:31, 13.62s/it]19:04:35 - cmdstanpy - INFO - Chain [1] start processing\n",
      "19:04:36 - cmdstanpy - INFO - Chain [1] done processing\n",
      "C:\\Users\\waldo\\AppData\\Local\\Temp\\ipykernel_44800\\1165039906.py:39: SettingWithCopyWarning: \n",
      "A value is trying to be set on a copy of a slice from a DataFrame.\n",
      "Try using .loc[row_indexer,col_indexer] = value instead\n",
      "\n",
      "See the caveats in the documentation: https://pandas.pydata.org/pandas-docs/stable/user_guide/indexing.html#returning-a-view-versus-a-copy\n",
      "  componentes['seasonal_prophet'] = 0\n",
      " 12%|█▏        | 96/780 [24:38<2:47:11, 14.67s/it]19:04:52 - cmdstanpy - INFO - Chain [1] start processing\n",
      "19:04:52 - cmdstanpy - INFO - Chain [1] done processing\n",
      "C:\\Users\\waldo\\AppData\\Local\\Temp\\ipykernel_44800\\1165039906.py:39: SettingWithCopyWarning: \n",
      "A value is trying to be set on a copy of a slice from a DataFrame.\n",
      "Try using .loc[row_indexer,col_indexer] = value instead\n",
      "\n",
      "See the caveats in the documentation: https://pandas.pydata.org/pandas-docs/stable/user_guide/indexing.html#returning-a-view-versus-a-copy\n",
      "  componentes['seasonal_prophet'] = 0\n",
      " 12%|█▏        | 97/780 [24:47<2:28:32, 13.05s/it]19:05:02 - cmdstanpy - INFO - Chain [1] start processing\n",
      "19:05:02 - cmdstanpy - INFO - Chain [1] done processing\n",
      "C:\\Users\\waldo\\AppData\\Local\\Temp\\ipykernel_44800\\1165039906.py:39: SettingWithCopyWarning: \n",
      "A value is trying to be set on a copy of a slice from a DataFrame.\n",
      "Try using .loc[row_indexer,col_indexer] = value instead\n",
      "\n",
      "See the caveats in the documentation: https://pandas.pydata.org/pandas-docs/stable/user_guide/indexing.html#returning-a-view-versus-a-copy\n",
      "  componentes['seasonal_prophet'] = 0\n",
      " 13%|█▎        | 98/780 [25:14<3:17:04, 17.34s/it]19:05:29 - cmdstanpy - INFO - Chain [1] start processing\n",
      "19:05:29 - cmdstanpy - INFO - Chain [1] done processing\n",
      "C:\\Users\\waldo\\AppData\\Local\\Temp\\ipykernel_44800\\1165039906.py:39: SettingWithCopyWarning: \n",
      "A value is trying to be set on a copy of a slice from a DataFrame.\n",
      "Try using .loc[row_indexer,col_indexer] = value instead\n",
      "\n",
      "See the caveats in the documentation: https://pandas.pydata.org/pandas-docs/stable/user_guide/indexing.html#returning-a-view-versus-a-copy\n",
      "  componentes['seasonal_prophet'] = 0\n",
      " 13%|█▎        | 99/780 [25:23<2:46:23, 14.66s/it]19:05:38 - cmdstanpy - INFO - Chain [1] start processing\n",
      "19:05:38 - cmdstanpy - INFO - Chain [1] done processing\n",
      "C:\\Users\\waldo\\AppData\\Local\\Temp\\ipykernel_44800\\1165039906.py:39: SettingWithCopyWarning: \n",
      "A value is trying to be set on a copy of a slice from a DataFrame.\n",
      "Try using .loc[row_indexer,col_indexer] = value instead\n",
      "\n",
      "See the caveats in the documentation: https://pandas.pydata.org/pandas-docs/stable/user_guide/indexing.html#returning-a-view-versus-a-copy\n",
      "  componentes['seasonal_prophet'] = 0\n",
      " 13%|█▎        | 100/780 [25:37<2:43:58, 14.47s/it]19:05:51 - cmdstanpy - INFO - Chain [1] start processing\n",
      "19:05:52 - cmdstanpy - INFO - Chain [1] done processing\n",
      "C:\\Users\\waldo\\AppData\\Local\\Temp\\ipykernel_44800\\1165039906.py:39: SettingWithCopyWarning: \n",
      "A value is trying to be set on a copy of a slice from a DataFrame.\n",
      "Try using .loc[row_indexer,col_indexer] = value instead\n",
      "\n",
      "See the caveats in the documentation: https://pandas.pydata.org/pandas-docs/stable/user_guide/indexing.html#returning-a-view-versus-a-copy\n",
      "  componentes['seasonal_prophet'] = 0\n",
      " 13%|█▎        | 101/780 [25:50<2:38:44, 14.03s/it]19:06:04 - cmdstanpy - INFO - Chain [1] start processing\n",
      "19:06:05 - cmdstanpy - INFO - Chain [1] done processing\n",
      "C:\\Users\\waldo\\AppData\\Local\\Temp\\ipykernel_44800\\1165039906.py:39: SettingWithCopyWarning: \n",
      "A value is trying to be set on a copy of a slice from a DataFrame.\n",
      "Try using .loc[row_indexer,col_indexer] = value instead\n",
      "\n",
      "See the caveats in the documentation: https://pandas.pydata.org/pandas-docs/stable/user_guide/indexing.html#returning-a-view-versus-a-copy\n",
      "  componentes['seasonal_prophet'] = 0\n",
      " 13%|█▎        | 102/780 [26:07<2:47:50, 14.85s/it]19:06:21 - cmdstanpy - INFO - Chain [1] start processing\n",
      "19:06:21 - cmdstanpy - INFO - Chain [1] done processing\n",
      "C:\\Users\\waldo\\AppData\\Local\\Temp\\ipykernel_44800\\1165039906.py:39: SettingWithCopyWarning: \n",
      "A value is trying to be set on a copy of a slice from a DataFrame.\n",
      "Try using .loc[row_indexer,col_indexer] = value instead\n",
      "\n",
      "See the caveats in the documentation: https://pandas.pydata.org/pandas-docs/stable/user_guide/indexing.html#returning-a-view-versus-a-copy\n",
      "  componentes['seasonal_prophet'] = 0\n",
      " 13%|█▎        | 103/780 [26:15<2:26:05, 12.95s/it]19:06:30 - cmdstanpy - INFO - Chain [1] start processing\n",
      "19:06:30 - cmdstanpy - INFO - Chain [1] done processing\n",
      "C:\\Users\\waldo\\AppData\\Local\\Temp\\ipykernel_44800\\1165039906.py:39: SettingWithCopyWarning: \n",
      "A value is trying to be set on a copy of a slice from a DataFrame.\n",
      "Try using .loc[row_indexer,col_indexer] = value instead\n",
      "\n",
      "See the caveats in the documentation: https://pandas.pydata.org/pandas-docs/stable/user_guide/indexing.html#returning-a-view-versus-a-copy\n",
      "  componentes['seasonal_prophet'] = 0\n",
      " 13%|█▎        | 104/780 [26:29<2:27:43, 13.11s/it]19:06:44 - cmdstanpy - INFO - Chain [1] start processing\n",
      "19:06:45 - cmdstanpy - INFO - Chain [1] done processing\n",
      "C:\\Users\\waldo\\AppData\\Local\\Temp\\ipykernel_44800\\1165039906.py:39: SettingWithCopyWarning: \n",
      "A value is trying to be set on a copy of a slice from a DataFrame.\n",
      "Try using .loc[row_indexer,col_indexer] = value instead\n",
      "\n",
      "See the caveats in the documentation: https://pandas.pydata.org/pandas-docs/stable/user_guide/indexing.html#returning-a-view-versus-a-copy\n",
      "  componentes['seasonal_prophet'] = 0\n",
      " 13%|█▎        | 105/780 [26:57<3:19:25, 17.73s/it]19:07:12 - cmdstanpy - INFO - Chain [1] start processing\n",
      "19:07:12 - cmdstanpy - INFO - Chain [1] done processing\n",
      "C:\\Users\\waldo\\AppData\\Local\\Temp\\ipykernel_44800\\1165039906.py:39: SettingWithCopyWarning: \n",
      "A value is trying to be set on a copy of a slice from a DataFrame.\n",
      "Try using .loc[row_indexer,col_indexer] = value instead\n",
      "\n",
      "See the caveats in the documentation: https://pandas.pydata.org/pandas-docs/stable/user_guide/indexing.html#returning-a-view-versus-a-copy\n",
      "  componentes['seasonal_prophet'] = 0\n",
      " 14%|█▎        | 106/780 [27:06<2:50:04, 15.14s/it]19:07:21 - cmdstanpy - INFO - Chain [1] start processing\n",
      "19:07:22 - cmdstanpy - INFO - Chain [1] done processing\n",
      "C:\\Users\\waldo\\AppData\\Local\\Temp\\ipykernel_44800\\1165039906.py:39: SettingWithCopyWarning: \n",
      "A value is trying to be set on a copy of a slice from a DataFrame.\n",
      "Try using .loc[row_indexer,col_indexer] = value instead\n",
      "\n",
      "See the caveats in the documentation: https://pandas.pydata.org/pandas-docs/stable/user_guide/indexing.html#returning-a-view-versus-a-copy\n",
      "  componentes['seasonal_prophet'] = 0\n",
      " 14%|█▎        | 107/780 [27:36<3:38:01, 19.44s/it]19:07:50 - cmdstanpy - INFO - Chain [1] start processing\n",
      "19:07:51 - cmdstanpy - INFO - Chain [1] done processing\n",
      "C:\\Users\\waldo\\AppData\\Local\\Temp\\ipykernel_44800\\1165039906.py:39: SettingWithCopyWarning: \n",
      "A value is trying to be set on a copy of a slice from a DataFrame.\n",
      "Try using .loc[row_indexer,col_indexer] = value instead\n",
      "\n",
      "See the caveats in the documentation: https://pandas.pydata.org/pandas-docs/stable/user_guide/indexing.html#returning-a-view-versus-a-copy\n",
      "  componentes['seasonal_prophet'] = 0\n",
      " 14%|█▍        | 108/780 [27:54<3:33:31, 19.06s/it]19:08:09 - cmdstanpy - INFO - Chain [1] start processing\n",
      "19:08:09 - cmdstanpy - INFO - Chain [1] done processing\n",
      "C:\\Users\\waldo\\AppData\\Local\\Temp\\ipykernel_44800\\1165039906.py:39: SettingWithCopyWarning: \n",
      "A value is trying to be set on a copy of a slice from a DataFrame.\n",
      "Try using .loc[row_indexer,col_indexer] = value instead\n",
      "\n",
      "See the caveats in the documentation: https://pandas.pydata.org/pandas-docs/stable/user_guide/indexing.html#returning-a-view-versus-a-copy\n",
      "  componentes['seasonal_prophet'] = 0\n",
      " 14%|█▍        | 109/780 [28:10<3:22:59, 18.15s/it]19:08:25 - cmdstanpy - INFO - Chain [1] start processing\n",
      "19:08:25 - cmdstanpy - INFO - Chain [1] done processing\n",
      "C:\\Users\\waldo\\AppData\\Local\\Temp\\ipykernel_44800\\1165039906.py:39: SettingWithCopyWarning: \n",
      "A value is trying to be set on a copy of a slice from a DataFrame.\n",
      "Try using .loc[row_indexer,col_indexer] = value instead\n",
      "\n",
      "See the caveats in the documentation: https://pandas.pydata.org/pandas-docs/stable/user_guide/indexing.html#returning-a-view-versus-a-copy\n",
      "  componentes['seasonal_prophet'] = 0\n",
      " 14%|█▍        | 110/780 [28:30<3:28:58, 18.71s/it]19:08:44 - cmdstanpy - INFO - Chain [1] start processing\n",
      "19:08:44 - cmdstanpy - INFO - Chain [1] done processing\n",
      "C:\\Users\\waldo\\AppData\\Local\\Temp\\ipykernel_44800\\1165039906.py:39: SettingWithCopyWarning: \n",
      "A value is trying to be set on a copy of a slice from a DataFrame.\n",
      "Try using .loc[row_indexer,col_indexer] = value instead\n",
      "\n",
      "See the caveats in the documentation: https://pandas.pydata.org/pandas-docs/stable/user_guide/indexing.html#returning-a-view-versus-a-copy\n",
      "  componentes['seasonal_prophet'] = 0\n",
      " 14%|█▍        | 111/780 [28:37<2:48:45, 15.14s/it]19:08:51 - cmdstanpy - INFO - Chain [1] start processing\n",
      "19:08:51 - cmdstanpy - INFO - Chain [1] done processing\n",
      "C:\\Users\\waldo\\AppData\\Local\\Temp\\ipykernel_44800\\1165039906.py:39: SettingWithCopyWarning: \n",
      "A value is trying to be set on a copy of a slice from a DataFrame.\n",
      "Try using .loc[row_indexer,col_indexer] = value instead\n",
      "\n",
      "See the caveats in the documentation: https://pandas.pydata.org/pandas-docs/stable/user_guide/indexing.html#returning-a-view-versus-a-copy\n",
      "  componentes['seasonal_prophet'] = 0\n",
      " 14%|█▍        | 112/780 [28:39<2:05:03, 11.23s/it]19:08:53 - cmdstanpy - INFO - Chain [1] start processing\n",
      "19:08:53 - cmdstanpy - INFO - Chain [1] done processing\n",
      "C:\\Users\\waldo\\AppData\\Local\\Temp\\ipykernel_44800\\1165039906.py:39: SettingWithCopyWarning: \n",
      "A value is trying to be set on a copy of a slice from a DataFrame.\n",
      "Try using .loc[row_indexer,col_indexer] = value instead\n",
      "\n",
      "See the caveats in the documentation: https://pandas.pydata.org/pandas-docs/stable/user_guide/indexing.html#returning-a-view-versus-a-copy\n",
      "  componentes['seasonal_prophet'] = 0\n",
      " 14%|█▍        | 113/780 [28:51<2:07:24, 11.46s/it]19:09:05 - cmdstanpy - INFO - Chain [1] start processing\n",
      "19:09:05 - cmdstanpy - INFO - Chain [1] done processing\n",
      "C:\\Users\\waldo\\AppData\\Local\\Temp\\ipykernel_44800\\1165039906.py:39: SettingWithCopyWarning: \n",
      "A value is trying to be set on a copy of a slice from a DataFrame.\n",
      "Try using .loc[row_indexer,col_indexer] = value instead\n",
      "\n",
      "See the caveats in the documentation: https://pandas.pydata.org/pandas-docs/stable/user_guide/indexing.html#returning-a-view-versus-a-copy\n",
      "  componentes['seasonal_prophet'] = 0\n",
      " 15%|█▍        | 114/780 [29:00<2:00:51, 10.89s/it]19:09:15 - cmdstanpy - INFO - Chain [1] start processing\n",
      "19:09:16 - cmdstanpy - INFO - Chain [1] done processing\n",
      "C:\\Users\\waldo\\AppData\\Local\\Temp\\ipykernel_44800\\1165039906.py:39: SettingWithCopyWarning: \n",
      "A value is trying to be set on a copy of a slice from a DataFrame.\n",
      "Try using .loc[row_indexer,col_indexer] = value instead\n",
      "\n",
      "See the caveats in the documentation: https://pandas.pydata.org/pandas-docs/stable/user_guide/indexing.html#returning-a-view-versus-a-copy\n",
      "  componentes['seasonal_prophet'] = 0\n",
      " 15%|█▍        | 115/780 [29:26<2:50:14, 15.36s/it]19:09:41 - cmdstanpy - INFO - Chain [1] start processing\n",
      "19:09:41 - cmdstanpy - INFO - Chain [1] done processing\n",
      "C:\\Users\\waldo\\AppData\\Local\\Temp\\ipykernel_44800\\1165039906.py:39: SettingWithCopyWarning: \n",
      "A value is trying to be set on a copy of a slice from a DataFrame.\n",
      "Try using .loc[row_indexer,col_indexer] = value instead\n",
      "\n",
      "See the caveats in the documentation: https://pandas.pydata.org/pandas-docs/stable/user_guide/indexing.html#returning-a-view-versus-a-copy\n",
      "  componentes['seasonal_prophet'] = 0\n",
      " 15%|█▍        | 116/780 [29:46<3:04:20, 16.66s/it]19:10:01 - cmdstanpy - INFO - Chain [1] start processing\n",
      "19:10:01 - cmdstanpy - INFO - Chain [1] done processing\n",
      "C:\\Users\\waldo\\AppData\\Local\\Temp\\ipykernel_44800\\1165039906.py:39: SettingWithCopyWarning: \n",
      "A value is trying to be set on a copy of a slice from a DataFrame.\n",
      "Try using .loc[row_indexer,col_indexer] = value instead\n",
      "\n",
      "See the caveats in the documentation: https://pandas.pydata.org/pandas-docs/stable/user_guide/indexing.html#returning-a-view-versus-a-copy\n",
      "  componentes['seasonal_prophet'] = 0\n",
      " 15%|█▌        | 117/780 [30:06<3:16:19, 17.77s/it]19:10:20 - cmdstanpy - INFO - Chain [1] start processing\n",
      "19:10:20 - cmdstanpy - INFO - Chain [1] done processing\n",
      "C:\\Users\\waldo\\AppData\\Local\\Temp\\ipykernel_44800\\1165039906.py:39: SettingWithCopyWarning: \n",
      "A value is trying to be set on a copy of a slice from a DataFrame.\n",
      "Try using .loc[row_indexer,col_indexer] = value instead\n",
      "\n",
      "See the caveats in the documentation: https://pandas.pydata.org/pandas-docs/stable/user_guide/indexing.html#returning-a-view-versus-a-copy\n",
      "  componentes['seasonal_prophet'] = 0\n",
      " 15%|█▌        | 118/780 [30:10<2:30:32, 13.64s/it]19:10:25 - cmdstanpy - INFO - Chain [1] start processing\n",
      "19:10:25 - cmdstanpy - INFO - Chain [1] done processing\n",
      "C:\\Users\\waldo\\AppData\\Local\\Temp\\ipykernel_44800\\1165039906.py:39: SettingWithCopyWarning: \n",
      "A value is trying to be set on a copy of a slice from a DataFrame.\n",
      "Try using .loc[row_indexer,col_indexer] = value instead\n",
      "\n",
      "See the caveats in the documentation: https://pandas.pydata.org/pandas-docs/stable/user_guide/indexing.html#returning-a-view-versus-a-copy\n",
      "  componentes['seasonal_prophet'] = 0\n",
      " 15%|█▌        | 119/780 [30:22<2:25:13, 13.18s/it]19:10:37 - cmdstanpy - INFO - Chain [1] start processing\n",
      "19:10:37 - cmdstanpy - INFO - Chain [1] done processing\n",
      "C:\\Users\\waldo\\AppData\\Local\\Temp\\ipykernel_44800\\1165039906.py:39: SettingWithCopyWarning: \n",
      "A value is trying to be set on a copy of a slice from a DataFrame.\n",
      "Try using .loc[row_indexer,col_indexer] = value instead\n",
      "\n",
      "See the caveats in the documentation: https://pandas.pydata.org/pandas-docs/stable/user_guide/indexing.html#returning-a-view-versus-a-copy\n",
      "  componentes['seasonal_prophet'] = 0\n",
      " 15%|█▌        | 120/780 [30:39<2:37:36, 14.33s/it]19:10:54 - cmdstanpy - INFO - Chain [1] start processing\n",
      "19:10:54 - cmdstanpy - INFO - Chain [1] done processing\n",
      "C:\\Users\\waldo\\AppData\\Local\\Temp\\ipykernel_44800\\1165039906.py:39: SettingWithCopyWarning: \n",
      "A value is trying to be set on a copy of a slice from a DataFrame.\n",
      "Try using .loc[row_indexer,col_indexer] = value instead\n",
      "\n",
      "See the caveats in the documentation: https://pandas.pydata.org/pandas-docs/stable/user_guide/indexing.html#returning-a-view-versus-a-copy\n",
      "  componentes['seasonal_prophet'] = 0\n",
      " 16%|█▌        | 121/780 [30:57<2:49:03, 15.39s/it]19:11:12 - cmdstanpy - INFO - Chain [1] start processing\n",
      "19:11:12 - cmdstanpy - INFO - Chain [1] done processing\n",
      "C:\\Users\\waldo\\AppData\\Local\\Temp\\ipykernel_44800\\1165039906.py:39: SettingWithCopyWarning: \n",
      "A value is trying to be set on a copy of a slice from a DataFrame.\n",
      "Try using .loc[row_indexer,col_indexer] = value instead\n",
      "\n",
      "See the caveats in the documentation: https://pandas.pydata.org/pandas-docs/stable/user_guide/indexing.html#returning-a-view-versus-a-copy\n",
      "  componentes['seasonal_prophet'] = 0\n",
      " 16%|█▌        | 122/780 [31:14<2:51:57, 15.68s/it]19:11:28 - cmdstanpy - INFO - Chain [1] start processing\n",
      "19:11:28 - cmdstanpy - INFO - Chain [1] done processing\n",
      "C:\\Users\\waldo\\AppData\\Local\\Temp\\ipykernel_44800\\1165039906.py:39: SettingWithCopyWarning: \n",
      "A value is trying to be set on a copy of a slice from a DataFrame.\n",
      "Try using .loc[row_indexer,col_indexer] = value instead\n",
      "\n",
      "See the caveats in the documentation: https://pandas.pydata.org/pandas-docs/stable/user_guide/indexing.html#returning-a-view-versus-a-copy\n",
      "  componentes['seasonal_prophet'] = 0\n",
      " 16%|█▌        | 123/780 [31:22<2:28:32, 13.57s/it]19:11:37 - cmdstanpy - INFO - Chain [1] start processing\n",
      "19:11:37 - cmdstanpy - INFO - Chain [1] done processing\n",
      "C:\\Users\\waldo\\AppData\\Local\\Temp\\ipykernel_44800\\1165039906.py:39: SettingWithCopyWarning: \n",
      "A value is trying to be set on a copy of a slice from a DataFrame.\n",
      "Try using .loc[row_indexer,col_indexer] = value instead\n",
      "\n",
      "See the caveats in the documentation: https://pandas.pydata.org/pandas-docs/stable/user_guide/indexing.html#returning-a-view-versus-a-copy\n",
      "  componentes['seasonal_prophet'] = 0\n",
      " 16%|█▌        | 124/780 [31:32<2:14:46, 12.33s/it]19:11:46 - cmdstanpy - INFO - Chain [1] start processing\n",
      "19:11:47 - cmdstanpy - INFO - Chain [1] done processing\n",
      "C:\\Users\\waldo\\AppData\\Local\\Temp\\ipykernel_44800\\1165039906.py:39: SettingWithCopyWarning: \n",
      "A value is trying to be set on a copy of a slice from a DataFrame.\n",
      "Try using .loc[row_indexer,col_indexer] = value instead\n",
      "\n",
      "See the caveats in the documentation: https://pandas.pydata.org/pandas-docs/stable/user_guide/indexing.html#returning-a-view-versus-a-copy\n",
      "  componentes['seasonal_prophet'] = 0\n",
      " 16%|█▌        | 125/780 [31:50<2:34:59, 14.20s/it]19:12:05 - cmdstanpy - INFO - Chain [1] start processing\n",
      "19:12:05 - cmdstanpy - INFO - Chain [1] done processing\n",
      "C:\\Users\\waldo\\AppData\\Local\\Temp\\ipykernel_44800\\1165039906.py:39: SettingWithCopyWarning: \n",
      "A value is trying to be set on a copy of a slice from a DataFrame.\n",
      "Try using .loc[row_indexer,col_indexer] = value instead\n",
      "\n",
      "See the caveats in the documentation: https://pandas.pydata.org/pandas-docs/stable/user_guide/indexing.html#returning-a-view-versus-a-copy\n",
      "  componentes['seasonal_prophet'] = 0\n",
      " 16%|█▌        | 126/780 [32:03<2:30:03, 13.77s/it]19:12:18 - cmdstanpy - INFO - Chain [1] start processing\n",
      "19:12:18 - cmdstanpy - INFO - Chain [1] done processing\n",
      "C:\\Users\\waldo\\AppData\\Local\\Temp\\ipykernel_44800\\1165039906.py:39: SettingWithCopyWarning: \n",
      "A value is trying to be set on a copy of a slice from a DataFrame.\n",
      "Try using .loc[row_indexer,col_indexer] = value instead\n",
      "\n",
      "See the caveats in the documentation: https://pandas.pydata.org/pandas-docs/stable/user_guide/indexing.html#returning-a-view-versus-a-copy\n",
      "  componentes['seasonal_prophet'] = 0\n",
      " 16%|█▋        | 127/780 [32:20<2:40:41, 14.77s/it]19:12:35 - cmdstanpy - INFO - Chain [1] start processing\n",
      "19:12:35 - cmdstanpy - INFO - Chain [1] done processing\n",
      "C:\\Users\\waldo\\AppData\\Local\\Temp\\ipykernel_44800\\1165039906.py:39: SettingWithCopyWarning: \n",
      "A value is trying to be set on a copy of a slice from a DataFrame.\n",
      "Try using .loc[row_indexer,col_indexer] = value instead\n",
      "\n",
      "See the caveats in the documentation: https://pandas.pydata.org/pandas-docs/stable/user_guide/indexing.html#returning-a-view-versus-a-copy\n",
      "  componentes['seasonal_prophet'] = 0\n",
      " 16%|█▋        | 128/780 [32:36<2:45:17, 15.21s/it]19:12:51 - cmdstanpy - INFO - Chain [1] start processing\n",
      "19:12:51 - cmdstanpy - INFO - Chain [1] done processing\n",
      "C:\\Users\\waldo\\AppData\\Local\\Temp\\ipykernel_44800\\1165039906.py:39: SettingWithCopyWarning: \n",
      "A value is trying to be set on a copy of a slice from a DataFrame.\n",
      "Try using .loc[row_indexer,col_indexer] = value instead\n",
      "\n",
      "See the caveats in the documentation: https://pandas.pydata.org/pandas-docs/stable/user_guide/indexing.html#returning-a-view-versus-a-copy\n",
      "  componentes['seasonal_prophet'] = 0\n",
      " 17%|█▋        | 129/780 [32:43<2:15:59, 12.53s/it]19:12:57 - cmdstanpy - INFO - Chain [1] start processing\n",
      "19:12:57 - cmdstanpy - INFO - Chain [1] done processing\n",
      "C:\\Users\\waldo\\AppData\\Local\\Temp\\ipykernel_44800\\1165039906.py:39: SettingWithCopyWarning: \n",
      "A value is trying to be set on a copy of a slice from a DataFrame.\n",
      "Try using .loc[row_indexer,col_indexer] = value instead\n",
      "\n",
      "See the caveats in the documentation: https://pandas.pydata.org/pandas-docs/stable/user_guide/indexing.html#returning-a-view-versus-a-copy\n",
      "  componentes['seasonal_prophet'] = 0\n",
      " 17%|█▋        | 130/780 [32:52<2:06:11, 11.65s/it]19:13:07 - cmdstanpy - INFO - Chain [1] start processing\n",
      "19:13:07 - cmdstanpy - INFO - Chain [1] done processing\n",
      "C:\\Users\\waldo\\AppData\\Local\\Temp\\ipykernel_44800\\1165039906.py:39: SettingWithCopyWarning: \n",
      "A value is trying to be set on a copy of a slice from a DataFrame.\n",
      "Try using .loc[row_indexer,col_indexer] = value instead\n",
      "\n",
      "See the caveats in the documentation: https://pandas.pydata.org/pandas-docs/stable/user_guide/indexing.html#returning-a-view-versus-a-copy\n",
      "  componentes['seasonal_prophet'] = 0\n",
      " 17%|█▋        | 131/780 [33:06<2:11:55, 12.20s/it]19:13:20 - cmdstanpy - INFO - Chain [1] start processing\n",
      "19:13:20 - cmdstanpy - INFO - Chain [1] done processing\n",
      "C:\\Users\\waldo\\AppData\\Local\\Temp\\ipykernel_44800\\1165039906.py:39: SettingWithCopyWarning: \n",
      "A value is trying to be set on a copy of a slice from a DataFrame.\n",
      "Try using .loc[row_indexer,col_indexer] = value instead\n",
      "\n",
      "See the caveats in the documentation: https://pandas.pydata.org/pandas-docs/stable/user_guide/indexing.html#returning-a-view-versus-a-copy\n",
      "  componentes['seasonal_prophet'] = 0\n",
      " 17%|█▋        | 132/780 [33:19<2:15:23, 12.54s/it]19:13:34 - cmdstanpy - INFO - Chain [1] start processing\n",
      "19:13:34 - cmdstanpy - INFO - Chain [1] done processing\n",
      "C:\\Users\\waldo\\AppData\\Local\\Temp\\ipykernel_44800\\1165039906.py:39: SettingWithCopyWarning: \n",
      "A value is trying to be set on a copy of a slice from a DataFrame.\n",
      "Try using .loc[row_indexer,col_indexer] = value instead\n",
      "\n",
      "See the caveats in the documentation: https://pandas.pydata.org/pandas-docs/stable/user_guide/indexing.html#returning-a-view-versus-a-copy\n",
      "  componentes['seasonal_prophet'] = 0\n",
      " 17%|█▋        | 133/780 [33:33<2:19:12, 12.91s/it]19:13:47 - cmdstanpy - INFO - Chain [1] start processing\n",
      "19:13:48 - cmdstanpy - INFO - Chain [1] done processing\n",
      "C:\\Users\\waldo\\AppData\\Local\\Temp\\ipykernel_44800\\1165039906.py:39: SettingWithCopyWarning: \n",
      "A value is trying to be set on a copy of a slice from a DataFrame.\n",
      "Try using .loc[row_indexer,col_indexer] = value instead\n",
      "\n",
      "See the caveats in the documentation: https://pandas.pydata.org/pandas-docs/stable/user_guide/indexing.html#returning-a-view-versus-a-copy\n",
      "  componentes['seasonal_prophet'] = 0\n",
      " 17%|█▋        | 134/780 [33:46<2:18:51, 12.90s/it]19:14:00 - cmdstanpy - INFO - Chain [1] start processing\n",
      "19:14:00 - cmdstanpy - INFO - Chain [1] done processing\n",
      "C:\\Users\\waldo\\AppData\\Local\\Temp\\ipykernel_44800\\1165039906.py:39: SettingWithCopyWarning: \n",
      "A value is trying to be set on a copy of a slice from a DataFrame.\n",
      "Try using .loc[row_indexer,col_indexer] = value instead\n",
      "\n",
      "See the caveats in the documentation: https://pandas.pydata.org/pandas-docs/stable/user_guide/indexing.html#returning-a-view-versus-a-copy\n",
      "  componentes['seasonal_prophet'] = 0\n",
      " 17%|█▋        | 135/780 [33:57<2:13:46, 12.44s/it]19:14:11 - cmdstanpy - INFO - Chain [1] start processing\n",
      "19:14:11 - cmdstanpy - INFO - Chain [1] done processing\n",
      "C:\\Users\\waldo\\AppData\\Local\\Temp\\ipykernel_44800\\1165039906.py:39: SettingWithCopyWarning: \n",
      "A value is trying to be set on a copy of a slice from a DataFrame.\n",
      "Try using .loc[row_indexer,col_indexer] = value instead\n",
      "\n",
      "See the caveats in the documentation: https://pandas.pydata.org/pandas-docs/stable/user_guide/indexing.html#returning-a-view-versus-a-copy\n",
      "  componentes['seasonal_prophet'] = 0\n",
      " 17%|█▋        | 136/780 [34:06<2:02:12, 11.39s/it]19:14:20 - cmdstanpy - INFO - Chain [1] start processing\n",
      "19:14:21 - cmdstanpy - INFO - Chain [1] done processing\n",
      "C:\\Users\\waldo\\AppData\\Local\\Temp\\ipykernel_44800\\1165039906.py:39: SettingWithCopyWarning: \n",
      "A value is trying to be set on a copy of a slice from a DataFrame.\n",
      "Try using .loc[row_indexer,col_indexer] = value instead\n",
      "\n",
      "See the caveats in the documentation: https://pandas.pydata.org/pandas-docs/stable/user_guide/indexing.html#returning-a-view-versus-a-copy\n",
      "  componentes['seasonal_prophet'] = 0\n",
      " 18%|█▊        | 137/780 [34:17<2:01:21, 11.32s/it]19:14:32 - cmdstanpy - INFO - Chain [1] start processing\n",
      "19:14:32 - cmdstanpy - INFO - Chain [1] done processing\n",
      "C:\\Users\\waldo\\AppData\\Local\\Temp\\ipykernel_44800\\1165039906.py:39: SettingWithCopyWarning: \n",
      "A value is trying to be set on a copy of a slice from a DataFrame.\n",
      "Try using .loc[row_indexer,col_indexer] = value instead\n",
      "\n",
      "See the caveats in the documentation: https://pandas.pydata.org/pandas-docs/stable/user_guide/indexing.html#returning-a-view-versus-a-copy\n",
      "  componentes['seasonal_prophet'] = 0\n",
      " 18%|█▊        | 138/780 [34:28<2:00:48, 11.29s/it]19:14:44 - cmdstanpy - INFO - Chain [1] start processing\n",
      "19:14:44 - cmdstanpy - INFO - Chain [1] done processing\n",
      "C:\\Users\\waldo\\AppData\\Local\\Temp\\ipykernel_44800\\1165039906.py:39: SettingWithCopyWarning: \n",
      "A value is trying to be set on a copy of a slice from a DataFrame.\n",
      "Try using .loc[row_indexer,col_indexer] = value instead\n",
      "\n",
      "See the caveats in the documentation: https://pandas.pydata.org/pandas-docs/stable/user_guide/indexing.html#returning-a-view-versus-a-copy\n",
      "  componentes['seasonal_prophet'] = 0\n",
      " 18%|█▊        | 139/780 [34:42<2:06:49, 11.87s/it]19:14:56 - cmdstanpy - INFO - Chain [1] start processing\n",
      "19:14:56 - cmdstanpy - INFO - Chain [1] done processing\n",
      "C:\\Users\\waldo\\AppData\\Local\\Temp\\ipykernel_44800\\1165039906.py:39: SettingWithCopyWarning: \n",
      "A value is trying to be set on a copy of a slice from a DataFrame.\n",
      "Try using .loc[row_indexer,col_indexer] = value instead\n",
      "\n",
      "See the caveats in the documentation: https://pandas.pydata.org/pandas-docs/stable/user_guide/indexing.html#returning-a-view-versus-a-copy\n",
      "  componentes['seasonal_prophet'] = 0\n",
      " 18%|█▊        | 140/780 [34:45<1:39:01,  9.28s/it]19:14:59 - cmdstanpy - INFO - Chain [1] start processing\n",
      "19:15:00 - cmdstanpy - INFO - Chain [1] done processing\n",
      "C:\\Users\\waldo\\AppData\\Local\\Temp\\ipykernel_44800\\1165039906.py:39: SettingWithCopyWarning: \n",
      "A value is trying to be set on a copy of a slice from a DataFrame.\n",
      "Try using .loc[row_indexer,col_indexer] = value instead\n",
      "\n",
      "See the caveats in the documentation: https://pandas.pydata.org/pandas-docs/stable/user_guide/indexing.html#returning-a-view-versus-a-copy\n",
      "  componentes['seasonal_prophet'] = 0\n",
      " 18%|█▊        | 141/780 [35:01<2:01:42, 11.43s/it]19:15:16 - cmdstanpy - INFO - Chain [1] start processing\n",
      "19:15:16 - cmdstanpy - INFO - Chain [1] done processing\n",
      "C:\\Users\\waldo\\AppData\\Local\\Temp\\ipykernel_44800\\1165039906.py:39: SettingWithCopyWarning: \n",
      "A value is trying to be set on a copy of a slice from a DataFrame.\n",
      "Try using .loc[row_indexer,col_indexer] = value instead\n",
      "\n",
      "See the caveats in the documentation: https://pandas.pydata.org/pandas-docs/stable/user_guide/indexing.html#returning-a-view-versus-a-copy\n",
      "  componentes['seasonal_prophet'] = 0\n",
      " 18%|█▊        | 142/780 [35:13<2:03:04, 11.57s/it]19:15:28 - cmdstanpy - INFO - Chain [1] start processing\n",
      "19:15:28 - cmdstanpy - INFO - Chain [1] done processing\n",
      "C:\\Users\\waldo\\AppData\\Local\\Temp\\ipykernel_44800\\1165039906.py:39: SettingWithCopyWarning: \n",
      "A value is trying to be set on a copy of a slice from a DataFrame.\n",
      "Try using .loc[row_indexer,col_indexer] = value instead\n",
      "\n",
      "See the caveats in the documentation: https://pandas.pydata.org/pandas-docs/stable/user_guide/indexing.html#returning-a-view-versus-a-copy\n",
      "  componentes['seasonal_prophet'] = 0\n",
      " 18%|█▊        | 143/780 [35:24<2:01:05, 11.41s/it]19:15:38 - cmdstanpy - INFO - Chain [1] start processing\n",
      "19:15:39 - cmdstanpy - INFO - Chain [1] done processing\n",
      "C:\\Users\\waldo\\AppData\\Local\\Temp\\ipykernel_44800\\1165039906.py:39: SettingWithCopyWarning: \n",
      "A value is trying to be set on a copy of a slice from a DataFrame.\n",
      "Try using .loc[row_indexer,col_indexer] = value instead\n",
      "\n",
      "See the caveats in the documentation: https://pandas.pydata.org/pandas-docs/stable/user_guide/indexing.html#returning-a-view-versus-a-copy\n",
      "  componentes['seasonal_prophet'] = 0\n",
      " 18%|█▊        | 144/780 [35:33<1:54:07, 10.77s/it]19:15:47 - cmdstanpy - INFO - Chain [1] start processing\n",
      "19:15:48 - cmdstanpy - INFO - Chain [1] done processing\n",
      "C:\\Users\\waldo\\AppData\\Local\\Temp\\ipykernel_44800\\1165039906.py:39: SettingWithCopyWarning: \n",
      "A value is trying to be set on a copy of a slice from a DataFrame.\n",
      "Try using .loc[row_indexer,col_indexer] = value instead\n",
      "\n",
      "See the caveats in the documentation: https://pandas.pydata.org/pandas-docs/stable/user_guide/indexing.html#returning-a-view-versus-a-copy\n",
      "  componentes['seasonal_prophet'] = 0\n",
      " 19%|█▊        | 145/780 [35:37<1:30:01,  8.51s/it]19:15:51 - cmdstanpy - INFO - Chain [1] start processing\n",
      "19:15:51 - cmdstanpy - INFO - Chain [1] done processing\n",
      "C:\\Users\\waldo\\AppData\\Local\\Temp\\ipykernel_44800\\1165039906.py:39: SettingWithCopyWarning: \n",
      "A value is trying to be set on a copy of a slice from a DataFrame.\n",
      "Try using .loc[row_indexer,col_indexer] = value instead\n",
      "\n",
      "See the caveats in the documentation: https://pandas.pydata.org/pandas-docs/stable/user_guide/indexing.html#returning-a-view-versus-a-copy\n",
      "  componentes['seasonal_prophet'] = 0\n",
      " 19%|█▊        | 146/780 [35:44<1:25:09,  8.06s/it]19:15:58 - cmdstanpy - INFO - Chain [1] start processing\n",
      "19:15:59 - cmdstanpy - INFO - Chain [1] done processing\n",
      "C:\\Users\\waldo\\AppData\\Local\\Temp\\ipykernel_44800\\1165039906.py:39: SettingWithCopyWarning: \n",
      "A value is trying to be set on a copy of a slice from a DataFrame.\n",
      "Try using .loc[row_indexer,col_indexer] = value instead\n",
      "\n",
      "See the caveats in the documentation: https://pandas.pydata.org/pandas-docs/stable/user_guide/indexing.html#returning-a-view-versus-a-copy\n",
      "  componentes['seasonal_prophet'] = 0\n",
      " 19%|█▉        | 147/780 [36:07<2:14:40, 12.76s/it]19:16:22 - cmdstanpy - INFO - Chain [1] start processing\n",
      "19:16:23 - cmdstanpy - INFO - Chain [1] done processing\n",
      "C:\\Users\\waldo\\AppData\\Local\\Temp\\ipykernel_44800\\1165039906.py:39: SettingWithCopyWarning: \n",
      "A value is trying to be set on a copy of a slice from a DataFrame.\n",
      "Try using .loc[row_indexer,col_indexer] = value instead\n",
      "\n",
      "See the caveats in the documentation: https://pandas.pydata.org/pandas-docs/stable/user_guide/indexing.html#returning-a-view-versus-a-copy\n",
      "  componentes['seasonal_prophet'] = 0\n",
      " 19%|█▉        | 148/780 [36:27<2:37:09, 14.92s/it]19:16:42 - cmdstanpy - INFO - Chain [1] start processing\n",
      "19:16:42 - cmdstanpy - INFO - Chain [1] done processing\n",
      "C:\\Users\\waldo\\AppData\\Local\\Temp\\ipykernel_44800\\1165039906.py:39: SettingWithCopyWarning: \n",
      "A value is trying to be set on a copy of a slice from a DataFrame.\n",
      "Try using .loc[row_indexer,col_indexer] = value instead\n",
      "\n",
      "See the caveats in the documentation: https://pandas.pydata.org/pandas-docs/stable/user_guide/indexing.html#returning-a-view-versus-a-copy\n",
      "  componentes['seasonal_prophet'] = 0\n",
      " 19%|█▉        | 149/780 [36:38<2:23:22, 13.63s/it]19:16:53 - cmdstanpy - INFO - Chain [1] start processing\n",
      "19:16:53 - cmdstanpy - INFO - Chain [1] done processing\n",
      "C:\\Users\\waldo\\AppData\\Local\\Temp\\ipykernel_44800\\1165039906.py:39: SettingWithCopyWarning: \n",
      "A value is trying to be set on a copy of a slice from a DataFrame.\n",
      "Try using .loc[row_indexer,col_indexer] = value instead\n",
      "\n",
      "See the caveats in the documentation: https://pandas.pydata.org/pandas-docs/stable/user_guide/indexing.html#returning-a-view-versus-a-copy\n",
      "  componentes['seasonal_prophet'] = 0\n",
      " 19%|█▉        | 150/780 [36:54<2:30:23, 14.32s/it]19:17:09 - cmdstanpy - INFO - Chain [1] start processing\n",
      "19:17:09 - cmdstanpy - INFO - Chain [1] done processing\n",
      "C:\\Users\\waldo\\AppData\\Local\\Temp\\ipykernel_44800\\1165039906.py:39: SettingWithCopyWarning: \n",
      "A value is trying to be set on a copy of a slice from a DataFrame.\n",
      "Try using .loc[row_indexer,col_indexer] = value instead\n",
      "\n",
      "See the caveats in the documentation: https://pandas.pydata.org/pandas-docs/stable/user_guide/indexing.html#returning-a-view-versus-a-copy\n",
      "  componentes['seasonal_prophet'] = 0\n",
      " 19%|█▉        | 151/780 [37:13<2:46:04, 15.84s/it]19:17:28 - cmdstanpy - INFO - Chain [1] start processing\n",
      "19:17:29 - cmdstanpy - INFO - Chain [1] done processing\n",
      "C:\\Users\\waldo\\AppData\\Local\\Temp\\ipykernel_44800\\1165039906.py:39: SettingWithCopyWarning: \n",
      "A value is trying to be set on a copy of a slice from a DataFrame.\n",
      "Try using .loc[row_indexer,col_indexer] = value instead\n",
      "\n",
      "See the caveats in the documentation: https://pandas.pydata.org/pandas-docs/stable/user_guide/indexing.html#returning-a-view-versus-a-copy\n",
      "  componentes['seasonal_prophet'] = 0\n",
      " 19%|█▉        | 152/780 [37:37<3:11:19, 18.28s/it]19:17:52 - cmdstanpy - INFO - Chain [1] start processing\n",
      "19:17:52 - cmdstanpy - INFO - Chain [1] done processing\n",
      "C:\\Users\\waldo\\AppData\\Local\\Temp\\ipykernel_44800\\1165039906.py:39: SettingWithCopyWarning: \n",
      "A value is trying to be set on a copy of a slice from a DataFrame.\n",
      "Try using .loc[row_indexer,col_indexer] = value instead\n",
      "\n",
      "See the caveats in the documentation: https://pandas.pydata.org/pandas-docs/stable/user_guide/indexing.html#returning-a-view-versus-a-copy\n",
      "  componentes['seasonal_prophet'] = 0\n",
      " 20%|█▉        | 153/780 [37:46<2:40:42, 15.38s/it]19:18:01 - cmdstanpy - INFO - Chain [1] start processing\n",
      "19:18:01 - cmdstanpy - INFO - Chain [1] done processing\n",
      "C:\\Users\\waldo\\AppData\\Local\\Temp\\ipykernel_44800\\1165039906.py:39: SettingWithCopyWarning: \n",
      "A value is trying to be set on a copy of a slice from a DataFrame.\n",
      "Try using .loc[row_indexer,col_indexer] = value instead\n",
      "\n",
      "See the caveats in the documentation: https://pandas.pydata.org/pandas-docs/stable/user_guide/indexing.html#returning-a-view-versus-a-copy\n",
      "  componentes['seasonal_prophet'] = 0\n",
      " 20%|█▉        | 154/780 [38:06<2:55:05, 16.78s/it]19:18:21 - cmdstanpy - INFO - Chain [1] start processing\n",
      "19:18:22 - cmdstanpy - INFO - Chain [1] done processing\n",
      "C:\\Users\\waldo\\AppData\\Local\\Temp\\ipykernel_44800\\1165039906.py:39: SettingWithCopyWarning: \n",
      "A value is trying to be set on a copy of a slice from a DataFrame.\n",
      "Try using .loc[row_indexer,col_indexer] = value instead\n",
      "\n",
      "See the caveats in the documentation: https://pandas.pydata.org/pandas-docs/stable/user_guide/indexing.html#returning-a-view-versus-a-copy\n",
      "  componentes['seasonal_prophet'] = 0\n",
      " 20%|█▉        | 155/780 [38:30<3:17:29, 18.96s/it]19:18:45 - cmdstanpy - INFO - Chain [1] start processing\n",
      "19:18:45 - cmdstanpy - INFO - Chain [1] done processing\n",
      "C:\\Users\\waldo\\AppData\\Local\\Temp\\ipykernel_44800\\1165039906.py:39: SettingWithCopyWarning: \n",
      "A value is trying to be set on a copy of a slice from a DataFrame.\n",
      "Try using .loc[row_indexer,col_indexer] = value instead\n",
      "\n",
      "See the caveats in the documentation: https://pandas.pydata.org/pandas-docs/stable/user_guide/indexing.html#returning-a-view-versus-a-copy\n",
      "  componentes['seasonal_prophet'] = 0\n",
      " 20%|██        | 156/780 [38:53<3:31:16, 20.31s/it]19:19:08 - cmdstanpy - INFO - Chain [1] start processing\n",
      "19:19:08 - cmdstanpy - INFO - Chain [1] done processing\n",
      "C:\\Users\\waldo\\AppData\\Local\\Temp\\ipykernel_44800\\1165039906.py:39: SettingWithCopyWarning: \n",
      "A value is trying to be set on a copy of a slice from a DataFrame.\n",
      "Try using .loc[row_indexer,col_indexer] = value instead\n",
      "\n",
      "See the caveats in the documentation: https://pandas.pydata.org/pandas-docs/stable/user_guide/indexing.html#returning-a-view-versus-a-copy\n",
      "  componentes['seasonal_prophet'] = 0\n",
      " 20%|██        | 157/780 [39:09<3:17:07, 18.98s/it]19:19:24 - cmdstanpy - INFO - Chain [1] start processing\n",
      "19:19:24 - cmdstanpy - INFO - Chain [1] done processing\n",
      "C:\\Users\\waldo\\AppData\\Local\\Temp\\ipykernel_44800\\1165039906.py:39: SettingWithCopyWarning: \n",
      "A value is trying to be set on a copy of a slice from a DataFrame.\n",
      "Try using .loc[row_indexer,col_indexer] = value instead\n",
      "\n",
      "See the caveats in the documentation: https://pandas.pydata.org/pandas-docs/stable/user_guide/indexing.html#returning-a-view-versus-a-copy\n",
      "  componentes['seasonal_prophet'] = 0\n",
      " 20%|██        | 158/780 [39:16<2:38:50, 15.32s/it]19:19:31 - cmdstanpy - INFO - Chain [1] start processing\n",
      "19:19:31 - cmdstanpy - INFO - Chain [1] done processing\n",
      "C:\\Users\\waldo\\AppData\\Local\\Temp\\ipykernel_44800\\1165039906.py:39: SettingWithCopyWarning: \n",
      "A value is trying to be set on a copy of a slice from a DataFrame.\n",
      "Try using .loc[row_indexer,col_indexer] = value instead\n",
      "\n",
      "See the caveats in the documentation: https://pandas.pydata.org/pandas-docs/stable/user_guide/indexing.html#returning-a-view-versus-a-copy\n",
      "  componentes['seasonal_prophet'] = 0\n",
      " 20%|██        | 159/780 [39:35<2:49:54, 16.42s/it]19:19:49 - cmdstanpy - INFO - Chain [1] start processing\n",
      "19:19:50 - cmdstanpy - INFO - Chain [1] done processing\n",
      "C:\\Users\\waldo\\AppData\\Local\\Temp\\ipykernel_44800\\1165039906.py:39: SettingWithCopyWarning: \n",
      "A value is trying to be set on a copy of a slice from a DataFrame.\n",
      "Try using .loc[row_indexer,col_indexer] = value instead\n",
      "\n",
      "See the caveats in the documentation: https://pandas.pydata.org/pandas-docs/stable/user_guide/indexing.html#returning-a-view-versus-a-copy\n",
      "  componentes['seasonal_prophet'] = 0\n",
      " 21%|██        | 160/780 [39:44<2:26:08, 14.14s/it]19:19:58 - cmdstanpy - INFO - Chain [1] start processing\n",
      "19:19:58 - cmdstanpy - INFO - Chain [1] done processing\n",
      "C:\\Users\\waldo\\AppData\\Local\\Temp\\ipykernel_44800\\1165039906.py:39: SettingWithCopyWarning: \n",
      "A value is trying to be set on a copy of a slice from a DataFrame.\n",
      "Try using .loc[row_indexer,col_indexer] = value instead\n",
      "\n",
      "See the caveats in the documentation: https://pandas.pydata.org/pandas-docs/stable/user_guide/indexing.html#returning-a-view-versus-a-copy\n",
      "  componentes['seasonal_prophet'] = 0\n",
      " 21%|██        | 161/780 [39:56<2:18:53, 13.46s/it]19:20:10 - cmdstanpy - INFO - Chain [1] start processing\n",
      "19:20:11 - cmdstanpy - INFO - Chain [1] done processing\n",
      "C:\\Users\\waldo\\AppData\\Local\\Temp\\ipykernel_44800\\1165039906.py:39: SettingWithCopyWarning: \n",
      "A value is trying to be set on a copy of a slice from a DataFrame.\n",
      "Try using .loc[row_indexer,col_indexer] = value instead\n",
      "\n",
      "See the caveats in the documentation: https://pandas.pydata.org/pandas-docs/stable/user_guide/indexing.html#returning-a-view-versus-a-copy\n",
      "  componentes['seasonal_prophet'] = 0\n",
      " 21%|██        | 162/780 [40:06<2:09:09, 12.54s/it]19:20:21 - cmdstanpy - INFO - Chain [1] start processing\n",
      "19:20:21 - cmdstanpy - INFO - Chain [1] done processing\n",
      "C:\\Users\\waldo\\AppData\\Local\\Temp\\ipykernel_44800\\1165039906.py:39: SettingWithCopyWarning: \n",
      "A value is trying to be set on a copy of a slice from a DataFrame.\n",
      "Try using .loc[row_indexer,col_indexer] = value instead\n",
      "\n",
      "See the caveats in the documentation: https://pandas.pydata.org/pandas-docs/stable/user_guide/indexing.html#returning-a-view-versus-a-copy\n",
      "  componentes['seasonal_prophet'] = 0\n",
      " 21%|██        | 163/780 [40:16<2:00:15, 11.69s/it]19:20:30 - cmdstanpy - INFO - Chain [1] start processing\n",
      "19:20:30 - cmdstanpy - INFO - Chain [1] done processing\n",
      "C:\\Users\\waldo\\AppData\\Local\\Temp\\ipykernel_44800\\1165039906.py:39: SettingWithCopyWarning: \n",
      "A value is trying to be set on a copy of a slice from a DataFrame.\n",
      "Try using .loc[row_indexer,col_indexer] = value instead\n",
      "\n",
      "See the caveats in the documentation: https://pandas.pydata.org/pandas-docs/stable/user_guide/indexing.html#returning-a-view-versus-a-copy\n",
      "  componentes['seasonal_prophet'] = 0\n",
      " 21%|██        | 164/780 [40:24<1:50:08, 10.73s/it]19:20:39 - cmdstanpy - INFO - Chain [1] start processing\n",
      "19:20:39 - cmdstanpy - INFO - Chain [1] done processing\n",
      "C:\\Users\\waldo\\AppData\\Local\\Temp\\ipykernel_44800\\1165039906.py:39: SettingWithCopyWarning: \n",
      "A value is trying to be set on a copy of a slice from a DataFrame.\n",
      "Try using .loc[row_indexer,col_indexer] = value instead\n",
      "\n",
      "See the caveats in the documentation: https://pandas.pydata.org/pandas-docs/stable/user_guide/indexing.html#returning-a-view-versus-a-copy\n",
      "  componentes['seasonal_prophet'] = 0\n",
      " 21%|██        | 165/780 [40:32<1:38:54,  9.65s/it]19:20:46 - cmdstanpy - INFO - Chain [1] start processing\n",
      "19:20:46 - cmdstanpy - INFO - Chain [1] done processing\n",
      "C:\\Users\\waldo\\AppData\\Local\\Temp\\ipykernel_44800\\1165039906.py:39: SettingWithCopyWarning: \n",
      "A value is trying to be set on a copy of a slice from a DataFrame.\n",
      "Try using .loc[row_indexer,col_indexer] = value instead\n",
      "\n",
      "See the caveats in the documentation: https://pandas.pydata.org/pandas-docs/stable/user_guide/indexing.html#returning-a-view-versus-a-copy\n",
      "  componentes['seasonal_prophet'] = 0\n",
      " 21%|██▏       | 166/780 [40:34<1:17:23,  7.56s/it]19:20:49 - cmdstanpy - INFO - Chain [1] start processing\n",
      "19:20:49 - cmdstanpy - INFO - Chain [1] done processing\n",
      "C:\\Users\\waldo\\AppData\\Local\\Temp\\ipykernel_44800\\1165039906.py:39: SettingWithCopyWarning: \n",
      "A value is trying to be set on a copy of a slice from a DataFrame.\n",
      "Try using .loc[row_indexer,col_indexer] = value instead\n",
      "\n",
      "See the caveats in the documentation: https://pandas.pydata.org/pandas-docs/stable/user_guide/indexing.html#returning-a-view-versus-a-copy\n",
      "  componentes['seasonal_prophet'] = 0\n",
      " 21%|██▏       | 167/780 [40:48<1:36:16,  9.42s/it]19:21:02 - cmdstanpy - INFO - Chain [1] start processing\n",
      "19:21:02 - cmdstanpy - INFO - Chain [1] done processing\n",
      "C:\\Users\\waldo\\AppData\\Local\\Temp\\ipykernel_44800\\1165039906.py:39: SettingWithCopyWarning: \n",
      "A value is trying to be set on a copy of a slice from a DataFrame.\n",
      "Try using .loc[row_indexer,col_indexer] = value instead\n",
      "\n",
      "See the caveats in the documentation: https://pandas.pydata.org/pandas-docs/stable/user_guide/indexing.html#returning-a-view-versus-a-copy\n",
      "  componentes['seasonal_prophet'] = 0\n",
      " 22%|██▏       | 168/780 [40:55<1:28:47,  8.71s/it]19:21:09 - cmdstanpy - INFO - Chain [1] start processing\n",
      "19:21:09 - cmdstanpy - INFO - Chain [1] done processing\n",
      "C:\\Users\\waldo\\AppData\\Local\\Temp\\ipykernel_44800\\1165039906.py:39: SettingWithCopyWarning: \n",
      "A value is trying to be set on a copy of a slice from a DataFrame.\n",
      "Try using .loc[row_indexer,col_indexer] = value instead\n",
      "\n",
      "See the caveats in the documentation: https://pandas.pydata.org/pandas-docs/stable/user_guide/indexing.html#returning-a-view-versus-a-copy\n",
      "  componentes['seasonal_prophet'] = 0\n",
      " 22%|██▏       | 169/780 [41:03<1:25:48,  8.43s/it]19:21:17 - cmdstanpy - INFO - Chain [1] start processing\n",
      "19:21:17 - cmdstanpy - INFO - Chain [1] done processing\n",
      "C:\\Users\\waldo\\AppData\\Local\\Temp\\ipykernel_44800\\1165039906.py:39: SettingWithCopyWarning: \n",
      "A value is trying to be set on a copy of a slice from a DataFrame.\n",
      "Try using .loc[row_indexer,col_indexer] = value instead\n",
      "\n",
      "See the caveats in the documentation: https://pandas.pydata.org/pandas-docs/stable/user_guide/indexing.html#returning-a-view-versus-a-copy\n",
      "  componentes['seasonal_prophet'] = 0\n",
      " 22%|██▏       | 170/780 [41:13<1:31:11,  8.97s/it]19:21:27 - cmdstanpy - INFO - Chain [1] start processing\n",
      "19:21:28 - cmdstanpy - INFO - Chain [1] done processing\n",
      "C:\\Users\\waldo\\AppData\\Local\\Temp\\ipykernel_44800\\1165039906.py:39: SettingWithCopyWarning: \n",
      "A value is trying to be set on a copy of a slice from a DataFrame.\n",
      "Try using .loc[row_indexer,col_indexer] = value instead\n",
      "\n",
      "See the caveats in the documentation: https://pandas.pydata.org/pandas-docs/stable/user_guide/indexing.html#returning-a-view-versus-a-copy\n",
      "  componentes['seasonal_prophet'] = 0\n",
      " 22%|██▏       | 171/780 [41:26<1:43:45, 10.22s/it]19:21:40 - cmdstanpy - INFO - Chain [1] start processing\n",
      "19:21:40 - cmdstanpy - INFO - Chain [1] done processing\n",
      "C:\\Users\\waldo\\AppData\\Local\\Temp\\ipykernel_44800\\1165039906.py:39: SettingWithCopyWarning: \n",
      "A value is trying to be set on a copy of a slice from a DataFrame.\n",
      "Try using .loc[row_indexer,col_indexer] = value instead\n",
      "\n",
      "See the caveats in the documentation: https://pandas.pydata.org/pandas-docs/stable/user_guide/indexing.html#returning-a-view-versus-a-copy\n",
      "  componentes['seasonal_prophet'] = 0\n",
      " 22%|██▏       | 172/780 [41:28<1:18:51,  7.78s/it]19:21:43 - cmdstanpy - INFO - Chain [1] start processing\n",
      "19:21:43 - cmdstanpy - INFO - Chain [1] done processing\n",
      "C:\\Users\\waldo\\AppData\\Local\\Temp\\ipykernel_44800\\1165039906.py:39: SettingWithCopyWarning: \n",
      "A value is trying to be set on a copy of a slice from a DataFrame.\n",
      "Try using .loc[row_indexer,col_indexer] = value instead\n",
      "\n",
      "See the caveats in the documentation: https://pandas.pydata.org/pandas-docs/stable/user_guide/indexing.html#returning-a-view-versus-a-copy\n",
      "  componentes['seasonal_prophet'] = 0\n",
      " 22%|██▏       | 173/780 [41:43<1:38:25,  9.73s/it]19:21:57 - cmdstanpy - INFO - Chain [1] start processing\n",
      "19:21:58 - cmdstanpy - INFO - Chain [1] done processing\n",
      "C:\\Users\\waldo\\AppData\\Local\\Temp\\ipykernel_44800\\1165039906.py:39: SettingWithCopyWarning: \n",
      "A value is trying to be set on a copy of a slice from a DataFrame.\n",
      "Try using .loc[row_indexer,col_indexer] = value instead\n",
      "\n",
      "See the caveats in the documentation: https://pandas.pydata.org/pandas-docs/stable/user_guide/indexing.html#returning-a-view-versus-a-copy\n",
      "  componentes['seasonal_prophet'] = 0\n",
      " 22%|██▏       | 174/780 [41:58<1:56:51, 11.57s/it]19:22:12 - cmdstanpy - INFO - Chain [1] start processing\n",
      "19:22:12 - cmdstanpy - INFO - Chain [1] done processing\n",
      "C:\\Users\\waldo\\AppData\\Local\\Temp\\ipykernel_44800\\1165039906.py:39: SettingWithCopyWarning: \n",
      "A value is trying to be set on a copy of a slice from a DataFrame.\n",
      "Try using .loc[row_indexer,col_indexer] = value instead\n",
      "\n",
      "See the caveats in the documentation: https://pandas.pydata.org/pandas-docs/stable/user_guide/indexing.html#returning-a-view-versus-a-copy\n",
      "  componentes['seasonal_prophet'] = 0\n",
      " 22%|██▏       | 175/780 [42:01<1:30:45,  9.00s/it]19:22:16 - cmdstanpy - INFO - Chain [1] start processing\n",
      "19:22:16 - cmdstanpy - INFO - Chain [1] done processing\n",
      "C:\\Users\\waldo\\AppData\\Local\\Temp\\ipykernel_44800\\1165039906.py:39: SettingWithCopyWarning: \n",
      "A value is trying to be set on a copy of a slice from a DataFrame.\n",
      "Try using .loc[row_indexer,col_indexer] = value instead\n",
      "\n",
      "See the caveats in the documentation: https://pandas.pydata.org/pandas-docs/stable/user_guide/indexing.html#returning-a-view-versus-a-copy\n",
      "  componentes['seasonal_prophet'] = 0\n",
      " 23%|██▎       | 176/780 [42:11<1:32:34,  9.20s/it]19:22:25 - cmdstanpy - INFO - Chain [1] start processing\n",
      "19:22:26 - cmdstanpy - INFO - Chain [1] done processing\n",
      "C:\\Users\\waldo\\AppData\\Local\\Temp\\ipykernel_44800\\1165039906.py:39: SettingWithCopyWarning: \n",
      "A value is trying to be set on a copy of a slice from a DataFrame.\n",
      "Try using .loc[row_indexer,col_indexer] = value instead\n",
      "\n",
      "See the caveats in the documentation: https://pandas.pydata.org/pandas-docs/stable/user_guide/indexing.html#returning-a-view-versus-a-copy\n",
      "  componentes['seasonal_prophet'] = 0\n",
      " 23%|██▎       | 177/780 [42:22<1:37:20,  9.69s/it]19:22:36 - cmdstanpy - INFO - Chain [1] start processing\n",
      "19:22:36 - cmdstanpy - INFO - Chain [1] done processing\n",
      "C:\\Users\\waldo\\AppData\\Local\\Temp\\ipykernel_44800\\1165039906.py:39: SettingWithCopyWarning: \n",
      "A value is trying to be set on a copy of a slice from a DataFrame.\n",
      "Try using .loc[row_indexer,col_indexer] = value instead\n",
      "\n",
      "See the caveats in the documentation: https://pandas.pydata.org/pandas-docs/stable/user_guide/indexing.html#returning-a-view-versus-a-copy\n",
      "  componentes['seasonal_prophet'] = 0\n",
      " 23%|██▎       | 178/780 [42:25<1:16:42,  7.65s/it]19:22:39 - cmdstanpy - INFO - Chain [1] start processing\n",
      "19:22:39 - cmdstanpy - INFO - Chain [1] done processing\n",
      "C:\\Users\\waldo\\AppData\\Local\\Temp\\ipykernel_44800\\1165039906.py:39: SettingWithCopyWarning: \n",
      "A value is trying to be set on a copy of a slice from a DataFrame.\n",
      "Try using .loc[row_indexer,col_indexer] = value instead\n",
      "\n",
      "See the caveats in the documentation: https://pandas.pydata.org/pandas-docs/stable/user_guide/indexing.html#returning-a-view-versus-a-copy\n",
      "  componentes['seasonal_prophet'] = 0\n",
      " 23%|██▎       | 179/780 [42:43<1:47:05, 10.69s/it]19:22:58 - cmdstanpy - INFO - Chain [1] start processing\n",
      "19:22:58 - cmdstanpy - INFO - Chain [1] done processing\n",
      "C:\\Users\\waldo\\AppData\\Local\\Temp\\ipykernel_44800\\1165039906.py:39: SettingWithCopyWarning: \n",
      "A value is trying to be set on a copy of a slice from a DataFrame.\n",
      "Try using .loc[row_indexer,col_indexer] = value instead\n",
      "\n",
      "See the caveats in the documentation: https://pandas.pydata.org/pandas-docs/stable/user_guide/indexing.html#returning-a-view-versus-a-copy\n",
      "  componentes['seasonal_prophet'] = 0\n",
      " 23%|██▎       | 180/780 [43:00<2:06:27, 12.65s/it]19:23:14 - cmdstanpy - INFO - Chain [1] start processing\n",
      "19:23:14 - cmdstanpy - INFO - Chain [1] done processing\n",
      "C:\\Users\\waldo\\AppData\\Local\\Temp\\ipykernel_44800\\1165039906.py:39: SettingWithCopyWarning: \n",
      "A value is trying to be set on a copy of a slice from a DataFrame.\n",
      "Try using .loc[row_indexer,col_indexer] = value instead\n",
      "\n",
      "See the caveats in the documentation: https://pandas.pydata.org/pandas-docs/stable/user_guide/indexing.html#returning-a-view-versus-a-copy\n",
      "  componentes['seasonal_prophet'] = 0\n",
      " 23%|██▎       | 181/780 [43:14<2:10:01, 13.02s/it]19:23:28 - cmdstanpy - INFO - Chain [1] start processing\n",
      "19:23:28 - cmdstanpy - INFO - Chain [1] done processing\n",
      "C:\\Users\\waldo\\AppData\\Local\\Temp\\ipykernel_44800\\1165039906.py:39: SettingWithCopyWarning: \n",
      "A value is trying to be set on a copy of a slice from a DataFrame.\n",
      "Try using .loc[row_indexer,col_indexer] = value instead\n",
      "\n",
      "See the caveats in the documentation: https://pandas.pydata.org/pandas-docs/stable/user_guide/indexing.html#returning-a-view-versus-a-copy\n",
      "  componentes['seasonal_prophet'] = 0\n",
      " 23%|██▎       | 182/780 [43:23<1:57:58, 11.84s/it]19:23:37 - cmdstanpy - INFO - Chain [1] start processing\n",
      "19:23:38 - cmdstanpy - INFO - Chain [1] done processing\n",
      "C:\\Users\\waldo\\AppData\\Local\\Temp\\ipykernel_44800\\1165039906.py:39: SettingWithCopyWarning: \n",
      "A value is trying to be set on a copy of a slice from a DataFrame.\n",
      "Try using .loc[row_indexer,col_indexer] = value instead\n",
      "\n",
      "See the caveats in the documentation: https://pandas.pydata.org/pandas-docs/stable/user_guide/indexing.html#returning-a-view-versus-a-copy\n",
      "  componentes['seasonal_prophet'] = 0\n",
      " 23%|██▎       | 183/780 [43:38<2:08:39, 12.93s/it]19:23:53 - cmdstanpy - INFO - Chain [1] start processing\n",
      "19:23:53 - cmdstanpy - INFO - Chain [1] done processing\n",
      "C:\\Users\\waldo\\AppData\\Local\\Temp\\ipykernel_44800\\1165039906.py:39: SettingWithCopyWarning: \n",
      "A value is trying to be set on a copy of a slice from a DataFrame.\n",
      "Try using .loc[row_indexer,col_indexer] = value instead\n",
      "\n",
      "See the caveats in the documentation: https://pandas.pydata.org/pandas-docs/stable/user_guide/indexing.html#returning-a-view-versus-a-copy\n",
      "  componentes['seasonal_prophet'] = 0\n",
      " 24%|██▎       | 184/780 [43:54<2:15:29, 13.64s/it]19:24:08 - cmdstanpy - INFO - Chain [1] start processing\n",
      "19:24:08 - cmdstanpy - INFO - Chain [1] done processing\n",
      "C:\\Users\\waldo\\AppData\\Local\\Temp\\ipykernel_44800\\1165039906.py:39: SettingWithCopyWarning: \n",
      "A value is trying to be set on a copy of a slice from a DataFrame.\n",
      "Try using .loc[row_indexer,col_indexer] = value instead\n",
      "\n",
      "See the caveats in the documentation: https://pandas.pydata.org/pandas-docs/stable/user_guide/indexing.html#returning-a-view-versus-a-copy\n",
      "  componentes['seasonal_prophet'] = 0\n",
      " 24%|██▎       | 185/780 [44:00<1:53:51, 11.48s/it]19:24:14 - cmdstanpy - INFO - Chain [1] start processing\n",
      "19:24:15 - cmdstanpy - INFO - Chain [1] done processing\n",
      "C:\\Users\\waldo\\AppData\\Local\\Temp\\ipykernel_44800\\1165039906.py:39: SettingWithCopyWarning: \n",
      "A value is trying to be set on a copy of a slice from a DataFrame.\n",
      "Try using .loc[row_indexer,col_indexer] = value instead\n",
      "\n",
      "See the caveats in the documentation: https://pandas.pydata.org/pandas-docs/stable/user_guide/indexing.html#returning-a-view-versus-a-copy\n",
      "  componentes['seasonal_prophet'] = 0\n",
      " 24%|██▍       | 186/780 [44:11<1:52:56, 11.41s/it]19:24:26 - cmdstanpy - INFO - Chain [1] start processing\n",
      "19:24:26 - cmdstanpy - INFO - Chain [1] done processing\n",
      "C:\\Users\\waldo\\AppData\\Local\\Temp\\ipykernel_44800\\1165039906.py:39: SettingWithCopyWarning: \n",
      "A value is trying to be set on a copy of a slice from a DataFrame.\n",
      "Try using .loc[row_indexer,col_indexer] = value instead\n",
      "\n",
      "See the caveats in the documentation: https://pandas.pydata.org/pandas-docs/stable/user_guide/indexing.html#returning-a-view-versus-a-copy\n",
      "  componentes['seasonal_prophet'] = 0\n",
      " 24%|██▍       | 187/780 [44:26<2:04:13, 12.57s/it]19:24:41 - cmdstanpy - INFO - Chain [1] start processing\n",
      "19:24:42 - cmdstanpy - INFO - Chain [1] done processing\n",
      "C:\\Users\\waldo\\AppData\\Local\\Temp\\ipykernel_44800\\1165039906.py:39: SettingWithCopyWarning: \n",
      "A value is trying to be set on a copy of a slice from a DataFrame.\n",
      "Try using .loc[row_indexer,col_indexer] = value instead\n",
      "\n",
      "See the caveats in the documentation: https://pandas.pydata.org/pandas-docs/stable/user_guide/indexing.html#returning-a-view-versus-a-copy\n",
      "  componentes['seasonal_prophet'] = 0\n",
      " 24%|██▍       | 188/780 [44:49<2:33:04, 15.51s/it]19:25:03 - cmdstanpy - INFO - Chain [1] start processing\n",
      "19:25:03 - cmdstanpy - INFO - Chain [1] done processing\n",
      "C:\\Users\\waldo\\AppData\\Local\\Temp\\ipykernel_44800\\1165039906.py:39: SettingWithCopyWarning: \n",
      "A value is trying to be set on a copy of a slice from a DataFrame.\n",
      "Try using .loc[row_indexer,col_indexer] = value instead\n",
      "\n",
      "See the caveats in the documentation: https://pandas.pydata.org/pandas-docs/stable/user_guide/indexing.html#returning-a-view-versus-a-copy\n",
      "  componentes['seasonal_prophet'] = 0\n",
      " 24%|██▍       | 189/780 [44:59<2:15:52, 13.79s/it]19:25:13 - cmdstanpy - INFO - Chain [1] start processing\n",
      "19:25:13 - cmdstanpy - INFO - Chain [1] done processing\n",
      "C:\\Users\\waldo\\AppData\\Local\\Temp\\ipykernel_44800\\1165039906.py:39: SettingWithCopyWarning: \n",
      "A value is trying to be set on a copy of a slice from a DataFrame.\n",
      "Try using .loc[row_indexer,col_indexer] = value instead\n",
      "\n",
      "See the caveats in the documentation: https://pandas.pydata.org/pandas-docs/stable/user_guide/indexing.html#returning-a-view-versus-a-copy\n",
      "  componentes['seasonal_prophet'] = 0\n",
      " 24%|██▍       | 190/780 [45:11<2:12:05, 13.43s/it]19:25:26 - cmdstanpy - INFO - Chain [1] start processing\n",
      "19:25:26 - cmdstanpy - INFO - Chain [1] done processing\n",
      "C:\\Users\\waldo\\AppData\\Local\\Temp\\ipykernel_44800\\1165039906.py:39: SettingWithCopyWarning: \n",
      "A value is trying to be set on a copy of a slice from a DataFrame.\n",
      "Try using .loc[row_indexer,col_indexer] = value instead\n",
      "\n",
      "See the caveats in the documentation: https://pandas.pydata.org/pandas-docs/stable/user_guide/indexing.html#returning-a-view-versus-a-copy\n",
      "  componentes['seasonal_prophet'] = 0\n",
      " 24%|██▍       | 191/780 [45:27<2:18:46, 14.14s/it]19:25:42 - cmdstanpy - INFO - Chain [1] start processing\n",
      "19:25:42 - cmdstanpy - INFO - Chain [1] done processing\n",
      "C:\\Users\\waldo\\AppData\\Local\\Temp\\ipykernel_44800\\1165039906.py:39: SettingWithCopyWarning: \n",
      "A value is trying to be set on a copy of a slice from a DataFrame.\n",
      "Try using .loc[row_indexer,col_indexer] = value instead\n",
      "\n",
      "See the caveats in the documentation: https://pandas.pydata.org/pandas-docs/stable/user_guide/indexing.html#returning-a-view-versus-a-copy\n",
      "  componentes['seasonal_prophet'] = 0\n",
      " 25%|██▍       | 192/780 [45:48<2:39:08, 16.24s/it]19:26:02 - cmdstanpy - INFO - Chain [1] start processing\n",
      "19:26:02 - cmdstanpy - INFO - Chain [1] done processing\n",
      "C:\\Users\\waldo\\AppData\\Local\\Temp\\ipykernel_44800\\1165039906.py:39: SettingWithCopyWarning: \n",
      "A value is trying to be set on a copy of a slice from a DataFrame.\n",
      "Try using .loc[row_indexer,col_indexer] = value instead\n",
      "\n",
      "See the caveats in the documentation: https://pandas.pydata.org/pandas-docs/stable/user_guide/indexing.html#returning-a-view-versus-a-copy\n",
      "  componentes['seasonal_prophet'] = 0\n",
      " 25%|██▍       | 193/780 [45:51<2:00:57, 12.36s/it]19:26:06 - cmdstanpy - INFO - Chain [1] start processing\n",
      "19:26:06 - cmdstanpy - INFO - Chain [1] done processing\n",
      "C:\\Users\\waldo\\AppData\\Local\\Temp\\ipykernel_44800\\1165039906.py:39: SettingWithCopyWarning: \n",
      "A value is trying to be set on a copy of a slice from a DataFrame.\n",
      "Try using .loc[row_indexer,col_indexer] = value instead\n",
      "\n",
      "See the caveats in the documentation: https://pandas.pydata.org/pandas-docs/stable/user_guide/indexing.html#returning-a-view-versus-a-copy\n",
      "  componentes['seasonal_prophet'] = 0\n",
      " 25%|██▍       | 194/780 [45:58<1:44:37, 10.71s/it]19:26:13 - cmdstanpy - INFO - Chain [1] start processing\n",
      "19:26:13 - cmdstanpy - INFO - Chain [1] done processing\n",
      "C:\\Users\\waldo\\AppData\\Local\\Temp\\ipykernel_44800\\1165039906.py:39: SettingWithCopyWarning: \n",
      "A value is trying to be set on a copy of a slice from a DataFrame.\n",
      "Try using .loc[row_indexer,col_indexer] = value instead\n",
      "\n",
      "See the caveats in the documentation: https://pandas.pydata.org/pandas-docs/stable/user_guide/indexing.html#returning-a-view-versus-a-copy\n",
      "  componentes['seasonal_prophet'] = 0\n",
      " 25%|██▌       | 195/780 [46:16<2:04:21, 12.75s/it]19:26:31 - cmdstanpy - INFO - Chain [1] start processing\n",
      "19:26:31 - cmdstanpy - INFO - Chain [1] done processing\n",
      "C:\\Users\\waldo\\AppData\\Local\\Temp\\ipykernel_44800\\1165039906.py:39: SettingWithCopyWarning: \n",
      "A value is trying to be set on a copy of a slice from a DataFrame.\n",
      "Try using .loc[row_indexer,col_indexer] = value instead\n",
      "\n",
      "See the caveats in the documentation: https://pandas.pydata.org/pandas-docs/stable/user_guide/indexing.html#returning-a-view-versus-a-copy\n",
      "  componentes['seasonal_prophet'] = 0\n",
      " 25%|██▌       | 196/780 [46:32<2:14:20, 13.80s/it]19:26:46 - cmdstanpy - INFO - Chain [1] start processing\n",
      "19:26:47 - cmdstanpy - INFO - Chain [1] done processing\n",
      "C:\\Users\\waldo\\AppData\\Local\\Temp\\ipykernel_44800\\1165039906.py:39: SettingWithCopyWarning: \n",
      "A value is trying to be set on a copy of a slice from a DataFrame.\n",
      "Try using .loc[row_indexer,col_indexer] = value instead\n",
      "\n",
      "See the caveats in the documentation: https://pandas.pydata.org/pandas-docs/stable/user_guide/indexing.html#returning-a-view-versus-a-copy\n",
      "  componentes['seasonal_prophet'] = 0\n",
      " 25%|██▌       | 197/780 [46:39<1:54:16, 11.76s/it]19:26:53 - cmdstanpy - INFO - Chain [1] start processing\n",
      "19:26:53 - cmdstanpy - INFO - Chain [1] done processing\n",
      "C:\\Users\\waldo\\AppData\\Local\\Temp\\ipykernel_44800\\1165039906.py:39: SettingWithCopyWarning: \n",
      "A value is trying to be set on a copy of a slice from a DataFrame.\n",
      "Try using .loc[row_indexer,col_indexer] = value instead\n",
      "\n",
      "See the caveats in the documentation: https://pandas.pydata.org/pandas-docs/stable/user_guide/indexing.html#returning-a-view-versus-a-copy\n",
      "  componentes['seasonal_prophet'] = 0\n",
      " 25%|██▌       | 198/780 [46:46<1:40:54, 10.40s/it]19:27:01 - cmdstanpy - INFO - Chain [1] start processing\n",
      "19:27:01 - cmdstanpy - INFO - Chain [1] done processing\n",
      "C:\\Users\\waldo\\AppData\\Local\\Temp\\ipykernel_44800\\1165039906.py:39: SettingWithCopyWarning: \n",
      "A value is trying to be set on a copy of a slice from a DataFrame.\n",
      "Try using .loc[row_indexer,col_indexer] = value instead\n",
      "\n",
      "See the caveats in the documentation: https://pandas.pydata.org/pandas-docs/stable/user_guide/indexing.html#returning-a-view-versus-a-copy\n",
      "  componentes['seasonal_prophet'] = 0\n",
      " 26%|██▌       | 199/780 [46:53<1:29:24,  9.23s/it]19:27:07 - cmdstanpy - INFO - Chain [1] start processing\n",
      "19:27:08 - cmdstanpy - INFO - Chain [1] done processing\n",
      "C:\\Users\\waldo\\AppData\\Local\\Temp\\ipykernel_44800\\1165039906.py:39: SettingWithCopyWarning: \n",
      "A value is trying to be set on a copy of a slice from a DataFrame.\n",
      "Try using .loc[row_indexer,col_indexer] = value instead\n",
      "\n",
      "See the caveats in the documentation: https://pandas.pydata.org/pandas-docs/stable/user_guide/indexing.html#returning-a-view-versus-a-copy\n",
      "  componentes['seasonal_prophet'] = 0\n",
      " 26%|██▌       | 200/780 [47:08<1:46:54, 11.06s/it]19:27:23 - cmdstanpy - INFO - Chain [1] start processing\n",
      "19:27:23 - cmdstanpy - INFO - Chain [1] done processing\n",
      "C:\\Users\\waldo\\AppData\\Local\\Temp\\ipykernel_44800\\1165039906.py:39: SettingWithCopyWarning: \n",
      "A value is trying to be set on a copy of a slice from a DataFrame.\n",
      "Try using .loc[row_indexer,col_indexer] = value instead\n",
      "\n",
      "See the caveats in the documentation: https://pandas.pydata.org/pandas-docs/stable/user_guide/indexing.html#returning-a-view-versus-a-copy\n",
      "  componentes['seasonal_prophet'] = 0\n",
      " 26%|██▌       | 201/780 [47:24<2:00:36, 12.50s/it]19:27:39 - cmdstanpy - INFO - Chain [1] start processing\n",
      "19:27:39 - cmdstanpy - INFO - Chain [1] done processing\n",
      "C:\\Users\\waldo\\AppData\\Local\\Temp\\ipykernel_44800\\1165039906.py:39: SettingWithCopyWarning: \n",
      "A value is trying to be set on a copy of a slice from a DataFrame.\n",
      "Try using .loc[row_indexer,col_indexer] = value instead\n",
      "\n",
      "See the caveats in the documentation: https://pandas.pydata.org/pandas-docs/stable/user_guide/indexing.html#returning-a-view-versus-a-copy\n",
      "  componentes['seasonal_prophet'] = 0\n",
      " 26%|██▌       | 202/780 [47:37<2:00:35, 12.52s/it]19:27:51 - cmdstanpy - INFO - Chain [1] start processing\n",
      "19:27:52 - cmdstanpy - INFO - Chain [1] done processing\n",
      "C:\\Users\\waldo\\AppData\\Local\\Temp\\ipykernel_44800\\1165039906.py:39: SettingWithCopyWarning: \n",
      "A value is trying to be set on a copy of a slice from a DataFrame.\n",
      "Try using .loc[row_indexer,col_indexer] = value instead\n",
      "\n",
      "See the caveats in the documentation: https://pandas.pydata.org/pandas-docs/stable/user_guide/indexing.html#returning-a-view-versus-a-copy\n",
      "  componentes['seasonal_prophet'] = 0\n",
      " 26%|██▌       | 203/780 [47:54<2:15:45, 14.12s/it]19:28:09 - cmdstanpy - INFO - Chain [1] start processing\n",
      "19:28:10 - cmdstanpy - INFO - Chain [1] done processing\n",
      "C:\\Users\\waldo\\AppData\\Local\\Temp\\ipykernel_44800\\1165039906.py:39: SettingWithCopyWarning: \n",
      "A value is trying to be set on a copy of a slice from a DataFrame.\n",
      "Try using .loc[row_indexer,col_indexer] = value instead\n",
      "\n",
      "See the caveats in the documentation: https://pandas.pydata.org/pandas-docs/stable/user_guide/indexing.html#returning-a-view-versus-a-copy\n",
      "  componentes['seasonal_prophet'] = 0\n",
      " 26%|██▌       | 204/780 [48:03<1:58:36, 12.35s/it]19:28:17 - cmdstanpy - INFO - Chain [1] start processing\n",
      "19:28:17 - cmdstanpy - INFO - Chain [1] done processing\n",
      "C:\\Users\\waldo\\AppData\\Local\\Temp\\ipykernel_44800\\1165039906.py:39: SettingWithCopyWarning: \n",
      "A value is trying to be set on a copy of a slice from a DataFrame.\n",
      "Try using .loc[row_indexer,col_indexer] = value instead\n",
      "\n",
      "See the caveats in the documentation: https://pandas.pydata.org/pandas-docs/stable/user_guide/indexing.html#returning-a-view-versus-a-copy\n",
      "  componentes['seasonal_prophet'] = 0\n",
      " 26%|██▋       | 205/780 [48:12<1:48:23, 11.31s/it]19:28:26 - cmdstanpy - INFO - Chain [1] start processing\n",
      "19:28:26 - cmdstanpy - INFO - Chain [1] done processing\n",
      "C:\\Users\\waldo\\AppData\\Local\\Temp\\ipykernel_44800\\1165039906.py:39: SettingWithCopyWarning: \n",
      "A value is trying to be set on a copy of a slice from a DataFrame.\n",
      "Try using .loc[row_indexer,col_indexer] = value instead\n",
      "\n",
      "See the caveats in the documentation: https://pandas.pydata.org/pandas-docs/stable/user_guide/indexing.html#returning-a-view-versus-a-copy\n",
      "  componentes['seasonal_prophet'] = 0\n",
      " 26%|██▋       | 206/780 [48:19<1:35:55, 10.03s/it]19:28:33 - cmdstanpy - INFO - Chain [1] start processing\n",
      "19:28:33 - cmdstanpy - INFO - Chain [1] done processing\n",
      "C:\\Users\\waldo\\AppData\\Local\\Temp\\ipykernel_44800\\1165039906.py:39: SettingWithCopyWarning: \n",
      "A value is trying to be set on a copy of a slice from a DataFrame.\n",
      "Try using .loc[row_indexer,col_indexer] = value instead\n",
      "\n",
      "See the caveats in the documentation: https://pandas.pydata.org/pandas-docs/stable/user_guide/indexing.html#returning-a-view-versus-a-copy\n",
      "  componentes['seasonal_prophet'] = 0\n",
      " 27%|██▋       | 207/780 [48:38<2:02:11, 12.79s/it]19:28:52 - cmdstanpy - INFO - Chain [1] start processing\n",
      "19:28:53 - cmdstanpy - INFO - Chain [1] done processing\n",
      "C:\\Users\\waldo\\AppData\\Local\\Temp\\ipykernel_44800\\1165039906.py:39: SettingWithCopyWarning: \n",
      "A value is trying to be set on a copy of a slice from a DataFrame.\n",
      "Try using .loc[row_indexer,col_indexer] = value instead\n",
      "\n",
      "See the caveats in the documentation: https://pandas.pydata.org/pandas-docs/stable/user_guide/indexing.html#returning-a-view-versus-a-copy\n",
      "  componentes['seasonal_prophet'] = 0\n",
      " 27%|██▋       | 208/780 [48:54<2:10:15, 13.66s/it]19:29:07 - cmdstanpy - INFO - Chain [1] start processing\n",
      "19:29:07 - cmdstanpy - INFO - Chain [1] done processing\n",
      "C:\\Users\\waldo\\AppData\\Local\\Temp\\ipykernel_44800\\1165039906.py:39: SettingWithCopyWarning: \n",
      "A value is trying to be set on a copy of a slice from a DataFrame.\n",
      "Try using .loc[row_indexer,col_indexer] = value instead\n",
      "\n",
      "See the caveats in the documentation: https://pandas.pydata.org/pandas-docs/stable/user_guide/indexing.html#returning-a-view-versus-a-copy\n",
      "  componentes['seasonal_prophet'] = 0\n",
      " 27%|██▋       | 209/780 [48:56<1:38:43, 10.37s/it]19:29:10 - cmdstanpy - INFO - Chain [1] start processing\n",
      "19:29:10 - cmdstanpy - INFO - Chain [1] done processing\n",
      "C:\\Users\\waldo\\AppData\\Local\\Temp\\ipykernel_44800\\1165039906.py:39: SettingWithCopyWarning: \n",
      "A value is trying to be set on a copy of a slice from a DataFrame.\n",
      "Try using .loc[row_indexer,col_indexer] = value instead\n",
      "\n",
      "See the caveats in the documentation: https://pandas.pydata.org/pandas-docs/stable/user_guide/indexing.html#returning-a-view-versus-a-copy\n",
      "  componentes['seasonal_prophet'] = 0\n",
      " 27%|██▋       | 210/780 [49:00<1:19:13,  8.34s/it]19:29:14 - cmdstanpy - INFO - Chain [1] start processing\n",
      "19:29:14 - cmdstanpy - INFO - Chain [1] done processing\n",
      "C:\\Users\\waldo\\AppData\\Local\\Temp\\ipykernel_44800\\1165039906.py:39: SettingWithCopyWarning: \n",
      "A value is trying to be set on a copy of a slice from a DataFrame.\n",
      "Try using .loc[row_indexer,col_indexer] = value instead\n",
      "\n",
      "See the caveats in the documentation: https://pandas.pydata.org/pandas-docs/stable/user_guide/indexing.html#returning-a-view-versus-a-copy\n",
      "  componentes['seasonal_prophet'] = 0\n",
      " 27%|██▋       | 211/780 [49:04<1:07:54,  7.16s/it]19:29:18 - cmdstanpy - INFO - Chain [1] start processing\n",
      "19:29:18 - cmdstanpy - INFO - Chain [1] done processing\n",
      "C:\\Users\\waldo\\AppData\\Local\\Temp\\ipykernel_44800\\1165039906.py:39: SettingWithCopyWarning: \n",
      "A value is trying to be set on a copy of a slice from a DataFrame.\n",
      "Try using .loc[row_indexer,col_indexer] = value instead\n",
      "\n",
      "See the caveats in the documentation: https://pandas.pydata.org/pandas-docs/stable/user_guide/indexing.html#returning-a-view-versus-a-copy\n",
      "  componentes['seasonal_prophet'] = 0\n",
      " 27%|██▋       | 212/780 [49:07<54:16,  5.73s/it]  19:29:22 - cmdstanpy - INFO - Chain [1] start processing\n",
      "19:29:23 - cmdstanpy - INFO - Chain [1] done processing\n",
      "C:\\Users\\waldo\\AppData\\Local\\Temp\\ipykernel_44800\\1165039906.py:39: SettingWithCopyWarning: \n",
      "A value is trying to be set on a copy of a slice from a DataFrame.\n",
      "Try using .loc[row_indexer,col_indexer] = value instead\n",
      "\n",
      "See the caveats in the documentation: https://pandas.pydata.org/pandas-docs/stable/user_guide/indexing.html#returning-a-view-versus-a-copy\n",
      "  componentes['seasonal_prophet'] = 0\n",
      " 27%|██▋       | 213/780 [49:32<1:50:21, 11.68s/it]19:29:47 - cmdstanpy - INFO - Chain [1] start processing\n",
      "19:29:47 - cmdstanpy - INFO - Chain [1] done processing\n",
      "C:\\Users\\waldo\\AppData\\Local\\Temp\\ipykernel_44800\\1165039906.py:39: SettingWithCopyWarning: \n",
      "A value is trying to be set on a copy of a slice from a DataFrame.\n",
      "Try using .loc[row_indexer,col_indexer] = value instead\n",
      "\n",
      "See the caveats in the documentation: https://pandas.pydata.org/pandas-docs/stable/user_guide/indexing.html#returning-a-view-versus-a-copy\n",
      "  componentes['seasonal_prophet'] = 0\n",
      " 27%|██▋       | 214/780 [49:43<1:46:56, 11.34s/it]19:29:57 - cmdstanpy - INFO - Chain [1] start processing\n",
      "19:29:58 - cmdstanpy - INFO - Chain [1] done processing\n",
      "C:\\Users\\waldo\\AppData\\Local\\Temp\\ipykernel_44800\\1165039906.py:39: SettingWithCopyWarning: \n",
      "A value is trying to be set on a copy of a slice from a DataFrame.\n",
      "Try using .loc[row_indexer,col_indexer] = value instead\n",
      "\n",
      "See the caveats in the documentation: https://pandas.pydata.org/pandas-docs/stable/user_guide/indexing.html#returning-a-view-versus-a-copy\n",
      "  componentes['seasonal_prophet'] = 0\n",
      " 28%|██▊       | 215/780 [49:57<1:55:56, 12.31s/it]19:30:12 - cmdstanpy - INFO - Chain [1] start processing\n",
      "19:30:12 - cmdstanpy - INFO - Chain [1] done processing\n",
      "C:\\Users\\waldo\\AppData\\Local\\Temp\\ipykernel_44800\\1165039906.py:39: SettingWithCopyWarning: \n",
      "A value is trying to be set on a copy of a slice from a DataFrame.\n",
      "Try using .loc[row_indexer,col_indexer] = value instead\n",
      "\n",
      "See the caveats in the documentation: https://pandas.pydata.org/pandas-docs/stable/user_guide/indexing.html#returning-a-view-versus-a-copy\n",
      "  componentes['seasonal_prophet'] = 0\n",
      " 28%|██▊       | 216/780 [50:04<1:39:30, 10.59s/it]19:30:19 - cmdstanpy - INFO - Chain [1] start processing\n",
      "19:30:19 - cmdstanpy - INFO - Chain [1] done processing\n",
      "C:\\Users\\waldo\\AppData\\Local\\Temp\\ipykernel_44800\\1165039906.py:39: SettingWithCopyWarning: \n",
      "A value is trying to be set on a copy of a slice from a DataFrame.\n",
      "Try using .loc[row_indexer,col_indexer] = value instead\n",
      "\n",
      "See the caveats in the documentation: https://pandas.pydata.org/pandas-docs/stable/user_guide/indexing.html#returning-a-view-versus-a-copy\n",
      "  componentes['seasonal_prophet'] = 0\n",
      " 28%|██▊       | 217/780 [50:29<2:20:24, 14.96s/it]19:30:44 - cmdstanpy - INFO - Chain [1] start processing\n",
      "19:30:44 - cmdstanpy - INFO - Chain [1] done processing\n",
      "C:\\Users\\waldo\\AppData\\Local\\Temp\\ipykernel_44800\\1165039906.py:39: SettingWithCopyWarning: \n",
      "A value is trying to be set on a copy of a slice from a DataFrame.\n",
      "Try using .loc[row_indexer,col_indexer] = value instead\n",
      "\n",
      "See the caveats in the documentation: https://pandas.pydata.org/pandas-docs/stable/user_guide/indexing.html#returning-a-view-versus-a-copy\n",
      "  componentes['seasonal_prophet'] = 0\n",
      " 28%|██▊       | 218/780 [50:49<2:35:06, 16.56s/it]19:31:04 - cmdstanpy - INFO - Chain [1] start processing\n",
      "19:31:04 - cmdstanpy - INFO - Chain [1] done processing\n",
      "C:\\Users\\waldo\\AppData\\Local\\Temp\\ipykernel_44800\\1165039906.py:39: SettingWithCopyWarning: \n",
      "A value is trying to be set on a copy of a slice from a DataFrame.\n",
      "Try using .loc[row_indexer,col_indexer] = value instead\n",
      "\n",
      "See the caveats in the documentation: https://pandas.pydata.org/pandas-docs/stable/user_guide/indexing.html#returning-a-view-versus-a-copy\n",
      "  componentes['seasonal_prophet'] = 0\n",
      " 28%|██▊       | 219/780 [50:57<2:09:50, 13.89s/it]19:31:11 - cmdstanpy - INFO - Chain [1] start processing\n",
      "19:31:11 - cmdstanpy - INFO - Chain [1] done processing\n",
      "C:\\Users\\waldo\\AppData\\Local\\Temp\\ipykernel_44800\\1165039906.py:39: SettingWithCopyWarning: \n",
      "A value is trying to be set on a copy of a slice from a DataFrame.\n",
      "Try using .loc[row_indexer,col_indexer] = value instead\n",
      "\n",
      "See the caveats in the documentation: https://pandas.pydata.org/pandas-docs/stable/user_guide/indexing.html#returning-a-view-versus-a-copy\n",
      "  componentes['seasonal_prophet'] = 0\n",
      " 28%|██▊       | 220/780 [51:02<1:44:11, 11.16s/it]19:31:16 - cmdstanpy - INFO - Chain [1] start processing\n",
      "19:31:16 - cmdstanpy - INFO - Chain [1] done processing\n",
      "C:\\Users\\waldo\\AppData\\Local\\Temp\\ipykernel_44800\\1165039906.py:39: SettingWithCopyWarning: \n",
      "A value is trying to be set on a copy of a slice from a DataFrame.\n",
      "Try using .loc[row_indexer,col_indexer] = value instead\n",
      "\n",
      "See the caveats in the documentation: https://pandas.pydata.org/pandas-docs/stable/user_guide/indexing.html#returning-a-view-versus-a-copy\n",
      "  componentes['seasonal_prophet'] = 0\n",
      " 28%|██▊       | 221/780 [51:11<1:38:38, 10.59s/it]19:31:26 - cmdstanpy - INFO - Chain [1] start processing\n",
      "19:31:26 - cmdstanpy - INFO - Chain [1] done processing\n",
      "C:\\Users\\waldo\\AppData\\Local\\Temp\\ipykernel_44800\\1165039906.py:39: SettingWithCopyWarning: \n",
      "A value is trying to be set on a copy of a slice from a DataFrame.\n",
      "Try using .loc[row_indexer,col_indexer] = value instead\n",
      "\n",
      "See the caveats in the documentation: https://pandas.pydata.org/pandas-docs/stable/user_guide/indexing.html#returning-a-view-versus-a-copy\n",
      "  componentes['seasonal_prophet'] = 0\n",
      " 28%|██▊       | 222/780 [51:34<2:13:08, 14.32s/it]19:31:49 - cmdstanpy - INFO - Chain [1] start processing\n",
      "19:31:49 - cmdstanpy - INFO - Chain [1] done processing\n",
      "C:\\Users\\waldo\\AppData\\Local\\Temp\\ipykernel_44800\\1165039906.py:39: SettingWithCopyWarning: \n",
      "A value is trying to be set on a copy of a slice from a DataFrame.\n",
      "Try using .loc[row_indexer,col_indexer] = value instead\n",
      "\n",
      "See the caveats in the documentation: https://pandas.pydata.org/pandas-docs/stable/user_guide/indexing.html#returning-a-view-versus-a-copy\n",
      "  componentes['seasonal_prophet'] = 0\n",
      " 29%|██▊       | 223/780 [51:53<2:24:47, 15.60s/it]19:32:07 - cmdstanpy - INFO - Chain [1] start processing\n",
      "19:32:07 - cmdstanpy - INFO - Chain [1] done processing\n",
      "C:\\Users\\waldo\\AppData\\Local\\Temp\\ipykernel_44800\\1165039906.py:39: SettingWithCopyWarning: \n",
      "A value is trying to be set on a copy of a slice from a DataFrame.\n",
      "Try using .loc[row_indexer,col_indexer] = value instead\n",
      "\n",
      "See the caveats in the documentation: https://pandas.pydata.org/pandas-docs/stable/user_guide/indexing.html#returning-a-view-versus-a-copy\n",
      "  componentes['seasonal_prophet'] = 0\n",
      " 29%|██▊       | 224/780 [52:08<2:25:01, 15.65s/it]19:32:23 - cmdstanpy - INFO - Chain [1] start processing\n",
      "19:32:24 - cmdstanpy - INFO - Chain [1] done processing\n",
      "C:\\Users\\waldo\\AppData\\Local\\Temp\\ipykernel_44800\\1165039906.py:39: SettingWithCopyWarning: \n",
      "A value is trying to be set on a copy of a slice from a DataFrame.\n",
      "Try using .loc[row_indexer,col_indexer] = value instead\n",
      "\n",
      "See the caveats in the documentation: https://pandas.pydata.org/pandas-docs/stable/user_guide/indexing.html#returning-a-view-versus-a-copy\n",
      "  componentes['seasonal_prophet'] = 0\n",
      " 29%|██▉       | 225/780 [52:34<2:51:59, 18.59s/it]19:32:48 - cmdstanpy - INFO - Chain [1] start processing\n",
      "19:32:48 - cmdstanpy - INFO - Chain [1] done processing\n",
      "C:\\Users\\waldo\\AppData\\Local\\Temp\\ipykernel_44800\\1165039906.py:39: SettingWithCopyWarning: \n",
      "A value is trying to be set on a copy of a slice from a DataFrame.\n",
      "Try using .loc[row_indexer,col_indexer] = value instead\n",
      "\n",
      "See the caveats in the documentation: https://pandas.pydata.org/pandas-docs/stable/user_guide/indexing.html#returning-a-view-versus-a-copy\n",
      "  componentes['seasonal_prophet'] = 0\n",
      " 29%|██▉       | 226/780 [52:41<2:20:00, 15.16s/it]19:32:55 - cmdstanpy - INFO - Chain [1] start processing\n",
      "19:32:56 - cmdstanpy - INFO - Chain [1] done processing\n",
      "C:\\Users\\waldo\\AppData\\Local\\Temp\\ipykernel_44800\\1165039906.py:39: SettingWithCopyWarning: \n",
      "A value is trying to be set on a copy of a slice from a DataFrame.\n",
      "Try using .loc[row_indexer,col_indexer] = value instead\n",
      "\n",
      "See the caveats in the documentation: https://pandas.pydata.org/pandas-docs/stable/user_guide/indexing.html#returning-a-view-versus-a-copy\n",
      "  componentes['seasonal_prophet'] = 0\n",
      " 29%|██▉       | 227/780 [52:48<1:56:47, 12.67s/it]19:33:02 - cmdstanpy - INFO - Chain [1] start processing\n",
      "19:33:02 - cmdstanpy - INFO - Chain [1] done processing\n",
      "C:\\Users\\waldo\\AppData\\Local\\Temp\\ipykernel_44800\\1165039906.py:39: SettingWithCopyWarning: \n",
      "A value is trying to be set on a copy of a slice from a DataFrame.\n",
      "Try using .loc[row_indexer,col_indexer] = value instead\n",
      "\n",
      "See the caveats in the documentation: https://pandas.pydata.org/pandas-docs/stable/user_guide/indexing.html#returning-a-view-versus-a-copy\n",
      "  componentes['seasonal_prophet'] = 0\n",
      " 29%|██▉       | 228/780 [52:55<1:41:22, 11.02s/it]19:33:09 - cmdstanpy - INFO - Chain [1] start processing\n",
      "19:33:09 - cmdstanpy - INFO - Chain [1] done processing\n",
      "C:\\Users\\waldo\\AppData\\Local\\Temp\\ipykernel_44800\\1165039906.py:39: SettingWithCopyWarning: \n",
      "A value is trying to be set on a copy of a slice from a DataFrame.\n",
      "Try using .loc[row_indexer,col_indexer] = value instead\n",
      "\n",
      "See the caveats in the documentation: https://pandas.pydata.org/pandas-docs/stable/user_guide/indexing.html#returning-a-view-versus-a-copy\n",
      "  componentes['seasonal_prophet'] = 0\n",
      " 29%|██▉       | 229/780 [53:05<1:37:30, 10.62s/it]19:33:19 - cmdstanpy - INFO - Chain [1] start processing\n",
      "19:33:19 - cmdstanpy - INFO - Chain [1] done processing\n",
      "C:\\Users\\waldo\\AppData\\Local\\Temp\\ipykernel_44800\\1165039906.py:39: SettingWithCopyWarning: \n",
      "A value is trying to be set on a copy of a slice from a DataFrame.\n",
      "Try using .loc[row_indexer,col_indexer] = value instead\n",
      "\n",
      "See the caveats in the documentation: https://pandas.pydata.org/pandas-docs/stable/user_guide/indexing.html#returning-a-view-versus-a-copy\n",
      "  componentes['seasonal_prophet'] = 0\n",
      " 29%|██▉       | 230/780 [53:16<1:37:59, 10.69s/it]19:33:30 - cmdstanpy - INFO - Chain [1] start processing\n",
      "19:33:30 - cmdstanpy - INFO - Chain [1] done processing\n",
      "C:\\Users\\waldo\\AppData\\Local\\Temp\\ipykernel_44800\\1165039906.py:39: SettingWithCopyWarning: \n",
      "A value is trying to be set on a copy of a slice from a DataFrame.\n",
      "Try using .loc[row_indexer,col_indexer] = value instead\n",
      "\n",
      "See the caveats in the documentation: https://pandas.pydata.org/pandas-docs/stable/user_guide/indexing.html#returning-a-view-versus-a-copy\n",
      "  componentes['seasonal_prophet'] = 0\n",
      " 30%|██▉       | 231/780 [53:31<1:49:39, 11.99s/it]19:33:45 - cmdstanpy - INFO - Chain [1] start processing\n",
      "19:33:46 - cmdstanpy - INFO - Chain [1] done processing\n",
      "C:\\Users\\waldo\\AppData\\Local\\Temp\\ipykernel_44800\\1165039906.py:39: SettingWithCopyWarning: \n",
      "A value is trying to be set on a copy of a slice from a DataFrame.\n",
      "Try using .loc[row_indexer,col_indexer] = value instead\n",
      "\n",
      "See the caveats in the documentation: https://pandas.pydata.org/pandas-docs/stable/user_guide/indexing.html#returning-a-view-versus-a-copy\n",
      "  componentes['seasonal_prophet'] = 0\n",
      " 30%|██▉       | 232/780 [53:50<2:08:57, 14.12s/it]19:34:04 - cmdstanpy - INFO - Chain [1] start processing\n",
      "19:34:04 - cmdstanpy - INFO - Chain [1] done processing\n",
      "C:\\Users\\waldo\\AppData\\Local\\Temp\\ipykernel_44800\\1165039906.py:39: SettingWithCopyWarning: \n",
      "A value is trying to be set on a copy of a slice from a DataFrame.\n",
      "Try using .loc[row_indexer,col_indexer] = value instead\n",
      "\n",
      "See the caveats in the documentation: https://pandas.pydata.org/pandas-docs/stable/user_guide/indexing.html#returning-a-view-versus-a-copy\n",
      "  componentes['seasonal_prophet'] = 0\n",
      " 30%|██▉       | 233/780 [53:56<1:47:59, 11.85s/it]19:34:10 - cmdstanpy - INFO - Chain [1] start processing\n",
      "19:34:10 - cmdstanpy - INFO - Chain [1] done processing\n",
      "C:\\Users\\waldo\\AppData\\Local\\Temp\\ipykernel_44800\\1165039906.py:39: SettingWithCopyWarning: \n",
      "A value is trying to be set on a copy of a slice from a DataFrame.\n",
      "Try using .loc[row_indexer,col_indexer] = value instead\n",
      "\n",
      "See the caveats in the documentation: https://pandas.pydata.org/pandas-docs/stable/user_guide/indexing.html#returning-a-view-versus-a-copy\n",
      "  componentes['seasonal_prophet'] = 0\n",
      " 30%|███       | 234/780 [54:00<1:27:01,  9.56s/it]19:34:15 - cmdstanpy - INFO - Chain [1] start processing\n",
      "19:34:15 - cmdstanpy - INFO - Chain [1] done processing\n",
      "C:\\Users\\waldo\\AppData\\Local\\Temp\\ipykernel_44800\\1165039906.py:39: SettingWithCopyWarning: \n",
      "A value is trying to be set on a copy of a slice from a DataFrame.\n",
      "Try using .loc[row_indexer,col_indexer] = value instead\n",
      "\n",
      "See the caveats in the documentation: https://pandas.pydata.org/pandas-docs/stable/user_guide/indexing.html#returning-a-view-versus-a-copy\n",
      "  componentes['seasonal_prophet'] = 0\n",
      " 30%|███       | 235/780 [54:08<1:20:53,  8.90s/it]19:34:22 - cmdstanpy - INFO - Chain [1] start processing\n",
      "19:34:23 - cmdstanpy - INFO - Chain [1] done processing\n",
      "C:\\Users\\waldo\\AppData\\Local\\Temp\\ipykernel_44800\\1165039906.py:39: SettingWithCopyWarning: \n",
      "A value is trying to be set on a copy of a slice from a DataFrame.\n",
      "Try using .loc[row_indexer,col_indexer] = value instead\n",
      "\n",
      "See the caveats in the documentation: https://pandas.pydata.org/pandas-docs/stable/user_guide/indexing.html#returning-a-view-versus-a-copy\n",
      "  componentes['seasonal_prophet'] = 0\n",
      " 30%|███       | 236/780 [54:17<1:21:28,  8.99s/it]19:34:32 - cmdstanpy - INFO - Chain [1] start processing\n",
      "19:34:32 - cmdstanpy - INFO - Chain [1] done processing\n",
      "C:\\Users\\waldo\\AppData\\Local\\Temp\\ipykernel_44800\\1165039906.py:39: SettingWithCopyWarning: \n",
      "A value is trying to be set on a copy of a slice from a DataFrame.\n",
      "Try using .loc[row_indexer,col_indexer] = value instead\n",
      "\n",
      "See the caveats in the documentation: https://pandas.pydata.org/pandas-docs/stable/user_guide/indexing.html#returning-a-view-versus-a-copy\n",
      "  componentes['seasonal_prophet'] = 0\n",
      " 30%|███       | 237/780 [54:33<1:41:37, 11.23s/it]19:34:48 - cmdstanpy - INFO - Chain [1] start processing\n",
      "19:34:48 - cmdstanpy - INFO - Chain [1] done processing\n",
      "C:\\Users\\waldo\\AppData\\Local\\Temp\\ipykernel_44800\\1165039906.py:39: SettingWithCopyWarning: \n",
      "A value is trying to be set on a copy of a slice from a DataFrame.\n",
      "Try using .loc[row_indexer,col_indexer] = value instead\n",
      "\n",
      "See the caveats in the documentation: https://pandas.pydata.org/pandas-docs/stable/user_guide/indexing.html#returning-a-view-versus-a-copy\n",
      "  componentes['seasonal_prophet'] = 0\n",
      " 31%|███       | 238/780 [54:41<1:31:25, 10.12s/it]19:34:56 - cmdstanpy - INFO - Chain [1] start processing\n",
      "19:34:56 - cmdstanpy - INFO - Chain [1] done processing\n",
      "C:\\Users\\waldo\\AppData\\Local\\Temp\\ipykernel_44800\\1165039906.py:39: SettingWithCopyWarning: \n",
      "A value is trying to be set on a copy of a slice from a DataFrame.\n",
      "Try using .loc[row_indexer,col_indexer] = value instead\n",
      "\n",
      "See the caveats in the documentation: https://pandas.pydata.org/pandas-docs/stable/user_guide/indexing.html#returning-a-view-versus-a-copy\n",
      "  componentes['seasonal_prophet'] = 0\n",
      " 31%|███       | 239/780 [55:00<1:55:52, 12.85s/it]19:35:15 - cmdstanpy - INFO - Chain [1] start processing\n",
      "19:35:15 - cmdstanpy - INFO - Chain [1] done processing\n",
      "C:\\Users\\waldo\\AppData\\Local\\Temp\\ipykernel_44800\\1165039906.py:39: SettingWithCopyWarning: \n",
      "A value is trying to be set on a copy of a slice from a DataFrame.\n",
      "Try using .loc[row_indexer,col_indexer] = value instead\n",
      "\n",
      "See the caveats in the documentation: https://pandas.pydata.org/pandas-docs/stable/user_guide/indexing.html#returning-a-view-versus-a-copy\n",
      "  componentes['seasonal_prophet'] = 0\n",
      " 31%|███       | 240/780 [55:08<1:40:55, 11.21s/it]19:35:23 - cmdstanpy - INFO - Chain [1] start processing\n",
      "19:35:23 - cmdstanpy - INFO - Chain [1] done processing\n",
      "C:\\Users\\waldo\\AppData\\Local\\Temp\\ipykernel_44800\\1165039906.py:39: SettingWithCopyWarning: \n",
      "A value is trying to be set on a copy of a slice from a DataFrame.\n",
      "Try using .loc[row_indexer,col_indexer] = value instead\n",
      "\n",
      "See the caveats in the documentation: https://pandas.pydata.org/pandas-docs/stable/user_guide/indexing.html#returning-a-view-versus-a-copy\n",
      "  componentes['seasonal_prophet'] = 0\n",
      " 31%|███       | 241/780 [55:31<2:12:40, 14.77s/it]19:35:45 - cmdstanpy - INFO - Chain [1] start processing\n",
      "19:35:46 - cmdstanpy - INFO - Chain [1] done processing\n",
      "C:\\Users\\waldo\\AppData\\Local\\Temp\\ipykernel_44800\\1165039906.py:39: SettingWithCopyWarning: \n",
      "A value is trying to be set on a copy of a slice from a DataFrame.\n",
      "Try using .loc[row_indexer,col_indexer] = value instead\n",
      "\n",
      "See the caveats in the documentation: https://pandas.pydata.org/pandas-docs/stable/user_guide/indexing.html#returning-a-view-versus-a-copy\n",
      "  componentes['seasonal_prophet'] = 0\n",
      " 31%|███       | 242/780 [55:42<2:04:22, 13.87s/it]19:35:57 - cmdstanpy - INFO - Chain [1] start processing\n",
      "19:35:57 - cmdstanpy - INFO - Chain [1] done processing\n",
      "C:\\Users\\waldo\\AppData\\Local\\Temp\\ipykernel_44800\\1165039906.py:39: SettingWithCopyWarning: \n",
      "A value is trying to be set on a copy of a slice from a DataFrame.\n",
      "Try using .loc[row_indexer,col_indexer] = value instead\n",
      "\n",
      "See the caveats in the documentation: https://pandas.pydata.org/pandas-docs/stable/user_guide/indexing.html#returning-a-view-versus-a-copy\n",
      "  componentes['seasonal_prophet'] = 0\n",
      " 31%|███       | 243/780 [55:52<1:53:18, 12.66s/it]19:36:06 - cmdstanpy - INFO - Chain [1] start processing\n",
      "19:36:07 - cmdstanpy - INFO - Chain [1] done processing\n",
      "C:\\Users\\waldo\\AppData\\Local\\Temp\\ipykernel_44800\\1165039906.py:39: SettingWithCopyWarning: \n",
      "A value is trying to be set on a copy of a slice from a DataFrame.\n",
      "Try using .loc[row_indexer,col_indexer] = value instead\n",
      "\n",
      "See the caveats in the documentation: https://pandas.pydata.org/pandas-docs/stable/user_guide/indexing.html#returning-a-view-versus-a-copy\n",
      "  componentes['seasonal_prophet'] = 0\n",
      " 31%|███▏      | 244/780 [55:59<1:36:41, 10.82s/it]19:36:14 - cmdstanpy - INFO - Chain [1] start processing\n",
      "19:36:15 - cmdstanpy - INFO - Chain [1] done processing\n",
      "C:\\Users\\waldo\\AppData\\Local\\Temp\\ipykernel_44800\\1165039906.py:39: SettingWithCopyWarning: \n",
      "A value is trying to be set on a copy of a slice from a DataFrame.\n",
      "Try using .loc[row_indexer,col_indexer] = value instead\n",
      "\n",
      "See the caveats in the documentation: https://pandas.pydata.org/pandas-docs/stable/user_guide/indexing.html#returning-a-view-versus-a-copy\n",
      "  componentes['seasonal_prophet'] = 0\n",
      " 31%|███▏      | 245/780 [56:23<2:12:58, 14.91s/it]19:36:38 - cmdstanpy - INFO - Chain [1] start processing\n",
      "19:36:38 - cmdstanpy - INFO - Chain [1] done processing\n",
      "C:\\Users\\waldo\\AppData\\Local\\Temp\\ipykernel_44800\\1165039906.py:39: SettingWithCopyWarning: \n",
      "A value is trying to be set on a copy of a slice from a DataFrame.\n",
      "Try using .loc[row_indexer,col_indexer] = value instead\n",
      "\n",
      "See the caveats in the documentation: https://pandas.pydata.org/pandas-docs/stable/user_guide/indexing.html#returning-a-view-versus-a-copy\n",
      "  componentes['seasonal_prophet'] = 0\n",
      " 32%|███▏      | 246/780 [56:42<2:21:45, 15.93s/it]19:36:56 - cmdstanpy - INFO - Chain [1] start processing\n",
      "19:36:56 - cmdstanpy - INFO - Chain [1] done processing\n",
      "C:\\Users\\waldo\\AppData\\Local\\Temp\\ipykernel_44800\\1165039906.py:39: SettingWithCopyWarning: \n",
      "A value is trying to be set on a copy of a slice from a DataFrame.\n",
      "Try using .loc[row_indexer,col_indexer] = value instead\n",
      "\n",
      "See the caveats in the documentation: https://pandas.pydata.org/pandas-docs/stable/user_guide/indexing.html#returning-a-view-versus-a-copy\n",
      "  componentes['seasonal_prophet'] = 0\n",
      " 32%|███▏      | 247/780 [56:56<2:16:50, 15.40s/it]19:37:10 - cmdstanpy - INFO - Chain [1] start processing\n",
      "19:37:10 - cmdstanpy - INFO - Chain [1] done processing\n",
      "C:\\Users\\waldo\\AppData\\Local\\Temp\\ipykernel_44800\\1165039906.py:39: SettingWithCopyWarning: \n",
      "A value is trying to be set on a copy of a slice from a DataFrame.\n",
      "Try using .loc[row_indexer,col_indexer] = value instead\n",
      "\n",
      "See the caveats in the documentation: https://pandas.pydata.org/pandas-docs/stable/user_guide/indexing.html#returning-a-view-versus-a-copy\n",
      "  componentes['seasonal_prophet'] = 0\n",
      " 32%|███▏      | 248/780 [57:07<2:04:34, 14.05s/it]19:37:21 - cmdstanpy - INFO - Chain [1] start processing\n",
      "19:37:21 - cmdstanpy - INFO - Chain [1] done processing\n",
      "C:\\Users\\waldo\\AppData\\Local\\Temp\\ipykernel_44800\\1165039906.py:39: SettingWithCopyWarning: \n",
      "A value is trying to be set on a copy of a slice from a DataFrame.\n",
      "Try using .loc[row_indexer,col_indexer] = value instead\n",
      "\n",
      "See the caveats in the documentation: https://pandas.pydata.org/pandas-docs/stable/user_guide/indexing.html#returning-a-view-versus-a-copy\n",
      "  componentes['seasonal_prophet'] = 0\n",
      " 32%|███▏      | 249/780 [57:12<1:40:27, 11.35s/it]19:37:26 - cmdstanpy - INFO - Chain [1] start processing\n",
      "19:37:27 - cmdstanpy - INFO - Chain [1] done processing\n",
      "C:\\Users\\waldo\\AppData\\Local\\Temp\\ipykernel_44800\\1165039906.py:39: SettingWithCopyWarning: \n",
      "A value is trying to be set on a copy of a slice from a DataFrame.\n",
      "Try using .loc[row_indexer,col_indexer] = value instead\n",
      "\n",
      "See the caveats in the documentation: https://pandas.pydata.org/pandas-docs/stable/user_guide/indexing.html#returning-a-view-versus-a-copy\n",
      "  componentes['seasonal_prophet'] = 0\n",
      " 32%|███▏      | 250/780 [57:26<1:46:53, 12.10s/it]19:37:40 - cmdstanpy - INFO - Chain [1] start processing\n",
      "19:37:40 - cmdstanpy - INFO - Chain [1] done processing\n",
      "C:\\Users\\waldo\\AppData\\Local\\Temp\\ipykernel_44800\\1165039906.py:39: SettingWithCopyWarning: \n",
      "A value is trying to be set on a copy of a slice from a DataFrame.\n",
      "Try using .loc[row_indexer,col_indexer] = value instead\n",
      "\n",
      "See the caveats in the documentation: https://pandas.pydata.org/pandas-docs/stable/user_guide/indexing.html#returning-a-view-versus-a-copy\n",
      "  componentes['seasonal_prophet'] = 0\n",
      " 32%|███▏      | 251/780 [57:38<1:47:02, 12.14s/it]19:37:53 - cmdstanpy - INFO - Chain [1] start processing\n",
      "19:37:53 - cmdstanpy - INFO - Chain [1] done processing\n",
      "C:\\Users\\waldo\\AppData\\Local\\Temp\\ipykernel_44800\\1165039906.py:39: SettingWithCopyWarning: \n",
      "A value is trying to be set on a copy of a slice from a DataFrame.\n",
      "Try using .loc[row_indexer,col_indexer] = value instead\n",
      "\n",
      "See the caveats in the documentation: https://pandas.pydata.org/pandas-docs/stable/user_guide/indexing.html#returning-a-view-versus-a-copy\n",
      "  componentes['seasonal_prophet'] = 0\n",
      " 32%|███▏      | 252/780 [58:01<2:15:43, 15.42s/it]19:38:16 - cmdstanpy - INFO - Chain [1] start processing\n",
      "19:38:16 - cmdstanpy - INFO - Chain [1] done processing\n",
      "C:\\Users\\waldo\\AppData\\Local\\Temp\\ipykernel_44800\\1165039906.py:39: SettingWithCopyWarning: \n",
      "A value is trying to be set on a copy of a slice from a DataFrame.\n",
      "Try using .loc[row_indexer,col_indexer] = value instead\n",
      "\n",
      "See the caveats in the documentation: https://pandas.pydata.org/pandas-docs/stable/user_guide/indexing.html#returning-a-view-versus-a-copy\n",
      "  componentes['seasonal_prophet'] = 0\n",
      " 32%|███▏      | 253/780 [58:22<2:29:33, 17.03s/it]19:38:36 - cmdstanpy - INFO - Chain [1] start processing\n",
      "19:38:36 - cmdstanpy - INFO - Chain [1] done processing\n",
      "C:\\Users\\waldo\\AppData\\Local\\Temp\\ipykernel_44800\\1165039906.py:39: SettingWithCopyWarning: \n",
      "A value is trying to be set on a copy of a slice from a DataFrame.\n",
      "Try using .loc[row_indexer,col_indexer] = value instead\n",
      "\n",
      "See the caveats in the documentation: https://pandas.pydata.org/pandas-docs/stable/user_guide/indexing.html#returning-a-view-versus-a-copy\n",
      "  componentes['seasonal_prophet'] = 0\n",
      " 33%|███▎      | 254/780 [58:33<2:13:17, 15.20s/it]19:38:47 - cmdstanpy - INFO - Chain [1] start processing\n",
      "19:38:47 - cmdstanpy - INFO - Chain [1] done processing\n",
      "C:\\Users\\waldo\\AppData\\Local\\Temp\\ipykernel_44800\\1165039906.py:39: SettingWithCopyWarning: \n",
      "A value is trying to be set on a copy of a slice from a DataFrame.\n",
      "Try using .loc[row_indexer,col_indexer] = value instead\n",
      "\n",
      "See the caveats in the documentation: https://pandas.pydata.org/pandas-docs/stable/user_guide/indexing.html#returning-a-view-versus-a-copy\n",
      "  componentes['seasonal_prophet'] = 0\n",
      " 33%|███▎      | 255/780 [58:42<1:58:02, 13.49s/it]19:38:56 - cmdstanpy - INFO - Chain [1] start processing\n",
      "19:38:56 - cmdstanpy - INFO - Chain [1] done processing\n",
      "C:\\Users\\waldo\\AppData\\Local\\Temp\\ipykernel_44800\\1165039906.py:39: SettingWithCopyWarning: \n",
      "A value is trying to be set on a copy of a slice from a DataFrame.\n",
      "Try using .loc[row_indexer,col_indexer] = value instead\n",
      "\n",
      "See the caveats in the documentation: https://pandas.pydata.org/pandas-docs/stable/user_guide/indexing.html#returning-a-view-versus-a-copy\n",
      "  componentes['seasonal_prophet'] = 0\n",
      " 33%|███▎      | 256/780 [58:45<1:29:42, 10.27s/it]19:38:59 - cmdstanpy - INFO - Chain [1] start processing\n",
      "19:38:59 - cmdstanpy - INFO - Chain [1] done processing\n",
      "C:\\Users\\waldo\\AppData\\Local\\Temp\\ipykernel_44800\\1165039906.py:39: SettingWithCopyWarning: \n",
      "A value is trying to be set on a copy of a slice from a DataFrame.\n",
      "Try using .loc[row_indexer,col_indexer] = value instead\n",
      "\n",
      "See the caveats in the documentation: https://pandas.pydata.org/pandas-docs/stable/user_guide/indexing.html#returning-a-view-versus-a-copy\n",
      "  componentes['seasonal_prophet'] = 0\n",
      " 33%|███▎      | 257/780 [58:54<1:27:46, 10.07s/it]19:39:09 - cmdstanpy - INFO - Chain [1] start processing\n",
      "19:39:10 - cmdstanpy - INFO - Chain [1] done processing\n",
      "C:\\Users\\waldo\\AppData\\Local\\Temp\\ipykernel_44800\\1165039906.py:39: SettingWithCopyWarning: \n",
      "A value is trying to be set on a copy of a slice from a DataFrame.\n",
      "Try using .loc[row_indexer,col_indexer] = value instead\n",
      "\n",
      "See the caveats in the documentation: https://pandas.pydata.org/pandas-docs/stable/user_guide/indexing.html#returning-a-view-versus-a-copy\n",
      "  componentes['seasonal_prophet'] = 0\n",
      " 33%|███▎      | 258/780 [59:16<1:57:51, 13.55s/it]19:39:31 - cmdstanpy - INFO - Chain [1] start processing\n",
      "19:39:31 - cmdstanpy - INFO - Chain [1] done processing\n",
      "C:\\Users\\waldo\\AppData\\Local\\Temp\\ipykernel_44800\\1165039906.py:39: SettingWithCopyWarning: \n",
      "A value is trying to be set on a copy of a slice from a DataFrame.\n",
      "Try using .loc[row_indexer,col_indexer] = value instead\n",
      "\n",
      "See the caveats in the documentation: https://pandas.pydata.org/pandas-docs/stable/user_guide/indexing.html#returning-a-view-versus-a-copy\n",
      "  componentes['seasonal_prophet'] = 0\n",
      " 33%|███▎      | 259/780 [59:36<2:12:53, 15.30s/it]19:39:50 - cmdstanpy - INFO - Chain [1] start processing\n",
      "19:39:50 - cmdstanpy - INFO - Chain [1] done processing\n",
      "C:\\Users\\waldo\\AppData\\Local\\Temp\\ipykernel_44800\\1165039906.py:39: SettingWithCopyWarning: \n",
      "A value is trying to be set on a copy of a slice from a DataFrame.\n",
      "Try using .loc[row_indexer,col_indexer] = value instead\n",
      "\n",
      "See the caveats in the documentation: https://pandas.pydata.org/pandas-docs/stable/user_guide/indexing.html#returning-a-view-versus-a-copy\n",
      "  componentes['seasonal_prophet'] = 0\n",
      " 33%|███▎      | 260/780 [59:53<2:17:03, 15.81s/it]19:40:07 - cmdstanpy - INFO - Chain [1] start processing\n",
      "19:40:07 - cmdstanpy - INFO - Chain [1] done processing\n",
      "C:\\Users\\waldo\\AppData\\Local\\Temp\\ipykernel_44800\\1165039906.py:39: SettingWithCopyWarning: \n",
      "A value is trying to be set on a copy of a slice from a DataFrame.\n",
      "Try using .loc[row_indexer,col_indexer] = value instead\n",
      "\n",
      "See the caveats in the documentation: https://pandas.pydata.org/pandas-docs/stable/user_guide/indexing.html#returning-a-view-versus-a-copy\n",
      "  componentes['seasonal_prophet'] = 0\n",
      " 33%|███▎      | 261/780 [1:00:02<2:01:38, 14.06s/it]19:40:17 - cmdstanpy - INFO - Chain [1] start processing\n",
      "19:40:18 - cmdstanpy - INFO - Chain [1] done processing\n",
      "C:\\Users\\waldo\\AppData\\Local\\Temp\\ipykernel_44800\\1165039906.py:39: SettingWithCopyWarning: \n",
      "A value is trying to be set on a copy of a slice from a DataFrame.\n",
      "Try using .loc[row_indexer,col_indexer] = value instead\n",
      "\n",
      "See the caveats in the documentation: https://pandas.pydata.org/pandas-docs/stable/user_guide/indexing.html#returning-a-view-versus-a-copy\n",
      "  componentes['seasonal_prophet'] = 0\n",
      " 34%|███▎      | 262/780 [1:00:26<2:25:30, 16.85s/it]19:40:41 - cmdstanpy - INFO - Chain [1] start processing\n",
      "19:40:41 - cmdstanpy - INFO - Chain [1] done processing\n",
      "C:\\Users\\waldo\\AppData\\Local\\Temp\\ipykernel_44800\\1165039906.py:39: SettingWithCopyWarning: \n",
      "A value is trying to be set on a copy of a slice from a DataFrame.\n",
      "Try using .loc[row_indexer,col_indexer] = value instead\n",
      "\n",
      "See the caveats in the documentation: https://pandas.pydata.org/pandas-docs/stable/user_guide/indexing.html#returning-a-view-versus-a-copy\n",
      "  componentes['seasonal_prophet'] = 0\n",
      " 34%|███▎      | 263/780 [1:00:45<2:31:55, 17.63s/it]19:41:00 - cmdstanpy - INFO - Chain [1] start processing\n",
      "19:41:00 - cmdstanpy - INFO - Chain [1] done processing\n",
      "C:\\Users\\waldo\\AppData\\Local\\Temp\\ipykernel_44800\\1165039906.py:39: SettingWithCopyWarning: \n",
      "A value is trying to be set on a copy of a slice from a DataFrame.\n",
      "Try using .loc[row_indexer,col_indexer] = value instead\n",
      "\n",
      "See the caveats in the documentation: https://pandas.pydata.org/pandas-docs/stable/user_guide/indexing.html#returning-a-view-versus-a-copy\n",
      "  componentes['seasonal_prophet'] = 0\n",
      " 34%|███▍      | 264/780 [1:00:51<2:00:31, 14.01s/it]19:41:05 - cmdstanpy - INFO - Chain [1] start processing\n",
      "19:41:05 - cmdstanpy - INFO - Chain [1] done processing\n",
      "C:\\Users\\waldo\\AppData\\Local\\Temp\\ipykernel_44800\\1165039906.py:39: SettingWithCopyWarning: \n",
      "A value is trying to be set on a copy of a slice from a DataFrame.\n",
      "Try using .loc[row_indexer,col_indexer] = value instead\n",
      "\n",
      "See the caveats in the documentation: https://pandas.pydata.org/pandas-docs/stable/user_guide/indexing.html#returning-a-view-versus-a-copy\n",
      "  componentes['seasonal_prophet'] = 0\n",
      " 34%|███▍      | 265/780 [1:00:56<1:36:12, 11.21s/it]19:41:10 - cmdstanpy - INFO - Chain [1] start processing\n",
      "19:41:11 - cmdstanpy - INFO - Chain [1] done processing\n",
      "C:\\Users\\waldo\\AppData\\Local\\Temp\\ipykernel_44800\\1165039906.py:39: SettingWithCopyWarning: \n",
      "A value is trying to be set on a copy of a slice from a DataFrame.\n",
      "Try using .loc[row_indexer,col_indexer] = value instead\n",
      "\n",
      "See the caveats in the documentation: https://pandas.pydata.org/pandas-docs/stable/user_guide/indexing.html#returning-a-view-versus-a-copy\n",
      "  componentes['seasonal_prophet'] = 0\n",
      " 34%|███▍      | 266/780 [1:01:14<1:54:36, 13.38s/it]19:41:28 - cmdstanpy - INFO - Chain [1] start processing\n",
      "19:41:28 - cmdstanpy - INFO - Chain [1] done processing\n",
      "C:\\Users\\waldo\\AppData\\Local\\Temp\\ipykernel_44800\\1165039906.py:39: SettingWithCopyWarning: \n",
      "A value is trying to be set on a copy of a slice from a DataFrame.\n",
      "Try using .loc[row_indexer,col_indexer] = value instead\n",
      "\n",
      "See the caveats in the documentation: https://pandas.pydata.org/pandas-docs/stable/user_guide/indexing.html#returning-a-view-versus-a-copy\n",
      "  componentes['seasonal_prophet'] = 0\n",
      " 34%|███▍      | 267/780 [1:01:20<1:35:38, 11.19s/it]19:41:35 - cmdstanpy - INFO - Chain [1] start processing\n",
      "19:41:36 - cmdstanpy - INFO - Chain [1] done processing\n",
      "C:\\Users\\waldo\\AppData\\Local\\Temp\\ipykernel_44800\\1165039906.py:39: SettingWithCopyWarning: \n",
      "A value is trying to be set on a copy of a slice from a DataFrame.\n",
      "Try using .loc[row_indexer,col_indexer] = value instead\n",
      "\n",
      "See the caveats in the documentation: https://pandas.pydata.org/pandas-docs/stable/user_guide/indexing.html#returning-a-view-versus-a-copy\n",
      "  componentes['seasonal_prophet'] = 0\n",
      " 34%|███▍      | 268/780 [1:01:46<2:14:25, 15.75s/it]19:42:01 - cmdstanpy - INFO - Chain [1] start processing\n",
      "19:42:01 - cmdstanpy - INFO - Chain [1] done processing\n",
      "C:\\Users\\waldo\\AppData\\Local\\Temp\\ipykernel_44800\\1165039906.py:39: SettingWithCopyWarning: \n",
      "A value is trying to be set on a copy of a slice from a DataFrame.\n",
      "Try using .loc[row_indexer,col_indexer] = value instead\n",
      "\n",
      "See the caveats in the documentation: https://pandas.pydata.org/pandas-docs/stable/user_guide/indexing.html#returning-a-view-versus-a-copy\n",
      "  componentes['seasonal_prophet'] = 0\n",
      " 34%|███▍      | 269/780 [1:02:01<2:11:29, 15.44s/it]19:42:16 - cmdstanpy - INFO - Chain [1] start processing\n",
      "19:42:16 - cmdstanpy - INFO - Chain [1] done processing\n",
      "C:\\Users\\waldo\\AppData\\Local\\Temp\\ipykernel_44800\\1165039906.py:39: SettingWithCopyWarning: \n",
      "A value is trying to be set on a copy of a slice from a DataFrame.\n",
      "Try using .loc[row_indexer,col_indexer] = value instead\n",
      "\n",
      "See the caveats in the documentation: https://pandas.pydata.org/pandas-docs/stable/user_guide/indexing.html#returning-a-view-versus-a-copy\n",
      "  componentes['seasonal_prophet'] = 0\n",
      " 35%|███▍      | 270/780 [1:02:08<1:50:27, 13.00s/it]19:42:23 - cmdstanpy - INFO - Chain [1] start processing\n",
      "19:42:23 - cmdstanpy - INFO - Chain [1] done processing\n",
      "C:\\Users\\waldo\\AppData\\Local\\Temp\\ipykernel_44800\\1165039906.py:39: SettingWithCopyWarning: \n",
      "A value is trying to be set on a copy of a slice from a DataFrame.\n",
      "Try using .loc[row_indexer,col_indexer] = value instead\n",
      "\n",
      "See the caveats in the documentation: https://pandas.pydata.org/pandas-docs/stable/user_guide/indexing.html#returning-a-view-versus-a-copy\n",
      "  componentes['seasonal_prophet'] = 0\n",
      " 35%|███▍      | 271/780 [1:02:23<1:53:41, 13.40s/it]19:42:36 - cmdstanpy - INFO - Chain [1] start processing\n",
      "19:42:37 - cmdstanpy - INFO - Chain [1] done processing\n",
      "C:\\Users\\waldo\\AppData\\Local\\Temp\\ipykernel_44800\\1165039906.py:39: SettingWithCopyWarning: \n",
      "A value is trying to be set on a copy of a slice from a DataFrame.\n",
      "Try using .loc[row_indexer,col_indexer] = value instead\n",
      "\n",
      "See the caveats in the documentation: https://pandas.pydata.org/pandas-docs/stable/user_guide/indexing.html#returning-a-view-versus-a-copy\n",
      "  componentes['seasonal_prophet'] = 0\n",
      " 35%|███▍      | 272/780 [1:02:35<1:49:16, 12.91s/it]19:42:48 - cmdstanpy - INFO - Chain [1] start processing\n",
      "19:42:48 - cmdstanpy - INFO - Chain [1] done processing\n",
      "C:\\Users\\waldo\\AppData\\Local\\Temp\\ipykernel_44800\\1165039906.py:39: SettingWithCopyWarning: \n",
      "A value is trying to be set on a copy of a slice from a DataFrame.\n",
      "Try using .loc[row_indexer,col_indexer] = value instead\n",
      "\n",
      "See the caveats in the documentation: https://pandas.pydata.org/pandas-docs/stable/user_guide/indexing.html#returning-a-view-versus-a-copy\n",
      "  componentes['seasonal_prophet'] = 0\n",
      " 35%|███▌      | 273/780 [1:02:41<1:32:54, 11.00s/it]19:42:55 - cmdstanpy - INFO - Chain [1] start processing\n",
      "19:42:55 - cmdstanpy - INFO - Chain [1] done processing\n",
      "C:\\Users\\waldo\\AppData\\Local\\Temp\\ipykernel_44800\\1165039906.py:39: SettingWithCopyWarning: \n",
      "A value is trying to be set on a copy of a slice from a DataFrame.\n",
      "Try using .loc[row_indexer,col_indexer] = value instead\n",
      "\n",
      "See the caveats in the documentation: https://pandas.pydata.org/pandas-docs/stable/user_guide/indexing.html#returning-a-view-versus-a-copy\n",
      "  componentes['seasonal_prophet'] = 0\n",
      " 35%|███▌      | 274/780 [1:02:45<1:15:43,  8.98s/it]19:42:59 - cmdstanpy - INFO - Chain [1] start processing\n",
      "19:42:59 - cmdstanpy - INFO - Chain [1] done processing\n",
      "C:\\Users\\waldo\\AppData\\Local\\Temp\\ipykernel_44800\\1165039906.py:39: SettingWithCopyWarning: \n",
      "A value is trying to be set on a copy of a slice from a DataFrame.\n",
      "Try using .loc[row_indexer,col_indexer] = value instead\n",
      "\n",
      "See the caveats in the documentation: https://pandas.pydata.org/pandas-docs/stable/user_guide/indexing.html#returning-a-view-versus-a-copy\n",
      "  componentes['seasonal_prophet'] = 0\n",
      " 35%|███▌      | 275/780 [1:02:50<1:03:19,  7.52s/it]19:43:03 - cmdstanpy - INFO - Chain [1] start processing\n",
      "19:43:04 - cmdstanpy - INFO - Chain [1] done processing\n",
      "C:\\Users\\waldo\\AppData\\Local\\Temp\\ipykernel_44800\\1165039906.py:39: SettingWithCopyWarning: \n",
      "A value is trying to be set on a copy of a slice from a DataFrame.\n",
      "Try using .loc[row_indexer,col_indexer] = value instead\n",
      "\n",
      "See the caveats in the documentation: https://pandas.pydata.org/pandas-docs/stable/user_guide/indexing.html#returning-a-view-versus-a-copy\n",
      "  componentes['seasonal_prophet'] = 0\n",
      " 35%|███▌      | 276/780 [1:03:00<1:10:10,  8.35s/it]19:43:13 - cmdstanpy - INFO - Chain [1] start processing\n",
      "19:43:14 - cmdstanpy - INFO - Chain [1] done processing\n",
      "C:\\Users\\waldo\\AppData\\Local\\Temp\\ipykernel_44800\\1165039906.py:39: SettingWithCopyWarning: \n",
      "A value is trying to be set on a copy of a slice from a DataFrame.\n",
      "Try using .loc[row_indexer,col_indexer] = value instead\n",
      "\n",
      "See the caveats in the documentation: https://pandas.pydata.org/pandas-docs/stable/user_guide/indexing.html#returning-a-view-versus-a-copy\n",
      "  componentes['seasonal_prophet'] = 0\n",
      " 36%|███▌      | 277/780 [1:03:06<1:05:09,  7.77s/it]19:43:20 - cmdstanpy - INFO - Chain [1] start processing\n",
      "19:43:20 - cmdstanpy - INFO - Chain [1] done processing\n",
      "C:\\Users\\waldo\\AppData\\Local\\Temp\\ipykernel_44800\\1165039906.py:39: SettingWithCopyWarning: \n",
      "A value is trying to be set on a copy of a slice from a DataFrame.\n",
      "Try using .loc[row_indexer,col_indexer] = value instead\n",
      "\n",
      "See the caveats in the documentation: https://pandas.pydata.org/pandas-docs/stable/user_guide/indexing.html#returning-a-view-versus-a-copy\n",
      "  componentes['seasonal_prophet'] = 0\n",
      " 36%|███▌      | 278/780 [1:03:16<1:10:48,  8.46s/it]19:43:30 - cmdstanpy - INFO - Chain [1] start processing\n",
      "19:43:30 - cmdstanpy - INFO - Chain [1] done processing\n",
      "C:\\Users\\waldo\\AppData\\Local\\Temp\\ipykernel_44800\\1165039906.py:39: SettingWithCopyWarning: \n",
      "A value is trying to be set on a copy of a slice from a DataFrame.\n",
      "Try using .loc[row_indexer,col_indexer] = value instead\n",
      "\n",
      "See the caveats in the documentation: https://pandas.pydata.org/pandas-docs/stable/user_guide/indexing.html#returning-a-view-versus-a-copy\n",
      "  componentes['seasonal_prophet'] = 0\n",
      " 36%|███▌      | 279/780 [1:03:20<59:50,  7.17s/it]  19:43:34 - cmdstanpy - INFO - Chain [1] start processing\n",
      "19:43:34 - cmdstanpy - INFO - Chain [1] done processing\n",
      "C:\\Users\\waldo\\AppData\\Local\\Temp\\ipykernel_44800\\1165039906.py:39: SettingWithCopyWarning: \n",
      "A value is trying to be set on a copy of a slice from a DataFrame.\n",
      "Try using .loc[row_indexer,col_indexer] = value instead\n",
      "\n",
      "See the caveats in the documentation: https://pandas.pydata.org/pandas-docs/stable/user_guide/indexing.html#returning-a-view-versus-a-copy\n",
      "  componentes['seasonal_prophet'] = 0\n",
      " 36%|███▌      | 280/780 [1:03:25<52:47,  6.33s/it]19:43:38 - cmdstanpy - INFO - Chain [1] start processing\n",
      "19:43:39 - cmdstanpy - INFO - Chain [1] done processing\n",
      "C:\\Users\\waldo\\AppData\\Local\\Temp\\ipykernel_44800\\1165039906.py:39: SettingWithCopyWarning: \n",
      "A value is trying to be set on a copy of a slice from a DataFrame.\n",
      "Try using .loc[row_indexer,col_indexer] = value instead\n",
      "\n",
      "See the caveats in the documentation: https://pandas.pydata.org/pandas-docs/stable/user_guide/indexing.html#returning-a-view-versus-a-copy\n",
      "  componentes['seasonal_prophet'] = 0\n",
      " 36%|███▌      | 281/780 [1:03:29<46:26,  5.58s/it]19:43:42 - cmdstanpy - INFO - Chain [1] start processing\n",
      "19:43:43 - cmdstanpy - INFO - Chain [1] done processing\n",
      "C:\\Users\\waldo\\AppData\\Local\\Temp\\ipykernel_44800\\1165039906.py:39: SettingWithCopyWarning: \n",
      "A value is trying to be set on a copy of a slice from a DataFrame.\n",
      "Try using .loc[row_indexer,col_indexer] = value instead\n",
      "\n",
      "See the caveats in the documentation: https://pandas.pydata.org/pandas-docs/stable/user_guide/indexing.html#returning-a-view-versus-a-copy\n",
      "  componentes['seasonal_prophet'] = 0\n",
      " 36%|███▌      | 282/780 [1:03:35<49:06,  5.92s/it]19:43:49 - cmdstanpy - INFO - Chain [1] start processing\n",
      "19:43:49 - cmdstanpy - INFO - Chain [1] done processing\n",
      "C:\\Users\\waldo\\AppData\\Local\\Temp\\ipykernel_44800\\1165039906.py:39: SettingWithCopyWarning: \n",
      "A value is trying to be set on a copy of a slice from a DataFrame.\n",
      "Try using .loc[row_indexer,col_indexer] = value instead\n",
      "\n",
      "See the caveats in the documentation: https://pandas.pydata.org/pandas-docs/stable/user_guide/indexing.html#returning-a-view-versus-a-copy\n",
      "  componentes['seasonal_prophet'] = 0\n",
      " 36%|███▋      | 283/780 [1:03:39<43:58,  5.31s/it]19:43:53 - cmdstanpy - INFO - Chain [1] start processing\n",
      "19:43:53 - cmdstanpy - INFO - Chain [1] done processing\n",
      "C:\\Users\\waldo\\AppData\\Local\\Temp\\ipykernel_44800\\1165039906.py:39: SettingWithCopyWarning: \n",
      "A value is trying to be set on a copy of a slice from a DataFrame.\n",
      "Try using .loc[row_indexer,col_indexer] = value instead\n",
      "\n",
      "See the caveats in the documentation: https://pandas.pydata.org/pandas-docs/stable/user_guide/indexing.html#returning-a-view-versus-a-copy\n",
      "  componentes['seasonal_prophet'] = 0\n",
      " 36%|███▋      | 284/780 [1:03:43<41:10,  4.98s/it]19:43:57 - cmdstanpy - INFO - Chain [1] start processing\n",
      "19:43:57 - cmdstanpy - INFO - Chain [1] done processing\n",
      "C:\\Users\\waldo\\AppData\\Local\\Temp\\ipykernel_44800\\1165039906.py:39: SettingWithCopyWarning: \n",
      "A value is trying to be set on a copy of a slice from a DataFrame.\n",
      "Try using .loc[row_indexer,col_indexer] = value instead\n",
      "\n",
      "See the caveats in the documentation: https://pandas.pydata.org/pandas-docs/stable/user_guide/indexing.html#returning-a-view-versus-a-copy\n",
      "  componentes['seasonal_prophet'] = 0\n",
      " 37%|███▋      | 285/780 [1:03:47<37:28,  4.54s/it]19:44:01 - cmdstanpy - INFO - Chain [1] start processing\n",
      "19:44:01 - cmdstanpy - INFO - Chain [1] done processing\n",
      "C:\\Users\\waldo\\AppData\\Local\\Temp\\ipykernel_44800\\1165039906.py:39: SettingWithCopyWarning: \n",
      "A value is trying to be set on a copy of a slice from a DataFrame.\n",
      "Try using .loc[row_indexer,col_indexer] = value instead\n",
      "\n",
      "See the caveats in the documentation: https://pandas.pydata.org/pandas-docs/stable/user_guide/indexing.html#returning-a-view-versus-a-copy\n",
      "  componentes['seasonal_prophet'] = 0\n",
      " 37%|███▋      | 286/780 [1:04:01<59:44,  7.26s/it]19:44:14 - cmdstanpy - INFO - Chain [1] start processing\n",
      "19:44:15 - cmdstanpy - INFO - Chain [1] done processing\n",
      "C:\\Users\\waldo\\AppData\\Local\\Temp\\ipykernel_44800\\1165039906.py:39: SettingWithCopyWarning: \n",
      "A value is trying to be set on a copy of a slice from a DataFrame.\n",
      "Try using .loc[row_indexer,col_indexer] = value instead\n",
      "\n",
      "See the caveats in the documentation: https://pandas.pydata.org/pandas-docs/stable/user_guide/indexing.html#returning-a-view-versus-a-copy\n",
      "  componentes['seasonal_prophet'] = 0\n",
      " 37%|███▋      | 287/780 [1:04:09<1:01:32,  7.49s/it]19:44:22 - cmdstanpy - INFO - Chain [1] start processing\n",
      "19:44:22 - cmdstanpy - INFO - Chain [1] done processing\n",
      "C:\\Users\\waldo\\AppData\\Local\\Temp\\ipykernel_44800\\1165039906.py:39: SettingWithCopyWarning: \n",
      "A value is trying to be set on a copy of a slice from a DataFrame.\n",
      "Try using .loc[row_indexer,col_indexer] = value instead\n",
      "\n",
      "See the caveats in the documentation: https://pandas.pydata.org/pandas-docs/stable/user_guide/indexing.html#returning-a-view-versus-a-copy\n",
      "  componentes['seasonal_prophet'] = 0\n",
      " 37%|███▋      | 288/780 [1:04:13<54:58,  6.71s/it]  19:44:27 - cmdstanpy - INFO - Chain [1] start processing\n",
      "19:44:27 - cmdstanpy - INFO - Chain [1] done processing\n",
      "C:\\Users\\waldo\\AppData\\Local\\Temp\\ipykernel_44800\\1165039906.py:39: SettingWithCopyWarning: \n",
      "A value is trying to be set on a copy of a slice from a DataFrame.\n",
      "Try using .loc[row_indexer,col_indexer] = value instead\n",
      "\n",
      "See the caveats in the documentation: https://pandas.pydata.org/pandas-docs/stable/user_guide/indexing.html#returning-a-view-versus-a-copy\n",
      "  componentes['seasonal_prophet'] = 0\n",
      " 37%|███▋      | 289/780 [1:04:21<57:46,  7.06s/it]19:44:35 - cmdstanpy - INFO - Chain [1] start processing\n",
      "19:44:35 - cmdstanpy - INFO - Chain [1] done processing\n",
      "C:\\Users\\waldo\\AppData\\Local\\Temp\\ipykernel_44800\\1165039906.py:39: SettingWithCopyWarning: \n",
      "A value is trying to be set on a copy of a slice from a DataFrame.\n",
      "Try using .loc[row_indexer,col_indexer] = value instead\n",
      "\n",
      "See the caveats in the documentation: https://pandas.pydata.org/pandas-docs/stable/user_guide/indexing.html#returning-a-view-versus-a-copy\n",
      "  componentes['seasonal_prophet'] = 0\n",
      " 37%|███▋      | 290/780 [1:04:29<59:11,  7.25s/it]19:44:43 - cmdstanpy - INFO - Chain [1] start processing\n",
      "19:44:43 - cmdstanpy - INFO - Chain [1] done processing\n",
      "C:\\Users\\waldo\\AppData\\Local\\Temp\\ipykernel_44800\\1165039906.py:39: SettingWithCopyWarning: \n",
      "A value is trying to be set on a copy of a slice from a DataFrame.\n",
      "Try using .loc[row_indexer,col_indexer] = value instead\n",
      "\n",
      "See the caveats in the documentation: https://pandas.pydata.org/pandas-docs/stable/user_guide/indexing.html#returning-a-view-versus-a-copy\n",
      "  componentes['seasonal_prophet'] = 0\n",
      " 37%|███▋      | 291/780 [1:04:41<1:11:36,  8.79s/it]19:44:55 - cmdstanpy - INFO - Chain [1] start processing\n",
      "19:44:55 - cmdstanpy - INFO - Chain [1] done processing\n",
      "C:\\Users\\waldo\\AppData\\Local\\Temp\\ipykernel_44800\\1165039906.py:39: SettingWithCopyWarning: \n",
      "A value is trying to be set on a copy of a slice from a DataFrame.\n",
      "Try using .loc[row_indexer,col_indexer] = value instead\n",
      "\n",
      "See the caveats in the documentation: https://pandas.pydata.org/pandas-docs/stable/user_guide/indexing.html#returning-a-view-versus-a-copy\n",
      "  componentes['seasonal_prophet'] = 0\n",
      " 37%|███▋      | 292/780 [1:04:44<55:48,  6.86s/it]  19:44:58 - cmdstanpy - INFO - Chain [1] start processing\n",
      "19:44:58 - cmdstanpy - INFO - Chain [1] done processing\n",
      "C:\\Users\\waldo\\AppData\\Local\\Temp\\ipykernel_44800\\1165039906.py:39: SettingWithCopyWarning: \n",
      "A value is trying to be set on a copy of a slice from a DataFrame.\n",
      "Try using .loc[row_indexer,col_indexer] = value instead\n",
      "\n",
      "See the caveats in the documentation: https://pandas.pydata.org/pandas-docs/stable/user_guide/indexing.html#returning-a-view-versus-a-copy\n",
      "  componentes['seasonal_prophet'] = 0\n",
      " 38%|███▊      | 293/780 [1:04:51<56:35,  6.97s/it]19:45:05 - cmdstanpy - INFO - Chain [1] start processing\n",
      "19:45:05 - cmdstanpy - INFO - Chain [1] done processing\n",
      "C:\\Users\\waldo\\AppData\\Local\\Temp\\ipykernel_44800\\1165039906.py:39: SettingWithCopyWarning: \n",
      "A value is trying to be set on a copy of a slice from a DataFrame.\n",
      "Try using .loc[row_indexer,col_indexer] = value instead\n",
      "\n",
      "See the caveats in the documentation: https://pandas.pydata.org/pandas-docs/stable/user_guide/indexing.html#returning-a-view-versus-a-copy\n",
      "  componentes['seasonal_prophet'] = 0\n",
      " 38%|███▊      | 294/780 [1:04:58<57:07,  7.05s/it]19:45:12 - cmdstanpy - INFO - Chain [1] start processing\n",
      "19:45:12 - cmdstanpy - INFO - Chain [1] done processing\n",
      "C:\\Users\\waldo\\AppData\\Local\\Temp\\ipykernel_44800\\1165039906.py:39: SettingWithCopyWarning: \n",
      "A value is trying to be set on a copy of a slice from a DataFrame.\n",
      "Try using .loc[row_indexer,col_indexer] = value instead\n",
      "\n",
      "See the caveats in the documentation: https://pandas.pydata.org/pandas-docs/stable/user_guide/indexing.html#returning-a-view-versus-a-copy\n",
      "  componentes['seasonal_prophet'] = 0\n",
      " 38%|███▊      | 295/780 [1:05:02<47:58,  5.94s/it]19:45:15 - cmdstanpy - INFO - Chain [1] start processing\n",
      "19:45:16 - cmdstanpy - INFO - Chain [1] done processing\n",
      "C:\\Users\\waldo\\AppData\\Local\\Temp\\ipykernel_44800\\1165039906.py:39: SettingWithCopyWarning: \n",
      "A value is trying to be set on a copy of a slice from a DataFrame.\n",
      "Try using .loc[row_indexer,col_indexer] = value instead\n",
      "\n",
      "See the caveats in the documentation: https://pandas.pydata.org/pandas-docs/stable/user_guide/indexing.html#returning-a-view-versus-a-copy\n",
      "  componentes['seasonal_prophet'] = 0\n",
      " 38%|███▊      | 296/780 [1:05:13<1:01:21,  7.61s/it]19:45:27 - cmdstanpy - INFO - Chain [1] start processing\n",
      "19:45:27 - cmdstanpy - INFO - Chain [1] done processing\n",
      "C:\\Users\\waldo\\AppData\\Local\\Temp\\ipykernel_44800\\1165039906.py:39: SettingWithCopyWarning: \n",
      "A value is trying to be set on a copy of a slice from a DataFrame.\n",
      "Try using .loc[row_indexer,col_indexer] = value instead\n",
      "\n",
      "See the caveats in the documentation: https://pandas.pydata.org/pandas-docs/stable/user_guide/indexing.html#returning-a-view-versus-a-copy\n",
      "  componentes['seasonal_prophet'] = 0\n",
      " 38%|███▊      | 297/780 [1:05:18<54:39,  6.79s/it]  19:45:32 - cmdstanpy - INFO - Chain [1] start processing\n",
      "19:45:32 - cmdstanpy - INFO - Chain [1] done processing\n",
      "C:\\Users\\waldo\\AppData\\Local\\Temp\\ipykernel_44800\\1165039906.py:39: SettingWithCopyWarning: \n",
      "A value is trying to be set on a copy of a slice from a DataFrame.\n",
      "Try using .loc[row_indexer,col_indexer] = value instead\n",
      "\n",
      "See the caveats in the documentation: https://pandas.pydata.org/pandas-docs/stable/user_guide/indexing.html#returning-a-view-versus-a-copy\n",
      "  componentes['seasonal_prophet'] = 0\n",
      " 38%|███▊      | 298/780 [1:05:27<59:57,  7.46s/it]19:45:41 - cmdstanpy - INFO - Chain [1] start processing\n",
      "19:45:41 - cmdstanpy - INFO - Chain [1] done processing\n",
      "C:\\Users\\waldo\\AppData\\Local\\Temp\\ipykernel_44800\\1165039906.py:39: SettingWithCopyWarning: \n",
      "A value is trying to be set on a copy of a slice from a DataFrame.\n",
      "Try using .loc[row_indexer,col_indexer] = value instead\n",
      "\n",
      "See the caveats in the documentation: https://pandas.pydata.org/pandas-docs/stable/user_guide/indexing.html#returning-a-view-versus-a-copy\n",
      "  componentes['seasonal_prophet'] = 0\n",
      " 38%|███▊      | 299/780 [1:05:30<49:46,  6.21s/it]19:45:44 - cmdstanpy - INFO - Chain [1] start processing\n",
      "19:45:45 - cmdstanpy - INFO - Chain [1] done processing\n",
      "C:\\Users\\waldo\\AppData\\Local\\Temp\\ipykernel_44800\\1165039906.py:39: SettingWithCopyWarning: \n",
      "A value is trying to be set on a copy of a slice from a DataFrame.\n",
      "Try using .loc[row_indexer,col_indexer] = value instead\n",
      "\n",
      "See the caveats in the documentation: https://pandas.pydata.org/pandas-docs/stable/user_guide/indexing.html#returning-a-view-versus-a-copy\n",
      "  componentes['seasonal_prophet'] = 0\n",
      " 38%|███▊      | 300/780 [1:05:41<1:01:03,  7.63s/it]19:45:55 - cmdstanpy - INFO - Chain [1] start processing\n",
      "19:45:55 - cmdstanpy - INFO - Chain [1] done processing\n",
      "C:\\Users\\waldo\\AppData\\Local\\Temp\\ipykernel_44800\\1165039906.py:39: SettingWithCopyWarning: \n",
      "A value is trying to be set on a copy of a slice from a DataFrame.\n",
      "Try using .loc[row_indexer,col_indexer] = value instead\n",
      "\n",
      "See the caveats in the documentation: https://pandas.pydata.org/pandas-docs/stable/user_guide/indexing.html#returning-a-view-versus-a-copy\n",
      "  componentes['seasonal_prophet'] = 0\n",
      " 39%|███▊      | 301/780 [1:05:47<56:18,  7.05s/it]  19:46:01 - cmdstanpy - INFO - Chain [1] start processing\n",
      "19:46:01 - cmdstanpy - INFO - Chain [1] done processing\n",
      "C:\\Users\\waldo\\AppData\\Local\\Temp\\ipykernel_44800\\1165039906.py:39: SettingWithCopyWarning: \n",
      "A value is trying to be set on a copy of a slice from a DataFrame.\n",
      "Try using .loc[row_indexer,col_indexer] = value instead\n",
      "\n",
      "See the caveats in the documentation: https://pandas.pydata.org/pandas-docs/stable/user_guide/indexing.html#returning-a-view-versus-a-copy\n",
      "  componentes['seasonal_prophet'] = 0\n",
      " 39%|███▊      | 302/780 [1:05:58<1:05:53,  8.27s/it]19:46:12 - cmdstanpy - INFO - Chain [1] start processing\n",
      "19:46:12 - cmdstanpy - INFO - Chain [1] done processing\n",
      "C:\\Users\\waldo\\AppData\\Local\\Temp\\ipykernel_44800\\1165039906.py:39: SettingWithCopyWarning: \n",
      "A value is trying to be set on a copy of a slice from a DataFrame.\n",
      "Try using .loc[row_indexer,col_indexer] = value instead\n",
      "\n",
      "See the caveats in the documentation: https://pandas.pydata.org/pandas-docs/stable/user_guide/indexing.html#returning-a-view-versus-a-copy\n",
      "  componentes['seasonal_prophet'] = 0\n",
      " 39%|███▉      | 303/780 [1:06:03<57:38,  7.25s/it]  19:46:17 - cmdstanpy - INFO - Chain [1] start processing\n",
      "19:46:17 - cmdstanpy - INFO - Chain [1] done processing\n",
      "C:\\Users\\waldo\\AppData\\Local\\Temp\\ipykernel_44800\\1165039906.py:39: SettingWithCopyWarning: \n",
      "A value is trying to be set on a copy of a slice from a DataFrame.\n",
      "Try using .loc[row_indexer,col_indexer] = value instead\n",
      "\n",
      "See the caveats in the documentation: https://pandas.pydata.org/pandas-docs/stable/user_guide/indexing.html#returning-a-view-versus-a-copy\n",
      "  componentes['seasonal_prophet'] = 0\n",
      " 39%|███▉      | 304/780 [1:06:07<50:27,  6.36s/it]19:46:21 - cmdstanpy - INFO - Chain [1] start processing\n",
      "19:46:21 - cmdstanpy - INFO - Chain [1] done processing\n",
      "C:\\Users\\waldo\\AppData\\Local\\Temp\\ipykernel_44800\\1165039906.py:39: SettingWithCopyWarning: \n",
      "A value is trying to be set on a copy of a slice from a DataFrame.\n",
      "Try using .loc[row_indexer,col_indexer] = value instead\n",
      "\n",
      "See the caveats in the documentation: https://pandas.pydata.org/pandas-docs/stable/user_guide/indexing.html#returning-a-view-versus-a-copy\n",
      "  componentes['seasonal_prophet'] = 0\n",
      " 39%|███▉      | 305/780 [1:06:14<51:11,  6.47s/it]19:46:28 - cmdstanpy - INFO - Chain [1] start processing\n",
      "19:46:28 - cmdstanpy - INFO - Chain [1] done processing\n",
      "C:\\Users\\waldo\\AppData\\Local\\Temp\\ipykernel_44800\\1165039906.py:39: SettingWithCopyWarning: \n",
      "A value is trying to be set on a copy of a slice from a DataFrame.\n",
      "Try using .loc[row_indexer,col_indexer] = value instead\n",
      "\n",
      "See the caveats in the documentation: https://pandas.pydata.org/pandas-docs/stable/user_guide/indexing.html#returning-a-view-versus-a-copy\n",
      "  componentes['seasonal_prophet'] = 0\n",
      " 39%|███▉      | 306/780 [1:06:20<49:30,  6.27s/it]19:46:33 - cmdstanpy - INFO - Chain [1] start processing\n",
      "19:46:33 - cmdstanpy - INFO - Chain [1] done processing\n",
      "C:\\Users\\waldo\\AppData\\Local\\Temp\\ipykernel_44800\\1165039906.py:39: SettingWithCopyWarning: \n",
      "A value is trying to be set on a copy of a slice from a DataFrame.\n",
      "Try using .loc[row_indexer,col_indexer] = value instead\n",
      "\n",
      "See the caveats in the documentation: https://pandas.pydata.org/pandas-docs/stable/user_guide/indexing.html#returning-a-view-versus-a-copy\n",
      "  componentes['seasonal_prophet'] = 0\n",
      " 39%|███▉      | 307/780 [1:06:23<41:54,  5.32s/it]19:46:36 - cmdstanpy - INFO - Chain [1] start processing\n",
      "19:46:37 - cmdstanpy - INFO - Chain [1] done processing\n",
      "C:\\Users\\waldo\\AppData\\Local\\Temp\\ipykernel_44800\\1165039906.py:39: SettingWithCopyWarning: \n",
      "A value is trying to be set on a copy of a slice from a DataFrame.\n",
      "Try using .loc[row_indexer,col_indexer] = value instead\n",
      "\n",
      "See the caveats in the documentation: https://pandas.pydata.org/pandas-docs/stable/user_guide/indexing.html#returning-a-view-versus-a-copy\n",
      "  componentes['seasonal_prophet'] = 0\n",
      " 39%|███▉      | 308/780 [1:06:27<38:35,  4.91s/it]19:46:40 - cmdstanpy - INFO - Chain [1] start processing\n",
      "19:46:41 - cmdstanpy - INFO - Chain [1] done processing\n",
      "C:\\Users\\waldo\\AppData\\Local\\Temp\\ipykernel_44800\\1165039906.py:39: SettingWithCopyWarning: \n",
      "A value is trying to be set on a copy of a slice from a DataFrame.\n",
      "Try using .loc[row_indexer,col_indexer] = value instead\n",
      "\n",
      "See the caveats in the documentation: https://pandas.pydata.org/pandas-docs/stable/user_guide/indexing.html#returning-a-view-versus-a-copy\n",
      "  componentes['seasonal_prophet'] = 0\n",
      " 40%|███▉      | 309/780 [1:06:34<45:01,  5.74s/it]19:46:48 - cmdstanpy - INFO - Chain [1] start processing\n",
      "19:46:49 - cmdstanpy - INFO - Chain [1] done processing\n",
      "C:\\Users\\waldo\\AppData\\Local\\Temp\\ipykernel_44800\\1165039906.py:39: SettingWithCopyWarning: \n",
      "A value is trying to be set on a copy of a slice from a DataFrame.\n",
      "Try using .loc[row_indexer,col_indexer] = value instead\n",
      "\n",
      "See the caveats in the documentation: https://pandas.pydata.org/pandas-docs/stable/user_guide/indexing.html#returning-a-view-versus-a-copy\n",
      "  componentes['seasonal_prophet'] = 0\n",
      " 40%|███▉      | 310/780 [1:06:43<50:36,  6.46s/it]19:46:56 - cmdstanpy - INFO - Chain [1] start processing\n",
      "19:46:57 - cmdstanpy - INFO - Chain [1] done processing\n",
      "C:\\Users\\waldo\\AppData\\Local\\Temp\\ipykernel_44800\\1165039906.py:39: SettingWithCopyWarning: \n",
      "A value is trying to be set on a copy of a slice from a DataFrame.\n",
      "Try using .loc[row_indexer,col_indexer] = value instead\n",
      "\n",
      "See the caveats in the documentation: https://pandas.pydata.org/pandas-docs/stable/user_guide/indexing.html#returning-a-view-versus-a-copy\n",
      "  componentes['seasonal_prophet'] = 0\n",
      " 40%|███▉      | 311/780 [1:06:54<1:01:27,  7.86s/it]19:47:07 - cmdstanpy - INFO - Chain [1] start processing\n",
      "19:47:07 - cmdstanpy - INFO - Chain [1] done processing\n",
      "C:\\Users\\waldo\\AppData\\Local\\Temp\\ipykernel_44800\\1165039906.py:39: SettingWithCopyWarning: \n",
      "A value is trying to be set on a copy of a slice from a DataFrame.\n",
      "Try using .loc[row_indexer,col_indexer] = value instead\n",
      "\n",
      "See the caveats in the documentation: https://pandas.pydata.org/pandas-docs/stable/user_guide/indexing.html#returning-a-view-versus-a-copy\n",
      "  componentes['seasonal_prophet'] = 0\n",
      " 40%|████      | 312/780 [1:06:58<52:44,  6.76s/it]  19:47:11 - cmdstanpy - INFO - Chain [1] start processing\n",
      "19:47:12 - cmdstanpy - INFO - Chain [1] done processing\n",
      "C:\\Users\\waldo\\AppData\\Local\\Temp\\ipykernel_44800\\1165039906.py:39: SettingWithCopyWarning: \n",
      "A value is trying to be set on a copy of a slice from a DataFrame.\n",
      "Try using .loc[row_indexer,col_indexer] = value instead\n",
      "\n",
      "See the caveats in the documentation: https://pandas.pydata.org/pandas-docs/stable/user_guide/indexing.html#returning-a-view-versus-a-copy\n",
      "  componentes['seasonal_prophet'] = 0\n",
      " 40%|████      | 313/780 [1:07:02<45:47,  5.88s/it]19:47:15 - cmdstanpy - INFO - Chain [1] start processing\n",
      "19:47:15 - cmdstanpy - INFO - Chain [1] done processing\n",
      "C:\\Users\\waldo\\AppData\\Local\\Temp\\ipykernel_44800\\1165039906.py:39: SettingWithCopyWarning: \n",
      "A value is trying to be set on a copy of a slice from a DataFrame.\n",
      "Try using .loc[row_indexer,col_indexer] = value instead\n",
      "\n",
      "See the caveats in the documentation: https://pandas.pydata.org/pandas-docs/stable/user_guide/indexing.html#returning-a-view-versus-a-copy\n",
      "  componentes['seasonal_prophet'] = 0\n",
      " 40%|████      | 314/780 [1:07:06<40:54,  5.27s/it]19:47:19 - cmdstanpy - INFO - Chain [1] start processing\n",
      "19:47:20 - cmdstanpy - INFO - Chain [1] done processing\n",
      "C:\\Users\\waldo\\AppData\\Local\\Temp\\ipykernel_44800\\1165039906.py:39: SettingWithCopyWarning: \n",
      "A value is trying to be set on a copy of a slice from a DataFrame.\n",
      "Try using .loc[row_indexer,col_indexer] = value instead\n",
      "\n",
      "See the caveats in the documentation: https://pandas.pydata.org/pandas-docs/stable/user_guide/indexing.html#returning-a-view-versus-a-copy\n",
      "  componentes['seasonal_prophet'] = 0\n",
      " 40%|████      | 315/780 [1:07:17<55:20,  7.14s/it]19:47:31 - cmdstanpy - INFO - Chain [1] start processing\n",
      "19:47:31 - cmdstanpy - INFO - Chain [1] done processing\n",
      "C:\\Users\\waldo\\AppData\\Local\\Temp\\ipykernel_44800\\1165039906.py:39: SettingWithCopyWarning: \n",
      "A value is trying to be set on a copy of a slice from a DataFrame.\n",
      "Try using .loc[row_indexer,col_indexer] = value instead\n",
      "\n",
      "See the caveats in the documentation: https://pandas.pydata.org/pandas-docs/stable/user_guide/indexing.html#returning-a-view-versus-a-copy\n",
      "  componentes['seasonal_prophet'] = 0\n",
      " 41%|████      | 316/780 [1:07:25<57:19,  7.41s/it]19:47:39 - cmdstanpy - INFO - Chain [1] start processing\n",
      "19:47:39 - cmdstanpy - INFO - Chain [1] done processing\n",
      "C:\\Users\\waldo\\AppData\\Local\\Temp\\ipykernel_44800\\1165039906.py:39: SettingWithCopyWarning: \n",
      "A value is trying to be set on a copy of a slice from a DataFrame.\n",
      "Try using .loc[row_indexer,col_indexer] = value instead\n",
      "\n",
      "See the caveats in the documentation: https://pandas.pydata.org/pandas-docs/stable/user_guide/indexing.html#returning-a-view-versus-a-copy\n",
      "  componentes['seasonal_prophet'] = 0\n",
      " 41%|████      | 317/780 [1:07:30<50:10,  6.50s/it]19:47:43 - cmdstanpy - INFO - Chain [1] start processing\n",
      "19:47:43 - cmdstanpy - INFO - Chain [1] done processing\n",
      "C:\\Users\\waldo\\AppData\\Local\\Temp\\ipykernel_44800\\1165039906.py:39: SettingWithCopyWarning: \n",
      "A value is trying to be set on a copy of a slice from a DataFrame.\n",
      "Try using .loc[row_indexer,col_indexer] = value instead\n",
      "\n",
      "See the caveats in the documentation: https://pandas.pydata.org/pandas-docs/stable/user_guide/indexing.html#returning-a-view-versus-a-copy\n",
      "  componentes['seasonal_prophet'] = 0\n",
      " 41%|████      | 318/780 [1:07:33<42:27,  5.51s/it]19:47:46 - cmdstanpy - INFO - Chain [1] start processing\n",
      "19:47:47 - cmdstanpy - INFO - Chain [1] done processing\n",
      "C:\\Users\\waldo\\AppData\\Local\\Temp\\ipykernel_44800\\1165039906.py:39: SettingWithCopyWarning: \n",
      "A value is trying to be set on a copy of a slice from a DataFrame.\n",
      "Try using .loc[row_indexer,col_indexer] = value instead\n",
      "\n",
      "See the caveats in the documentation: https://pandas.pydata.org/pandas-docs/stable/user_guide/indexing.html#returning-a-view-versus-a-copy\n",
      "  componentes['seasonal_prophet'] = 0\n",
      " 41%|████      | 319/780 [1:07:38<41:34,  5.41s/it]19:47:51 - cmdstanpy - INFO - Chain [1] start processing\n",
      "19:47:51 - cmdstanpy - INFO - Chain [1] done processing\n",
      "C:\\Users\\waldo\\AppData\\Local\\Temp\\ipykernel_44800\\1165039906.py:39: SettingWithCopyWarning: \n",
      "A value is trying to be set on a copy of a slice from a DataFrame.\n",
      "Try using .loc[row_indexer,col_indexer] = value instead\n",
      "\n",
      "See the caveats in the documentation: https://pandas.pydata.org/pandas-docs/stable/user_guide/indexing.html#returning-a-view-versus-a-copy\n",
      "  componentes['seasonal_prophet'] = 0\n",
      " 41%|████      | 320/780 [1:07:39<32:35,  4.25s/it]19:47:53 - cmdstanpy - INFO - Chain [1] start processing\n",
      "19:47:53 - cmdstanpy - INFO - Chain [1] done processing\n",
      "C:\\Users\\waldo\\AppData\\Local\\Temp\\ipykernel_44800\\1165039906.py:39: SettingWithCopyWarning: \n",
      "A value is trying to be set on a copy of a slice from a DataFrame.\n",
      "Try using .loc[row_indexer,col_indexer] = value instead\n",
      "\n",
      "See the caveats in the documentation: https://pandas.pydata.org/pandas-docs/stable/user_guide/indexing.html#returning-a-view-versus-a-copy\n",
      "  componentes['seasonal_prophet'] = 0\n",
      " 41%|████      | 321/780 [1:07:46<36:58,  4.83s/it]19:48:00 - cmdstanpy - INFO - Chain [1] start processing\n",
      "19:48:00 - cmdstanpy - INFO - Chain [1] done processing\n",
      "C:\\Users\\waldo\\AppData\\Local\\Temp\\ipykernel_44800\\1165039906.py:39: SettingWithCopyWarning: \n",
      "A value is trying to be set on a copy of a slice from a DataFrame.\n",
      "Try using .loc[row_indexer,col_indexer] = value instead\n",
      "\n",
      "See the caveats in the documentation: https://pandas.pydata.org/pandas-docs/stable/user_guide/indexing.html#returning-a-view-versus-a-copy\n",
      "  componentes['seasonal_prophet'] = 0\n",
      " 41%|████▏     | 322/780 [1:07:54<44:28,  5.83s/it]19:48:08 - cmdstanpy - INFO - Chain [1] start processing\n",
      "19:48:08 - cmdstanpy - INFO - Chain [1] done processing\n",
      "C:\\Users\\waldo\\AppData\\Local\\Temp\\ipykernel_44800\\1165039906.py:39: SettingWithCopyWarning: \n",
      "A value is trying to be set on a copy of a slice from a DataFrame.\n",
      "Try using .loc[row_indexer,col_indexer] = value instead\n",
      "\n",
      "See the caveats in the documentation: https://pandas.pydata.org/pandas-docs/stable/user_guide/indexing.html#returning-a-view-versus-a-copy\n",
      "  componentes['seasonal_prophet'] = 0\n",
      " 41%|████▏     | 323/780 [1:08:05<55:52,  7.34s/it]19:48:18 - cmdstanpy - INFO - Chain [1] start processing\n",
      "19:48:19 - cmdstanpy - INFO - Chain [1] done processing\n",
      "C:\\Users\\waldo\\AppData\\Local\\Temp\\ipykernel_44800\\1165039906.py:39: SettingWithCopyWarning: \n",
      "A value is trying to be set on a copy of a slice from a DataFrame.\n",
      "Try using .loc[row_indexer,col_indexer] = value instead\n",
      "\n",
      "See the caveats in the documentation: https://pandas.pydata.org/pandas-docs/stable/user_guide/indexing.html#returning-a-view-versus-a-copy\n",
      "  componentes['seasonal_prophet'] = 0\n",
      " 42%|████▏     | 324/780 [1:08:16<1:04:41,  8.51s/it]19:48:30 - cmdstanpy - INFO - Chain [1] start processing\n",
      "19:48:30 - cmdstanpy - INFO - Chain [1] done processing\n",
      "C:\\Users\\waldo\\AppData\\Local\\Temp\\ipykernel_44800\\1165039906.py:39: SettingWithCopyWarning: \n",
      "A value is trying to be set on a copy of a slice from a DataFrame.\n",
      "Try using .loc[row_indexer,col_indexer] = value instead\n",
      "\n",
      "See the caveats in the documentation: https://pandas.pydata.org/pandas-docs/stable/user_guide/indexing.html#returning-a-view-versus-a-copy\n",
      "  componentes['seasonal_prophet'] = 0\n",
      " 42%|████▏     | 325/780 [1:08:23<1:02:13,  8.21s/it]19:48:37 - cmdstanpy - INFO - Chain [1] start processing\n",
      "19:48:37 - cmdstanpy - INFO - Chain [1] done processing\n",
      "C:\\Users\\waldo\\AppData\\Local\\Temp\\ipykernel_44800\\1165039906.py:39: SettingWithCopyWarning: \n",
      "A value is trying to be set on a copy of a slice from a DataFrame.\n",
      "Try using .loc[row_indexer,col_indexer] = value instead\n",
      "\n",
      "See the caveats in the documentation: https://pandas.pydata.org/pandas-docs/stable/user_guide/indexing.html#returning-a-view-versus-a-copy\n",
      "  componentes['seasonal_prophet'] = 0\n",
      " 42%|████▏     | 326/780 [1:08:31<1:01:32,  8.13s/it]19:48:45 - cmdstanpy - INFO - Chain [1] start processing\n",
      "19:48:45 - cmdstanpy - INFO - Chain [1] done processing\n",
      "C:\\Users\\waldo\\AppData\\Local\\Temp\\ipykernel_44800\\1165039906.py:39: SettingWithCopyWarning: \n",
      "A value is trying to be set on a copy of a slice from a DataFrame.\n",
      "Try using .loc[row_indexer,col_indexer] = value instead\n",
      "\n",
      "See the caveats in the documentation: https://pandas.pydata.org/pandas-docs/stable/user_guide/indexing.html#returning-a-view-versus-a-copy\n",
      "  componentes['seasonal_prophet'] = 0\n",
      " 42%|████▏     | 327/780 [1:08:35<52:03,  6.89s/it]  19:48:49 - cmdstanpy - INFO - Chain [1] start processing\n",
      "19:48:49 - cmdstanpy - INFO - Chain [1] done processing\n",
      "C:\\Users\\waldo\\AppData\\Local\\Temp\\ipykernel_44800\\1165039906.py:39: SettingWithCopyWarning: \n",
      "A value is trying to be set on a copy of a slice from a DataFrame.\n",
      "Try using .loc[row_indexer,col_indexer] = value instead\n",
      "\n",
      "See the caveats in the documentation: https://pandas.pydata.org/pandas-docs/stable/user_guide/indexing.html#returning-a-view-versus-a-copy\n",
      "  componentes['seasonal_prophet'] = 0\n",
      " 42%|████▏     | 328/780 [1:08:39<43:35,  5.79s/it]19:48:52 - cmdstanpy - INFO - Chain [1] start processing\n",
      "19:48:53 - cmdstanpy - INFO - Chain [1] done processing\n",
      "C:\\Users\\waldo\\AppData\\Local\\Temp\\ipykernel_44800\\1165039906.py:39: SettingWithCopyWarning: \n",
      "A value is trying to be set on a copy of a slice from a DataFrame.\n",
      "Try using .loc[row_indexer,col_indexer] = value instead\n",
      "\n",
      "See the caveats in the documentation: https://pandas.pydata.org/pandas-docs/stable/user_guide/indexing.html#returning-a-view-versus-a-copy\n",
      "  componentes['seasonal_prophet'] = 0\n",
      " 42%|████▏     | 329/780 [1:08:50<55:19,  7.36s/it]19:49:03 - cmdstanpy - INFO - Chain [1] start processing\n",
      "19:49:03 - cmdstanpy - INFO - Chain [1] done processing\n",
      "C:\\Users\\waldo\\AppData\\Local\\Temp\\ipykernel_44800\\1165039906.py:39: SettingWithCopyWarning: \n",
      "A value is trying to be set on a copy of a slice from a DataFrame.\n",
      "Try using .loc[row_indexer,col_indexer] = value instead\n",
      "\n",
      "See the caveats in the documentation: https://pandas.pydata.org/pandas-docs/stable/user_guide/indexing.html#returning-a-view-versus-a-copy\n",
      "  componentes['seasonal_prophet'] = 0\n",
      " 42%|████▏     | 330/780 [1:08:52<45:02,  6.00s/it]19:49:06 - cmdstanpy - INFO - Chain [1] start processing\n",
      "19:49:07 - cmdstanpy - INFO - Chain [1] done processing\n",
      "C:\\Users\\waldo\\AppData\\Local\\Temp\\ipykernel_44800\\1165039906.py:39: SettingWithCopyWarning: \n",
      "A value is trying to be set on a copy of a slice from a DataFrame.\n",
      "Try using .loc[row_indexer,col_indexer] = value instead\n",
      "\n",
      "See the caveats in the documentation: https://pandas.pydata.org/pandas-docs/stable/user_guide/indexing.html#returning-a-view-versus-a-copy\n",
      "  componentes['seasonal_prophet'] = 0\n",
      " 42%|████▏     | 331/780 [1:08:59<45:34,  6.09s/it]19:49:13 - cmdstanpy - INFO - Chain [1] start processing\n",
      "19:49:13 - cmdstanpy - INFO - Chain [1] done processing\n",
      "C:\\Users\\waldo\\AppData\\Local\\Temp\\ipykernel_44800\\1165039906.py:39: SettingWithCopyWarning: \n",
      "A value is trying to be set on a copy of a slice from a DataFrame.\n",
      "Try using .loc[row_indexer,col_indexer] = value instead\n",
      "\n",
      "See the caveats in the documentation: https://pandas.pydata.org/pandas-docs/stable/user_guide/indexing.html#returning-a-view-versus-a-copy\n",
      "  componentes['seasonal_prophet'] = 0\n",
      " 43%|████▎     | 332/780 [1:09:11<59:44,  8.00s/it]19:49:25 - cmdstanpy - INFO - Chain [1] start processing\n",
      "19:49:26 - cmdstanpy - INFO - Chain [1] done processing\n",
      "C:\\Users\\waldo\\AppData\\Local\\Temp\\ipykernel_44800\\1165039906.py:39: SettingWithCopyWarning: \n",
      "A value is trying to be set on a copy of a slice from a DataFrame.\n",
      "Try using .loc[row_indexer,col_indexer] = value instead\n",
      "\n",
      "See the caveats in the documentation: https://pandas.pydata.org/pandas-docs/stable/user_guide/indexing.html#returning-a-view-versus-a-copy\n",
      "  componentes['seasonal_prophet'] = 0\n",
      " 43%|████▎     | 333/780 [1:09:25<1:12:02,  9.67s/it]19:49:38 - cmdstanpy - INFO - Chain [1] start processing\n",
      "19:49:38 - cmdstanpy - INFO - Chain [1] done processing\n",
      "C:\\Users\\waldo\\AppData\\Local\\Temp\\ipykernel_44800\\1165039906.py:39: SettingWithCopyWarning: \n",
      "A value is trying to be set on a copy of a slice from a DataFrame.\n",
      "Try using .loc[row_indexer,col_indexer] = value instead\n",
      "\n",
      "See the caveats in the documentation: https://pandas.pydata.org/pandas-docs/stable/user_guide/indexing.html#returning-a-view-versus-a-copy\n",
      "  componentes['seasonal_prophet'] = 0\n",
      " 43%|████▎     | 334/780 [1:09:27<55:46,  7.50s/it]  19:49:41 - cmdstanpy - INFO - Chain [1] start processing\n",
      "19:49:41 - cmdstanpy - INFO - Chain [1] done processing\n",
      "C:\\Users\\waldo\\AppData\\Local\\Temp\\ipykernel_44800\\1165039906.py:39: SettingWithCopyWarning: \n",
      "A value is trying to be set on a copy of a slice from a DataFrame.\n",
      "Try using .loc[row_indexer,col_indexer] = value instead\n",
      "\n",
      "See the caveats in the documentation: https://pandas.pydata.org/pandas-docs/stable/user_guide/indexing.html#returning-a-view-versus-a-copy\n",
      "  componentes['seasonal_prophet'] = 0\n",
      " 43%|████▎     | 335/780 [1:09:32<50:23,  6.79s/it]19:49:46 - cmdstanpy - INFO - Chain [1] start processing\n",
      "19:49:46 - cmdstanpy - INFO - Chain [1] done processing\n",
      "C:\\Users\\waldo\\AppData\\Local\\Temp\\ipykernel_44800\\1165039906.py:39: SettingWithCopyWarning: \n",
      "A value is trying to be set on a copy of a slice from a DataFrame.\n",
      "Try using .loc[row_indexer,col_indexer] = value instead\n",
      "\n",
      "See the caveats in the documentation: https://pandas.pydata.org/pandas-docs/stable/user_guide/indexing.html#returning-a-view-versus-a-copy\n",
      "  componentes['seasonal_prophet'] = 0\n",
      " 43%|████▎     | 336/780 [1:09:40<53:10,  7.19s/it]19:49:54 - cmdstanpy - INFO - Chain [1] start processing\n",
      "19:49:54 - cmdstanpy - INFO - Chain [1] done processing\n",
      "C:\\Users\\waldo\\AppData\\Local\\Temp\\ipykernel_44800\\1165039906.py:39: SettingWithCopyWarning: \n",
      "A value is trying to be set on a copy of a slice from a DataFrame.\n",
      "Try using .loc[row_indexer,col_indexer] = value instead\n",
      "\n",
      "See the caveats in the documentation: https://pandas.pydata.org/pandas-docs/stable/user_guide/indexing.html#returning-a-view-versus-a-copy\n",
      "  componentes['seasonal_prophet'] = 0\n",
      " 43%|████▎     | 337/780 [1:09:46<49:56,  6.76s/it]19:50:00 - cmdstanpy - INFO - Chain [1] start processing\n",
      "19:50:00 - cmdstanpy - INFO - Chain [1] done processing\n",
      "C:\\Users\\waldo\\AppData\\Local\\Temp\\ipykernel_44800\\1165039906.py:39: SettingWithCopyWarning: \n",
      "A value is trying to be set on a copy of a slice from a DataFrame.\n",
      "Try using .loc[row_indexer,col_indexer] = value instead\n",
      "\n",
      "See the caveats in the documentation: https://pandas.pydata.org/pandas-docs/stable/user_guide/indexing.html#returning-a-view-versus-a-copy\n",
      "  componentes['seasonal_prophet'] = 0\n",
      " 43%|████▎     | 338/780 [1:09:54<51:42,  7.02s/it]19:50:07 - cmdstanpy - INFO - Chain [1] start processing\n",
      "19:50:08 - cmdstanpy - INFO - Chain [1] done processing\n",
      "C:\\Users\\waldo\\AppData\\Local\\Temp\\ipykernel_44800\\1165039906.py:39: SettingWithCopyWarning: \n",
      "A value is trying to be set on a copy of a slice from a DataFrame.\n",
      "Try using .loc[row_indexer,col_indexer] = value instead\n",
      "\n",
      "See the caveats in the documentation: https://pandas.pydata.org/pandas-docs/stable/user_guide/indexing.html#returning-a-view-versus-a-copy\n",
      "  componentes['seasonal_prophet'] = 0\n",
      " 43%|████▎     | 339/780 [1:10:00<49:23,  6.72s/it]19:50:14 - cmdstanpy - INFO - Chain [1] start processing\n",
      "19:50:14 - cmdstanpy - INFO - Chain [1] done processing\n",
      "C:\\Users\\waldo\\AppData\\Local\\Temp\\ipykernel_44800\\1165039906.py:39: SettingWithCopyWarning: \n",
      "A value is trying to be set on a copy of a slice from a DataFrame.\n",
      "Try using .loc[row_indexer,col_indexer] = value instead\n",
      "\n",
      "See the caveats in the documentation: https://pandas.pydata.org/pandas-docs/stable/user_guide/indexing.html#returning-a-view-versus-a-copy\n",
      "  componentes['seasonal_prophet'] = 0\n",
      " 44%|████▎     | 340/780 [1:10:07<50:32,  6.89s/it]19:50:21 - cmdstanpy - INFO - Chain [1] start processing\n",
      "19:50:21 - cmdstanpy - INFO - Chain [1] done processing\n",
      "C:\\Users\\waldo\\AppData\\Local\\Temp\\ipykernel_44800\\1165039906.py:39: SettingWithCopyWarning: \n",
      "A value is trying to be set on a copy of a slice from a DataFrame.\n",
      "Try using .loc[row_indexer,col_indexer] = value instead\n",
      "\n",
      "See the caveats in the documentation: https://pandas.pydata.org/pandas-docs/stable/user_guide/indexing.html#returning-a-view-versus-a-copy\n",
      "  componentes['seasonal_prophet'] = 0\n",
      " 44%|████▎     | 341/780 [1:10:15<52:44,  7.21s/it]19:50:29 - cmdstanpy - INFO - Chain [1] start processing\n",
      "19:50:29 - cmdstanpy - INFO - Chain [1] done processing\n",
      "C:\\Users\\waldo\\AppData\\Local\\Temp\\ipykernel_44800\\1165039906.py:39: SettingWithCopyWarning: \n",
      "A value is trying to be set on a copy of a slice from a DataFrame.\n",
      "Try using .loc[row_indexer,col_indexer] = value instead\n",
      "\n",
      "See the caveats in the documentation: https://pandas.pydata.org/pandas-docs/stable/user_guide/indexing.html#returning-a-view-versus-a-copy\n",
      "  componentes['seasonal_prophet'] = 0\n",
      " 44%|████▍     | 342/780 [1:10:27<1:02:00,  8.49s/it]19:50:40 - cmdstanpy - INFO - Chain [1] start processing\n",
      "19:50:41 - cmdstanpy - INFO - Chain [1] done processing\n",
      "C:\\Users\\waldo\\AppData\\Local\\Temp\\ipykernel_44800\\1165039906.py:39: SettingWithCopyWarning: \n",
      "A value is trying to be set on a copy of a slice from a DataFrame.\n",
      "Try using .loc[row_indexer,col_indexer] = value instead\n",
      "\n",
      "See the caveats in the documentation: https://pandas.pydata.org/pandas-docs/stable/user_guide/indexing.html#returning-a-view-versus-a-copy\n",
      "  componentes['seasonal_prophet'] = 0\n",
      " 44%|████▍     | 343/780 [1:10:31<52:33,  7.22s/it]  19:50:45 - cmdstanpy - INFO - Chain [1] start processing\n",
      "19:50:45 - cmdstanpy - INFO - Chain [1] done processing\n",
      "C:\\Users\\waldo\\AppData\\Local\\Temp\\ipykernel_44800\\1165039906.py:39: SettingWithCopyWarning: \n",
      "A value is trying to be set on a copy of a slice from a DataFrame.\n",
      "Try using .loc[row_indexer,col_indexer] = value instead\n",
      "\n",
      "See the caveats in the documentation: https://pandas.pydata.org/pandas-docs/stable/user_guide/indexing.html#returning-a-view-versus-a-copy\n",
      "  componentes['seasonal_prophet'] = 0\n",
      " 44%|████▍     | 344/780 [1:10:38<52:08,  7.18s/it]19:50:52 - cmdstanpy - INFO - Chain [1] start processing\n",
      "19:50:52 - cmdstanpy - INFO - Chain [1] done processing\n",
      "C:\\Users\\waldo\\AppData\\Local\\Temp\\ipykernel_44800\\1165039906.py:39: SettingWithCopyWarning: \n",
      "A value is trying to be set on a copy of a slice from a DataFrame.\n",
      "Try using .loc[row_indexer,col_indexer] = value instead\n",
      "\n",
      "See the caveats in the documentation: https://pandas.pydata.org/pandas-docs/stable/user_guide/indexing.html#returning-a-view-versus-a-copy\n",
      "  componentes['seasonal_prophet'] = 0\n",
      " 44%|████▍     | 345/780 [1:10:46<53:21,  7.36s/it]19:50:59 - cmdstanpy - INFO - Chain [1] start processing\n",
      "19:51:00 - cmdstanpy - INFO - Chain [1] done processing\n",
      "C:\\Users\\waldo\\AppData\\Local\\Temp\\ipykernel_44800\\1165039906.py:39: SettingWithCopyWarning: \n",
      "A value is trying to be set on a copy of a slice from a DataFrame.\n",
      "Try using .loc[row_indexer,col_indexer] = value instead\n",
      "\n",
      "See the caveats in the documentation: https://pandas.pydata.org/pandas-docs/stable/user_guide/indexing.html#returning-a-view-versus-a-copy\n",
      "  componentes['seasonal_prophet'] = 0\n",
      " 44%|████▍     | 346/780 [1:10:57<1:02:01,  8.58s/it]19:51:11 - cmdstanpy - INFO - Chain [1] start processing\n",
      "19:51:11 - cmdstanpy - INFO - Chain [1] done processing\n",
      "C:\\Users\\waldo\\AppData\\Local\\Temp\\ipykernel_44800\\1165039906.py:39: SettingWithCopyWarning: \n",
      "A value is trying to be set on a copy of a slice from a DataFrame.\n",
      "Try using .loc[row_indexer,col_indexer] = value instead\n",
      "\n",
      "See the caveats in the documentation: https://pandas.pydata.org/pandas-docs/stable/user_guide/indexing.html#returning-a-view-versus-a-copy\n",
      "  componentes['seasonal_prophet'] = 0\n",
      " 44%|████▍     | 347/780 [1:11:04<58:01,  8.04s/it]  19:51:18 - cmdstanpy - INFO - Chain [1] start processing\n",
      "19:51:18 - cmdstanpy - INFO - Chain [1] done processing\n",
      "C:\\Users\\waldo\\AppData\\Local\\Temp\\ipykernel_44800\\1165039906.py:39: SettingWithCopyWarning: \n",
      "A value is trying to be set on a copy of a slice from a DataFrame.\n",
      "Try using .loc[row_indexer,col_indexer] = value instead\n",
      "\n",
      "See the caveats in the documentation: https://pandas.pydata.org/pandas-docs/stable/user_guide/indexing.html#returning-a-view-versus-a-copy\n",
      "  componentes['seasonal_prophet'] = 0\n",
      " 45%|████▍     | 348/780 [1:11:14<1:03:17,  8.79s/it]19:51:28 - cmdstanpy - INFO - Chain [1] start processing\n",
      "19:51:28 - cmdstanpy - INFO - Chain [1] done processing\n",
      "C:\\Users\\waldo\\AppData\\Local\\Temp\\ipykernel_44800\\1165039906.py:39: SettingWithCopyWarning: \n",
      "A value is trying to be set on a copy of a slice from a DataFrame.\n",
      "Try using .loc[row_indexer,col_indexer] = value instead\n",
      "\n",
      "See the caveats in the documentation: https://pandas.pydata.org/pandas-docs/stable/user_guide/indexing.html#returning-a-view-versus-a-copy\n",
      "  componentes['seasonal_prophet'] = 0\n",
      " 45%|████▍     | 349/780 [1:11:22<59:51,  8.33s/it]  19:51:35 - cmdstanpy - INFO - Chain [1] start processing\n",
      "19:51:35 - cmdstanpy - INFO - Chain [1] done processing\n",
      "C:\\Users\\waldo\\AppData\\Local\\Temp\\ipykernel_44800\\1165039906.py:39: SettingWithCopyWarning: \n",
      "A value is trying to be set on a copy of a slice from a DataFrame.\n",
      "Try using .loc[row_indexer,col_indexer] = value instead\n",
      "\n",
      "See the caveats in the documentation: https://pandas.pydata.org/pandas-docs/stable/user_guide/indexing.html#returning-a-view-versus-a-copy\n",
      "  componentes['seasonal_prophet'] = 0\n",
      " 45%|████▍     | 350/780 [1:11:23<45:32,  6.36s/it]19:51:37 - cmdstanpy - INFO - Chain [1] start processing\n",
      "19:51:37 - cmdstanpy - INFO - Chain [1] done processing\n",
      "C:\\Users\\waldo\\AppData\\Local\\Temp\\ipykernel_44800\\1165039906.py:39: SettingWithCopyWarning: \n",
      "A value is trying to be set on a copy of a slice from a DataFrame.\n",
      "Try using .loc[row_indexer,col_indexer] = value instead\n",
      "\n",
      "See the caveats in the documentation: https://pandas.pydata.org/pandas-docs/stable/user_guide/indexing.html#returning-a-view-versus-a-copy\n",
      "  componentes['seasonal_prophet'] = 0\n",
      " 45%|████▌     | 351/780 [1:11:26<37:27,  5.24s/it]19:51:40 - cmdstanpy - INFO - Chain [1] start processing\n",
      "19:51:40 - cmdstanpy - INFO - Chain [1] done processing\n",
      "C:\\Users\\waldo\\AppData\\Local\\Temp\\ipykernel_44800\\1165039906.py:39: SettingWithCopyWarning: \n",
      "A value is trying to be set on a copy of a slice from a DataFrame.\n",
      "Try using .loc[row_indexer,col_indexer] = value instead\n",
      "\n",
      "See the caveats in the documentation: https://pandas.pydata.org/pandas-docs/stable/user_guide/indexing.html#returning-a-view-versus-a-copy\n",
      "  componentes['seasonal_prophet'] = 0\n",
      " 45%|████▌     | 352/780 [1:11:30<34:17,  4.81s/it]19:51:43 - cmdstanpy - INFO - Chain [1] start processing\n",
      "19:51:44 - cmdstanpy - INFO - Chain [1] done processing\n",
      "C:\\Users\\waldo\\AppData\\Local\\Temp\\ipykernel_44800\\1165039906.py:39: SettingWithCopyWarning: \n",
      "A value is trying to be set on a copy of a slice from a DataFrame.\n",
      "Try using .loc[row_indexer,col_indexer] = value instead\n",
      "\n",
      "See the caveats in the documentation: https://pandas.pydata.org/pandas-docs/stable/user_guide/indexing.html#returning-a-view-versus-a-copy\n",
      "  componentes['seasonal_prophet'] = 0\n",
      " 45%|████▌     | 353/780 [1:11:35<34:20,  4.83s/it]19:51:49 - cmdstanpy - INFO - Chain [1] start processing\n",
      "19:51:49 - cmdstanpy - INFO - Chain [1] done processing\n",
      "C:\\Users\\waldo\\AppData\\Local\\Temp\\ipykernel_44800\\1165039906.py:39: SettingWithCopyWarning: \n",
      "A value is trying to be set on a copy of a slice from a DataFrame.\n",
      "Try using .loc[row_indexer,col_indexer] = value instead\n",
      "\n",
      "See the caveats in the documentation: https://pandas.pydata.org/pandas-docs/stable/user_guide/indexing.html#returning-a-view-versus-a-copy\n",
      "  componentes['seasonal_prophet'] = 0\n",
      " 45%|████▌     | 354/780 [1:11:44<43:02,  6.06s/it]19:51:57 - cmdstanpy - INFO - Chain [1] start processing\n",
      "19:51:57 - cmdstanpy - INFO - Chain [1] done processing\n",
      "C:\\Users\\waldo\\AppData\\Local\\Temp\\ipykernel_44800\\1165039906.py:39: SettingWithCopyWarning: \n",
      "A value is trying to be set on a copy of a slice from a DataFrame.\n",
      "Try using .loc[row_indexer,col_indexer] = value instead\n",
      "\n",
      "See the caveats in the documentation: https://pandas.pydata.org/pandas-docs/stable/user_guide/indexing.html#returning-a-view-versus-a-copy\n",
      "  componentes['seasonal_prophet'] = 0\n",
      " 46%|████▌     | 355/780 [1:11:49<40:25,  5.71s/it]19:52:02 - cmdstanpy - INFO - Chain [1] start processing\n",
      "19:52:03 - cmdstanpy - INFO - Chain [1] done processing\n",
      "C:\\Users\\waldo\\AppData\\Local\\Temp\\ipykernel_44800\\1165039906.py:39: SettingWithCopyWarning: \n",
      "A value is trying to be set on a copy of a slice from a DataFrame.\n",
      "Try using .loc[row_indexer,col_indexer] = value instead\n",
      "\n",
      "See the caveats in the documentation: https://pandas.pydata.org/pandas-docs/stable/user_guide/indexing.html#returning-a-view-versus-a-copy\n",
      "  componentes['seasonal_prophet'] = 0\n",
      " 46%|████▌     | 356/780 [1:11:57<45:15,  6.40s/it]19:52:10 - cmdstanpy - INFO - Chain [1] start processing\n",
      "19:52:10 - cmdstanpy - INFO - Chain [1] done processing\n",
      "C:\\Users\\waldo\\AppData\\Local\\Temp\\ipykernel_44800\\1165039906.py:39: SettingWithCopyWarning: \n",
      "A value is trying to be set on a copy of a slice from a DataFrame.\n",
      "Try using .loc[row_indexer,col_indexer] = value instead\n",
      "\n",
      "See the caveats in the documentation: https://pandas.pydata.org/pandas-docs/stable/user_guide/indexing.html#returning-a-view-versus-a-copy\n",
      "  componentes['seasonal_prophet'] = 0\n",
      " 46%|████▌     | 357/780 [1:12:00<38:22,  5.44s/it]19:52:13 - cmdstanpy - INFO - Chain [1] start processing\n",
      "19:52:13 - cmdstanpy - INFO - Chain [1] done processing\n",
      "C:\\Users\\waldo\\AppData\\Local\\Temp\\ipykernel_44800\\1165039906.py:39: SettingWithCopyWarning: \n",
      "A value is trying to be set on a copy of a slice from a DataFrame.\n",
      "Try using .loc[row_indexer,col_indexer] = value instead\n",
      "\n",
      "See the caveats in the documentation: https://pandas.pydata.org/pandas-docs/stable/user_guide/indexing.html#returning-a-view-versus-a-copy\n",
      "  componentes['seasonal_prophet'] = 0\n",
      " 46%|████▌     | 358/780 [1:12:02<31:02,  4.41s/it]19:52:15 - cmdstanpy - INFO - Chain [1] start processing\n",
      "19:52:15 - cmdstanpy - INFO - Chain [1] done processing\n",
      "C:\\Users\\waldo\\AppData\\Local\\Temp\\ipykernel_44800\\1165039906.py:39: SettingWithCopyWarning: \n",
      "A value is trying to be set on a copy of a slice from a DataFrame.\n",
      "Try using .loc[row_indexer,col_indexer] = value instead\n",
      "\n",
      "See the caveats in the documentation: https://pandas.pydata.org/pandas-docs/stable/user_guide/indexing.html#returning-a-view-versus-a-copy\n",
      "  componentes['seasonal_prophet'] = 0\n",
      " 46%|████▌     | 359/780 [1:12:05<28:50,  4.11s/it]19:52:19 - cmdstanpy - INFO - Chain [1] start processing\n",
      "19:52:19 - cmdstanpy - INFO - Chain [1] done processing\n",
      "C:\\Users\\waldo\\AppData\\Local\\Temp\\ipykernel_44800\\1165039906.py:39: SettingWithCopyWarning: \n",
      "A value is trying to be set on a copy of a slice from a DataFrame.\n",
      "Try using .loc[row_indexer,col_indexer] = value instead\n",
      "\n",
      "See the caveats in the documentation: https://pandas.pydata.org/pandas-docs/stable/user_guide/indexing.html#returning-a-view-versus-a-copy\n",
      "  componentes['seasonal_prophet'] = 0\n",
      " 46%|████▌     | 360/780 [1:12:07<24:44,  3.54s/it]19:52:21 - cmdstanpy - INFO - Chain [1] start processing\n",
      "19:52:21 - cmdstanpy - INFO - Chain [1] done processing\n",
      "C:\\Users\\waldo\\AppData\\Local\\Temp\\ipykernel_44800\\1165039906.py:39: SettingWithCopyWarning: \n",
      "A value is trying to be set on a copy of a slice from a DataFrame.\n",
      "Try using .loc[row_indexer,col_indexer] = value instead\n",
      "\n",
      "See the caveats in the documentation: https://pandas.pydata.org/pandas-docs/stable/user_guide/indexing.html#returning-a-view-versus-a-copy\n",
      "  componentes['seasonal_prophet'] = 0\n",
      " 46%|████▋     | 361/780 [1:12:13<28:19,  4.06s/it]19:52:26 - cmdstanpy - INFO - Chain [1] start processing\n",
      "19:52:26 - cmdstanpy - INFO - Chain [1] done processing\n",
      "C:\\Users\\waldo\\AppData\\Local\\Temp\\ipykernel_44800\\1165039906.py:39: SettingWithCopyWarning: \n",
      "A value is trying to be set on a copy of a slice from a DataFrame.\n",
      "Try using .loc[row_indexer,col_indexer] = value instead\n",
      "\n",
      "See the caveats in the documentation: https://pandas.pydata.org/pandas-docs/stable/user_guide/indexing.html#returning-a-view-versus-a-copy\n",
      "  componentes['seasonal_prophet'] = 0\n",
      " 46%|████▋     | 362/780 [1:12:19<33:40,  4.83s/it]19:52:33 - cmdstanpy - INFO - Chain [1] start processing\n",
      "19:52:33 - cmdstanpy - INFO - Chain [1] done processing\n",
      "C:\\Users\\waldo\\AppData\\Local\\Temp\\ipykernel_44800\\1165039906.py:39: SettingWithCopyWarning: \n",
      "A value is trying to be set on a copy of a slice from a DataFrame.\n",
      "Try using .loc[row_indexer,col_indexer] = value instead\n",
      "\n",
      "See the caveats in the documentation: https://pandas.pydata.org/pandas-docs/stable/user_guide/indexing.html#returning-a-view-versus-a-copy\n",
      "  componentes['seasonal_prophet'] = 0\n",
      " 47%|████▋     | 363/780 [1:12:26<37:38,  5.42s/it]19:52:40 - cmdstanpy - INFO - Chain [1] start processing\n",
      "19:52:40 - cmdstanpy - INFO - Chain [1] done processing\n",
      "C:\\Users\\waldo\\AppData\\Local\\Temp\\ipykernel_44800\\1165039906.py:39: SettingWithCopyWarning: \n",
      "A value is trying to be set on a copy of a slice from a DataFrame.\n",
      "Try using .loc[row_indexer,col_indexer] = value instead\n",
      "\n",
      "See the caveats in the documentation: https://pandas.pydata.org/pandas-docs/stable/user_guide/indexing.html#returning-a-view-versus-a-copy\n",
      "  componentes['seasonal_prophet'] = 0\n",
      " 47%|████▋     | 364/780 [1:12:29<32:58,  4.76s/it]19:52:43 - cmdstanpy - INFO - Chain [1] start processing\n",
      "19:52:43 - cmdstanpy - INFO - Chain [1] done processing\n",
      "C:\\Users\\waldo\\AppData\\Local\\Temp\\ipykernel_44800\\1165039906.py:39: SettingWithCopyWarning: \n",
      "A value is trying to be set on a copy of a slice from a DataFrame.\n",
      "Try using .loc[row_indexer,col_indexer] = value instead\n",
      "\n",
      "See the caveats in the documentation: https://pandas.pydata.org/pandas-docs/stable/user_guide/indexing.html#returning-a-view-versus-a-copy\n",
      "  componentes['seasonal_prophet'] = 0\n",
      " 47%|████▋     | 365/780 [1:12:32<29:18,  4.24s/it]19:52:46 - cmdstanpy - INFO - Chain [1] start processing\n",
      "19:52:46 - cmdstanpy - INFO - Chain [1] done processing\n",
      "C:\\Users\\waldo\\AppData\\Local\\Temp\\ipykernel_44800\\1165039906.py:39: SettingWithCopyWarning: \n",
      "A value is trying to be set on a copy of a slice from a DataFrame.\n",
      "Try using .loc[row_indexer,col_indexer] = value instead\n",
      "\n",
      "See the caveats in the documentation: https://pandas.pydata.org/pandas-docs/stable/user_guide/indexing.html#returning-a-view-versus-a-copy\n",
      "  componentes['seasonal_prophet'] = 0\n",
      " 47%|████▋     | 366/780 [1:12:38<32:55,  4.77s/it]19:52:52 - cmdstanpy - INFO - Chain [1] start processing\n",
      "19:52:52 - cmdstanpy - INFO - Chain [1] done processing\n",
      "C:\\Users\\waldo\\AppData\\Local\\Temp\\ipykernel_44800\\1165039906.py:39: SettingWithCopyWarning: \n",
      "A value is trying to be set on a copy of a slice from a DataFrame.\n",
      "Try using .loc[row_indexer,col_indexer] = value instead\n",
      "\n",
      "See the caveats in the documentation: https://pandas.pydata.org/pandas-docs/stable/user_guide/indexing.html#returning-a-view-versus-a-copy\n",
      "  componentes['seasonal_prophet'] = 0\n",
      " 47%|████▋     | 367/780 [1:12:42<29:35,  4.30s/it]19:52:55 - cmdstanpy - INFO - Chain [1] start processing\n",
      "19:52:56 - cmdstanpy - INFO - Chain [1] done processing\n",
      "C:\\Users\\waldo\\AppData\\Local\\Temp\\ipykernel_44800\\1165039906.py:39: SettingWithCopyWarning: \n",
      "A value is trying to be set on a copy of a slice from a DataFrame.\n",
      "Try using .loc[row_indexer,col_indexer] = value instead\n",
      "\n",
      "See the caveats in the documentation: https://pandas.pydata.org/pandas-docs/stable/user_guide/indexing.html#returning-a-view-versus-a-copy\n",
      "  componentes['seasonal_prophet'] = 0\n",
      " 47%|████▋     | 368/780 [1:12:48<32:55,  4.79s/it]19:53:01 - cmdstanpy - INFO - Chain [1] start processing\n",
      "19:53:01 - cmdstanpy - INFO - Chain [1] done processing\n",
      "C:\\Users\\waldo\\AppData\\Local\\Temp\\ipykernel_44800\\1165039906.py:39: SettingWithCopyWarning: \n",
      "A value is trying to be set on a copy of a slice from a DataFrame.\n",
      "Try using .loc[row_indexer,col_indexer] = value instead\n",
      "\n",
      "See the caveats in the documentation: https://pandas.pydata.org/pandas-docs/stable/user_guide/indexing.html#returning-a-view-versus-a-copy\n",
      "  componentes['seasonal_prophet'] = 0\n",
      " 47%|████▋     | 369/780 [1:12:49<26:52,  3.92s/it]19:53:03 - cmdstanpy - INFO - Chain [1] start processing\n",
      "19:53:03 - cmdstanpy - INFO - Chain [1] done processing\n",
      "C:\\Users\\waldo\\AppData\\Local\\Temp\\ipykernel_44800\\1165039906.py:39: SettingWithCopyWarning: \n",
      "A value is trying to be set on a copy of a slice from a DataFrame.\n",
      "Try using .loc[row_indexer,col_indexer] = value instead\n",
      "\n",
      "See the caveats in the documentation: https://pandas.pydata.org/pandas-docs/stable/user_guide/indexing.html#returning-a-view-versus-a-copy\n",
      "  componentes['seasonal_prophet'] = 0\n",
      " 47%|████▋     | 370/780 [1:12:52<24:28,  3.58s/it]19:53:06 - cmdstanpy - INFO - Chain [1] start processing\n",
      "19:53:06 - cmdstanpy - INFO - Chain [1] done processing\n",
      "C:\\Users\\waldo\\AppData\\Local\\Temp\\ipykernel_44800\\1165039906.py:39: SettingWithCopyWarning: \n",
      "A value is trying to be set on a copy of a slice from a DataFrame.\n",
      "Try using .loc[row_indexer,col_indexer] = value instead\n",
      "\n",
      "See the caveats in the documentation: https://pandas.pydata.org/pandas-docs/stable/user_guide/indexing.html#returning-a-view-versus-a-copy\n",
      "  componentes['seasonal_prophet'] = 0\n",
      " 48%|████▊     | 371/780 [1:12:56<24:56,  3.66s/it]19:53:09 - cmdstanpy - INFO - Chain [1] start processing\n",
      "19:53:09 - cmdstanpy - INFO - Chain [1] done processing\n",
      "C:\\Users\\waldo\\AppData\\Local\\Temp\\ipykernel_44800\\1165039906.py:39: SettingWithCopyWarning: \n",
      "A value is trying to be set on a copy of a slice from a DataFrame.\n",
      "Try using .loc[row_indexer,col_indexer] = value instead\n",
      "\n",
      "See the caveats in the documentation: https://pandas.pydata.org/pandas-docs/stable/user_guide/indexing.html#returning-a-view-versus-a-copy\n",
      "  componentes['seasonal_prophet'] = 0\n",
      " 48%|████▊     | 372/780 [1:12:57<20:13,  2.97s/it]19:53:11 - cmdstanpy - INFO - Chain [1] start processing\n",
      "19:53:11 - cmdstanpy - INFO - Chain [1] done processing\n",
      "C:\\Users\\waldo\\AppData\\Local\\Temp\\ipykernel_44800\\1165039906.py:39: SettingWithCopyWarning: \n",
      "A value is trying to be set on a copy of a slice from a DataFrame.\n",
      "Try using .loc[row_indexer,col_indexer] = value instead\n",
      "\n",
      "See the caveats in the documentation: https://pandas.pydata.org/pandas-docs/stable/user_guide/indexing.html#returning-a-view-versus-a-copy\n",
      "  componentes['seasonal_prophet'] = 0\n",
      " 48%|████▊     | 373/780 [1:13:00<20:22,  3.00s/it]19:53:14 - cmdstanpy - INFO - Chain [1] start processing\n",
      "19:53:14 - cmdstanpy - INFO - Chain [1] done processing\n",
      "C:\\Users\\waldo\\AppData\\Local\\Temp\\ipykernel_44800\\1165039906.py:39: SettingWithCopyWarning: \n",
      "A value is trying to be set on a copy of a slice from a DataFrame.\n",
      "Try using .loc[row_indexer,col_indexer] = value instead\n",
      "\n",
      "See the caveats in the documentation: https://pandas.pydata.org/pandas-docs/stable/user_guide/indexing.html#returning-a-view-versus-a-copy\n",
      "  componentes['seasonal_prophet'] = 0\n",
      " 48%|████▊     | 374/780 [1:13:04<21:47,  3.22s/it]19:53:18 - cmdstanpy - INFO - Chain [1] start processing\n",
      "19:53:18 - cmdstanpy - INFO - Chain [1] done processing\n",
      "C:\\Users\\waldo\\AppData\\Local\\Temp\\ipykernel_44800\\1165039906.py:39: SettingWithCopyWarning: \n",
      "A value is trying to be set on a copy of a slice from a DataFrame.\n",
      "Try using .loc[row_indexer,col_indexer] = value instead\n",
      "\n",
      "See the caveats in the documentation: https://pandas.pydata.org/pandas-docs/stable/user_guide/indexing.html#returning-a-view-versus-a-copy\n",
      "  componentes['seasonal_prophet'] = 0\n",
      " 48%|████▊     | 375/780 [1:13:10<26:15,  3.89s/it]19:53:23 - cmdstanpy - INFO - Chain [1] start processing\n",
      "19:53:23 - cmdstanpy - INFO - Chain [1] done processing\n",
      "C:\\Users\\waldo\\AppData\\Local\\Temp\\ipykernel_44800\\1165039906.py:39: SettingWithCopyWarning: \n",
      "A value is trying to be set on a copy of a slice from a DataFrame.\n",
      "Try using .loc[row_indexer,col_indexer] = value instead\n",
      "\n",
      "See the caveats in the documentation: https://pandas.pydata.org/pandas-docs/stable/user_guide/indexing.html#returning-a-view-versus-a-copy\n",
      "  componentes['seasonal_prophet'] = 0\n",
      " 48%|████▊     | 376/780 [1:13:13<24:53,  3.70s/it]19:53:26 - cmdstanpy - INFO - Chain [1] start processing\n",
      "19:53:27 - cmdstanpy - INFO - Chain [1] done processing\n",
      "C:\\Users\\waldo\\AppData\\Local\\Temp\\ipykernel_44800\\1165039906.py:39: SettingWithCopyWarning: \n",
      "A value is trying to be set on a copy of a slice from a DataFrame.\n",
      "Try using .loc[row_indexer,col_indexer] = value instead\n",
      "\n",
      "See the caveats in the documentation: https://pandas.pydata.org/pandas-docs/stable/user_guide/indexing.html#returning-a-view-versus-a-copy\n",
      "  componentes['seasonal_prophet'] = 0\n",
      " 48%|████▊     | 377/780 [1:13:20<32:07,  4.78s/it]19:53:34 - cmdstanpy - INFO - Chain [1] start processing\n",
      "19:53:34 - cmdstanpy - INFO - Chain [1] done processing\n",
      "C:\\Users\\waldo\\AppData\\Local\\Temp\\ipykernel_44800\\1165039906.py:39: SettingWithCopyWarning: \n",
      "A value is trying to be set on a copy of a slice from a DataFrame.\n",
      "Try using .loc[row_indexer,col_indexer] = value instead\n",
      "\n",
      "See the caveats in the documentation: https://pandas.pydata.org/pandas-docs/stable/user_guide/indexing.html#returning-a-view-versus-a-copy\n",
      "  componentes['seasonal_prophet'] = 0\n",
      " 48%|████▊     | 378/780 [1:13:23<27:55,  4.17s/it]19:53:36 - cmdstanpy - INFO - Chain [1] start processing\n",
      "19:53:36 - cmdstanpy - INFO - Chain [1] done processing\n",
      "C:\\Users\\waldo\\AppData\\Local\\Temp\\ipykernel_44800\\1165039906.py:39: SettingWithCopyWarning: \n",
      "A value is trying to be set on a copy of a slice from a DataFrame.\n",
      "Try using .loc[row_indexer,col_indexer] = value instead\n",
      "\n",
      "See the caveats in the documentation: https://pandas.pydata.org/pandas-docs/stable/user_guide/indexing.html#returning-a-view-versus-a-copy\n",
      "  componentes['seasonal_prophet'] = 0\n",
      " 49%|████▊     | 379/780 [1:13:28<28:40,  4.29s/it]19:53:41 - cmdstanpy - INFO - Chain [1] start processing\n",
      "19:53:41 - cmdstanpy - INFO - Chain [1] done processing\n",
      "C:\\Users\\waldo\\AppData\\Local\\Temp\\ipykernel_44800\\1165039906.py:39: SettingWithCopyWarning: \n",
      "A value is trying to be set on a copy of a slice from a DataFrame.\n",
      "Try using .loc[row_indexer,col_indexer] = value instead\n",
      "\n",
      "See the caveats in the documentation: https://pandas.pydata.org/pandas-docs/stable/user_guide/indexing.html#returning-a-view-versus-a-copy\n",
      "  componentes['seasonal_prophet'] = 0\n",
      " 49%|████▊     | 380/780 [1:13:29<23:35,  3.54s/it]19:53:43 - cmdstanpy - INFO - Chain [1] start processing\n",
      "19:53:43 - cmdstanpy - INFO - Chain [1] done processing\n",
      "C:\\Users\\waldo\\AppData\\Local\\Temp\\ipykernel_44800\\1165039906.py:39: SettingWithCopyWarning: \n",
      "A value is trying to be set on a copy of a slice from a DataFrame.\n",
      "Try using .loc[row_indexer,col_indexer] = value instead\n",
      "\n",
      "See the caveats in the documentation: https://pandas.pydata.org/pandas-docs/stable/user_guide/indexing.html#returning-a-view-versus-a-copy\n",
      "  componentes['seasonal_prophet'] = 0\n",
      " 49%|████▉     | 381/780 [1:13:32<22:46,  3.42s/it]19:53:46 - cmdstanpy - INFO - Chain [1] start processing\n",
      "19:53:46 - cmdstanpy - INFO - Chain [1] done processing\n",
      "C:\\Users\\waldo\\AppData\\Local\\Temp\\ipykernel_44800\\1165039906.py:39: SettingWithCopyWarning: \n",
      "A value is trying to be set on a copy of a slice from a DataFrame.\n",
      "Try using .loc[row_indexer,col_indexer] = value instead\n",
      "\n",
      "See the caveats in the documentation: https://pandas.pydata.org/pandas-docs/stable/user_guide/indexing.html#returning-a-view-versus-a-copy\n",
      "  componentes['seasonal_prophet'] = 0\n",
      " 49%|████▉     | 382/780 [1:13:38<27:51,  4.20s/it]19:53:52 - cmdstanpy - INFO - Chain [1] start processing\n",
      "19:53:52 - cmdstanpy - INFO - Chain [1] done processing\n",
      "C:\\Users\\waldo\\AppData\\Local\\Temp\\ipykernel_44800\\1165039906.py:39: SettingWithCopyWarning: \n",
      "A value is trying to be set on a copy of a slice from a DataFrame.\n",
      "Try using .loc[row_indexer,col_indexer] = value instead\n",
      "\n",
      "See the caveats in the documentation: https://pandas.pydata.org/pandas-docs/stable/user_guide/indexing.html#returning-a-view-versus-a-copy\n",
      "  componentes['seasonal_prophet'] = 0\n",
      " 49%|████▉     | 383/780 [1:13:44<29:40,  4.49s/it]19:53:57 - cmdstanpy - INFO - Chain [1] start processing\n",
      "19:53:57 - cmdstanpy - INFO - Chain [1] done processing\n",
      "C:\\Users\\waldo\\AppData\\Local\\Temp\\ipykernel_44800\\1165039906.py:39: SettingWithCopyWarning: \n",
      "A value is trying to be set on a copy of a slice from a DataFrame.\n",
      "Try using .loc[row_indexer,col_indexer] = value instead\n",
      "\n",
      "See the caveats in the documentation: https://pandas.pydata.org/pandas-docs/stable/user_guide/indexing.html#returning-a-view-versus-a-copy\n",
      "  componentes['seasonal_prophet'] = 0\n",
      " 49%|████▉     | 384/780 [1:13:51<34:56,  5.29s/it]19:54:04 - cmdstanpy - INFO - Chain [1] start processing\n",
      "19:54:04 - cmdstanpy - INFO - Chain [1] done processing\n",
      "C:\\Users\\waldo\\AppData\\Local\\Temp\\ipykernel_44800\\1165039906.py:39: SettingWithCopyWarning: \n",
      "A value is trying to be set on a copy of a slice from a DataFrame.\n",
      "Try using .loc[row_indexer,col_indexer] = value instead\n",
      "\n",
      "See the caveats in the documentation: https://pandas.pydata.org/pandas-docs/stable/user_guide/indexing.html#returning-a-view-versus-a-copy\n",
      "  componentes['seasonal_prophet'] = 0\n",
      " 49%|████▉     | 385/780 [1:13:55<33:36,  5.10s/it]19:54:09 - cmdstanpy - INFO - Chain [1] start processing\n",
      "19:54:09 - cmdstanpy - INFO - Chain [1] done processing\n",
      "C:\\Users\\waldo\\AppData\\Local\\Temp\\ipykernel_44800\\1165039906.py:39: SettingWithCopyWarning: \n",
      "A value is trying to be set on a copy of a slice from a DataFrame.\n",
      "Try using .loc[row_indexer,col_indexer] = value instead\n",
      "\n",
      "See the caveats in the documentation: https://pandas.pydata.org/pandas-docs/stable/user_guide/indexing.html#returning-a-view-versus-a-copy\n",
      "  componentes['seasonal_prophet'] = 0\n",
      " 49%|████▉     | 386/780 [1:13:57<25:37,  3.90s/it]19:54:10 - cmdstanpy - INFO - Chain [1] start processing\n",
      "19:54:10 - cmdstanpy - INFO - Chain [1] done processing\n",
      "C:\\Users\\waldo\\AppData\\Local\\Temp\\ipykernel_44800\\1165039906.py:39: SettingWithCopyWarning: \n",
      "A value is trying to be set on a copy of a slice from a DataFrame.\n",
      "Try using .loc[row_indexer,col_indexer] = value instead\n",
      "\n",
      "See the caveats in the documentation: https://pandas.pydata.org/pandas-docs/stable/user_guide/indexing.html#returning-a-view-versus-a-copy\n",
      "  componentes['seasonal_prophet'] = 0\n",
      " 50%|████▉     | 387/780 [1:14:05<33:27,  5.11s/it]19:54:18 - cmdstanpy - INFO - Chain [1] start processing\n",
      "19:54:18 - cmdstanpy - INFO - Chain [1] done processing\n",
      "C:\\Users\\waldo\\AppData\\Local\\Temp\\ipykernel_44800\\1165039906.py:39: SettingWithCopyWarning: \n",
      "A value is trying to be set on a copy of a slice from a DataFrame.\n",
      "Try using .loc[row_indexer,col_indexer] = value instead\n",
      "\n",
      "See the caveats in the documentation: https://pandas.pydata.org/pandas-docs/stable/user_guide/indexing.html#returning-a-view-versus-a-copy\n",
      "  componentes['seasonal_prophet'] = 0\n",
      " 50%|████▉     | 388/780 [1:14:07<29:01,  4.44s/it]19:54:21 - cmdstanpy - INFO - Chain [1] start processing\n",
      "19:54:21 - cmdstanpy - INFO - Chain [1] done processing\n",
      "C:\\Users\\waldo\\AppData\\Local\\Temp\\ipykernel_44800\\1165039906.py:39: SettingWithCopyWarning: \n",
      "A value is trying to be set on a copy of a slice from a DataFrame.\n",
      "Try using .loc[row_indexer,col_indexer] = value instead\n",
      "\n",
      "See the caveats in the documentation: https://pandas.pydata.org/pandas-docs/stable/user_guide/indexing.html#returning-a-view-versus-a-copy\n",
      "  componentes['seasonal_prophet'] = 0\n",
      " 50%|████▉     | 389/780 [1:14:12<29:31,  4.53s/it]19:54:25 - cmdstanpy - INFO - Chain [1] start processing\n",
      "19:54:25 - cmdstanpy - INFO - Chain [1] done processing\n",
      "C:\\Users\\waldo\\AppData\\Local\\Temp\\ipykernel_44800\\1165039906.py:39: SettingWithCopyWarning: \n",
      "A value is trying to be set on a copy of a slice from a DataFrame.\n",
      "Try using .loc[row_indexer,col_indexer] = value instead\n",
      "\n",
      "See the caveats in the documentation: https://pandas.pydata.org/pandas-docs/stable/user_guide/indexing.html#returning-a-view-versus-a-copy\n",
      "  componentes['seasonal_prophet'] = 0\n",
      " 50%|█████     | 390/780 [1:14:14<23:30,  3.62s/it]19:54:27 - cmdstanpy - INFO - Chain [1] start processing\n",
      "19:54:27 - cmdstanpy - INFO - Chain [1] done processing\n",
      "C:\\Users\\waldo\\AppData\\Local\\Temp\\ipykernel_44800\\1165039906.py:39: SettingWithCopyWarning: \n",
      "A value is trying to be set on a copy of a slice from a DataFrame.\n",
      "Try using .loc[row_indexer,col_indexer] = value instead\n",
      "\n",
      "See the caveats in the documentation: https://pandas.pydata.org/pandas-docs/stable/user_guide/indexing.html#returning-a-view-versus-a-copy\n",
      "  componentes['seasonal_prophet'] = 0\n",
      " 50%|█████     | 391/780 [1:14:14<18:02,  2.78s/it]19:54:28 - cmdstanpy - INFO - Chain [1] start processing\n",
      "19:54:28 - cmdstanpy - INFO - Chain [1] done processing\n",
      "C:\\Users\\waldo\\AppData\\Local\\Temp\\ipykernel_44800\\1165039906.py:39: SettingWithCopyWarning: \n",
      "A value is trying to be set on a copy of a slice from a DataFrame.\n",
      "Try using .loc[row_indexer,col_indexer] = value instead\n",
      "\n",
      "See the caveats in the documentation: https://pandas.pydata.org/pandas-docs/stable/user_guide/indexing.html#returning-a-view-versus-a-copy\n",
      "  componentes['seasonal_prophet'] = 0\n",
      " 50%|█████     | 392/780 [1:14:19<21:11,  3.28s/it]19:54:32 - cmdstanpy - INFO - Chain [1] start processing\n",
      "19:54:32 - cmdstanpy - INFO - Chain [1] done processing\n",
      "C:\\Users\\waldo\\AppData\\Local\\Temp\\ipykernel_44800\\1165039906.py:39: SettingWithCopyWarning: \n",
      "A value is trying to be set on a copy of a slice from a DataFrame.\n",
      "Try using .loc[row_indexer,col_indexer] = value instead\n",
      "\n",
      "See the caveats in the documentation: https://pandas.pydata.org/pandas-docs/stable/user_guide/indexing.html#returning-a-view-versus-a-copy\n",
      "  componentes['seasonal_prophet'] = 0\n",
      " 50%|█████     | 393/780 [1:14:22<20:01,  3.10s/it]19:54:35 - cmdstanpy - INFO - Chain [1] start processing\n",
      "19:54:35 - cmdstanpy - INFO - Chain [1] done processing\n",
      "C:\\Users\\waldo\\AppData\\Local\\Temp\\ipykernel_44800\\1165039906.py:39: SettingWithCopyWarning: \n",
      "A value is trying to be set on a copy of a slice from a DataFrame.\n",
      "Try using .loc[row_indexer,col_indexer] = value instead\n",
      "\n",
      "See the caveats in the documentation: https://pandas.pydata.org/pandas-docs/stable/user_guide/indexing.html#returning-a-view-versus-a-copy\n",
      "  componentes['seasonal_prophet'] = 0\n",
      " 51%|█████     | 394/780 [1:14:23<17:15,  2.68s/it]19:54:36 - cmdstanpy - INFO - Chain [1] start processing\n",
      "19:54:37 - cmdstanpy - INFO - Chain [1] done processing\n",
      "C:\\Users\\waldo\\AppData\\Local\\Temp\\ipykernel_44800\\1165039906.py:39: SettingWithCopyWarning: \n",
      "A value is trying to be set on a copy of a slice from a DataFrame.\n",
      "Try using .loc[row_indexer,col_indexer] = value instead\n",
      "\n",
      "See the caveats in the documentation: https://pandas.pydata.org/pandas-docs/stable/user_guide/indexing.html#returning-a-view-versus-a-copy\n",
      "  componentes['seasonal_prophet'] = 0\n",
      " 51%|█████     | 395/780 [1:14:25<14:41,  2.29s/it]19:54:38 - cmdstanpy - INFO - Chain [1] start processing\n",
      "19:54:38 - cmdstanpy - INFO - Chain [1] done processing\n",
      "C:\\Users\\waldo\\AppData\\Local\\Temp\\ipykernel_44800\\1165039906.py:39: SettingWithCopyWarning: \n",
      "A value is trying to be set on a copy of a slice from a DataFrame.\n",
      "Try using .loc[row_indexer,col_indexer] = value instead\n",
      "\n",
      "See the caveats in the documentation: https://pandas.pydata.org/pandas-docs/stable/user_guide/indexing.html#returning-a-view-versus-a-copy\n",
      "  componentes['seasonal_prophet'] = 0\n",
      " 51%|█████     | 396/780 [1:14:26<13:41,  2.14s/it]19:54:40 - cmdstanpy - INFO - Chain [1] start processing\n",
      "19:54:40 - cmdstanpy - INFO - Chain [1] done processing\n",
      "C:\\Users\\waldo\\AppData\\Local\\Temp\\ipykernel_44800\\1165039906.py:39: SettingWithCopyWarning: \n",
      "A value is trying to be set on a copy of a slice from a DataFrame.\n",
      "Try using .loc[row_indexer,col_indexer] = value instead\n",
      "\n",
      "See the caveats in the documentation: https://pandas.pydata.org/pandas-docs/stable/user_guide/indexing.html#returning-a-view-versus-a-copy\n",
      "  componentes['seasonal_prophet'] = 0\n",
      " 51%|█████     | 397/780 [1:14:30<15:59,  2.50s/it]19:54:43 - cmdstanpy - INFO - Chain [1] start processing\n",
      "19:54:43 - cmdstanpy - INFO - Chain [1] done processing\n",
      "C:\\Users\\waldo\\AppData\\Local\\Temp\\ipykernel_44800\\1165039906.py:39: SettingWithCopyWarning: \n",
      "A value is trying to be set on a copy of a slice from a DataFrame.\n",
      "Try using .loc[row_indexer,col_indexer] = value instead\n",
      "\n",
      "See the caveats in the documentation: https://pandas.pydata.org/pandas-docs/stable/user_guide/indexing.html#returning-a-view-versus-a-copy\n",
      "  componentes['seasonal_prophet'] = 0\n",
      " 51%|█████     | 398/780 [1:14:33<16:46,  2.64s/it]19:54:46 - cmdstanpy - INFO - Chain [1] start processing\n",
      "19:54:46 - cmdstanpy - INFO - Chain [1] done processing\n",
      "C:\\Users\\waldo\\AppData\\Local\\Temp\\ipykernel_44800\\1165039906.py:39: SettingWithCopyWarning: \n",
      "A value is trying to be set on a copy of a slice from a DataFrame.\n",
      "Try using .loc[row_indexer,col_indexer] = value instead\n",
      "\n",
      "See the caveats in the documentation: https://pandas.pydata.org/pandas-docs/stable/user_guide/indexing.html#returning-a-view-versus-a-copy\n",
      "  componentes['seasonal_prophet'] = 0\n",
      " 51%|█████     | 399/780 [1:14:35<15:03,  2.37s/it]19:54:48 - cmdstanpy - INFO - Chain [1] start processing\n",
      "19:54:48 - cmdstanpy - INFO - Chain [1] done processing\n",
      "C:\\Users\\waldo\\AppData\\Local\\Temp\\ipykernel_44800\\1165039906.py:39: SettingWithCopyWarning: \n",
      "A value is trying to be set on a copy of a slice from a DataFrame.\n",
      "Try using .loc[row_indexer,col_indexer] = value instead\n",
      "\n",
      "See the caveats in the documentation: https://pandas.pydata.org/pandas-docs/stable/user_guide/indexing.html#returning-a-view-versus-a-copy\n",
      "  componentes['seasonal_prophet'] = 0\n",
      " 51%|█████▏    | 400/780 [1:14:36<13:08,  2.07s/it]19:54:49 - cmdstanpy - INFO - Chain [1] start processing\n",
      "19:54:49 - cmdstanpy - INFO - Chain [1] done processing\n",
      "C:\\Users\\waldo\\AppData\\Local\\Temp\\ipykernel_44800\\1165039906.py:39: SettingWithCopyWarning: \n",
      "A value is trying to be set on a copy of a slice from a DataFrame.\n",
      "Try using .loc[row_indexer,col_indexer] = value instead\n",
      "\n",
      "See the caveats in the documentation: https://pandas.pydata.org/pandas-docs/stable/user_guide/indexing.html#returning-a-view-versus-a-copy\n",
      "  componentes['seasonal_prophet'] = 0\n",
      " 51%|█████▏    | 401/780 [1:14:39<14:52,  2.35s/it]19:54:52 - cmdstanpy - INFO - Chain [1] start processing\n",
      "19:54:52 - cmdstanpy - INFO - Chain [1] done processing\n",
      "C:\\Users\\waldo\\AppData\\Local\\Temp\\ipykernel_44800\\1165039906.py:39: SettingWithCopyWarning: \n",
      "A value is trying to be set on a copy of a slice from a DataFrame.\n",
      "Try using .loc[row_indexer,col_indexer] = value instead\n",
      "\n",
      "See the caveats in the documentation: https://pandas.pydata.org/pandas-docs/stable/user_guide/indexing.html#returning-a-view-versus-a-copy\n",
      "  componentes['seasonal_prophet'] = 0\n",
      " 52%|█████▏    | 402/780 [1:14:42<15:23,  2.44s/it]19:54:55 - cmdstanpy - INFO - Chain [1] start processing\n",
      "19:54:55 - cmdstanpy - INFO - Chain [1] done processing\n",
      "C:\\Users\\waldo\\AppData\\Local\\Temp\\ipykernel_44800\\1165039906.py:39: SettingWithCopyWarning: \n",
      "A value is trying to be set on a copy of a slice from a DataFrame.\n",
      "Try using .loc[row_indexer,col_indexer] = value instead\n",
      "\n",
      "See the caveats in the documentation: https://pandas.pydata.org/pandas-docs/stable/user_guide/indexing.html#returning-a-view-versus-a-copy\n",
      "  componentes['seasonal_prophet'] = 0\n",
      " 52%|█████▏    | 403/780 [1:14:43<13:35,  2.16s/it]19:54:56 - cmdstanpy - INFO - Chain [1] start processing\n",
      "19:54:56 - cmdstanpy - INFO - Chain [1] done processing\n",
      "C:\\Users\\waldo\\AppData\\Local\\Temp\\ipykernel_44800\\1165039906.py:39: SettingWithCopyWarning: \n",
      "A value is trying to be set on a copy of a slice from a DataFrame.\n",
      "Try using .loc[row_indexer,col_indexer] = value instead\n",
      "\n",
      "See the caveats in the documentation: https://pandas.pydata.org/pandas-docs/stable/user_guide/indexing.html#returning-a-view-versus-a-copy\n",
      "  componentes['seasonal_prophet'] = 0\n",
      " 52%|█████▏    | 404/780 [1:14:45<13:52,  2.21s/it]19:54:59 - cmdstanpy - INFO - Chain [1] start processing\n",
      "19:54:59 - cmdstanpy - INFO - Chain [1] done processing\n",
      "C:\\Users\\waldo\\AppData\\Local\\Temp\\ipykernel_44800\\1165039906.py:39: SettingWithCopyWarning: \n",
      "A value is trying to be set on a copy of a slice from a DataFrame.\n",
      "Try using .loc[row_indexer,col_indexer] = value instead\n",
      "\n",
      "See the caveats in the documentation: https://pandas.pydata.org/pandas-docs/stable/user_guide/indexing.html#returning-a-view-versus-a-copy\n",
      "  componentes['seasonal_prophet'] = 0\n",
      " 52%|█████▏    | 405/780 [1:14:53<23:07,  3.70s/it]19:55:06 - cmdstanpy - INFO - Chain [1] start processing\n",
      "19:55:06 - cmdstanpy - INFO - Chain [1] done processing\n",
      "C:\\Users\\waldo\\AppData\\Local\\Temp\\ipykernel_44800\\1165039906.py:39: SettingWithCopyWarning: \n",
      "A value is trying to be set on a copy of a slice from a DataFrame.\n",
      "Try using .loc[row_indexer,col_indexer] = value instead\n",
      "\n",
      "See the caveats in the documentation: https://pandas.pydata.org/pandas-docs/stable/user_guide/indexing.html#returning-a-view-versus-a-copy\n",
      "  componentes['seasonal_prophet'] = 0\n",
      " 52%|█████▏    | 406/780 [1:14:54<19:28,  3.12s/it]19:55:08 - cmdstanpy - INFO - Chain [1] start processing\n",
      "19:55:08 - cmdstanpy - INFO - Chain [1] done processing\n",
      "C:\\Users\\waldo\\AppData\\Local\\Temp\\ipykernel_44800\\1165039906.py:39: SettingWithCopyWarning: \n",
      "A value is trying to be set on a copy of a slice from a DataFrame.\n",
      "Try using .loc[row_indexer,col_indexer] = value instead\n",
      "\n",
      "See the caveats in the documentation: https://pandas.pydata.org/pandas-docs/stable/user_guide/indexing.html#returning-a-view-versus-a-copy\n",
      "  componentes['seasonal_prophet'] = 0\n",
      " 52%|█████▏    | 407/780 [1:14:59<22:35,  3.63s/it]19:55:13 - cmdstanpy - INFO - Chain [1] start processing\n",
      "19:55:13 - cmdstanpy - INFO - Chain [1] done processing\n",
      "C:\\Users\\waldo\\AppData\\Local\\Temp\\ipykernel_44800\\1165039906.py:39: SettingWithCopyWarning: \n",
      "A value is trying to be set on a copy of a slice from a DataFrame.\n",
      "Try using .loc[row_indexer,col_indexer] = value instead\n",
      "\n",
      "See the caveats in the documentation: https://pandas.pydata.org/pandas-docs/stable/user_guide/indexing.html#returning-a-view-versus-a-copy\n",
      "  componentes['seasonal_prophet'] = 0\n",
      " 52%|█████▏    | 408/780 [1:15:06<28:56,  4.67s/it]19:55:20 - cmdstanpy - INFO - Chain [1] start processing\n",
      "19:55:20 - cmdstanpy - INFO - Chain [1] done processing\n",
      "C:\\Users\\waldo\\AppData\\Local\\Temp\\ipykernel_44800\\1165039906.py:39: SettingWithCopyWarning: \n",
      "A value is trying to be set on a copy of a slice from a DataFrame.\n",
      "Try using .loc[row_indexer,col_indexer] = value instead\n",
      "\n",
      "See the caveats in the documentation: https://pandas.pydata.org/pandas-docs/stable/user_guide/indexing.html#returning-a-view-versus-a-copy\n",
      "  componentes['seasonal_prophet'] = 0\n",
      " 52%|█████▏    | 409/780 [1:15:10<26:33,  4.29s/it]19:55:23 - cmdstanpy - INFO - Chain [1] start processing\n",
      "19:55:23 - cmdstanpy - INFO - Chain [1] done processing\n",
      "C:\\Users\\waldo\\AppData\\Local\\Temp\\ipykernel_44800\\1165039906.py:39: SettingWithCopyWarning: \n",
      "A value is trying to be set on a copy of a slice from a DataFrame.\n",
      "Try using .loc[row_indexer,col_indexer] = value instead\n",
      "\n",
      "See the caveats in the documentation: https://pandas.pydata.org/pandas-docs/stable/user_guide/indexing.html#returning-a-view-versus-a-copy\n",
      "  componentes['seasonal_prophet'] = 0\n",
      " 53%|█████▎    | 410/780 [1:15:14<26:35,  4.31s/it]19:55:27 - cmdstanpy - INFO - Chain [1] start processing\n",
      "19:55:28 - cmdstanpy - INFO - Chain [1] done processing\n",
      "C:\\Users\\waldo\\AppData\\Local\\Temp\\ipykernel_44800\\1165039906.py:39: SettingWithCopyWarning: \n",
      "A value is trying to be set on a copy of a slice from a DataFrame.\n",
      "Try using .loc[row_indexer,col_indexer] = value instead\n",
      "\n",
      "See the caveats in the documentation: https://pandas.pydata.org/pandas-docs/stable/user_guide/indexing.html#returning-a-view-versus-a-copy\n",
      "  componentes['seasonal_prophet'] = 0\n",
      " 53%|█████▎    | 411/780 [1:15:19<28:20,  4.61s/it]19:55:33 - cmdstanpy - INFO - Chain [1] start processing\n",
      "19:55:33 - cmdstanpy - INFO - Chain [1] done processing\n",
      "C:\\Users\\waldo\\AppData\\Local\\Temp\\ipykernel_44800\\1165039906.py:39: SettingWithCopyWarning: \n",
      "A value is trying to be set on a copy of a slice from a DataFrame.\n",
      "Try using .loc[row_indexer,col_indexer] = value instead\n",
      "\n",
      "See the caveats in the documentation: https://pandas.pydata.org/pandas-docs/stable/user_guide/indexing.html#returning-a-view-versus-a-copy\n",
      "  componentes['seasonal_prophet'] = 0\n",
      " 53%|█████▎    | 412/780 [1:15:22<25:05,  4.09s/it]19:55:35 - cmdstanpy - INFO - Chain [1] start processing\n",
      "19:55:35 - cmdstanpy - INFO - Chain [1] done processing\n",
      "C:\\Users\\waldo\\AppData\\Local\\Temp\\ipykernel_44800\\1165039906.py:39: SettingWithCopyWarning: \n",
      "A value is trying to be set on a copy of a slice from a DataFrame.\n",
      "Try using .loc[row_indexer,col_indexer] = value instead\n",
      "\n",
      "See the caveats in the documentation: https://pandas.pydata.org/pandas-docs/stable/user_guide/indexing.html#returning-a-view-versus-a-copy\n",
      "  componentes['seasonal_prophet'] = 0\n",
      " 53%|█████▎    | 413/780 [1:15:24<20:04,  3.28s/it]19:55:37 - cmdstanpy - INFO - Chain [1] start processing\n",
      "19:55:37 - cmdstanpy - INFO - Chain [1] done processing\n",
      "C:\\Users\\waldo\\AppData\\Local\\Temp\\ipykernel_44800\\1165039906.py:39: SettingWithCopyWarning: \n",
      "A value is trying to be set on a copy of a slice from a DataFrame.\n",
      "Try using .loc[row_indexer,col_indexer] = value instead\n",
      "\n",
      "See the caveats in the documentation: https://pandas.pydata.org/pandas-docs/stable/user_guide/indexing.html#returning-a-view-versus-a-copy\n",
      "  componentes['seasonal_prophet'] = 0\n",
      " 53%|█████▎    | 414/780 [1:15:25<17:05,  2.80s/it]19:55:39 - cmdstanpy - INFO - Chain [1] start processing\n",
      "19:55:39 - cmdstanpy - INFO - Chain [1] done processing\n",
      "C:\\Users\\waldo\\AppData\\Local\\Temp\\ipykernel_44800\\1165039906.py:39: SettingWithCopyWarning: \n",
      "A value is trying to be set on a copy of a slice from a DataFrame.\n",
      "Try using .loc[row_indexer,col_indexer] = value instead\n",
      "\n",
      "See the caveats in the documentation: https://pandas.pydata.org/pandas-docs/stable/user_guide/indexing.html#returning-a-view-versus-a-copy\n",
      "  componentes['seasonal_prophet'] = 0\n",
      " 53%|█████▎    | 415/780 [1:15:28<16:58,  2.79s/it]19:55:41 - cmdstanpy - INFO - Chain [1] start processing\n",
      "19:55:42 - cmdstanpy - INFO - Chain [1] done processing\n",
      "C:\\Users\\waldo\\AppData\\Local\\Temp\\ipykernel_44800\\1165039906.py:39: SettingWithCopyWarning: \n",
      "A value is trying to be set on a copy of a slice from a DataFrame.\n",
      "Try using .loc[row_indexer,col_indexer] = value instead\n",
      "\n",
      "See the caveats in the documentation: https://pandas.pydata.org/pandas-docs/stable/user_guide/indexing.html#returning-a-view-versus-a-copy\n",
      "  componentes['seasonal_prophet'] = 0\n",
      " 53%|█████▎    | 416/780 [1:15:32<19:47,  3.26s/it]19:55:46 - cmdstanpy - INFO - Chain [1] start processing\n",
      "19:55:46 - cmdstanpy - INFO - Chain [1] done processing\n",
      "C:\\Users\\waldo\\AppData\\Local\\Temp\\ipykernel_44800\\1165039906.py:39: SettingWithCopyWarning: \n",
      "A value is trying to be set on a copy of a slice from a DataFrame.\n",
      "Try using .loc[row_indexer,col_indexer] = value instead\n",
      "\n",
      "See the caveats in the documentation: https://pandas.pydata.org/pandas-docs/stable/user_guide/indexing.html#returning-a-view-versus-a-copy\n",
      "  componentes['seasonal_prophet'] = 0\n",
      " 53%|█████▎    | 417/780 [1:15:35<17:49,  2.95s/it]19:55:48 - cmdstanpy - INFO - Chain [1] start processing\n",
      "19:55:48 - cmdstanpy - INFO - Chain [1] done processing\n",
      "C:\\Users\\waldo\\AppData\\Local\\Temp\\ipykernel_44800\\1165039906.py:39: SettingWithCopyWarning: \n",
      "A value is trying to be set on a copy of a slice from a DataFrame.\n",
      "Try using .loc[row_indexer,col_indexer] = value instead\n",
      "\n",
      "See the caveats in the documentation: https://pandas.pydata.org/pandas-docs/stable/user_guide/indexing.html#returning-a-view-versus-a-copy\n",
      "  componentes['seasonal_prophet'] = 0\n",
      " 54%|█████▎    | 418/780 [1:15:36<15:14,  2.53s/it]19:55:49 - cmdstanpy - INFO - Chain [1] start processing\n",
      "19:55:50 - cmdstanpy - INFO - Chain [1] done processing\n",
      "C:\\Users\\waldo\\AppData\\Local\\Temp\\ipykernel_44800\\1165039906.py:39: SettingWithCopyWarning: \n",
      "A value is trying to be set on a copy of a slice from a DataFrame.\n",
      "Try using .loc[row_indexer,col_indexer] = value instead\n",
      "\n",
      "See the caveats in the documentation: https://pandas.pydata.org/pandas-docs/stable/user_guide/indexing.html#returning-a-view-versus-a-copy\n",
      "  componentes['seasonal_prophet'] = 0\n",
      " 54%|█████▎    | 419/780 [1:15:39<16:33,  2.75s/it]19:55:53 - cmdstanpy - INFO - Chain [1] start processing\n",
      "19:55:53 - cmdstanpy - INFO - Chain [1] done processing\n",
      "C:\\Users\\waldo\\AppData\\Local\\Temp\\ipykernel_44800\\1165039906.py:39: SettingWithCopyWarning: \n",
      "A value is trying to be set on a copy of a slice from a DataFrame.\n",
      "Try using .loc[row_indexer,col_indexer] = value instead\n",
      "\n",
      "See the caveats in the documentation: https://pandas.pydata.org/pandas-docs/stable/user_guide/indexing.html#returning-a-view-versus-a-copy\n",
      "  componentes['seasonal_prophet'] = 0\n",
      " 54%|█████▍    | 420/780 [1:15:42<15:32,  2.59s/it]19:55:55 - cmdstanpy - INFO - Chain [1] start processing\n",
      "19:55:55 - cmdstanpy - INFO - Chain [1] done processing\n",
      "C:\\Users\\waldo\\AppData\\Local\\Temp\\ipykernel_44800\\1165039906.py:39: SettingWithCopyWarning: \n",
      "A value is trying to be set on a copy of a slice from a DataFrame.\n",
      "Try using .loc[row_indexer,col_indexer] = value instead\n",
      "\n",
      "See the caveats in the documentation: https://pandas.pydata.org/pandas-docs/stable/user_guide/indexing.html#returning-a-view-versus-a-copy\n",
      "  componentes['seasonal_prophet'] = 0\n",
      " 54%|█████▍    | 421/780 [1:15:43<13:31,  2.26s/it]19:55:56 - cmdstanpy - INFO - Chain [1] start processing\n",
      "19:55:57 - cmdstanpy - INFO - Chain [1] done processing\n",
      "C:\\Users\\waldo\\AppData\\Local\\Temp\\ipykernel_44800\\1165039906.py:39: SettingWithCopyWarning: \n",
      "A value is trying to be set on a copy of a slice from a DataFrame.\n",
      "Try using .loc[row_indexer,col_indexer] = value instead\n",
      "\n",
      "See the caveats in the documentation: https://pandas.pydata.org/pandas-docs/stable/user_guide/indexing.html#returning-a-view-versus-a-copy\n",
      "  componentes['seasonal_prophet'] = 0\n",
      " 54%|█████▍    | 422/780 [1:15:47<16:43,  2.80s/it]19:56:01 - cmdstanpy - INFO - Chain [1] start processing\n",
      "19:56:01 - cmdstanpy - INFO - Chain [1] done processing\n",
      "C:\\Users\\waldo\\AppData\\Local\\Temp\\ipykernel_44800\\1165039906.py:39: SettingWithCopyWarning: \n",
      "A value is trying to be set on a copy of a slice from a DataFrame.\n",
      "Try using .loc[row_indexer,col_indexer] = value instead\n",
      "\n",
      "See the caveats in the documentation: https://pandas.pydata.org/pandas-docs/stable/user_guide/indexing.html#returning-a-view-versus-a-copy\n",
      "  componentes['seasonal_prophet'] = 0\n",
      " 54%|█████▍    | 423/780 [1:15:52<19:44,  3.32s/it]19:56:05 - cmdstanpy - INFO - Chain [1] start processing\n",
      "19:56:05 - cmdstanpy - INFO - Chain [1] done processing\n",
      "C:\\Users\\waldo\\AppData\\Local\\Temp\\ipykernel_44800\\1165039906.py:39: SettingWithCopyWarning: \n",
      "A value is trying to be set on a copy of a slice from a DataFrame.\n",
      "Try using .loc[row_indexer,col_indexer] = value instead\n",
      "\n",
      "See the caveats in the documentation: https://pandas.pydata.org/pandas-docs/stable/user_guide/indexing.html#returning-a-view-versus-a-copy\n",
      "  componentes['seasonal_prophet'] = 0\n",
      " 54%|█████▍    | 424/780 [1:15:58<24:16,  4.09s/it]19:56:11 - cmdstanpy - INFO - Chain [1] start processing\n",
      "19:56:11 - cmdstanpy - INFO - Chain [1] done processing\n",
      "C:\\Users\\waldo\\AppData\\Local\\Temp\\ipykernel_44800\\1165039906.py:39: SettingWithCopyWarning: \n",
      "A value is trying to be set on a copy of a slice from a DataFrame.\n",
      "Try using .loc[row_indexer,col_indexer] = value instead\n",
      "\n",
      "See the caveats in the documentation: https://pandas.pydata.org/pandas-docs/stable/user_guide/indexing.html#returning-a-view-versus-a-copy\n",
      "  componentes['seasonal_prophet'] = 0\n",
      " 54%|█████▍    | 425/780 [1:15:59<19:37,  3.32s/it]19:56:12 - cmdstanpy - INFO - Chain [1] start processing\n",
      "19:56:12 - cmdstanpy - INFO - Chain [1] done processing\n",
      "C:\\Users\\waldo\\AppData\\Local\\Temp\\ipykernel_44800\\1165039906.py:39: SettingWithCopyWarning: \n",
      "A value is trying to be set on a copy of a slice from a DataFrame.\n",
      "Try using .loc[row_indexer,col_indexer] = value instead\n",
      "\n",
      "See the caveats in the documentation: https://pandas.pydata.org/pandas-docs/stable/user_guide/indexing.html#returning-a-view-versus-a-copy\n",
      "  componentes['seasonal_prophet'] = 0\n",
      " 55%|█████▍    | 426/780 [1:16:01<16:38,  2.82s/it]19:56:14 - cmdstanpy - INFO - Chain [1] start processing\n",
      "19:56:14 - cmdstanpy - INFO - Chain [1] done processing\n",
      "C:\\Users\\waldo\\AppData\\Local\\Temp\\ipykernel_44800\\1165039906.py:39: SettingWithCopyWarning: \n",
      "A value is trying to be set on a copy of a slice from a DataFrame.\n",
      "Try using .loc[row_indexer,col_indexer] = value instead\n",
      "\n",
      "See the caveats in the documentation: https://pandas.pydata.org/pandas-docs/stable/user_guide/indexing.html#returning-a-view-versus-a-copy\n",
      "  componentes['seasonal_prophet'] = 0\n",
      " 55%|█████▍    | 427/780 [1:16:03<15:53,  2.70s/it]19:56:16 - cmdstanpy - INFO - Chain [1] start processing\n",
      "19:56:17 - cmdstanpy - INFO - Chain [1] done processing\n",
      "C:\\Users\\waldo\\AppData\\Local\\Temp\\ipykernel_44800\\1165039906.py:39: SettingWithCopyWarning: \n",
      "A value is trying to be set on a copy of a slice from a DataFrame.\n",
      "Try using .loc[row_indexer,col_indexer] = value instead\n",
      "\n",
      "See the caveats in the documentation: https://pandas.pydata.org/pandas-docs/stable/user_guide/indexing.html#returning-a-view-versus-a-copy\n",
      "  componentes['seasonal_prophet'] = 0\n",
      " 55%|█████▍    | 428/780 [1:16:06<16:39,  2.84s/it]19:56:20 - cmdstanpy - INFO - Chain [1] start processing\n",
      "19:56:20 - cmdstanpy - INFO - Chain [1] done processing\n",
      "C:\\Users\\waldo\\AppData\\Local\\Temp\\ipykernel_44800\\1165039906.py:39: SettingWithCopyWarning: \n",
      "A value is trying to be set on a copy of a slice from a DataFrame.\n",
      "Try using .loc[row_indexer,col_indexer] = value instead\n",
      "\n",
      "See the caveats in the documentation: https://pandas.pydata.org/pandas-docs/stable/user_guide/indexing.html#returning-a-view-versus-a-copy\n",
      "  componentes['seasonal_prophet'] = 0\n",
      " 55%|█████▌    | 429/780 [1:16:10<17:07,  2.93s/it]19:56:23 - cmdstanpy - INFO - Chain [1] start processing\n",
      "19:56:23 - cmdstanpy - INFO - Chain [1] done processing\n",
      "C:\\Users\\waldo\\AppData\\Local\\Temp\\ipykernel_44800\\1165039906.py:39: SettingWithCopyWarning: \n",
      "A value is trying to be set on a copy of a slice from a DataFrame.\n",
      "Try using .loc[row_indexer,col_indexer] = value instead\n",
      "\n",
      "See the caveats in the documentation: https://pandas.pydata.org/pandas-docs/stable/user_guide/indexing.html#returning-a-view-versus-a-copy\n",
      "  componentes['seasonal_prophet'] = 0\n",
      " 55%|█████▌    | 430/780 [1:16:14<19:41,  3.38s/it]19:56:27 - cmdstanpy - INFO - Chain [1] start processing\n",
      "19:56:28 - cmdstanpy - INFO - Chain [1] done processing\n",
      "C:\\Users\\waldo\\AppData\\Local\\Temp\\ipykernel_44800\\1165039906.py:39: SettingWithCopyWarning: \n",
      "A value is trying to be set on a copy of a slice from a DataFrame.\n",
      "Try using .loc[row_indexer,col_indexer] = value instead\n",
      "\n",
      "See the caveats in the documentation: https://pandas.pydata.org/pandas-docs/stable/user_guide/indexing.html#returning-a-view-versus-a-copy\n",
      "  componentes['seasonal_prophet'] = 0\n",
      " 55%|█████▌    | 431/780 [1:16:19<23:23,  4.02s/it]19:56:33 - cmdstanpy - INFO - Chain [1] start processing\n",
      "19:56:33 - cmdstanpy - INFO - Chain [1] done processing\n",
      "C:\\Users\\waldo\\AppData\\Local\\Temp\\ipykernel_44800\\1165039906.py:39: SettingWithCopyWarning: \n",
      "A value is trying to be set on a copy of a slice from a DataFrame.\n",
      "Try using .loc[row_indexer,col_indexer] = value instead\n",
      "\n",
      "See the caveats in the documentation: https://pandas.pydata.org/pandas-docs/stable/user_guide/indexing.html#returning-a-view-versus-a-copy\n",
      "  componentes['seasonal_prophet'] = 0\n",
      " 55%|█████▌    | 432/780 [1:16:22<20:14,  3.49s/it]19:56:35 - cmdstanpy - INFO - Chain [1] start processing\n",
      "19:56:35 - cmdstanpy - INFO - Chain [1] done processing\n",
      "C:\\Users\\waldo\\AppData\\Local\\Temp\\ipykernel_44800\\1165039906.py:39: SettingWithCopyWarning: \n",
      "A value is trying to be set on a copy of a slice from a DataFrame.\n",
      "Try using .loc[row_indexer,col_indexer] = value instead\n",
      "\n",
      "See the caveats in the documentation: https://pandas.pydata.org/pandas-docs/stable/user_guide/indexing.html#returning-a-view-versus-a-copy\n",
      "  componentes['seasonal_prophet'] = 0\n",
      " 56%|█████▌    | 433/780 [1:16:24<17:23,  3.01s/it]19:56:37 - cmdstanpy - INFO - Chain [1] start processing\n",
      "19:56:37 - cmdstanpy - INFO - Chain [1] done processing\n",
      "C:\\Users\\waldo\\AppData\\Local\\Temp\\ipykernel_44800\\1165039906.py:39: SettingWithCopyWarning: \n",
      "A value is trying to be set on a copy of a slice from a DataFrame.\n",
      "Try using .loc[row_indexer,col_indexer] = value instead\n",
      "\n",
      "See the caveats in the documentation: https://pandas.pydata.org/pandas-docs/stable/user_guide/indexing.html#returning-a-view-versus-a-copy\n",
      "  componentes['seasonal_prophet'] = 0\n",
      " 56%|█████▌    | 434/780 [1:16:24<13:35,  2.36s/it]19:56:38 - cmdstanpy - INFO - Chain [1] start processing\n",
      "19:56:38 - cmdstanpy - INFO - Chain [1] done processing\n",
      "C:\\Users\\waldo\\AppData\\Local\\Temp\\ipykernel_44800\\1165039906.py:39: SettingWithCopyWarning: \n",
      "A value is trying to be set on a copy of a slice from a DataFrame.\n",
      "Try using .loc[row_indexer,col_indexer] = value instead\n",
      "\n",
      "See the caveats in the documentation: https://pandas.pydata.org/pandas-docs/stable/user_guide/indexing.html#returning-a-view-versus-a-copy\n",
      "  componentes['seasonal_prophet'] = 0\n",
      " 56%|█████▌    | 435/780 [1:16:26<11:21,  1.98s/it]19:56:39 - cmdstanpy - INFO - Chain [1] start processing\n",
      "19:56:39 - cmdstanpy - INFO - Chain [1] done processing\n",
      "C:\\Users\\waldo\\AppData\\Local\\Temp\\ipykernel_44800\\1165039906.py:39: SettingWithCopyWarning: \n",
      "A value is trying to be set on a copy of a slice from a DataFrame.\n",
      "Try using .loc[row_indexer,col_indexer] = value instead\n",
      "\n",
      "See the caveats in the documentation: https://pandas.pydata.org/pandas-docs/stable/user_guide/indexing.html#returning-a-view-versus-a-copy\n",
      "  componentes['seasonal_prophet'] = 0\n",
      " 56%|█████▌    | 436/780 [1:16:30<14:54,  2.60s/it]19:56:43 - cmdstanpy - INFO - Chain [1] start processing\n",
      "19:56:43 - cmdstanpy - INFO - Chain [1] done processing\n",
      "C:\\Users\\waldo\\AppData\\Local\\Temp\\ipykernel_44800\\1165039906.py:39: SettingWithCopyWarning: \n",
      "A value is trying to be set on a copy of a slice from a DataFrame.\n",
      "Try using .loc[row_indexer,col_indexer] = value instead\n",
      "\n",
      "See the caveats in the documentation: https://pandas.pydata.org/pandas-docs/stable/user_guide/indexing.html#returning-a-view-versus-a-copy\n",
      "  componentes['seasonal_prophet'] = 0\n",
      " 56%|█████▌    | 437/780 [1:16:36<21:38,  3.79s/it]19:56:49 - cmdstanpy - INFO - Chain [1] start processing\n",
      "19:56:49 - cmdstanpy - INFO - Chain [1] done processing\n",
      "C:\\Users\\waldo\\AppData\\Local\\Temp\\ipykernel_44800\\1165039906.py:39: SettingWithCopyWarning: \n",
      "A value is trying to be set on a copy of a slice from a DataFrame.\n",
      "Try using .loc[row_indexer,col_indexer] = value instead\n",
      "\n",
      "See the caveats in the documentation: https://pandas.pydata.org/pandas-docs/stable/user_guide/indexing.html#returning-a-view-versus-a-copy\n",
      "  componentes['seasonal_prophet'] = 0\n",
      " 56%|█████▌    | 438/780 [1:16:38<18:41,  3.28s/it]19:56:52 - cmdstanpy - INFO - Chain [1] start processing\n",
      "19:56:52 - cmdstanpy - INFO - Chain [1] done processing\n",
      "C:\\Users\\waldo\\AppData\\Local\\Temp\\ipykernel_44800\\1165039906.py:39: SettingWithCopyWarning: \n",
      "A value is trying to be set on a copy of a slice from a DataFrame.\n",
      "Try using .loc[row_indexer,col_indexer] = value instead\n",
      "\n",
      "See the caveats in the documentation: https://pandas.pydata.org/pandas-docs/stable/user_guide/indexing.html#returning-a-view-versus-a-copy\n",
      "  componentes['seasonal_prophet'] = 0\n",
      " 56%|█████▋    | 439/780 [1:16:44<23:42,  4.17s/it]19:56:58 - cmdstanpy - INFO - Chain [1] start processing\n",
      "19:56:58 - cmdstanpy - INFO - Chain [1] done processing\n",
      "C:\\Users\\waldo\\AppData\\Local\\Temp\\ipykernel_44800\\1165039906.py:39: SettingWithCopyWarning: \n",
      "A value is trying to be set on a copy of a slice from a DataFrame.\n",
      "Try using .loc[row_indexer,col_indexer] = value instead\n",
      "\n",
      "See the caveats in the documentation: https://pandas.pydata.org/pandas-docs/stable/user_guide/indexing.html#returning-a-view-versus-a-copy\n",
      "  componentes['seasonal_prophet'] = 0\n",
      " 56%|█████▋    | 440/780 [1:16:50<26:25,  4.66s/it]19:57:04 - cmdstanpy - INFO - Chain [1] start processing\n",
      "19:57:04 - cmdstanpy - INFO - Chain [1] done processing\n",
      "C:\\Users\\waldo\\AppData\\Local\\Temp\\ipykernel_44800\\1165039906.py:39: SettingWithCopyWarning: \n",
      "A value is trying to be set on a copy of a slice from a DataFrame.\n",
      "Try using .loc[row_indexer,col_indexer] = value instead\n",
      "\n",
      "See the caveats in the documentation: https://pandas.pydata.org/pandas-docs/stable/user_guide/indexing.html#returning-a-view-versus-a-copy\n",
      "  componentes['seasonal_prophet'] = 0\n",
      " 57%|█████▋    | 441/780 [1:16:56<27:28,  4.86s/it]19:57:09 - cmdstanpy - INFO - Chain [1] start processing\n",
      "19:57:09 - cmdstanpy - INFO - Chain [1] done processing\n",
      "C:\\Users\\waldo\\AppData\\Local\\Temp\\ipykernel_44800\\1165039906.py:39: SettingWithCopyWarning: \n",
      "A value is trying to be set on a copy of a slice from a DataFrame.\n",
      "Try using .loc[row_indexer,col_indexer] = value instead\n",
      "\n",
      "See the caveats in the documentation: https://pandas.pydata.org/pandas-docs/stable/user_guide/indexing.html#returning-a-view-versus-a-copy\n",
      "  componentes['seasonal_prophet'] = 0\n",
      " 57%|█████▋    | 442/780 [1:16:57<22:20,  3.97s/it]19:57:11 - cmdstanpy - INFO - Chain [1] start processing\n",
      "19:57:11 - cmdstanpy - INFO - Chain [1] done processing\n",
      "C:\\Users\\waldo\\AppData\\Local\\Temp\\ipykernel_44800\\1165039906.py:39: SettingWithCopyWarning: \n",
      "A value is trying to be set on a copy of a slice from a DataFrame.\n",
      "Try using .loc[row_indexer,col_indexer] = value instead\n",
      "\n",
      "See the caveats in the documentation: https://pandas.pydata.org/pandas-docs/stable/user_guide/indexing.html#returning-a-view-versus-a-copy\n",
      "  componentes['seasonal_prophet'] = 0\n",
      " 57%|█████▋    | 443/780 [1:17:00<20:26,  3.64s/it]19:57:14 - cmdstanpy - INFO - Chain [1] start processing\n",
      "19:57:14 - cmdstanpy - INFO - Chain [1] done processing\n",
      "C:\\Users\\waldo\\AppData\\Local\\Temp\\ipykernel_44800\\1165039906.py:39: SettingWithCopyWarning: \n",
      "A value is trying to be set on a copy of a slice from a DataFrame.\n",
      "Try using .loc[row_indexer,col_indexer] = value instead\n",
      "\n",
      "See the caveats in the documentation: https://pandas.pydata.org/pandas-docs/stable/user_guide/indexing.html#returning-a-view-versus-a-copy\n",
      "  componentes['seasonal_prophet'] = 0\n",
      " 57%|█████▋    | 444/780 [1:17:02<16:43,  2.99s/it]19:57:15 - cmdstanpy - INFO - Chain [1] start processing\n",
      "19:57:15 - cmdstanpy - INFO - Chain [1] done processing\n",
      "C:\\Users\\waldo\\AppData\\Local\\Temp\\ipykernel_44800\\1165039906.py:39: SettingWithCopyWarning: \n",
      "A value is trying to be set on a copy of a slice from a DataFrame.\n",
      "Try using .loc[row_indexer,col_indexer] = value instead\n",
      "\n",
      "See the caveats in the documentation: https://pandas.pydata.org/pandas-docs/stable/user_guide/indexing.html#returning-a-view-versus-a-copy\n",
      "  componentes['seasonal_prophet'] = 0\n",
      " 57%|█████▋    | 445/780 [1:17:03<13:42,  2.46s/it]19:57:16 - cmdstanpy - INFO - Chain [1] start processing\n",
      "19:57:17 - cmdstanpy - INFO - Chain [1] done processing\n",
      "C:\\Users\\waldo\\AppData\\Local\\Temp\\ipykernel_44800\\1165039906.py:39: SettingWithCopyWarning: \n",
      "A value is trying to be set on a copy of a slice from a DataFrame.\n",
      "Try using .loc[row_indexer,col_indexer] = value instead\n",
      "\n",
      "See the caveats in the documentation: https://pandas.pydata.org/pandas-docs/stable/user_guide/indexing.html#returning-a-view-versus-a-copy\n",
      "  componentes['seasonal_prophet'] = 0\n",
      " 57%|█████▋    | 446/780 [1:17:08<17:40,  3.18s/it]19:57:21 - cmdstanpy - INFO - Chain [1] start processing\n",
      "19:57:21 - cmdstanpy - INFO - Chain [1] done processing\n",
      "C:\\Users\\waldo\\AppData\\Local\\Temp\\ipykernel_44800\\1165039906.py:39: SettingWithCopyWarning: \n",
      "A value is trying to be set on a copy of a slice from a DataFrame.\n",
      "Try using .loc[row_indexer,col_indexer] = value instead\n",
      "\n",
      "See the caveats in the documentation: https://pandas.pydata.org/pandas-docs/stable/user_guide/indexing.html#returning-a-view-versus-a-copy\n",
      "  componentes['seasonal_prophet'] = 0\n",
      " 57%|█████▋    | 447/780 [1:17:12<18:49,  3.39s/it]19:57:25 - cmdstanpy - INFO - Chain [1] start processing\n",
      "19:57:25 - cmdstanpy - INFO - Chain [1] done processing\n",
      "C:\\Users\\waldo\\AppData\\Local\\Temp\\ipykernel_44800\\1165039906.py:39: SettingWithCopyWarning: \n",
      "A value is trying to be set on a copy of a slice from a DataFrame.\n",
      "Try using .loc[row_indexer,col_indexer] = value instead\n",
      "\n",
      "See the caveats in the documentation: https://pandas.pydata.org/pandas-docs/stable/user_guide/indexing.html#returning-a-view-versus-a-copy\n",
      "  componentes['seasonal_prophet'] = 0\n",
      " 57%|█████▋    | 448/780 [1:17:19<24:46,  4.48s/it]19:57:32 - cmdstanpy - INFO - Chain [1] start processing\n",
      "19:57:33 - cmdstanpy - INFO - Chain [1] done processing\n",
      "C:\\Users\\waldo\\AppData\\Local\\Temp\\ipykernel_44800\\1165039906.py:39: SettingWithCopyWarning: \n",
      "A value is trying to be set on a copy of a slice from a DataFrame.\n",
      "Try using .loc[row_indexer,col_indexer] = value instead\n",
      "\n",
      "See the caveats in the documentation: https://pandas.pydata.org/pandas-docs/stable/user_guide/indexing.html#returning-a-view-versus-a-copy\n",
      "  componentes['seasonal_prophet'] = 0\n",
      " 58%|█████▊    | 449/780 [1:17:28<31:58,  5.79s/it]19:57:41 - cmdstanpy - INFO - Chain [1] start processing\n",
      "19:57:41 - cmdstanpy - INFO - Chain [1] done processing\n",
      "C:\\Users\\waldo\\AppData\\Local\\Temp\\ipykernel_44800\\1165039906.py:39: SettingWithCopyWarning: \n",
      "A value is trying to be set on a copy of a slice from a DataFrame.\n",
      "Try using .loc[row_indexer,col_indexer] = value instead\n",
      "\n",
      "See the caveats in the documentation: https://pandas.pydata.org/pandas-docs/stable/user_guide/indexing.html#returning-a-view-versus-a-copy\n",
      "  componentes['seasonal_prophet'] = 0\n",
      " 58%|█████▊    | 450/780 [1:17:33<31:02,  5.64s/it]19:57:46 - cmdstanpy - INFO - Chain [1] start processing\n",
      "19:57:47 - cmdstanpy - INFO - Chain [1] done processing\n",
      "C:\\Users\\waldo\\AppData\\Local\\Temp\\ipykernel_44800\\1165039906.py:39: SettingWithCopyWarning: \n",
      "A value is trying to be set on a copy of a slice from a DataFrame.\n",
      "Try using .loc[row_indexer,col_indexer] = value instead\n",
      "\n",
      "See the caveats in the documentation: https://pandas.pydata.org/pandas-docs/stable/user_guide/indexing.html#returning-a-view-versus-a-copy\n",
      "  componentes['seasonal_prophet'] = 0\n",
      " 58%|█████▊    | 451/780 [1:17:39<30:47,  5.61s/it]19:57:52 - cmdstanpy - INFO - Chain [1] start processing\n",
      "19:57:52 - cmdstanpy - INFO - Chain [1] done processing\n",
      "C:\\Users\\waldo\\AppData\\Local\\Temp\\ipykernel_44800\\1165039906.py:39: SettingWithCopyWarning: \n",
      "A value is trying to be set on a copy of a slice from a DataFrame.\n",
      "Try using .loc[row_indexer,col_indexer] = value instead\n",
      "\n",
      "See the caveats in the documentation: https://pandas.pydata.org/pandas-docs/stable/user_guide/indexing.html#returning-a-view-versus-a-copy\n",
      "  componentes['seasonal_prophet'] = 0\n",
      " 58%|█████▊    | 452/780 [1:17:41<24:44,  4.53s/it]19:57:54 - cmdstanpy - INFO - Chain [1] start processing\n",
      "19:57:54 - cmdstanpy - INFO - Chain [1] done processing\n",
      "C:\\Users\\waldo\\AppData\\Local\\Temp\\ipykernel_44800\\1165039906.py:39: SettingWithCopyWarning: \n",
      "A value is trying to be set on a copy of a slice from a DataFrame.\n",
      "Try using .loc[row_indexer,col_indexer] = value instead\n",
      "\n",
      "See the caveats in the documentation: https://pandas.pydata.org/pandas-docs/stable/user_guide/indexing.html#returning-a-view-versus-a-copy\n",
      "  componentes['seasonal_prophet'] = 0\n",
      " 58%|█████▊    | 453/780 [1:17:41<18:42,  3.43s/it]19:57:55 - cmdstanpy - INFO - Chain [1] start processing\n",
      "19:57:55 - cmdstanpy - INFO - Chain [1] done processing\n",
      "C:\\Users\\waldo\\AppData\\Local\\Temp\\ipykernel_44800\\1165039906.py:39: SettingWithCopyWarning: \n",
      "A value is trying to be set on a copy of a slice from a DataFrame.\n",
      "Try using .loc[row_indexer,col_indexer] = value instead\n",
      "\n",
      "See the caveats in the documentation: https://pandas.pydata.org/pandas-docs/stable/user_guide/indexing.html#returning-a-view-versus-a-copy\n",
      "  componentes['seasonal_prophet'] = 0\n",
      " 58%|█████▊    | 454/780 [1:17:47<22:15,  4.10s/it]19:58:00 - cmdstanpy - INFO - Chain [1] start processing\n",
      "19:58:01 - cmdstanpy - INFO - Chain [1] done processing\n",
      "C:\\Users\\waldo\\AppData\\Local\\Temp\\ipykernel_44800\\1165039906.py:39: SettingWithCopyWarning: \n",
      "A value is trying to be set on a copy of a slice from a DataFrame.\n",
      "Try using .loc[row_indexer,col_indexer] = value instead\n",
      "\n",
      "See the caveats in the documentation: https://pandas.pydata.org/pandas-docs/stable/user_guide/indexing.html#returning-a-view-versus-a-copy\n",
      "  componentes['seasonal_prophet'] = 0\n",
      " 58%|█████▊    | 455/780 [1:17:53<25:52,  4.78s/it]19:58:07 - cmdstanpy - INFO - Chain [1] start processing\n",
      "19:58:07 - cmdstanpy - INFO - Chain [1] done processing\n",
      "C:\\Users\\waldo\\AppData\\Local\\Temp\\ipykernel_44800\\1165039906.py:39: SettingWithCopyWarning: \n",
      "A value is trying to be set on a copy of a slice from a DataFrame.\n",
      "Try using .loc[row_indexer,col_indexer] = value instead\n",
      "\n",
      "See the caveats in the documentation: https://pandas.pydata.org/pandas-docs/stable/user_guide/indexing.html#returning-a-view-versus-a-copy\n",
      "  componentes['seasonal_prophet'] = 0\n",
      " 58%|█████▊    | 456/780 [1:17:57<23:20,  4.32s/it]19:58:10 - cmdstanpy - INFO - Chain [1] start processing\n",
      "19:58:10 - cmdstanpy - INFO - Chain [1] done processing\n",
      "C:\\Users\\waldo\\AppData\\Local\\Temp\\ipykernel_44800\\1165039906.py:39: SettingWithCopyWarning: \n",
      "A value is trying to be set on a copy of a slice from a DataFrame.\n",
      "Try using .loc[row_indexer,col_indexer] = value instead\n",
      "\n",
      "See the caveats in the documentation: https://pandas.pydata.org/pandas-docs/stable/user_guide/indexing.html#returning-a-view-versus-a-copy\n",
      "  componentes['seasonal_prophet'] = 0\n",
      " 59%|█████▊    | 457/780 [1:17:58<18:55,  3.52s/it]19:58:12 - cmdstanpy - INFO - Chain [1] start processing\n",
      "19:58:12 - cmdstanpy - INFO - Chain [1] done processing\n",
      "C:\\Users\\waldo\\AppData\\Local\\Temp\\ipykernel_44800\\1165039906.py:39: SettingWithCopyWarning: \n",
      "A value is trying to be set on a copy of a slice from a DataFrame.\n",
      "Try using .loc[row_indexer,col_indexer] = value instead\n",
      "\n",
      "See the caveats in the documentation: https://pandas.pydata.org/pandas-docs/stable/user_guide/indexing.html#returning-a-view-versus-a-copy\n",
      "  componentes['seasonal_prophet'] = 0\n",
      " 59%|█████▊    | 458/780 [1:18:04<21:41,  4.04s/it]19:58:17 - cmdstanpy - INFO - Chain [1] start processing\n",
      "19:58:17 - cmdstanpy - INFO - Chain [1] done processing\n",
      "C:\\Users\\waldo\\AppData\\Local\\Temp\\ipykernel_44800\\1165039906.py:39: SettingWithCopyWarning: \n",
      "A value is trying to be set on a copy of a slice from a DataFrame.\n",
      "Try using .loc[row_indexer,col_indexer] = value instead\n",
      "\n",
      "See the caveats in the documentation: https://pandas.pydata.org/pandas-docs/stable/user_guide/indexing.html#returning-a-view-versus-a-copy\n",
      "  componentes['seasonal_prophet'] = 0\n",
      " 59%|█████▉    | 459/780 [1:18:10<25:50,  4.83s/it]19:58:23 - cmdstanpy - INFO - Chain [1] start processing\n",
      "19:58:23 - cmdstanpy - INFO - Chain [1] done processing\n",
      "C:\\Users\\waldo\\AppData\\Local\\Temp\\ipykernel_44800\\1165039906.py:39: SettingWithCopyWarning: \n",
      "A value is trying to be set on a copy of a slice from a DataFrame.\n",
      "Try using .loc[row_indexer,col_indexer] = value instead\n",
      "\n",
      "See the caveats in the documentation: https://pandas.pydata.org/pandas-docs/stable/user_guide/indexing.html#returning-a-view-versus-a-copy\n",
      "  componentes['seasonal_prophet'] = 0\n",
      " 59%|█████▉    | 460/780 [1:18:11<19:52,  3.73s/it]19:58:25 - cmdstanpy - INFO - Chain [1] start processing\n",
      "19:58:25 - cmdstanpy - INFO - Chain [1] done processing\n",
      "C:\\Users\\waldo\\AppData\\Local\\Temp\\ipykernel_44800\\1165039906.py:39: SettingWithCopyWarning: \n",
      "A value is trying to be set on a copy of a slice from a DataFrame.\n",
      "Try using .loc[row_indexer,col_indexer] = value instead\n",
      "\n",
      "See the caveats in the documentation: https://pandas.pydata.org/pandas-docs/stable/user_guide/indexing.html#returning-a-view-versus-a-copy\n",
      "  componentes['seasonal_prophet'] = 0\n",
      " 59%|█████▉    | 461/780 [1:18:15<20:19,  3.82s/it]19:58:29 - cmdstanpy - INFO - Chain [1] start processing\n",
      "19:58:29 - cmdstanpy - INFO - Chain [1] done processing\n",
      "C:\\Users\\waldo\\AppData\\Local\\Temp\\ipykernel_44800\\1165039906.py:39: SettingWithCopyWarning: \n",
      "A value is trying to be set on a copy of a slice from a DataFrame.\n",
      "Try using .loc[row_indexer,col_indexer] = value instead\n",
      "\n",
      "See the caveats in the documentation: https://pandas.pydata.org/pandas-docs/stable/user_guide/indexing.html#returning-a-view-versus-a-copy\n",
      "  componentes['seasonal_prophet'] = 0\n",
      " 59%|█████▉    | 462/780 [1:18:17<16:04,  3.03s/it]19:58:30 - cmdstanpy - INFO - Chain [1] start processing\n",
      "19:58:30 - cmdstanpy - INFO - Chain [1] done processing\n",
      "C:\\Users\\waldo\\AppData\\Local\\Temp\\ipykernel_44800\\1165039906.py:39: SettingWithCopyWarning: \n",
      "A value is trying to be set on a copy of a slice from a DataFrame.\n",
      "Try using .loc[row_indexer,col_indexer] = value instead\n",
      "\n",
      "See the caveats in the documentation: https://pandas.pydata.org/pandas-docs/stable/user_guide/indexing.html#returning-a-view-versus-a-copy\n",
      "  componentes['seasonal_prophet'] = 0\n",
      " 59%|█████▉    | 463/780 [1:18:18<12:54,  2.44s/it]19:58:31 - cmdstanpy - INFO - Chain [1] start processing\n",
      "19:58:31 - cmdstanpy - INFO - Chain [1] done processing\n",
      "C:\\Users\\waldo\\AppData\\Local\\Temp\\ipykernel_44800\\1165039906.py:39: SettingWithCopyWarning: \n",
      "A value is trying to be set on a copy of a slice from a DataFrame.\n",
      "Try using .loc[row_indexer,col_indexer] = value instead\n",
      "\n",
      "See the caveats in the documentation: https://pandas.pydata.org/pandas-docs/stable/user_guide/indexing.html#returning-a-view-versus-a-copy\n",
      "  componentes['seasonal_prophet'] = 0\n",
      " 59%|█████▉    | 464/780 [1:18:21<13:45,  2.61s/it]19:58:34 - cmdstanpy - INFO - Chain [1] start processing\n",
      "19:58:34 - cmdstanpy - INFO - Chain [1] done processing\n",
      "C:\\Users\\waldo\\AppData\\Local\\Temp\\ipykernel_44800\\1165039906.py:39: SettingWithCopyWarning: \n",
      "A value is trying to be set on a copy of a slice from a DataFrame.\n",
      "Try using .loc[row_indexer,col_indexer] = value instead\n",
      "\n",
      "See the caveats in the documentation: https://pandas.pydata.org/pandas-docs/stable/user_guide/indexing.html#returning-a-view-versus-a-copy\n",
      "  componentes['seasonal_prophet'] = 0\n",
      " 60%|█████▉    | 465/780 [1:18:22<12:07,  2.31s/it]19:58:36 - cmdstanpy - INFO - Chain [1] start processing\n",
      "19:58:36 - cmdstanpy - INFO - Chain [1] done processing\n",
      "C:\\Users\\waldo\\AppData\\Local\\Temp\\ipykernel_44800\\1165039906.py:39: SettingWithCopyWarning: \n",
      "A value is trying to be set on a copy of a slice from a DataFrame.\n",
      "Try using .loc[row_indexer,col_indexer] = value instead\n",
      "\n",
      "See the caveats in the documentation: https://pandas.pydata.org/pandas-docs/stable/user_guide/indexing.html#returning-a-view-versus-a-copy\n",
      "  componentes['seasonal_prophet'] = 0\n",
      " 60%|█████▉    | 466/780 [1:18:27<16:29,  3.15s/it]19:58:41 - cmdstanpy - INFO - Chain [1] start processing\n",
      "19:58:41 - cmdstanpy - INFO - Chain [1] done processing\n",
      "C:\\Users\\waldo\\AppData\\Local\\Temp\\ipykernel_44800\\1165039906.py:39: SettingWithCopyWarning: \n",
      "A value is trying to be set on a copy of a slice from a DataFrame.\n",
      "Try using .loc[row_indexer,col_indexer] = value instead\n",
      "\n",
      "See the caveats in the documentation: https://pandas.pydata.org/pandas-docs/stable/user_guide/indexing.html#returning-a-view-versus-a-copy\n",
      "  componentes['seasonal_prophet'] = 0\n",
      " 60%|█████▉    | 467/780 [1:18:31<16:24,  3.15s/it]19:58:44 - cmdstanpy - INFO - Chain [1] start processing\n",
      "19:58:44 - cmdstanpy - INFO - Chain [1] done processing\n",
      "C:\\Users\\waldo\\AppData\\Local\\Temp\\ipykernel_44800\\1165039906.py:39: SettingWithCopyWarning: \n",
      "A value is trying to be set on a copy of a slice from a DataFrame.\n",
      "Try using .loc[row_indexer,col_indexer] = value instead\n",
      "\n",
      "See the caveats in the documentation: https://pandas.pydata.org/pandas-docs/stable/user_guide/indexing.html#returning-a-view-versus-a-copy\n",
      "  componentes['seasonal_prophet'] = 0\n",
      " 60%|██████    | 468/780 [1:18:34<16:17,  3.13s/it]19:58:47 - cmdstanpy - INFO - Chain [1] start processing\n",
      "19:58:47 - cmdstanpy - INFO - Chain [1] done processing\n",
      "C:\\Users\\waldo\\AppData\\Local\\Temp\\ipykernel_44800\\1165039906.py:39: SettingWithCopyWarning: \n",
      "A value is trying to be set on a copy of a slice from a DataFrame.\n",
      "Try using .loc[row_indexer,col_indexer] = value instead\n",
      "\n",
      "See the caveats in the documentation: https://pandas.pydata.org/pandas-docs/stable/user_guide/indexing.html#returning-a-view-versus-a-copy\n",
      "  componentes['seasonal_prophet'] = 0\n",
      " 60%|██████    | 469/780 [1:18:39<19:43,  3.80s/it]19:58:52 - cmdstanpy - INFO - Chain [1] start processing\n",
      "19:58:53 - cmdstanpy - INFO - Chain [1] done processing\n",
      "C:\\Users\\waldo\\AppData\\Local\\Temp\\ipykernel_44800\\1165039906.py:39: SettingWithCopyWarning: \n",
      "A value is trying to be set on a copy of a slice from a DataFrame.\n",
      "Try using .loc[row_indexer,col_indexer] = value instead\n",
      "\n",
      "See the caveats in the documentation: https://pandas.pydata.org/pandas-docs/stable/user_guide/indexing.html#returning-a-view-versus-a-copy\n",
      "  componentes['seasonal_prophet'] = 0\n",
      " 60%|██████    | 470/780 [1:18:44<21:35,  4.18s/it]19:58:57 - cmdstanpy - INFO - Chain [1] start processing\n",
      "19:58:57 - cmdstanpy - INFO - Chain [1] done processing\n",
      "C:\\Users\\waldo\\AppData\\Local\\Temp\\ipykernel_44800\\1165039906.py:39: SettingWithCopyWarning: \n",
      "A value is trying to be set on a copy of a slice from a DataFrame.\n",
      "Try using .loc[row_indexer,col_indexer] = value instead\n",
      "\n",
      "See the caveats in the documentation: https://pandas.pydata.org/pandas-docs/stable/user_guide/indexing.html#returning-a-view-versus-a-copy\n",
      "  componentes['seasonal_prophet'] = 0\n",
      " 60%|██████    | 471/780 [1:18:45<16:44,  3.25s/it]19:58:59 - cmdstanpy - INFO - Chain [1] start processing\n",
      "19:58:59 - cmdstanpy - INFO - Chain [1] done processing\n",
      "C:\\Users\\waldo\\AppData\\Local\\Temp\\ipykernel_44800\\1165039906.py:39: SettingWithCopyWarning: \n",
      "A value is trying to be set on a copy of a slice from a DataFrame.\n",
      "Try using .loc[row_indexer,col_indexer] = value instead\n",
      "\n",
      "See the caveats in the documentation: https://pandas.pydata.org/pandas-docs/stable/user_guide/indexing.html#returning-a-view-versus-a-copy\n",
      "  componentes['seasonal_prophet'] = 0\n",
      " 61%|██████    | 472/780 [1:18:49<18:14,  3.55s/it]19:59:03 - cmdstanpy - INFO - Chain [1] start processing\n",
      "19:59:03 - cmdstanpy - INFO - Chain [1] done processing\n",
      "C:\\Users\\waldo\\AppData\\Local\\Temp\\ipykernel_44800\\1165039906.py:39: SettingWithCopyWarning: \n",
      "A value is trying to be set on a copy of a slice from a DataFrame.\n",
      "Try using .loc[row_indexer,col_indexer] = value instead\n",
      "\n",
      "See the caveats in the documentation: https://pandas.pydata.org/pandas-docs/stable/user_guide/indexing.html#returning-a-view-versus-a-copy\n",
      "  componentes['seasonal_prophet'] = 0\n",
      " 61%|██████    | 473/780 [1:18:57<24:40,  4.82s/it]19:59:10 - cmdstanpy - INFO - Chain [1] start processing\n",
      "19:59:10 - cmdstanpy - INFO - Chain [1] done processing\n",
      "C:\\Users\\waldo\\AppData\\Local\\Temp\\ipykernel_44800\\1165039906.py:39: SettingWithCopyWarning: \n",
      "A value is trying to be set on a copy of a slice from a DataFrame.\n",
      "Try using .loc[row_indexer,col_indexer] = value instead\n",
      "\n",
      "See the caveats in the documentation: https://pandas.pydata.org/pandas-docs/stable/user_guide/indexing.html#returning-a-view-versus-a-copy\n",
      "  componentes['seasonal_prophet'] = 0\n",
      " 61%|██████    | 474/780 [1:18:58<18:37,  3.65s/it]19:59:12 - cmdstanpy - INFO - Chain [1] start processing\n",
      "19:59:12 - cmdstanpy - INFO - Chain [1] done processing\n",
      "C:\\Users\\waldo\\AppData\\Local\\Temp\\ipykernel_44800\\1165039906.py:39: SettingWithCopyWarning: \n",
      "A value is trying to be set on a copy of a slice from a DataFrame.\n",
      "Try using .loc[row_indexer,col_indexer] = value instead\n",
      "\n",
      "See the caveats in the documentation: https://pandas.pydata.org/pandas-docs/stable/user_guide/indexing.html#returning-a-view-versus-a-copy\n",
      "  componentes['seasonal_prophet'] = 0\n",
      " 61%|██████    | 475/780 [1:19:04<22:10,  4.36s/it]19:59:17 - cmdstanpy - INFO - Chain [1] start processing\n",
      "19:59:18 - cmdstanpy - INFO - Chain [1] done processing\n",
      "C:\\Users\\waldo\\AppData\\Local\\Temp\\ipykernel_44800\\1165039906.py:39: SettingWithCopyWarning: \n",
      "A value is trying to be set on a copy of a slice from a DataFrame.\n",
      "Try using .loc[row_indexer,col_indexer] = value instead\n",
      "\n",
      "See the caveats in the documentation: https://pandas.pydata.org/pandas-docs/stable/user_guide/indexing.html#returning-a-view-versus-a-copy\n",
      "  componentes['seasonal_prophet'] = 0\n",
      " 61%|██████    | 476/780 [1:19:09<22:40,  4.48s/it]19:59:22 - cmdstanpy - INFO - Chain [1] start processing\n",
      "19:59:22 - cmdstanpy - INFO - Chain [1] done processing\n",
      "C:\\Users\\waldo\\AppData\\Local\\Temp\\ipykernel_44800\\1165039906.py:39: SettingWithCopyWarning: \n",
      "A value is trying to be set on a copy of a slice from a DataFrame.\n",
      "Try using .loc[row_indexer,col_indexer] = value instead\n",
      "\n",
      "See the caveats in the documentation: https://pandas.pydata.org/pandas-docs/stable/user_guide/indexing.html#returning-a-view-versus-a-copy\n",
      "  componentes['seasonal_prophet'] = 0\n",
      " 61%|██████    | 477/780 [1:19:12<21:13,  4.20s/it]19:59:26 - cmdstanpy - INFO - Chain [1] start processing\n",
      "19:59:26 - cmdstanpy - INFO - Chain [1] done processing\n",
      "C:\\Users\\waldo\\AppData\\Local\\Temp\\ipykernel_44800\\1165039906.py:39: SettingWithCopyWarning: \n",
      "A value is trying to be set on a copy of a slice from a DataFrame.\n",
      "Try using .loc[row_indexer,col_indexer] = value instead\n",
      "\n",
      "See the caveats in the documentation: https://pandas.pydata.org/pandas-docs/stable/user_guide/indexing.html#returning-a-view-versus-a-copy\n",
      "  componentes['seasonal_prophet'] = 0\n",
      " 61%|██████▏   | 478/780 [1:19:17<21:49,  4.34s/it]19:59:30 - cmdstanpy - INFO - Chain [1] start processing\n",
      "19:59:31 - cmdstanpy - INFO - Chain [1] done processing\n",
      "C:\\Users\\waldo\\AppData\\Local\\Temp\\ipykernel_44800\\1165039906.py:39: SettingWithCopyWarning: \n",
      "A value is trying to be set on a copy of a slice from a DataFrame.\n",
      "Try using .loc[row_indexer,col_indexer] = value instead\n",
      "\n",
      "See the caveats in the documentation: https://pandas.pydata.org/pandas-docs/stable/user_guide/indexing.html#returning-a-view-versus-a-copy\n",
      "  componentes['seasonal_prophet'] = 0\n",
      " 61%|██████▏   | 479/780 [1:19:20<20:16,  4.04s/it]19:59:34 - cmdstanpy - INFO - Chain [1] start processing\n",
      "19:59:34 - cmdstanpy - INFO - Chain [1] done processing\n",
      "C:\\Users\\waldo\\AppData\\Local\\Temp\\ipykernel_44800\\1165039906.py:39: SettingWithCopyWarning: \n",
      "A value is trying to be set on a copy of a slice from a DataFrame.\n",
      "Try using .loc[row_indexer,col_indexer] = value instead\n",
      "\n",
      "See the caveats in the documentation: https://pandas.pydata.org/pandas-docs/stable/user_guide/indexing.html#returning-a-view-versus-a-copy\n",
      "  componentes['seasonal_prophet'] = 0\n",
      " 62%|██████▏   | 480/780 [1:19:25<20:27,  4.09s/it]19:59:38 - cmdstanpy - INFO - Chain [1] start processing\n",
      "19:59:38 - cmdstanpy - INFO - Chain [1] done processing\n",
      "C:\\Users\\waldo\\AppData\\Local\\Temp\\ipykernel_44800\\1165039906.py:39: SettingWithCopyWarning: \n",
      "A value is trying to be set on a copy of a slice from a DataFrame.\n",
      "Try using .loc[row_indexer,col_indexer] = value instead\n",
      "\n",
      "See the caveats in the documentation: https://pandas.pydata.org/pandas-docs/stable/user_guide/indexing.html#returning-a-view-versus-a-copy\n",
      "  componentes['seasonal_prophet'] = 0\n",
      " 62%|██████▏   | 481/780 [1:19:27<17:23,  3.49s/it]19:59:40 - cmdstanpy - INFO - Chain [1] start processing\n",
      "19:59:40 - cmdstanpy - INFO - Chain [1] done processing\n",
      "C:\\Users\\waldo\\AppData\\Local\\Temp\\ipykernel_44800\\1165039906.py:39: SettingWithCopyWarning: \n",
      "A value is trying to be set on a copy of a slice from a DataFrame.\n",
      "Try using .loc[row_indexer,col_indexer] = value instead\n",
      "\n",
      "See the caveats in the documentation: https://pandas.pydata.org/pandas-docs/stable/user_guide/indexing.html#returning-a-view-versus-a-copy\n",
      "  componentes['seasonal_prophet'] = 0\n",
      " 62%|██████▏   | 482/780 [1:19:28<14:04,  2.83s/it]19:59:41 - cmdstanpy - INFO - Chain [1] start processing\n",
      "19:59:42 - cmdstanpy - INFO - Chain [1] done processing\n",
      "C:\\Users\\waldo\\AppData\\Local\\Temp\\ipykernel_44800\\1165039906.py:39: SettingWithCopyWarning: \n",
      "A value is trying to be set on a copy of a slice from a DataFrame.\n",
      "Try using .loc[row_indexer,col_indexer] = value instead\n",
      "\n",
      "See the caveats in the documentation: https://pandas.pydata.org/pandas-docs/stable/user_guide/indexing.html#returning-a-view-versus-a-copy\n",
      "  componentes['seasonal_prophet'] = 0\n",
      " 62%|██████▏   | 483/780 [1:19:32<16:21,  3.31s/it]19:59:46 - cmdstanpy - INFO - Chain [1] start processing\n",
      "19:59:46 - cmdstanpy - INFO - Chain [1] done processing\n",
      "C:\\Users\\waldo\\AppData\\Local\\Temp\\ipykernel_44800\\1165039906.py:39: SettingWithCopyWarning: \n",
      "A value is trying to be set on a copy of a slice from a DataFrame.\n",
      "Try using .loc[row_indexer,col_indexer] = value instead\n",
      "\n",
      "See the caveats in the documentation: https://pandas.pydata.org/pandas-docs/stable/user_guide/indexing.html#returning-a-view-versus-a-copy\n",
      "  componentes['seasonal_prophet'] = 0\n",
      " 62%|██████▏   | 484/780 [1:19:36<16:34,  3.36s/it]19:59:49 - cmdstanpy - INFO - Chain [1] start processing\n",
      "19:59:49 - cmdstanpy - INFO - Chain [1] done processing\n",
      "C:\\Users\\waldo\\AppData\\Local\\Temp\\ipykernel_44800\\1165039906.py:39: SettingWithCopyWarning: \n",
      "A value is trying to be set on a copy of a slice from a DataFrame.\n",
      "Try using .loc[row_indexer,col_indexer] = value instead\n",
      "\n",
      "See the caveats in the documentation: https://pandas.pydata.org/pandas-docs/stable/user_guide/indexing.html#returning-a-view-versus-a-copy\n",
      "  componentes['seasonal_prophet'] = 0\n",
      " 62%|██████▏   | 485/780 [1:19:39<15:47,  3.21s/it]19:59:52 - cmdstanpy - INFO - Chain [1] start processing\n",
      "19:59:53 - cmdstanpy - INFO - Chain [1] done processing\n",
      "C:\\Users\\waldo\\AppData\\Local\\Temp\\ipykernel_44800\\1165039906.py:39: SettingWithCopyWarning: \n",
      "A value is trying to be set on a copy of a slice from a DataFrame.\n",
      "Try using .loc[row_indexer,col_indexer] = value instead\n",
      "\n",
      "See the caveats in the documentation: https://pandas.pydata.org/pandas-docs/stable/user_guide/indexing.html#returning-a-view-versus-a-copy\n",
      "  componentes['seasonal_prophet'] = 0\n",
      " 62%|██████▏   | 486/780 [1:19:47<23:10,  4.73s/it]20:00:00 - cmdstanpy - INFO - Chain [1] start processing\n",
      "20:00:01 - cmdstanpy - INFO - Chain [1] done processing\n",
      "C:\\Users\\waldo\\AppData\\Local\\Temp\\ipykernel_44800\\1165039906.py:39: SettingWithCopyWarning: \n",
      "A value is trying to be set on a copy of a slice from a DataFrame.\n",
      "Try using .loc[row_indexer,col_indexer] = value instead\n",
      "\n",
      "See the caveats in the documentation: https://pandas.pydata.org/pandas-docs/stable/user_guide/indexing.html#returning-a-view-versus-a-copy\n",
      "  componentes['seasonal_prophet'] = 0\n",
      " 62%|██████▏   | 487/780 [1:19:52<23:35,  4.83s/it]20:00:05 - cmdstanpy - INFO - Chain [1] start processing\n",
      "20:00:06 - cmdstanpy - INFO - Chain [1] done processing\n",
      "C:\\Users\\waldo\\AppData\\Local\\Temp\\ipykernel_44800\\1165039906.py:39: SettingWithCopyWarning: \n",
      "A value is trying to be set on a copy of a slice from a DataFrame.\n",
      "Try using .loc[row_indexer,col_indexer] = value instead\n",
      "\n",
      "See the caveats in the documentation: https://pandas.pydata.org/pandas-docs/stable/user_guide/indexing.html#returning-a-view-versus-a-copy\n",
      "  componentes['seasonal_prophet'] = 0\n",
      " 63%|██████▎   | 488/780 [1:19:56<21:31,  4.42s/it]20:00:09 - cmdstanpy - INFO - Chain [1] start processing\n",
      "20:00:09 - cmdstanpy - INFO - Chain [1] done processing\n",
      "C:\\Users\\waldo\\AppData\\Local\\Temp\\ipykernel_44800\\1165039906.py:39: SettingWithCopyWarning: \n",
      "A value is trying to be set on a copy of a slice from a DataFrame.\n",
      "Try using .loc[row_indexer,col_indexer] = value instead\n",
      "\n",
      "See the caveats in the documentation: https://pandas.pydata.org/pandas-docs/stable/user_guide/indexing.html#returning-a-view-versus-a-copy\n",
      "  componentes['seasonal_prophet'] = 0\n",
      " 63%|██████▎   | 489/780 [1:20:00<21:08,  4.36s/it]20:00:13 - cmdstanpy - INFO - Chain [1] start processing\n",
      "20:00:13 - cmdstanpy - INFO - Chain [1] done processing\n",
      "C:\\Users\\waldo\\AppData\\Local\\Temp\\ipykernel_44800\\1165039906.py:39: SettingWithCopyWarning: \n",
      "A value is trying to be set on a copy of a slice from a DataFrame.\n",
      "Try using .loc[row_indexer,col_indexer] = value instead\n",
      "\n",
      "See the caveats in the documentation: https://pandas.pydata.org/pandas-docs/stable/user_guide/indexing.html#returning-a-view-versus-a-copy\n",
      "  componentes['seasonal_prophet'] = 0\n",
      " 63%|██████▎   | 490/780 [1:20:01<16:15,  3.36s/it]20:00:14 - cmdstanpy - INFO - Chain [1] start processing\n",
      "20:00:14 - cmdstanpy - INFO - Chain [1] done processing\n",
      "C:\\Users\\waldo\\AppData\\Local\\Temp\\ipykernel_44800\\1165039906.py:39: SettingWithCopyWarning: \n",
      "A value is trying to be set on a copy of a slice from a DataFrame.\n",
      "Try using .loc[row_indexer,col_indexer] = value instead\n",
      "\n",
      "See the caveats in the documentation: https://pandas.pydata.org/pandas-docs/stable/user_guide/indexing.html#returning-a-view-versus-a-copy\n",
      "  componentes['seasonal_prophet'] = 0\n",
      " 63%|██████▎   | 491/780 [1:20:04<16:21,  3.40s/it]20:00:18 - cmdstanpy - INFO - Chain [1] start processing\n",
      "20:00:18 - cmdstanpy - INFO - Chain [1] done processing\n",
      "C:\\Users\\waldo\\AppData\\Local\\Temp\\ipykernel_44800\\1165039906.py:39: SettingWithCopyWarning: \n",
      "A value is trying to be set on a copy of a slice from a DataFrame.\n",
      "Try using .loc[row_indexer,col_indexer] = value instead\n",
      "\n",
      "See the caveats in the documentation: https://pandas.pydata.org/pandas-docs/stable/user_guide/indexing.html#returning-a-view-versus-a-copy\n",
      "  componentes['seasonal_prophet'] = 0\n",
      " 63%|██████▎   | 492/780 [1:20:09<17:29,  3.64s/it]20:00:22 - cmdstanpy - INFO - Chain [1] start processing\n",
      "20:00:22 - cmdstanpy - INFO - Chain [1] done processing\n",
      "C:\\Users\\waldo\\AppData\\Local\\Temp\\ipykernel_44800\\1165039906.py:39: SettingWithCopyWarning: \n",
      "A value is trying to be set on a copy of a slice from a DataFrame.\n",
      "Try using .loc[row_indexer,col_indexer] = value instead\n",
      "\n",
      "See the caveats in the documentation: https://pandas.pydata.org/pandas-docs/stable/user_guide/indexing.html#returning-a-view-versus-a-copy\n",
      "  componentes['seasonal_prophet'] = 0\n",
      " 63%|██████▎   | 493/780 [1:20:10<13:51,  2.90s/it]20:00:23 - cmdstanpy - INFO - Chain [1] start processing\n",
      "20:00:23 - cmdstanpy - INFO - Chain [1] done processing\n",
      "C:\\Users\\waldo\\AppData\\Local\\Temp\\ipykernel_44800\\1165039906.py:39: SettingWithCopyWarning: \n",
      "A value is trying to be set on a copy of a slice from a DataFrame.\n",
      "Try using .loc[row_indexer,col_indexer] = value instead\n",
      "\n",
      "See the caveats in the documentation: https://pandas.pydata.org/pandas-docs/stable/user_guide/indexing.html#returning-a-view-versus-a-copy\n",
      "  componentes['seasonal_prophet'] = 0\n",
      " 63%|██████▎   | 494/780 [1:20:14<15:38,  3.28s/it]20:00:27 - cmdstanpy - INFO - Chain [1] start processing\n",
      "20:00:28 - cmdstanpy - INFO - Chain [1] done processing\n",
      "C:\\Users\\waldo\\AppData\\Local\\Temp\\ipykernel_44800\\1165039906.py:39: SettingWithCopyWarning: \n",
      "A value is trying to be set on a copy of a slice from a DataFrame.\n",
      "Try using .loc[row_indexer,col_indexer] = value instead\n",
      "\n",
      "See the caveats in the documentation: https://pandas.pydata.org/pandas-docs/stable/user_guide/indexing.html#returning-a-view-versus-a-copy\n",
      "  componentes['seasonal_prophet'] = 0\n",
      " 63%|██████▎   | 495/780 [1:20:20<19:49,  4.17s/it]20:00:33 - cmdstanpy - INFO - Chain [1] start processing\n",
      "20:00:34 - cmdstanpy - INFO - Chain [1] done processing\n",
      "C:\\Users\\waldo\\AppData\\Local\\Temp\\ipykernel_44800\\1165039906.py:39: SettingWithCopyWarning: \n",
      "A value is trying to be set on a copy of a slice from a DataFrame.\n",
      "Try using .loc[row_indexer,col_indexer] = value instead\n",
      "\n",
      "See the caveats in the documentation: https://pandas.pydata.org/pandas-docs/stable/user_guide/indexing.html#returning-a-view-versus-a-copy\n",
      "  componentes['seasonal_prophet'] = 0\n",
      " 64%|██████▎   | 496/780 [1:20:22<15:54,  3.36s/it]20:00:35 - cmdstanpy - INFO - Chain [1] start processing\n",
      "20:00:35 - cmdstanpy - INFO - Chain [1] done processing\n",
      "C:\\Users\\waldo\\AppData\\Local\\Temp\\ipykernel_44800\\1165039906.py:39: SettingWithCopyWarning: \n",
      "A value is trying to be set on a copy of a slice from a DataFrame.\n",
      "Try using .loc[row_indexer,col_indexer] = value instead\n",
      "\n",
      "See the caveats in the documentation: https://pandas.pydata.org/pandas-docs/stable/user_guide/indexing.html#returning-a-view-versus-a-copy\n",
      "  componentes['seasonal_prophet'] = 0\n",
      " 64%|██████▎   | 497/780 [1:20:25<16:17,  3.46s/it]20:00:39 - cmdstanpy - INFO - Chain [1] start processing\n",
      "20:00:39 - cmdstanpy - INFO - Chain [1] done processing\n",
      "C:\\Users\\waldo\\AppData\\Local\\Temp\\ipykernel_44800\\1165039906.py:39: SettingWithCopyWarning: \n",
      "A value is trying to be set on a copy of a slice from a DataFrame.\n",
      "Try using .loc[row_indexer,col_indexer] = value instead\n",
      "\n",
      "See the caveats in the documentation: https://pandas.pydata.org/pandas-docs/stable/user_guide/indexing.html#returning-a-view-versus-a-copy\n",
      "  componentes['seasonal_prophet'] = 0\n",
      " 64%|██████▍   | 498/780 [1:20:28<15:22,  3.27s/it]20:00:42 - cmdstanpy - INFO - Chain [1] start processing\n",
      "20:00:42 - cmdstanpy - INFO - Chain [1] done processing\n",
      "C:\\Users\\waldo\\AppData\\Local\\Temp\\ipykernel_44800\\1165039906.py:39: SettingWithCopyWarning: \n",
      "A value is trying to be set on a copy of a slice from a DataFrame.\n",
      "Try using .loc[row_indexer,col_indexer] = value instead\n",
      "\n",
      "See the caveats in the documentation: https://pandas.pydata.org/pandas-docs/stable/user_guide/indexing.html#returning-a-view-versus-a-copy\n",
      "  componentes['seasonal_prophet'] = 0\n",
      " 64%|██████▍   | 499/780 [1:20:34<19:38,  4.19s/it]20:00:48 - cmdstanpy - INFO - Chain [1] start processing\n",
      "20:00:48 - cmdstanpy - INFO - Chain [1] done processing\n",
      "C:\\Users\\waldo\\AppData\\Local\\Temp\\ipykernel_44800\\1165039906.py:39: SettingWithCopyWarning: \n",
      "A value is trying to be set on a copy of a slice from a DataFrame.\n",
      "Try using .loc[row_indexer,col_indexer] = value instead\n",
      "\n",
      "See the caveats in the documentation: https://pandas.pydata.org/pandas-docs/stable/user_guide/indexing.html#returning-a-view-versus-a-copy\n",
      "  componentes['seasonal_prophet'] = 0\n",
      " 64%|██████▍   | 500/780 [1:20:36<15:13,  3.26s/it]20:00:49 - cmdstanpy - INFO - Chain [1] start processing\n",
      "20:00:49 - cmdstanpy - INFO - Chain [1] done processing\n",
      "C:\\Users\\waldo\\AppData\\Local\\Temp\\ipykernel_44800\\1165039906.py:39: SettingWithCopyWarning: \n",
      "A value is trying to be set on a copy of a slice from a DataFrame.\n",
      "Try using .loc[row_indexer,col_indexer] = value instead\n",
      "\n",
      "See the caveats in the documentation: https://pandas.pydata.org/pandas-docs/stable/user_guide/indexing.html#returning-a-view-versus-a-copy\n",
      "  componentes['seasonal_prophet'] = 0\n",
      " 64%|██████▍   | 501/780 [1:20:37<12:52,  2.77s/it]20:00:50 - cmdstanpy - INFO - Chain [1] start processing\n",
      "20:00:51 - cmdstanpy - INFO - Chain [1] done processing\n",
      "C:\\Users\\waldo\\AppData\\Local\\Temp\\ipykernel_44800\\1165039906.py:39: SettingWithCopyWarning: \n",
      "A value is trying to be set on a copy of a slice from a DataFrame.\n",
      "Try using .loc[row_indexer,col_indexer] = value instead\n",
      "\n",
      "See the caveats in the documentation: https://pandas.pydata.org/pandas-docs/stable/user_guide/indexing.html#returning-a-view-versus-a-copy\n",
      "  componentes['seasonal_prophet'] = 0\n",
      " 64%|██████▍   | 502/780 [1:20:40<12:45,  2.75s/it]20:00:53 - cmdstanpy - INFO - Chain [1] start processing\n",
      "20:00:53 - cmdstanpy - INFO - Chain [1] done processing\n",
      "C:\\Users\\waldo\\AppData\\Local\\Temp\\ipykernel_44800\\1165039906.py:39: SettingWithCopyWarning: \n",
      "A value is trying to be set on a copy of a slice from a DataFrame.\n",
      "Try using .loc[row_indexer,col_indexer] = value instead\n",
      "\n",
      "See the caveats in the documentation: https://pandas.pydata.org/pandas-docs/stable/user_guide/indexing.html#returning-a-view-versus-a-copy\n",
      "  componentes['seasonal_prophet'] = 0\n",
      " 64%|██████▍   | 503/780 [1:20:45<15:47,  3.42s/it]20:00:58 - cmdstanpy - INFO - Chain [1] start processing\n",
      "20:00:58 - cmdstanpy - INFO - Chain [1] done processing\n",
      "C:\\Users\\waldo\\AppData\\Local\\Temp\\ipykernel_44800\\1165039906.py:39: SettingWithCopyWarning: \n",
      "A value is trying to be set on a copy of a slice from a DataFrame.\n",
      "Try using .loc[row_indexer,col_indexer] = value instead\n",
      "\n",
      "See the caveats in the documentation: https://pandas.pydata.org/pandas-docs/stable/user_guide/indexing.html#returning-a-view-versus-a-copy\n",
      "  componentes['seasonal_prophet'] = 0\n",
      " 65%|██████▍   | 504/780 [1:20:49<16:40,  3.62s/it]20:01:02 - cmdstanpy - INFO - Chain [1] start processing\n",
      "20:01:02 - cmdstanpy - INFO - Chain [1] done processing\n",
      "C:\\Users\\waldo\\AppData\\Local\\Temp\\ipykernel_44800\\1165039906.py:39: SettingWithCopyWarning: \n",
      "A value is trying to be set on a copy of a slice from a DataFrame.\n",
      "Try using .loc[row_indexer,col_indexer] = value instead\n",
      "\n",
      "See the caveats in the documentation: https://pandas.pydata.org/pandas-docs/stable/user_guide/indexing.html#returning-a-view-versus-a-copy\n",
      "  componentes['seasonal_prophet'] = 0\n",
      " 65%|██████▍   | 505/780 [1:20:52<15:18,  3.34s/it]20:01:05 - cmdstanpy - INFO - Chain [1] start processing\n",
      "20:01:05 - cmdstanpy - INFO - Chain [1] done processing\n",
      "C:\\Users\\waldo\\AppData\\Local\\Temp\\ipykernel_44800\\1165039906.py:39: SettingWithCopyWarning: \n",
      "A value is trying to be set on a copy of a slice from a DataFrame.\n",
      "Try using .loc[row_indexer,col_indexer] = value instead\n",
      "\n",
      "See the caveats in the documentation: https://pandas.pydata.org/pandas-docs/stable/user_guide/indexing.html#returning-a-view-versus-a-copy\n",
      "  componentes['seasonal_prophet'] = 0\n",
      " 65%|██████▍   | 506/780 [1:20:55<14:44,  3.23s/it]20:01:08 - cmdstanpy - INFO - Chain [1] start processing\n",
      "20:01:08 - cmdstanpy - INFO - Chain [1] done processing\n",
      "C:\\Users\\waldo\\AppData\\Local\\Temp\\ipykernel_44800\\1165039906.py:39: SettingWithCopyWarning: \n",
      "A value is trying to be set on a copy of a slice from a DataFrame.\n",
      "Try using .loc[row_indexer,col_indexer] = value instead\n",
      "\n",
      "See the caveats in the documentation: https://pandas.pydata.org/pandas-docs/stable/user_guide/indexing.html#returning-a-view-versus-a-copy\n",
      "  componentes['seasonal_prophet'] = 0\n",
      " 65%|██████▌   | 507/780 [1:20:56<12:21,  2.72s/it]20:01:09 - cmdstanpy - INFO - Chain [1] start processing\n",
      "20:01:09 - cmdstanpy - INFO - Chain [1] done processing\n",
      "C:\\Users\\waldo\\AppData\\Local\\Temp\\ipykernel_44800\\1165039906.py:39: SettingWithCopyWarning: \n",
      "A value is trying to be set on a copy of a slice from a DataFrame.\n",
      "Try using .loc[row_indexer,col_indexer] = value instead\n",
      "\n",
      "See the caveats in the documentation: https://pandas.pydata.org/pandas-docs/stable/user_guide/indexing.html#returning-a-view-versus-a-copy\n",
      "  componentes['seasonal_prophet'] = 0\n",
      " 65%|██████▌   | 508/780 [1:20:58<10:47,  2.38s/it]20:01:11 - cmdstanpy - INFO - Chain [1] start processing\n",
      "20:01:11 - cmdstanpy - INFO - Chain [1] done processing\n",
      "C:\\Users\\waldo\\AppData\\Local\\Temp\\ipykernel_44800\\1165039906.py:39: SettingWithCopyWarning: \n",
      "A value is trying to be set on a copy of a slice from a DataFrame.\n",
      "Try using .loc[row_indexer,col_indexer] = value instead\n",
      "\n",
      "See the caveats in the documentation: https://pandas.pydata.org/pandas-docs/stable/user_guide/indexing.html#returning-a-view-versus-a-copy\n",
      "  componentes['seasonal_prophet'] = 0\n",
      " 65%|██████▌   | 509/780 [1:21:00<10:30,  2.33s/it]20:01:13 - cmdstanpy - INFO - Chain [1] start processing\n",
      "20:01:13 - cmdstanpy - INFO - Chain [1] done processing\n",
      "C:\\Users\\waldo\\AppData\\Local\\Temp\\ipykernel_44800\\1165039906.py:39: SettingWithCopyWarning: \n",
      "A value is trying to be set on a copy of a slice from a DataFrame.\n",
      "Try using .loc[row_indexer,col_indexer] = value instead\n",
      "\n",
      "See the caveats in the documentation: https://pandas.pydata.org/pandas-docs/stable/user_guide/indexing.html#returning-a-view-versus-a-copy\n",
      "  componentes['seasonal_prophet'] = 0\n",
      " 65%|██████▌   | 510/780 [1:21:04<13:08,  2.92s/it]20:01:17 - cmdstanpy - INFO - Chain [1] start processing\n",
      "20:01:17 - cmdstanpy - INFO - Chain [1] done processing\n",
      "C:\\Users\\waldo\\AppData\\Local\\Temp\\ipykernel_44800\\1165039906.py:39: SettingWithCopyWarning: \n",
      "A value is trying to be set on a copy of a slice from a DataFrame.\n",
      "Try using .loc[row_indexer,col_indexer] = value instead\n",
      "\n",
      "See the caveats in the documentation: https://pandas.pydata.org/pandas-docs/stable/user_guide/indexing.html#returning-a-view-versus-a-copy\n",
      "  componentes['seasonal_prophet'] = 0\n",
      " 66%|██████▌   | 511/780 [1:21:05<10:30,  2.34s/it]20:01:19 - cmdstanpy - INFO - Chain [1] start processing\n",
      "20:01:19 - cmdstanpy - INFO - Chain [1] done processing\n",
      "C:\\Users\\waldo\\AppData\\Local\\Temp\\ipykernel_44800\\1165039906.py:39: SettingWithCopyWarning: \n",
      "A value is trying to be set on a copy of a slice from a DataFrame.\n",
      "Try using .loc[row_indexer,col_indexer] = value instead\n",
      "\n",
      "See the caveats in the documentation: https://pandas.pydata.org/pandas-docs/stable/user_guide/indexing.html#returning-a-view-versus-a-copy\n",
      "  componentes['seasonal_prophet'] = 0\n",
      " 66%|██████▌   | 512/780 [1:21:07<09:57,  2.23s/it]20:01:20 - cmdstanpy - INFO - Chain [1] start processing\n",
      "20:01:20 - cmdstanpy - INFO - Chain [1] done processing\n",
      "C:\\Users\\waldo\\AppData\\Local\\Temp\\ipykernel_44800\\1165039906.py:39: SettingWithCopyWarning: \n",
      "A value is trying to be set on a copy of a slice from a DataFrame.\n",
      "Try using .loc[row_indexer,col_indexer] = value instead\n",
      "\n",
      "See the caveats in the documentation: https://pandas.pydata.org/pandas-docs/stable/user_guide/indexing.html#returning-a-view-versus-a-copy\n",
      "  componentes['seasonal_prophet'] = 0\n",
      " 66%|██████▌   | 513/780 [1:21:08<08:02,  1.81s/it]20:01:21 - cmdstanpy - INFO - Chain [1] start processing\n",
      "20:01:22 - cmdstanpy - INFO - Chain [1] done processing\n",
      "C:\\Users\\waldo\\AppData\\Local\\Temp\\ipykernel_44800\\1165039906.py:39: SettingWithCopyWarning: \n",
      "A value is trying to be set on a copy of a slice from a DataFrame.\n",
      "Try using .loc[row_indexer,col_indexer] = value instead\n",
      "\n",
      "See the caveats in the documentation: https://pandas.pydata.org/pandas-docs/stable/user_guide/indexing.html#returning-a-view-versus-a-copy\n",
      "  componentes['seasonal_prophet'] = 0\n",
      " 66%|██████▌   | 514/780 [1:21:12<10:56,  2.47s/it]20:01:25 - cmdstanpy - INFO - Chain [1] start processing\n",
      "20:01:25 - cmdstanpy - INFO - Chain [1] done processing\n",
      "C:\\Users\\waldo\\AppData\\Local\\Temp\\ipykernel_44800\\1165039906.py:39: SettingWithCopyWarning: \n",
      "A value is trying to be set on a copy of a slice from a DataFrame.\n",
      "Try using .loc[row_indexer,col_indexer] = value instead\n",
      "\n",
      "See the caveats in the documentation: https://pandas.pydata.org/pandas-docs/stable/user_guide/indexing.html#returning-a-view-versus-a-copy\n",
      "  componentes['seasonal_prophet'] = 0\n",
      " 66%|██████▌   | 515/780 [1:21:13<09:27,  2.14s/it]20:01:27 - cmdstanpy - INFO - Chain [1] start processing\n",
      "20:01:27 - cmdstanpy - INFO - Chain [1] done processing\n",
      "C:\\Users\\waldo\\AppData\\Local\\Temp\\ipykernel_44800\\1165039906.py:39: SettingWithCopyWarning: \n",
      "A value is trying to be set on a copy of a slice from a DataFrame.\n",
      "Try using .loc[row_indexer,col_indexer] = value instead\n",
      "\n",
      "See the caveats in the documentation: https://pandas.pydata.org/pandas-docs/stable/user_guide/indexing.html#returning-a-view-versus-a-copy\n",
      "  componentes['seasonal_prophet'] = 0\n",
      " 66%|██████▌   | 516/780 [1:21:16<10:32,  2.40s/it]20:01:30 - cmdstanpy - INFO - Chain [1] start processing\n",
      "20:01:30 - cmdstanpy - INFO - Chain [1] done processing\n",
      "C:\\Users\\waldo\\AppData\\Local\\Temp\\ipykernel_44800\\1165039906.py:39: SettingWithCopyWarning: \n",
      "A value is trying to be set on a copy of a slice from a DataFrame.\n",
      "Try using .loc[row_indexer,col_indexer] = value instead\n",
      "\n",
      "See the caveats in the documentation: https://pandas.pydata.org/pandas-docs/stable/user_guide/indexing.html#returning-a-view-versus-a-copy\n",
      "  componentes['seasonal_prophet'] = 0\n",
      " 66%|██████▋   | 517/780 [1:21:23<16:17,  3.72s/it]20:01:37 - cmdstanpy - INFO - Chain [1] start processing\n",
      "20:01:37 - cmdstanpy - INFO - Chain [1] done processing\n",
      "C:\\Users\\waldo\\AppData\\Local\\Temp\\ipykernel_44800\\1165039906.py:39: SettingWithCopyWarning: \n",
      "A value is trying to be set on a copy of a slice from a DataFrame.\n",
      "Try using .loc[row_indexer,col_indexer] = value instead\n",
      "\n",
      "See the caveats in the documentation: https://pandas.pydata.org/pandas-docs/stable/user_guide/indexing.html#returning-a-view-versus-a-copy\n",
      "  componentes['seasonal_prophet'] = 0\n",
      " 66%|██████▋   | 518/780 [1:21:27<16:53,  3.87s/it]20:01:41 - cmdstanpy - INFO - Chain [1] start processing\n",
      "20:01:41 - cmdstanpy - INFO - Chain [1] done processing\n",
      "C:\\Users\\waldo\\AppData\\Local\\Temp\\ipykernel_44800\\1165039906.py:39: SettingWithCopyWarning: \n",
      "A value is trying to be set on a copy of a slice from a DataFrame.\n",
      "Try using .loc[row_indexer,col_indexer] = value instead\n",
      "\n",
      "See the caveats in the documentation: https://pandas.pydata.org/pandas-docs/stable/user_guide/indexing.html#returning-a-view-versus-a-copy\n",
      "  componentes['seasonal_prophet'] = 0\n",
      " 67%|██████▋   | 519/780 [1:21:29<13:33,  3.12s/it]20:01:42 - cmdstanpy - INFO - Chain [1] start processing\n",
      "20:01:43 - cmdstanpy - INFO - Chain [1] done processing\n",
      "C:\\Users\\waldo\\AppData\\Local\\Temp\\ipykernel_44800\\1165039906.py:39: SettingWithCopyWarning: \n",
      "A value is trying to be set on a copy of a slice from a DataFrame.\n",
      "Try using .loc[row_indexer,col_indexer] = value instead\n",
      "\n",
      "See the caveats in the documentation: https://pandas.pydata.org/pandas-docs/stable/user_guide/indexing.html#returning-a-view-versus-a-copy\n",
      "  componentes['seasonal_prophet'] = 0\n",
      " 67%|██████▋   | 520/780 [1:21:36<19:23,  4.47s/it]20:01:50 - cmdstanpy - INFO - Chain [1] start processing\n",
      "20:01:50 - cmdstanpy - INFO - Chain [1] done processing\n",
      "C:\\Users\\waldo\\AppData\\Local\\Temp\\ipykernel_44800\\1165039906.py:39: SettingWithCopyWarning: \n",
      "A value is trying to be set on a copy of a slice from a DataFrame.\n",
      "Try using .loc[row_indexer,col_indexer] = value instead\n",
      "\n",
      "See the caveats in the documentation: https://pandas.pydata.org/pandas-docs/stable/user_guide/indexing.html#returning-a-view-versus-a-copy\n",
      "  componentes['seasonal_prophet'] = 0\n",
      " 67%|██████▋   | 521/780 [1:21:39<17:22,  4.02s/it]20:01:53 - cmdstanpy - INFO - Chain [1] start processing\n",
      "20:01:53 - cmdstanpy - INFO - Chain [1] done processing\n",
      "C:\\Users\\waldo\\AppData\\Local\\Temp\\ipykernel_44800\\1165039906.py:39: SettingWithCopyWarning: \n",
      "A value is trying to be set on a copy of a slice from a DataFrame.\n",
      "Try using .loc[row_indexer,col_indexer] = value instead\n",
      "\n",
      "See the caveats in the documentation: https://pandas.pydata.org/pandas-docs/stable/user_guide/indexing.html#returning-a-view-versus-a-copy\n",
      "  componentes['seasonal_prophet'] = 0\n",
      " 67%|██████▋   | 522/780 [1:21:40<13:24,  3.12s/it]20:01:54 - cmdstanpy - INFO - Chain [1] start processing\n",
      "20:01:54 - cmdstanpy - INFO - Chain [1] done processing\n",
      "C:\\Users\\waldo\\AppData\\Local\\Temp\\ipykernel_44800\\1165039906.py:39: SettingWithCopyWarning: \n",
      "A value is trying to be set on a copy of a slice from a DataFrame.\n",
      "Try using .loc[row_indexer,col_indexer] = value instead\n",
      "\n",
      "See the caveats in the documentation: https://pandas.pydata.org/pandas-docs/stable/user_guide/indexing.html#returning-a-view-versus-a-copy\n",
      "  componentes['seasonal_prophet'] = 0\n",
      " 67%|██████▋   | 523/780 [1:21:42<11:33,  2.70s/it]20:01:56 - cmdstanpy - INFO - Chain [1] start processing\n",
      "20:01:56 - cmdstanpy - INFO - Chain [1] done processing\n",
      "C:\\Users\\waldo\\AppData\\Local\\Temp\\ipykernel_44800\\1165039906.py:39: SettingWithCopyWarning: \n",
      "A value is trying to be set on a copy of a slice from a DataFrame.\n",
      "Try using .loc[row_indexer,col_indexer] = value instead\n",
      "\n",
      "See the caveats in the documentation: https://pandas.pydata.org/pandas-docs/stable/user_guide/indexing.html#returning-a-view-versus-a-copy\n",
      "  componentes['seasonal_prophet'] = 0\n",
      " 67%|██████▋   | 524/780 [1:21:45<11:37,  2.73s/it]20:01:58 - cmdstanpy - INFO - Chain [1] start processing\n",
      "20:01:58 - cmdstanpy - INFO - Chain [1] done processing\n",
      "C:\\Users\\waldo\\AppData\\Local\\Temp\\ipykernel_44800\\1165039906.py:39: SettingWithCopyWarning: \n",
      "A value is trying to be set on a copy of a slice from a DataFrame.\n",
      "Try using .loc[row_indexer,col_indexer] = value instead\n",
      "\n",
      "See the caveats in the documentation: https://pandas.pydata.org/pandas-docs/stable/user_guide/indexing.html#returning-a-view-versus-a-copy\n",
      "  componentes['seasonal_prophet'] = 0\n",
      " 67%|██████▋   | 525/780 [1:21:47<11:21,  2.67s/it]20:02:01 - cmdstanpy - INFO - Chain [1] start processing\n",
      "20:02:01 - cmdstanpy - INFO - Chain [1] done processing\n",
      "C:\\Users\\waldo\\AppData\\Local\\Temp\\ipykernel_44800\\1165039906.py:39: SettingWithCopyWarning: \n",
      "A value is trying to be set on a copy of a slice from a DataFrame.\n",
      "Try using .loc[row_indexer,col_indexer] = value instead\n",
      "\n",
      "See the caveats in the documentation: https://pandas.pydata.org/pandas-docs/stable/user_guide/indexing.html#returning-a-view-versus-a-copy\n",
      "  componentes['seasonal_prophet'] = 0\n",
      " 67%|██████▋   | 526/780 [1:21:50<11:06,  2.62s/it]20:02:03 - cmdstanpy - INFO - Chain [1] start processing\n",
      "20:02:03 - cmdstanpy - INFO - Chain [1] done processing\n",
      "C:\\Users\\waldo\\AppData\\Local\\Temp\\ipykernel_44800\\1165039906.py:39: SettingWithCopyWarning: \n",
      "A value is trying to be set on a copy of a slice from a DataFrame.\n",
      "Try using .loc[row_indexer,col_indexer] = value instead\n",
      "\n",
      "See the caveats in the documentation: https://pandas.pydata.org/pandas-docs/stable/user_guide/indexing.html#returning-a-view-versus-a-copy\n",
      "  componentes['seasonal_prophet'] = 0\n",
      " 68%|██████▊   | 527/780 [1:21:51<09:20,  2.22s/it]20:02:05 - cmdstanpy - INFO - Chain [1] start processing\n",
      "20:02:05 - cmdstanpy - INFO - Chain [1] done processing\n",
      "C:\\Users\\waldo\\AppData\\Local\\Temp\\ipykernel_44800\\1165039906.py:39: SettingWithCopyWarning: \n",
      "A value is trying to be set on a copy of a slice from a DataFrame.\n",
      "Try using .loc[row_indexer,col_indexer] = value instead\n",
      "\n",
      "See the caveats in the documentation: https://pandas.pydata.org/pandas-docs/stable/user_guide/indexing.html#returning-a-view-versus-a-copy\n",
      "  componentes['seasonal_prophet'] = 0\n",
      " 68%|██████▊   | 528/780 [1:21:57<13:32,  3.23s/it]20:02:10 - cmdstanpy - INFO - Chain [1] start processing\n",
      "20:02:10 - cmdstanpy - INFO - Chain [1] done processing\n",
      "C:\\Users\\waldo\\AppData\\Local\\Temp\\ipykernel_44800\\1165039906.py:39: SettingWithCopyWarning: \n",
      "A value is trying to be set on a copy of a slice from a DataFrame.\n",
      "Try using .loc[row_indexer,col_indexer] = value instead\n",
      "\n",
      "See the caveats in the documentation: https://pandas.pydata.org/pandas-docs/stable/user_guide/indexing.html#returning-a-view-versus-a-copy\n",
      "  componentes['seasonal_prophet'] = 0\n",
      " 68%|██████▊   | 529/780 [1:22:01<14:08,  3.38s/it]20:02:14 - cmdstanpy - INFO - Chain [1] start processing\n",
      "20:02:14 - cmdstanpy - INFO - Chain [1] done processing\n",
      "C:\\Users\\waldo\\AppData\\Local\\Temp\\ipykernel_44800\\1165039906.py:39: SettingWithCopyWarning: \n",
      "A value is trying to be set on a copy of a slice from a DataFrame.\n",
      "Try using .loc[row_indexer,col_indexer] = value instead\n",
      "\n",
      "See the caveats in the documentation: https://pandas.pydata.org/pandas-docs/stable/user_guide/indexing.html#returning-a-view-versus-a-copy\n",
      "  componentes['seasonal_prophet'] = 0\n",
      " 68%|██████▊   | 530/780 [1:22:06<17:15,  4.14s/it]20:02:20 - cmdstanpy - INFO - Chain [1] start processing\n",
      "20:02:20 - cmdstanpy - INFO - Chain [1] done processing\n",
      "C:\\Users\\waldo\\AppData\\Local\\Temp\\ipykernel_44800\\1165039906.py:39: SettingWithCopyWarning: \n",
      "A value is trying to be set on a copy of a slice from a DataFrame.\n",
      "Try using .loc[row_indexer,col_indexer] = value instead\n",
      "\n",
      "See the caveats in the documentation: https://pandas.pydata.org/pandas-docs/stable/user_guide/indexing.html#returning-a-view-versus-a-copy\n",
      "  componentes['seasonal_prophet'] = 0\n",
      " 68%|██████▊   | 531/780 [1:22:08<14:22,  3.46s/it]20:02:22 - cmdstanpy - INFO - Chain [1] start processing\n",
      "20:02:22 - cmdstanpy - INFO - Chain [1] done processing\n",
      "C:\\Users\\waldo\\AppData\\Local\\Temp\\ipykernel_44800\\1165039906.py:39: SettingWithCopyWarning: \n",
      "A value is trying to be set on a copy of a slice from a DataFrame.\n",
      "Try using .loc[row_indexer,col_indexer] = value instead\n",
      "\n",
      "See the caveats in the documentation: https://pandas.pydata.org/pandas-docs/stable/user_guide/indexing.html#returning-a-view-versus-a-copy\n",
      "  componentes['seasonal_prophet'] = 0\n",
      " 68%|██████▊   | 532/780 [1:22:10<11:56,  2.89s/it]20:02:23 - cmdstanpy - INFO - Chain [1] start processing\n",
      "20:02:24 - cmdstanpy - INFO - Chain [1] done processing\n",
      "C:\\Users\\waldo\\AppData\\Local\\Temp\\ipykernel_44800\\1165039906.py:39: SettingWithCopyWarning: \n",
      "A value is trying to be set on a copy of a slice from a DataFrame.\n",
      "Try using .loc[row_indexer,col_indexer] = value instead\n",
      "\n",
      "See the caveats in the documentation: https://pandas.pydata.org/pandas-docs/stable/user_guide/indexing.html#returning-a-view-versus-a-copy\n",
      "  componentes['seasonal_prophet'] = 0\n",
      " 68%|██████▊   | 533/780 [1:22:13<12:18,  2.99s/it]20:02:26 - cmdstanpy - INFO - Chain [1] start processing\n",
      "20:02:26 - cmdstanpy - INFO - Chain [1] done processing\n",
      "C:\\Users\\waldo\\AppData\\Local\\Temp\\ipykernel_44800\\1165039906.py:39: SettingWithCopyWarning: \n",
      "A value is trying to be set on a copy of a slice from a DataFrame.\n",
      "Try using .loc[row_indexer,col_indexer] = value instead\n",
      "\n",
      "See the caveats in the documentation: https://pandas.pydata.org/pandas-docs/stable/user_guide/indexing.html#returning-a-view-versus-a-copy\n",
      "  componentes['seasonal_prophet'] = 0\n",
      " 68%|██████▊   | 534/780 [1:22:15<11:14,  2.74s/it]20:02:29 - cmdstanpy - INFO - Chain [1] start processing\n",
      "20:02:29 - cmdstanpy - INFO - Chain [1] done processing\n",
      "C:\\Users\\waldo\\AppData\\Local\\Temp\\ipykernel_44800\\1165039906.py:39: SettingWithCopyWarning: \n",
      "A value is trying to be set on a copy of a slice from a DataFrame.\n",
      "Try using .loc[row_indexer,col_indexer] = value instead\n",
      "\n",
      "See the caveats in the documentation: https://pandas.pydata.org/pandas-docs/stable/user_guide/indexing.html#returning-a-view-versus-a-copy\n",
      "  componentes['seasonal_prophet'] = 0\n",
      " 69%|██████▊   | 535/780 [1:22:19<11:47,  2.89s/it]20:02:32 - cmdstanpy - INFO - Chain [1] start processing\n",
      "20:02:32 - cmdstanpy - INFO - Chain [1] done processing\n",
      "C:\\Users\\waldo\\AppData\\Local\\Temp\\ipykernel_44800\\1165039906.py:39: SettingWithCopyWarning: \n",
      "A value is trying to be set on a copy of a slice from a DataFrame.\n",
      "Try using .loc[row_indexer,col_indexer] = value instead\n",
      "\n",
      "See the caveats in the documentation: https://pandas.pydata.org/pandas-docs/stable/user_guide/indexing.html#returning-a-view-versus-a-copy\n",
      "  componentes['seasonal_prophet'] = 0\n",
      " 69%|██████▊   | 536/780 [1:22:21<11:43,  2.88s/it]20:02:35 - cmdstanpy - INFO - Chain [1] start processing\n",
      "20:02:35 - cmdstanpy - INFO - Chain [1] done processing\n",
      "C:\\Users\\waldo\\AppData\\Local\\Temp\\ipykernel_44800\\1165039906.py:39: SettingWithCopyWarning: \n",
      "A value is trying to be set on a copy of a slice from a DataFrame.\n",
      "Try using .loc[row_indexer,col_indexer] = value instead\n",
      "\n",
      "See the caveats in the documentation: https://pandas.pydata.org/pandas-docs/stable/user_guide/indexing.html#returning-a-view-versus-a-copy\n",
      "  componentes['seasonal_prophet'] = 0\n",
      " 69%|██████▉   | 537/780 [1:22:23<09:36,  2.37s/it]20:02:36 - cmdstanpy - INFO - Chain [1] start processing\n",
      "20:02:36 - cmdstanpy - INFO - Chain [1] done processing\n",
      "C:\\Users\\waldo\\AppData\\Local\\Temp\\ipykernel_44800\\1165039906.py:39: SettingWithCopyWarning: \n",
      "A value is trying to be set on a copy of a slice from a DataFrame.\n",
      "Try using .loc[row_indexer,col_indexer] = value instead\n",
      "\n",
      "See the caveats in the documentation: https://pandas.pydata.org/pandas-docs/stable/user_guide/indexing.html#returning-a-view-versus-a-copy\n",
      "  componentes['seasonal_prophet'] = 0\n",
      " 69%|██████▉   | 538/780 [1:22:24<08:31,  2.11s/it]20:02:37 - cmdstanpy - INFO - Chain [1] start processing\n",
      "20:02:38 - cmdstanpy - INFO - Chain [1] done processing\n",
      "C:\\Users\\waldo\\AppData\\Local\\Temp\\ipykernel_44800\\1165039906.py:39: SettingWithCopyWarning: \n",
      "A value is trying to be set on a copy of a slice from a DataFrame.\n",
      "Try using .loc[row_indexer,col_indexer] = value instead\n",
      "\n",
      "See the caveats in the documentation: https://pandas.pydata.org/pandas-docs/stable/user_guide/indexing.html#returning-a-view-versus-a-copy\n",
      "  componentes['seasonal_prophet'] = 0\n",
      " 69%|██████▉   | 539/780 [1:22:30<13:37,  3.39s/it]20:02:44 - cmdstanpy - INFO - Chain [1] start processing\n",
      "20:02:44 - cmdstanpy - INFO - Chain [1] done processing\n",
      "C:\\Users\\waldo\\AppData\\Local\\Temp\\ipykernel_44800\\1165039906.py:39: SettingWithCopyWarning: \n",
      "A value is trying to be set on a copy of a slice from a DataFrame.\n",
      "Try using .loc[row_indexer,col_indexer] = value instead\n",
      "\n",
      "See the caveats in the documentation: https://pandas.pydata.org/pandas-docs/stable/user_guide/indexing.html#returning-a-view-versus-a-copy\n",
      "  componentes['seasonal_prophet'] = 0\n",
      " 69%|██████▉   | 540/780 [1:22:32<11:07,  2.78s/it]20:02:45 - cmdstanpy - INFO - Chain [1] start processing\n",
      "20:02:45 - cmdstanpy - INFO - Chain [1] done processing\n",
      "C:\\Users\\waldo\\AppData\\Local\\Temp\\ipykernel_44800\\1165039906.py:39: SettingWithCopyWarning: \n",
      "A value is trying to be set on a copy of a slice from a DataFrame.\n",
      "Try using .loc[row_indexer,col_indexer] = value instead\n",
      "\n",
      "See the caveats in the documentation: https://pandas.pydata.org/pandas-docs/stable/user_guide/indexing.html#returning-a-view-versus-a-copy\n",
      "  componentes['seasonal_prophet'] = 0\n",
      " 69%|██████▉   | 541/780 [1:22:39<15:49,  3.97s/it]20:02:52 - cmdstanpy - INFO - Chain [1] start processing\n",
      "20:02:52 - cmdstanpy - INFO - Chain [1] done processing\n",
      "C:\\Users\\waldo\\AppData\\Local\\Temp\\ipykernel_44800\\1165039906.py:39: SettingWithCopyWarning: \n",
      "A value is trying to be set on a copy of a slice from a DataFrame.\n",
      "Try using .loc[row_indexer,col_indexer] = value instead\n",
      "\n",
      "See the caveats in the documentation: https://pandas.pydata.org/pandas-docs/stable/user_guide/indexing.html#returning-a-view-versus-a-copy\n",
      "  componentes['seasonal_prophet'] = 0\n",
      " 69%|██████▉   | 542/780 [1:22:42<14:33,  3.67s/it]20:02:55 - cmdstanpy - INFO - Chain [1] start processing\n",
      "20:02:55 - cmdstanpy - INFO - Chain [1] done processing\n",
      "C:\\Users\\waldo\\AppData\\Local\\Temp\\ipykernel_44800\\1165039906.py:39: SettingWithCopyWarning: \n",
      "A value is trying to be set on a copy of a slice from a DataFrame.\n",
      "Try using .loc[row_indexer,col_indexer] = value instead\n",
      "\n",
      "See the caveats in the documentation: https://pandas.pydata.org/pandas-docs/stable/user_guide/indexing.html#returning-a-view-versus-a-copy\n",
      "  componentes['seasonal_prophet'] = 0\n",
      " 70%|██████▉   | 543/780 [1:22:44<12:55,  3.27s/it]20:02:57 - cmdstanpy - INFO - Chain [1] start processing\n",
      "20:02:57 - cmdstanpy - INFO - Chain [1] done processing\n",
      "C:\\Users\\waldo\\AppData\\Local\\Temp\\ipykernel_44800\\1165039906.py:39: SettingWithCopyWarning: \n",
      "A value is trying to be set on a copy of a slice from a DataFrame.\n",
      "Try using .loc[row_indexer,col_indexer] = value instead\n",
      "\n",
      "See the caveats in the documentation: https://pandas.pydata.org/pandas-docs/stable/user_guide/indexing.html#returning-a-view-versus-a-copy\n",
      "  componentes['seasonal_prophet'] = 0\n",
      " 70%|██████▉   | 544/780 [1:22:48<13:45,  3.50s/it]20:03:01 - cmdstanpy - INFO - Chain [1] start processing\n",
      "20:03:01 - cmdstanpy - INFO - Chain [1] done processing\n",
      "C:\\Users\\waldo\\AppData\\Local\\Temp\\ipykernel_44800\\1165039906.py:39: SettingWithCopyWarning: \n",
      "A value is trying to be set on a copy of a slice from a DataFrame.\n",
      "Try using .loc[row_indexer,col_indexer] = value instead\n",
      "\n",
      "See the caveats in the documentation: https://pandas.pydata.org/pandas-docs/stable/user_guide/indexing.html#returning-a-view-versus-a-copy\n",
      "  componentes['seasonal_prophet'] = 0\n",
      " 70%|██████▉   | 545/780 [1:22:53<15:50,  4.04s/it]20:03:07 - cmdstanpy - INFO - Chain [1] start processing\n",
      "20:03:07 - cmdstanpy - INFO - Chain [1] done processing\n",
      "C:\\Users\\waldo\\AppData\\Local\\Temp\\ipykernel_44800\\1165039906.py:39: SettingWithCopyWarning: \n",
      "A value is trying to be set on a copy of a slice from a DataFrame.\n",
      "Try using .loc[row_indexer,col_indexer] = value instead\n",
      "\n",
      "See the caveats in the documentation: https://pandas.pydata.org/pandas-docs/stable/user_guide/indexing.html#returning-a-view-versus-a-copy\n",
      "  componentes['seasonal_prophet'] = 0\n",
      " 70%|███████   | 546/780 [1:22:59<17:23,  4.46s/it]20:03:12 - cmdstanpy - INFO - Chain [1] start processing\n",
      "20:03:12 - cmdstanpy - INFO - Chain [1] done processing\n",
      "C:\\Users\\waldo\\AppData\\Local\\Temp\\ipykernel_44800\\1165039906.py:39: SettingWithCopyWarning: \n",
      "A value is trying to be set on a copy of a slice from a DataFrame.\n",
      "Try using .loc[row_indexer,col_indexer] = value instead\n",
      "\n",
      "See the caveats in the documentation: https://pandas.pydata.org/pandas-docs/stable/user_guide/indexing.html#returning-a-view-versus-a-copy\n",
      "  componentes['seasonal_prophet'] = 0\n",
      " 70%|███████   | 547/780 [1:23:00<13:38,  3.51s/it]20:03:13 - cmdstanpy - INFO - Chain [1] start processing\n",
      "20:03:14 - cmdstanpy - INFO - Chain [1] done processing\n",
      "C:\\Users\\waldo\\AppData\\Local\\Temp\\ipykernel_44800\\1165039906.py:39: SettingWithCopyWarning: \n",
      "A value is trying to be set on a copy of a slice from a DataFrame.\n",
      "Try using .loc[row_indexer,col_indexer] = value instead\n",
      "\n",
      "See the caveats in the documentation: https://pandas.pydata.org/pandas-docs/stable/user_guide/indexing.html#returning-a-view-versus-a-copy\n",
      "  componentes['seasonal_prophet'] = 0\n",
      " 70%|███████   | 548/780 [1:23:06<16:50,  4.35s/it]20:03:20 - cmdstanpy - INFO - Chain [1] start processing\n",
      "20:03:20 - cmdstanpy - INFO - Chain [1] done processing\n",
      "C:\\Users\\waldo\\AppData\\Local\\Temp\\ipykernel_44800\\1165039906.py:39: SettingWithCopyWarning: \n",
      "A value is trying to be set on a copy of a slice from a DataFrame.\n",
      "Try using .loc[row_indexer,col_indexer] = value instead\n",
      "\n",
      "See the caveats in the documentation: https://pandas.pydata.org/pandas-docs/stable/user_guide/indexing.html#returning-a-view-versus-a-copy\n",
      "  componentes['seasonal_prophet'] = 0\n",
      " 70%|███████   | 549/780 [1:23:11<17:02,  4.43s/it]20:03:24 - cmdstanpy - INFO - Chain [1] start processing\n",
      "20:03:24 - cmdstanpy - INFO - Chain [1] done processing\n",
      "C:\\Users\\waldo\\AppData\\Local\\Temp\\ipykernel_44800\\1165039906.py:39: SettingWithCopyWarning: \n",
      "A value is trying to be set on a copy of a slice from a DataFrame.\n",
      "Try using .loc[row_indexer,col_indexer] = value instead\n",
      "\n",
      "See the caveats in the documentation: https://pandas.pydata.org/pandas-docs/stable/user_guide/indexing.html#returning-a-view-versus-a-copy\n",
      "  componentes['seasonal_prophet'] = 0\n",
      " 71%|███████   | 550/780 [1:23:13<14:37,  3.81s/it]20:03:26 - cmdstanpy - INFO - Chain [1] start processing\n",
      "20:03:27 - cmdstanpy - INFO - Chain [1] done processing\n",
      "C:\\Users\\waldo\\AppData\\Local\\Temp\\ipykernel_44800\\1165039906.py:39: SettingWithCopyWarning: \n",
      "A value is trying to be set on a copy of a slice from a DataFrame.\n",
      "Try using .loc[row_indexer,col_indexer] = value instead\n",
      "\n",
      "See the caveats in the documentation: https://pandas.pydata.org/pandas-docs/stable/user_guide/indexing.html#returning-a-view-versus-a-copy\n",
      "  componentes['seasonal_prophet'] = 0\n",
      " 71%|███████   | 551/780 [1:23:15<11:56,  3.13s/it]20:03:28 - cmdstanpy - INFO - Chain [1] start processing\n",
      "20:03:29 - cmdstanpy - INFO - Chain [1] done processing\n",
      "C:\\Users\\waldo\\AppData\\Local\\Temp\\ipykernel_44800\\1165039906.py:39: SettingWithCopyWarning: \n",
      "A value is trying to be set on a copy of a slice from a DataFrame.\n",
      "Try using .loc[row_indexer,col_indexer] = value instead\n",
      "\n",
      "See the caveats in the documentation: https://pandas.pydata.org/pandas-docs/stable/user_guide/indexing.html#returning-a-view-versus-a-copy\n",
      "  componentes['seasonal_prophet'] = 0\n",
      " 71%|███████   | 552/780 [1:23:21<15:33,  4.09s/it]20:03:34 - cmdstanpy - INFO - Chain [1] start processing\n",
      "20:03:34 - cmdstanpy - INFO - Chain [1] done processing\n",
      "C:\\Users\\waldo\\AppData\\Local\\Temp\\ipykernel_44800\\1165039906.py:39: SettingWithCopyWarning: \n",
      "A value is trying to be set on a copy of a slice from a DataFrame.\n",
      "Try using .loc[row_indexer,col_indexer] = value instead\n",
      "\n",
      "See the caveats in the documentation: https://pandas.pydata.org/pandas-docs/stable/user_guide/indexing.html#returning-a-view-versus-a-copy\n",
      "  componentes['seasonal_prophet'] = 0\n",
      " 71%|███████   | 553/780 [1:23:23<12:24,  3.28s/it]20:03:36 - cmdstanpy - INFO - Chain [1] start processing\n",
      "20:03:36 - cmdstanpy - INFO - Chain [1] done processing\n",
      "C:\\Users\\waldo\\AppData\\Local\\Temp\\ipykernel_44800\\1165039906.py:39: SettingWithCopyWarning: \n",
      "A value is trying to be set on a copy of a slice from a DataFrame.\n",
      "Try using .loc[row_indexer,col_indexer] = value instead\n",
      "\n",
      "See the caveats in the documentation: https://pandas.pydata.org/pandas-docs/stable/user_guide/indexing.html#returning-a-view-versus-a-copy\n",
      "  componentes['seasonal_prophet'] = 0\n",
      " 71%|███████   | 554/780 [1:23:24<10:38,  2.82s/it]20:03:38 - cmdstanpy - INFO - Chain [1] start processing\n",
      "20:03:38 - cmdstanpy - INFO - Chain [1] done processing\n",
      "C:\\Users\\waldo\\AppData\\Local\\Temp\\ipykernel_44800\\1165039906.py:39: SettingWithCopyWarning: \n",
      "A value is trying to be set on a copy of a slice from a DataFrame.\n",
      "Try using .loc[row_indexer,col_indexer] = value instead\n",
      "\n",
      "See the caveats in the documentation: https://pandas.pydata.org/pandas-docs/stable/user_guide/indexing.html#returning-a-view-versus-a-copy\n",
      "  componentes['seasonal_prophet'] = 0\n",
      " 71%|███████   | 555/780 [1:23:30<13:49,  3.69s/it]20:03:43 - cmdstanpy - INFO - Chain [1] start processing\n",
      "20:03:44 - cmdstanpy - INFO - Chain [1] done processing\n",
      "C:\\Users\\waldo\\AppData\\Local\\Temp\\ipykernel_44800\\1165039906.py:39: SettingWithCopyWarning: \n",
      "A value is trying to be set on a copy of a slice from a DataFrame.\n",
      "Try using .loc[row_indexer,col_indexer] = value instead\n",
      "\n",
      "See the caveats in the documentation: https://pandas.pydata.org/pandas-docs/stable/user_guide/indexing.html#returning-a-view-versus-a-copy\n",
      "  componentes['seasonal_prophet'] = 0\n",
      " 71%|███████▏  | 556/780 [1:23:37<17:03,  4.57s/it]20:03:50 - cmdstanpy - INFO - Chain [1] start processing\n",
      "20:03:50 - cmdstanpy - INFO - Chain [1] done processing\n",
      "C:\\Users\\waldo\\AppData\\Local\\Temp\\ipykernel_44800\\1165039906.py:39: SettingWithCopyWarning: \n",
      "A value is trying to be set on a copy of a slice from a DataFrame.\n",
      "Try using .loc[row_indexer,col_indexer] = value instead\n",
      "\n",
      "See the caveats in the documentation: https://pandas.pydata.org/pandas-docs/stable/user_guide/indexing.html#returning-a-view-versus-a-copy\n",
      "  componentes['seasonal_prophet'] = 0\n",
      " 71%|███████▏  | 557/780 [1:23:38<13:06,  3.53s/it]20:03:51 - cmdstanpy - INFO - Chain [1] start processing\n",
      "20:03:51 - cmdstanpy - INFO - Chain [1] done processing\n",
      "C:\\Users\\waldo\\AppData\\Local\\Temp\\ipykernel_44800\\1165039906.py:39: SettingWithCopyWarning: \n",
      "A value is trying to be set on a copy of a slice from a DataFrame.\n",
      "Try using .loc[row_indexer,col_indexer] = value instead\n",
      "\n",
      "See the caveats in the documentation: https://pandas.pydata.org/pandas-docs/stable/user_guide/indexing.html#returning-a-view-versus-a-copy\n",
      "  componentes['seasonal_prophet'] = 0\n",
      " 72%|███████▏  | 558/780 [1:23:41<13:08,  3.55s/it]20:03:55 - cmdstanpy - INFO - Chain [1] start processing\n",
      "20:03:55 - cmdstanpy - INFO - Chain [1] done processing\n",
      "C:\\Users\\waldo\\AppData\\Local\\Temp\\ipykernel_44800\\1165039906.py:39: SettingWithCopyWarning: \n",
      "A value is trying to be set on a copy of a slice from a DataFrame.\n",
      "Try using .loc[row_indexer,col_indexer] = value instead\n",
      "\n",
      "See the caveats in the documentation: https://pandas.pydata.org/pandas-docs/stable/user_guide/indexing.html#returning-a-view-versus-a-copy\n",
      "  componentes['seasonal_prophet'] = 0\n",
      " 72%|███████▏  | 559/780 [1:23:46<14:20,  3.89s/it]20:03:59 - cmdstanpy - INFO - Chain [1] start processing\n",
      "20:03:59 - cmdstanpy - INFO - Chain [1] done processing\n",
      "C:\\Users\\waldo\\AppData\\Local\\Temp\\ipykernel_44800\\1165039906.py:39: SettingWithCopyWarning: \n",
      "A value is trying to be set on a copy of a slice from a DataFrame.\n",
      "Try using .loc[row_indexer,col_indexer] = value instead\n",
      "\n",
      "See the caveats in the documentation: https://pandas.pydata.org/pandas-docs/stable/user_guide/indexing.html#returning-a-view-versus-a-copy\n",
      "  componentes['seasonal_prophet'] = 0\n",
      " 72%|███████▏  | 560/780 [1:23:50<14:16,  3.89s/it]20:04:03 - cmdstanpy - INFO - Chain [1] start processing\n",
      "20:04:03 - cmdstanpy - INFO - Chain [1] done processing\n",
      "C:\\Users\\waldo\\AppData\\Local\\Temp\\ipykernel_44800\\1165039906.py:39: SettingWithCopyWarning: \n",
      "A value is trying to be set on a copy of a slice from a DataFrame.\n",
      "Try using .loc[row_indexer,col_indexer] = value instead\n",
      "\n",
      "See the caveats in the documentation: https://pandas.pydata.org/pandas-docs/stable/user_guide/indexing.html#returning-a-view-versus-a-copy\n",
      "  componentes['seasonal_prophet'] = 0\n",
      " 72%|███████▏  | 561/780 [1:23:51<11:24,  3.12s/it]20:04:05 - cmdstanpy - INFO - Chain [1] start processing\n",
      "20:04:05 - cmdstanpy - INFO - Chain [1] done processing\n",
      "C:\\Users\\waldo\\AppData\\Local\\Temp\\ipykernel_44800\\1165039906.py:39: SettingWithCopyWarning: \n",
      "A value is trying to be set on a copy of a slice from a DataFrame.\n",
      "Try using .loc[row_indexer,col_indexer] = value instead\n",
      "\n",
      "See the caveats in the documentation: https://pandas.pydata.org/pandas-docs/stable/user_guide/indexing.html#returning-a-view-versus-a-copy\n",
      "  componentes['seasonal_prophet'] = 0\n",
      " 72%|███████▏  | 562/780 [1:23:55<11:51,  3.27s/it]20:04:08 - cmdstanpy - INFO - Chain [1] start processing\n",
      "20:04:08 - cmdstanpy - INFO - Chain [1] done processing\n",
      "C:\\Users\\waldo\\AppData\\Local\\Temp\\ipykernel_44800\\1165039906.py:39: SettingWithCopyWarning: \n",
      "A value is trying to be set on a copy of a slice from a DataFrame.\n",
      "Try using .loc[row_indexer,col_indexer] = value instead\n",
      "\n",
      "See the caveats in the documentation: https://pandas.pydata.org/pandas-docs/stable/user_guide/indexing.html#returning-a-view-versus-a-copy\n",
      "  componentes['seasonal_prophet'] = 0\n",
      " 72%|███████▏  | 563/780 [1:23:56<09:35,  2.65s/it]20:04:09 - cmdstanpy - INFO - Chain [1] start processing\n",
      "20:04:09 - cmdstanpy - INFO - Chain [1] done processing\n",
      "C:\\Users\\waldo\\AppData\\Local\\Temp\\ipykernel_44800\\1165039906.py:39: SettingWithCopyWarning: \n",
      "A value is trying to be set on a copy of a slice from a DataFrame.\n",
      "Try using .loc[row_indexer,col_indexer] = value instead\n",
      "\n",
      "See the caveats in the documentation: https://pandas.pydata.org/pandas-docs/stable/user_guide/indexing.html#returning-a-view-versus-a-copy\n",
      "  componentes['seasonal_prophet'] = 0\n",
      " 72%|███████▏  | 564/780 [1:23:58<09:04,  2.52s/it]20:04:12 - cmdstanpy - INFO - Chain [1] start processing\n",
      "20:04:12 - cmdstanpy - INFO - Chain [1] done processing\n",
      "C:\\Users\\waldo\\AppData\\Local\\Temp\\ipykernel_44800\\1165039906.py:39: SettingWithCopyWarning: \n",
      "A value is trying to be set on a copy of a slice from a DataFrame.\n",
      "Try using .loc[row_indexer,col_indexer] = value instead\n",
      "\n",
      "See the caveats in the documentation: https://pandas.pydata.org/pandas-docs/stable/user_guide/indexing.html#returning-a-view-versus-a-copy\n",
      "  componentes['seasonal_prophet'] = 0\n",
      " 72%|███████▏  | 565/780 [1:24:04<12:41,  3.54s/it]20:04:18 - cmdstanpy - INFO - Chain [1] start processing\n",
      "20:04:18 - cmdstanpy - INFO - Chain [1] done processing\n",
      "C:\\Users\\waldo\\AppData\\Local\\Temp\\ipykernel_44800\\1165039906.py:39: SettingWithCopyWarning: \n",
      "A value is trying to be set on a copy of a slice from a DataFrame.\n",
      "Try using .loc[row_indexer,col_indexer] = value instead\n",
      "\n",
      "See the caveats in the documentation: https://pandas.pydata.org/pandas-docs/stable/user_guide/indexing.html#returning-a-view-versus-a-copy\n",
      "  componentes['seasonal_prophet'] = 0\n",
      " 73%|███████▎  | 566/780 [1:24:08<12:44,  3.57s/it]20:04:21 - cmdstanpy - INFO - Chain [1] start processing\n",
      "20:04:21 - cmdstanpy - INFO - Chain [1] done processing\n",
      "C:\\Users\\waldo\\AppData\\Local\\Temp\\ipykernel_44800\\1165039906.py:39: SettingWithCopyWarning: \n",
      "A value is trying to be set on a copy of a slice from a DataFrame.\n",
      "Try using .loc[row_indexer,col_indexer] = value instead\n",
      "\n",
      "See the caveats in the documentation: https://pandas.pydata.org/pandas-docs/stable/user_guide/indexing.html#returning-a-view-versus-a-copy\n",
      "  componentes['seasonal_prophet'] = 0\n",
      " 73%|███████▎  | 567/780 [1:24:09<10:36,  2.99s/it]20:04:23 - cmdstanpy - INFO - Chain [1] start processing\n",
      "20:04:23 - cmdstanpy - INFO - Chain [1] done processing\n",
      "C:\\Users\\waldo\\AppData\\Local\\Temp\\ipykernel_44800\\1165039906.py:39: SettingWithCopyWarning: \n",
      "A value is trying to be set on a copy of a slice from a DataFrame.\n",
      "Try using .loc[row_indexer,col_indexer] = value instead\n",
      "\n",
      "See the caveats in the documentation: https://pandas.pydata.org/pandas-docs/stable/user_guide/indexing.html#returning-a-view-versus-a-copy\n",
      "  componentes['seasonal_prophet'] = 0\n",
      " 73%|███████▎  | 568/780 [1:24:11<08:39,  2.45s/it]20:04:24 - cmdstanpy - INFO - Chain [1] start processing\n",
      "20:04:24 - cmdstanpy - INFO - Chain [1] done processing\n",
      "C:\\Users\\waldo\\AppData\\Local\\Temp\\ipykernel_44800\\1165039906.py:39: SettingWithCopyWarning: \n",
      "A value is trying to be set on a copy of a slice from a DataFrame.\n",
      "Try using .loc[row_indexer,col_indexer] = value instead\n",
      "\n",
      "See the caveats in the documentation: https://pandas.pydata.org/pandas-docs/stable/user_guide/indexing.html#returning-a-view-versus-a-copy\n",
      "  componentes['seasonal_prophet'] = 0\n",
      " 73%|███████▎  | 569/780 [1:24:13<08:11,  2.33s/it]20:04:26 - cmdstanpy - INFO - Chain [1] start processing\n",
      "20:04:26 - cmdstanpy - INFO - Chain [1] done processing\n",
      "C:\\Users\\waldo\\AppData\\Local\\Temp\\ipykernel_44800\\1165039906.py:39: SettingWithCopyWarning: \n",
      "A value is trying to be set on a copy of a slice from a DataFrame.\n",
      "Try using .loc[row_indexer,col_indexer] = value instead\n",
      "\n",
      "See the caveats in the documentation: https://pandas.pydata.org/pandas-docs/stable/user_guide/indexing.html#returning-a-view-versus-a-copy\n",
      "  componentes['seasonal_prophet'] = 0\n",
      " 73%|███████▎  | 570/780 [1:24:15<08:31,  2.44s/it]20:04:29 - cmdstanpy - INFO - Chain [1] start processing\n",
      "20:04:29 - cmdstanpy - INFO - Chain [1] done processing\n",
      "C:\\Users\\waldo\\AppData\\Local\\Temp\\ipykernel_44800\\1165039906.py:39: SettingWithCopyWarning: \n",
      "A value is trying to be set on a copy of a slice from a DataFrame.\n",
      "Try using .loc[row_indexer,col_indexer] = value instead\n",
      "\n",
      "See the caveats in the documentation: https://pandas.pydata.org/pandas-docs/stable/user_guide/indexing.html#returning-a-view-versus-a-copy\n",
      "  componentes['seasonal_prophet'] = 0\n",
      " 73%|███████▎  | 571/780 [1:24:19<09:42,  2.79s/it]20:04:32 - cmdstanpy - INFO - Chain [1] start processing\n",
      "20:04:32 - cmdstanpy - INFO - Chain [1] done processing\n",
      "C:\\Users\\waldo\\AppData\\Local\\Temp\\ipykernel_44800\\1165039906.py:39: SettingWithCopyWarning: \n",
      "A value is trying to be set on a copy of a slice from a DataFrame.\n",
      "Try using .loc[row_indexer,col_indexer] = value instead\n",
      "\n",
      "See the caveats in the documentation: https://pandas.pydata.org/pandas-docs/stable/user_guide/indexing.html#returning-a-view-versus-a-copy\n",
      "  componentes['seasonal_prophet'] = 0\n",
      " 73%|███████▎  | 572/780 [1:24:22<09:44,  2.81s/it]20:04:35 - cmdstanpy - INFO - Chain [1] start processing\n",
      "20:04:35 - cmdstanpy - INFO - Chain [1] done processing\n",
      "C:\\Users\\waldo\\AppData\\Local\\Temp\\ipykernel_44800\\1165039906.py:39: SettingWithCopyWarning: \n",
      "A value is trying to be set on a copy of a slice from a DataFrame.\n",
      "Try using .loc[row_indexer,col_indexer] = value instead\n",
      "\n",
      "See the caveats in the documentation: https://pandas.pydata.org/pandas-docs/stable/user_guide/indexing.html#returning-a-view-versus-a-copy\n",
      "  componentes['seasonal_prophet'] = 0\n",
      " 73%|███████▎  | 573/780 [1:24:23<07:43,  2.24s/it]20:04:36 - cmdstanpy - INFO - Chain [1] start processing\n",
      "20:04:36 - cmdstanpy - INFO - Chain [1] done processing\n",
      "C:\\Users\\waldo\\AppData\\Local\\Temp\\ipykernel_44800\\1165039906.py:39: SettingWithCopyWarning: \n",
      "A value is trying to be set on a copy of a slice from a DataFrame.\n",
      "Try using .loc[row_indexer,col_indexer] = value instead\n",
      "\n",
      "See the caveats in the documentation: https://pandas.pydata.org/pandas-docs/stable/user_guide/indexing.html#returning-a-view-versus-a-copy\n",
      "  componentes['seasonal_prophet'] = 0\n",
      " 74%|███████▎  | 574/780 [1:24:26<08:52,  2.59s/it]20:04:39 - cmdstanpy - INFO - Chain [1] start processing\n",
      "20:04:40 - cmdstanpy - INFO - Chain [1] done processing\n",
      "C:\\Users\\waldo\\AppData\\Local\\Temp\\ipykernel_44800\\1165039906.py:39: SettingWithCopyWarning: \n",
      "A value is trying to be set on a copy of a slice from a DataFrame.\n",
      "Try using .loc[row_indexer,col_indexer] = value instead\n",
      "\n",
      "See the caveats in the documentation: https://pandas.pydata.org/pandas-docs/stable/user_guide/indexing.html#returning-a-view-versus-a-copy\n",
      "  componentes['seasonal_prophet'] = 0\n",
      " 74%|███████▎  | 575/780 [1:24:30<09:57,  2.91s/it]20:04:43 - cmdstanpy - INFO - Chain [1] start processing\n",
      "20:04:43 - cmdstanpy - INFO - Chain [1] done processing\n",
      "C:\\Users\\waldo\\AppData\\Local\\Temp\\ipykernel_44800\\1165039906.py:39: SettingWithCopyWarning: \n",
      "A value is trying to be set on a copy of a slice from a DataFrame.\n",
      "Try using .loc[row_indexer,col_indexer] = value instead\n",
      "\n",
      "See the caveats in the documentation: https://pandas.pydata.org/pandas-docs/stable/user_guide/indexing.html#returning-a-view-versus-a-copy\n",
      "  componentes['seasonal_prophet'] = 0\n",
      " 74%|███████▍  | 576/780 [1:24:32<09:22,  2.76s/it]20:04:46 - cmdstanpy - INFO - Chain [1] start processing\n",
      "20:04:46 - cmdstanpy - INFO - Chain [1] done processing\n",
      "C:\\Users\\waldo\\AppData\\Local\\Temp\\ipykernel_44800\\1165039906.py:39: SettingWithCopyWarning: \n",
      "A value is trying to be set on a copy of a slice from a DataFrame.\n",
      "Try using .loc[row_indexer,col_indexer] = value instead\n",
      "\n",
      "See the caveats in the documentation: https://pandas.pydata.org/pandas-docs/stable/user_guide/indexing.html#returning-a-view-versus-a-copy\n",
      "  componentes['seasonal_prophet'] = 0\n",
      " 74%|███████▍  | 577/780 [1:24:36<10:24,  3.08s/it]20:04:49 - cmdstanpy - INFO - Chain [1] start processing\n",
      "20:04:50 - cmdstanpy - INFO - Chain [1] done processing\n",
      "C:\\Users\\waldo\\AppData\\Local\\Temp\\ipykernel_44800\\1165039906.py:39: SettingWithCopyWarning: \n",
      "A value is trying to be set on a copy of a slice from a DataFrame.\n",
      "Try using .loc[row_indexer,col_indexer] = value instead\n",
      "\n",
      "See the caveats in the documentation: https://pandas.pydata.org/pandas-docs/stable/user_guide/indexing.html#returning-a-view-versus-a-copy\n",
      "  componentes['seasonal_prophet'] = 0\n",
      " 74%|███████▍  | 578/780 [1:24:42<12:58,  3.85s/it]20:04:55 - cmdstanpy - INFO - Chain [1] start processing\n",
      "20:04:55 - cmdstanpy - INFO - Chain [1] done processing\n",
      "C:\\Users\\waldo\\AppData\\Local\\Temp\\ipykernel_44800\\1165039906.py:39: SettingWithCopyWarning: \n",
      "A value is trying to be set on a copy of a slice from a DataFrame.\n",
      "Try using .loc[row_indexer,col_indexer] = value instead\n",
      "\n",
      "See the caveats in the documentation: https://pandas.pydata.org/pandas-docs/stable/user_guide/indexing.html#returning-a-view-versus-a-copy\n",
      "  componentes['seasonal_prophet'] = 0\n",
      " 74%|███████▍  | 579/780 [1:24:44<11:02,  3.30s/it]20:04:57 - cmdstanpy - INFO - Chain [1] start processing\n",
      "20:04:57 - cmdstanpy - INFO - Chain [1] done processing\n",
      "C:\\Users\\waldo\\AppData\\Local\\Temp\\ipykernel_44800\\1165039906.py:39: SettingWithCopyWarning: \n",
      "A value is trying to be set on a copy of a slice from a DataFrame.\n",
      "Try using .loc[row_indexer,col_indexer] = value instead\n",
      "\n",
      "See the caveats in the documentation: https://pandas.pydata.org/pandas-docs/stable/user_guide/indexing.html#returning-a-view-versus-a-copy\n",
      "  componentes['seasonal_prophet'] = 0\n",
      " 74%|███████▍  | 580/780 [1:24:49<12:57,  3.89s/it]20:05:02 - cmdstanpy - INFO - Chain [1] start processing\n",
      "20:05:02 - cmdstanpy - INFO - Chain [1] done processing\n",
      "C:\\Users\\waldo\\AppData\\Local\\Temp\\ipykernel_44800\\1165039906.py:39: SettingWithCopyWarning: \n",
      "A value is trying to be set on a copy of a slice from a DataFrame.\n",
      "Try using .loc[row_indexer,col_indexer] = value instead\n",
      "\n",
      "See the caveats in the documentation: https://pandas.pydata.org/pandas-docs/stable/user_guide/indexing.html#returning-a-view-versus-a-copy\n",
      "  componentes['seasonal_prophet'] = 0\n",
      " 74%|███████▍  | 581/780 [1:24:52<12:02,  3.63s/it]20:05:05 - cmdstanpy - INFO - Chain [1] start processing\n",
      "20:05:05 - cmdstanpy - INFO - Chain [1] done processing\n",
      "C:\\Users\\waldo\\AppData\\Local\\Temp\\ipykernel_44800\\1165039906.py:39: SettingWithCopyWarning: \n",
      "A value is trying to be set on a copy of a slice from a DataFrame.\n",
      "Try using .loc[row_indexer,col_indexer] = value instead\n",
      "\n",
      "See the caveats in the documentation: https://pandas.pydata.org/pandas-docs/stable/user_guide/indexing.html#returning-a-view-versus-a-copy\n",
      "  componentes['seasonal_prophet'] = 0\n",
      " 75%|███████▍  | 582/780 [1:24:55<11:39,  3.54s/it]20:05:08 - cmdstanpy - INFO - Chain [1] start processing\n",
      "20:05:09 - cmdstanpy - INFO - Chain [1] done processing\n",
      "C:\\Users\\waldo\\AppData\\Local\\Temp\\ipykernel_44800\\1165039906.py:39: SettingWithCopyWarning: \n",
      "A value is trying to be set on a copy of a slice from a DataFrame.\n",
      "Try using .loc[row_indexer,col_indexer] = value instead\n",
      "\n",
      "See the caveats in the documentation: https://pandas.pydata.org/pandas-docs/stable/user_guide/indexing.html#returning-a-view-versus-a-copy\n",
      "  componentes['seasonal_prophet'] = 0\n",
      " 75%|███████▍  | 583/780 [1:24:57<09:19,  2.84s/it]20:05:10 - cmdstanpy - INFO - Chain [1] start processing\n",
      "20:05:10 - cmdstanpy - INFO - Chain [1] done processing\n",
      "C:\\Users\\waldo\\AppData\\Local\\Temp\\ipykernel_44800\\1165039906.py:39: SettingWithCopyWarning: \n",
      "A value is trying to be set on a copy of a slice from a DataFrame.\n",
      "Try using .loc[row_indexer,col_indexer] = value instead\n",
      "\n",
      "See the caveats in the documentation: https://pandas.pydata.org/pandas-docs/stable/user_guide/indexing.html#returning-a-view-versus-a-copy\n",
      "  componentes['seasonal_prophet'] = 0\n",
      " 75%|███████▍  | 584/780 [1:24:58<08:03,  2.47s/it]20:05:11 - cmdstanpy - INFO - Chain [1] start processing\n",
      "20:05:12 - cmdstanpy - INFO - Chain [1] done processing\n",
      "C:\\Users\\waldo\\AppData\\Local\\Temp\\ipykernel_44800\\1165039906.py:39: SettingWithCopyWarning: \n",
      "A value is trying to be set on a copy of a slice from a DataFrame.\n",
      "Try using .loc[row_indexer,col_indexer] = value instead\n",
      "\n",
      "See the caveats in the documentation: https://pandas.pydata.org/pandas-docs/stable/user_guide/indexing.html#returning-a-view-versus-a-copy\n",
      "  componentes['seasonal_prophet'] = 0\n",
      " 75%|███████▌  | 585/780 [1:25:02<09:13,  2.84s/it]20:05:15 - cmdstanpy - INFO - Chain [1] start processing\n",
      "20:05:15 - cmdstanpy - INFO - Chain [1] done processing\n",
      "C:\\Users\\waldo\\AppData\\Local\\Temp\\ipykernel_44800\\1165039906.py:39: SettingWithCopyWarning: \n",
      "A value is trying to be set on a copy of a slice from a DataFrame.\n",
      "Try using .loc[row_indexer,col_indexer] = value instead\n",
      "\n",
      "See the caveats in the documentation: https://pandas.pydata.org/pandas-docs/stable/user_guide/indexing.html#returning-a-view-versus-a-copy\n",
      "  componentes['seasonal_prophet'] = 0\n",
      " 75%|███████▌  | 586/780 [1:25:08<12:13,  3.78s/it]20:05:21 - cmdstanpy - INFO - Chain [1] start processing\n",
      "20:05:21 - cmdstanpy - INFO - Chain [1] done processing\n",
      "C:\\Users\\waldo\\AppData\\Local\\Temp\\ipykernel_44800\\1165039906.py:39: SettingWithCopyWarning: \n",
      "A value is trying to be set on a copy of a slice from a DataFrame.\n",
      "Try using .loc[row_indexer,col_indexer] = value instead\n",
      "\n",
      "See the caveats in the documentation: https://pandas.pydata.org/pandas-docs/stable/user_guide/indexing.html#returning-a-view-versus-a-copy\n",
      "  componentes['seasonal_prophet'] = 0\n",
      " 75%|███████▌  | 587/780 [1:25:09<09:55,  3.08s/it]20:05:23 - cmdstanpy - INFO - Chain [1] start processing\n",
      "20:05:23 - cmdstanpy - INFO - Chain [1] done processing\n",
      "C:\\Users\\waldo\\AppData\\Local\\Temp\\ipykernel_44800\\1165039906.py:39: SettingWithCopyWarning: \n",
      "A value is trying to be set on a copy of a slice from a DataFrame.\n",
      "Try using .loc[row_indexer,col_indexer] = value instead\n",
      "\n",
      "See the caveats in the documentation: https://pandas.pydata.org/pandas-docs/stable/user_guide/indexing.html#returning-a-view-versus-a-copy\n",
      "  componentes['seasonal_prophet'] = 0\n",
      " 75%|███████▌  | 588/780 [1:25:15<12:22,  3.87s/it]20:05:28 - cmdstanpy - INFO - Chain [1] start processing\n",
      "20:05:28 - cmdstanpy - INFO - Chain [1] done processing\n",
      "C:\\Users\\waldo\\AppData\\Local\\Temp\\ipykernel_44800\\1165039906.py:39: SettingWithCopyWarning: \n",
      "A value is trying to be set on a copy of a slice from a DataFrame.\n",
      "Try using .loc[row_indexer,col_indexer] = value instead\n",
      "\n",
      "See the caveats in the documentation: https://pandas.pydata.org/pandas-docs/stable/user_guide/indexing.html#returning-a-view-versus-a-copy\n",
      "  componentes['seasonal_prophet'] = 0\n",
      " 76%|███████▌  | 589/780 [1:25:17<11:02,  3.47s/it]20:05:31 - cmdstanpy - INFO - Chain [1] start processing\n",
      "20:05:31 - cmdstanpy - INFO - Chain [1] done processing\n",
      "C:\\Users\\waldo\\AppData\\Local\\Temp\\ipykernel_44800\\1165039906.py:39: SettingWithCopyWarning: \n",
      "A value is trying to be set on a copy of a slice from a DataFrame.\n",
      "Try using .loc[row_indexer,col_indexer] = value instead\n",
      "\n",
      "See the caveats in the documentation: https://pandas.pydata.org/pandas-docs/stable/user_guide/indexing.html#returning-a-view-versus-a-copy\n",
      "  componentes['seasonal_prophet'] = 0\n",
      " 76%|███████▌  | 590/780 [1:25:21<10:59,  3.47s/it]20:05:34 - cmdstanpy - INFO - Chain [1] start processing\n",
      "20:05:34 - cmdstanpy - INFO - Chain [1] done processing\n",
      "C:\\Users\\waldo\\AppData\\Local\\Temp\\ipykernel_44800\\1165039906.py:39: SettingWithCopyWarning: \n",
      "A value is trying to be set on a copy of a slice from a DataFrame.\n",
      "Try using .loc[row_indexer,col_indexer] = value instead\n",
      "\n",
      "See the caveats in the documentation: https://pandas.pydata.org/pandas-docs/stable/user_guide/indexing.html#returning-a-view-versus-a-copy\n",
      "  componentes['seasonal_prophet'] = 0\n",
      " 76%|███████▌  | 591/780 [1:25:22<08:57,  2.84s/it]20:05:36 - cmdstanpy - INFO - Chain [1] start processing\n",
      "20:05:36 - cmdstanpy - INFO - Chain [1] done processing\n",
      "C:\\Users\\waldo\\AppData\\Local\\Temp\\ipykernel_44800\\1165039906.py:39: SettingWithCopyWarning: \n",
      "A value is trying to be set on a copy of a slice from a DataFrame.\n",
      "Try using .loc[row_indexer,col_indexer] = value instead\n",
      "\n",
      "See the caveats in the documentation: https://pandas.pydata.org/pandas-docs/stable/user_guide/indexing.html#returning-a-view-versus-a-copy\n",
      "  componentes['seasonal_prophet'] = 0\n",
      " 76%|███████▌  | 592/780 [1:25:25<08:34,  2.73s/it]20:05:38 - cmdstanpy - INFO - Chain [1] start processing\n",
      "20:05:38 - cmdstanpy - INFO - Chain [1] done processing\n",
      "C:\\Users\\waldo\\AppData\\Local\\Temp\\ipykernel_44800\\1165039906.py:39: SettingWithCopyWarning: \n",
      "A value is trying to be set on a copy of a slice from a DataFrame.\n",
      "Try using .loc[row_indexer,col_indexer] = value instead\n",
      "\n",
      "See the caveats in the documentation: https://pandas.pydata.org/pandas-docs/stable/user_guide/indexing.html#returning-a-view-versus-a-copy\n",
      "  componentes['seasonal_prophet'] = 0\n",
      " 76%|███████▌  | 593/780 [1:25:28<09:13,  2.96s/it]20:05:42 - cmdstanpy - INFO - Chain [1] start processing\n",
      "20:05:42 - cmdstanpy - INFO - Chain [1] done processing\n",
      "C:\\Users\\waldo\\AppData\\Local\\Temp\\ipykernel_44800\\1165039906.py:39: SettingWithCopyWarning: \n",
      "A value is trying to be set on a copy of a slice from a DataFrame.\n",
      "Try using .loc[row_indexer,col_indexer] = value instead\n",
      "\n",
      "See the caveats in the documentation: https://pandas.pydata.org/pandas-docs/stable/user_guide/indexing.html#returning-a-view-versus-a-copy\n",
      "  componentes['seasonal_prophet'] = 0\n",
      " 76%|███████▌  | 594/780 [1:25:31<08:57,  2.89s/it]20:05:44 - cmdstanpy - INFO - Chain [1] start processing\n",
      "20:05:44 - cmdstanpy - INFO - Chain [1] done processing\n",
      "C:\\Users\\waldo\\AppData\\Local\\Temp\\ipykernel_44800\\1165039906.py:39: SettingWithCopyWarning: \n",
      "A value is trying to be set on a copy of a slice from a DataFrame.\n",
      "Try using .loc[row_indexer,col_indexer] = value instead\n",
      "\n",
      "See the caveats in the documentation: https://pandas.pydata.org/pandas-docs/stable/user_guide/indexing.html#returning-a-view-versus-a-copy\n",
      "  componentes['seasonal_prophet'] = 0\n",
      " 76%|███████▋  | 595/780 [1:25:34<08:43,  2.83s/it]20:05:47 - cmdstanpy - INFO - Chain [1] start processing\n",
      "20:05:47 - cmdstanpy - INFO - Chain [1] done processing\n",
      "C:\\Users\\waldo\\AppData\\Local\\Temp\\ipykernel_44800\\1165039906.py:39: SettingWithCopyWarning: \n",
      "A value is trying to be set on a copy of a slice from a DataFrame.\n",
      "Try using .loc[row_indexer,col_indexer] = value instead\n",
      "\n",
      "See the caveats in the documentation: https://pandas.pydata.org/pandas-docs/stable/user_guide/indexing.html#returning-a-view-versus-a-copy\n",
      "  componentes['seasonal_prophet'] = 0\n",
      " 76%|███████▋  | 596/780 [1:25:35<07:29,  2.44s/it]20:05:49 - cmdstanpy - INFO - Chain [1] start processing\n",
      "20:05:49 - cmdstanpy - INFO - Chain [1] done processing\n",
      "C:\\Users\\waldo\\AppData\\Local\\Temp\\ipykernel_44800\\1165039906.py:39: SettingWithCopyWarning: \n",
      "A value is trying to be set on a copy of a slice from a DataFrame.\n",
      "Try using .loc[row_indexer,col_indexer] = value instead\n",
      "\n",
      "See the caveats in the documentation: https://pandas.pydata.org/pandas-docs/stable/user_guide/indexing.html#returning-a-view-versus-a-copy\n",
      "  componentes['seasonal_prophet'] = 0\n",
      " 77%|███████▋  | 597/780 [1:25:41<10:11,  3.34s/it]20:05:54 - cmdstanpy - INFO - Chain [1] start processing\n",
      "20:05:54 - cmdstanpy - INFO - Chain [1] done processing\n",
      "C:\\Users\\waldo\\AppData\\Local\\Temp\\ipykernel_44800\\1165039906.py:39: SettingWithCopyWarning: \n",
      "A value is trying to be set on a copy of a slice from a DataFrame.\n",
      "Try using .loc[row_indexer,col_indexer] = value instead\n",
      "\n",
      "See the caveats in the documentation: https://pandas.pydata.org/pandas-docs/stable/user_guide/indexing.html#returning-a-view-versus-a-copy\n",
      "  componentes['seasonal_prophet'] = 0\n",
      " 77%|███████▋  | 598/780 [1:25:46<12:10,  4.01s/it]20:06:00 - cmdstanpy - INFO - Chain [1] start processing\n",
      "20:06:00 - cmdstanpy - INFO - Chain [1] done processing\n",
      "C:\\Users\\waldo\\AppData\\Local\\Temp\\ipykernel_44800\\1165039906.py:39: SettingWithCopyWarning: \n",
      "A value is trying to be set on a copy of a slice from a DataFrame.\n",
      "Try using .loc[row_indexer,col_indexer] = value instead\n",
      "\n",
      "See the caveats in the documentation: https://pandas.pydata.org/pandas-docs/stable/user_guide/indexing.html#returning-a-view-versus-a-copy\n",
      "  componentes['seasonal_prophet'] = 0\n",
      " 77%|███████▋  | 599/780 [1:25:50<11:30,  3.82s/it]20:06:03 - cmdstanpy - INFO - Chain [1] start processing\n",
      "20:06:04 - cmdstanpy - INFO - Chain [1] done processing\n",
      "C:\\Users\\waldo\\AppData\\Local\\Temp\\ipykernel_44800\\1165039906.py:39: SettingWithCopyWarning: \n",
      "A value is trying to be set on a copy of a slice from a DataFrame.\n",
      "Try using .loc[row_indexer,col_indexer] = value instead\n",
      "\n",
      "See the caveats in the documentation: https://pandas.pydata.org/pandas-docs/stable/user_guide/indexing.html#returning-a-view-versus-a-copy\n",
      "  componentes['seasonal_prophet'] = 0\n",
      " 77%|███████▋  | 600/780 [1:25:52<09:47,  3.27s/it]20:06:05 - cmdstanpy - INFO - Chain [1] start processing\n",
      "20:06:05 - cmdstanpy - INFO - Chain [1] done processing\n",
      "C:\\Users\\waldo\\AppData\\Local\\Temp\\ipykernel_44800\\1165039906.py:39: SettingWithCopyWarning: \n",
      "A value is trying to be set on a copy of a slice from a DataFrame.\n",
      "Try using .loc[row_indexer,col_indexer] = value instead\n",
      "\n",
      "See the caveats in the documentation: https://pandas.pydata.org/pandas-docs/stable/user_guide/indexing.html#returning-a-view-versus-a-copy\n",
      "  componentes['seasonal_prophet'] = 0\n",
      " 77%|███████▋  | 601/780 [1:25:55<10:10,  3.41s/it]20:06:09 - cmdstanpy - INFO - Chain [1] start processing\n",
      "20:06:09 - cmdstanpy - INFO - Chain [1] done processing\n",
      "C:\\Users\\waldo\\AppData\\Local\\Temp\\ipykernel_44800\\1165039906.py:39: SettingWithCopyWarning: \n",
      "A value is trying to be set on a copy of a slice from a DataFrame.\n",
      "Try using .loc[row_indexer,col_indexer] = value instead\n",
      "\n",
      "See the caveats in the documentation: https://pandas.pydata.org/pandas-docs/stable/user_guide/indexing.html#returning-a-view-versus-a-copy\n",
      "  componentes['seasonal_prophet'] = 0\n",
      " 77%|███████▋  | 602/780 [1:25:59<09:56,  3.35s/it]20:06:12 - cmdstanpy - INFO - Chain [1] start processing\n",
      "20:06:12 - cmdstanpy - INFO - Chain [1] done processing\n",
      "C:\\Users\\waldo\\AppData\\Local\\Temp\\ipykernel_44800\\1165039906.py:39: SettingWithCopyWarning: \n",
      "A value is trying to be set on a copy of a slice from a DataFrame.\n",
      "Try using .loc[row_indexer,col_indexer] = value instead\n",
      "\n",
      "See the caveats in the documentation: https://pandas.pydata.org/pandas-docs/stable/user_guide/indexing.html#returning-a-view-versus-a-copy\n",
      "  componentes['seasonal_prophet'] = 0\n",
      " 77%|███████▋  | 603/780 [1:26:05<12:27,  4.22s/it]20:06:18 - cmdstanpy - INFO - Chain [1] start processing\n",
      "20:06:18 - cmdstanpy - INFO - Chain [1] done processing\n",
      "C:\\Users\\waldo\\AppData\\Local\\Temp\\ipykernel_44800\\1165039906.py:39: SettingWithCopyWarning: \n",
      "A value is trying to be set on a copy of a slice from a DataFrame.\n",
      "Try using .loc[row_indexer,col_indexer] = value instead\n",
      "\n",
      "See the caveats in the documentation: https://pandas.pydata.org/pandas-docs/stable/user_guide/indexing.html#returning-a-view-versus-a-copy\n",
      "  componentes['seasonal_prophet'] = 0\n",
      " 77%|███████▋  | 604/780 [1:26:07<10:44,  3.66s/it]20:06:20 - cmdstanpy - INFO - Chain [1] start processing\n",
      "20:06:21 - cmdstanpy - INFO - Chain [1] done processing\n",
      "C:\\Users\\waldo\\AppData\\Local\\Temp\\ipykernel_44800\\1165039906.py:39: SettingWithCopyWarning: \n",
      "A value is trying to be set on a copy of a slice from a DataFrame.\n",
      "Try using .loc[row_indexer,col_indexer] = value instead\n",
      "\n",
      "See the caveats in the documentation: https://pandas.pydata.org/pandas-docs/stable/user_guide/indexing.html#returning-a-view-versus-a-copy\n",
      "  componentes['seasonal_prophet'] = 0\n",
      " 78%|███████▊  | 605/780 [1:26:09<08:55,  3.06s/it]20:06:22 - cmdstanpy - INFO - Chain [1] start processing\n",
      "20:06:22 - cmdstanpy - INFO - Chain [1] done processing\n",
      "C:\\Users\\waldo\\AppData\\Local\\Temp\\ipykernel_44800\\1165039906.py:39: SettingWithCopyWarning: \n",
      "A value is trying to be set on a copy of a slice from a DataFrame.\n",
      "Try using .loc[row_indexer,col_indexer] = value instead\n",
      "\n",
      "See the caveats in the documentation: https://pandas.pydata.org/pandas-docs/stable/user_guide/indexing.html#returning-a-view-versus-a-copy\n",
      "  componentes['seasonal_prophet'] = 0\n",
      " 78%|███████▊  | 606/780 [1:26:14<10:28,  3.61s/it]20:06:27 - cmdstanpy - INFO - Chain [1] start processing\n",
      "20:06:27 - cmdstanpy - INFO - Chain [1] done processing\n",
      "C:\\Users\\waldo\\AppData\\Local\\Temp\\ipykernel_44800\\1165039906.py:39: SettingWithCopyWarning: \n",
      "A value is trying to be set on a copy of a slice from a DataFrame.\n",
      "Try using .loc[row_indexer,col_indexer] = value instead\n",
      "\n",
      "See the caveats in the documentation: https://pandas.pydata.org/pandas-docs/stable/user_guide/indexing.html#returning-a-view-versus-a-copy\n",
      "  componentes['seasonal_prophet'] = 0\n",
      " 78%|███████▊  | 607/780 [1:26:15<08:33,  2.97s/it]20:06:29 - cmdstanpy - INFO - Chain [1] start processing\n",
      "20:06:29 - cmdstanpy - INFO - Chain [1] done processing\n",
      "C:\\Users\\waldo\\AppData\\Local\\Temp\\ipykernel_44800\\1165039906.py:39: SettingWithCopyWarning: \n",
      "A value is trying to be set on a copy of a slice from a DataFrame.\n",
      "Try using .loc[row_indexer,col_indexer] = value instead\n",
      "\n",
      "See the caveats in the documentation: https://pandas.pydata.org/pandas-docs/stable/user_guide/indexing.html#returning-a-view-versus-a-copy\n",
      "  componentes['seasonal_prophet'] = 0\n",
      " 78%|███████▊  | 608/780 [1:26:17<07:47,  2.72s/it]20:06:31 - cmdstanpy - INFO - Chain [1] start processing\n",
      "20:06:31 - cmdstanpy - INFO - Chain [1] done processing\n",
      "C:\\Users\\waldo\\AppData\\Local\\Temp\\ipykernel_44800\\1165039906.py:39: SettingWithCopyWarning: \n",
      "A value is trying to be set on a copy of a slice from a DataFrame.\n",
      "Try using .loc[row_indexer,col_indexer] = value instead\n",
      "\n",
      "See the caveats in the documentation: https://pandas.pydata.org/pandas-docs/stable/user_guide/indexing.html#returning-a-view-versus-a-copy\n",
      "  componentes['seasonal_prophet'] = 0\n",
      " 78%|███████▊  | 609/780 [1:26:23<09:50,  3.46s/it]20:06:36 - cmdstanpy - INFO - Chain [1] start processing\n",
      "20:06:36 - cmdstanpy - INFO - Chain [1] done processing\n",
      "C:\\Users\\waldo\\AppData\\Local\\Temp\\ipykernel_44800\\1165039906.py:39: SettingWithCopyWarning: \n",
      "A value is trying to be set on a copy of a slice from a DataFrame.\n",
      "Try using .loc[row_indexer,col_indexer] = value instead\n",
      "\n",
      "See the caveats in the documentation: https://pandas.pydata.org/pandas-docs/stable/user_guide/indexing.html#returning-a-view-versus-a-copy\n",
      "  componentes['seasonal_prophet'] = 0\n",
      " 78%|███████▊  | 610/780 [1:26:25<08:45,  3.09s/it]20:06:38 - cmdstanpy - INFO - Chain [1] start processing\n",
      "20:06:38 - cmdstanpy - INFO - Chain [1] done processing\n",
      "C:\\Users\\waldo\\AppData\\Local\\Temp\\ipykernel_44800\\1165039906.py:39: SettingWithCopyWarning: \n",
      "A value is trying to be set on a copy of a slice from a DataFrame.\n",
      "Try using .loc[row_indexer,col_indexer] = value instead\n",
      "\n",
      "See the caveats in the documentation: https://pandas.pydata.org/pandas-docs/stable/user_guide/indexing.html#returning-a-view-versus-a-copy\n",
      "  componentes['seasonal_prophet'] = 0\n",
      " 78%|███████▊  | 611/780 [1:26:27<07:50,  2.78s/it]20:06:40 - cmdstanpy - INFO - Chain [1] start processing\n",
      "20:06:40 - cmdstanpy - INFO - Chain [1] done processing\n",
      "C:\\Users\\waldo\\AppData\\Local\\Temp\\ipykernel_44800\\1165039906.py:39: SettingWithCopyWarning: \n",
      "A value is trying to be set on a copy of a slice from a DataFrame.\n",
      "Try using .loc[row_indexer,col_indexer] = value instead\n",
      "\n",
      "See the caveats in the documentation: https://pandas.pydata.org/pandas-docs/stable/user_guide/indexing.html#returning-a-view-versus-a-copy\n",
      "  componentes['seasonal_prophet'] = 0\n",
      " 78%|███████▊  | 612/780 [1:26:29<07:37,  2.72s/it]20:06:43 - cmdstanpy - INFO - Chain [1] start processing\n",
      "20:06:43 - cmdstanpy - INFO - Chain [1] done processing\n",
      "C:\\Users\\waldo\\AppData\\Local\\Temp\\ipykernel_44800\\1165039906.py:39: SettingWithCopyWarning: \n",
      "A value is trying to be set on a copy of a slice from a DataFrame.\n",
      "Try using .loc[row_indexer,col_indexer] = value instead\n",
      "\n",
      "See the caveats in the documentation: https://pandas.pydata.org/pandas-docs/stable/user_guide/indexing.html#returning-a-view-versus-a-copy\n",
      "  componentes['seasonal_prophet'] = 0\n",
      " 79%|███████▊  | 613/780 [1:26:34<09:07,  3.28s/it]20:06:47 - cmdstanpy - INFO - Chain [1] start processing\n",
      "20:06:47 - cmdstanpy - INFO - Chain [1] done processing\n",
      "C:\\Users\\waldo\\AppData\\Local\\Temp\\ipykernel_44800\\1165039906.py:39: SettingWithCopyWarning: \n",
      "A value is trying to be set on a copy of a slice from a DataFrame.\n",
      "Try using .loc[row_indexer,col_indexer] = value instead\n",
      "\n",
      "See the caveats in the documentation: https://pandas.pydata.org/pandas-docs/stable/user_guide/indexing.html#returning-a-view-versus-a-copy\n",
      "  componentes['seasonal_prophet'] = 0\n",
      " 79%|███████▊  | 614/780 [1:26:38<09:43,  3.52s/it]20:06:51 - cmdstanpy - INFO - Chain [1] start processing\n",
      "20:06:51 - cmdstanpy - INFO - Chain [1] done processing\n",
      "C:\\Users\\waldo\\AppData\\Local\\Temp\\ipykernel_44800\\1165039906.py:39: SettingWithCopyWarning: \n",
      "A value is trying to be set on a copy of a slice from a DataFrame.\n",
      "Try using .loc[row_indexer,col_indexer] = value instead\n",
      "\n",
      "See the caveats in the documentation: https://pandas.pydata.org/pandas-docs/stable/user_guide/indexing.html#returning-a-view-versus-a-copy\n",
      "  componentes['seasonal_prophet'] = 0\n",
      " 79%|███████▉  | 615/780 [1:26:40<08:04,  2.94s/it]20:06:53 - cmdstanpy - INFO - Chain [1] start processing\n",
      "20:06:53 - cmdstanpy - INFO - Chain [1] done processing\n",
      "C:\\Users\\waldo\\AppData\\Local\\Temp\\ipykernel_44800\\1165039906.py:39: SettingWithCopyWarning: \n",
      "A value is trying to be set on a copy of a slice from a DataFrame.\n",
      "Try using .loc[row_indexer,col_indexer] = value instead\n",
      "\n",
      "See the caveats in the documentation: https://pandas.pydata.org/pandas-docs/stable/user_guide/indexing.html#returning-a-view-versus-a-copy\n",
      "  componentes['seasonal_prophet'] = 0\n",
      " 79%|███████▉  | 616/780 [1:26:43<08:10,  2.99s/it]20:06:56 - cmdstanpy - INFO - Chain [1] start processing\n",
      "20:06:56 - cmdstanpy - INFO - Chain [1] done processing\n",
      "C:\\Users\\waldo\\AppData\\Local\\Temp\\ipykernel_44800\\1165039906.py:39: SettingWithCopyWarning: \n",
      "A value is trying to be set on a copy of a slice from a DataFrame.\n",
      "Try using .loc[row_indexer,col_indexer] = value instead\n",
      "\n",
      "See the caveats in the documentation: https://pandas.pydata.org/pandas-docs/stable/user_guide/indexing.html#returning-a-view-versus-a-copy\n",
      "  componentes['seasonal_prophet'] = 0\n",
      " 79%|███████▉  | 617/780 [1:26:46<08:16,  3.04s/it]20:06:59 - cmdstanpy - INFO - Chain [1] start processing\n",
      "20:06:59 - cmdstanpy - INFO - Chain [1] done processing\n",
      "C:\\Users\\waldo\\AppData\\Local\\Temp\\ipykernel_44800\\1165039906.py:39: SettingWithCopyWarning: \n",
      "A value is trying to be set on a copy of a slice from a DataFrame.\n",
      "Try using .loc[row_indexer,col_indexer] = value instead\n",
      "\n",
      "See the caveats in the documentation: https://pandas.pydata.org/pandas-docs/stable/user_guide/indexing.html#returning-a-view-versus-a-copy\n",
      "  componentes['seasonal_prophet'] = 0\n",
      " 79%|███████▉  | 618/780 [1:26:49<08:03,  2.99s/it]20:07:02 - cmdstanpy - INFO - Chain [1] start processing\n",
      "20:07:02 - cmdstanpy - INFO - Chain [1] done processing\n",
      "C:\\Users\\waldo\\AppData\\Local\\Temp\\ipykernel_44800\\1165039906.py:39: SettingWithCopyWarning: \n",
      "A value is trying to be set on a copy of a slice from a DataFrame.\n",
      "Try using .loc[row_indexer,col_indexer] = value instead\n",
      "\n",
      "See the caveats in the documentation: https://pandas.pydata.org/pandas-docs/stable/user_guide/indexing.html#returning-a-view-versus-a-copy\n",
      "  componentes['seasonal_prophet'] = 0\n",
      " 79%|███████▉  | 619/780 [1:26:50<06:18,  2.35s/it]20:07:03 - cmdstanpy - INFO - Chain [1] start processing\n",
      "20:07:03 - cmdstanpy - INFO - Chain [1] done processing\n",
      "C:\\Users\\waldo\\AppData\\Local\\Temp\\ipykernel_44800\\1165039906.py:39: SettingWithCopyWarning: \n",
      "A value is trying to be set on a copy of a slice from a DataFrame.\n",
      "Try using .loc[row_indexer,col_indexer] = value instead\n",
      "\n",
      "See the caveats in the documentation: https://pandas.pydata.org/pandas-docs/stable/user_guide/indexing.html#returning-a-view-versus-a-copy\n",
      "  componentes['seasonal_prophet'] = 0\n",
      " 79%|███████▉  | 620/780 [1:26:52<05:59,  2.25s/it]20:07:05 - cmdstanpy - INFO - Chain [1] start processing\n",
      "20:07:05 - cmdstanpy - INFO - Chain [1] done processing\n",
      "C:\\Users\\waldo\\AppData\\Local\\Temp\\ipykernel_44800\\1165039906.py:39: SettingWithCopyWarning: \n",
      "A value is trying to be set on a copy of a slice from a DataFrame.\n",
      "Try using .loc[row_indexer,col_indexer] = value instead\n",
      "\n",
      "See the caveats in the documentation: https://pandas.pydata.org/pandas-docs/stable/user_guide/indexing.html#returning-a-view-versus-a-copy\n",
      "  componentes['seasonal_prophet'] = 0\n",
      " 80%|███████▉  | 621/780 [1:26:53<05:30,  2.08s/it]20:07:07 - cmdstanpy - INFO - Chain [1] start processing\n",
      "20:07:07 - cmdstanpy - INFO - Chain [1] done processing\n",
      "C:\\Users\\waldo\\AppData\\Local\\Temp\\ipykernel_44800\\1165039906.py:39: SettingWithCopyWarning: \n",
      "A value is trying to be set on a copy of a slice from a DataFrame.\n",
      "Try using .loc[row_indexer,col_indexer] = value instead\n",
      "\n",
      "See the caveats in the documentation: https://pandas.pydata.org/pandas-docs/stable/user_guide/indexing.html#returning-a-view-versus-a-copy\n",
      "  componentes['seasonal_prophet'] = 0\n",
      " 80%|███████▉  | 622/780 [1:26:54<04:36,  1.75s/it]20:07:08 - cmdstanpy - INFO - Chain [1] start processing\n",
      "20:07:08 - cmdstanpy - INFO - Chain [1] done processing\n",
      "C:\\Users\\waldo\\AppData\\Local\\Temp\\ipykernel_44800\\1165039906.py:39: SettingWithCopyWarning: \n",
      "A value is trying to be set on a copy of a slice from a DataFrame.\n",
      "Try using .loc[row_indexer,col_indexer] = value instead\n",
      "\n",
      "See the caveats in the documentation: https://pandas.pydata.org/pandas-docs/stable/user_guide/indexing.html#returning-a-view-versus-a-copy\n",
      "  componentes['seasonal_prophet'] = 0\n",
      " 80%|███████▉  | 623/780 [1:26:58<05:51,  2.24s/it]20:07:11 - cmdstanpy - INFO - Chain [1] start processing\n",
      "20:07:11 - cmdstanpy - INFO - Chain [1] done processing\n",
      "C:\\Users\\waldo\\AppData\\Local\\Temp\\ipykernel_44800\\1165039906.py:39: SettingWithCopyWarning: \n",
      "A value is trying to be set on a copy of a slice from a DataFrame.\n",
      "Try using .loc[row_indexer,col_indexer] = value instead\n",
      "\n",
      "See the caveats in the documentation: https://pandas.pydata.org/pandas-docs/stable/user_guide/indexing.html#returning-a-view-versus-a-copy\n",
      "  componentes['seasonal_prophet'] = 0\n",
      " 80%|████████  | 624/780 [1:26:59<05:26,  2.09s/it]20:07:13 - cmdstanpy - INFO - Chain [1] start processing\n",
      "20:07:13 - cmdstanpy - INFO - Chain [1] done processing\n",
      "C:\\Users\\waldo\\AppData\\Local\\Temp\\ipykernel_44800\\1165039906.py:39: SettingWithCopyWarning: \n",
      "A value is trying to be set on a copy of a slice from a DataFrame.\n",
      "Try using .loc[row_indexer,col_indexer] = value instead\n",
      "\n",
      "See the caveats in the documentation: https://pandas.pydata.org/pandas-docs/stable/user_guide/indexing.html#returning-a-view-versus-a-copy\n",
      "  componentes['seasonal_prophet'] = 0\n",
      " 80%|████████  | 625/780 [1:27:01<04:52,  1.89s/it]20:07:14 - cmdstanpy - INFO - Chain [1] start processing\n",
      "20:07:14 - cmdstanpy - INFO - Chain [1] done processing\n",
      "C:\\Users\\waldo\\AppData\\Local\\Temp\\ipykernel_44800\\1165039906.py:39: SettingWithCopyWarning: \n",
      "A value is trying to be set on a copy of a slice from a DataFrame.\n",
      "Try using .loc[row_indexer,col_indexer] = value instead\n",
      "\n",
      "See the caveats in the documentation: https://pandas.pydata.org/pandas-docs/stable/user_guide/indexing.html#returning-a-view-versus-a-copy\n",
      "  componentes['seasonal_prophet'] = 0\n",
      " 80%|████████  | 626/780 [1:27:04<05:46,  2.25s/it]20:07:17 - cmdstanpy - INFO - Chain [1] start processing\n",
      "20:07:17 - cmdstanpy - INFO - Chain [1] done processing\n",
      "C:\\Users\\waldo\\AppData\\Local\\Temp\\ipykernel_44800\\1165039906.py:39: SettingWithCopyWarning: \n",
      "A value is trying to be set on a copy of a slice from a DataFrame.\n",
      "Try using .loc[row_indexer,col_indexer] = value instead\n",
      "\n",
      "See the caveats in the documentation: https://pandas.pydata.org/pandas-docs/stable/user_guide/indexing.html#returning-a-view-versus-a-copy\n",
      "  componentes['seasonal_prophet'] = 0\n",
      " 80%|████████  | 627/780 [1:27:05<04:36,  1.81s/it]20:07:18 - cmdstanpy - INFO - Chain [1] start processing\n",
      "20:07:18 - cmdstanpy - INFO - Chain [1] done processing\n",
      "C:\\Users\\waldo\\AppData\\Local\\Temp\\ipykernel_44800\\1165039906.py:39: SettingWithCopyWarning: \n",
      "A value is trying to be set on a copy of a slice from a DataFrame.\n",
      "Try using .loc[row_indexer,col_indexer] = value instead\n",
      "\n",
      "See the caveats in the documentation: https://pandas.pydata.org/pandas-docs/stable/user_guide/indexing.html#returning-a-view-versus-a-copy\n",
      "  componentes['seasonal_prophet'] = 0\n",
      " 81%|████████  | 628/780 [1:27:08<05:33,  2.19s/it]20:07:21 - cmdstanpy - INFO - Chain [1] start processing\n",
      "20:07:21 - cmdstanpy - INFO - Chain [1] done processing\n",
      "C:\\Users\\waldo\\AppData\\Local\\Temp\\ipykernel_44800\\1165039906.py:39: SettingWithCopyWarning: \n",
      "A value is trying to be set on a copy of a slice from a DataFrame.\n",
      "Try using .loc[row_indexer,col_indexer] = value instead\n",
      "\n",
      "See the caveats in the documentation: https://pandas.pydata.org/pandas-docs/stable/user_guide/indexing.html#returning-a-view-versus-a-copy\n",
      "  componentes['seasonal_prophet'] = 0\n",
      " 81%|████████  | 629/780 [1:27:09<04:38,  1.85s/it]20:07:22 - cmdstanpy - INFO - Chain [1] start processing\n",
      "20:07:22 - cmdstanpy - INFO - Chain [1] done processing\n",
      "C:\\Users\\waldo\\AppData\\Local\\Temp\\ipykernel_44800\\1165039906.py:39: SettingWithCopyWarning: \n",
      "A value is trying to be set on a copy of a slice from a DataFrame.\n",
      "Try using .loc[row_indexer,col_indexer] = value instead\n",
      "\n",
      "See the caveats in the documentation: https://pandas.pydata.org/pandas-docs/stable/user_guide/indexing.html#returning-a-view-versus-a-copy\n",
      "  componentes['seasonal_prophet'] = 0\n",
      " 81%|████████  | 630/780 [1:27:10<04:09,  1.67s/it]20:07:23 - cmdstanpy - INFO - Chain [1] start processing\n",
      "20:07:24 - cmdstanpy - INFO - Chain [1] done processing\n",
      "C:\\Users\\waldo\\AppData\\Local\\Temp\\ipykernel_44800\\1165039906.py:39: SettingWithCopyWarning: \n",
      "A value is trying to be set on a copy of a slice from a DataFrame.\n",
      "Try using .loc[row_indexer,col_indexer] = value instead\n",
      "\n",
      "See the caveats in the documentation: https://pandas.pydata.org/pandas-docs/stable/user_guide/indexing.html#returning-a-view-versus-a-copy\n",
      "  componentes['seasonal_prophet'] = 0\n",
      " 81%|████████  | 631/780 [1:27:14<05:57,  2.40s/it]20:07:27 - cmdstanpy - INFO - Chain [1] start processing\n",
      "20:07:28 - cmdstanpy - INFO - Chain [1] done processing\n",
      "C:\\Users\\waldo\\AppData\\Local\\Temp\\ipykernel_44800\\1165039906.py:39: SettingWithCopyWarning: \n",
      "A value is trying to be set on a copy of a slice from a DataFrame.\n",
      "Try using .loc[row_indexer,col_indexer] = value instead\n",
      "\n",
      "See the caveats in the documentation: https://pandas.pydata.org/pandas-docs/stable/user_guide/indexing.html#returning-a-view-versus-a-copy\n",
      "  componentes['seasonal_prophet'] = 0\n",
      " 81%|████████  | 632/780 [1:27:17<05:55,  2.40s/it]20:07:30 - cmdstanpy - INFO - Chain [1] start processing\n",
      "20:07:30 - cmdstanpy - INFO - Chain [1] done processing\n",
      "C:\\Users\\waldo\\AppData\\Local\\Temp\\ipykernel_44800\\1165039906.py:39: SettingWithCopyWarning: \n",
      "A value is trying to be set on a copy of a slice from a DataFrame.\n",
      "Try using .loc[row_indexer,col_indexer] = value instead\n",
      "\n",
      "See the caveats in the documentation: https://pandas.pydata.org/pandas-docs/stable/user_guide/indexing.html#returning-a-view-versus-a-copy\n",
      "  componentes['seasonal_prophet'] = 0\n",
      " 81%|████████  | 633/780 [1:27:18<05:17,  2.16s/it]20:07:31 - cmdstanpy - INFO - Chain [1] start processing\n",
      "20:07:32 - cmdstanpy - INFO - Chain [1] done processing\n",
      "C:\\Users\\waldo\\AppData\\Local\\Temp\\ipykernel_44800\\1165039906.py:39: SettingWithCopyWarning: \n",
      "A value is trying to be set on a copy of a slice from a DataFrame.\n",
      "Try using .loc[row_indexer,col_indexer] = value instead\n",
      "\n",
      "See the caveats in the documentation: https://pandas.pydata.org/pandas-docs/stable/user_guide/indexing.html#returning-a-view-versus-a-copy\n",
      "  componentes['seasonal_prophet'] = 0\n",
      " 81%|████████▏ | 634/780 [1:27:20<04:51,  2.00s/it]20:07:33 - cmdstanpy - INFO - Chain [1] start processing\n",
      "20:07:33 - cmdstanpy - INFO - Chain [1] done processing\n",
      "C:\\Users\\waldo\\AppData\\Local\\Temp\\ipykernel_44800\\1165039906.py:39: SettingWithCopyWarning: \n",
      "A value is trying to be set on a copy of a slice from a DataFrame.\n",
      "Try using .loc[row_indexer,col_indexer] = value instead\n",
      "\n",
      "See the caveats in the documentation: https://pandas.pydata.org/pandas-docs/stable/user_guide/indexing.html#returning-a-view-versus-a-copy\n",
      "  componentes['seasonal_prophet'] = 0\n",
      " 81%|████████▏ | 635/780 [1:27:21<04:33,  1.89s/it]20:07:35 - cmdstanpy - INFO - Chain [1] start processing\n",
      "20:07:35 - cmdstanpy - INFO - Chain [1] done processing\n",
      "C:\\Users\\waldo\\AppData\\Local\\Temp\\ipykernel_44800\\1165039906.py:39: SettingWithCopyWarning: \n",
      "A value is trying to be set on a copy of a slice from a DataFrame.\n",
      "Try using .loc[row_indexer,col_indexer] = value instead\n",
      "\n",
      "See the caveats in the documentation: https://pandas.pydata.org/pandas-docs/stable/user_guide/indexing.html#returning-a-view-versus-a-copy\n",
      "  componentes['seasonal_prophet'] = 0\n",
      " 82%|████████▏ | 636/780 [1:27:24<04:54,  2.04s/it]20:07:37 - cmdstanpy - INFO - Chain [1] start processing\n",
      "20:07:37 - cmdstanpy - INFO - Chain [1] done processing\n",
      "C:\\Users\\waldo\\AppData\\Local\\Temp\\ipykernel_44800\\1165039906.py:39: SettingWithCopyWarning: \n",
      "A value is trying to be set on a copy of a slice from a DataFrame.\n",
      "Try using .loc[row_indexer,col_indexer] = value instead\n",
      "\n",
      "See the caveats in the documentation: https://pandas.pydata.org/pandas-docs/stable/user_guide/indexing.html#returning-a-view-versus-a-copy\n",
      "  componentes['seasonal_prophet'] = 0\n",
      " 82%|████████▏ | 637/780 [1:27:25<04:22,  1.83s/it]20:07:38 - cmdstanpy - INFO - Chain [1] start processing\n",
      "20:07:39 - cmdstanpy - INFO - Chain [1] done processing\n",
      "C:\\Users\\waldo\\AppData\\Local\\Temp\\ipykernel_44800\\1165039906.py:39: SettingWithCopyWarning: \n",
      "A value is trying to be set on a copy of a slice from a DataFrame.\n",
      "Try using .loc[row_indexer,col_indexer] = value instead\n",
      "\n",
      "See the caveats in the documentation: https://pandas.pydata.org/pandas-docs/stable/user_guide/indexing.html#returning-a-view-versus-a-copy\n",
      "  componentes['seasonal_prophet'] = 0\n",
      " 82%|████████▏ | 638/780 [1:27:27<04:32,  1.92s/it]20:07:41 - cmdstanpy - INFO - Chain [1] start processing\n",
      "20:07:41 - cmdstanpy - INFO - Chain [1] done processing\n",
      "C:\\Users\\waldo\\AppData\\Local\\Temp\\ipykernel_44800\\1165039906.py:39: SettingWithCopyWarning: \n",
      "A value is trying to be set on a copy of a slice from a DataFrame.\n",
      "Try using .loc[row_indexer,col_indexer] = value instead\n",
      "\n",
      "See the caveats in the documentation: https://pandas.pydata.org/pandas-docs/stable/user_guide/indexing.html#returning-a-view-versus-a-copy\n",
      "  componentes['seasonal_prophet'] = 0\n",
      " 82%|████████▏ | 639/780 [1:27:28<03:49,  1.63s/it]20:07:42 - cmdstanpy - INFO - Chain [1] start processing\n",
      "20:07:42 - cmdstanpy - INFO - Chain [1] done processing\n",
      "C:\\Users\\waldo\\AppData\\Local\\Temp\\ipykernel_44800\\1165039906.py:39: SettingWithCopyWarning: \n",
      "A value is trying to be set on a copy of a slice from a DataFrame.\n",
      "Try using .loc[row_indexer,col_indexer] = value instead\n",
      "\n",
      "See the caveats in the documentation: https://pandas.pydata.org/pandas-docs/stable/user_guide/indexing.html#returning-a-view-versus-a-copy\n",
      "  componentes['seasonal_prophet'] = 0\n",
      " 82%|████████▏ | 640/780 [1:27:29<03:12,  1.38s/it]20:07:42 - cmdstanpy - INFO - Chain [1] start processing\n",
      "20:07:42 - cmdstanpy - INFO - Chain [1] done processing\n",
      "C:\\Users\\waldo\\AppData\\Local\\Temp\\ipykernel_44800\\1165039906.py:39: SettingWithCopyWarning: \n",
      "A value is trying to be set on a copy of a slice from a DataFrame.\n",
      "Try using .loc[row_indexer,col_indexer] = value instead\n",
      "\n",
      "See the caveats in the documentation: https://pandas.pydata.org/pandas-docs/stable/user_guide/indexing.html#returning-a-view-versus-a-copy\n",
      "  componentes['seasonal_prophet'] = 0\n",
      " 82%|████████▏ | 641/780 [1:27:31<03:41,  1.59s/it]20:07:44 - cmdstanpy - INFO - Chain [1] start processing\n",
      "20:07:44 - cmdstanpy - INFO - Chain [1] done processing\n",
      "C:\\Users\\waldo\\AppData\\Local\\Temp\\ipykernel_44800\\1165039906.py:39: SettingWithCopyWarning: \n",
      "A value is trying to be set on a copy of a slice from a DataFrame.\n",
      "Try using .loc[row_indexer,col_indexer] = value instead\n",
      "\n",
      "See the caveats in the documentation: https://pandas.pydata.org/pandas-docs/stable/user_guide/indexing.html#returning-a-view-versus-a-copy\n",
      "  componentes['seasonal_prophet'] = 0\n",
      " 82%|████████▏ | 642/780 [1:27:33<03:33,  1.55s/it]20:07:46 - cmdstanpy - INFO - Chain [1] start processing\n",
      "20:07:46 - cmdstanpy - INFO - Chain [1] done processing\n",
      "C:\\Users\\waldo\\AppData\\Local\\Temp\\ipykernel_44800\\1165039906.py:39: SettingWithCopyWarning: \n",
      "A value is trying to be set on a copy of a slice from a DataFrame.\n",
      "Try using .loc[row_indexer,col_indexer] = value instead\n",
      "\n",
      "See the caveats in the documentation: https://pandas.pydata.org/pandas-docs/stable/user_guide/indexing.html#returning-a-view-versus-a-copy\n",
      "  componentes['seasonal_prophet'] = 0\n",
      " 82%|████████▏ | 643/780 [1:27:34<03:04,  1.35s/it]20:07:47 - cmdstanpy - INFO - Chain [1] start processing\n",
      "20:07:47 - cmdstanpy - INFO - Chain [1] done processing\n",
      "C:\\Users\\waldo\\AppData\\Local\\Temp\\ipykernel_44800\\1165039906.py:39: SettingWithCopyWarning: \n",
      "A value is trying to be set on a copy of a slice from a DataFrame.\n",
      "Try using .loc[row_indexer,col_indexer] = value instead\n",
      "\n",
      "See the caveats in the documentation: https://pandas.pydata.org/pandas-docs/stable/user_guide/indexing.html#returning-a-view-versus-a-copy\n",
      "  componentes['seasonal_prophet'] = 0\n",
      " 83%|████████▎ | 644/780 [1:27:35<03:17,  1.45s/it]20:07:48 - cmdstanpy - INFO - Chain [1] start processing\n",
      "20:07:49 - cmdstanpy - INFO - Chain [1] done processing\n",
      "C:\\Users\\waldo\\AppData\\Local\\Temp\\ipykernel_44800\\1165039906.py:39: SettingWithCopyWarning: \n",
      "A value is trying to be set on a copy of a slice from a DataFrame.\n",
      "Try using .loc[row_indexer,col_indexer] = value instead\n",
      "\n",
      "See the caveats in the documentation: https://pandas.pydata.org/pandas-docs/stable/user_guide/indexing.html#returning-a-view-versus-a-copy\n",
      "  componentes['seasonal_prophet'] = 0\n",
      " 83%|████████▎ | 645/780 [1:27:38<04:02,  1.80s/it]20:07:51 - cmdstanpy - INFO - Chain [1] start processing\n",
      "20:07:51 - cmdstanpy - INFO - Chain [1] done processing\n",
      "C:\\Users\\waldo\\AppData\\Local\\Temp\\ipykernel_44800\\1165039906.py:39: SettingWithCopyWarning: \n",
      "A value is trying to be set on a copy of a slice from a DataFrame.\n",
      "Try using .loc[row_indexer,col_indexer] = value instead\n",
      "\n",
      "See the caveats in the documentation: https://pandas.pydata.org/pandas-docs/stable/user_guide/indexing.html#returning-a-view-versus-a-copy\n",
      "  componentes['seasonal_prophet'] = 0\n",
      " 83%|████████▎ | 646/780 [1:27:42<05:45,  2.58s/it]20:07:55 - cmdstanpy - INFO - Chain [1] start processing\n",
      "20:07:55 - cmdstanpy - INFO - Chain [1] done processing\n",
      "C:\\Users\\waldo\\AppData\\Local\\Temp\\ipykernel_44800\\1165039906.py:39: SettingWithCopyWarning: \n",
      "A value is trying to be set on a copy of a slice from a DataFrame.\n",
      "Try using .loc[row_indexer,col_indexer] = value instead\n",
      "\n",
      "See the caveats in the documentation: https://pandas.pydata.org/pandas-docs/stable/user_guide/indexing.html#returning-a-view-versus-a-copy\n",
      "  componentes['seasonal_prophet'] = 0\n",
      " 83%|████████▎ | 647/780 [1:27:43<04:36,  2.08s/it]20:07:56 - cmdstanpy - INFO - Chain [1] start processing\n",
      "20:07:57 - cmdstanpy - INFO - Chain [1] done processing\n",
      "C:\\Users\\waldo\\AppData\\Local\\Temp\\ipykernel_44800\\1165039906.py:39: SettingWithCopyWarning: \n",
      "A value is trying to be set on a copy of a slice from a DataFrame.\n",
      "Try using .loc[row_indexer,col_indexer] = value instead\n",
      "\n",
      "See the caveats in the documentation: https://pandas.pydata.org/pandas-docs/stable/user_guide/indexing.html#returning-a-view-versus-a-copy\n",
      "  componentes['seasonal_prophet'] = 0\n",
      " 83%|████████▎ | 648/780 [1:27:47<05:30,  2.50s/it]20:08:00 - cmdstanpy - INFO - Chain [1] start processing\n",
      "20:08:00 - cmdstanpy - INFO - Chain [1] done processing\n",
      "C:\\Users\\waldo\\AppData\\Local\\Temp\\ipykernel_44800\\1165039906.py:39: SettingWithCopyWarning: \n",
      "A value is trying to be set on a copy of a slice from a DataFrame.\n",
      "Try using .loc[row_indexer,col_indexer] = value instead\n",
      "\n",
      "See the caveats in the documentation: https://pandas.pydata.org/pandas-docs/stable/user_guide/indexing.html#returning-a-view-versus-a-copy\n",
      "  componentes['seasonal_prophet'] = 0\n",
      " 83%|████████▎ | 649/780 [1:27:48<04:45,  2.18s/it]20:08:01 - cmdstanpy - INFO - Chain [1] start processing\n",
      "20:08:01 - cmdstanpy - INFO - Chain [1] done processing\n",
      "C:\\Users\\waldo\\AppData\\Local\\Temp\\ipykernel_44800\\1165039906.py:39: SettingWithCopyWarning: \n",
      "A value is trying to be set on a copy of a slice from a DataFrame.\n",
      "Try using .loc[row_indexer,col_indexer] = value instead\n",
      "\n",
      "See the caveats in the documentation: https://pandas.pydata.org/pandas-docs/stable/user_guide/indexing.html#returning-a-view-versus-a-copy\n",
      "  componentes['seasonal_prophet'] = 0\n",
      " 83%|████████▎ | 650/780 [1:27:51<04:59,  2.30s/it]20:08:04 - cmdstanpy - INFO - Chain [1] start processing\n",
      "20:08:04 - cmdstanpy - INFO - Chain [1] done processing\n",
      "C:\\Users\\waldo\\AppData\\Local\\Temp\\ipykernel_44800\\1165039906.py:39: SettingWithCopyWarning: \n",
      "A value is trying to be set on a copy of a slice from a DataFrame.\n",
      "Try using .loc[row_indexer,col_indexer] = value instead\n",
      "\n",
      "See the caveats in the documentation: https://pandas.pydata.org/pandas-docs/stable/user_guide/indexing.html#returning-a-view-versus-a-copy\n",
      "  componentes['seasonal_prophet'] = 0\n",
      " 83%|████████▎ | 651/780 [1:27:54<05:41,  2.65s/it]20:08:07 - cmdstanpy - INFO - Chain [1] start processing\n",
      "20:08:08 - cmdstanpy - INFO - Chain [1] done processing\n",
      "C:\\Users\\waldo\\AppData\\Local\\Temp\\ipykernel_44800\\1165039906.py:39: SettingWithCopyWarning: \n",
      "A value is trying to be set on a copy of a slice from a DataFrame.\n",
      "Try using .loc[row_indexer,col_indexer] = value instead\n",
      "\n",
      "See the caveats in the documentation: https://pandas.pydata.org/pandas-docs/stable/user_guide/indexing.html#returning-a-view-versus-a-copy\n",
      "  componentes['seasonal_prophet'] = 0\n",
      " 84%|████████▎ | 652/780 [1:27:58<06:40,  3.13s/it]20:08:12 - cmdstanpy - INFO - Chain [1] start processing\n",
      "20:08:12 - cmdstanpy - INFO - Chain [1] done processing\n",
      "C:\\Users\\waldo\\AppData\\Local\\Temp\\ipykernel_44800\\1165039906.py:39: SettingWithCopyWarning: \n",
      "A value is trying to be set on a copy of a slice from a DataFrame.\n",
      "Try using .loc[row_indexer,col_indexer] = value instead\n",
      "\n",
      "See the caveats in the documentation: https://pandas.pydata.org/pandas-docs/stable/user_guide/indexing.html#returning-a-view-versus-a-copy\n",
      "  componentes['seasonal_prophet'] = 0\n",
      " 84%|████████▎ | 653/780 [1:28:02<06:44,  3.19s/it]20:08:15 - cmdstanpy - INFO - Chain [1] start processing\n",
      "20:08:15 - cmdstanpy - INFO - Chain [1] done processing\n",
      "C:\\Users\\waldo\\AppData\\Local\\Temp\\ipykernel_44800\\1165039906.py:39: SettingWithCopyWarning: \n",
      "A value is trying to be set on a copy of a slice from a DataFrame.\n",
      "Try using .loc[row_indexer,col_indexer] = value instead\n",
      "\n",
      "See the caveats in the documentation: https://pandas.pydata.org/pandas-docs/stable/user_guide/indexing.html#returning-a-view-versus-a-copy\n",
      "  componentes['seasonal_prophet'] = 0\n",
      " 84%|████████▍ | 654/780 [1:28:02<05:09,  2.46s/it]20:08:16 - cmdstanpy - INFO - Chain [1] start processing\n",
      "20:08:16 - cmdstanpy - INFO - Chain [1] done processing\n",
      "C:\\Users\\waldo\\AppData\\Local\\Temp\\ipykernel_44800\\1165039906.py:39: SettingWithCopyWarning: \n",
      "A value is trying to be set on a copy of a slice from a DataFrame.\n",
      "Try using .loc[row_indexer,col_indexer] = value instead\n",
      "\n",
      "See the caveats in the documentation: https://pandas.pydata.org/pandas-docs/stable/user_guide/indexing.html#returning-a-view-versus-a-copy\n",
      "  componentes['seasonal_prophet'] = 0\n",
      " 84%|████████▍ | 655/780 [1:28:05<05:11,  2.49s/it]20:08:18 - cmdstanpy - INFO - Chain [1] start processing\n",
      "20:08:19 - cmdstanpy - INFO - Chain [1] done processing\n",
      "C:\\Users\\waldo\\AppData\\Local\\Temp\\ipykernel_44800\\1165039906.py:39: SettingWithCopyWarning: \n",
      "A value is trying to be set on a copy of a slice from a DataFrame.\n",
      "Try using .loc[row_indexer,col_indexer] = value instead\n",
      "\n",
      "See the caveats in the documentation: https://pandas.pydata.org/pandas-docs/stable/user_guide/indexing.html#returning-a-view-versus-a-copy\n",
      "  componentes['seasonal_prophet'] = 0\n",
      " 84%|████████▍ | 656/780 [1:28:08<05:17,  2.56s/it]20:08:21 - cmdstanpy - INFO - Chain [1] start processing\n",
      "20:08:21 - cmdstanpy - INFO - Chain [1] done processing\n",
      "C:\\Users\\waldo\\AppData\\Local\\Temp\\ipykernel_44800\\1165039906.py:39: SettingWithCopyWarning: \n",
      "A value is trying to be set on a copy of a slice from a DataFrame.\n",
      "Try using .loc[row_indexer,col_indexer] = value instead\n",
      "\n",
      "See the caveats in the documentation: https://pandas.pydata.org/pandas-docs/stable/user_guide/indexing.html#returning-a-view-versus-a-copy\n",
      "  componentes['seasonal_prophet'] = 0\n",
      " 84%|████████▍ | 657/780 [1:28:12<06:01,  2.94s/it]20:08:25 - cmdstanpy - INFO - Chain [1] start processing\n",
      "20:08:25 - cmdstanpy - INFO - Chain [1] done processing\n",
      "C:\\Users\\waldo\\AppData\\Local\\Temp\\ipykernel_44800\\1165039906.py:39: SettingWithCopyWarning: \n",
      "A value is trying to be set on a copy of a slice from a DataFrame.\n",
      "Try using .loc[row_indexer,col_indexer] = value instead\n",
      "\n",
      "See the caveats in the documentation: https://pandas.pydata.org/pandas-docs/stable/user_guide/indexing.html#returning-a-view-versus-a-copy\n",
      "  componentes['seasonal_prophet'] = 0\n",
      " 84%|████████▍ | 658/780 [1:28:13<04:52,  2.40s/it]20:08:26 - cmdstanpy - INFO - Chain [1] start processing\n",
      "20:08:26 - cmdstanpy - INFO - Chain [1] done processing\n",
      "C:\\Users\\waldo\\AppData\\Local\\Temp\\ipykernel_44800\\1165039906.py:39: SettingWithCopyWarning: \n",
      "A value is trying to be set on a copy of a slice from a DataFrame.\n",
      "Try using .loc[row_indexer,col_indexer] = value instead\n",
      "\n",
      "See the caveats in the documentation: https://pandas.pydata.org/pandas-docs/stable/user_guide/indexing.html#returning-a-view-versus-a-copy\n",
      "  componentes['seasonal_prophet'] = 0\n",
      " 84%|████████▍ | 659/780 [1:28:16<05:13,  2.59s/it]20:08:29 - cmdstanpy - INFO - Chain [1] start processing\n",
      "20:08:29 - cmdstanpy - INFO - Chain [1] done processing\n",
      "C:\\Users\\waldo\\AppData\\Local\\Temp\\ipykernel_44800\\1165039906.py:39: SettingWithCopyWarning: \n",
      "A value is trying to be set on a copy of a slice from a DataFrame.\n",
      "Try using .loc[row_indexer,col_indexer] = value instead\n",
      "\n",
      "See the caveats in the documentation: https://pandas.pydata.org/pandas-docs/stable/user_guide/indexing.html#returning-a-view-versus-a-copy\n",
      "  componentes['seasonal_prophet'] = 0\n",
      " 85%|████████▍ | 660/780 [1:28:17<04:26,  2.22s/it]20:08:30 - cmdstanpy - INFO - Chain [1] start processing\n",
      "20:08:30 - cmdstanpy - INFO - Chain [1] done processing\n",
      "C:\\Users\\waldo\\AppData\\Local\\Temp\\ipykernel_44800\\1165039906.py:39: SettingWithCopyWarning: \n",
      "A value is trying to be set on a copy of a slice from a DataFrame.\n",
      "Try using .loc[row_indexer,col_indexer] = value instead\n",
      "\n",
      "See the caveats in the documentation: https://pandas.pydata.org/pandas-docs/stable/user_guide/indexing.html#returning-a-view-versus-a-copy\n",
      "  componentes['seasonal_prophet'] = 0\n",
      " 85%|████████▍ | 661/780 [1:28:19<04:26,  2.24s/it]20:08:33 - cmdstanpy - INFO - Chain [1] start processing\n",
      "20:08:33 - cmdstanpy - INFO - Chain [1] done processing\n",
      "C:\\Users\\waldo\\AppData\\Local\\Temp\\ipykernel_44800\\1165039906.py:39: SettingWithCopyWarning: \n",
      "A value is trying to be set on a copy of a slice from a DataFrame.\n",
      "Try using .loc[row_indexer,col_indexer] = value instead\n",
      "\n",
      "See the caveats in the documentation: https://pandas.pydata.org/pandas-docs/stable/user_guide/indexing.html#returning-a-view-versus-a-copy\n",
      "  componentes['seasonal_prophet'] = 0\n",
      " 85%|████████▍ | 662/780 [1:28:20<03:35,  1.82s/it]20:08:33 - cmdstanpy - INFO - Chain [1] start processing\n",
      "20:08:34 - cmdstanpy - INFO - Chain [1] done processing\n",
      "C:\\Users\\waldo\\AppData\\Local\\Temp\\ipykernel_44800\\1165039906.py:39: SettingWithCopyWarning: \n",
      "A value is trying to be set on a copy of a slice from a DataFrame.\n",
      "Try using .loc[row_indexer,col_indexer] = value instead\n",
      "\n",
      "See the caveats in the documentation: https://pandas.pydata.org/pandas-docs/stable/user_guide/indexing.html#returning-a-view-versus-a-copy\n",
      "  componentes['seasonal_prophet'] = 0\n",
      " 85%|████████▌ | 663/780 [1:28:23<04:01,  2.07s/it]20:08:36 - cmdstanpy - INFO - Chain [1] start processing\n",
      "20:08:36 - cmdstanpy - INFO - Chain [1] done processing\n",
      "C:\\Users\\waldo\\AppData\\Local\\Temp\\ipykernel_44800\\1165039906.py:39: SettingWithCopyWarning: \n",
      "A value is trying to be set on a copy of a slice from a DataFrame.\n",
      "Try using .loc[row_indexer,col_indexer] = value instead\n",
      "\n",
      "See the caveats in the documentation: https://pandas.pydata.org/pandas-docs/stable/user_guide/indexing.html#returning-a-view-versus-a-copy\n",
      "  componentes['seasonal_prophet'] = 0\n",
      " 85%|████████▌ | 664/780 [1:28:24<03:25,  1.77s/it]20:08:37 - cmdstanpy - INFO - Chain [1] start processing\n",
      "20:08:37 - cmdstanpy - INFO - Chain [1] done processing\n",
      "C:\\Users\\waldo\\AppData\\Local\\Temp\\ipykernel_44800\\1165039906.py:39: SettingWithCopyWarning: \n",
      "A value is trying to be set on a copy of a slice from a DataFrame.\n",
      "Try using .loc[row_indexer,col_indexer] = value instead\n",
      "\n",
      "See the caveats in the documentation: https://pandas.pydata.org/pandas-docs/stable/user_guide/indexing.html#returning-a-view-versus-a-copy\n",
      "  componentes['seasonal_prophet'] = 0\n",
      " 85%|████████▌ | 665/780 [1:28:28<04:43,  2.46s/it]20:08:41 - cmdstanpy - INFO - Chain [1] start processing\n",
      "20:08:41 - cmdstanpy - INFO - Chain [1] done processing\n",
      "C:\\Users\\waldo\\AppData\\Local\\Temp\\ipykernel_44800\\1165039906.py:39: SettingWithCopyWarning: \n",
      "A value is trying to be set on a copy of a slice from a DataFrame.\n",
      "Try using .loc[row_indexer,col_indexer] = value instead\n",
      "\n",
      "See the caveats in the documentation: https://pandas.pydata.org/pandas-docs/stable/user_guide/indexing.html#returning-a-view-versus-a-copy\n",
      "  componentes['seasonal_prophet'] = 0\n",
      " 85%|████████▌ | 666/780 [1:28:30<04:10,  2.20s/it]20:08:43 - cmdstanpy - INFO - Chain [1] start processing\n",
      "20:08:43 - cmdstanpy - INFO - Chain [1] done processing\n",
      "C:\\Users\\waldo\\AppData\\Local\\Temp\\ipykernel_44800\\1165039906.py:39: SettingWithCopyWarning: \n",
      "A value is trying to be set on a copy of a slice from a DataFrame.\n",
      "Try using .loc[row_indexer,col_indexer] = value instead\n",
      "\n",
      "See the caveats in the documentation: https://pandas.pydata.org/pandas-docs/stable/user_guide/indexing.html#returning-a-view-versus-a-copy\n",
      "  componentes['seasonal_prophet'] = 0\n",
      " 86%|████████▌ | 667/780 [1:28:32<04:12,  2.23s/it]20:08:45 - cmdstanpy - INFO - Chain [1] start processing\n",
      "20:08:45 - cmdstanpy - INFO - Chain [1] done processing\n",
      "C:\\Users\\waldo\\AppData\\Local\\Temp\\ipykernel_44800\\1165039906.py:39: SettingWithCopyWarning: \n",
      "A value is trying to be set on a copy of a slice from a DataFrame.\n",
      "Try using .loc[row_indexer,col_indexer] = value instead\n",
      "\n",
      "See the caveats in the documentation: https://pandas.pydata.org/pandas-docs/stable/user_guide/indexing.html#returning-a-view-versus-a-copy\n",
      "  componentes['seasonal_prophet'] = 0\n",
      " 86%|████████▌ | 668/780 [1:28:36<05:05,  2.73s/it]20:08:49 - cmdstanpy - INFO - Chain [1] start processing\n",
      "20:08:49 - cmdstanpy - INFO - Chain [1] done processing\n",
      "C:\\Users\\waldo\\AppData\\Local\\Temp\\ipykernel_44800\\1165039906.py:39: SettingWithCopyWarning: \n",
      "A value is trying to be set on a copy of a slice from a DataFrame.\n",
      "Try using .loc[row_indexer,col_indexer] = value instead\n",
      "\n",
      "See the caveats in the documentation: https://pandas.pydata.org/pandas-docs/stable/user_guide/indexing.html#returning-a-view-versus-a-copy\n",
      "  componentes['seasonal_prophet'] = 0\n",
      " 86%|████████▌ | 669/780 [1:28:37<03:57,  2.14s/it]20:08:50 - cmdstanpy - INFO - Chain [1] start processing\n",
      "20:08:50 - cmdstanpy - INFO - Chain [1] done processing\n",
      "C:\\Users\\waldo\\AppData\\Local\\Temp\\ipykernel_44800\\1165039906.py:39: SettingWithCopyWarning: \n",
      "A value is trying to be set on a copy of a slice from a DataFrame.\n",
      "Try using .loc[row_indexer,col_indexer] = value instead\n",
      "\n",
      "See the caveats in the documentation: https://pandas.pydata.org/pandas-docs/stable/user_guide/indexing.html#returning-a-view-versus-a-copy\n",
      "  componentes['seasonal_prophet'] = 0\n",
      " 86%|████████▌ | 670/780 [1:28:38<03:28,  1.89s/it]20:08:51 - cmdstanpy - INFO - Chain [1] start processing\n",
      "20:08:51 - cmdstanpy - INFO - Chain [1] done processing\n",
      "C:\\Users\\waldo\\AppData\\Local\\Temp\\ipykernel_44800\\1165039906.py:39: SettingWithCopyWarning: \n",
      "A value is trying to be set on a copy of a slice from a DataFrame.\n",
      "Try using .loc[row_indexer,col_indexer] = value instead\n",
      "\n",
      "See the caveats in the documentation: https://pandas.pydata.org/pandas-docs/stable/user_guide/indexing.html#returning-a-view-versus-a-copy\n",
      "  componentes['seasonal_prophet'] = 0\n",
      " 86%|████████▌ | 671/780 [1:28:39<03:15,  1.80s/it]20:08:53 - cmdstanpy - INFO - Chain [1] start processing\n",
      "20:08:53 - cmdstanpy - INFO - Chain [1] done processing\n",
      "C:\\Users\\waldo\\AppData\\Local\\Temp\\ipykernel_44800\\1165039906.py:39: SettingWithCopyWarning: \n",
      "A value is trying to be set on a copy of a slice from a DataFrame.\n",
      "Try using .loc[row_indexer,col_indexer] = value instead\n",
      "\n",
      "See the caveats in the documentation: https://pandas.pydata.org/pandas-docs/stable/user_guide/indexing.html#returning-a-view-versus-a-copy\n",
      "  componentes['seasonal_prophet'] = 0\n",
      " 86%|████████▌ | 672/780 [1:28:42<03:31,  1.96s/it]20:08:55 - cmdstanpy - INFO - Chain [1] start processing\n",
      "20:08:55 - cmdstanpy - INFO - Chain [1] done processing\n",
      "C:\\Users\\waldo\\AppData\\Local\\Temp\\ipykernel_44800\\1165039906.py:39: SettingWithCopyWarning: \n",
      "A value is trying to be set on a copy of a slice from a DataFrame.\n",
      "Try using .loc[row_indexer,col_indexer] = value instead\n",
      "\n",
      "See the caveats in the documentation: https://pandas.pydata.org/pandas-docs/stable/user_guide/indexing.html#returning-a-view-versus-a-copy\n",
      "  componentes['seasonal_prophet'] = 0\n",
      " 86%|████████▋ | 673/780 [1:28:43<02:56,  1.65s/it]20:08:56 - cmdstanpy - INFO - Chain [1] start processing\n",
      "20:08:56 - cmdstanpy - INFO - Chain [1] done processing\n",
      "C:\\Users\\waldo\\AppData\\Local\\Temp\\ipykernel_44800\\1165039906.py:39: SettingWithCopyWarning: \n",
      "A value is trying to be set on a copy of a slice from a DataFrame.\n",
      "Try using .loc[row_indexer,col_indexer] = value instead\n",
      "\n",
      "See the caveats in the documentation: https://pandas.pydata.org/pandas-docs/stable/user_guide/indexing.html#returning-a-view-versus-a-copy\n",
      "  componentes['seasonal_prophet'] = 0\n",
      " 86%|████████▋ | 674/780 [1:28:46<03:52,  2.20s/it]20:08:59 - cmdstanpy - INFO - Chain [1] start processing\n",
      "20:08:59 - cmdstanpy - INFO - Chain [1] done processing\n",
      "C:\\Users\\waldo\\AppData\\Local\\Temp\\ipykernel_44800\\1165039906.py:39: SettingWithCopyWarning: \n",
      "A value is trying to be set on a copy of a slice from a DataFrame.\n",
      "Try using .loc[row_indexer,col_indexer] = value instead\n",
      "\n",
      "See the caveats in the documentation: https://pandas.pydata.org/pandas-docs/stable/user_guide/indexing.html#returning-a-view-versus-a-copy\n",
      "  componentes['seasonal_prophet'] = 0\n",
      " 87%|████████▋ | 675/780 [1:28:48<03:33,  2.03s/it]20:09:01 - cmdstanpy - INFO - Chain [1] start processing\n",
      "20:09:01 - cmdstanpy - INFO - Chain [1] done processing\n",
      "C:\\Users\\waldo\\AppData\\Local\\Temp\\ipykernel_44800\\1165039906.py:39: SettingWithCopyWarning: \n",
      "A value is trying to be set on a copy of a slice from a DataFrame.\n",
      "Try using .loc[row_indexer,col_indexer] = value instead\n",
      "\n",
      "See the caveats in the documentation: https://pandas.pydata.org/pandas-docs/stable/user_guide/indexing.html#returning-a-view-versus-a-copy\n",
      "  componentes['seasonal_prophet'] = 0\n",
      " 87%|████████▋ | 676/780 [1:28:49<03:08,  1.82s/it]20:09:02 - cmdstanpy - INFO - Chain [1] start processing\n",
      "20:09:03 - cmdstanpy - INFO - Chain [1] done processing\n",
      "C:\\Users\\waldo\\AppData\\Local\\Temp\\ipykernel_44800\\1165039906.py:39: SettingWithCopyWarning: \n",
      "A value is trying to be set on a copy of a slice from a DataFrame.\n",
      "Try using .loc[row_indexer,col_indexer] = value instead\n",
      "\n",
      "See the caveats in the documentation: https://pandas.pydata.org/pandas-docs/stable/user_guide/indexing.html#returning-a-view-versus-a-copy\n",
      "  componentes['seasonal_prophet'] = 0\n",
      " 87%|████████▋ | 677/780 [1:28:53<04:00,  2.33s/it]20:09:06 - cmdstanpy - INFO - Chain [1] start processing\n",
      "20:09:06 - cmdstanpy - INFO - Chain [1] done processing\n",
      "C:\\Users\\waldo\\AppData\\Local\\Temp\\ipykernel_44800\\1165039906.py:39: SettingWithCopyWarning: \n",
      "A value is trying to be set on a copy of a slice from a DataFrame.\n",
      "Try using .loc[row_indexer,col_indexer] = value instead\n",
      "\n",
      "See the caveats in the documentation: https://pandas.pydata.org/pandas-docs/stable/user_guide/indexing.html#returning-a-view-versus-a-copy\n",
      "  componentes['seasonal_prophet'] = 0\n",
      " 87%|████████▋ | 678/780 [1:28:54<03:22,  1.98s/it]20:09:07 - cmdstanpy - INFO - Chain [1] start processing\n",
      "20:09:07 - cmdstanpy - INFO - Chain [1] done processing\n",
      "C:\\Users\\waldo\\AppData\\Local\\Temp\\ipykernel_44800\\1165039906.py:39: SettingWithCopyWarning: \n",
      "A value is trying to be set on a copy of a slice from a DataFrame.\n",
      "Try using .loc[row_indexer,col_indexer] = value instead\n",
      "\n",
      "See the caveats in the documentation: https://pandas.pydata.org/pandas-docs/stable/user_guide/indexing.html#returning-a-view-versus-a-copy\n",
      "  componentes['seasonal_prophet'] = 0\n",
      " 87%|████████▋ | 679/780 [1:28:55<02:51,  1.70s/it]20:09:08 - cmdstanpy - INFO - Chain [1] start processing\n",
      "20:09:08 - cmdstanpy - INFO - Chain [1] done processing\n",
      "C:\\Users\\waldo\\AppData\\Local\\Temp\\ipykernel_44800\\1165039906.py:39: SettingWithCopyWarning: \n",
      "A value is trying to be set on a copy of a slice from a DataFrame.\n",
      "Try using .loc[row_indexer,col_indexer] = value instead\n",
      "\n",
      "See the caveats in the documentation: https://pandas.pydata.org/pandas-docs/stable/user_guide/indexing.html#returning-a-view-versus-a-copy\n",
      "  componentes['seasonal_prophet'] = 0\n",
      " 87%|████████▋ | 680/780 [1:28:59<03:55,  2.36s/it]20:09:12 - cmdstanpy - INFO - Chain [1] start processing\n",
      "20:09:12 - cmdstanpy - INFO - Chain [1] done processing\n",
      "C:\\Users\\waldo\\AppData\\Local\\Temp\\ipykernel_44800\\1165039906.py:39: SettingWithCopyWarning: \n",
      "A value is trying to be set on a copy of a slice from a DataFrame.\n",
      "Try using .loc[row_indexer,col_indexer] = value instead\n",
      "\n",
      "See the caveats in the documentation: https://pandas.pydata.org/pandas-docs/stable/user_guide/indexing.html#returning-a-view-versus-a-copy\n",
      "  componentes['seasonal_prophet'] = 0\n",
      " 87%|████████▋ | 681/780 [1:29:03<04:41,  2.85s/it]20:09:16 - cmdstanpy - INFO - Chain [1] start processing\n",
      "20:09:16 - cmdstanpy - INFO - Chain [1] done processing\n",
      "C:\\Users\\waldo\\AppData\\Local\\Temp\\ipykernel_44800\\1165039906.py:39: SettingWithCopyWarning: \n",
      "A value is trying to be set on a copy of a slice from a DataFrame.\n",
      "Try using .loc[row_indexer,col_indexer] = value instead\n",
      "\n",
      "See the caveats in the documentation: https://pandas.pydata.org/pandas-docs/stable/user_guide/indexing.html#returning-a-view-versus-a-copy\n",
      "  componentes['seasonal_prophet'] = 0\n",
      " 87%|████████▋ | 682/780 [1:29:05<04:24,  2.70s/it]20:09:18 - cmdstanpy - INFO - Chain [1] start processing\n",
      "20:09:18 - cmdstanpy - INFO - Chain [1] done processing\n",
      "C:\\Users\\waldo\\AppData\\Local\\Temp\\ipykernel_44800\\1165039906.py:39: SettingWithCopyWarning: \n",
      "A value is trying to be set on a copy of a slice from a DataFrame.\n",
      "Try using .loc[row_indexer,col_indexer] = value instead\n",
      "\n",
      "See the caveats in the documentation: https://pandas.pydata.org/pandas-docs/stable/user_guide/indexing.html#returning-a-view-versus-a-copy\n",
      "  componentes['seasonal_prophet'] = 0\n",
      " 88%|████████▊ | 683/780 [1:29:07<03:44,  2.31s/it]20:09:20 - cmdstanpy - INFO - Chain [1] start processing\n",
      "20:09:20 - cmdstanpy - INFO - Chain [1] done processing\n",
      "C:\\Users\\waldo\\AppData\\Local\\Temp\\ipykernel_44800\\1165039906.py:39: SettingWithCopyWarning: \n",
      "A value is trying to be set on a copy of a slice from a DataFrame.\n",
      "Try using .loc[row_indexer,col_indexer] = value instead\n",
      "\n",
      "See the caveats in the documentation: https://pandas.pydata.org/pandas-docs/stable/user_guide/indexing.html#returning-a-view-versus-a-copy\n",
      "  componentes['seasonal_prophet'] = 0\n",
      " 88%|████████▊ | 684/780 [1:29:09<03:35,  2.24s/it]20:09:22 - cmdstanpy - INFO - Chain [1] start processing\n",
      "20:09:22 - cmdstanpy - INFO - Chain [1] done processing\n",
      "C:\\Users\\waldo\\AppData\\Local\\Temp\\ipykernel_44800\\1165039906.py:39: SettingWithCopyWarning: \n",
      "A value is trying to be set on a copy of a slice from a DataFrame.\n",
      "Try using .loc[row_indexer,col_indexer] = value instead\n",
      "\n",
      "See the caveats in the documentation: https://pandas.pydata.org/pandas-docs/stable/user_guide/indexing.html#returning-a-view-versus-a-copy\n",
      "  componentes['seasonal_prophet'] = 0\n",
      " 88%|████████▊ | 685/780 [1:29:12<03:59,  2.52s/it]20:09:25 - cmdstanpy - INFO - Chain [1] start processing\n",
      "20:09:25 - cmdstanpy - INFO - Chain [1] done processing\n",
      "C:\\Users\\waldo\\AppData\\Local\\Temp\\ipykernel_44800\\1165039906.py:39: SettingWithCopyWarning: \n",
      "A value is trying to be set on a copy of a slice from a DataFrame.\n",
      "Try using .loc[row_indexer,col_indexer] = value instead\n",
      "\n",
      "See the caveats in the documentation: https://pandas.pydata.org/pandas-docs/stable/user_guide/indexing.html#returning-a-view-versus-a-copy\n",
      "  componentes['seasonal_prophet'] = 0\n",
      " 88%|████████▊ | 686/780 [1:29:15<04:06,  2.62s/it]20:09:28 - cmdstanpy - INFO - Chain [1] start processing\n",
      "20:09:28 - cmdstanpy - INFO - Chain [1] done processing\n",
      "C:\\Users\\waldo\\AppData\\Local\\Temp\\ipykernel_44800\\1165039906.py:39: SettingWithCopyWarning: \n",
      "A value is trying to be set on a copy of a slice from a DataFrame.\n",
      "Try using .loc[row_indexer,col_indexer] = value instead\n",
      "\n",
      "See the caveats in the documentation: https://pandas.pydata.org/pandas-docs/stable/user_guide/indexing.html#returning-a-view-versus-a-copy\n",
      "  componentes['seasonal_prophet'] = 0\n",
      " 88%|████████▊ | 687/780 [1:29:19<04:39,  3.00s/it]20:09:32 - cmdstanpy - INFO - Chain [1] start processing\n",
      "20:09:32 - cmdstanpy - INFO - Chain [1] done processing\n",
      "C:\\Users\\waldo\\AppData\\Local\\Temp\\ipykernel_44800\\1165039906.py:39: SettingWithCopyWarning: \n",
      "A value is trying to be set on a copy of a slice from a DataFrame.\n",
      "Try using .loc[row_indexer,col_indexer] = value instead\n",
      "\n",
      "See the caveats in the documentation: https://pandas.pydata.org/pandas-docs/stable/user_guide/indexing.html#returning-a-view-versus-a-copy\n",
      "  componentes['seasonal_prophet'] = 0\n",
      " 88%|████████▊ | 688/780 [1:29:20<03:59,  2.61s/it]20:09:33 - cmdstanpy - INFO - Chain [1] start processing\n",
      "20:09:34 - cmdstanpy - INFO - Chain [1] done processing\n",
      "C:\\Users\\waldo\\AppData\\Local\\Temp\\ipykernel_44800\\1165039906.py:39: SettingWithCopyWarning: \n",
      "A value is trying to be set on a copy of a slice from a DataFrame.\n",
      "Try using .loc[row_indexer,col_indexer] = value instead\n",
      "\n",
      "See the caveats in the documentation: https://pandas.pydata.org/pandas-docs/stable/user_guide/indexing.html#returning-a-view-versus-a-copy\n",
      "  componentes['seasonal_prophet'] = 0\n",
      " 88%|████████▊ | 689/780 [1:29:22<03:42,  2.44s/it]20:09:35 - cmdstanpy - INFO - Chain [1] start processing\n",
      "20:09:35 - cmdstanpy - INFO - Chain [1] done processing\n",
      "C:\\Users\\waldo\\AppData\\Local\\Temp\\ipykernel_44800\\1165039906.py:39: SettingWithCopyWarning: \n",
      "A value is trying to be set on a copy of a slice from a DataFrame.\n",
      "Try using .loc[row_indexer,col_indexer] = value instead\n",
      "\n",
      "See the caveats in the documentation: https://pandas.pydata.org/pandas-docs/stable/user_guide/indexing.html#returning-a-view-versus-a-copy\n",
      "  componentes['seasonal_prophet'] = 0\n",
      " 88%|████████▊ | 690/780 [1:29:23<03:04,  2.06s/it]20:09:37 - cmdstanpy - INFO - Chain [1] start processing\n",
      "20:09:37 - cmdstanpy - INFO - Chain [1] done processing\n",
      "C:\\Users\\waldo\\AppData\\Local\\Temp\\ipykernel_44800\\1165039906.py:39: SettingWithCopyWarning: \n",
      "A value is trying to be set on a copy of a slice from a DataFrame.\n",
      "Try using .loc[row_indexer,col_indexer] = value instead\n",
      "\n",
      "See the caveats in the documentation: https://pandas.pydata.org/pandas-docs/stable/user_guide/indexing.html#returning-a-view-versus-a-copy\n",
      "  componentes['seasonal_prophet'] = 0\n",
      " 89%|████████▊ | 691/780 [1:29:25<02:41,  1.81s/it]20:09:38 - cmdstanpy - INFO - Chain [1] start processing\n",
      "20:09:38 - cmdstanpy - INFO - Chain [1] done processing\n",
      "C:\\Users\\waldo\\AppData\\Local\\Temp\\ipykernel_44800\\1165039906.py:39: SettingWithCopyWarning: \n",
      "A value is trying to be set on a copy of a slice from a DataFrame.\n",
      "Try using .loc[row_indexer,col_indexer] = value instead\n",
      "\n",
      "See the caveats in the documentation: https://pandas.pydata.org/pandas-docs/stable/user_guide/indexing.html#returning-a-view-versus-a-copy\n",
      "  componentes['seasonal_prophet'] = 0\n",
      " 89%|████████▊ | 692/780 [1:29:27<02:48,  1.92s/it]20:09:40 - cmdstanpy - INFO - Chain [1] start processing\n",
      "20:09:40 - cmdstanpy - INFO - Chain [1] done processing\n",
      "C:\\Users\\waldo\\AppData\\Local\\Temp\\ipykernel_44800\\1165039906.py:39: SettingWithCopyWarning: \n",
      "A value is trying to be set on a copy of a slice from a DataFrame.\n",
      "Try using .loc[row_indexer,col_indexer] = value instead\n",
      "\n",
      "See the caveats in the documentation: https://pandas.pydata.org/pandas-docs/stable/user_guide/indexing.html#returning-a-view-versus-a-copy\n",
      "  componentes['seasonal_prophet'] = 0\n",
      " 89%|████████▉ | 693/780 [1:29:28<02:21,  1.63s/it]20:09:41 - cmdstanpy - INFO - Chain [1] start processing\n",
      "20:09:41 - cmdstanpy - INFO - Chain [1] done processing\n",
      "C:\\Users\\waldo\\AppData\\Local\\Temp\\ipykernel_44800\\1165039906.py:39: SettingWithCopyWarning: \n",
      "A value is trying to be set on a copy of a slice from a DataFrame.\n",
      "Try using .loc[row_indexer,col_indexer] = value instead\n",
      "\n",
      "See the caveats in the documentation: https://pandas.pydata.org/pandas-docs/stable/user_guide/indexing.html#returning-a-view-versus-a-copy\n",
      "  componentes['seasonal_prophet'] = 0\n",
      " 89%|████████▉ | 694/780 [1:29:30<02:34,  1.80s/it]20:09:43 - cmdstanpy - INFO - Chain [1] start processing\n",
      "20:09:43 - cmdstanpy - INFO - Chain [1] done processing\n",
      "C:\\Users\\waldo\\AppData\\Local\\Temp\\ipykernel_44800\\1165039906.py:39: SettingWithCopyWarning: \n",
      "A value is trying to be set on a copy of a slice from a DataFrame.\n",
      "Try using .loc[row_indexer,col_indexer] = value instead\n",
      "\n",
      "See the caveats in the documentation: https://pandas.pydata.org/pandas-docs/stable/user_guide/indexing.html#returning-a-view-versus-a-copy\n",
      "  componentes['seasonal_prophet'] = 0\n",
      " 89%|████████▉ | 695/780 [1:29:31<02:21,  1.66s/it]20:09:44 - cmdstanpy - INFO - Chain [1] start processing\n",
      "20:09:45 - cmdstanpy - INFO - Chain [1] done processing\n",
      "C:\\Users\\waldo\\AppData\\Local\\Temp\\ipykernel_44800\\1165039906.py:39: SettingWithCopyWarning: \n",
      "A value is trying to be set on a copy of a slice from a DataFrame.\n",
      "Try using .loc[row_indexer,col_indexer] = value instead\n",
      "\n",
      "See the caveats in the documentation: https://pandas.pydata.org/pandas-docs/stable/user_guide/indexing.html#returning-a-view-versus-a-copy\n",
      "  componentes['seasonal_prophet'] = 0\n",
      " 89%|████████▉ | 696/780 [1:29:33<02:12,  1.58s/it]20:09:46 - cmdstanpy - INFO - Chain [1] start processing\n",
      "20:09:46 - cmdstanpy - INFO - Chain [1] done processing\n",
      "C:\\Users\\waldo\\AppData\\Local\\Temp\\ipykernel_44800\\1165039906.py:39: SettingWithCopyWarning: \n",
      "A value is trying to be set on a copy of a slice from a DataFrame.\n",
      "Try using .loc[row_indexer,col_indexer] = value instead\n",
      "\n",
      "See the caveats in the documentation: https://pandas.pydata.org/pandas-docs/stable/user_guide/indexing.html#returning-a-view-versus-a-copy\n",
      "  componentes['seasonal_prophet'] = 0\n",
      " 89%|████████▉ | 697/780 [1:29:36<02:43,  1.97s/it]20:09:49 - cmdstanpy - INFO - Chain [1] start processing\n",
      "20:09:49 - cmdstanpy - INFO - Chain [1] done processing\n",
      "C:\\Users\\waldo\\AppData\\Local\\Temp\\ipykernel_44800\\1165039906.py:39: SettingWithCopyWarning: \n",
      "A value is trying to be set on a copy of a slice from a DataFrame.\n",
      "Try using .loc[row_indexer,col_indexer] = value instead\n",
      "\n",
      "See the caveats in the documentation: https://pandas.pydata.org/pandas-docs/stable/user_guide/indexing.html#returning-a-view-versus-a-copy\n",
      "  componentes['seasonal_prophet'] = 0\n",
      " 89%|████████▉ | 698/780 [1:29:38<02:41,  1.97s/it]20:09:51 - cmdstanpy - INFO - Chain [1] start processing\n",
      "20:09:51 - cmdstanpy - INFO - Chain [1] done processing\n",
      "C:\\Users\\waldo\\AppData\\Local\\Temp\\ipykernel_44800\\1165039906.py:39: SettingWithCopyWarning: \n",
      "A value is trying to be set on a copy of a slice from a DataFrame.\n",
      "Try using .loc[row_indexer,col_indexer] = value instead\n",
      "\n",
      "See the caveats in the documentation: https://pandas.pydata.org/pandas-docs/stable/user_guide/indexing.html#returning-a-view-versus-a-copy\n",
      "  componentes['seasonal_prophet'] = 0\n",
      " 90%|████████▉ | 699/780 [1:29:40<02:52,  2.13s/it]20:09:53 - cmdstanpy - INFO - Chain [1] start processing\n",
      "20:09:53 - cmdstanpy - INFO - Chain [1] done processing\n",
      "C:\\Users\\waldo\\AppData\\Local\\Temp\\ipykernel_44800\\1165039906.py:39: SettingWithCopyWarning: \n",
      "A value is trying to be set on a copy of a slice from a DataFrame.\n",
      "Try using .loc[row_indexer,col_indexer] = value instead\n",
      "\n",
      "See the caveats in the documentation: https://pandas.pydata.org/pandas-docs/stable/user_guide/indexing.html#returning-a-view-versus-a-copy\n",
      "  componentes['seasonal_prophet'] = 0\n",
      " 90%|████████▉ | 700/780 [1:29:41<02:29,  1.87s/it]20:09:55 - cmdstanpy - INFO - Chain [1] start processing\n",
      "20:09:55 - cmdstanpy - INFO - Chain [1] done processing\n",
      "C:\\Users\\waldo\\AppData\\Local\\Temp\\ipykernel_44800\\1165039906.py:39: SettingWithCopyWarning: \n",
      "A value is trying to be set on a copy of a slice from a DataFrame.\n",
      "Try using .loc[row_indexer,col_indexer] = value instead\n",
      "\n",
      "See the caveats in the documentation: https://pandas.pydata.org/pandas-docs/stable/user_guide/indexing.html#returning-a-view-versus-a-copy\n",
      "  componentes['seasonal_prophet'] = 0\n",
      " 90%|████████▉ | 701/780 [1:29:44<02:44,  2.09s/it]20:09:57 - cmdstanpy - INFO - Chain [1] start processing\n",
      "20:09:57 - cmdstanpy - INFO - Chain [1] done processing\n",
      "C:\\Users\\waldo\\AppData\\Local\\Temp\\ipykernel_44800\\1165039906.py:39: SettingWithCopyWarning: \n",
      "A value is trying to be set on a copy of a slice from a DataFrame.\n",
      "Try using .loc[row_indexer,col_indexer] = value instead\n",
      "\n",
      "See the caveats in the documentation: https://pandas.pydata.org/pandas-docs/stable/user_guide/indexing.html#returning-a-view-versus-a-copy\n",
      "  componentes['seasonal_prophet'] = 0\n",
      " 90%|█████████ | 702/780 [1:29:45<02:19,  1.79s/it]20:09:58 - cmdstanpy - INFO - Chain [1] start processing\n",
      "20:09:58 - cmdstanpy - INFO - Chain [1] done processing\n",
      "C:\\Users\\waldo\\AppData\\Local\\Temp\\ipykernel_44800\\1165039906.py:39: SettingWithCopyWarning: \n",
      "A value is trying to be set on a copy of a slice from a DataFrame.\n",
      "Try using .loc[row_indexer,col_indexer] = value instead\n",
      "\n",
      "See the caveats in the documentation: https://pandas.pydata.org/pandas-docs/stable/user_guide/indexing.html#returning-a-view-versus-a-copy\n",
      "  componentes['seasonal_prophet'] = 0\n",
      " 90%|█████████ | 703/780 [1:29:46<02:01,  1.57s/it]20:09:59 - cmdstanpy - INFO - Chain [1] start processing\n",
      "20:09:59 - cmdstanpy - INFO - Chain [1] done processing\n",
      "C:\\Users\\waldo\\AppData\\Local\\Temp\\ipykernel_44800\\1165039906.py:39: SettingWithCopyWarning: \n",
      "A value is trying to be set on a copy of a slice from a DataFrame.\n",
      "Try using .loc[row_indexer,col_indexer] = value instead\n",
      "\n",
      "See the caveats in the documentation: https://pandas.pydata.org/pandas-docs/stable/user_guide/indexing.html#returning-a-view-versus-a-copy\n",
      "  componentes['seasonal_prophet'] = 0\n",
      " 90%|█████████ | 704/780 [1:29:47<01:48,  1.43s/it]20:10:00 - cmdstanpy - INFO - Chain [1] start processing\n",
      "20:10:00 - cmdstanpy - INFO - Chain [1] done processing\n",
      "C:\\Users\\waldo\\AppData\\Local\\Temp\\ipykernel_44800\\1165039906.py:39: SettingWithCopyWarning: \n",
      "A value is trying to be set on a copy of a slice from a DataFrame.\n",
      "Try using .loc[row_indexer,col_indexer] = value instead\n",
      "\n",
      "See the caveats in the documentation: https://pandas.pydata.org/pandas-docs/stable/user_guide/indexing.html#returning-a-view-versus-a-copy\n",
      "  componentes['seasonal_prophet'] = 0\n",
      " 90%|█████████ | 705/780 [1:29:49<01:46,  1.42s/it]20:10:02 - cmdstanpy - INFO - Chain [1] start processing\n",
      "20:10:02 - cmdstanpy - INFO - Chain [1] done processing\n",
      "C:\\Users\\waldo\\AppData\\Local\\Temp\\ipykernel_44800\\1165039906.py:39: SettingWithCopyWarning: \n",
      "A value is trying to be set on a copy of a slice from a DataFrame.\n",
      "Try using .loc[row_indexer,col_indexer] = value instead\n",
      "\n",
      "See the caveats in the documentation: https://pandas.pydata.org/pandas-docs/stable/user_guide/indexing.html#returning-a-view-versus-a-copy\n",
      "  componentes['seasonal_prophet'] = 0\n",
      " 91%|█████████ | 706/780 [1:29:49<01:31,  1.24s/it]20:10:03 - cmdstanpy - INFO - Chain [1] start processing\n",
      "20:10:03 - cmdstanpy - INFO - Chain [1] done processing\n",
      "C:\\Users\\waldo\\AppData\\Local\\Temp\\ipykernel_44800\\1165039906.py:39: SettingWithCopyWarning: \n",
      "A value is trying to be set on a copy of a slice from a DataFrame.\n",
      "Try using .loc[row_indexer,col_indexer] = value instead\n",
      "\n",
      "See the caveats in the documentation: https://pandas.pydata.org/pandas-docs/stable/user_guide/indexing.html#returning-a-view-versus-a-copy\n",
      "  componentes['seasonal_prophet'] = 0\n",
      " 91%|█████████ | 707/780 [1:29:51<01:40,  1.38s/it]20:10:04 - cmdstanpy - INFO - Chain [1] start processing\n",
      "20:10:05 - cmdstanpy - INFO - Chain [1] done processing\n",
      "C:\\Users\\waldo\\AppData\\Local\\Temp\\ipykernel_44800\\1165039906.py:39: SettingWithCopyWarning: \n",
      "A value is trying to be set on a copy of a slice from a DataFrame.\n",
      "Try using .loc[row_indexer,col_indexer] = value instead\n",
      "\n",
      "See the caveats in the documentation: https://pandas.pydata.org/pandas-docs/stable/user_guide/indexing.html#returning-a-view-versus-a-copy\n",
      "  componentes['seasonal_prophet'] = 0\n",
      " 91%|█████████ | 708/780 [1:29:52<01:39,  1.38s/it]20:10:06 - cmdstanpy - INFO - Chain [1] start processing\n",
      "20:10:06 - cmdstanpy - INFO - Chain [1] done processing\n",
      "C:\\Users\\waldo\\AppData\\Local\\Temp\\ipykernel_44800\\1165039906.py:39: SettingWithCopyWarning: \n",
      "A value is trying to be set on a copy of a slice from a DataFrame.\n",
      "Try using .loc[row_indexer,col_indexer] = value instead\n",
      "\n",
      "See the caveats in the documentation: https://pandas.pydata.org/pandas-docs/stable/user_guide/indexing.html#returning-a-view-versus-a-copy\n",
      "  componentes['seasonal_prophet'] = 0\n",
      " 91%|█████████ | 709/780 [1:29:55<02:04,  1.75s/it]20:10:08 - cmdstanpy - INFO - Chain [1] start processing\n",
      "20:10:08 - cmdstanpy - INFO - Chain [1] done processing\n",
      "C:\\Users\\waldo\\AppData\\Local\\Temp\\ipykernel_44800\\1165039906.py:39: SettingWithCopyWarning: \n",
      "A value is trying to be set on a copy of a slice from a DataFrame.\n",
      "Try using .loc[row_indexer,col_indexer] = value instead\n",
      "\n",
      "See the caveats in the documentation: https://pandas.pydata.org/pandas-docs/stable/user_guide/indexing.html#returning-a-view-versus-a-copy\n",
      "  componentes['seasonal_prophet'] = 0\n",
      " 91%|█████████ | 710/780 [1:29:57<01:58,  1.69s/it]20:10:10 - cmdstanpy - INFO - Chain [1] start processing\n",
      "20:10:10 - cmdstanpy - INFO - Chain [1] done processing\n",
      "C:\\Users\\waldo\\AppData\\Local\\Temp\\ipykernel_44800\\1165039906.py:39: SettingWithCopyWarning: \n",
      "A value is trying to be set on a copy of a slice from a DataFrame.\n",
      "Try using .loc[row_indexer,col_indexer] = value instead\n",
      "\n",
      "See the caveats in the documentation: https://pandas.pydata.org/pandas-docs/stable/user_guide/indexing.html#returning-a-view-versus-a-copy\n",
      "  componentes['seasonal_prophet'] = 0\n",
      " 91%|█████████ | 711/780 [1:29:58<01:43,  1.50s/it]20:10:11 - cmdstanpy - INFO - Chain [1] start processing\n",
      "20:10:11 - cmdstanpy - INFO - Chain [1] done processing\n",
      "C:\\Users\\waldo\\AppData\\Local\\Temp\\ipykernel_44800\\1165039906.py:39: SettingWithCopyWarning: \n",
      "A value is trying to be set on a copy of a slice from a DataFrame.\n",
      "Try using .loc[row_indexer,col_indexer] = value instead\n",
      "\n",
      "See the caveats in the documentation: https://pandas.pydata.org/pandas-docs/stable/user_guide/indexing.html#returning-a-view-versus-a-copy\n",
      "  componentes['seasonal_prophet'] = 0\n",
      " 91%|█████████▏| 712/780 [1:29:58<01:27,  1.29s/it]20:10:12 - cmdstanpy - INFO - Chain [1] start processing\n",
      "20:10:12 - cmdstanpy - INFO - Chain [1] done processing\n",
      "C:\\Users\\waldo\\AppData\\Local\\Temp\\ipykernel_44800\\1165039906.py:39: SettingWithCopyWarning: \n",
      "A value is trying to be set on a copy of a slice from a DataFrame.\n",
      "Try using .loc[row_indexer,col_indexer] = value instead\n",
      "\n",
      "See the caveats in the documentation: https://pandas.pydata.org/pandas-docs/stable/user_guide/indexing.html#returning-a-view-versus-a-copy\n",
      "  componentes['seasonal_prophet'] = 0\n",
      " 91%|█████████▏| 713/780 [1:30:01<01:55,  1.73s/it]20:10:14 - cmdstanpy - INFO - Chain [1] start processing\n",
      "20:10:15 - cmdstanpy - INFO - Chain [1] done processing\n",
      "C:\\Users\\waldo\\AppData\\Local\\Temp\\ipykernel_44800\\1165039906.py:39: SettingWithCopyWarning: \n",
      "A value is trying to be set on a copy of a slice from a DataFrame.\n",
      "Try using .loc[row_indexer,col_indexer] = value instead\n",
      "\n",
      "See the caveats in the documentation: https://pandas.pydata.org/pandas-docs/stable/user_guide/indexing.html#returning-a-view-versus-a-copy\n",
      "  componentes['seasonal_prophet'] = 0\n",
      " 92%|█████████▏| 714/780 [1:30:03<01:48,  1.65s/it]20:10:16 - cmdstanpy - INFO - Chain [1] start processing\n",
      "20:10:16 - cmdstanpy - INFO - Chain [1] done processing\n",
      "C:\\Users\\waldo\\AppData\\Local\\Temp\\ipykernel_44800\\1165039906.py:39: SettingWithCopyWarning: \n",
      "A value is trying to be set on a copy of a slice from a DataFrame.\n",
      "Try using .loc[row_indexer,col_indexer] = value instead\n",
      "\n",
      "See the caveats in the documentation: https://pandas.pydata.org/pandas-docs/stable/user_guide/indexing.html#returning-a-view-versus-a-copy\n",
      "  componentes['seasonal_prophet'] = 0\n",
      " 92%|█████████▏| 715/780 [1:30:04<01:37,  1.49s/it]20:10:17 - cmdstanpy - INFO - Chain [1] start processing\n",
      "20:10:17 - cmdstanpy - INFO - Chain [1] done processing\n",
      "C:\\Users\\waldo\\AppData\\Local\\Temp\\ipykernel_44800\\1165039906.py:39: SettingWithCopyWarning: \n",
      "A value is trying to be set on a copy of a slice from a DataFrame.\n",
      "Try using .loc[row_indexer,col_indexer] = value instead\n",
      "\n",
      "See the caveats in the documentation: https://pandas.pydata.org/pandas-docs/stable/user_guide/indexing.html#returning-a-view-versus-a-copy\n",
      "  componentes['seasonal_prophet'] = 0\n",
      " 92%|█████████▏| 716/780 [1:30:05<01:25,  1.34s/it]20:10:18 - cmdstanpy - INFO - Chain [1] start processing\n",
      "20:10:18 - cmdstanpy - INFO - Chain [1] done processing\n",
      "C:\\Users\\waldo\\AppData\\Local\\Temp\\ipykernel_44800\\1165039906.py:39: SettingWithCopyWarning: \n",
      "A value is trying to be set on a copy of a slice from a DataFrame.\n",
      "Try using .loc[row_indexer,col_indexer] = value instead\n",
      "\n",
      "See the caveats in the documentation: https://pandas.pydata.org/pandas-docs/stable/user_guide/indexing.html#returning-a-view-versus-a-copy\n",
      "  componentes['seasonal_prophet'] = 0\n",
      " 92%|█████████▏| 717/780 [1:30:06<01:18,  1.25s/it]20:10:19 - cmdstanpy - INFO - Chain [1] start processing\n",
      "20:10:19 - cmdstanpy - INFO - Chain [1] done processing\n",
      "C:\\Users\\waldo\\AppData\\Local\\Temp\\ipykernel_44800\\1165039906.py:39: SettingWithCopyWarning: \n",
      "A value is trying to be set on a copy of a slice from a DataFrame.\n",
      "Try using .loc[row_indexer,col_indexer] = value instead\n",
      "\n",
      "See the caveats in the documentation: https://pandas.pydata.org/pandas-docs/stable/user_guide/indexing.html#returning-a-view-versus-a-copy\n",
      "  componentes['seasonal_prophet'] = 0\n",
      " 92%|█████████▏| 718/780 [1:30:07<01:15,  1.22s/it]20:10:20 - cmdstanpy - INFO - Chain [1] start processing\n",
      "20:10:20 - cmdstanpy - INFO - Chain [1] done processing\n",
      "C:\\Users\\waldo\\AppData\\Local\\Temp\\ipykernel_44800\\1165039906.py:39: SettingWithCopyWarning: \n",
      "A value is trying to be set on a copy of a slice from a DataFrame.\n",
      "Try using .loc[row_indexer,col_indexer] = value instead\n",
      "\n",
      "See the caveats in the documentation: https://pandas.pydata.org/pandas-docs/stable/user_guide/indexing.html#returning-a-view-versus-a-copy\n",
      "  componentes['seasonal_prophet'] = 0\n",
      " 92%|█████████▏| 719/780 [1:30:08<01:11,  1.17s/it]20:10:21 - cmdstanpy - INFO - Chain [1] start processing\n",
      "20:10:21 - cmdstanpy - INFO - Chain [1] done processing\n",
      "C:\\Users\\waldo\\AppData\\Local\\Temp\\ipykernel_44800\\1165039906.py:39: SettingWithCopyWarning: \n",
      "A value is trying to be set on a copy of a slice from a DataFrame.\n",
      "Try using .loc[row_indexer,col_indexer] = value instead\n",
      "\n",
      "See the caveats in the documentation: https://pandas.pydata.org/pandas-docs/stable/user_guide/indexing.html#returning-a-view-versus-a-copy\n",
      "  componentes['seasonal_prophet'] = 0\n",
      " 92%|█████████▏| 720/780 [1:30:09<01:09,  1.15s/it]20:10:22 - cmdstanpy - INFO - Chain [1] start processing\n",
      "20:10:22 - cmdstanpy - INFO - Chain [1] done processing\n",
      "C:\\Users\\waldo\\AppData\\Local\\Temp\\ipykernel_44800\\1165039906.py:39: SettingWithCopyWarning: \n",
      "A value is trying to be set on a copy of a slice from a DataFrame.\n",
      "Try using .loc[row_indexer,col_indexer] = value instead\n",
      "\n",
      "See the caveats in the documentation: https://pandas.pydata.org/pandas-docs/stable/user_guide/indexing.html#returning-a-view-versus-a-copy\n",
      "  componentes['seasonal_prophet'] = 0\n",
      " 92%|█████████▏| 721/780 [1:30:10<01:05,  1.12s/it]20:10:23 - cmdstanpy - INFO - Chain [1] start processing\n",
      "20:10:23 - cmdstanpy - INFO - Chain [1] done processing\n",
      "C:\\Users\\waldo\\AppData\\Local\\Temp\\ipykernel_44800\\1165039906.py:39: SettingWithCopyWarning: \n",
      "A value is trying to be set on a copy of a slice from a DataFrame.\n",
      "Try using .loc[row_indexer,col_indexer] = value instead\n",
      "\n",
      "See the caveats in the documentation: https://pandas.pydata.org/pandas-docs/stable/user_guide/indexing.html#returning-a-view-versus-a-copy\n",
      "  componentes['seasonal_prophet'] = 0\n",
      " 93%|█████████▎| 722/780 [1:30:11<01:05,  1.12s/it]20:10:25 - cmdstanpy - INFO - Chain [1] start processing\n",
      "20:10:25 - cmdstanpy - INFO - Chain [1] done processing\n",
      "C:\\Users\\waldo\\AppData\\Local\\Temp\\ipykernel_44800\\1165039906.py:39: SettingWithCopyWarning: \n",
      "A value is trying to be set on a copy of a slice from a DataFrame.\n",
      "Try using .loc[row_indexer,col_indexer] = value instead\n",
      "\n",
      "See the caveats in the documentation: https://pandas.pydata.org/pandas-docs/stable/user_guide/indexing.html#returning-a-view-versus-a-copy\n",
      "  componentes['seasonal_prophet'] = 0\n",
      " 93%|█████████▎| 723/780 [1:30:12<01:01,  1.08s/it]20:10:26 - cmdstanpy - INFO - Chain [1] start processing\n",
      "20:10:26 - cmdstanpy - INFO - Chain [1] done processing\n",
      "C:\\Users\\waldo\\AppData\\Local\\Temp\\ipykernel_44800\\1165039906.py:39: SettingWithCopyWarning: \n",
      "A value is trying to be set on a copy of a slice from a DataFrame.\n",
      "Try using .loc[row_indexer,col_indexer] = value instead\n",
      "\n",
      "See the caveats in the documentation: https://pandas.pydata.org/pandas-docs/stable/user_guide/indexing.html#returning-a-view-versus-a-copy\n",
      "  componentes['seasonal_prophet'] = 0\n",
      " 93%|█████████▎| 724/780 [1:30:16<01:47,  1.92s/it]20:10:29 - cmdstanpy - INFO - Chain [1] start processing\n",
      "20:10:29 - cmdstanpy - INFO - Chain [1] done processing\n",
      "C:\\Users\\waldo\\AppData\\Local\\Temp\\ipykernel_44800\\1165039906.py:39: SettingWithCopyWarning: \n",
      "A value is trying to be set on a copy of a slice from a DataFrame.\n",
      "Try using .loc[row_indexer,col_indexer] = value instead\n",
      "\n",
      "See the caveats in the documentation: https://pandas.pydata.org/pandas-docs/stable/user_guide/indexing.html#returning-a-view-versus-a-copy\n",
      "  componentes['seasonal_prophet'] = 0\n",
      " 93%|█████████▎| 725/780 [1:30:17<01:32,  1.68s/it]20:10:31 - cmdstanpy - INFO - Chain [1] start processing\n",
      "20:10:31 - cmdstanpy - INFO - Chain [1] done processing\n",
      "C:\\Users\\waldo\\AppData\\Local\\Temp\\ipykernel_44800\\1165039906.py:39: SettingWithCopyWarning: \n",
      "A value is trying to be set on a copy of a slice from a DataFrame.\n",
      "Try using .loc[row_indexer,col_indexer] = value instead\n",
      "\n",
      "See the caveats in the documentation: https://pandas.pydata.org/pandas-docs/stable/user_guide/indexing.html#returning-a-view-versus-a-copy\n",
      "  componentes['seasonal_prophet'] = 0\n",
      " 93%|█████████▎| 726/780 [1:30:19<01:32,  1.71s/it]20:10:32 - cmdstanpy - INFO - Chain [1] start processing\n",
      "20:10:32 - cmdstanpy - INFO - Chain [1] done processing\n",
      "C:\\Users\\waldo\\AppData\\Local\\Temp\\ipykernel_44800\\1165039906.py:39: SettingWithCopyWarning: \n",
      "A value is trying to be set on a copy of a slice from a DataFrame.\n",
      "Try using .loc[row_indexer,col_indexer] = value instead\n",
      "\n",
      "See the caveats in the documentation: https://pandas.pydata.org/pandas-docs/stable/user_guide/indexing.html#returning-a-view-versus-a-copy\n",
      "  componentes['seasonal_prophet'] = 0\n",
      " 93%|█████████▎| 727/780 [1:30:20<01:18,  1.49s/it]20:10:33 - cmdstanpy - INFO - Chain [1] start processing\n",
      "20:10:34 - cmdstanpy - INFO - Chain [1] done processing\n",
      "C:\\Users\\waldo\\AppData\\Local\\Temp\\ipykernel_44800\\1165039906.py:39: SettingWithCopyWarning: \n",
      "A value is trying to be set on a copy of a slice from a DataFrame.\n",
      "Try using .loc[row_indexer,col_indexer] = value instead\n",
      "\n",
      "See the caveats in the documentation: https://pandas.pydata.org/pandas-docs/stable/user_guide/indexing.html#returning-a-view-versus-a-copy\n",
      "  componentes['seasonal_prophet'] = 0\n",
      " 93%|█████████▎| 728/780 [1:30:23<01:43,  1.99s/it]20:10:36 - cmdstanpy - INFO - Chain [1] start processing\n",
      "20:10:36 - cmdstanpy - INFO - Chain [1] done processing\n",
      "C:\\Users\\waldo\\AppData\\Local\\Temp\\ipykernel_44800\\1165039906.py:39: SettingWithCopyWarning: \n",
      "A value is trying to be set on a copy of a slice from a DataFrame.\n",
      "Try using .loc[row_indexer,col_indexer] = value instead\n",
      "\n",
      "See the caveats in the documentation: https://pandas.pydata.org/pandas-docs/stable/user_guide/indexing.html#returning-a-view-versus-a-copy\n",
      "  componentes['seasonal_prophet'] = 0\n",
      " 93%|█████████▎| 729/780 [1:30:24<01:24,  1.66s/it]20:10:37 - cmdstanpy - INFO - Chain [1] start processing\n",
      "20:10:37 - cmdstanpy - INFO - Chain [1] done processing\n",
      "C:\\Users\\waldo\\AppData\\Local\\Temp\\ipykernel_44800\\1165039906.py:39: SettingWithCopyWarning: \n",
      "A value is trying to be set on a copy of a slice from a DataFrame.\n",
      "Try using .loc[row_indexer,col_indexer] = value instead\n",
      "\n",
      "See the caveats in the documentation: https://pandas.pydata.org/pandas-docs/stable/user_guide/indexing.html#returning-a-view-versus-a-copy\n",
      "  componentes['seasonal_prophet'] = 0\n",
      " 94%|█████████▎| 730/780 [1:30:25<01:11,  1.43s/it]20:10:38 - cmdstanpy - INFO - Chain [1] start processing\n",
      "20:10:38 - cmdstanpy - INFO - Chain [1] done processing\n",
      "C:\\Users\\waldo\\AppData\\Local\\Temp\\ipykernel_44800\\1165039906.py:39: SettingWithCopyWarning: \n",
      "A value is trying to be set on a copy of a slice from a DataFrame.\n",
      "Try using .loc[row_indexer,col_indexer] = value instead\n",
      "\n",
      "See the caveats in the documentation: https://pandas.pydata.org/pandas-docs/stable/user_guide/indexing.html#returning-a-view-versus-a-copy\n",
      "  componentes['seasonal_prophet'] = 0\n",
      " 94%|█████████▎| 731/780 [1:30:26<01:01,  1.26s/it]20:10:39 - cmdstanpy - INFO - Chain [1] start processing\n",
      "20:10:39 - cmdstanpy - INFO - Chain [1] done processing\n",
      "C:\\Users\\waldo\\AppData\\Local\\Temp\\ipykernel_44800\\1165039906.py:39: SettingWithCopyWarning: \n",
      "A value is trying to be set on a copy of a slice from a DataFrame.\n",
      "Try using .loc[row_indexer,col_indexer] = value instead\n",
      "\n",
      "See the caveats in the documentation: https://pandas.pydata.org/pandas-docs/stable/user_guide/indexing.html#returning-a-view-versus-a-copy\n",
      "  componentes['seasonal_prophet'] = 0\n",
      " 94%|█████████▍| 732/780 [1:30:27<00:55,  1.15s/it]20:10:40 - cmdstanpy - INFO - Chain [1] start processing\n",
      "20:10:40 - cmdstanpy - INFO - Chain [1] done processing\n",
      "C:\\Users\\waldo\\AppData\\Local\\Temp\\ipykernel_44800\\1165039906.py:39: SettingWithCopyWarning: \n",
      "A value is trying to be set on a copy of a slice from a DataFrame.\n",
      "Try using .loc[row_indexer,col_indexer] = value instead\n",
      "\n",
      "See the caveats in the documentation: https://pandas.pydata.org/pandas-docs/stable/user_guide/indexing.html#returning-a-view-versus-a-copy\n",
      "  componentes['seasonal_prophet'] = 0\n",
      " 94%|█████████▍| 733/780 [1:30:28<00:50,  1.06s/it]20:10:41 - cmdstanpy - INFO - Chain [1] start processing\n",
      "20:10:41 - cmdstanpy - INFO - Chain [1] done processing\n",
      "C:\\Users\\waldo\\AppData\\Local\\Temp\\ipykernel_44800\\1165039906.py:39: SettingWithCopyWarning: \n",
      "A value is trying to be set on a copy of a slice from a DataFrame.\n",
      "Try using .loc[row_indexer,col_indexer] = value instead\n",
      "\n",
      "See the caveats in the documentation: https://pandas.pydata.org/pandas-docs/stable/user_guide/indexing.html#returning-a-view-versus-a-copy\n",
      "  componentes['seasonal_prophet'] = 0\n",
      " 94%|█████████▍| 734/780 [1:30:29<00:48,  1.06s/it]20:10:42 - cmdstanpy - INFO - Chain [1] start processing\n",
      "20:10:42 - cmdstanpy - INFO - Chain [1] done processing\n",
      "C:\\Users\\waldo\\AppData\\Local\\Temp\\ipykernel_44800\\1165039906.py:39: SettingWithCopyWarning: \n",
      "A value is trying to be set on a copy of a slice from a DataFrame.\n",
      "Try using .loc[row_indexer,col_indexer] = value instead\n",
      "\n",
      "See the caveats in the documentation: https://pandas.pydata.org/pandas-docs/stable/user_guide/indexing.html#returning-a-view-versus-a-copy\n",
      "  componentes['seasonal_prophet'] = 0\n",
      " 94%|█████████▍| 735/780 [1:30:30<00:44,  1.01it/s]20:10:43 - cmdstanpy - INFO - Chain [1] start processing\n",
      "20:10:43 - cmdstanpy - INFO - Chain [1] done processing\n",
      "C:\\Users\\waldo\\AppData\\Local\\Temp\\ipykernel_44800\\1165039906.py:39: SettingWithCopyWarning: \n",
      "A value is trying to be set on a copy of a slice from a DataFrame.\n",
      "Try using .loc[row_indexer,col_indexer] = value instead\n",
      "\n",
      "See the caveats in the documentation: https://pandas.pydata.org/pandas-docs/stable/user_guide/indexing.html#returning-a-view-versus-a-copy\n",
      "  componentes['seasonal_prophet'] = 0\n",
      " 94%|█████████▍| 736/780 [1:30:32<01:03,  1.45s/it]20:10:45 - cmdstanpy - INFO - Chain [1] start processing\n",
      "20:10:45 - cmdstanpy - INFO - Chain [1] done processing\n",
      "C:\\Users\\waldo\\AppData\\Local\\Temp\\ipykernel_44800\\1165039906.py:39: SettingWithCopyWarning: \n",
      "A value is trying to be set on a copy of a slice from a DataFrame.\n",
      "Try using .loc[row_indexer,col_indexer] = value instead\n",
      "\n",
      "See the caveats in the documentation: https://pandas.pydata.org/pandas-docs/stable/user_guide/indexing.html#returning-a-view-versus-a-copy\n",
      "  componentes['seasonal_prophet'] = 0\n",
      " 94%|█████████▍| 737/780 [1:30:33<00:58,  1.36s/it]20:10:46 - cmdstanpy - INFO - Chain [1] start processing\n",
      "20:10:46 - cmdstanpy - INFO - Chain [1] done processing\n",
      "C:\\Users\\waldo\\AppData\\Local\\Temp\\ipykernel_44800\\1165039906.py:39: SettingWithCopyWarning: \n",
      "A value is trying to be set on a copy of a slice from a DataFrame.\n",
      "Try using .loc[row_indexer,col_indexer] = value instead\n",
      "\n",
      "See the caveats in the documentation: https://pandas.pydata.org/pandas-docs/stable/user_guide/indexing.html#returning-a-view-versus-a-copy\n",
      "  componentes['seasonal_prophet'] = 0\n",
      " 95%|█████████▍| 738/780 [1:30:34<00:52,  1.25s/it]20:10:47 - cmdstanpy - INFO - Chain [1] start processing\n",
      "20:10:47 - cmdstanpy - INFO - Chain [1] done processing\n",
      "C:\\Users\\waldo\\AppData\\Local\\Temp\\ipykernel_44800\\1165039906.py:39: SettingWithCopyWarning: \n",
      "A value is trying to be set on a copy of a slice from a DataFrame.\n",
      "Try using .loc[row_indexer,col_indexer] = value instead\n",
      "\n",
      "See the caveats in the documentation: https://pandas.pydata.org/pandas-docs/stable/user_guide/indexing.html#returning-a-view-versus-a-copy\n",
      "  componentes['seasonal_prophet'] = 0\n",
      " 95%|█████████▍| 739/780 [1:30:35<00:47,  1.15s/it]20:10:48 - cmdstanpy - INFO - Chain [1] start processing\n",
      "20:10:48 - cmdstanpy - INFO - Chain [1] done processing\n",
      "C:\\Users\\waldo\\AppData\\Local\\Temp\\ipykernel_44800\\1165039906.py:39: SettingWithCopyWarning: \n",
      "A value is trying to be set on a copy of a slice from a DataFrame.\n",
      "Try using .loc[row_indexer,col_indexer] = value instead\n",
      "\n",
      "See the caveats in the documentation: https://pandas.pydata.org/pandas-docs/stable/user_guide/indexing.html#returning-a-view-versus-a-copy\n",
      "  componentes['seasonal_prophet'] = 0\n",
      " 95%|█████████▍| 740/780 [1:30:37<00:51,  1.28s/it]20:10:50 - cmdstanpy - INFO - Chain [1] start processing\n",
      "20:10:50 - cmdstanpy - INFO - Chain [1] done processing\n",
      "C:\\Users\\waldo\\AppData\\Local\\Temp\\ipykernel_44800\\1165039906.py:39: SettingWithCopyWarning: \n",
      "A value is trying to be set on a copy of a slice from a DataFrame.\n",
      "Try using .loc[row_indexer,col_indexer] = value instead\n",
      "\n",
      "See the caveats in the documentation: https://pandas.pydata.org/pandas-docs/stable/user_guide/indexing.html#returning-a-view-versus-a-copy\n",
      "  componentes['seasonal_prophet'] = 0\n",
      " 95%|█████████▌| 741/780 [1:30:38<00:54,  1.40s/it]20:10:52 - cmdstanpy - INFO - Chain [1] start processing\n",
      "20:10:52 - cmdstanpy - INFO - Chain [1] done processing\n",
      "C:\\Users\\waldo\\AppData\\Local\\Temp\\ipykernel_44800\\1165039906.py:39: SettingWithCopyWarning: \n",
      "A value is trying to be set on a copy of a slice from a DataFrame.\n",
      "Try using .loc[row_indexer,col_indexer] = value instead\n",
      "\n",
      "See the caveats in the documentation: https://pandas.pydata.org/pandas-docs/stable/user_guide/indexing.html#returning-a-view-versus-a-copy\n",
      "  componentes['seasonal_prophet'] = 0\n",
      " 95%|█████████▌| 742/780 [1:30:39<00:49,  1.29s/it]20:10:53 - cmdstanpy - INFO - Chain [1] start processing\n",
      "20:10:53 - cmdstanpy - INFO - Chain [1] done processing\n",
      "C:\\Users\\waldo\\AppData\\Local\\Temp\\ipykernel_44800\\1165039906.py:39: SettingWithCopyWarning: \n",
      "A value is trying to be set on a copy of a slice from a DataFrame.\n",
      "Try using .loc[row_indexer,col_indexer] = value instead\n",
      "\n",
      "See the caveats in the documentation: https://pandas.pydata.org/pandas-docs/stable/user_guide/indexing.html#returning-a-view-versus-a-copy\n",
      "  componentes['seasonal_prophet'] = 0\n",
      " 95%|█████████▌| 743/780 [1:30:41<00:45,  1.24s/it]20:10:54 - cmdstanpy - INFO - Chain [1] start processing\n",
      "20:10:54 - cmdstanpy - INFO - Chain [1] done processing\n",
      "C:\\Users\\waldo\\AppData\\Local\\Temp\\ipykernel_44800\\1165039906.py:39: SettingWithCopyWarning: \n",
      "A value is trying to be set on a copy of a slice from a DataFrame.\n",
      "Try using .loc[row_indexer,col_indexer] = value instead\n",
      "\n",
      "See the caveats in the documentation: https://pandas.pydata.org/pandas-docs/stable/user_guide/indexing.html#returning-a-view-versus-a-copy\n",
      "  componentes['seasonal_prophet'] = 0\n",
      " 95%|█████████▌| 744/780 [1:30:42<00:45,  1.27s/it]20:10:55 - cmdstanpy - INFO - Chain [1] start processing\n",
      "20:10:55 - cmdstanpy - INFO - Chain [1] done processing\n",
      "C:\\Users\\waldo\\AppData\\Local\\Temp\\ipykernel_44800\\1165039906.py:39: SettingWithCopyWarning: \n",
      "A value is trying to be set on a copy of a slice from a DataFrame.\n",
      "Try using .loc[row_indexer,col_indexer] = value instead\n",
      "\n",
      "See the caveats in the documentation: https://pandas.pydata.org/pandas-docs/stable/user_guide/indexing.html#returning-a-view-versus-a-copy\n",
      "  componentes['seasonal_prophet'] = 0\n",
      " 96%|█████████▌| 745/780 [1:30:43<00:47,  1.35s/it]20:10:57 - cmdstanpy - INFO - Chain [1] start processing\n",
      "20:10:57 - cmdstanpy - INFO - Chain [1] done processing\n",
      "C:\\Users\\waldo\\AppData\\Local\\Temp\\ipykernel_44800\\1165039906.py:39: SettingWithCopyWarning: \n",
      "A value is trying to be set on a copy of a slice from a DataFrame.\n",
      "Try using .loc[row_indexer,col_indexer] = value instead\n",
      "\n",
      "See the caveats in the documentation: https://pandas.pydata.org/pandas-docs/stable/user_guide/indexing.html#returning-a-view-versus-a-copy\n",
      "  componentes['seasonal_prophet'] = 0\n",
      " 96%|█████████▌| 746/780 [1:30:44<00:42,  1.25s/it]20:10:58 - cmdstanpy - INFO - Chain [1] start processing\n",
      "20:10:58 - cmdstanpy - INFO - Chain [1] done processing\n",
      "C:\\Users\\waldo\\AppData\\Local\\Temp\\ipykernel_44800\\1165039906.py:39: SettingWithCopyWarning: \n",
      "A value is trying to be set on a copy of a slice from a DataFrame.\n",
      "Try using .loc[row_indexer,col_indexer] = value instead\n",
      "\n",
      "See the caveats in the documentation: https://pandas.pydata.org/pandas-docs/stable/user_guide/indexing.html#returning-a-view-versus-a-copy\n",
      "  componentes['seasonal_prophet'] = 0\n",
      " 96%|█████████▌| 747/780 [1:30:46<00:41,  1.25s/it]20:10:59 - cmdstanpy - INFO - Chain [1] start processing\n",
      "20:10:59 - cmdstanpy - INFO - Chain [1] done processing\n",
      "C:\\Users\\waldo\\AppData\\Local\\Temp\\ipykernel_44800\\1165039906.py:39: SettingWithCopyWarning: \n",
      "A value is trying to be set on a copy of a slice from a DataFrame.\n",
      "Try using .loc[row_indexer,col_indexer] = value instead\n",
      "\n",
      "See the caveats in the documentation: https://pandas.pydata.org/pandas-docs/stable/user_guide/indexing.html#returning-a-view-versus-a-copy\n",
      "  componentes['seasonal_prophet'] = 0\n",
      " 96%|█████████▌| 748/780 [1:30:47<00:40,  1.27s/it]20:11:00 - cmdstanpy - INFO - Chain [1] start processing\n",
      "20:11:00 - cmdstanpy - INFO - Chain [1] done processing\n",
      "C:\\Users\\waldo\\AppData\\Local\\Temp\\ipykernel_44800\\1165039906.py:39: SettingWithCopyWarning: \n",
      "A value is trying to be set on a copy of a slice from a DataFrame.\n",
      "Try using .loc[row_indexer,col_indexer] = value instead\n",
      "\n",
      "See the caveats in the documentation: https://pandas.pydata.org/pandas-docs/stable/user_guide/indexing.html#returning-a-view-versus-a-copy\n",
      "  componentes['seasonal_prophet'] = 0\n",
      " 96%|█████████▌| 749/780 [1:30:50<00:53,  1.74s/it]20:11:03 - cmdstanpy - INFO - Chain [1] start processing\n",
      "20:11:03 - cmdstanpy - INFO - Chain [1] done processing\n",
      "C:\\Users\\waldo\\AppData\\Local\\Temp\\ipykernel_44800\\1165039906.py:39: SettingWithCopyWarning: \n",
      "A value is trying to be set on a copy of a slice from a DataFrame.\n",
      "Try using .loc[row_indexer,col_indexer] = value instead\n",
      "\n",
      "See the caveats in the documentation: https://pandas.pydata.org/pandas-docs/stable/user_guide/indexing.html#returning-a-view-versus-a-copy\n",
      "  componentes['seasonal_prophet'] = 0\n",
      " 96%|█████████▌| 750/780 [1:30:52<00:59,  1.99s/it]20:11:06 - cmdstanpy - INFO - Chain [1] start processing\n",
      "20:11:06 - cmdstanpy - INFO - Chain [1] done processing\n",
      "C:\\Users\\waldo\\AppData\\Local\\Temp\\ipykernel_44800\\1165039906.py:39: SettingWithCopyWarning: \n",
      "A value is trying to be set on a copy of a slice from a DataFrame.\n",
      "Try using .loc[row_indexer,col_indexer] = value instead\n",
      "\n",
      "See the caveats in the documentation: https://pandas.pydata.org/pandas-docs/stable/user_guide/indexing.html#returning-a-view-versus-a-copy\n",
      "  componentes['seasonal_prophet'] = 0\n",
      " 96%|█████████▋| 751/780 [1:30:53<00:47,  1.65s/it]20:11:06 - cmdstanpy - INFO - Chain [1] start processing\n",
      "20:11:07 - cmdstanpy - INFO - Chain [1] done processing\n",
      "C:\\Users\\waldo\\AppData\\Local\\Temp\\ipykernel_44800\\1165039906.py:39: SettingWithCopyWarning: \n",
      "A value is trying to be set on a copy of a slice from a DataFrame.\n",
      "Try using .loc[row_indexer,col_indexer] = value instead\n",
      "\n",
      "See the caveats in the documentation: https://pandas.pydata.org/pandas-docs/stable/user_guide/indexing.html#returning-a-view-versus-a-copy\n",
      "  componentes['seasonal_prophet'] = 0\n",
      " 96%|█████████▋| 752/780 [1:30:54<00:41,  1.48s/it]20:11:08 - cmdstanpy - INFO - Chain [1] start processing\n",
      "20:11:08 - cmdstanpy - INFO - Chain [1] done processing\n",
      "C:\\Users\\waldo\\AppData\\Local\\Temp\\ipykernel_44800\\1165039906.py:39: SettingWithCopyWarning: \n",
      "A value is trying to be set on a copy of a slice from a DataFrame.\n",
      "Try using .loc[row_indexer,col_indexer] = value instead\n",
      "\n",
      "See the caveats in the documentation: https://pandas.pydata.org/pandas-docs/stable/user_guide/indexing.html#returning-a-view-versus-a-copy\n",
      "  componentes['seasonal_prophet'] = 0\n",
      " 97%|█████████▋| 753/780 [1:30:57<00:52,  1.94s/it]20:11:11 - cmdstanpy - INFO - Chain [1] start processing\n",
      "20:11:11 - cmdstanpy - INFO - Chain [1] done processing\n",
      "C:\\Users\\waldo\\AppData\\Local\\Temp\\ipykernel_44800\\1165039906.py:39: SettingWithCopyWarning: \n",
      "A value is trying to be set on a copy of a slice from a DataFrame.\n",
      "Try using .loc[row_indexer,col_indexer] = value instead\n",
      "\n",
      "See the caveats in the documentation: https://pandas.pydata.org/pandas-docs/stable/user_guide/indexing.html#returning-a-view-versus-a-copy\n",
      "  componentes['seasonal_prophet'] = 0\n",
      " 97%|█████████▋| 754/780 [1:30:58<00:43,  1.66s/it]20:11:12 - cmdstanpy - INFO - Chain [1] start processing\n",
      "20:11:12 - cmdstanpy - INFO - Chain [1] done processing\n",
      "C:\\Users\\waldo\\AppData\\Local\\Temp\\ipykernel_44800\\1165039906.py:39: SettingWithCopyWarning: \n",
      "A value is trying to be set on a copy of a slice from a DataFrame.\n",
      "Try using .loc[row_indexer,col_indexer] = value instead\n",
      "\n",
      "See the caveats in the documentation: https://pandas.pydata.org/pandas-docs/stable/user_guide/indexing.html#returning-a-view-versus-a-copy\n",
      "  componentes['seasonal_prophet'] = 0\n",
      " 97%|█████████▋| 755/780 [1:31:01<00:48,  1.93s/it]20:11:14 - cmdstanpy - INFO - Chain [1] start processing\n",
      "20:11:14 - cmdstanpy - INFO - Chain [1] done processing\n",
      "C:\\Users\\waldo\\AppData\\Local\\Temp\\ipykernel_44800\\1165039906.py:39: SettingWithCopyWarning: \n",
      "A value is trying to be set on a copy of a slice from a DataFrame.\n",
      "Try using .loc[row_indexer,col_indexer] = value instead\n",
      "\n",
      "See the caveats in the documentation: https://pandas.pydata.org/pandas-docs/stable/user_guide/indexing.html#returning-a-view-versus-a-copy\n",
      "  componentes['seasonal_prophet'] = 0\n",
      " 97%|█████████▋| 756/780 [1:31:02<00:43,  1.82s/it]20:11:16 - cmdstanpy - INFO - Chain [1] start processing\n",
      "20:11:16 - cmdstanpy - INFO - Chain [1] done processing\n",
      "C:\\Users\\waldo\\AppData\\Local\\Temp\\ipykernel_44800\\1165039906.py:39: SettingWithCopyWarning: \n",
      "A value is trying to be set on a copy of a slice from a DataFrame.\n",
      "Try using .loc[row_indexer,col_indexer] = value instead\n",
      "\n",
      "See the caveats in the documentation: https://pandas.pydata.org/pandas-docs/stable/user_guide/indexing.html#returning-a-view-versus-a-copy\n",
      "  componentes['seasonal_prophet'] = 0\n",
      " 97%|█████████▋| 757/780 [1:31:04<00:38,  1.66s/it]20:11:17 - cmdstanpy - INFO - Chain [1] start processing\n",
      "20:11:17 - cmdstanpy - INFO - Chain [1] done processing\n",
      "C:\\Users\\waldo\\AppData\\Local\\Temp\\ipykernel_44800\\1165039906.py:39: SettingWithCopyWarning: \n",
      "A value is trying to be set on a copy of a slice from a DataFrame.\n",
      "Try using .loc[row_indexer,col_indexer] = value instead\n",
      "\n",
      "See the caveats in the documentation: https://pandas.pydata.org/pandas-docs/stable/user_guide/indexing.html#returning-a-view-versus-a-copy\n",
      "  componentes['seasonal_prophet'] = 0\n",
      " 97%|█████████▋| 758/780 [1:31:07<00:45,  2.05s/it]20:11:20 - cmdstanpy - INFO - Chain [1] start processing\n",
      "20:11:20 - cmdstanpy - INFO - Chain [1] done processing\n",
      "C:\\Users\\waldo\\AppData\\Local\\Temp\\ipykernel_44800\\1165039906.py:39: SettingWithCopyWarning: \n",
      "A value is trying to be set on a copy of a slice from a DataFrame.\n",
      "Try using .loc[row_indexer,col_indexer] = value instead\n",
      "\n",
      "See the caveats in the documentation: https://pandas.pydata.org/pandas-docs/stable/user_guide/indexing.html#returning-a-view-versus-a-copy\n",
      "  componentes['seasonal_prophet'] = 0\n",
      " 97%|█████████▋| 759/780 [1:31:08<00:35,  1.69s/it]20:11:21 - cmdstanpy - INFO - Chain [1] start processing\n",
      "20:11:21 - cmdstanpy - INFO - Chain [1] done processing\n",
      "C:\\Users\\waldo\\AppData\\Local\\Temp\\ipykernel_44800\\1165039906.py:39: SettingWithCopyWarning: \n",
      "A value is trying to be set on a copy of a slice from a DataFrame.\n",
      "Try using .loc[row_indexer,col_indexer] = value instead\n",
      "\n",
      "See the caveats in the documentation: https://pandas.pydata.org/pandas-docs/stable/user_guide/indexing.html#returning-a-view-versus-a-copy\n",
      "  componentes['seasonal_prophet'] = 0\n",
      " 97%|█████████▋| 760/780 [1:31:10<00:35,  1.77s/it]20:11:23 - cmdstanpy - INFO - Chain [1] start processing\n",
      "20:11:23 - cmdstanpy - INFO - Chain [1] done processing\n",
      "C:\\Users\\waldo\\AppData\\Local\\Temp\\ipykernel_44800\\1165039906.py:39: SettingWithCopyWarning: \n",
      "A value is trying to be set on a copy of a slice from a DataFrame.\n",
      "Try using .loc[row_indexer,col_indexer] = value instead\n",
      "\n",
      "See the caveats in the documentation: https://pandas.pydata.org/pandas-docs/stable/user_guide/indexing.html#returning-a-view-versus-a-copy\n",
      "  componentes['seasonal_prophet'] = 0\n",
      " 98%|█████████▊| 761/780 [1:31:10<00:27,  1.47s/it]20:11:23 - cmdstanpy - INFO - Chain [1] start processing\n",
      "20:11:24 - cmdstanpy - INFO - Chain [1] done processing\n",
      "C:\\Users\\waldo\\AppData\\Local\\Temp\\ipykernel_44800\\1165039906.py:39: SettingWithCopyWarning: \n",
      "A value is trying to be set on a copy of a slice from a DataFrame.\n",
      "Try using .loc[row_indexer,col_indexer] = value instead\n",
      "\n",
      "See the caveats in the documentation: https://pandas.pydata.org/pandas-docs/stable/user_guide/indexing.html#returning-a-view-versus-a-copy\n",
      "  componentes['seasonal_prophet'] = 0\n",
      " 98%|█████████▊| 762/780 [1:31:11<00:24,  1.34s/it]20:11:24 - cmdstanpy - INFO - Chain [1] start processing\n",
      "20:11:25 - cmdstanpy - INFO - Chain [1] done processing\n",
      "C:\\Users\\waldo\\AppData\\Local\\Temp\\ipykernel_44800\\1165039906.py:39: SettingWithCopyWarning: \n",
      "A value is trying to be set on a copy of a slice from a DataFrame.\n",
      "Try using .loc[row_indexer,col_indexer] = value instead\n",
      "\n",
      "See the caveats in the documentation: https://pandas.pydata.org/pandas-docs/stable/user_guide/indexing.html#returning-a-view-versus-a-copy\n",
      "  componentes['seasonal_prophet'] = 0\n",
      " 98%|█████████▊| 763/780 [1:31:12<00:20,  1.22s/it]20:11:26 - cmdstanpy - INFO - Chain [1] start processing\n",
      "20:11:26 - cmdstanpy - INFO - Chain [1] done processing\n",
      "C:\\Users\\waldo\\AppData\\Local\\Temp\\ipykernel_44800\\1165039906.py:39: SettingWithCopyWarning: \n",
      "A value is trying to be set on a copy of a slice from a DataFrame.\n",
      "Try using .loc[row_indexer,col_indexer] = value instead\n",
      "\n",
      "See the caveats in the documentation: https://pandas.pydata.org/pandas-docs/stable/user_guide/indexing.html#returning-a-view-versus-a-copy\n",
      "  componentes['seasonal_prophet'] = 0\n",
      " 98%|█████████▊| 764/780 [1:31:14<00:23,  1.49s/it]20:11:28 - cmdstanpy - INFO - Chain [1] start processing\n",
      "20:11:28 - cmdstanpy - INFO - Chain [1] done processing\n",
      "C:\\Users\\waldo\\AppData\\Local\\Temp\\ipykernel_44800\\1165039906.py:39: SettingWithCopyWarning: \n",
      "A value is trying to be set on a copy of a slice from a DataFrame.\n",
      "Try using .loc[row_indexer,col_indexer] = value instead\n",
      "\n",
      "See the caveats in the documentation: https://pandas.pydata.org/pandas-docs/stable/user_guide/indexing.html#returning-a-view-versus-a-copy\n",
      "  componentes['seasonal_prophet'] = 0\n",
      " 98%|█████████▊| 765/780 [1:31:15<00:19,  1.30s/it]20:11:28 - cmdstanpy - INFO - Chain [1] start processing\n",
      "20:11:28 - cmdstanpy - INFO - Chain [1] done processing\n",
      "C:\\Users\\waldo\\AppData\\Local\\Temp\\ipykernel_44800\\1165039906.py:39: SettingWithCopyWarning: \n",
      "A value is trying to be set on a copy of a slice from a DataFrame.\n",
      "Try using .loc[row_indexer,col_indexer] = value instead\n",
      "\n",
      "See the caveats in the documentation: https://pandas.pydata.org/pandas-docs/stable/user_guide/indexing.html#returning-a-view-versus-a-copy\n",
      "  componentes['seasonal_prophet'] = 0\n",
      " 98%|█████████▊| 766/780 [1:31:16<00:16,  1.17s/it]20:11:29 - cmdstanpy - INFO - Chain [1] start processing\n",
      "20:11:29 - cmdstanpy - INFO - Chain [1] done processing\n",
      "C:\\Users\\waldo\\AppData\\Local\\Temp\\ipykernel_44800\\1165039906.py:39: SettingWithCopyWarning: \n",
      "A value is trying to be set on a copy of a slice from a DataFrame.\n",
      "Try using .loc[row_indexer,col_indexer] = value instead\n",
      "\n",
      "See the caveats in the documentation: https://pandas.pydata.org/pandas-docs/stable/user_guide/indexing.html#returning-a-view-versus-a-copy\n",
      "  componentes['seasonal_prophet'] = 0\n",
      " 98%|█████████▊| 767/780 [1:31:17<00:13,  1.06s/it]20:11:30 - cmdstanpy - INFO - Chain [1] start processing\n",
      "20:11:30 - cmdstanpy - INFO - Chain [1] done processing\n",
      "C:\\Users\\waldo\\AppData\\Local\\Temp\\ipykernel_44800\\1165039906.py:39: SettingWithCopyWarning: \n",
      "A value is trying to be set on a copy of a slice from a DataFrame.\n",
      "Try using .loc[row_indexer,col_indexer] = value instead\n",
      "\n",
      "See the caveats in the documentation: https://pandas.pydata.org/pandas-docs/stable/user_guide/indexing.html#returning-a-view-versus-a-copy\n",
      "  componentes['seasonal_prophet'] = 0\n",
      " 98%|█████████▊| 768/780 [1:31:18<00:11,  1.04it/s]20:11:31 - cmdstanpy - INFO - Chain [1] start processing\n",
      "20:11:31 - cmdstanpy - INFO - Chain [1] done processing\n",
      "C:\\Users\\waldo\\AppData\\Local\\Temp\\ipykernel_44800\\1165039906.py:39: SettingWithCopyWarning: \n",
      "A value is trying to be set on a copy of a slice from a DataFrame.\n",
      "Try using .loc[row_indexer,col_indexer] = value instead\n",
      "\n",
      "See the caveats in the documentation: https://pandas.pydata.org/pandas-docs/stable/user_guide/indexing.html#returning-a-view-versus-a-copy\n",
      "  componentes['seasonal_prophet'] = 0\n",
      " 99%|█████████▊| 769/780 [1:31:18<00:09,  1.10it/s]20:11:32 - cmdstanpy - INFO - Chain [1] start processing\n",
      "20:11:32 - cmdstanpy - INFO - Chain [1] done processing\n",
      "C:\\Users\\waldo\\AppData\\Local\\Temp\\ipykernel_44800\\1165039906.py:39: SettingWithCopyWarning: \n",
      "A value is trying to be set on a copy of a slice from a DataFrame.\n",
      "Try using .loc[row_indexer,col_indexer] = value instead\n",
      "\n",
      "See the caveats in the documentation: https://pandas.pydata.org/pandas-docs/stable/user_guide/indexing.html#returning-a-view-versus-a-copy\n",
      "  componentes['seasonal_prophet'] = 0\n",
      " 99%|█████████▊| 770/780 [1:31:19<00:08,  1.16it/s]20:11:32 - cmdstanpy - INFO - Chain [1] start processing\n",
      "20:11:32 - cmdstanpy - INFO - Chain [1] done processing\n",
      "C:\\Users\\waldo\\AppData\\Local\\Temp\\ipykernel_44800\\1165039906.py:39: SettingWithCopyWarning: \n",
      "A value is trying to be set on a copy of a slice from a DataFrame.\n",
      "Try using .loc[row_indexer,col_indexer] = value instead\n",
      "\n",
      "See the caveats in the documentation: https://pandas.pydata.org/pandas-docs/stable/user_guide/indexing.html#returning-a-view-versus-a-copy\n",
      "  componentes['seasonal_prophet'] = 0\n",
      " 99%|█████████▉| 771/780 [1:31:20<00:07,  1.22it/s]20:11:33 - cmdstanpy - INFO - Chain [1] start processing\n",
      "20:11:33 - cmdstanpy - INFO - Chain [1] done processing\n",
      "C:\\Users\\waldo\\AppData\\Local\\Temp\\ipykernel_44800\\1165039906.py:39: SettingWithCopyWarning: \n",
      "A value is trying to be set on a copy of a slice from a DataFrame.\n",
      "Try using .loc[row_indexer,col_indexer] = value instead\n",
      "\n",
      "See the caveats in the documentation: https://pandas.pydata.org/pandas-docs/stable/user_guide/indexing.html#returning-a-view-versus-a-copy\n",
      "  componentes['seasonal_prophet'] = 0\n",
      " 99%|█████████▉| 772/780 [1:31:21<00:06,  1.23it/s]20:11:34 - cmdstanpy - INFO - Chain [1] start processing\n",
      "20:11:34 - cmdstanpy - INFO - Chain [1] done processing\n",
      "C:\\Users\\waldo\\AppData\\Local\\Temp\\ipykernel_44800\\1165039906.py:39: SettingWithCopyWarning: \n",
      "A value is trying to be set on a copy of a slice from a DataFrame.\n",
      "Try using .loc[row_indexer,col_indexer] = value instead\n",
      "\n",
      "See the caveats in the documentation: https://pandas.pydata.org/pandas-docs/stable/user_guide/indexing.html#returning-a-view-versus-a-copy\n",
      "  componentes['seasonal_prophet'] = 0\n",
      " 99%|█████████▉| 773/780 [1:31:21<00:05,  1.27it/s]20:11:35 - cmdstanpy - INFO - Chain [1] start processing\n",
      "20:11:35 - cmdstanpy - INFO - Chain [1] done processing\n",
      "C:\\Users\\waldo\\AppData\\Local\\Temp\\ipykernel_44800\\1165039906.py:39: SettingWithCopyWarning: \n",
      "A value is trying to be set on a copy of a slice from a DataFrame.\n",
      "Try using .loc[row_indexer,col_indexer] = value instead\n",
      "\n",
      "See the caveats in the documentation: https://pandas.pydata.org/pandas-docs/stable/user_guide/indexing.html#returning-a-view-versus-a-copy\n",
      "  componentes['seasonal_prophet'] = 0\n",
      " 99%|█████████▉| 774/780 [1:31:22<00:04,  1.25it/s]20:11:35 - cmdstanpy - INFO - Chain [1] start processing\n",
      "20:11:35 - cmdstanpy - INFO - Chain [1] done processing\n",
      "C:\\Users\\waldo\\AppData\\Local\\Temp\\ipykernel_44800\\1165039906.py:39: SettingWithCopyWarning: \n",
      "A value is trying to be set on a copy of a slice from a DataFrame.\n",
      "Try using .loc[row_indexer,col_indexer] = value instead\n",
      "\n",
      "See the caveats in the documentation: https://pandas.pydata.org/pandas-docs/stable/user_guide/indexing.html#returning-a-view-versus-a-copy\n",
      "  componentes['seasonal_prophet'] = 0\n",
      " 99%|█████████▉| 775/780 [1:31:23<00:03,  1.28it/s]20:11:36 - cmdstanpy - INFO - Chain [1] start processing\n",
      "20:11:36 - cmdstanpy - INFO - Chain [1] done processing\n",
      "C:\\Users\\waldo\\AppData\\Local\\Temp\\ipykernel_44800\\1165039906.py:39: SettingWithCopyWarning: \n",
      "A value is trying to be set on a copy of a slice from a DataFrame.\n",
      "Try using .loc[row_indexer,col_indexer] = value instead\n",
      "\n",
      "See the caveats in the documentation: https://pandas.pydata.org/pandas-docs/stable/user_guide/indexing.html#returning-a-view-versus-a-copy\n",
      "  componentes['seasonal_prophet'] = 0\n",
      " 99%|█████████▉| 776/780 [1:31:24<00:03,  1.29it/s]20:11:37 - cmdstanpy - INFO - Chain [1] start processing\n",
      "20:11:37 - cmdstanpy - INFO - Chain [1] done processing\n",
      "C:\\Users\\waldo\\AppData\\Local\\Temp\\ipykernel_44800\\1165039906.py:39: SettingWithCopyWarning: \n",
      "A value is trying to be set on a copy of a slice from a DataFrame.\n",
      "Try using .loc[row_indexer,col_indexer] = value instead\n",
      "\n",
      "See the caveats in the documentation: https://pandas.pydata.org/pandas-docs/stable/user_guide/indexing.html#returning-a-view-versus-a-copy\n",
      "  componentes['seasonal_prophet'] = 0\n",
      "100%|█████████▉| 777/780 [1:31:25<00:02,  1.24it/s]20:11:38 - cmdstanpy - INFO - Chain [1] start processing\n",
      "20:11:38 - cmdstanpy - INFO - Chain [1] done processing\n",
      "C:\\Users\\waldo\\AppData\\Local\\Temp\\ipykernel_44800\\1165039906.py:39: SettingWithCopyWarning: \n",
      "A value is trying to be set on a copy of a slice from a DataFrame.\n",
      "Try using .loc[row_indexer,col_indexer] = value instead\n",
      "\n",
      "See the caveats in the documentation: https://pandas.pydata.org/pandas-docs/stable/user_guide/indexing.html#returning-a-view-versus-a-copy\n",
      "  componentes['seasonal_prophet'] = 0\n",
      "100%|█████████▉| 778/780 [1:31:25<00:01,  1.25it/s]20:11:39 - cmdstanpy - INFO - Chain [1] start processing\n",
      "20:11:39 - cmdstanpy - INFO - Chain [1] done processing\n",
      "C:\\Users\\waldo\\AppData\\Local\\Temp\\ipykernel_44800\\1165039906.py:39: SettingWithCopyWarning: \n",
      "A value is trying to be set on a copy of a slice from a DataFrame.\n",
      "Try using .loc[row_indexer,col_indexer] = value instead\n",
      "\n",
      "See the caveats in the documentation: https://pandas.pydata.org/pandas-docs/stable/user_guide/indexing.html#returning-a-view-versus-a-copy\n",
      "  componentes['seasonal_prophet'] = 0\n",
      "100%|█████████▉| 779/780 [1:31:26<00:00,  1.20it/s]20:11:39 - cmdstanpy - INFO - Chain [1] start processing\n",
      "20:11:40 - cmdstanpy - INFO - Chain [1] done processing\n",
      "C:\\Users\\waldo\\AppData\\Local\\Temp\\ipykernel_44800\\1165039906.py:39: SettingWithCopyWarning: \n",
      "A value is trying to be set on a copy of a slice from a DataFrame.\n",
      "Try using .loc[row_indexer,col_indexer] = value instead\n",
      "\n",
      "See the caveats in the documentation: https://pandas.pydata.org/pandas-docs/stable/user_guide/indexing.html#returning-a-view-versus-a-copy\n",
      "  componentes['seasonal_prophet'] = 0\n",
      "100%|██████████| 780/780 [1:31:27<00:00,  7.04s/it]\n"
     ]
    }
   ],
   "source": [
    "from prophet import Prophet\n",
    "import pandas as pd\n",
    "import os\n",
    "from tqdm import tqdm\n",
    "\n",
    "# ⚙️ Configuración\n",
    "ARCHIVO_SALIDA = \"df_prophet_features\"\n",
    "CARPETA_SALIDA = \"prophet_features_parciales\"\n",
    "os.makedirs(CARPETA_SALIDA, exist_ok=True)\n",
    "\n",
    "# Lista de productos\n",
    "productos = df['product_id'].astype(str).unique()\n",
    "\n",
    "# Filtrar los ya procesados\n",
    "procesados = {f.split('.')[0] for f in os.listdir(CARPETA_SALIDA)}\n",
    "productos_faltantes = [p for p in productos if p not in procesados]\n",
    "\n",
    "print(f\"👉 Hay {len(productos_faltantes)} productos por procesar...\")\n",
    "\n",
    "# 🚀 Loop por producto\n",
    "for prod_id in tqdm(productos_faltantes):\n",
    "    grupo = df[df['product_id'] == prod_id].copy()\n",
    "    df_prophet = grupo[['periodo', 'tn']].rename(columns={'periodo': 'ds', 'tn': 'y'})\n",
    "    df_prophet = df_prophet[df_prophet['y'] > 0]\n",
    "\n",
    "    if len(df_prophet) < 12:\n",
    "        continue  # muy poco histórico\n",
    "\n",
    "    try:\n",
    "        modelo = Prophet(daily_seasonality=False, weekly_seasonality=False, yearly_seasonality=True)\n",
    "        modelo.fit(df_prophet)\n",
    "        forecast = modelo.predict(df_prophet)\n",
    "\n",
    "        componentes = forecast[['ds', 'trend']]\n",
    "        componentes.columns = ['periodo', 'trend_prophet']\n",
    "        if 'seasonal' in forecast.columns:\n",
    "            componentes['seasonal_prophet'] = forecast['seasonal']\n",
    "        else:\n",
    "            componentes['seasonal_prophet'] = 0\n",
    "\n",
    "        resultado = grupo.merge(componentes, on='periodo', how='left')\n",
    "        resultado.to_parquet(f\"{CARPETA_SALIDA}/{prod_id}.parquet\", index=False)\n",
    "\n",
    "    except Exception as e:\n",
    "        print(f\"❌ Error con {prod_id}: {e}\")\n"
   ]
  },
  {
   "cell_type": "code",
   "execution_count": 2,
   "id": "8a0e3edb",
   "metadata": {},
   "outputs": [
    {
     "name": "stdout",
     "output_type": "stream",
     "text": [
      "🔁 Procesados previamente: 85\n"
     ]
    },
    {
     "name": "stderr",
     "output_type": "stream",
     "text": [
      "📦 Procesando archivos:   9%|▉         | 72/780 [00:00<00:09, 74.01it/s]"
     ]
    },
    {
     "name": "stdout",
     "output_type": "stream",
     "text": [
      "⚠️ Error al procesar prophet_features_parciales\\20079.parquet: __cinit__() got an unexpected keyword argument 'append'\n"
     ]
    },
    {
     "name": "stderr",
     "output_type": "stream",
     "text": [
      "📦 Procesando archivos:  11%|█         | 82/780 [00:01<00:13, 53.06it/s]"
     ]
    },
    {
     "name": "stdout",
     "output_type": "stream",
     "text": [
      "⚠️ Error al procesar prophet_features_parciales\\20091.parquet: __cinit__() got an unexpected keyword argument 'append'\n",
      "⚠️ Error al procesar prophet_features_parciales\\20095.parquet: __cinit__() got an unexpected keyword argument 'append'\n"
     ]
    },
    {
     "name": "stderr",
     "output_type": "stream",
     "text": [
      "📦 Procesando archivos:  11%|█         | 87/780 [00:02<00:27, 25.43it/s]"
     ]
    },
    {
     "name": "stdout",
     "output_type": "stream",
     "text": [
      "⚠️ Error al procesar prophet_features_parciales\\20096.parquet: __cinit__() got an unexpected keyword argument 'append'\n"
     ]
    },
    {
     "name": "stderr",
     "output_type": "stream",
     "text": [
      "📦 Procesando archivos:  12%|█▏        | 90/780 [00:03<00:36, 18.71it/s]"
     ]
    },
    {
     "name": "stdout",
     "output_type": "stream",
     "text": [
      "⚠️ Error al procesar prophet_features_parciales\\20100.parquet: __cinit__() got an unexpected keyword argument 'append'\n",
      "⚠️ Error al procesar prophet_features_parciales\\20101.parquet: __cinit__() got an unexpected keyword argument 'append'\n"
     ]
    },
    {
     "name": "stderr",
     "output_type": "stream",
     "text": [
      "📦 Procesando archivos:  12%|█▏        | 92/780 [00:04<01:03, 10.91it/s]"
     ]
    },
    {
     "name": "stdout",
     "output_type": "stream",
     "text": [
      "⚠️ Error al procesar prophet_features_parciales\\20102.parquet: __cinit__() got an unexpected keyword argument 'append'\n",
      "⚠️ Error al procesar prophet_features_parciales\\20103.parquet: __cinit__() got an unexpected keyword argument 'append'\n"
     ]
    },
    {
     "name": "stderr",
     "output_type": "stream",
     "text": [
      "📦 Procesando archivos:  12%|█▏        | 94/780 [00:05<01:47,  6.39it/s]"
     ]
    },
    {
     "name": "stdout",
     "output_type": "stream",
     "text": [
      "⚠️ Error al procesar prophet_features_parciales\\20106.parquet: __cinit__() got an unexpected keyword argument 'append'\n"
     ]
    },
    {
     "name": "stderr",
     "output_type": "stream",
     "text": [
      "📦 Procesando archivos:  12%|█▏        | 95/780 [00:06<01:55,  5.93it/s]"
     ]
    },
    {
     "name": "stdout",
     "output_type": "stream",
     "text": [
      "⚠️ Error al procesar prophet_features_parciales\\20107.parquet: __cinit__() got an unexpected keyword argument 'append'\n"
     ]
    },
    {
     "name": "stderr",
     "output_type": "stream",
     "text": [
      "📦 Procesando archivos:  12%|█▏        | 96/780 [00:06<02:25,  4.70it/s]"
     ]
    },
    {
     "name": "stdout",
     "output_type": "stream",
     "text": [
      "⚠️ Error al procesar prophet_features_parciales\\20108.parquet: __cinit__() got an unexpected keyword argument 'append'\n"
     ]
    },
    {
     "name": "stderr",
     "output_type": "stream",
     "text": [
      "📦 Procesando archivos:  12%|█▏        | 97/780 [00:07<02:42,  4.20it/s]"
     ]
    },
    {
     "name": "stdout",
     "output_type": "stream",
     "text": [
      "⚠️ Error al procesar prophet_features_parciales\\20109.parquet: __cinit__() got an unexpected keyword argument 'append'\n"
     ]
    },
    {
     "name": "stderr",
     "output_type": "stream",
     "text": [
      "📦 Procesando archivos:  13%|█▎        | 98/780 [00:08<04:45,  2.39it/s]"
     ]
    },
    {
     "name": "stdout",
     "output_type": "stream",
     "text": [
      "⚠️ Error al procesar prophet_features_parciales\\20111.parquet: __cinit__() got an unexpected keyword argument 'append'\n"
     ]
    },
    {
     "name": "stderr",
     "output_type": "stream",
     "text": [
      "📦 Procesando archivos:  13%|█▎        | 99/780 [00:09<05:17,  2.15it/s]"
     ]
    },
    {
     "name": "stdout",
     "output_type": "stream",
     "text": [
      "⚠️ Error al procesar prophet_features_parciales\\20112.parquet: __cinit__() got an unexpected keyword argument 'append'\n"
     ]
    },
    {
     "name": "stderr",
     "output_type": "stream",
     "text": [
      "📦 Procesando archivos:  13%|█▎        | 100/780 [00:10<05:56,  1.91it/s]"
     ]
    },
    {
     "name": "stdout",
     "output_type": "stream",
     "text": [
      "⚠️ Error al procesar prophet_features_parciales\\20114.parquet: __cinit__() got an unexpected keyword argument 'append'\n"
     ]
    },
    {
     "name": "stderr",
     "output_type": "stream",
     "text": [
      "📦 Procesando archivos:  13%|█▎        | 101/780 [00:11<06:39,  1.70it/s]"
     ]
    },
    {
     "name": "stdout",
     "output_type": "stream",
     "text": [
      "⚠️ Error al procesar prophet_features_parciales\\20116.parquet: __cinit__() got an unexpected keyword argument 'append'\n"
     ]
    },
    {
     "name": "stderr",
     "output_type": "stream",
     "text": [
      "📦 Procesando archivos:  13%|█▎        | 102/780 [00:12<07:38,  1.48it/s]"
     ]
    },
    {
     "name": "stdout",
     "output_type": "stream",
     "text": [
      "⚠️ Error al procesar prophet_features_parciales\\20117.parquet: __cinit__() got an unexpected keyword argument 'append'\n"
     ]
    },
    {
     "name": "stderr",
     "output_type": "stream",
     "text": [
      "📦 Procesando archivos:  13%|█▎        | 103/780 [00:12<07:06,  1.59it/s]"
     ]
    },
    {
     "name": "stdout",
     "output_type": "stream",
     "text": [
      "⚠️ Error al procesar prophet_features_parciales\\20118.parquet: __cinit__() got an unexpected keyword argument 'append'\n"
     ]
    },
    {
     "name": "stderr",
     "output_type": "stream",
     "text": [
      "📦 Procesando archivos:  13%|█▎        | 104/780 [00:13<07:27,  1.51it/s]"
     ]
    },
    {
     "name": "stdout",
     "output_type": "stream",
     "text": [
      "⚠️ Error al procesar prophet_features_parciales\\20119.parquet: __cinit__() got an unexpected keyword argument 'append'\n"
     ]
    },
    {
     "name": "stderr",
     "output_type": "stream",
     "text": [
      "📦 Procesando archivos:  13%|█▎        | 105/780 [00:15<10:47,  1.04it/s]"
     ]
    },
    {
     "name": "stdout",
     "output_type": "stream",
     "text": [
      "⚠️ Error al procesar prophet_features_parciales\\20120.parquet: __cinit__() got an unexpected keyword argument 'append'\n"
     ]
    },
    {
     "name": "stderr",
     "output_type": "stream",
     "text": [
      "📦 Procesando archivos:  14%|█▎        | 106/780 [00:15<09:35,  1.17it/s]"
     ]
    },
    {
     "name": "stdout",
     "output_type": "stream",
     "text": [
      "⚠️ Error al procesar prophet_features_parciales\\20121.parquet: __cinit__() got an unexpected keyword argument 'append'\n"
     ]
    },
    {
     "name": "stderr",
     "output_type": "stream",
     "text": [
      "📦 Procesando archivos:  14%|█▎        | 107/780 [00:17<12:38,  1.13s/it]"
     ]
    },
    {
     "name": "stdout",
     "output_type": "stream",
     "text": [
      "⚠️ Error al procesar prophet_features_parciales\\20122.parquet: __cinit__() got an unexpected keyword argument 'append'\n"
     ]
    },
    {
     "name": "stderr",
     "output_type": "stream",
     "text": [
      "📦 Procesando archivos:  14%|█▍        | 108/780 [00:18<12:30,  1.12s/it]"
     ]
    },
    {
     "name": "stdout",
     "output_type": "stream",
     "text": [
      "⚠️ Error al procesar prophet_features_parciales\\20123.parquet: __cinit__() got an unexpected keyword argument 'append'\n"
     ]
    },
    {
     "name": "stderr",
     "output_type": "stream",
     "text": [
      "📦 Procesando archivos:  14%|█▍        | 109/780 [00:19<12:24,  1.11s/it]"
     ]
    },
    {
     "name": "stdout",
     "output_type": "stream",
     "text": [
      "⚠️ Error al procesar prophet_features_parciales\\20124.parquet: __cinit__() got an unexpected keyword argument 'append'\n"
     ]
    },
    {
     "name": "stderr",
     "output_type": "stream",
     "text": [
      "📦 Procesando archivos:  14%|█▍        | 110/780 [00:20<12:24,  1.11s/it]"
     ]
    },
    {
     "name": "stdout",
     "output_type": "stream",
     "text": [
      "⚠️ Error al procesar prophet_features_parciales\\20125.parquet: __cinit__() got an unexpected keyword argument 'append'\n"
     ]
    },
    {
     "name": "stderr",
     "output_type": "stream",
     "text": [
      "📦 Procesando archivos:  14%|█▍        | 112/780 [00:21<07:38,  1.46it/s]"
     ]
    },
    {
     "name": "stdout",
     "output_type": "stream",
     "text": [
      "⚠️ Error al procesar prophet_features_parciales\\20126.parquet: __cinit__() got an unexpected keyword argument 'append'\n",
      "⚠️ Error al procesar prophet_features_parciales\\20127.parquet: __cinit__() got an unexpected keyword argument 'append'\n"
     ]
    },
    {
     "name": "stderr",
     "output_type": "stream",
     "text": [
      "📦 Procesando archivos:  14%|█▍        | 113/780 [00:22<07:15,  1.53it/s]"
     ]
    },
    {
     "name": "stdout",
     "output_type": "stream",
     "text": [
      "⚠️ Error al procesar prophet_features_parciales\\20129.parquet: __cinit__() got an unexpected keyword argument 'append'\n"
     ]
    },
    {
     "name": "stderr",
     "output_type": "stream",
     "text": [
      "📦 Procesando archivos:  15%|█▍        | 114/780 [00:22<06:48,  1.63it/s]"
     ]
    },
    {
     "name": "stdout",
     "output_type": "stream",
     "text": [
      "⚠️ Error al procesar prophet_features_parciales\\20130.parquet: __cinit__() got an unexpected keyword argument 'append'\n"
     ]
    },
    {
     "name": "stderr",
     "output_type": "stream",
     "text": [
      "📦 Procesando archivos:  15%|█▍        | 115/780 [00:23<09:12,  1.20it/s]"
     ]
    },
    {
     "name": "stdout",
     "output_type": "stream",
     "text": [
      "⚠️ Error al procesar prophet_features_parciales\\20132.parquet: __cinit__() got an unexpected keyword argument 'append'\n"
     ]
    },
    {
     "name": "stderr",
     "output_type": "stream",
     "text": [
      "📦 Procesando archivos:  15%|█▍        | 116/780 [00:25<10:03,  1.10it/s]"
     ]
    },
    {
     "name": "stdout",
     "output_type": "stream",
     "text": [
      "⚠️ Error al procesar prophet_features_parciales\\20133.parquet: __cinit__() got an unexpected keyword argument 'append'\n"
     ]
    },
    {
     "name": "stderr",
     "output_type": "stream",
     "text": [
      "📦 Procesando archivos:  15%|█▌        | 117/780 [00:26<10:57,  1.01it/s]"
     ]
    },
    {
     "name": "stdout",
     "output_type": "stream",
     "text": [
      "⚠️ Error al procesar prophet_features_parciales\\20134.parquet: __cinit__() got an unexpected keyword argument 'append'\n"
     ]
    },
    {
     "name": "stderr",
     "output_type": "stream",
     "text": [
      "📦 Procesando archivos:  15%|█▌        | 118/780 [00:26<08:40,  1.27it/s]"
     ]
    },
    {
     "name": "stdout",
     "output_type": "stream",
     "text": [
      "⚠️ Error al procesar prophet_features_parciales\\20135.parquet: __cinit__() got an unexpected keyword argument 'append'\n"
     ]
    },
    {
     "name": "stderr",
     "output_type": "stream",
     "text": [
      "📦 Procesando archivos:  15%|█▌        | 119/780 [00:27<08:01,  1.37it/s]"
     ]
    },
    {
     "name": "stdout",
     "output_type": "stream",
     "text": [
      "⚠️ Error al procesar prophet_features_parciales\\20137.parquet: __cinit__() got an unexpected keyword argument 'append'\n"
     ]
    },
    {
     "name": "stderr",
     "output_type": "stream",
     "text": [
      "📦 Procesando archivos:  15%|█▌        | 120/780 [00:28<08:29,  1.30it/s]"
     ]
    },
    {
     "name": "stdout",
     "output_type": "stream",
     "text": [
      "⚠️ Error al procesar prophet_features_parciales\\20138.parquet: __cinit__() got an unexpected keyword argument 'append'\n"
     ]
    },
    {
     "name": "stderr",
     "output_type": "stream",
     "text": [
      "📦 Procesando archivos:  16%|█▌        | 121/780 [00:28<09:06,  1.21it/s]"
     ]
    },
    {
     "name": "stdout",
     "output_type": "stream",
     "text": [
      "⚠️ Error al procesar prophet_features_parciales\\20139.parquet: __cinit__() got an unexpected keyword argument 'append'\n"
     ]
    },
    {
     "name": "stderr",
     "output_type": "stream",
     "text": [
      "📦 Procesando archivos:  16%|█▌        | 122/780 [00:29<09:23,  1.17it/s]"
     ]
    },
    {
     "name": "stdout",
     "output_type": "stream",
     "text": [
      "⚠️ Error al procesar prophet_features_parciales\\20140.parquet: __cinit__() got an unexpected keyword argument 'append'\n"
     ]
    },
    {
     "name": "stderr",
     "output_type": "stream",
     "text": [
      "📦 Procesando archivos:  16%|█▌        | 123/780 [00:30<07:59,  1.37it/s]"
     ]
    },
    {
     "name": "stdout",
     "output_type": "stream",
     "text": [
      "⚠️ Error al procesar prophet_features_parciales\\20142.parquet: __cinit__() got an unexpected keyword argument 'append'\n"
     ]
    },
    {
     "name": "stderr",
     "output_type": "stream",
     "text": [
      "📦 Procesando archivos:  16%|█▌        | 124/780 [00:30<07:06,  1.54it/s]"
     ]
    },
    {
     "name": "stdout",
     "output_type": "stream",
     "text": [
      "⚠️ Error al procesar prophet_features_parciales\\20143.parquet: __cinit__() got an unexpected keyword argument 'append'\n"
     ]
    },
    {
     "name": "stderr",
     "output_type": "stream",
     "text": [
      "📦 Procesando archivos:  16%|█▌        | 125/780 [00:31<08:11,  1.33it/s]"
     ]
    },
    {
     "name": "stdout",
     "output_type": "stream",
     "text": [
      "⚠️ Error al procesar prophet_features_parciales\\20144.parquet: __cinit__() got an unexpected keyword argument 'append'\n"
     ]
    },
    {
     "name": "stderr",
     "output_type": "stream",
     "text": [
      "📦 Procesando archivos:  16%|█▌        | 126/780 [00:32<08:02,  1.36it/s]"
     ]
    },
    {
     "name": "stdout",
     "output_type": "stream",
     "text": [
      "⚠️ Error al procesar prophet_features_parciales\\20145.parquet: __cinit__() got an unexpected keyword argument 'append'\n"
     ]
    },
    {
     "name": "stderr",
     "output_type": "stream",
     "text": [
      "📦 Procesando archivos:  16%|█▋        | 127/780 [00:33<08:13,  1.32it/s]"
     ]
    },
    {
     "name": "stdout",
     "output_type": "stream",
     "text": [
      "⚠️ Error al procesar prophet_features_parciales\\20146.parquet: __cinit__() got an unexpected keyword argument 'append'\n"
     ]
    },
    {
     "name": "stderr",
     "output_type": "stream",
     "text": [
      "📦 Procesando archivos:  16%|█▋        | 128/780 [00:34<08:52,  1.22it/s]"
     ]
    },
    {
     "name": "stdout",
     "output_type": "stream",
     "text": [
      "⚠️ Error al procesar prophet_features_parciales\\20148.parquet: __cinit__() got an unexpected keyword argument 'append'\n"
     ]
    },
    {
     "name": "stderr",
     "output_type": "stream",
     "text": [
      "📦 Procesando archivos:  17%|█▋        | 129/780 [00:34<07:29,  1.45it/s]"
     ]
    },
    {
     "name": "stdout",
     "output_type": "stream",
     "text": [
      "⚠️ Error al procesar prophet_features_parciales\\20150.parquet: __cinit__() got an unexpected keyword argument 'append'\n"
     ]
    },
    {
     "name": "stderr",
     "output_type": "stream",
     "text": [
      "📦 Procesando archivos:  17%|█▋        | 130/780 [00:35<06:39,  1.63it/s]"
     ]
    },
    {
     "name": "stdout",
     "output_type": "stream",
     "text": [
      "⚠️ Error al procesar prophet_features_parciales\\20151.parquet: __cinit__() got an unexpected keyword argument 'append'\n"
     ]
    },
    {
     "name": "stderr",
     "output_type": "stream",
     "text": [
      "📦 Procesando archivos:  17%|█▋        | 131/780 [00:35<06:58,  1.55it/s]"
     ]
    },
    {
     "name": "stdout",
     "output_type": "stream",
     "text": [
      "⚠️ Error al procesar prophet_features_parciales\\20152.parquet: __cinit__() got an unexpected keyword argument 'append'\n"
     ]
    },
    {
     "name": "stderr",
     "output_type": "stream",
     "text": [
      "📦 Procesando archivos:  17%|█▋        | 132/780 [00:36<07:34,  1.43it/s]"
     ]
    },
    {
     "name": "stdout",
     "output_type": "stream",
     "text": [
      "⚠️ Error al procesar prophet_features_parciales\\20153.parquet: __cinit__() got an unexpected keyword argument 'append'\n"
     ]
    },
    {
     "name": "stderr",
     "output_type": "stream",
     "text": [
      "📦 Procesando archivos:  17%|█▋        | 133/780 [00:37<07:37,  1.41it/s]"
     ]
    },
    {
     "name": "stdout",
     "output_type": "stream",
     "text": [
      "⚠️ Error al procesar prophet_features_parciales\\20155.parquet: __cinit__() got an unexpected keyword argument 'append'\n"
     ]
    },
    {
     "name": "stderr",
     "output_type": "stream",
     "text": [
      "📦 Procesando archivos:  17%|█▋        | 134/780 [00:38<07:43,  1.39it/s]"
     ]
    },
    {
     "name": "stdout",
     "output_type": "stream",
     "text": [
      "⚠️ Error al procesar prophet_features_parciales\\20157.parquet: __cinit__() got an unexpected keyword argument 'append'\n"
     ]
    },
    {
     "name": "stderr",
     "output_type": "stream",
     "text": [
      "📦 Procesando archivos:  17%|█▋        | 135/780 [00:38<07:17,  1.47it/s]"
     ]
    },
    {
     "name": "stdout",
     "output_type": "stream",
     "text": [
      "⚠️ Error al procesar prophet_features_parciales\\20158.parquet: __cinit__() got an unexpected keyword argument 'append'\n"
     ]
    },
    {
     "name": "stderr",
     "output_type": "stream",
     "text": [
      "📦 Procesando archivos:  17%|█▋        | 136/780 [00:39<06:27,  1.66it/s]"
     ]
    },
    {
     "name": "stdout",
     "output_type": "stream",
     "text": [
      "⚠️ Error al procesar prophet_features_parciales\\20159.parquet: __cinit__() got an unexpected keyword argument 'append'\n"
     ]
    },
    {
     "name": "stderr",
     "output_type": "stream",
     "text": [
      "📦 Procesando archivos:  18%|█▊        | 137/780 [00:39<06:03,  1.77it/s]"
     ]
    },
    {
     "name": "stdout",
     "output_type": "stream",
     "text": [
      "⚠️ Error al procesar prophet_features_parciales\\20160.parquet: __cinit__() got an unexpected keyword argument 'append'\n"
     ]
    },
    {
     "name": "stderr",
     "output_type": "stream",
     "text": [
      "📦 Procesando archivos:  18%|█▊        | 138/780 [00:40<05:53,  1.82it/s]"
     ]
    },
    {
     "name": "stdout",
     "output_type": "stream",
     "text": [
      "⚠️ Error al procesar prophet_features_parciales\\20161.parquet: __cinit__() got an unexpected keyword argument 'append'\n"
     ]
    },
    {
     "name": "stderr",
     "output_type": "stream",
     "text": [
      "📦 Procesando archivos:  18%|█▊        | 139/780 [00:40<05:52,  1.82it/s]"
     ]
    },
    {
     "name": "stdout",
     "output_type": "stream",
     "text": [
      "⚠️ Error al procesar prophet_features_parciales\\20162.parquet: __cinit__() got an unexpected keyword argument 'append'\n"
     ]
    },
    {
     "name": "stderr",
     "output_type": "stream",
     "text": [
      "📦 Procesando archivos:  18%|█▊        | 140/780 [00:40<04:49,  2.21it/s]"
     ]
    },
    {
     "name": "stdout",
     "output_type": "stream",
     "text": [
      "⚠️ Error al procesar prophet_features_parciales\\20164.parquet: __cinit__() got an unexpected keyword argument 'append'\n"
     ]
    },
    {
     "name": "stderr",
     "output_type": "stream",
     "text": [
      "📦 Procesando archivos:  18%|█▊        | 141/780 [00:41<06:05,  1.75it/s]"
     ]
    },
    {
     "name": "stdout",
     "output_type": "stream",
     "text": [
      "⚠️ Error al procesar prophet_features_parciales\\20166.parquet: __cinit__() got an unexpected keyword argument 'append'\n"
     ]
    },
    {
     "name": "stderr",
     "output_type": "stream",
     "text": [
      "📦 Procesando archivos:  18%|█▊        | 142/780 [00:42<06:07,  1.74it/s]"
     ]
    },
    {
     "name": "stdout",
     "output_type": "stream",
     "text": [
      "⚠️ Error al procesar prophet_features_parciales\\20167.parquet: __cinit__() got an unexpected keyword argument 'append'\n"
     ]
    },
    {
     "name": "stderr",
     "output_type": "stream",
     "text": [
      "📦 Procesando archivos:  18%|█▊        | 143/780 [00:42<05:57,  1.78it/s]"
     ]
    },
    {
     "name": "stdout",
     "output_type": "stream",
     "text": [
      "⚠️ Error al procesar prophet_features_parciales\\20168.parquet: __cinit__() got an unexpected keyword argument 'append'\n"
     ]
    },
    {
     "name": "stderr",
     "output_type": "stream",
     "text": [
      "📦 Procesando archivos:  19%|█▊        | 145/780 [00:43<04:32,  2.33it/s]"
     ]
    },
    {
     "name": "stdout",
     "output_type": "stream",
     "text": [
      "⚠️ Error al procesar prophet_features_parciales\\20170.parquet: __cinit__() got an unexpected keyword argument 'append'\n",
      "⚠️ Error al procesar prophet_features_parciales\\20174.parquet: __cinit__() got an unexpected keyword argument 'append'\n"
     ]
    },
    {
     "name": "stderr",
     "output_type": "stream",
     "text": [
      "📦 Procesando archivos:  19%|█▊        | 146/780 [00:43<04:01,  2.63it/s]"
     ]
    },
    {
     "name": "stdout",
     "output_type": "stream",
     "text": [
      "⚠️ Error al procesar prophet_features_parciales\\20175.parquet: __cinit__() got an unexpected keyword argument 'append'\n"
     ]
    },
    {
     "name": "stderr",
     "output_type": "stream",
     "text": [
      "📦 Procesando archivos:  19%|█▉        | 147/780 [00:45<07:51,  1.34it/s]"
     ]
    },
    {
     "name": "stdout",
     "output_type": "stream",
     "text": [
      "⚠️ Error al procesar prophet_features_parciales\\20176.parquet: __cinit__() got an unexpected keyword argument 'append'\n"
     ]
    },
    {
     "name": "stderr",
     "output_type": "stream",
     "text": [
      "📦 Procesando archivos:  19%|█▉        | 148/780 [00:46<09:32,  1.10it/s]"
     ]
    },
    {
     "name": "stdout",
     "output_type": "stream",
     "text": [
      "⚠️ Error al procesar prophet_features_parciales\\20177.parquet: __cinit__() got an unexpected keyword argument 'append'\n"
     ]
    },
    {
     "name": "stderr",
     "output_type": "stream",
     "text": [
      "📦 Procesando archivos:  19%|█▉        | 149/780 [00:47<08:46,  1.20it/s]"
     ]
    },
    {
     "name": "stdout",
     "output_type": "stream",
     "text": [
      "⚠️ Error al procesar prophet_features_parciales\\20179.parquet: __cinit__() got an unexpected keyword argument 'append'\n"
     ]
    },
    {
     "name": "stderr",
     "output_type": "stream",
     "text": [
      "📦 Procesando archivos:  19%|█▉        | 150/780 [00:48<08:42,  1.20it/s]"
     ]
    },
    {
     "name": "stdout",
     "output_type": "stream",
     "text": [
      "⚠️ Error al procesar prophet_features_parciales\\20180.parquet: __cinit__() got an unexpected keyword argument 'append'\n"
     ]
    },
    {
     "name": "stderr",
     "output_type": "stream",
     "text": [
      "📦 Procesando archivos:  19%|█▉        | 151/780 [00:49<09:31,  1.10it/s]"
     ]
    },
    {
     "name": "stdout",
     "output_type": "stream",
     "text": [
      "⚠️ Error al procesar prophet_features_parciales\\20181.parquet: __cinit__() got an unexpected keyword argument 'append'\n"
     ]
    },
    {
     "name": "stderr",
     "output_type": "stream",
     "text": [
      "📦 Procesando archivos:  19%|█▉        | 152/780 [00:50<10:51,  1.04s/it]"
     ]
    },
    {
     "name": "stdout",
     "output_type": "stream",
     "text": [
      "⚠️ Error al procesar prophet_features_parciales\\20182.parquet: __cinit__() got an unexpected keyword argument 'append'\n"
     ]
    },
    {
     "name": "stderr",
     "output_type": "stream",
     "text": [
      "📦 Procesando archivos:  20%|█▉        | 153/780 [00:51<09:15,  1.13it/s]"
     ]
    },
    {
     "name": "stdout",
     "output_type": "stream",
     "text": [
      "⚠️ Error al procesar prophet_features_parciales\\20183.parquet: __cinit__() got an unexpected keyword argument 'append'\n"
     ]
    },
    {
     "name": "stderr",
     "output_type": "stream",
     "text": [
      "📦 Procesando archivos:  20%|█▉        | 154/780 [00:52<09:57,  1.05it/s]"
     ]
    },
    {
     "name": "stdout",
     "output_type": "stream",
     "text": [
      "⚠️ Error al procesar prophet_features_parciales\\20184.parquet: __cinit__() got an unexpected keyword argument 'append'\n"
     ]
    },
    {
     "name": "stderr",
     "output_type": "stream",
     "text": [
      "📦 Procesando archivos:  20%|█▉        | 155/780 [00:53<10:55,  1.05s/it]"
     ]
    },
    {
     "name": "stdout",
     "output_type": "stream",
     "text": [
      "⚠️ Error al procesar prophet_features_parciales\\20187.parquet: __cinit__() got an unexpected keyword argument 'append'\n"
     ]
    },
    {
     "name": "stderr",
     "output_type": "stream",
     "text": [
      "📦 Procesando archivos:  20%|██        | 156/780 [00:54<12:02,  1.16s/it]"
     ]
    },
    {
     "name": "stdout",
     "output_type": "stream",
     "text": [
      "⚠️ Error al procesar prophet_features_parciales\\20188.parquet: __cinit__() got an unexpected keyword argument 'append'\n"
     ]
    },
    {
     "name": "stderr",
     "output_type": "stream",
     "text": [
      "📦 Procesando archivos:  20%|██        | 157/780 [00:55<11:32,  1.11s/it]"
     ]
    },
    {
     "name": "stdout",
     "output_type": "stream",
     "text": [
      "⚠️ Error al procesar prophet_features_parciales\\20189.parquet: __cinit__() got an unexpected keyword argument 'append'\n"
     ]
    },
    {
     "name": "stderr",
     "output_type": "stream",
     "text": [
      "📦 Procesando archivos:  20%|██        | 158/780 [00:56<09:18,  1.11it/s]"
     ]
    },
    {
     "name": "stdout",
     "output_type": "stream",
     "text": [
      "⚠️ Error al procesar prophet_features_parciales\\20192.parquet: __cinit__() got an unexpected keyword argument 'append'\n"
     ]
    },
    {
     "name": "stderr",
     "output_type": "stream",
     "text": [
      "📦 Procesando archivos:  20%|██        | 159/780 [00:57<09:48,  1.05it/s]"
     ]
    },
    {
     "name": "stdout",
     "output_type": "stream",
     "text": [
      "⚠️ Error al procesar prophet_features_parciales\\20193.parquet: __cinit__() got an unexpected keyword argument 'append'\n"
     ]
    },
    {
     "name": "stderr",
     "output_type": "stream",
     "text": [
      "📦 Procesando archivos:  21%|██        | 160/780 [00:57<08:35,  1.20it/s]"
     ]
    },
    {
     "name": "stdout",
     "output_type": "stream",
     "text": [
      "⚠️ Error al procesar prophet_features_parciales\\20196.parquet: __cinit__() got an unexpected keyword argument 'append'\n"
     ]
    },
    {
     "name": "stderr",
     "output_type": "stream",
     "text": [
      "📦 Procesando archivos:  21%|██        | 161/780 [00:58<08:03,  1.28it/s]"
     ]
    },
    {
     "name": "stdout",
     "output_type": "stream",
     "text": [
      "⚠️ Error al procesar prophet_features_parciales\\20197.parquet: __cinit__() got an unexpected keyword argument 'append'\n"
     ]
    },
    {
     "name": "stderr",
     "output_type": "stream",
     "text": [
      "📦 Procesando archivos:  21%|██        | 162/780 [00:59<07:57,  1.29it/s]"
     ]
    },
    {
     "name": "stdout",
     "output_type": "stream",
     "text": [
      "⚠️ Error al procesar prophet_features_parciales\\20198.parquet: __cinit__() got an unexpected keyword argument 'append'\n"
     ]
    },
    {
     "name": "stderr",
     "output_type": "stream",
     "text": [
      "📦 Procesando archivos:  21%|██        | 163/780 [00:59<06:54,  1.49it/s]"
     ]
    },
    {
     "name": "stdout",
     "output_type": "stream",
     "text": [
      "⚠️ Error al procesar prophet_features_parciales\\20200.parquet: __cinit__() got an unexpected keyword argument 'append'\n"
     ]
    },
    {
     "name": "stderr",
     "output_type": "stream",
     "text": [
      "📦 Procesando archivos:  21%|██        | 164/780 [01:00<06:01,  1.70it/s]"
     ]
    },
    {
     "name": "stdout",
     "output_type": "stream",
     "text": [
      "⚠️ Error al procesar prophet_features_parciales\\20201.parquet: __cinit__() got an unexpected keyword argument 'append'\n"
     ]
    },
    {
     "name": "stderr",
     "output_type": "stream",
     "text": [
      "📦 Procesando archivos:  21%|██▏       | 166/780 [01:00<04:11,  2.45it/s]"
     ]
    },
    {
     "name": "stdout",
     "output_type": "stream",
     "text": [
      "⚠️ Error al procesar prophet_features_parciales\\20202.parquet: __cinit__() got an unexpected keyword argument 'append'\n",
      "⚠️ Error al procesar prophet_features_parciales\\20203.parquet: __cinit__() got an unexpected keyword argument 'append'\n"
     ]
    },
    {
     "name": "stderr",
     "output_type": "stream",
     "text": [
      "📦 Procesando archivos:  21%|██▏       | 167/780 [01:01<04:54,  2.08it/s]"
     ]
    },
    {
     "name": "stdout",
     "output_type": "stream",
     "text": [
      "⚠️ Error al procesar prophet_features_parciales\\20205.parquet: __cinit__() got an unexpected keyword argument 'append'\n"
     ]
    },
    {
     "name": "stderr",
     "output_type": "stream",
     "text": [
      "📦 Procesando archivos:  22%|██▏       | 168/780 [01:01<04:32,  2.24it/s]"
     ]
    },
    {
     "name": "stdout",
     "output_type": "stream",
     "text": [
      "⚠️ Error al procesar prophet_features_parciales\\20206.parquet: __cinit__() got an unexpected keyword argument 'append'\n"
     ]
    },
    {
     "name": "stderr",
     "output_type": "stream",
     "text": [
      "📦 Procesando archivos:  22%|██▏       | 169/780 [01:02<04:25,  2.30it/s]"
     ]
    },
    {
     "name": "stdout",
     "output_type": "stream",
     "text": [
      "⚠️ Error al procesar prophet_features_parciales\\20207.parquet: __cinit__() got an unexpected keyword argument 'append'\n"
     ]
    },
    {
     "name": "stderr",
     "output_type": "stream",
     "text": [
      "📦 Procesando archivos:  22%|██▏       | 170/780 [01:02<04:37,  2.20it/s]"
     ]
    },
    {
     "name": "stdout",
     "output_type": "stream",
     "text": [
      "⚠️ Error al procesar prophet_features_parciales\\20208.parquet: __cinit__() got an unexpected keyword argument 'append'\n"
     ]
    },
    {
     "name": "stderr",
     "output_type": "stream",
     "text": [
      "📦 Procesando archivos:  22%|██▏       | 172/780 [01:03<04:09,  2.43it/s]"
     ]
    },
    {
     "name": "stdout",
     "output_type": "stream",
     "text": [
      "⚠️ Error al procesar prophet_features_parciales\\20209.parquet: __cinit__() got an unexpected keyword argument 'append'\n",
      "⚠️ Error al procesar prophet_features_parciales\\20210.parquet: __cinit__() got an unexpected keyword argument 'append'\n"
     ]
    },
    {
     "name": "stderr",
     "output_type": "stream",
     "text": [
      "📦 Procesando archivos:  22%|██▏       | 173/780 [01:04<04:48,  2.10it/s]"
     ]
    },
    {
     "name": "stdout",
     "output_type": "stream",
     "text": [
      "⚠️ Error al procesar prophet_features_parciales\\20211.parquet: __cinit__() got an unexpected keyword argument 'append'\n"
     ]
    },
    {
     "name": "stderr",
     "output_type": "stream",
     "text": [
      "📦 Procesando archivos:  22%|██▏       | 175/780 [01:05<04:44,  2.13it/s]"
     ]
    },
    {
     "name": "stdout",
     "output_type": "stream",
     "text": [
      "⚠️ Error al procesar prophet_features_parciales\\20212.parquet: __cinit__() got an unexpected keyword argument 'append'\n",
      "⚠️ Error al procesar prophet_features_parciales\\20213.parquet: __cinit__() got an unexpected keyword argument 'append'\n"
     ]
    },
    {
     "name": "stderr",
     "output_type": "stream",
     "text": [
      "📦 Procesando archivos:  23%|██▎       | 176/780 [01:05<04:53,  2.06it/s]"
     ]
    },
    {
     "name": "stdout",
     "output_type": "stream",
     "text": [
      "⚠️ Error al procesar prophet_features_parciales\\20215.parquet: __cinit__() got an unexpected keyword argument 'append'\n"
     ]
    },
    {
     "name": "stderr",
     "output_type": "stream",
     "text": [
      "📦 Procesando archivos:  23%|██▎       | 178/780 [01:06<03:58,  2.52it/s]"
     ]
    },
    {
     "name": "stdout",
     "output_type": "stream",
     "text": [
      "⚠️ Error al procesar prophet_features_parciales\\20216.parquet: __cinit__() got an unexpected keyword argument 'append'\n",
      "⚠️ Error al procesar prophet_features_parciales\\20218.parquet: __cinit__() got an unexpected keyword argument 'append'\n"
     ]
    },
    {
     "name": "stderr",
     "output_type": "stream",
     "text": [
      "📦 Procesando archivos:  23%|██▎       | 179/780 [01:07<05:28,  1.83it/s]"
     ]
    },
    {
     "name": "stdout",
     "output_type": "stream",
     "text": [
      "⚠️ Error al procesar prophet_features_parciales\\20219.parquet: __cinit__() got an unexpected keyword argument 'append'\n"
     ]
    },
    {
     "name": "stderr",
     "output_type": "stream",
     "text": [
      "📦 Procesando archivos:  23%|██▎       | 180/780 [01:08<06:16,  1.59it/s]"
     ]
    },
    {
     "name": "stdout",
     "output_type": "stream",
     "text": [
      "⚠️ Error al procesar prophet_features_parciales\\20220.parquet: __cinit__() got an unexpected keyword argument 'append'\n"
     ]
    },
    {
     "name": "stderr",
     "output_type": "stream",
     "text": [
      "📦 Procesando archivos:  23%|██▎       | 181/780 [01:08<06:36,  1.51it/s]"
     ]
    },
    {
     "name": "stdout",
     "output_type": "stream",
     "text": [
      "⚠️ Error al procesar prophet_features_parciales\\20222.parquet: __cinit__() got an unexpected keyword argument 'append'\n"
     ]
    },
    {
     "name": "stderr",
     "output_type": "stream",
     "text": [
      "📦 Procesando archivos:  23%|██▎       | 182/780 [01:09<06:01,  1.65it/s]"
     ]
    },
    {
     "name": "stdout",
     "output_type": "stream",
     "text": [
      "⚠️ Error al procesar prophet_features_parciales\\20224.parquet: __cinit__() got an unexpected keyword argument 'append'\n"
     ]
    },
    {
     "name": "stderr",
     "output_type": "stream",
     "text": [
      "📦 Procesando archivos:  23%|██▎       | 183/780 [01:10<06:28,  1.54it/s]"
     ]
    },
    {
     "name": "stdout",
     "output_type": "stream",
     "text": [
      "⚠️ Error al procesar prophet_features_parciales\\20225.parquet: __cinit__() got an unexpected keyword argument 'append'\n"
     ]
    },
    {
     "name": "stderr",
     "output_type": "stream",
     "text": [
      "📦 Procesando archivos:  24%|██▎       | 184/780 [01:10<06:57,  1.43it/s]"
     ]
    },
    {
     "name": "stdout",
     "output_type": "stream",
     "text": [
      "⚠️ Error al procesar prophet_features_parciales\\20226.parquet: __cinit__() got an unexpected keyword argument 'append'\n"
     ]
    },
    {
     "name": "stderr",
     "output_type": "stream",
     "text": [
      "📦 Procesando archivos:  24%|██▎       | 185/780 [01:11<05:58,  1.66it/s]"
     ]
    },
    {
     "name": "stdout",
     "output_type": "stream",
     "text": [
      "⚠️ Error al procesar prophet_features_parciales\\20227.parquet: __cinit__() got an unexpected keyword argument 'append'\n"
     ]
    },
    {
     "name": "stderr",
     "output_type": "stream",
     "text": [
      "📦 Procesando archivos:  24%|██▍       | 186/780 [01:11<05:53,  1.68it/s]"
     ]
    },
    {
     "name": "stdout",
     "output_type": "stream",
     "text": [
      "⚠️ Error al procesar prophet_features_parciales\\20228.parquet: __cinit__() got an unexpected keyword argument 'append'\n"
     ]
    },
    {
     "name": "stderr",
     "output_type": "stream",
     "text": [
      "📦 Procesando archivos:  24%|██▍       | 187/780 [01:12<06:24,  1.54it/s]"
     ]
    },
    {
     "name": "stdout",
     "output_type": "stream",
     "text": [
      "⚠️ Error al procesar prophet_features_parciales\\20230.parquet: __cinit__() got an unexpected keyword argument 'append'\n"
     ]
    },
    {
     "name": "stderr",
     "output_type": "stream",
     "text": [
      "📦 Procesando archivos:  24%|██▍       | 188/780 [01:13<08:15,  1.20it/s]"
     ]
    },
    {
     "name": "stdout",
     "output_type": "stream",
     "text": [
      "⚠️ Error al procesar prophet_features_parciales\\20231.parquet: __cinit__() got an unexpected keyword argument 'append'\n"
     ]
    },
    {
     "name": "stderr",
     "output_type": "stream",
     "text": [
      "📦 Procesando archivos:  24%|██▍       | 189/780 [01:14<07:34,  1.30it/s]"
     ]
    },
    {
     "name": "stdout",
     "output_type": "stream",
     "text": [
      "⚠️ Error al procesar prophet_features_parciales\\20232.parquet: __cinit__() got an unexpected keyword argument 'append'\n"
     ]
    },
    {
     "name": "stderr",
     "output_type": "stream",
     "text": [
      "📦 Procesando archivos:  24%|██▍       | 190/780 [01:15<07:43,  1.27it/s]"
     ]
    },
    {
     "name": "stdout",
     "output_type": "stream",
     "text": [
      "⚠️ Error al procesar prophet_features_parciales\\20233.parquet: __cinit__() got an unexpected keyword argument 'append'\n"
     ]
    },
    {
     "name": "stderr",
     "output_type": "stream",
     "text": [
      "📦 Procesando archivos:  24%|██▍       | 191/780 [01:16<08:00,  1.23it/s]"
     ]
    },
    {
     "name": "stdout",
     "output_type": "stream",
     "text": [
      "⚠️ Error al procesar prophet_features_parciales\\20234.parquet: __cinit__() got an unexpected keyword argument 'append'\n"
     ]
    },
    {
     "name": "stderr",
     "output_type": "stream",
     "text": [
      "📦 Procesando archivos:  25%|██▍       | 192/780 [01:17<09:05,  1.08it/s]"
     ]
    },
    {
     "name": "stdout",
     "output_type": "stream",
     "text": [
      "⚠️ Error al procesar prophet_features_parciales\\20235.parquet: __cinit__() got an unexpected keyword argument 'append'\n"
     ]
    },
    {
     "name": "stderr",
     "output_type": "stream",
     "text": [
      "📦 Procesando archivos:  25%|██▍       | 193/780 [01:17<07:07,  1.37it/s]"
     ]
    },
    {
     "name": "stdout",
     "output_type": "stream",
     "text": [
      "⚠️ Error al procesar prophet_features_parciales\\20236.parquet: __cinit__() got an unexpected keyword argument 'append'\n"
     ]
    },
    {
     "name": "stderr",
     "output_type": "stream",
     "text": [
      "📦 Procesando archivos:  25%|██▍       | 194/780 [01:17<05:53,  1.66it/s]"
     ]
    },
    {
     "name": "stdout",
     "output_type": "stream",
     "text": [
      "⚠️ Error al procesar prophet_features_parciales\\20237.parquet: __cinit__() got an unexpected keyword argument 'append'\n"
     ]
    },
    {
     "name": "stderr",
     "output_type": "stream",
     "text": [
      "📦 Procesando archivos:  25%|██▌       | 195/780 [01:18<07:05,  1.37it/s]"
     ]
    },
    {
     "name": "stdout",
     "output_type": "stream",
     "text": [
      "⚠️ Error al procesar prophet_features_parciales\\20238.parquet: __cinit__() got an unexpected keyword argument 'append'\n"
     ]
    },
    {
     "name": "stderr",
     "output_type": "stream",
     "text": [
      "📦 Procesando archivos:  25%|██▌       | 196/780 [01:19<07:39,  1.27it/s]"
     ]
    },
    {
     "name": "stdout",
     "output_type": "stream",
     "text": [
      "⚠️ Error al procesar prophet_features_parciales\\20239.parquet: __cinit__() got an unexpected keyword argument 'append'\n"
     ]
    },
    {
     "name": "stderr",
     "output_type": "stream",
     "text": [
      "📦 Procesando archivos:  25%|██▌       | 197/780 [01:20<06:31,  1.49it/s]"
     ]
    },
    {
     "name": "stdout",
     "output_type": "stream",
     "text": [
      "⚠️ Error al procesar prophet_features_parciales\\20240.parquet: __cinit__() got an unexpected keyword argument 'append'\n"
     ]
    },
    {
     "name": "stderr",
     "output_type": "stream",
     "text": [
      "📦 Procesando archivos:  25%|██▌       | 198/780 [01:20<05:44,  1.69it/s]"
     ]
    },
    {
     "name": "stdout",
     "output_type": "stream",
     "text": [
      "⚠️ Error al procesar prophet_features_parciales\\20241.parquet: __cinit__() got an unexpected keyword argument 'append'\n"
     ]
    },
    {
     "name": "stderr",
     "output_type": "stream",
     "text": [
      "📦 Procesando archivos:  26%|██▌       | 199/780 [01:21<04:59,  1.94it/s]"
     ]
    },
    {
     "name": "stdout",
     "output_type": "stream",
     "text": [
      "⚠️ Error al procesar prophet_features_parciales\\20242.parquet: __cinit__() got an unexpected keyword argument 'append'\n"
     ]
    },
    {
     "name": "stderr",
     "output_type": "stream",
     "text": [
      "📦 Procesando archivos:  26%|██▌       | 200/780 [01:21<05:51,  1.65it/s]"
     ]
    },
    {
     "name": "stdout",
     "output_type": "stream",
     "text": [
      "⚠️ Error al procesar prophet_features_parciales\\20244.parquet: __cinit__() got an unexpected keyword argument 'append'\n"
     ]
    },
    {
     "name": "stderr",
     "output_type": "stream",
     "text": [
      "📦 Procesando archivos:  26%|██▌       | 201/780 [01:22<06:36,  1.46it/s]"
     ]
    },
    {
     "name": "stdout",
     "output_type": "stream",
     "text": [
      "⚠️ Error al procesar prophet_features_parciales\\20246.parquet: __cinit__() got an unexpected keyword argument 'append'\n"
     ]
    },
    {
     "name": "stderr",
     "output_type": "stream",
     "text": [
      "📦 Procesando archivos:  26%|██▌       | 202/780 [01:23<06:47,  1.42it/s]"
     ]
    },
    {
     "name": "stdout",
     "output_type": "stream",
     "text": [
      "⚠️ Error al procesar prophet_features_parciales\\20249.parquet: __cinit__() got an unexpected keyword argument 'append'\n"
     ]
    },
    {
     "name": "stderr",
     "output_type": "stream",
     "text": [
      "📦 Procesando archivos:  26%|██▌       | 203/780 [01:24<07:41,  1.25it/s]"
     ]
    },
    {
     "name": "stdout",
     "output_type": "stream",
     "text": [
      "⚠️ Error al procesar prophet_features_parciales\\20251.parquet: __cinit__() got an unexpected keyword argument 'append'\n"
     ]
    },
    {
     "name": "stderr",
     "output_type": "stream",
     "text": [
      "📦 Procesando archivos:  26%|██▌       | 204/780 [01:24<06:46,  1.42it/s]"
     ]
    },
    {
     "name": "stdout",
     "output_type": "stream",
     "text": [
      "⚠️ Error al procesar prophet_features_parciales\\20252.parquet: __cinit__() got an unexpected keyword argument 'append'\n"
     ]
    },
    {
     "name": "stderr",
     "output_type": "stream",
     "text": [
      "📦 Procesando archivos:  26%|██▋       | 205/780 [01:25<06:08,  1.56it/s]"
     ]
    },
    {
     "name": "stdout",
     "output_type": "stream",
     "text": [
      "⚠️ Error al procesar prophet_features_parciales\\20253.parquet: __cinit__() got an unexpected keyword argument 'append'\n"
     ]
    },
    {
     "name": "stderr",
     "output_type": "stream",
     "text": [
      "📦 Procesando archivos:  26%|██▋       | 206/780 [01:25<05:52,  1.63it/s]"
     ]
    },
    {
     "name": "stdout",
     "output_type": "stream",
     "text": [
      "⚠️ Error al procesar prophet_features_parciales\\20254.parquet: __cinit__() got an unexpected keyword argument 'append'\n"
     ]
    },
    {
     "name": "stderr",
     "output_type": "stream",
     "text": [
      "📦 Procesando archivos:  27%|██▋       | 207/780 [01:26<06:51,  1.39it/s]"
     ]
    },
    {
     "name": "stdout",
     "output_type": "stream",
     "text": [
      "⚠️ Error al procesar prophet_features_parciales\\20255.parquet: __cinit__() got an unexpected keyword argument 'append'\n"
     ]
    },
    {
     "name": "stderr",
     "output_type": "stream",
     "text": [
      "📦 Procesando archivos:  27%|██▋       | 209/780 [01:28<05:40,  1.68it/s]"
     ]
    },
    {
     "name": "stdout",
     "output_type": "stream",
     "text": [
      "⚠️ Error al procesar prophet_features_parciales\\20256.parquet: __cinit__() got an unexpected keyword argument 'append'\n",
      "⚠️ Error al procesar prophet_features_parciales\\20257.parquet: __cinit__() got an unexpected keyword argument 'append'\n"
     ]
    },
    {
     "name": "stderr",
     "output_type": "stream",
     "text": [
      "📦 Procesando archivos:  27%|██▋       | 211/780 [01:28<03:30,  2.70it/s]"
     ]
    },
    {
     "name": "stdout",
     "output_type": "stream",
     "text": [
      "⚠️ Error al procesar prophet_features_parciales\\20259.parquet: __cinit__() got an unexpected keyword argument 'append'\n",
      "⚠️ Error al procesar prophet_features_parciales\\20261.parquet: __cinit__() got an unexpected keyword argument 'append'\n",
      "⚠️ Error al procesar prophet_features_parciales\\20262.parquet: __cinit__() got an unexpected keyword argument 'append'\n"
     ]
    },
    {
     "name": "stderr",
     "output_type": "stream",
     "text": [
      "📦 Procesando archivos:  27%|██▋       | 213/780 [01:29<04:44,  1.99it/s]"
     ]
    },
    {
     "name": "stdout",
     "output_type": "stream",
     "text": [
      "⚠️ Error al procesar prophet_features_parciales\\20263.parquet: __cinit__() got an unexpected keyword argument 'append'\n"
     ]
    },
    {
     "name": "stderr",
     "output_type": "stream",
     "text": [
      "📦 Procesando archivos:  27%|██▋       | 214/780 [01:30<04:58,  1.89it/s]"
     ]
    },
    {
     "name": "stdout",
     "output_type": "stream",
     "text": [
      "⚠️ Error al procesar prophet_features_parciales\\20264.parquet: __cinit__() got an unexpected keyword argument 'append'\n"
     ]
    },
    {
     "name": "stderr",
     "output_type": "stream",
     "text": [
      "📦 Procesando archivos:  28%|██▊       | 215/780 [01:31<05:34,  1.69it/s]"
     ]
    },
    {
     "name": "stdout",
     "output_type": "stream",
     "text": [
      "⚠️ Error al procesar prophet_features_parciales\\20265.parquet: __cinit__() got an unexpected keyword argument 'append'\n"
     ]
    },
    {
     "name": "stderr",
     "output_type": "stream",
     "text": [
      "📦 Procesando archivos:  28%|██▊       | 216/780 [01:31<04:58,  1.89it/s]"
     ]
    },
    {
     "name": "stdout",
     "output_type": "stream",
     "text": [
      "⚠️ Error al procesar prophet_features_parciales\\20266.parquet: __cinit__() got an unexpected keyword argument 'append'\n"
     ]
    },
    {
     "name": "stderr",
     "output_type": "stream",
     "text": [
      "📦 Procesando archivos:  28%|██▊       | 217/780 [01:32<07:07,  1.32it/s]"
     ]
    },
    {
     "name": "stdout",
     "output_type": "stream",
     "text": [
      "⚠️ Error al procesar prophet_features_parciales\\20267.parquet: __cinit__() got an unexpected keyword argument 'append'\n"
     ]
    },
    {
     "name": "stderr",
     "output_type": "stream",
     "text": [
      "📦 Procesando archivos:  28%|██▊       | 218/780 [01:33<08:06,  1.15it/s]"
     ]
    },
    {
     "name": "stdout",
     "output_type": "stream",
     "text": [
      "⚠️ Error al procesar prophet_features_parciales\\20268.parquet: __cinit__() got an unexpected keyword argument 'append'\n"
     ]
    },
    {
     "name": "stderr",
     "output_type": "stream",
     "text": [
      "📦 Procesando archivos:  28%|██▊       | 219/780 [01:34<06:55,  1.35it/s]"
     ]
    },
    {
     "name": "stdout",
     "output_type": "stream",
     "text": [
      "⚠️ Error al procesar prophet_features_parciales\\20269.parquet: __cinit__() got an unexpected keyword argument 'append'\n"
     ]
    },
    {
     "name": "stderr",
     "output_type": "stream",
     "text": [
      "📦 Procesando archivos:  28%|██▊       | 220/780 [01:34<05:27,  1.71it/s]"
     ]
    },
    {
     "name": "stdout",
     "output_type": "stream",
     "text": [
      "⚠️ Error al procesar prophet_features_parciales\\20270.parquet: __cinit__() got an unexpected keyword argument 'append'\n"
     ]
    },
    {
     "name": "stderr",
     "output_type": "stream",
     "text": [
      "📦 Procesando archivos:  28%|██▊       | 221/780 [01:34<05:07,  1.82it/s]"
     ]
    },
    {
     "name": "stdout",
     "output_type": "stream",
     "text": [
      "⚠️ Error al procesar prophet_features_parciales\\20271.parquet: __cinit__() got an unexpected keyword argument 'append'\n"
     ]
    },
    {
     "name": "stderr",
     "output_type": "stream",
     "text": [
      "📦 Procesando archivos:  28%|██▊       | 222/780 [01:36<07:03,  1.32it/s]"
     ]
    },
    {
     "name": "stdout",
     "output_type": "stream",
     "text": [
      "⚠️ Error al procesar prophet_features_parciales\\20272.parquet: __cinit__() got an unexpected keyword argument 'append'\n"
     ]
    },
    {
     "name": "stderr",
     "output_type": "stream",
     "text": [
      "📦 Procesando archivos:  29%|██▊       | 223/780 [01:37<07:52,  1.18it/s]"
     ]
    },
    {
     "name": "stdout",
     "output_type": "stream",
     "text": [
      "⚠️ Error al procesar prophet_features_parciales\\20273.parquet: __cinit__() got an unexpected keyword argument 'append'\n"
     ]
    },
    {
     "name": "stderr",
     "output_type": "stream",
     "text": [
      "📦 Procesando archivos:  29%|██▊       | 224/780 [01:38<07:58,  1.16it/s]"
     ]
    },
    {
     "name": "stdout",
     "output_type": "stream",
     "text": [
      "⚠️ Error al procesar prophet_features_parciales\\20275.parquet: __cinit__() got an unexpected keyword argument 'append'\n"
     ]
    },
    {
     "name": "stderr",
     "output_type": "stream",
     "text": [
      "📦 Procesando archivos:  29%|██▉       | 225/780 [01:39<09:57,  1.08s/it]"
     ]
    },
    {
     "name": "stdout",
     "output_type": "stream",
     "text": [
      "⚠️ Error al procesar prophet_features_parciales\\20276.parquet: __cinit__() got an unexpected keyword argument 'append'\n"
     ]
    },
    {
     "name": "stderr",
     "output_type": "stream",
     "text": [
      "📦 Procesando archivos:  29%|██▉       | 226/780 [01:40<07:56,  1.16it/s]"
     ]
    },
    {
     "name": "stdout",
     "output_type": "stream",
     "text": [
      "⚠️ Error al procesar prophet_features_parciales\\20277.parquet: __cinit__() got an unexpected keyword argument 'append'\n"
     ]
    },
    {
     "name": "stderr",
     "output_type": "stream",
     "text": [
      "📦 Procesando archivos:  29%|██▉       | 227/780 [01:40<06:25,  1.44it/s]"
     ]
    },
    {
     "name": "stdout",
     "output_type": "stream",
     "text": [
      "⚠️ Error al procesar prophet_features_parciales\\20278.parquet: __cinit__() got an unexpected keyword argument 'append'\n"
     ]
    },
    {
     "name": "stderr",
     "output_type": "stream",
     "text": [
      "📦 Procesando archivos:  29%|██▉       | 228/780 [01:40<05:24,  1.70it/s]"
     ]
    },
    {
     "name": "stdout",
     "output_type": "stream",
     "text": [
      "⚠️ Error al procesar prophet_features_parciales\\20280.parquet: __cinit__() got an unexpected keyword argument 'append'\n"
     ]
    },
    {
     "name": "stderr",
     "output_type": "stream",
     "text": [
      "📦 Procesando archivos:  29%|██▉       | 229/780 [01:41<05:01,  1.83it/s]"
     ]
    },
    {
     "name": "stdout",
     "output_type": "stream",
     "text": [
      "⚠️ Error al procesar prophet_features_parciales\\20281.parquet: __cinit__() got an unexpected keyword argument 'append'\n"
     ]
    },
    {
     "name": "stderr",
     "output_type": "stream",
     "text": [
      "📦 Procesando archivos:  29%|██▉       | 230/780 [01:41<05:08,  1.78it/s]"
     ]
    },
    {
     "name": "stdout",
     "output_type": "stream",
     "text": [
      "⚠️ Error al procesar prophet_features_parciales\\20282.parquet: __cinit__() got an unexpected keyword argument 'append'\n"
     ]
    },
    {
     "name": "stderr",
     "output_type": "stream",
     "text": [
      "📦 Procesando archivos:  30%|██▉       | 231/780 [01:42<05:38,  1.62it/s]"
     ]
    },
    {
     "name": "stdout",
     "output_type": "stream",
     "text": [
      "⚠️ Error al procesar prophet_features_parciales\\20283.parquet: __cinit__() got an unexpected keyword argument 'append'\n"
     ]
    },
    {
     "name": "stderr",
     "output_type": "stream",
     "text": [
      "📦 Procesando archivos:  30%|██▉       | 232/780 [01:43<06:39,  1.37it/s]"
     ]
    },
    {
     "name": "stdout",
     "output_type": "stream",
     "text": [
      "⚠️ Error al procesar prophet_features_parciales\\20284.parquet: __cinit__() got an unexpected keyword argument 'append'\n"
     ]
    },
    {
     "name": "stderr",
     "output_type": "stream",
     "text": [
      "📦 Procesando archivos:  30%|███       | 234/780 [01:44<04:24,  2.06it/s]"
     ]
    },
    {
     "name": "stdout",
     "output_type": "stream",
     "text": [
      "⚠️ Error al procesar prophet_features_parciales\\20285.parquet: __cinit__() got an unexpected keyword argument 'append'\n",
      "⚠️ Error al procesar prophet_features_parciales\\20286.parquet: __cinit__() got an unexpected keyword argument 'append'\n"
     ]
    },
    {
     "name": "stderr",
     "output_type": "stream",
     "text": [
      "📦 Procesando archivos:  30%|███       | 235/780 [01:44<03:55,  2.31it/s]"
     ]
    },
    {
     "name": "stdout",
     "output_type": "stream",
     "text": [
      "⚠️ Error al procesar prophet_features_parciales\\20288.parquet: __cinit__() got an unexpected keyword argument 'append'\n"
     ]
    },
    {
     "name": "stderr",
     "output_type": "stream",
     "text": [
      "📦 Procesando archivos:  30%|███       | 236/780 [01:44<03:57,  2.29it/s]"
     ]
    },
    {
     "name": "stdout",
     "output_type": "stream",
     "text": [
      "⚠️ Error al procesar prophet_features_parciales\\20289.parquet: __cinit__() got an unexpected keyword argument 'append'\n"
     ]
    },
    {
     "name": "stderr",
     "output_type": "stream",
     "text": [
      "📦 Procesando archivos:  30%|███       | 237/780 [01:45<05:00,  1.81it/s]"
     ]
    },
    {
     "name": "stdout",
     "output_type": "stream",
     "text": [
      "⚠️ Error al procesar prophet_features_parciales\\20290.parquet: __cinit__() got an unexpected keyword argument 'append'\n"
     ]
    },
    {
     "name": "stderr",
     "output_type": "stream",
     "text": [
      "📦 Procesando archivos:  31%|███       | 238/780 [01:46<04:37,  1.95it/s]"
     ]
    },
    {
     "name": "stdout",
     "output_type": "stream",
     "text": [
      "⚠️ Error al procesar prophet_features_parciales\\20291.parquet: __cinit__() got an unexpected keyword argument 'append'\n"
     ]
    },
    {
     "name": "stderr",
     "output_type": "stream",
     "text": [
      "📦 Procesando archivos:  31%|███       | 239/780 [01:47<06:20,  1.42it/s]"
     ]
    },
    {
     "name": "stdout",
     "output_type": "stream",
     "text": [
      "⚠️ Error al procesar prophet_features_parciales\\20292.parquet: __cinit__() got an unexpected keyword argument 'append'\n"
     ]
    },
    {
     "name": "stderr",
     "output_type": "stream",
     "text": [
      "📦 Procesando archivos:  31%|███       | 240/780 [01:47<05:30,  1.63it/s]"
     ]
    },
    {
     "name": "stdout",
     "output_type": "stream",
     "text": [
      "⚠️ Error al procesar prophet_features_parciales\\20295.parquet: __cinit__() got an unexpected keyword argument 'append'\n"
     ]
    },
    {
     "name": "stderr",
     "output_type": "stream",
     "text": [
      "📦 Procesando archivos:  31%|███       | 241/780 [01:49<07:57,  1.13it/s]"
     ]
    },
    {
     "name": "stdout",
     "output_type": "stream",
     "text": [
      "⚠️ Error al procesar prophet_features_parciales\\20296.parquet: __cinit__() got an unexpected keyword argument 'append'\n"
     ]
    },
    {
     "name": "stderr",
     "output_type": "stream",
     "text": [
      "📦 Procesando archivos:  31%|███       | 242/780 [01:49<07:14,  1.24it/s]"
     ]
    },
    {
     "name": "stdout",
     "output_type": "stream",
     "text": [
      "⚠️ Error al procesar prophet_features_parciales\\20297.parquet: __cinit__() got an unexpected keyword argument 'append'\n"
     ]
    },
    {
     "name": "stderr",
     "output_type": "stream",
     "text": [
      "📦 Procesando archivos:  31%|███       | 243/780 [01:50<06:39,  1.34it/s]"
     ]
    },
    {
     "name": "stdout",
     "output_type": "stream",
     "text": [
      "⚠️ Error al procesar prophet_features_parciales\\20298.parquet: __cinit__() got an unexpected keyword argument 'append'\n"
     ]
    },
    {
     "name": "stderr",
     "output_type": "stream",
     "text": [
      "📦 Procesando archivos:  31%|███▏      | 244/780 [01:50<05:28,  1.63it/s]"
     ]
    },
    {
     "name": "stdout",
     "output_type": "stream",
     "text": [
      "⚠️ Error al procesar prophet_features_parciales\\20299.parquet: __cinit__() got an unexpected keyword argument 'append'\n"
     ]
    },
    {
     "name": "stderr",
     "output_type": "stream",
     "text": [
      "📦 Procesando archivos:  31%|███▏      | 245/780 [01:52<07:29,  1.19it/s]"
     ]
    },
    {
     "name": "stdout",
     "output_type": "stream",
     "text": [
      "⚠️ Error al procesar prophet_features_parciales\\20300.parquet: __cinit__() got an unexpected keyword argument 'append'\n"
     ]
    },
    {
     "name": "stderr",
     "output_type": "stream",
     "text": [
      "📦 Procesando archivos:  32%|███▏      | 246/780 [01:53<08:19,  1.07it/s]"
     ]
    },
    {
     "name": "stdout",
     "output_type": "stream",
     "text": [
      "⚠️ Error al procesar prophet_features_parciales\\20301.parquet: __cinit__() got an unexpected keyword argument 'append'\n"
     ]
    },
    {
     "name": "stderr",
     "output_type": "stream",
     "text": [
      "📦 Procesando archivos:  32%|███▏      | 247/780 [01:54<08:06,  1.09it/s]"
     ]
    },
    {
     "name": "stdout",
     "output_type": "stream",
     "text": [
      "⚠️ Error al procesar prophet_features_parciales\\20302.parquet: __cinit__() got an unexpected keyword argument 'append'\n"
     ]
    },
    {
     "name": "stderr",
     "output_type": "stream",
     "text": [
      "📦 Procesando archivos:  32%|███▏      | 248/780 [01:54<07:16,  1.22it/s]"
     ]
    },
    {
     "name": "stdout",
     "output_type": "stream",
     "text": [
      "⚠️ Error al procesar prophet_features_parciales\\20303.parquet: __cinit__() got an unexpected keyword argument 'append'\n"
     ]
    },
    {
     "name": "stderr",
     "output_type": "stream",
     "text": [
      "📦 Procesando archivos:  32%|███▏      | 249/780 [01:54<05:47,  1.53it/s]"
     ]
    },
    {
     "name": "stdout",
     "output_type": "stream",
     "text": [
      "⚠️ Error al procesar prophet_features_parciales\\20304.parquet: __cinit__() got an unexpected keyword argument 'append'\n"
     ]
    },
    {
     "name": "stderr",
     "output_type": "stream",
     "text": [
      "📦 Procesando archivos:  32%|███▏      | 250/780 [01:55<06:00,  1.47it/s]"
     ]
    },
    {
     "name": "stdout",
     "output_type": "stream",
     "text": [
      "⚠️ Error al procesar prophet_features_parciales\\20305.parquet: __cinit__() got an unexpected keyword argument 'append'\n"
     ]
    },
    {
     "name": "stderr",
     "output_type": "stream",
     "text": [
      "📦 Procesando archivos:  32%|███▏      | 251/780 [01:56<05:58,  1.47it/s]"
     ]
    },
    {
     "name": "stdout",
     "output_type": "stream",
     "text": [
      "⚠️ Error al procesar prophet_features_parciales\\20306.parquet: __cinit__() got an unexpected keyword argument 'append'\n"
     ]
    },
    {
     "name": "stderr",
     "output_type": "stream",
     "text": [
      "📦 Procesando archivos:  32%|███▏      | 252/780 [01:57<07:18,  1.20it/s]"
     ]
    },
    {
     "name": "stdout",
     "output_type": "stream",
     "text": [
      "⚠️ Error al procesar prophet_features_parciales\\20307.parquet: __cinit__() got an unexpected keyword argument 'append'\n"
     ]
    },
    {
     "name": "stderr",
     "output_type": "stream",
     "text": [
      "📦 Procesando archivos:  32%|███▏      | 253/780 [01:58<08:22,  1.05it/s]"
     ]
    },
    {
     "name": "stdout",
     "output_type": "stream",
     "text": [
      "⚠️ Error al procesar prophet_features_parciales\\20309.parquet: __cinit__() got an unexpected keyword argument 'append'\n"
     ]
    },
    {
     "name": "stderr",
     "output_type": "stream",
     "text": [
      "📦 Procesando archivos:  33%|███▎      | 254/780 [01:59<07:29,  1.17it/s]"
     ]
    },
    {
     "name": "stdout",
     "output_type": "stream",
     "text": [
      "⚠️ Error al procesar prophet_features_parciales\\20310.parquet: __cinit__() got an unexpected keyword argument 'append'\n"
     ]
    },
    {
     "name": "stderr",
     "output_type": "stream",
     "text": [
      "📦 Procesando archivos:  33%|███▎      | 256/780 [02:00<04:57,  1.76it/s]"
     ]
    },
    {
     "name": "stdout",
     "output_type": "stream",
     "text": [
      "⚠️ Error al procesar prophet_features_parciales\\20311.parquet: __cinit__() got an unexpected keyword argument 'append'\n",
      "⚠️ Error al procesar prophet_features_parciales\\20313.parquet: __cinit__() got an unexpected keyword argument 'append'\n"
     ]
    },
    {
     "name": "stderr",
     "output_type": "stream",
     "text": [
      "📦 Procesando archivos:  33%|███▎      | 257/780 [02:00<04:45,  1.83it/s]"
     ]
    },
    {
     "name": "stdout",
     "output_type": "stream",
     "text": [
      "⚠️ Error al procesar prophet_features_parciales\\20314.parquet: __cinit__() got an unexpected keyword argument 'append'\n"
     ]
    },
    {
     "name": "stderr",
     "output_type": "stream",
     "text": [
      "📦 Procesando archivos:  33%|███▎      | 258/780 [02:01<06:21,  1.37it/s]"
     ]
    },
    {
     "name": "stdout",
     "output_type": "stream",
     "text": [
      "⚠️ Error al procesar prophet_features_parciales\\20315.parquet: __cinit__() got an unexpected keyword argument 'append'\n"
     ]
    },
    {
     "name": "stderr",
     "output_type": "stream",
     "text": [
      "📦 Procesando archivos:  33%|███▎      | 259/780 [02:02<07:36,  1.14it/s]"
     ]
    },
    {
     "name": "stdout",
     "output_type": "stream",
     "text": [
      "⚠️ Error al procesar prophet_features_parciales\\20316.parquet: __cinit__() got an unexpected keyword argument 'append'\n"
     ]
    },
    {
     "name": "stderr",
     "output_type": "stream",
     "text": [
      "📦 Procesando archivos:  33%|███▎      | 260/780 [02:04<08:21,  1.04it/s]"
     ]
    },
    {
     "name": "stdout",
     "output_type": "stream",
     "text": [
      "⚠️ Error al procesar prophet_features_parciales\\20317.parquet: __cinit__() got an unexpected keyword argument 'append'\n"
     ]
    },
    {
     "name": "stderr",
     "output_type": "stream",
     "text": [
      "📦 Procesando archivos:  33%|███▎      | 261/780 [02:04<07:29,  1.15it/s]"
     ]
    },
    {
     "name": "stdout",
     "output_type": "stream",
     "text": [
      "⚠️ Error al procesar prophet_features_parciales\\20319.parquet: __cinit__() got an unexpected keyword argument 'append'\n"
     ]
    },
    {
     "name": "stderr",
     "output_type": "stream",
     "text": [
      "📦 Procesando archivos:  34%|███▎      | 262/780 [02:06<09:02,  1.05s/it]"
     ]
    },
    {
     "name": "stdout",
     "output_type": "stream",
     "text": [
      "⚠️ Error al procesar prophet_features_parciales\\20320.parquet: __cinit__() got an unexpected keyword argument 'append'\n"
     ]
    },
    {
     "name": "stderr",
     "output_type": "stream",
     "text": [
      "📦 Procesando archivos:  34%|███▎      | 263/780 [02:07<09:39,  1.12s/it]"
     ]
    },
    {
     "name": "stdout",
     "output_type": "stream",
     "text": [
      "⚠️ Error al procesar prophet_features_parciales\\20321.parquet: __cinit__() got an unexpected keyword argument 'append'\n"
     ]
    },
    {
     "name": "stderr",
     "output_type": "stream",
     "text": [
      "📦 Procesando archivos:  34%|███▍      | 264/780 [02:07<07:48,  1.10it/s]"
     ]
    },
    {
     "name": "stdout",
     "output_type": "stream",
     "text": [
      "⚠️ Error al procesar prophet_features_parciales\\20322.parquet: __cinit__() got an unexpected keyword argument 'append'\n"
     ]
    },
    {
     "name": "stderr",
     "output_type": "stream",
     "text": [
      "📦 Procesando archivos:  34%|███▍      | 265/780 [02:08<06:19,  1.36it/s]"
     ]
    },
    {
     "name": "stdout",
     "output_type": "stream",
     "text": [
      "⚠️ Error al procesar prophet_features_parciales\\20323.parquet: __cinit__() got an unexpected keyword argument 'append'\n"
     ]
    },
    {
     "name": "stderr",
     "output_type": "stream",
     "text": [
      "📦 Procesando archivos:  34%|███▍      | 266/780 [02:09<07:32,  1.14it/s]"
     ]
    },
    {
     "name": "stdout",
     "output_type": "stream",
     "text": [
      "⚠️ Error al procesar prophet_features_parciales\\20324.parquet: __cinit__() got an unexpected keyword argument 'append'\n"
     ]
    },
    {
     "name": "stderr",
     "output_type": "stream",
     "text": [
      "📦 Procesando archivos:  34%|███▍      | 267/780 [02:09<06:15,  1.37it/s]"
     ]
    },
    {
     "name": "stdout",
     "output_type": "stream",
     "text": [
      "⚠️ Error al procesar prophet_features_parciales\\20325.parquet: __cinit__() got an unexpected keyword argument 'append'\n"
     ]
    },
    {
     "name": "stderr",
     "output_type": "stream",
     "text": [
      "📦 Procesando archivos:  34%|███▍      | 268/780 [02:11<08:35,  1.01s/it]"
     ]
    },
    {
     "name": "stdout",
     "output_type": "stream",
     "text": [
      "⚠️ Error al procesar prophet_features_parciales\\20326.parquet: __cinit__() got an unexpected keyword argument 'append'\n"
     ]
    },
    {
     "name": "stderr",
     "output_type": "stream",
     "text": [
      "📦 Procesando archivos:  34%|███▍      | 269/780 [02:12<08:26,  1.01it/s]"
     ]
    },
    {
     "name": "stdout",
     "output_type": "stream",
     "text": [
      "⚠️ Error al procesar prophet_features_parciales\\20327.parquet: __cinit__() got an unexpected keyword argument 'append'\n"
     ]
    },
    {
     "name": "stderr",
     "output_type": "stream",
     "text": [
      "📦 Procesando archivos:  35%|███▍      | 270/780 [02:12<07:01,  1.21it/s]"
     ]
    },
    {
     "name": "stdout",
     "output_type": "stream",
     "text": [
      "⚠️ Error al procesar prophet_features_parciales\\20328.parquet: __cinit__() got an unexpected keyword argument 'append'\n"
     ]
    },
    {
     "name": "stderr",
     "output_type": "stream",
     "text": [
      "📦 Procesando archivos:  35%|███▍      | 271/780 [02:13<07:22,  1.15it/s]"
     ]
    },
    {
     "name": "stdout",
     "output_type": "stream",
     "text": [
      "⚠️ Error al procesar prophet_features_parciales\\20329.parquet: __cinit__() got an unexpected keyword argument 'append'\n"
     ]
    },
    {
     "name": "stderr",
     "output_type": "stream",
     "text": [
      "📦 Procesando archivos:  35%|███▍      | 272/780 [02:15<08:30,  1.01s/it]"
     ]
    },
    {
     "name": "stdout",
     "output_type": "stream",
     "text": [
      "⚠️ Error al procesar prophet_features_parciales\\20330.parquet: __cinit__() got an unexpected keyword argument 'append'\n"
     ]
    },
    {
     "name": "stderr",
     "output_type": "stream",
     "text": [
      "📦 Procesando archivos:  35%|███▌      | 273/780 [02:15<07:55,  1.07it/s]"
     ]
    },
    {
     "name": "stdout",
     "output_type": "stream",
     "text": [
      "⚠️ Error al procesar prophet_features_parciales\\20332.parquet: __cinit__() got an unexpected keyword argument 'append'\n"
     ]
    },
    {
     "name": "stderr",
     "output_type": "stream",
     "text": [
      "📦 Procesando archivos:  35%|███▌      | 274/780 [02:16<06:29,  1.30it/s]"
     ]
    },
    {
     "name": "stdout",
     "output_type": "stream",
     "text": [
      "⚠️ Error al procesar prophet_features_parciales\\20334.parquet: __cinit__() got an unexpected keyword argument 'append'\n"
     ]
    },
    {
     "name": "stderr",
     "output_type": "stream",
     "text": [
      "📦 Procesando archivos:  35%|███▌      | 275/780 [02:16<05:28,  1.54it/s]"
     ]
    },
    {
     "name": "stdout",
     "output_type": "stream",
     "text": [
      "⚠️ Error al procesar prophet_features_parciales\\20335.parquet: __cinit__() got an unexpected keyword argument 'append'\n"
     ]
    },
    {
     "name": "stderr",
     "output_type": "stream",
     "text": [
      "📦 Procesando archivos:  35%|███▌      | 276/780 [02:17<06:30,  1.29it/s]"
     ]
    },
    {
     "name": "stdout",
     "output_type": "stream",
     "text": [
      "⚠️ Error al procesar prophet_features_parciales\\20336.parquet: __cinit__() got an unexpected keyword argument 'append'\n"
     ]
    },
    {
     "name": "stderr",
     "output_type": "stream",
     "text": [
      "📦 Procesando archivos:  36%|███▌      | 277/780 [02:18<06:17,  1.33it/s]"
     ]
    },
    {
     "name": "stdout",
     "output_type": "stream",
     "text": [
      "⚠️ Error al procesar prophet_features_parciales\\20337.parquet: __cinit__() got an unexpected keyword argument 'append'\n"
     ]
    },
    {
     "name": "stderr",
     "output_type": "stream",
     "text": [
      "📦 Procesando archivos:  36%|███▌      | 278/780 [02:19<06:55,  1.21it/s]"
     ]
    },
    {
     "name": "stdout",
     "output_type": "stream",
     "text": [
      "⚠️ Error al procesar prophet_features_parciales\\20338.parquet: __cinit__() got an unexpected keyword argument 'append'\n"
     ]
    },
    {
     "name": "stderr",
     "output_type": "stream",
     "text": [
      "📦 Procesando archivos:  36%|███▌      | 279/780 [02:19<05:50,  1.43it/s]"
     ]
    },
    {
     "name": "stdout",
     "output_type": "stream",
     "text": [
      "⚠️ Error al procesar prophet_features_parciales\\20340.parquet: __cinit__() got an unexpected keyword argument 'append'\n"
     ]
    },
    {
     "name": "stderr",
     "output_type": "stream",
     "text": [
      "📦 Procesando archivos:  36%|███▌      | 280/780 [02:20<05:02,  1.65it/s]"
     ]
    },
    {
     "name": "stdout",
     "output_type": "stream",
     "text": [
      "⚠️ Error al procesar prophet_features_parciales\\20341.parquet: __cinit__() got an unexpected keyword argument 'append'\n"
     ]
    },
    {
     "name": "stderr",
     "output_type": "stream",
     "text": [
      "📦 Procesando archivos:  36%|███▌      | 281/780 [02:20<04:22,  1.90it/s]"
     ]
    },
    {
     "name": "stdout",
     "output_type": "stream",
     "text": [
      "⚠️ Error al procesar prophet_features_parciales\\20342.parquet: __cinit__() got an unexpected keyword argument 'append'\n"
     ]
    },
    {
     "name": "stderr",
     "output_type": "stream",
     "text": [
      "📦 Procesando archivos:  36%|███▌      | 282/780 [02:21<04:21,  1.91it/s]"
     ]
    },
    {
     "name": "stdout",
     "output_type": "stream",
     "text": [
      "⚠️ Error al procesar prophet_features_parciales\\20343.parquet: __cinit__() got an unexpected keyword argument 'append'\n"
     ]
    },
    {
     "name": "stderr",
     "output_type": "stream",
     "text": [
      "📦 Procesando archivos:  36%|███▋      | 283/780 [02:21<03:50,  2.16it/s]"
     ]
    },
    {
     "name": "stdout",
     "output_type": "stream",
     "text": [
      "⚠️ Error al procesar prophet_features_parciales\\20344.parquet: __cinit__() got an unexpected keyword argument 'append'\n"
     ]
    },
    {
     "name": "stderr",
     "output_type": "stream",
     "text": [
      "📦 Procesando archivos:  36%|███▋      | 284/780 [02:21<03:31,  2.34it/s]"
     ]
    },
    {
     "name": "stdout",
     "output_type": "stream",
     "text": [
      "⚠️ Error al procesar prophet_features_parciales\\20346.parquet: __cinit__() got an unexpected keyword argument 'append'\n"
     ]
    },
    {
     "name": "stderr",
     "output_type": "stream",
     "text": [
      "📦 Procesando archivos:  37%|███▋      | 285/780 [02:22<03:12,  2.57it/s]"
     ]
    },
    {
     "name": "stdout",
     "output_type": "stream",
     "text": [
      "⚠️ Error al procesar prophet_features_parciales\\20348.parquet: __cinit__() got an unexpected keyword argument 'append'\n"
     ]
    },
    {
     "name": "stderr",
     "output_type": "stream",
     "text": [
      "📦 Procesando archivos:  37%|███▋      | 286/780 [02:23<05:33,  1.48it/s]"
     ]
    },
    {
     "name": "stdout",
     "output_type": "stream",
     "text": [
      "⚠️ Error al procesar prophet_features_parciales\\20349.parquet: __cinit__() got an unexpected keyword argument 'append'\n"
     ]
    },
    {
     "name": "stderr",
     "output_type": "stream",
     "text": [
      "📦 Procesando archivos:  37%|███▋      | 287/780 [02:24<05:52,  1.40it/s]"
     ]
    },
    {
     "name": "stdout",
     "output_type": "stream",
     "text": [
      "⚠️ Error al procesar prophet_features_parciales\\20350.parquet: __cinit__() got an unexpected keyword argument 'append'\n"
     ]
    },
    {
     "name": "stderr",
     "output_type": "stream",
     "text": [
      "📦 Procesando archivos:  37%|███▋      | 288/780 [02:24<05:09,  1.59it/s]"
     ]
    },
    {
     "name": "stdout",
     "output_type": "stream",
     "text": [
      "⚠️ Error al procesar prophet_features_parciales\\20351.parquet: __cinit__() got an unexpected keyword argument 'append'\n"
     ]
    },
    {
     "name": "stderr",
     "output_type": "stream",
     "text": [
      "📦 Procesando archivos:  37%|███▋      | 289/780 [02:25<05:23,  1.52it/s]"
     ]
    },
    {
     "name": "stdout",
     "output_type": "stream",
     "text": [
      "⚠️ Error al procesar prophet_features_parciales\\20352.parquet: __cinit__() got an unexpected keyword argument 'append'\n"
     ]
    },
    {
     "name": "stderr",
     "output_type": "stream",
     "text": [
      "📦 Procesando archivos:  37%|███▋      | 290/780 [02:26<05:32,  1.47it/s]"
     ]
    },
    {
     "name": "stdout",
     "output_type": "stream",
     "text": [
      "⚠️ Error al procesar prophet_features_parciales\\20353.parquet: __cinit__() got an unexpected keyword argument 'append'\n"
     ]
    },
    {
     "name": "stderr",
     "output_type": "stream",
     "text": [
      "📦 Procesando archivos:  37%|███▋      | 291/780 [02:27<06:46,  1.20it/s]"
     ]
    },
    {
     "name": "stdout",
     "output_type": "stream",
     "text": [
      "⚠️ Error al procesar prophet_features_parciales\\20354.parquet: __cinit__() got an unexpected keyword argument 'append'\n"
     ]
    },
    {
     "name": "stderr",
     "output_type": "stream",
     "text": [
      "📦 Procesando archivos:  37%|███▋      | 292/780 [02:27<05:31,  1.47it/s]"
     ]
    },
    {
     "name": "stdout",
     "output_type": "stream",
     "text": [
      "⚠️ Error al procesar prophet_features_parciales\\20355.parquet: __cinit__() got an unexpected keyword argument 'append'\n"
     ]
    },
    {
     "name": "stderr",
     "output_type": "stream",
     "text": [
      "📦 Procesando archivos:  38%|███▊      | 293/780 [02:28<05:19,  1.53it/s]"
     ]
    },
    {
     "name": "stdout",
     "output_type": "stream",
     "text": [
      "⚠️ Error al procesar prophet_features_parciales\\20356.parquet: __cinit__() got an unexpected keyword argument 'append'\n"
     ]
    },
    {
     "name": "stderr",
     "output_type": "stream",
     "text": [
      "📦 Procesando archivos:  38%|███▊      | 294/780 [02:28<05:23,  1.50it/s]"
     ]
    },
    {
     "name": "stdout",
     "output_type": "stream",
     "text": [
      "⚠️ Error al procesar prophet_features_parciales\\20357.parquet: __cinit__() got an unexpected keyword argument 'append'\n"
     ]
    },
    {
     "name": "stderr",
     "output_type": "stream",
     "text": [
      "📦 Procesando archivos:  38%|███▊      | 295/780 [02:29<04:39,  1.73it/s]"
     ]
    },
    {
     "name": "stdout",
     "output_type": "stream",
     "text": [
      "⚠️ Error al procesar prophet_features_parciales\\20358.parquet: __cinit__() got an unexpected keyword argument 'append'\n"
     ]
    },
    {
     "name": "stderr",
     "output_type": "stream",
     "text": [
      "📦 Procesando archivos:  38%|███▊      | 296/780 [02:30<05:57,  1.35it/s]"
     ]
    },
    {
     "name": "stdout",
     "output_type": "stream",
     "text": [
      "⚠️ Error al procesar prophet_features_parciales\\20359.parquet: __cinit__() got an unexpected keyword argument 'append'\n"
     ]
    },
    {
     "name": "stderr",
     "output_type": "stream",
     "text": [
      "📦 Procesando archivos:  38%|███▊      | 297/780 [02:30<05:18,  1.51it/s]"
     ]
    },
    {
     "name": "stdout",
     "output_type": "stream",
     "text": [
      "⚠️ Error al procesar prophet_features_parciales\\20361.parquet: __cinit__() got an unexpected keyword argument 'append'\n"
     ]
    },
    {
     "name": "stderr",
     "output_type": "stream",
     "text": [
      "📦 Procesando archivos:  38%|███▊      | 298/780 [02:31<05:47,  1.39it/s]"
     ]
    },
    {
     "name": "stdout",
     "output_type": "stream",
     "text": [
      "⚠️ Error al procesar prophet_features_parciales\\20362.parquet: __cinit__() got an unexpected keyword argument 'append'\n"
     ]
    },
    {
     "name": "stderr",
     "output_type": "stream",
     "text": [
      "📦 Procesando archivos:  38%|███▊      | 299/780 [02:32<04:59,  1.61it/s]"
     ]
    },
    {
     "name": "stdout",
     "output_type": "stream",
     "text": [
      "⚠️ Error al procesar prophet_features_parciales\\20364.parquet: __cinit__() got an unexpected keyword argument 'append'\n"
     ]
    },
    {
     "name": "stderr",
     "output_type": "stream",
     "text": [
      "📦 Procesando archivos:  38%|███▊      | 300/780 [02:33<06:00,  1.33it/s]"
     ]
    },
    {
     "name": "stdout",
     "output_type": "stream",
     "text": [
      "⚠️ Error al procesar prophet_features_parciales\\20365.parquet: __cinit__() got an unexpected keyword argument 'append'\n"
     ]
    },
    {
     "name": "stderr",
     "output_type": "stream",
     "text": [
      "📦 Procesando archivos:  39%|███▊      | 301/780 [02:33<05:29,  1.45it/s]"
     ]
    },
    {
     "name": "stdout",
     "output_type": "stream",
     "text": [
      "⚠️ Error al procesar prophet_features_parciales\\20366.parquet: __cinit__() got an unexpected keyword argument 'append'\n"
     ]
    },
    {
     "name": "stderr",
     "output_type": "stream",
     "text": [
      "📦 Procesando archivos:  39%|███▊      | 302/780 [02:34<06:20,  1.26it/s]"
     ]
    },
    {
     "name": "stdout",
     "output_type": "stream",
     "text": [
      "⚠️ Error al procesar prophet_features_parciales\\20367.parquet: __cinit__() got an unexpected keyword argument 'append'\n"
     ]
    },
    {
     "name": "stderr",
     "output_type": "stream",
     "text": [
      "📦 Procesando archivos:  39%|███▉      | 303/780 [02:35<05:50,  1.36it/s]"
     ]
    },
    {
     "name": "stdout",
     "output_type": "stream",
     "text": [
      "⚠️ Error al procesar prophet_features_parciales\\20368.parquet: __cinit__() got an unexpected keyword argument 'append'\n"
     ]
    },
    {
     "name": "stderr",
     "output_type": "stream",
     "text": [
      "📦 Procesando archivos:  39%|███▉      | 304/780 [02:35<04:42,  1.69it/s]"
     ]
    },
    {
     "name": "stdout",
     "output_type": "stream",
     "text": [
      "⚠️ Error al procesar prophet_features_parciales\\20372.parquet: __cinit__() got an unexpected keyword argument 'append'\n"
     ]
    },
    {
     "name": "stderr",
     "output_type": "stream",
     "text": [
      "📦 Procesando archivos:  39%|███▉      | 305/780 [02:36<04:25,  1.79it/s]"
     ]
    },
    {
     "name": "stdout",
     "output_type": "stream",
     "text": [
      "⚠️ Error al procesar prophet_features_parciales\\20375.parquet: __cinit__() got an unexpected keyword argument 'append'\n"
     ]
    },
    {
     "name": "stderr",
     "output_type": "stream",
     "text": [
      "📦 Procesando archivos:  39%|███▉      | 306/780 [02:36<04:19,  1.83it/s]"
     ]
    },
    {
     "name": "stdout",
     "output_type": "stream",
     "text": [
      "⚠️ Error al procesar prophet_features_parciales\\20377.parquet: __cinit__() got an unexpected keyword argument 'append'\n"
     ]
    },
    {
     "name": "stderr",
     "output_type": "stream",
     "text": [
      "📦 Procesando archivos:  39%|███▉      | 307/780 [02:36<03:43,  2.12it/s]"
     ]
    },
    {
     "name": "stdout",
     "output_type": "stream",
     "text": [
      "⚠️ Error al procesar prophet_features_parciales\\20378.parquet: __cinit__() got an unexpected keyword argument 'append'\n"
     ]
    },
    {
     "name": "stderr",
     "output_type": "stream",
     "text": [
      "📦 Procesando archivos:  39%|███▉      | 308/780 [02:37<03:25,  2.29it/s]"
     ]
    },
    {
     "name": "stdout",
     "output_type": "stream",
     "text": [
      "⚠️ Error al procesar prophet_features_parciales\\20379.parquet: __cinit__() got an unexpected keyword argument 'append'\n"
     ]
    },
    {
     "name": "stderr",
     "output_type": "stream",
     "text": [
      "📦 Procesando archivos:  40%|███▉      | 309/780 [02:38<04:44,  1.66it/s]"
     ]
    },
    {
     "name": "stdout",
     "output_type": "stream",
     "text": [
      "⚠️ Error al procesar prophet_features_parciales\\20380.parquet: __cinit__() got an unexpected keyword argument 'append'\n"
     ]
    },
    {
     "name": "stderr",
     "output_type": "stream",
     "text": [
      "📦 Procesando archivos:  40%|███▉      | 310/780 [02:39<05:27,  1.44it/s]"
     ]
    },
    {
     "name": "stdout",
     "output_type": "stream",
     "text": [
      "⚠️ Error al procesar prophet_features_parciales\\20381.parquet: __cinit__() got an unexpected keyword argument 'append'\n"
     ]
    },
    {
     "name": "stderr",
     "output_type": "stream",
     "text": [
      "📦 Procesando archivos:  40%|███▉      | 311/780 [02:40<06:54,  1.13it/s]"
     ]
    },
    {
     "name": "stdout",
     "output_type": "stream",
     "text": [
      "⚠️ Error al procesar prophet_features_parciales\\20382.parquet: __cinit__() got an unexpected keyword argument 'append'\n"
     ]
    },
    {
     "name": "stderr",
     "output_type": "stream",
     "text": [
      "📦 Procesando archivos:  40%|████      | 312/780 [02:41<06:03,  1.29it/s]"
     ]
    },
    {
     "name": "stdout",
     "output_type": "stream",
     "text": [
      "⚠️ Error al procesar prophet_features_parciales\\20383.parquet: __cinit__() got an unexpected keyword argument 'append'\n"
     ]
    },
    {
     "name": "stderr",
     "output_type": "stream",
     "text": [
      "📦 Procesando archivos:  40%|████      | 313/780 [02:41<05:02,  1.54it/s]"
     ]
    },
    {
     "name": "stdout",
     "output_type": "stream",
     "text": [
      "⚠️ Error al procesar prophet_features_parciales\\20384.parquet: __cinit__() got an unexpected keyword argument 'append'\n"
     ]
    },
    {
     "name": "stderr",
     "output_type": "stream",
     "text": [
      "📦 Procesando archivos:  40%|████      | 314/780 [02:41<04:38,  1.67it/s]"
     ]
    },
    {
     "name": "stdout",
     "output_type": "stream",
     "text": [
      "⚠️ Error al procesar prophet_features_parciales\\20385.parquet: __cinit__() got an unexpected keyword argument 'append'\n"
     ]
    },
    {
     "name": "stderr",
     "output_type": "stream",
     "text": [
      "📦 Procesando archivos:  40%|████      | 315/780 [02:43<06:11,  1.25it/s]"
     ]
    },
    {
     "name": "stdout",
     "output_type": "stream",
     "text": [
      "⚠️ Error al procesar prophet_features_parciales\\20386.parquet: __cinit__() got an unexpected keyword argument 'append'\n"
     ]
    },
    {
     "name": "stderr",
     "output_type": "stream",
     "text": [
      "📦 Procesando archivos:  41%|████      | 316/780 [02:44<06:48,  1.13it/s]"
     ]
    },
    {
     "name": "stdout",
     "output_type": "stream",
     "text": [
      "⚠️ Error al procesar prophet_features_parciales\\20387.parquet: __cinit__() got an unexpected keyword argument 'append'\n"
     ]
    },
    {
     "name": "stderr",
     "output_type": "stream",
     "text": [
      "📦 Procesando archivos:  41%|████      | 317/780 [02:44<05:56,  1.30it/s]"
     ]
    },
    {
     "name": "stdout",
     "output_type": "stream",
     "text": [
      "⚠️ Error al procesar prophet_features_parciales\\20388.parquet: __cinit__() got an unexpected keyword argument 'append'\n"
     ]
    },
    {
     "name": "stderr",
     "output_type": "stream",
     "text": [
      "📦 Procesando archivos:  41%|████      | 318/780 [02:45<04:59,  1.54it/s]"
     ]
    },
    {
     "name": "stdout",
     "output_type": "stream",
     "text": [
      "⚠️ Error al procesar prophet_features_parciales\\20389.parquet: __cinit__() got an unexpected keyword argument 'append'\n"
     ]
    },
    {
     "name": "stderr",
     "output_type": "stream",
     "text": [
      "📦 Procesando archivos:  41%|████      | 319/780 [02:45<04:43,  1.62it/s]"
     ]
    },
    {
     "name": "stdout",
     "output_type": "stream",
     "text": [
      "⚠️ Error al procesar prophet_features_parciales\\20390.parquet: __cinit__() got an unexpected keyword argument 'append'\n"
     ]
    },
    {
     "name": "stderr",
     "output_type": "stream",
     "text": [
      "📦 Procesando archivos:  41%|████      | 320/780 [02:45<03:49,  2.00it/s]"
     ]
    },
    {
     "name": "stdout",
     "output_type": "stream",
     "text": [
      "⚠️ Error al procesar prophet_features_parciales\\20395.parquet: __cinit__() got an unexpected keyword argument 'append'\n"
     ]
    },
    {
     "name": "stderr",
     "output_type": "stream",
     "text": [
      "📦 Procesando archivos:  41%|████      | 321/780 [02:46<04:09,  1.84it/s]"
     ]
    },
    {
     "name": "stdout",
     "output_type": "stream",
     "text": [
      "⚠️ Error al procesar prophet_features_parciales\\20396.parquet: __cinit__() got an unexpected keyword argument 'append'\n"
     ]
    },
    {
     "name": "stderr",
     "output_type": "stream",
     "text": [
      "📦 Procesando archivos:  41%|████▏     | 322/780 [02:47<05:03,  1.51it/s]"
     ]
    },
    {
     "name": "stdout",
     "output_type": "stream",
     "text": [
      "⚠️ Error al procesar prophet_features_parciales\\20398.parquet: __cinit__() got an unexpected keyword argument 'append'\n"
     ]
    },
    {
     "name": "stderr",
     "output_type": "stream",
     "text": [
      "📦 Procesando archivos:  41%|████▏     | 323/780 [02:48<06:24,  1.19it/s]"
     ]
    },
    {
     "name": "stdout",
     "output_type": "stream",
     "text": [
      "⚠️ Error al procesar prophet_features_parciales\\20400.parquet: __cinit__() got an unexpected keyword argument 'append'\n"
     ]
    },
    {
     "name": "stderr",
     "output_type": "stream",
     "text": [
      "📦 Procesando archivos:  42%|████▏     | 324/780 [02:49<07:21,  1.03it/s]"
     ]
    },
    {
     "name": "stdout",
     "output_type": "stream",
     "text": [
      "⚠️ Error al procesar prophet_features_parciales\\20401.parquet: __cinit__() got an unexpected keyword argument 'append'\n"
     ]
    },
    {
     "name": "stderr",
     "output_type": "stream",
     "text": [
      "📦 Procesando archivos:  42%|████▏     | 325/780 [02:50<07:06,  1.07it/s]"
     ]
    },
    {
     "name": "stdout",
     "output_type": "stream",
     "text": [
      "⚠️ Error al procesar prophet_features_parciales\\20402.parquet: __cinit__() got an unexpected keyword argument 'append'\n"
     ]
    },
    {
     "name": "stderr",
     "output_type": "stream",
     "text": [
      "📦 Procesando archivos:  42%|████▏     | 326/780 [02:51<06:52,  1.10it/s]"
     ]
    },
    {
     "name": "stdout",
     "output_type": "stream",
     "text": [
      "⚠️ Error al procesar prophet_features_parciales\\20403.parquet: __cinit__() got an unexpected keyword argument 'append'\n"
     ]
    },
    {
     "name": "stderr",
     "output_type": "stream",
     "text": [
      "📦 Procesando archivos:  42%|████▏     | 327/780 [02:52<05:47,  1.30it/s]"
     ]
    },
    {
     "name": "stdout",
     "output_type": "stream",
     "text": [
      "⚠️ Error al procesar prophet_features_parciales\\20404.parquet: __cinit__() got an unexpected keyword argument 'append'\n"
     ]
    },
    {
     "name": "stderr",
     "output_type": "stream",
     "text": [
      "📦 Procesando archivos:  42%|████▏     | 328/780 [02:52<04:47,  1.57it/s]"
     ]
    },
    {
     "name": "stdout",
     "output_type": "stream",
     "text": [
      "⚠️ Error al procesar prophet_features_parciales\\20406.parquet: __cinit__() got an unexpected keyword argument 'append'\n"
     ]
    },
    {
     "name": "stderr",
     "output_type": "stream",
     "text": [
      "📦 Procesando archivos:  42%|████▏     | 329/780 [02:53<06:10,  1.22it/s]"
     ]
    },
    {
     "name": "stdout",
     "output_type": "stream",
     "text": [
      "⚠️ Error al procesar prophet_features_parciales\\20407.parquet: __cinit__() got an unexpected keyword argument 'append'\n"
     ]
    },
    {
     "name": "stderr",
     "output_type": "stream",
     "text": [
      "📦 Procesando archivos:  42%|████▏     | 330/780 [02:54<05:07,  1.46it/s]"
     ]
    },
    {
     "name": "stdout",
     "output_type": "stream",
     "text": [
      "⚠️ Error al procesar prophet_features_parciales\\20408.parquet: __cinit__() got an unexpected keyword argument 'append'\n"
     ]
    },
    {
     "name": "stderr",
     "output_type": "stream",
     "text": [
      "📦 Procesando archivos:  42%|████▏     | 331/780 [02:54<04:43,  1.58it/s]"
     ]
    },
    {
     "name": "stdout",
     "output_type": "stream",
     "text": [
      "⚠️ Error al procesar prophet_features_parciales\\20409.parquet: __cinit__() got an unexpected keyword argument 'append'\n"
     ]
    },
    {
     "name": "stderr",
     "output_type": "stream",
     "text": [
      "📦 Procesando archivos:  43%|████▎     | 332/780 [02:55<05:56,  1.26it/s]"
     ]
    },
    {
     "name": "stdout",
     "output_type": "stream",
     "text": [
      "⚠️ Error al procesar prophet_features_parciales\\20410.parquet: __cinit__() got an unexpected keyword argument 'append'\n"
     ]
    },
    {
     "name": "stderr",
     "output_type": "stream",
     "text": [
      "📦 Procesando archivos:  43%|████▎     | 333/780 [02:57<07:05,  1.05it/s]"
     ]
    },
    {
     "name": "stdout",
     "output_type": "stream",
     "text": [
      "⚠️ Error al procesar prophet_features_parciales\\20411.parquet: __cinit__() got an unexpected keyword argument 'append'\n"
     ]
    },
    {
     "name": "stderr",
     "output_type": "stream",
     "text": [
      "📦 Procesando archivos:  43%|████▎     | 334/780 [02:57<05:37,  1.32it/s]"
     ]
    },
    {
     "name": "stdout",
     "output_type": "stream",
     "text": [
      "⚠️ Error al procesar prophet_features_parciales\\20414.parquet: __cinit__() got an unexpected keyword argument 'append'\n"
     ]
    },
    {
     "name": "stderr",
     "output_type": "stream",
     "text": [
      "📦 Procesando archivos:  43%|████▎     | 335/780 [02:57<04:50,  1.53it/s]"
     ]
    },
    {
     "name": "stdout",
     "output_type": "stream",
     "text": [
      "⚠️ Error al procesar prophet_features_parciales\\20415.parquet: __cinit__() got an unexpected keyword argument 'append'\n"
     ]
    },
    {
     "name": "stderr",
     "output_type": "stream",
     "text": [
      "📦 Procesando archivos:  43%|████▎     | 336/780 [02:58<05:10,  1.43it/s]"
     ]
    },
    {
     "name": "stdout",
     "output_type": "stream",
     "text": [
      "⚠️ Error al procesar prophet_features_parciales\\20416.parquet: __cinit__() got an unexpected keyword argument 'append'\n"
     ]
    },
    {
     "name": "stderr",
     "output_type": "stream",
     "text": [
      "📦 Procesando archivos:  43%|████▎     | 337/780 [02:59<04:48,  1.54it/s]"
     ]
    },
    {
     "name": "stdout",
     "output_type": "stream",
     "text": [
      "⚠️ Error al procesar prophet_features_parciales\\20417.parquet: __cinit__() got an unexpected keyword argument 'append'\n"
     ]
    },
    {
     "name": "stderr",
     "output_type": "stream",
     "text": [
      "📦 Procesando archivos:  43%|████▎     | 338/780 [02:59<04:49,  1.53it/s]"
     ]
    },
    {
     "name": "stdout",
     "output_type": "stream",
     "text": [
      "⚠️ Error al procesar prophet_features_parciales\\20418.parquet: __cinit__() got an unexpected keyword argument 'append'\n"
     ]
    },
    {
     "name": "stderr",
     "output_type": "stream",
     "text": [
      "📦 Procesando archivos:  43%|████▎     | 339/780 [03:00<04:29,  1.64it/s]"
     ]
    },
    {
     "name": "stdout",
     "output_type": "stream",
     "text": [
      "⚠️ Error al procesar prophet_features_parciales\\20419.parquet: __cinit__() got an unexpected keyword argument 'append'\n"
     ]
    },
    {
     "name": "stderr",
     "output_type": "stream",
     "text": [
      "📦 Procesando archivos:  44%|████▎     | 340/780 [03:01<04:50,  1.51it/s]"
     ]
    },
    {
     "name": "stdout",
     "output_type": "stream",
     "text": [
      "⚠️ Error al procesar prophet_features_parciales\\20421.parquet: __cinit__() got an unexpected keyword argument 'append'\n"
     ]
    },
    {
     "name": "stderr",
     "output_type": "stream",
     "text": [
      "📦 Procesando archivos:  44%|████▎     | 341/780 [03:01<05:12,  1.40it/s]"
     ]
    },
    {
     "name": "stdout",
     "output_type": "stream",
     "text": [
      "⚠️ Error al procesar prophet_features_parciales\\20422.parquet: __cinit__() got an unexpected keyword argument 'append'\n"
     ]
    },
    {
     "name": "stderr",
     "output_type": "stream",
     "text": [
      "📦 Procesando archivos:  44%|████▍     | 342/780 [03:03<06:05,  1.20it/s]"
     ]
    },
    {
     "name": "stdout",
     "output_type": "stream",
     "text": [
      "⚠️ Error al procesar prophet_features_parciales\\20424.parquet: __cinit__() got an unexpected keyword argument 'append'\n"
     ]
    },
    {
     "name": "stderr",
     "output_type": "stream",
     "text": [
      "📦 Procesando archivos:  44%|████▍     | 343/780 [03:03<05:14,  1.39it/s]"
     ]
    },
    {
     "name": "stdout",
     "output_type": "stream",
     "text": [
      "⚠️ Error al procesar prophet_features_parciales\\20426.parquet: __cinit__() got an unexpected keyword argument 'append'\n"
     ]
    },
    {
     "name": "stderr",
     "output_type": "stream",
     "text": [
      "📦 Procesando archivos:  44%|████▍     | 344/780 [03:04<05:02,  1.44it/s]"
     ]
    },
    {
     "name": "stdout",
     "output_type": "stream",
     "text": [
      "⚠️ Error al procesar prophet_features_parciales\\20428.parquet: __cinit__() got an unexpected keyword argument 'append'\n"
     ]
    },
    {
     "name": "stderr",
     "output_type": "stream",
     "text": [
      "📦 Procesando archivos:  44%|████▍     | 345/780 [03:04<05:10,  1.40it/s]"
     ]
    },
    {
     "name": "stdout",
     "output_type": "stream",
     "text": [
      "⚠️ Error al procesar prophet_features_parciales\\20429.parquet: __cinit__() got an unexpected keyword argument 'append'\n"
     ]
    },
    {
     "name": "stderr",
     "output_type": "stream",
     "text": [
      "📦 Procesando archivos:  44%|████▍     | 346/780 [03:05<06:01,  1.20it/s]"
     ]
    },
    {
     "name": "stdout",
     "output_type": "stream",
     "text": [
      "⚠️ Error al procesar prophet_features_parciales\\20432.parquet: __cinit__() got an unexpected keyword argument 'append'\n"
     ]
    },
    {
     "name": "stderr",
     "output_type": "stream",
     "text": [
      "📦 Procesando archivos:  44%|████▍     | 347/780 [03:06<05:39,  1.28it/s]"
     ]
    },
    {
     "name": "stdout",
     "output_type": "stream",
     "text": [
      "⚠️ Error al procesar prophet_features_parciales\\20433.parquet: __cinit__() got an unexpected keyword argument 'append'\n"
     ]
    },
    {
     "name": "stderr",
     "output_type": "stream",
     "text": [
      "📦 Procesando archivos:  45%|████▍     | 348/780 [03:07<06:16,  1.15it/s]"
     ]
    },
    {
     "name": "stdout",
     "output_type": "stream",
     "text": [
      "⚠️ Error al procesar prophet_features_parciales\\20434.parquet: __cinit__() got an unexpected keyword argument 'append'\n"
     ]
    },
    {
     "name": "stderr",
     "output_type": "stream",
     "text": [
      "📦 Procesando archivos:  45%|████▍     | 350/780 [03:08<04:50,  1.48it/s]"
     ]
    },
    {
     "name": "stdout",
     "output_type": "stream",
     "text": [
      "⚠️ Error al procesar prophet_features_parciales\\20438.parquet: __cinit__() got an unexpected keyword argument 'append'\n",
      "⚠️ Error al procesar prophet_features_parciales\\20440.parquet: __cinit__() got an unexpected keyword argument 'append'\n"
     ]
    },
    {
     "name": "stderr",
     "output_type": "stream",
     "text": [
      "📦 Procesando archivos:  45%|████▌     | 351/780 [03:09<04:04,  1.75it/s]"
     ]
    },
    {
     "name": "stdout",
     "output_type": "stream",
     "text": [
      "⚠️ Error al procesar prophet_features_parciales\\20442.parquet: __cinit__() got an unexpected keyword argument 'append'\n"
     ]
    },
    {
     "name": "stderr",
     "output_type": "stream",
     "text": [
      "📦 Procesando archivos:  45%|████▌     | 352/780 [03:09<03:56,  1.81it/s]"
     ]
    },
    {
     "name": "stdout",
     "output_type": "stream",
     "text": [
      "⚠️ Error al procesar prophet_features_parciales\\20443.parquet: __cinit__() got an unexpected keyword argument 'append'\n"
     ]
    },
    {
     "name": "stderr",
     "output_type": "stream",
     "text": [
      "📦 Procesando archivos:  45%|████▌     | 353/780 [03:10<03:46,  1.89it/s]"
     ]
    },
    {
     "name": "stdout",
     "output_type": "stream",
     "text": [
      "⚠️ Error al procesar prophet_features_parciales\\20447.parquet: __cinit__() got an unexpected keyword argument 'append'\n"
     ]
    },
    {
     "name": "stderr",
     "output_type": "stream",
     "text": [
      "📦 Procesando archivos:  45%|████▌     | 354/780 [03:10<04:26,  1.60it/s]"
     ]
    },
    {
     "name": "stdout",
     "output_type": "stream",
     "text": [
      "⚠️ Error al procesar prophet_features_parciales\\20449.parquet: __cinit__() got an unexpected keyword argument 'append'\n"
     ]
    },
    {
     "name": "stderr",
     "output_type": "stream",
     "text": [
      "📦 Procesando archivos:  46%|████▌     | 355/780 [03:11<04:13,  1.67it/s]"
     ]
    },
    {
     "name": "stdout",
     "output_type": "stream",
     "text": [
      "⚠️ Error al procesar prophet_features_parciales\\20450.parquet: __cinit__() got an unexpected keyword argument 'append'\n"
     ]
    },
    {
     "name": "stderr",
     "output_type": "stream",
     "text": [
      "📦 Procesando archivos:  46%|████▌     | 356/780 [03:12<05:15,  1.34it/s]"
     ]
    },
    {
     "name": "stdout",
     "output_type": "stream",
     "text": [
      "⚠️ Error al procesar prophet_features_parciales\\20453.parquet: __cinit__() got an unexpected keyword argument 'append'\n"
     ]
    },
    {
     "name": "stderr",
     "output_type": "stream",
     "text": [
      "📦 Procesando archivos:  46%|████▌     | 357/780 [03:13<04:51,  1.45it/s]"
     ]
    },
    {
     "name": "stdout",
     "output_type": "stream",
     "text": [
      "⚠️ Error al procesar prophet_features_parciales\\20456.parquet: __cinit__() got an unexpected keyword argument 'append'\n"
     ]
    },
    {
     "name": "stderr",
     "output_type": "stream",
     "text": [
      "📦 Procesando archivos:  46%|████▌     | 358/780 [03:13<03:59,  1.76it/s]"
     ]
    },
    {
     "name": "stdout",
     "output_type": "stream",
     "text": [
      "⚠️ Error al procesar prophet_features_parciales\\20458.parquet: __cinit__() got an unexpected keyword argument 'append'\n"
     ]
    },
    {
     "name": "stderr",
     "output_type": "stream",
     "text": [
      "📦 Procesando archivos:  46%|████▌     | 359/780 [03:13<03:35,  1.95it/s]"
     ]
    },
    {
     "name": "stdout",
     "output_type": "stream",
     "text": [
      "⚠️ Error al procesar prophet_features_parciales\\20459.parquet: __cinit__() got an unexpected keyword argument 'append'\n"
     ]
    },
    {
     "name": "stderr",
     "output_type": "stream",
     "text": [
      "📦 Procesando archivos:  46%|████▌     | 360/780 [03:14<02:59,  2.34it/s]"
     ]
    },
    {
     "name": "stdout",
     "output_type": "stream",
     "text": [
      "⚠️ Error al procesar prophet_features_parciales\\20460.parquet: __cinit__() got an unexpected keyword argument 'append'\n"
     ]
    },
    {
     "name": "stderr",
     "output_type": "stream",
     "text": [
      "📦 Procesando archivos:  46%|████▋     | 361/780 [03:14<03:15,  2.14it/s]"
     ]
    },
    {
     "name": "stdout",
     "output_type": "stream",
     "text": [
      "⚠️ Error al procesar prophet_features_parciales\\20463.parquet: __cinit__() got an unexpected keyword argument 'append'\n"
     ]
    },
    {
     "name": "stderr",
     "output_type": "stream",
     "text": [
      "📦 Procesando archivos:  46%|████▋     | 362/780 [03:15<03:54,  1.78it/s]"
     ]
    },
    {
     "name": "stdout",
     "output_type": "stream",
     "text": [
      "⚠️ Error al procesar prophet_features_parciales\\20464.parquet: __cinit__() got an unexpected keyword argument 'append'\n"
     ]
    },
    {
     "name": "stderr",
     "output_type": "stream",
     "text": [
      "📦 Procesando archivos:  47%|████▋     | 363/780 [03:16<04:11,  1.66it/s]"
     ]
    },
    {
     "name": "stdout",
     "output_type": "stream",
     "text": [
      "⚠️ Error al procesar prophet_features_parciales\\20465.parquet: __cinit__() got an unexpected keyword argument 'append'\n"
     ]
    },
    {
     "name": "stderr",
     "output_type": "stream",
     "text": [
      "📦 Procesando archivos:  47%|████▋     | 364/780 [03:16<03:42,  1.87it/s]"
     ]
    },
    {
     "name": "stdout",
     "output_type": "stream",
     "text": [
      "⚠️ Error al procesar prophet_features_parciales\\20466.parquet: __cinit__() got an unexpected keyword argument 'append'\n"
     ]
    },
    {
     "name": "stderr",
     "output_type": "stream",
     "text": [
      "📦 Procesando archivos:  47%|████▋     | 365/780 [03:16<03:10,  2.17it/s]"
     ]
    },
    {
     "name": "stdout",
     "output_type": "stream",
     "text": [
      "⚠️ Error al procesar prophet_features_parciales\\20469.parquet: __cinit__() got an unexpected keyword argument 'append'\n"
     ]
    },
    {
     "name": "stderr",
     "output_type": "stream",
     "text": [
      "📦 Procesando archivos:  47%|████▋     | 366/780 [03:17<03:29,  1.97it/s]"
     ]
    },
    {
     "name": "stdout",
     "output_type": "stream",
     "text": [
      "⚠️ Error al procesar prophet_features_parciales\\20470.parquet: __cinit__() got an unexpected keyword argument 'append'\n"
     ]
    },
    {
     "name": "stderr",
     "output_type": "stream",
     "text": [
      "📦 Procesando archivos:  47%|████▋     | 367/780 [03:17<03:04,  2.24it/s]"
     ]
    },
    {
     "name": "stdout",
     "output_type": "stream",
     "text": [
      "⚠️ Error al procesar prophet_features_parciales\\20473.parquet: __cinit__() got an unexpected keyword argument 'append'\n"
     ]
    },
    {
     "name": "stderr",
     "output_type": "stream",
     "text": [
      "📦 Procesando archivos:  47%|████▋     | 369/780 [03:18<02:34,  2.66it/s]"
     ]
    },
    {
     "name": "stdout",
     "output_type": "stream",
     "text": [
      "⚠️ Error al procesar prophet_features_parciales\\20474.parquet: __cinit__() got an unexpected keyword argument 'append'\n",
      "⚠️ Error al procesar prophet_features_parciales\\20476.parquet: __cinit__() got an unexpected keyword argument 'append'\n"
     ]
    },
    {
     "name": "stderr",
     "output_type": "stream",
     "text": [
      "📦 Procesando archivos:  47%|████▋     | 370/780 [03:18<02:14,  3.04it/s]"
     ]
    },
    {
     "name": "stdout",
     "output_type": "stream",
     "text": [
      "⚠️ Error al procesar prophet_features_parciales\\20477.parquet: __cinit__() got an unexpected keyword argument 'append'\n"
     ]
    },
    {
     "name": "stderr",
     "output_type": "stream",
     "text": [
      "📦 Procesando archivos:  48%|████▊     | 372/780 [03:19<01:52,  3.63it/s]"
     ]
    },
    {
     "name": "stdout",
     "output_type": "stream",
     "text": [
      "⚠️ Error al procesar prophet_features_parciales\\20478.parquet: __cinit__() got an unexpected keyword argument 'append'\n",
      "⚠️ Error al procesar prophet_features_parciales\\20479.parquet: __cinit__() got an unexpected keyword argument 'append'\n"
     ]
    },
    {
     "name": "stderr",
     "output_type": "stream",
     "text": [
      "📦 Procesando archivos:  48%|████▊     | 373/780 [03:19<01:52,  3.61it/s]"
     ]
    },
    {
     "name": "stdout",
     "output_type": "stream",
     "text": [
      "⚠️ Error al procesar prophet_features_parciales\\20480.parquet: __cinit__() got an unexpected keyword argument 'append'\n"
     ]
    },
    {
     "name": "stderr",
     "output_type": "stream",
     "text": [
      "📦 Procesando archivos:  48%|████▊     | 374/780 [03:19<02:17,  2.94it/s]"
     ]
    },
    {
     "name": "stdout",
     "output_type": "stream",
     "text": [
      "⚠️ Error al procesar prophet_features_parciales\\20481.parquet: __cinit__() got an unexpected keyword argument 'append'\n"
     ]
    },
    {
     "name": "stderr",
     "output_type": "stream",
     "text": [
      "📦 Procesando archivos:  48%|████▊     | 375/780 [03:20<03:00,  2.24it/s]"
     ]
    },
    {
     "name": "stdout",
     "output_type": "stream",
     "text": [
      "⚠️ Error al procesar prophet_features_parciales\\20482.parquet: __cinit__() got an unexpected keyword argument 'append'\n"
     ]
    },
    {
     "name": "stderr",
     "output_type": "stream",
     "text": [
      "📦 Procesando archivos:  48%|████▊     | 376/780 [03:20<02:52,  2.34it/s]"
     ]
    },
    {
     "name": "stdout",
     "output_type": "stream",
     "text": [
      "⚠️ Error al procesar prophet_features_parciales\\20483.parquet: __cinit__() got an unexpected keyword argument 'append'\n"
     ]
    },
    {
     "name": "stderr",
     "output_type": "stream",
     "text": [
      "📦 Procesando archivos:  48%|████▊     | 377/780 [03:21<03:47,  1.77it/s]"
     ]
    },
    {
     "name": "stdout",
     "output_type": "stream",
     "text": [
      "⚠️ Error al procesar prophet_features_parciales\\20484.parquet: __cinit__() got an unexpected keyword argument 'append'\n"
     ]
    },
    {
     "name": "stderr",
     "output_type": "stream",
     "text": [
      "📦 Procesando archivos:  48%|████▊     | 378/780 [03:22<03:22,  1.98it/s]"
     ]
    },
    {
     "name": "stdout",
     "output_type": "stream",
     "text": [
      "⚠️ Error al procesar prophet_features_parciales\\20488.parquet: __cinit__() got an unexpected keyword argument 'append'\n"
     ]
    },
    {
     "name": "stderr",
     "output_type": "stream",
     "text": [
      "📦 Procesando archivos:  49%|████▊     | 380/780 [03:22<02:41,  2.47it/s]"
     ]
    },
    {
     "name": "stdout",
     "output_type": "stream",
     "text": [
      "⚠️ Error al procesar prophet_features_parciales\\20490.parquet: __cinit__() got an unexpected keyword argument 'append'\n",
      "⚠️ Error al procesar prophet_features_parciales\\20491.parquet: __cinit__() got an unexpected keyword argument 'append'\n"
     ]
    },
    {
     "name": "stderr",
     "output_type": "stream",
     "text": [
      "📦 Procesando archivos:  49%|████▉     | 381/780 [03:23<02:29,  2.67it/s]"
     ]
    },
    {
     "name": "stdout",
     "output_type": "stream",
     "text": [
      "⚠️ Error al procesar prophet_features_parciales\\20495.parquet: __cinit__() got an unexpected keyword argument 'append'\n"
     ]
    },
    {
     "name": "stderr",
     "output_type": "stream",
     "text": [
      "📦 Procesando archivos:  49%|████▉     | 382/780 [03:23<03:08,  2.11it/s]"
     ]
    },
    {
     "name": "stdout",
     "output_type": "stream",
     "text": [
      "⚠️ Error al procesar prophet_features_parciales\\20496.parquet: __cinit__() got an unexpected keyword argument 'append'\n"
     ]
    },
    {
     "name": "stderr",
     "output_type": "stream",
     "text": [
      "📦 Procesando archivos:  49%|████▉     | 383/780 [03:24<03:20,  1.98it/s]"
     ]
    },
    {
     "name": "stdout",
     "output_type": "stream",
     "text": [
      "⚠️ Error al procesar prophet_features_parciales\\20497.parquet: __cinit__() got an unexpected keyword argument 'append'\n"
     ]
    },
    {
     "name": "stderr",
     "output_type": "stream",
     "text": [
      "📦 Procesando archivos:  49%|████▉     | 384/780 [03:25<04:02,  1.64it/s]"
     ]
    },
    {
     "name": "stdout",
     "output_type": "stream",
     "text": [
      "⚠️ Error al procesar prophet_features_parciales\\20500.parquet: __cinit__() got an unexpected keyword argument 'append'\n"
     ]
    },
    {
     "name": "stderr",
     "output_type": "stream",
     "text": [
      "📦 Procesando archivos:  49%|████▉     | 386/780 [03:25<02:57,  2.22it/s]"
     ]
    },
    {
     "name": "stdout",
     "output_type": "stream",
     "text": [
      "⚠️ Error al procesar prophet_features_parciales\\20502.parquet: __cinit__() got an unexpected keyword argument 'append'\n",
      "⚠️ Error al procesar prophet_features_parciales\\20503.parquet: __cinit__() got an unexpected keyword argument 'append'\n"
     ]
    },
    {
     "name": "stderr",
     "output_type": "stream",
     "text": [
      "📦 Procesando archivos:  50%|████▉     | 387/780 [03:26<03:51,  1.69it/s]"
     ]
    },
    {
     "name": "stdout",
     "output_type": "stream",
     "text": [
      "⚠️ Error al procesar prophet_features_parciales\\20505.parquet: __cinit__() got an unexpected keyword argument 'append'\n"
     ]
    },
    {
     "name": "stderr",
     "output_type": "stream",
     "text": [
      "📦 Procesando archivos:  50%|████▉     | 388/780 [03:27<03:24,  1.92it/s]"
     ]
    },
    {
     "name": "stdout",
     "output_type": "stream",
     "text": [
      "⚠️ Error al procesar prophet_features_parciales\\20508.parquet: __cinit__() got an unexpected keyword argument 'append'\n"
     ]
    },
    {
     "name": "stderr",
     "output_type": "stream",
     "text": [
      "📦 Procesando archivos:  50%|█████     | 390/780 [03:27<02:40,  2.42it/s]"
     ]
    },
    {
     "name": "stdout",
     "output_type": "stream",
     "text": [
      "⚠️ Error al procesar prophet_features_parciales\\20509.parquet: __cinit__() got an unexpected keyword argument 'append'\n",
      "⚠️ Error al procesar prophet_features_parciales\\20510.parquet: __cinit__() got an unexpected keyword argument 'append'\n",
      "⚠️ Error al procesar prophet_features_parciales\\20513.parquet: __cinit__() got an unexpected keyword argument 'append'\n"
     ]
    },
    {
     "name": "stderr",
     "output_type": "stream",
     "text": [
      "📦 Procesando archivos:  50%|█████     | 392/780 [03:28<02:07,  3.05it/s]"
     ]
    },
    {
     "name": "stdout",
     "output_type": "stream",
     "text": [
      "⚠️ Error al procesar prophet_features_parciales\\20514.parquet: __cinit__() got an unexpected keyword argument 'append'\n"
     ]
    },
    {
     "name": "stderr",
     "output_type": "stream",
     "text": [
      "📦 Procesando archivos:  51%|█████     | 394/780 [03:28<01:47,  3.59it/s]"
     ]
    },
    {
     "name": "stdout",
     "output_type": "stream",
     "text": [
      "⚠️ Error al procesar prophet_features_parciales\\20517.parquet: __cinit__() got an unexpected keyword argument 'append'\n",
      "⚠️ Error al procesar prophet_features_parciales\\20520.parquet: __cinit__() got an unexpected keyword argument 'append'\n"
     ]
    },
    {
     "name": "stderr",
     "output_type": "stream",
     "text": [
      "📦 Procesando archivos:  51%|█████     | 396/780 [03:29<01:19,  4.81it/s]"
     ]
    },
    {
     "name": "stdout",
     "output_type": "stream",
     "text": [
      "⚠️ Error al procesar prophet_features_parciales\\20521.parquet: __cinit__() got an unexpected keyword argument 'append'\n",
      "⚠️ Error al procesar prophet_features_parciales\\20522.parquet: __cinit__() got an unexpected keyword argument 'append'\n"
     ]
    },
    {
     "name": "stderr",
     "output_type": "stream",
     "text": [
      "📦 Procesando archivos:  51%|█████     | 397/780 [03:29<01:36,  3.98it/s]"
     ]
    },
    {
     "name": "stdout",
     "output_type": "stream",
     "text": [
      "⚠️ Error al procesar prophet_features_parciales\\20523.parquet: __cinit__() got an unexpected keyword argument 'append'\n"
     ]
    },
    {
     "name": "stderr",
     "output_type": "stream",
     "text": [
      "📦 Procesando archivos:  51%|█████     | 399/780 [03:29<01:30,  4.19it/s]"
     ]
    },
    {
     "name": "stdout",
     "output_type": "stream",
     "text": [
      "⚠️ Error al procesar prophet_features_parciales\\20524.parquet: __cinit__() got an unexpected keyword argument 'append'\n",
      "⚠️ Error al procesar prophet_features_parciales\\20525.parquet: __cinit__() got an unexpected keyword argument 'append'\n"
     ]
    },
    {
     "name": "stderr",
     "output_type": "stream",
     "text": [
      "📦 Procesando archivos:  51%|█████▏    | 400/780 [03:30<01:16,  4.95it/s]"
     ]
    },
    {
     "name": "stdout",
     "output_type": "stream",
     "text": [
      "⚠️ Error al procesar prophet_features_parciales\\20526.parquet: __cinit__() got an unexpected keyword argument 'append'\n"
     ]
    },
    {
     "name": "stderr",
     "output_type": "stream",
     "text": [
      "📦 Procesando archivos:  51%|█████▏    | 401/780 [03:30<01:25,  4.44it/s]"
     ]
    },
    {
     "name": "stdout",
     "output_type": "stream",
     "text": [
      "⚠️ Error al procesar prophet_features_parciales\\20527.parquet: __cinit__() got an unexpected keyword argument 'append'\n"
     ]
    },
    {
     "name": "stderr",
     "output_type": "stream",
     "text": [
      "📦 Procesando archivos:  52%|█████▏    | 403/780 [03:30<01:22,  4.58it/s]"
     ]
    },
    {
     "name": "stdout",
     "output_type": "stream",
     "text": [
      "⚠️ Error al procesar prophet_features_parciales\\20530.parquet: __cinit__() got an unexpected keyword argument 'append'\n",
      "⚠️ Error al procesar prophet_features_parciales\\20531.parquet: __cinit__() got an unexpected keyword argument 'append'\n"
     ]
    },
    {
     "name": "stderr",
     "output_type": "stream",
     "text": [
      "📦 Procesando archivos:  52%|█████▏    | 404/780 [03:30<01:19,  4.75it/s]"
     ]
    },
    {
     "name": "stdout",
     "output_type": "stream",
     "text": [
      "⚠️ Error al procesar prophet_features_parciales\\20532.parquet: __cinit__() got an unexpected keyword argument 'append'\n"
     ]
    },
    {
     "name": "stderr",
     "output_type": "stream",
     "text": [
      "📦 Procesando archivos:  52%|█████▏    | 405/780 [03:31<02:28,  2.53it/s]"
     ]
    },
    {
     "name": "stdout",
     "output_type": "stream",
     "text": [
      "⚠️ Error al procesar prophet_features_parciales\\20536.parquet: __cinit__() got an unexpected keyword argument 'append'\n"
     ]
    },
    {
     "name": "stderr",
     "output_type": "stream",
     "text": [
      "📦 Procesando archivos:  52%|█████▏    | 406/780 [03:32<02:09,  2.88it/s]"
     ]
    },
    {
     "name": "stdout",
     "output_type": "stream",
     "text": [
      "⚠️ Error al procesar prophet_features_parciales\\20537.parquet: __cinit__() got an unexpected keyword argument 'append'\n"
     ]
    },
    {
     "name": "stderr",
     "output_type": "stream",
     "text": [
      "📦 Procesando archivos:  52%|█████▏    | 407/780 [03:32<02:27,  2.52it/s]"
     ]
    },
    {
     "name": "stdout",
     "output_type": "stream",
     "text": [
      "⚠️ Error al procesar prophet_features_parciales\\20538.parquet: __cinit__() got an unexpected keyword argument 'append'\n"
     ]
    },
    {
     "name": "stderr",
     "output_type": "stream",
     "text": [
      "📦 Procesando archivos:  52%|█████▏    | 408/780 [03:33<03:08,  1.98it/s]"
     ]
    },
    {
     "name": "stdout",
     "output_type": "stream",
     "text": [
      "⚠️ Error al procesar prophet_features_parciales\\20539.parquet: __cinit__() got an unexpected keyword argument 'append'\n"
     ]
    },
    {
     "name": "stderr",
     "output_type": "stream",
     "text": [
      "📦 Procesando archivos:  52%|█████▏    | 409/780 [03:33<03:00,  2.06it/s]"
     ]
    },
    {
     "name": "stdout",
     "output_type": "stream",
     "text": [
      "⚠️ Error al procesar prophet_features_parciales\\20540.parquet: __cinit__() got an unexpected keyword argument 'append'\n"
     ]
    },
    {
     "name": "stderr",
     "output_type": "stream",
     "text": [
      "📦 Procesando archivos:  53%|█████▎    | 410/780 [03:34<02:59,  2.06it/s]"
     ]
    },
    {
     "name": "stdout",
     "output_type": "stream",
     "text": [
      "⚠️ Error al procesar prophet_features_parciales\\20541.parquet: __cinit__() got an unexpected keyword argument 'append'\n"
     ]
    },
    {
     "name": "stderr",
     "output_type": "stream",
     "text": [
      "📦 Procesando archivos:  53%|█████▎    | 411/780 [03:34<03:13,  1.91it/s]"
     ]
    },
    {
     "name": "stdout",
     "output_type": "stream",
     "text": [
      "⚠️ Error al procesar prophet_features_parciales\\20542.parquet: __cinit__() got an unexpected keyword argument 'append'\n"
     ]
    },
    {
     "name": "stderr",
     "output_type": "stream",
     "text": [
      "📦 Procesando archivos:  53%|█████▎    | 413/780 [03:35<02:13,  2.75it/s]"
     ]
    },
    {
     "name": "stdout",
     "output_type": "stream",
     "text": [
      "⚠️ Error al procesar prophet_features_parciales\\20544.parquet: __cinit__() got an unexpected keyword argument 'append'\n",
      "⚠️ Error al procesar prophet_features_parciales\\20547.parquet: __cinit__() got an unexpected keyword argument 'append'\n"
     ]
    },
    {
     "name": "stderr",
     "output_type": "stream",
     "text": [
      "📦 Procesando archivos:  53%|█████▎    | 414/780 [03:35<01:48,  3.37it/s]"
     ]
    },
    {
     "name": "stdout",
     "output_type": "stream",
     "text": [
      "⚠️ Error al procesar prophet_features_parciales\\20548.parquet: __cinit__() got an unexpected keyword argument 'append'\n"
     ]
    },
    {
     "name": "stderr",
     "output_type": "stream",
     "text": [
      "📦 Procesando archivos:  53%|█████▎    | 415/780 [03:35<01:41,  3.61it/s]"
     ]
    },
    {
     "name": "stdout",
     "output_type": "stream",
     "text": [
      "⚠️ Error al procesar prophet_features_parciales\\20549.parquet: __cinit__() got an unexpected keyword argument 'append'\n"
     ]
    },
    {
     "name": "stderr",
     "output_type": "stream",
     "text": [
      "📦 Procesando archivos:  53%|█████▎    | 416/780 [03:36<02:03,  2.94it/s]"
     ]
    },
    {
     "name": "stdout",
     "output_type": "stream",
     "text": [
      "⚠️ Error al procesar prophet_features_parciales\\20551.parquet: __cinit__() got an unexpected keyword argument 'append'\n"
     ]
    },
    {
     "name": "stderr",
     "output_type": "stream",
     "text": [
      "📦 Procesando archivos:  54%|█████▎    | 418/780 [03:36<01:36,  3.73it/s]"
     ]
    },
    {
     "name": "stdout",
     "output_type": "stream",
     "text": [
      "⚠️ Error al procesar prophet_features_parciales\\20552.parquet: __cinit__() got an unexpected keyword argument 'append'\n",
      "⚠️ Error al procesar prophet_features_parciales\\20553.parquet: __cinit__() got an unexpected keyword argument 'append'\n"
     ]
    },
    {
     "name": "stderr",
     "output_type": "stream",
     "text": [
      "📦 Procesando archivos:  54%|█████▎    | 419/780 [03:36<01:38,  3.67it/s]"
     ]
    },
    {
     "name": "stdout",
     "output_type": "stream",
     "text": [
      "⚠️ Error al procesar prophet_features_parciales\\20555.parquet: __cinit__() got an unexpected keyword argument 'append'\n"
     ]
    },
    {
     "name": "stderr",
     "output_type": "stream",
     "text": [
      "📦 Procesando archivos:  54%|█████▍    | 421/780 [03:37<01:20,  4.45it/s]"
     ]
    },
    {
     "name": "stdout",
     "output_type": "stream",
     "text": [
      "⚠️ Error al procesar prophet_features_parciales\\20558.parquet: __cinit__() got an unexpected keyword argument 'append'\n",
      "⚠️ Error al procesar prophet_features_parciales\\20559.parquet: __cinit__() got an unexpected keyword argument 'append'\n"
     ]
    },
    {
     "name": "stderr",
     "output_type": "stream",
     "text": [
      "📦 Procesando archivos:  54%|█████▍    | 422/780 [03:37<01:44,  3.41it/s]"
     ]
    },
    {
     "name": "stdout",
     "output_type": "stream",
     "text": [
      "⚠️ Error al procesar prophet_features_parciales\\20560.parquet: __cinit__() got an unexpected keyword argument 'append'\n"
     ]
    },
    {
     "name": "stderr",
     "output_type": "stream",
     "text": [
      "📦 Procesando archivos:  54%|█████▍    | 423/780 [03:38<02:19,  2.56it/s]"
     ]
    },
    {
     "name": "stdout",
     "output_type": "stream",
     "text": [
      "⚠️ Error al procesar prophet_features_parciales\\20561.parquet: __cinit__() got an unexpected keyword argument 'append'\n"
     ]
    },
    {
     "name": "stderr",
     "output_type": "stream",
     "text": [
      "📦 Procesando archivos:  54%|█████▍    | 425/780 [03:39<02:24,  2.45it/s]"
     ]
    },
    {
     "name": "stdout",
     "output_type": "stream",
     "text": [
      "⚠️ Error al procesar prophet_features_parciales\\20563.parquet: __cinit__() got an unexpected keyword argument 'append'\n",
      "⚠️ Error al procesar prophet_features_parciales\\20565.parquet: __cinit__() got an unexpected keyword argument 'append'\n"
     ]
    },
    {
     "name": "stderr",
     "output_type": "stream",
     "text": [
      "📦 Procesando archivos:  55%|█████▍    | 426/780 [03:39<01:55,  3.06it/s]"
     ]
    },
    {
     "name": "stdout",
     "output_type": "stream",
     "text": [
      "⚠️ Error al procesar prophet_features_parciales\\20567.parquet: __cinit__() got an unexpected keyword argument 'append'\n"
     ]
    },
    {
     "name": "stderr",
     "output_type": "stream",
     "text": [
      "📦 Procesando archivos:  55%|█████▍    | 427/780 [03:39<01:42,  3.45it/s]"
     ]
    },
    {
     "name": "stdout",
     "output_type": "stream",
     "text": [
      "⚠️ Error al procesar prophet_features_parciales\\20568.parquet: __cinit__() got an unexpected keyword argument 'append'\n"
     ]
    },
    {
     "name": "stderr",
     "output_type": "stream",
     "text": [
      "📦 Procesando archivos:  55%|█████▍    | 428/780 [03:39<01:48,  3.24it/s]"
     ]
    },
    {
     "name": "stdout",
     "output_type": "stream",
     "text": [
      "⚠️ Error al procesar prophet_features_parciales\\20569.parquet: __cinit__() got an unexpected keyword argument 'append'\n"
     ]
    },
    {
     "name": "stderr",
     "output_type": "stream",
     "text": [
      "📦 Procesando archivos:  55%|█████▌    | 429/780 [03:40<01:49,  3.21it/s]"
     ]
    },
    {
     "name": "stdout",
     "output_type": "stream",
     "text": [
      "⚠️ Error al procesar prophet_features_parciales\\20570.parquet: __cinit__() got an unexpected keyword argument 'append'\n"
     ]
    },
    {
     "name": "stderr",
     "output_type": "stream",
     "text": [
      "📦 Procesando archivos:  55%|█████▌    | 430/780 [03:40<02:05,  2.80it/s]"
     ]
    },
    {
     "name": "stdout",
     "output_type": "stream",
     "text": [
      "⚠️ Error al procesar prophet_features_parciales\\20571.parquet: __cinit__() got an unexpected keyword argument 'append'\n"
     ]
    },
    {
     "name": "stderr",
     "output_type": "stream",
     "text": [
      "📦 Procesando archivos:  55%|█████▌    | 431/780 [03:41<02:36,  2.23it/s]"
     ]
    },
    {
     "name": "stdout",
     "output_type": "stream",
     "text": [
      "⚠️ Error al procesar prophet_features_parciales\\20572.parquet: __cinit__() got an unexpected keyword argument 'append'\n"
     ]
    },
    {
     "name": "stderr",
     "output_type": "stream",
     "text": [
      "📦 Procesando archivos:  55%|█████▌    | 432/780 [03:41<02:20,  2.48it/s]"
     ]
    },
    {
     "name": "stdout",
     "output_type": "stream",
     "text": [
      "⚠️ Error al procesar prophet_features_parciales\\20574.parquet: __cinit__() got an unexpected keyword argument 'append'\n"
     ]
    },
    {
     "name": "stderr",
     "output_type": "stream",
     "text": [
      "📦 Procesando archivos:  56%|█████▌    | 435/780 [03:42<01:14,  4.63it/s]"
     ]
    },
    {
     "name": "stdout",
     "output_type": "stream",
     "text": [
      "⚠️ Error al procesar prophet_features_parciales\\20575.parquet: __cinit__() got an unexpected keyword argument 'append'\n",
      "⚠️ Error al procesar prophet_features_parciales\\20576.parquet: __cinit__() got an unexpected keyword argument 'append'\n",
      "⚠️ Error al procesar prophet_features_parciales\\20577.parquet: __cinit__() got an unexpected keyword argument 'append'\n"
     ]
    },
    {
     "name": "stderr",
     "output_type": "stream",
     "text": [
      "📦 Procesando archivos:  56%|█████▌    | 436/780 [03:42<01:31,  3.77it/s]"
     ]
    },
    {
     "name": "stdout",
     "output_type": "stream",
     "text": [
      "⚠️ Error al procesar prophet_features_parciales\\20578.parquet: __cinit__() got an unexpected keyword argument 'append'\n"
     ]
    },
    {
     "name": "stderr",
     "output_type": "stream",
     "text": [
      "📦 Procesando archivos:  56%|█████▌    | 437/780 [03:43<02:13,  2.57it/s]"
     ]
    },
    {
     "name": "stdout",
     "output_type": "stream",
     "text": [
      "⚠️ Error al procesar prophet_features_parciales\\20579.parquet: __cinit__() got an unexpected keyword argument 'append'\n"
     ]
    },
    {
     "name": "stderr",
     "output_type": "stream",
     "text": [
      "📦 Procesando archivos:  56%|█████▌    | 438/780 [03:43<01:58,  2.88it/s]"
     ]
    },
    {
     "name": "stdout",
     "output_type": "stream",
     "text": [
      "⚠️ Error al procesar prophet_features_parciales\\20580.parquet: __cinit__() got an unexpected keyword argument 'append'\n"
     ]
    },
    {
     "name": "stderr",
     "output_type": "stream",
     "text": [
      "📦 Procesando archivos:  56%|█████▋    | 439/780 [03:44<02:31,  2.26it/s]"
     ]
    },
    {
     "name": "stdout",
     "output_type": "stream",
     "text": [
      "⚠️ Error al procesar prophet_features_parciales\\20583.parquet: __cinit__() got an unexpected keyword argument 'append'\n"
     ]
    },
    {
     "name": "stderr",
     "output_type": "stream",
     "text": [
      "📦 Procesando archivos:  56%|█████▋    | 440/780 [03:44<02:54,  1.95it/s]"
     ]
    },
    {
     "name": "stdout",
     "output_type": "stream",
     "text": [
      "⚠️ Error al procesar prophet_features_parciales\\20585.parquet: __cinit__() got an unexpected keyword argument 'append'\n"
     ]
    },
    {
     "name": "stderr",
     "output_type": "stream",
     "text": [
      "📦 Procesando archivos:  57%|█████▋    | 441/780 [03:45<03:09,  1.79it/s]"
     ]
    },
    {
     "name": "stdout",
     "output_type": "stream",
     "text": [
      "⚠️ Error al procesar prophet_features_parciales\\20586.parquet: __cinit__() got an unexpected keyword argument 'append'\n"
     ]
    },
    {
     "name": "stderr",
     "output_type": "stream",
     "text": [
      "📦 Procesando archivos:  57%|█████▋    | 442/780 [03:45<02:37,  2.14it/s]"
     ]
    },
    {
     "name": "stdout",
     "output_type": "stream",
     "text": [
      "⚠️ Error al procesar prophet_features_parciales\\20588.parquet: __cinit__() got an unexpected keyword argument 'append'\n"
     ]
    },
    {
     "name": "stderr",
     "output_type": "stream",
     "text": [
      "📦 Procesando archivos:  57%|█████▋    | 444/780 [03:46<01:52,  2.98it/s]"
     ]
    },
    {
     "name": "stdout",
     "output_type": "stream",
     "text": [
      "⚠️ Error al procesar prophet_features_parciales\\20589.parquet: __cinit__() got an unexpected keyword argument 'append'\n",
      "⚠️ Error al procesar prophet_features_parciales\\20592.parquet: __cinit__() got an unexpected keyword argument 'append'\n"
     ]
    },
    {
     "name": "stderr",
     "output_type": "stream",
     "text": [
      "📦 Procesando archivos:  57%|█████▋    | 445/780 [03:46<01:29,  3.75it/s]"
     ]
    },
    {
     "name": "stdout",
     "output_type": "stream",
     "text": [
      "⚠️ Error al procesar prophet_features_parciales\\20593.parquet: __cinit__() got an unexpected keyword argument 'append'\n"
     ]
    },
    {
     "name": "stderr",
     "output_type": "stream",
     "text": [
      "📦 Procesando archivos:  57%|█████▋    | 446/780 [03:46<01:53,  2.94it/s]"
     ]
    },
    {
     "name": "stdout",
     "output_type": "stream",
     "text": [
      "⚠️ Error al procesar prophet_features_parciales\\20596.parquet: __cinit__() got an unexpected keyword argument 'append'\n"
     ]
    },
    {
     "name": "stderr",
     "output_type": "stream",
     "text": [
      "📦 Procesando archivos:  57%|█████▋    | 447/780 [03:47<02:02,  2.71it/s]"
     ]
    },
    {
     "name": "stdout",
     "output_type": "stream",
     "text": [
      "⚠️ Error al procesar prophet_features_parciales\\20597.parquet: __cinit__() got an unexpected keyword argument 'append'\n"
     ]
    },
    {
     "name": "stderr",
     "output_type": "stream",
     "text": [
      "📦 Procesando archivos:  57%|█████▋    | 448/780 [03:47<02:44,  2.02it/s]"
     ]
    },
    {
     "name": "stdout",
     "output_type": "stream",
     "text": [
      "⚠️ Error al procesar prophet_features_parciales\\20599.parquet: __cinit__() got an unexpected keyword argument 'append'\n"
     ]
    },
    {
     "name": "stderr",
     "output_type": "stream",
     "text": [
      "📦 Procesando archivos:  58%|█████▊    | 449/780 [03:49<03:46,  1.46it/s]"
     ]
    },
    {
     "name": "stdout",
     "output_type": "stream",
     "text": [
      "⚠️ Error al procesar prophet_features_parciales\\20600.parquet: __cinit__() got an unexpected keyword argument 'append'\n"
     ]
    },
    {
     "name": "stderr",
     "output_type": "stream",
     "text": [
      "📦 Procesando archivos:  58%|█████▊    | 450/780 [03:49<03:39,  1.50it/s]"
     ]
    },
    {
     "name": "stdout",
     "output_type": "stream",
     "text": [
      "⚠️ Error al procesar prophet_features_parciales\\20601.parquet: __cinit__() got an unexpected keyword argument 'append'\n"
     ]
    },
    {
     "name": "stderr",
     "output_type": "stream",
     "text": [
      "📦 Procesando archivos:  58%|█████▊    | 451/780 [03:50<03:40,  1.49it/s]"
     ]
    },
    {
     "name": "stdout",
     "output_type": "stream",
     "text": [
      "⚠️ Error al procesar prophet_features_parciales\\20602.parquet: __cinit__() got an unexpected keyword argument 'append'\n"
     ]
    },
    {
     "name": "stderr",
     "output_type": "stream",
     "text": [
      "📦 Procesando archivos:  58%|█████▊    | 453/780 [03:50<02:15,  2.42it/s]"
     ]
    },
    {
     "name": "stdout",
     "output_type": "stream",
     "text": [
      "⚠️ Error al procesar prophet_features_parciales\\20603.parquet: __cinit__() got an unexpected keyword argument 'append'\n",
      "⚠️ Error al procesar prophet_features_parciales\\20604.parquet: __cinit__() got an unexpected keyword argument 'append'\n"
     ]
    },
    {
     "name": "stderr",
     "output_type": "stream",
     "text": [
      "📦 Procesando archivos:  58%|█████▊    | 454/780 [03:51<02:32,  2.14it/s]"
     ]
    },
    {
     "name": "stdout",
     "output_type": "stream",
     "text": [
      "⚠️ Error al procesar prophet_features_parciales\\20605.parquet: __cinit__() got an unexpected keyword argument 'append'\n"
     ]
    },
    {
     "name": "stderr",
     "output_type": "stream",
     "text": [
      "📦 Procesando archivos:  58%|█████▊    | 455/780 [03:52<03:05,  1.75it/s]"
     ]
    },
    {
     "name": "stdout",
     "output_type": "stream",
     "text": [
      "⚠️ Error al procesar prophet_features_parciales\\20606.parquet: __cinit__() got an unexpected keyword argument 'append'\n"
     ]
    },
    {
     "name": "stderr",
     "output_type": "stream",
     "text": [
      "📦 Procesando archivos:  59%|█████▊    | 457/780 [03:52<02:10,  2.48it/s]"
     ]
    },
    {
     "name": "stdout",
     "output_type": "stream",
     "text": [
      "⚠️ Error al procesar prophet_features_parciales\\20609.parquet: __cinit__() got an unexpected keyword argument 'append'\n",
      "⚠️ Error al procesar prophet_features_parciales\\20611.parquet: __cinit__() got an unexpected keyword argument 'append'\n"
     ]
    },
    {
     "name": "stderr",
     "output_type": "stream",
     "text": [
      "📦 Procesando archivos:  59%|█████▊    | 458/780 [03:53<02:27,  2.18it/s]"
     ]
    },
    {
     "name": "stdout",
     "output_type": "stream",
     "text": [
      "⚠️ Error al procesar prophet_features_parciales\\20612.parquet: __cinit__() got an unexpected keyword argument 'append'\n"
     ]
    },
    {
     "name": "stderr",
     "output_type": "stream",
     "text": [
      "📦 Procesando archivos:  59%|█████▉    | 460/780 [03:54<02:24,  2.22it/s]"
     ]
    },
    {
     "name": "stdout",
     "output_type": "stream",
     "text": [
      "⚠️ Error al procesar prophet_features_parciales\\20614.parquet: __cinit__() got an unexpected keyword argument 'append'\n",
      "⚠️ Error al procesar prophet_features_parciales\\20615.parquet: __cinit__() got an unexpected keyword argument 'append'\n"
     ]
    },
    {
     "name": "stderr",
     "output_type": "stream",
     "text": [
      "📦 Procesando archivos:  59%|█████▉    | 462/780 [03:54<01:48,  2.92it/s]"
     ]
    },
    {
     "name": "stdout",
     "output_type": "stream",
     "text": [
      "⚠️ Error al procesar prophet_features_parciales\\20617.parquet: __cinit__() got an unexpected keyword argument 'append'\n",
      "⚠️ Error al procesar prophet_features_parciales\\20620.parquet: __cinit__() got an unexpected keyword argument 'append'\n",
      "⚠️ Error al procesar prophet_features_parciales\\20621.parquet: __cinit__() got an unexpected keyword argument 'append'\n"
     ]
    },
    {
     "name": "stderr",
     "output_type": "stream",
     "text": [
      "📦 Procesando archivos:  60%|█████▉    | 465/780 [03:55<01:15,  4.16it/s]"
     ]
    },
    {
     "name": "stdout",
     "output_type": "stream",
     "text": [
      "⚠️ Error al procesar prophet_features_parciales\\20622.parquet: __cinit__() got an unexpected keyword argument 'append'\n",
      "⚠️ Error al procesar prophet_features_parciales\\20623.parquet: __cinit__() got an unexpected keyword argument 'append'\n"
     ]
    },
    {
     "name": "stderr",
     "output_type": "stream",
     "text": [
      "📦 Procesando archivos:  60%|█████▉    | 466/780 [03:55<01:47,  2.91it/s]"
     ]
    },
    {
     "name": "stdout",
     "output_type": "stream",
     "text": [
      "⚠️ Error al procesar prophet_features_parciales\\20624.parquet: __cinit__() got an unexpected keyword argument 'append'\n"
     ]
    },
    {
     "name": "stderr",
     "output_type": "stream",
     "text": [
      "📦 Procesando archivos:  60%|█████▉    | 467/780 [03:56<01:50,  2.84it/s]"
     ]
    },
    {
     "name": "stdout",
     "output_type": "stream",
     "text": [
      "⚠️ Error al procesar prophet_features_parciales\\20627.parquet: __cinit__() got an unexpected keyword argument 'append'\n"
     ]
    },
    {
     "name": "stderr",
     "output_type": "stream",
     "text": [
      "📦 Procesando archivos:  60%|██████    | 468/780 [03:56<01:45,  2.96it/s]"
     ]
    },
    {
     "name": "stdout",
     "output_type": "stream",
     "text": [
      "⚠️ Error al procesar prophet_features_parciales\\20628.parquet: __cinit__() got an unexpected keyword argument 'append'\n"
     ]
    },
    {
     "name": "stderr",
     "output_type": "stream",
     "text": [
      "📦 Procesando archivos:  60%|██████    | 469/780 [03:57<02:10,  2.39it/s]"
     ]
    },
    {
     "name": "stdout",
     "output_type": "stream",
     "text": [
      "⚠️ Error al procesar prophet_features_parciales\\20629.parquet: __cinit__() got an unexpected keyword argument 'append'\n"
     ]
    },
    {
     "name": "stderr",
     "output_type": "stream",
     "text": [
      "📦 Procesando archivos:  60%|██████    | 471/780 [03:57<01:55,  2.67it/s]"
     ]
    },
    {
     "name": "stdout",
     "output_type": "stream",
     "text": [
      "⚠️ Error al procesar prophet_features_parciales\\20632.parquet: __cinit__() got an unexpected keyword argument 'append'\n",
      "⚠️ Error al procesar prophet_features_parciales\\20633.parquet: __cinit__() got an unexpected keyword argument 'append'\n"
     ]
    },
    {
     "name": "stderr",
     "output_type": "stream",
     "text": [
      "📦 Procesando archivos:  61%|██████    | 472/780 [03:58<02:01,  2.54it/s]"
     ]
    },
    {
     "name": "stdout",
     "output_type": "stream",
     "text": [
      "⚠️ Error al procesar prophet_features_parciales\\20636.parquet: __cinit__() got an unexpected keyword argument 'append'\n"
     ]
    },
    {
     "name": "stderr",
     "output_type": "stream",
     "text": [
      "📦 Procesando archivos:  61%|██████    | 474/780 [03:59<02:07,  2.41it/s]"
     ]
    },
    {
     "name": "stdout",
     "output_type": "stream",
     "text": [
      "⚠️ Error al procesar prophet_features_parciales\\20637.parquet: __cinit__() got an unexpected keyword argument 'append'\n",
      "⚠️ Error al procesar prophet_features_parciales\\20638.parquet: __cinit__() got an unexpected keyword argument 'append'\n"
     ]
    },
    {
     "name": "stderr",
     "output_type": "stream",
     "text": [
      "📦 Procesando archivos:  61%|██████    | 475/780 [04:00<02:30,  2.02it/s]"
     ]
    },
    {
     "name": "stdout",
     "output_type": "stream",
     "text": [
      "⚠️ Error al procesar prophet_features_parciales\\20639.parquet: __cinit__() got an unexpected keyword argument 'append'\n"
     ]
    },
    {
     "name": "stderr",
     "output_type": "stream",
     "text": [
      "📦 Procesando archivos:  61%|██████    | 476/780 [04:00<02:34,  1.96it/s]"
     ]
    },
    {
     "name": "stdout",
     "output_type": "stream",
     "text": [
      "⚠️ Error al procesar prophet_features_parciales\\20640.parquet: __cinit__() got an unexpected keyword argument 'append'\n"
     ]
    },
    {
     "name": "stderr",
     "output_type": "stream",
     "text": [
      "📦 Procesando archivos:  61%|██████    | 477/780 [04:01<02:20,  2.16it/s]"
     ]
    },
    {
     "name": "stdout",
     "output_type": "stream",
     "text": [
      "⚠️ Error al procesar prophet_features_parciales\\20641.parquet: __cinit__() got an unexpected keyword argument 'append'\n"
     ]
    },
    {
     "name": "stderr",
     "output_type": "stream",
     "text": [
      "📦 Procesando archivos:  61%|██████▏   | 478/780 [04:01<02:22,  2.12it/s]"
     ]
    },
    {
     "name": "stdout",
     "output_type": "stream",
     "text": [
      "⚠️ Error al procesar prophet_features_parciales\\20642.parquet: __cinit__() got an unexpected keyword argument 'append'\n"
     ]
    },
    {
     "name": "stderr",
     "output_type": "stream",
     "text": [
      "📦 Procesando archivos:  61%|██████▏   | 479/780 [04:01<02:10,  2.31it/s]"
     ]
    },
    {
     "name": "stdout",
     "output_type": "stream",
     "text": [
      "⚠️ Error al procesar prophet_features_parciales\\20644.parquet: __cinit__() got an unexpected keyword argument 'append'\n"
     ]
    },
    {
     "name": "stderr",
     "output_type": "stream",
     "text": [
      "📦 Procesando archivos:  62%|██████▏   | 480/780 [04:02<02:13,  2.25it/s]"
     ]
    },
    {
     "name": "stdout",
     "output_type": "stream",
     "text": [
      "⚠️ Error al procesar prophet_features_parciales\\20646.parquet: __cinit__() got an unexpected keyword argument 'append'\n"
     ]
    },
    {
     "name": "stderr",
     "output_type": "stream",
     "text": [
      "📦 Procesando archivos:  62%|██████▏   | 482/780 [04:02<01:28,  3.35it/s]"
     ]
    },
    {
     "name": "stdout",
     "output_type": "stream",
     "text": [
      "⚠️ Error al procesar prophet_features_parciales\\20647.parquet: __cinit__() got an unexpected keyword argument 'append'\n",
      "⚠️ Error al procesar prophet_features_parciales\\20649.parquet: __cinit__() got an unexpected keyword argument 'append'\n"
     ]
    },
    {
     "name": "stderr",
     "output_type": "stream",
     "text": [
      "📦 Procesando archivos:  62%|██████▏   | 483/780 [04:03<01:39,  2.97it/s]"
     ]
    },
    {
     "name": "stdout",
     "output_type": "stream",
     "text": [
      "⚠️ Error al procesar prophet_features_parciales\\20651.parquet: __cinit__() got an unexpected keyword argument 'append'\n"
     ]
    },
    {
     "name": "stderr",
     "output_type": "stream",
     "text": [
      "📦 Procesando archivos:  62%|██████▏   | 484/780 [04:03<01:40,  2.96it/s]"
     ]
    },
    {
     "name": "stdout",
     "output_type": "stream",
     "text": [
      "⚠️ Error al procesar prophet_features_parciales\\20652.parquet: __cinit__() got an unexpected keyword argument 'append'\n"
     ]
    },
    {
     "name": "stderr",
     "output_type": "stream",
     "text": [
      "📦 Procesando archivos:  62%|██████▏   | 485/780 [04:03<01:35,  3.10it/s]"
     ]
    },
    {
     "name": "stdout",
     "output_type": "stream",
     "text": [
      "⚠️ Error al procesar prophet_features_parciales\\20653.parquet: __cinit__() got an unexpected keyword argument 'append'\n"
     ]
    },
    {
     "name": "stderr",
     "output_type": "stream",
     "text": [
      "📦 Procesando archivos:  62%|██████▏   | 486/780 [04:04<02:30,  1.96it/s]"
     ]
    },
    {
     "name": "stdout",
     "output_type": "stream",
     "text": [
      "⚠️ Error al procesar prophet_features_parciales\\20654.parquet: __cinit__() got an unexpected keyword argument 'append'\n"
     ]
    },
    {
     "name": "stderr",
     "output_type": "stream",
     "text": [
      "📦 Procesando archivos:  62%|██████▏   | 487/780 [04:05<02:35,  1.88it/s]"
     ]
    },
    {
     "name": "stdout",
     "output_type": "stream",
     "text": [
      "⚠️ Error al procesar prophet_features_parciales\\20655.parquet: __cinit__() got an unexpected keyword argument 'append'\n"
     ]
    },
    {
     "name": "stderr",
     "output_type": "stream",
     "text": [
      "📦 Procesando archivos:  63%|██████▎   | 488/780 [04:05<02:23,  2.03it/s]"
     ]
    },
    {
     "name": "stdout",
     "output_type": "stream",
     "text": [
      "⚠️ Error al procesar prophet_features_parciales\\20657.parquet: __cinit__() got an unexpected keyword argument 'append'\n"
     ]
    },
    {
     "name": "stderr",
     "output_type": "stream",
     "text": [
      "📦 Procesando archivos:  63%|██████▎   | 490/780 [04:06<01:47,  2.71it/s]"
     ]
    },
    {
     "name": "stdout",
     "output_type": "stream",
     "text": [
      "⚠️ Error al procesar prophet_features_parciales\\20658.parquet: __cinit__() got an unexpected keyword argument 'append'\n",
      "⚠️ Error al procesar prophet_features_parciales\\20659.parquet: __cinit__() got an unexpected keyword argument 'append'\n"
     ]
    },
    {
     "name": "stderr",
     "output_type": "stream",
     "text": [
      "📦 Procesando archivos:  63%|██████▎   | 491/780 [04:06<01:42,  2.81it/s]"
     ]
    },
    {
     "name": "stdout",
     "output_type": "stream",
     "text": [
      "⚠️ Error al procesar prophet_features_parciales\\20660.parquet: __cinit__() got an unexpected keyword argument 'append'\n"
     ]
    },
    {
     "name": "stderr",
     "output_type": "stream",
     "text": [
      "📦 Procesando archivos:  63%|██████▎   | 493/780 [04:07<01:29,  3.19it/s]"
     ]
    },
    {
     "name": "stdout",
     "output_type": "stream",
     "text": [
      "⚠️ Error al procesar prophet_features_parciales\\20661.parquet: __cinit__() got an unexpected keyword argument 'append'\n",
      "⚠️ Error al procesar prophet_features_parciales\\20662.parquet: __cinit__() got an unexpected keyword argument 'append'\n"
     ]
    },
    {
     "name": "stderr",
     "output_type": "stream",
     "text": [
      "📦 Procesando archivos:  63%|██████▎   | 494/780 [04:07<01:37,  2.93it/s]"
     ]
    },
    {
     "name": "stdout",
     "output_type": "stream",
     "text": [
      "⚠️ Error al procesar prophet_features_parciales\\20663.parquet: __cinit__() got an unexpected keyword argument 'append'\n"
     ]
    },
    {
     "name": "stderr",
     "output_type": "stream",
     "text": [
      "📦 Procesando archivos:  63%|██████▎   | 495/780 [04:08<02:11,  2.17it/s]"
     ]
    },
    {
     "name": "stdout",
     "output_type": "stream",
     "text": [
      "⚠️ Error al procesar prophet_features_parciales\\20664.parquet: __cinit__() got an unexpected keyword argument 'append'\n"
     ]
    },
    {
     "name": "stderr",
     "output_type": "stream",
     "text": [
      "📦 Procesando archivos:  64%|██████▎   | 496/780 [04:08<01:49,  2.59it/s]"
     ]
    },
    {
     "name": "stdout",
     "output_type": "stream",
     "text": [
      "⚠️ Error al procesar prophet_features_parciales\\20666.parquet: __cinit__() got an unexpected keyword argument 'append'\n"
     ]
    },
    {
     "name": "stderr",
     "output_type": "stream",
     "text": [
      "📦 Procesando archivos:  64%|██████▎   | 497/780 [04:08<01:47,  2.63it/s]"
     ]
    },
    {
     "name": "stdout",
     "output_type": "stream",
     "text": [
      "⚠️ Error al procesar prophet_features_parciales\\20667.parquet: __cinit__() got an unexpected keyword argument 'append'\n"
     ]
    },
    {
     "name": "stderr",
     "output_type": "stream",
     "text": [
      "📦 Procesando archivos:  64%|██████▍   | 498/780 [04:09<01:44,  2.69it/s]"
     ]
    },
    {
     "name": "stdout",
     "output_type": "stream",
     "text": [
      "⚠️ Error al procesar prophet_features_parciales\\20670.parquet: __cinit__() got an unexpected keyword argument 'append'\n"
     ]
    },
    {
     "name": "stderr",
     "output_type": "stream",
     "text": [
      "📦 Procesando archivos:  64%|██████▍   | 500/780 [04:10<01:52,  2.49it/s]"
     ]
    },
    {
     "name": "stdout",
     "output_type": "stream",
     "text": [
      "⚠️ Error al procesar prophet_features_parciales\\20672.parquet: __cinit__() got an unexpected keyword argument 'append'\n",
      "⚠️ Error al procesar prophet_features_parciales\\20673.parquet: __cinit__() got an unexpected keyword argument 'append'\n"
     ]
    },
    {
     "name": "stderr",
     "output_type": "stream",
     "text": [
      "📦 Procesando archivos:  64%|██████▍   | 501/780 [04:10<01:30,  3.09it/s]"
     ]
    },
    {
     "name": "stdout",
     "output_type": "stream",
     "text": [
      "⚠️ Error al procesar prophet_features_parciales\\20674.parquet: __cinit__() got an unexpected keyword argument 'append'\n"
     ]
    },
    {
     "name": "stderr",
     "output_type": "stream",
     "text": [
      "📦 Procesando archivos:  64%|██████▍   | 502/780 [04:10<01:30,  3.08it/s]"
     ]
    },
    {
     "name": "stdout",
     "output_type": "stream",
     "text": [
      "⚠️ Error al procesar prophet_features_parciales\\20676.parquet: __cinit__() got an unexpected keyword argument 'append'\n"
     ]
    },
    {
     "name": "stderr",
     "output_type": "stream",
     "text": [
      "📦 Procesando archivos:  64%|██████▍   | 503/780 [04:11<01:55,  2.39it/s]"
     ]
    },
    {
     "name": "stdout",
     "output_type": "stream",
     "text": [
      "⚠️ Error al procesar prophet_features_parciales\\20677.parquet: __cinit__() got an unexpected keyword argument 'append'\n"
     ]
    },
    {
     "name": "stderr",
     "output_type": "stream",
     "text": [
      "📦 Procesando archivos:  65%|██████▍   | 504/780 [04:11<02:06,  2.18it/s]"
     ]
    },
    {
     "name": "stdout",
     "output_type": "stream",
     "text": [
      "⚠️ Error al procesar prophet_features_parciales\\20678.parquet: __cinit__() got an unexpected keyword argument 'append'\n"
     ]
    },
    {
     "name": "stderr",
     "output_type": "stream",
     "text": [
      "📦 Procesando archivos:  65%|██████▍   | 505/780 [04:12<01:53,  2.42it/s]"
     ]
    },
    {
     "name": "stdout",
     "output_type": "stream",
     "text": [
      "⚠️ Error al procesar prophet_features_parciales\\20679.parquet: __cinit__() got an unexpected keyword argument 'append'\n"
     ]
    },
    {
     "name": "stderr",
     "output_type": "stream",
     "text": [
      "📦 Procesando archivos:  65%|██████▌   | 507/780 [04:12<01:26,  3.15it/s]"
     ]
    },
    {
     "name": "stdout",
     "output_type": "stream",
     "text": [
      "⚠️ Error al procesar prophet_features_parciales\\20680.parquet: __cinit__() got an unexpected keyword argument 'append'\n",
      "⚠️ Error al procesar prophet_features_parciales\\20681.parquet: __cinit__() got an unexpected keyword argument 'append'\n"
     ]
    },
    {
     "name": "stderr",
     "output_type": "stream",
     "text": [
      "📦 Procesando archivos:  65%|██████▌   | 508/780 [04:12<01:11,  3.79it/s]"
     ]
    },
    {
     "name": "stdout",
     "output_type": "stream",
     "text": [
      "⚠️ Error al procesar prophet_features_parciales\\20682.parquet: __cinit__() got an unexpected keyword argument 'append'\n"
     ]
    },
    {
     "name": "stderr",
     "output_type": "stream",
     "text": [
      "📦 Procesando archivos:  65%|██████▌   | 509/780 [04:12<01:07,  4.03it/s]"
     ]
    },
    {
     "name": "stdout",
     "output_type": "stream",
     "text": [
      "⚠️ Error al procesar prophet_features_parciales\\20684.parquet: __cinit__() got an unexpected keyword argument 'append'\n"
     ]
    },
    {
     "name": "stderr",
     "output_type": "stream",
     "text": [
      "📦 Procesando archivos:  66%|██████▌   | 511/780 [04:13<01:11,  3.75it/s]"
     ]
    },
    {
     "name": "stdout",
     "output_type": "stream",
     "text": [
      "⚠️ Error al procesar prophet_features_parciales\\20685.parquet: __cinit__() got an unexpected keyword argument 'append'\n",
      "⚠️ Error al procesar prophet_features_parciales\\20686.parquet: __cinit__() got an unexpected keyword argument 'append'\n"
     ]
    },
    {
     "name": "stderr",
     "output_type": "stream",
     "text": [
      "📦 Procesando archivos:  66%|██████▌   | 512/780 [04:13<01:11,  3.74it/s]"
     ]
    },
    {
     "name": "stdout",
     "output_type": "stream",
     "text": [
      "⚠️ Error al procesar prophet_features_parciales\\20689.parquet: __cinit__() got an unexpected keyword argument 'append'\n",
      "⚠️ Error al procesar prophet_features_parciales\\20691.parquet: __cinit__() got an unexpected keyword argument 'append'\n"
     ]
    },
    {
     "name": "stderr",
     "output_type": "stream",
     "text": [
      "📦 Procesando archivos:  66%|██████▌   | 515/780 [04:14<01:07,  3.95it/s]"
     ]
    },
    {
     "name": "stdout",
     "output_type": "stream",
     "text": [
      "⚠️ Error al procesar prophet_features_parciales\\20693.parquet: __cinit__() got an unexpected keyword argument 'append'\n",
      "⚠️ Error al procesar prophet_features_parciales\\20694.parquet: __cinit__() got an unexpected keyword argument 'append'\n"
     ]
    },
    {
     "name": "stderr",
     "output_type": "stream",
     "text": [
      "📦 Procesando archivos:  66%|██████▌   | 516/780 [04:14<01:09,  3.78it/s]"
     ]
    },
    {
     "name": "stdout",
     "output_type": "stream",
     "text": [
      "⚠️ Error al procesar prophet_features_parciales\\20696.parquet: __cinit__() got an unexpected keyword argument 'append'\n"
     ]
    },
    {
     "name": "stderr",
     "output_type": "stream",
     "text": [
      "📦 Procesando archivos:  66%|██████▋   | 517/780 [04:15<01:52,  2.33it/s]"
     ]
    },
    {
     "name": "stdout",
     "output_type": "stream",
     "text": [
      "⚠️ Error al procesar prophet_features_parciales\\20697.parquet: __cinit__() got an unexpected keyword argument 'append'\n"
     ]
    },
    {
     "name": "stderr",
     "output_type": "stream",
     "text": [
      "📦 Procesando archivos:  67%|██████▋   | 519/780 [04:16<01:38,  2.65it/s]"
     ]
    },
    {
     "name": "stdout",
     "output_type": "stream",
     "text": [
      "⚠️ Error al procesar prophet_features_parciales\\20699.parquet: __cinit__() got an unexpected keyword argument 'append'\n",
      "⚠️ Error al procesar prophet_features_parciales\\20700.parquet: __cinit__() got an unexpected keyword argument 'append'\n"
     ]
    },
    {
     "name": "stderr",
     "output_type": "stream",
     "text": [
      "📦 Procesando archivos:  67%|██████▋   | 520/780 [04:17<02:14,  1.93it/s]"
     ]
    },
    {
     "name": "stdout",
     "output_type": "stream",
     "text": [
      "⚠️ Error al procesar prophet_features_parciales\\20701.parquet: __cinit__() got an unexpected keyword argument 'append'\n"
     ]
    },
    {
     "name": "stderr",
     "output_type": "stream",
     "text": [
      "📦 Procesando archivos:  67%|██████▋   | 523/780 [04:17<01:18,  3.25it/s]"
     ]
    },
    {
     "name": "stdout",
     "output_type": "stream",
     "text": [
      "⚠️ Error al procesar prophet_features_parciales\\20702.parquet: __cinit__() got an unexpected keyword argument 'append'\n",
      "⚠️ Error al procesar prophet_features_parciales\\20703.parquet: __cinit__() got an unexpected keyword argument 'append'\n",
      "⚠️ Error al procesar prophet_features_parciales\\20705.parquet: __cinit__() got an unexpected keyword argument 'append'\n"
     ]
    },
    {
     "name": "stderr",
     "output_type": "stream",
     "text": [
      "📦 Procesando archivos:  67%|██████▋   | 524/780 [04:18<01:14,  3.43it/s]"
     ]
    },
    {
     "name": "stdout",
     "output_type": "stream",
     "text": [
      "⚠️ Error al procesar prophet_features_parciales\\20706.parquet: __cinit__() got an unexpected keyword argument 'append'\n"
     ]
    },
    {
     "name": "stderr",
     "output_type": "stream",
     "text": [
      "📦 Procesando archivos:  67%|██████▋   | 525/780 [04:18<01:14,  3.42it/s]"
     ]
    },
    {
     "name": "stdout",
     "output_type": "stream",
     "text": [
      "⚠️ Error al procesar prophet_features_parciales\\20708.parquet: __cinit__() got an unexpected keyword argument 'append'\n"
     ]
    },
    {
     "name": "stderr",
     "output_type": "stream",
     "text": [
      "📦 Procesando archivos:  68%|██████▊   | 527/780 [04:18<01:01,  4.11it/s]"
     ]
    },
    {
     "name": "stdout",
     "output_type": "stream",
     "text": [
      "⚠️ Error al procesar prophet_features_parciales\\20709.parquet: __cinit__() got an unexpected keyword argument 'append'\n",
      "⚠️ Error al procesar prophet_features_parciales\\20711.parquet: __cinit__() got an unexpected keyword argument 'append'\n"
     ]
    },
    {
     "name": "stderr",
     "output_type": "stream",
     "text": [
      "📦 Procesando archivos:  68%|██████▊   | 528/780 [04:19<01:30,  2.77it/s]"
     ]
    },
    {
     "name": "stdout",
     "output_type": "stream",
     "text": [
      "⚠️ Error al procesar prophet_features_parciales\\20713.parquet: __cinit__() got an unexpected keyword argument 'append'\n"
     ]
    },
    {
     "name": "stderr",
     "output_type": "stream",
     "text": [
      "📦 Procesando archivos:  68%|██████▊   | 529/780 [04:20<01:36,  2.59it/s]"
     ]
    },
    {
     "name": "stdout",
     "output_type": "stream",
     "text": [
      "⚠️ Error al procesar prophet_features_parciales\\20714.parquet: __cinit__() got an unexpected keyword argument 'append'\n"
     ]
    },
    {
     "name": "stderr",
     "output_type": "stream",
     "text": [
      "📦 Procesando archivos:  68%|██████▊   | 530/780 [04:20<02:00,  2.08it/s]"
     ]
    },
    {
     "name": "stdout",
     "output_type": "stream",
     "text": [
      "⚠️ Error al procesar prophet_features_parciales\\20715.parquet: __cinit__() got an unexpected keyword argument 'append'\n"
     ]
    },
    {
     "name": "stderr",
     "output_type": "stream",
     "text": [
      "📦 Procesando archivos:  68%|██████▊   | 532/780 [04:21<01:22,  3.00it/s]"
     ]
    },
    {
     "name": "stdout",
     "output_type": "stream",
     "text": [
      "⚠️ Error al procesar prophet_features_parciales\\20719.parquet: __cinit__() got an unexpected keyword argument 'append'\n",
      "⚠️ Error al procesar prophet_features_parciales\\20720.parquet: __cinit__() got an unexpected keyword argument 'append'\n"
     ]
    },
    {
     "name": "stderr",
     "output_type": "stream",
     "text": [
      "📦 Procesando archivos:  68%|██████▊   | 533/780 [04:21<01:17,  3.17it/s]"
     ]
    },
    {
     "name": "stdout",
     "output_type": "stream",
     "text": [
      "⚠️ Error al procesar prophet_features_parciales\\20721.parquet: __cinit__() got an unexpected keyword argument 'append'\n"
     ]
    },
    {
     "name": "stderr",
     "output_type": "stream",
     "text": [
      "📦 Procesando archivos:  68%|██████▊   | 534/780 [04:21<01:10,  3.48it/s]"
     ]
    },
    {
     "name": "stdout",
     "output_type": "stream",
     "text": [
      "⚠️ Error al procesar prophet_features_parciales\\20724.parquet: __cinit__() got an unexpected keyword argument 'append'\n"
     ]
    },
    {
     "name": "stderr",
     "output_type": "stream",
     "text": [
      "📦 Procesando archivos:  69%|██████▊   | 535/780 [04:21<01:13,  3.34it/s]"
     ]
    },
    {
     "name": "stdout",
     "output_type": "stream",
     "text": [
      "⚠️ Error al procesar prophet_features_parciales\\20729.parquet: __cinit__() got an unexpected keyword argument 'append'\n"
     ]
    },
    {
     "name": "stderr",
     "output_type": "stream",
     "text": [
      "📦 Procesando archivos:  69%|██████▉   | 537/780 [04:22<01:00,  3.98it/s]"
     ]
    },
    {
     "name": "stdout",
     "output_type": "stream",
     "text": [
      "⚠️ Error al procesar prophet_features_parciales\\20730.parquet: __cinit__() got an unexpected keyword argument 'append'\n",
      "⚠️ Error al procesar prophet_features_parciales\\20732.parquet: __cinit__() got an unexpected keyword argument 'append'\n"
     ]
    },
    {
     "name": "stderr",
     "output_type": "stream",
     "text": [
      "📦 Procesando archivos:  69%|██████▉   | 538/780 [04:22<00:50,  4.75it/s]"
     ]
    },
    {
     "name": "stdout",
     "output_type": "stream",
     "text": [
      "⚠️ Error al procesar prophet_features_parciales\\20733.parquet: __cinit__() got an unexpected keyword argument 'append'\n"
     ]
    },
    {
     "name": "stderr",
     "output_type": "stream",
     "text": [
      "📦 Procesando archivos:  69%|██████▉   | 540/780 [04:23<01:18,  3.04it/s]"
     ]
    },
    {
     "name": "stdout",
     "output_type": "stream",
     "text": [
      "⚠️ Error al procesar prophet_features_parciales\\20735.parquet: __cinit__() got an unexpected keyword argument 'append'\n",
      "⚠️ Error al procesar prophet_features_parciales\\20737.parquet: __cinit__() got an unexpected keyword argument 'append'\n"
     ]
    },
    {
     "name": "stderr",
     "output_type": "stream",
     "text": [
      "📦 Procesando archivos:  69%|██████▉   | 541/780 [04:24<01:51,  2.14it/s]"
     ]
    },
    {
     "name": "stdout",
     "output_type": "stream",
     "text": [
      "⚠️ Error al procesar prophet_features_parciales\\20739.parquet: __cinit__() got an unexpected keyword argument 'append'\n"
     ]
    },
    {
     "name": "stderr",
     "output_type": "stream",
     "text": [
      "📦 Procesando archivos:  69%|██████▉   | 542/780 [04:24<01:45,  2.26it/s]"
     ]
    },
    {
     "name": "stdout",
     "output_type": "stream",
     "text": [
      "⚠️ Error al procesar prophet_features_parciales\\20741.parquet: __cinit__() got an unexpected keyword argument 'append'\n"
     ]
    },
    {
     "name": "stderr",
     "output_type": "stream",
     "text": [
      "📦 Procesando archivos:  70%|██████▉   | 543/780 [04:24<01:33,  2.53it/s]"
     ]
    },
    {
     "name": "stdout",
     "output_type": "stream",
     "text": [
      "⚠️ Error al procesar prophet_features_parciales\\20742.parquet: __cinit__() got an unexpected keyword argument 'append'\n"
     ]
    },
    {
     "name": "stderr",
     "output_type": "stream",
     "text": [
      "📦 Procesando archivos:  70%|██████▉   | 544/780 [04:25<01:38,  2.40it/s]"
     ]
    },
    {
     "name": "stdout",
     "output_type": "stream",
     "text": [
      "⚠️ Error al procesar prophet_features_parciales\\20743.parquet: __cinit__() got an unexpected keyword argument 'append'\n"
     ]
    },
    {
     "name": "stderr",
     "output_type": "stream",
     "text": [
      "📦 Procesando archivos:  70%|██████▉   | 545/780 [04:26<01:53,  2.06it/s]"
     ]
    },
    {
     "name": "stdout",
     "output_type": "stream",
     "text": [
      "⚠️ Error al procesar prophet_features_parciales\\20744.parquet: __cinit__() got an unexpected keyword argument 'append'\n"
     ]
    },
    {
     "name": "stderr",
     "output_type": "stream",
     "text": [
      "📦 Procesando archivos:  70%|███████   | 547/780 [04:26<01:39,  2.35it/s]"
     ]
    },
    {
     "name": "stdout",
     "output_type": "stream",
     "text": [
      "⚠️ Error al procesar prophet_features_parciales\\20745.parquet: __cinit__() got an unexpected keyword argument 'append'\n",
      "⚠️ Error al procesar prophet_features_parciales\\20746.parquet: __cinit__() got an unexpected keyword argument 'append'\n"
     ]
    },
    {
     "name": "stderr",
     "output_type": "stream",
     "text": [
      "📦 Procesando archivos:  70%|███████   | 548/780 [04:27<01:56,  2.00it/s]"
     ]
    },
    {
     "name": "stdout",
     "output_type": "stream",
     "text": [
      "⚠️ Error al procesar prophet_features_parciales\\20749.parquet: __cinit__() got an unexpected keyword argument 'append'\n"
     ]
    },
    {
     "name": "stderr",
     "output_type": "stream",
     "text": [
      "📦 Procesando archivos:  70%|███████   | 549/780 [04:28<02:02,  1.89it/s]"
     ]
    },
    {
     "name": "stdout",
     "output_type": "stream",
     "text": [
      "⚠️ Error al procesar prophet_features_parciales\\20750.parquet: __cinit__() got an unexpected keyword argument 'append'\n"
     ]
    },
    {
     "name": "stderr",
     "output_type": "stream",
     "text": [
      "📦 Procesando archivos:  71%|███████   | 551/780 [04:28<01:23,  2.74it/s]"
     ]
    },
    {
     "name": "stdout",
     "output_type": "stream",
     "text": [
      "⚠️ Error al procesar prophet_features_parciales\\20751.parquet: __cinit__() got an unexpected keyword argument 'append'\n",
      "⚠️ Error al procesar prophet_features_parciales\\20754.parquet: __cinit__() got an unexpected keyword argument 'append'\n"
     ]
    },
    {
     "name": "stderr",
     "output_type": "stream",
     "text": [
      "📦 Procesando archivos:  71%|███████   | 553/780 [04:29<01:27,  2.59it/s]"
     ]
    },
    {
     "name": "stdout",
     "output_type": "stream",
     "text": [
      "⚠️ Error al procesar prophet_features_parciales\\20756.parquet: __cinit__() got an unexpected keyword argument 'append'\n",
      "⚠️ Error al procesar prophet_features_parciales\\20757.parquet: __cinit__() got an unexpected keyword argument 'append'\n"
     ]
    },
    {
     "name": "stderr",
     "output_type": "stream",
     "text": [
      "📦 Procesando archivos:  71%|███████   | 554/780 [04:29<01:13,  3.05it/s]"
     ]
    },
    {
     "name": "stdout",
     "output_type": "stream",
     "text": [
      "⚠️ Error al procesar prophet_features_parciales\\20758.parquet: __cinit__() got an unexpected keyword argument 'append'\n"
     ]
    },
    {
     "name": "stderr",
     "output_type": "stream",
     "text": [
      "📦 Procesando archivos:  71%|███████   | 555/780 [04:30<01:33,  2.40it/s]"
     ]
    },
    {
     "name": "stdout",
     "output_type": "stream",
     "text": [
      "⚠️ Error al procesar prophet_features_parciales\\20759.parquet: __cinit__() got an unexpected keyword argument 'append'\n"
     ]
    },
    {
     "name": "stderr",
     "output_type": "stream",
     "text": [
      "📦 Procesando archivos:  71%|███████▏  | 557/780 [04:31<01:30,  2.45it/s]"
     ]
    },
    {
     "name": "stdout",
     "output_type": "stream",
     "text": [
      "⚠️ Error al procesar prophet_features_parciales\\20761.parquet: __cinit__() got an unexpected keyword argument 'append'\n",
      "⚠️ Error al procesar prophet_features_parciales\\20762.parquet: __cinit__() got an unexpected keyword argument 'append'\n"
     ]
    },
    {
     "name": "stderr",
     "output_type": "stream",
     "text": [
      "📦 Procesando archivos:  72%|███████▏  | 558/780 [04:31<01:24,  2.62it/s]"
     ]
    },
    {
     "name": "stdout",
     "output_type": "stream",
     "text": [
      "⚠️ Error al procesar prophet_features_parciales\\20765.parquet: __cinit__() got an unexpected keyword argument 'append'\n"
     ]
    },
    {
     "name": "stderr",
     "output_type": "stream",
     "text": [
      "📦 Procesando archivos:  72%|███████▏  | 559/780 [04:32<01:33,  2.36it/s]"
     ]
    },
    {
     "name": "stdout",
     "output_type": "stream",
     "text": [
      "⚠️ Error al procesar prophet_features_parciales\\20768.parquet: __cinit__() got an unexpected keyword argument 'append'\n"
     ]
    },
    {
     "name": "stderr",
     "output_type": "stream",
     "text": [
      "📦 Procesando archivos:  72%|███████▏  | 561/780 [04:32<01:16,  2.85it/s]"
     ]
    },
    {
     "name": "stdout",
     "output_type": "stream",
     "text": [
      "⚠️ Error al procesar prophet_features_parciales\\20771.parquet: __cinit__() got an unexpected keyword argument 'append'\n",
      "⚠️ Error al procesar prophet_features_parciales\\20772.parquet: __cinit__() got an unexpected keyword argument 'append'\n"
     ]
    },
    {
     "name": "stderr",
     "output_type": "stream",
     "text": [
      "📦 Procesando archivos:  72%|███████▏  | 563/780 [04:33<01:00,  3.56it/s]"
     ]
    },
    {
     "name": "stdout",
     "output_type": "stream",
     "text": [
      "⚠️ Error al procesar prophet_features_parciales\\20773.parquet: __cinit__() got an unexpected keyword argument 'append'\n",
      "⚠️ Error al procesar prophet_features_parciales\\20774.parquet: __cinit__() got an unexpected keyword argument 'append'\n"
     ]
    },
    {
     "name": "stderr",
     "output_type": "stream",
     "text": [
      "📦 Procesando archivos:  72%|███████▏  | 564/780 [04:33<00:57,  3.79it/s]"
     ]
    },
    {
     "name": "stdout",
     "output_type": "stream",
     "text": [
      "⚠️ Error al procesar prophet_features_parciales\\20775.parquet: __cinit__() got an unexpected keyword argument 'append'\n"
     ]
    },
    {
     "name": "stderr",
     "output_type": "stream",
     "text": [
      "📦 Procesando archivos:  72%|███████▏  | 565/780 [04:33<01:21,  2.65it/s]"
     ]
    },
    {
     "name": "stdout",
     "output_type": "stream",
     "text": [
      "⚠️ Error al procesar prophet_features_parciales\\20777.parquet: __cinit__() got an unexpected keyword argument 'append'\n"
     ]
    },
    {
     "name": "stderr",
     "output_type": "stream",
     "text": [
      "📦 Procesando archivos:  73%|███████▎  | 567/780 [04:34<01:07,  3.17it/s]"
     ]
    },
    {
     "name": "stdout",
     "output_type": "stream",
     "text": [
      "⚠️ Error al procesar prophet_features_parciales\\20781.parquet: __cinit__() got an unexpected keyword argument 'append'\n",
      "⚠️ Error al procesar prophet_features_parciales\\20783.parquet: __cinit__() got an unexpected keyword argument 'append'\n"
     ]
    },
    {
     "name": "stderr",
     "output_type": "stream",
     "text": [
      "📦 Procesando archivos:  73%|███████▎  | 569/780 [04:34<00:46,  4.52it/s]"
     ]
    },
    {
     "name": "stdout",
     "output_type": "stream",
     "text": [
      "⚠️ Error al procesar prophet_features_parciales\\20785.parquet: __cinit__() got an unexpected keyword argument 'append'\n",
      "⚠️ Error al procesar prophet_features_parciales\\20786.parquet: __cinit__() got an unexpected keyword argument 'append'\n"
     ]
    },
    {
     "name": "stderr",
     "output_type": "stream",
     "text": [
      "📦 Procesando archivos:  73%|███████▎  | 570/780 [04:35<00:49,  4.28it/s]"
     ]
    },
    {
     "name": "stdout",
     "output_type": "stream",
     "text": [
      "⚠️ Error al procesar prophet_features_parciales\\20788.parquet: __cinit__() got an unexpected keyword argument 'append'\n"
     ]
    },
    {
     "name": "stderr",
     "output_type": "stream",
     "text": [
      "📦 Procesando archivos:  73%|███████▎  | 571/780 [04:35<00:55,  3.74it/s]"
     ]
    },
    {
     "name": "stdout",
     "output_type": "stream",
     "text": [
      "⚠️ Error al procesar prophet_features_parciales\\20789.parquet: __cinit__() got an unexpected keyword argument 'append'\n"
     ]
    },
    {
     "name": "stderr",
     "output_type": "stream",
     "text": [
      "📦 Procesando archivos:  73%|███████▎  | 572/780 [04:35<00:57,  3.60it/s]"
     ]
    },
    {
     "name": "stdout",
     "output_type": "stream",
     "text": [
      "⚠️ Error al procesar prophet_features_parciales\\20793.parquet: __cinit__() got an unexpected keyword argument 'append'\n",
      "⚠️ Error al procesar prophet_features_parciales\\20795.parquet: __cinit__() got an unexpected keyword argument 'append'\n"
     ]
    },
    {
     "name": "stderr",
     "output_type": "stream",
     "text": [
      "📦 Procesando archivos:  74%|███████▎  | 574/780 [04:36<00:50,  4.09it/s]"
     ]
    },
    {
     "name": "stdout",
     "output_type": "stream",
     "text": [
      "⚠️ Error al procesar prophet_features_parciales\\20800.parquet: __cinit__() got an unexpected keyword argument 'append'\n"
     ]
    },
    {
     "name": "stderr",
     "output_type": "stream",
     "text": [
      "📦 Procesando archivos:  74%|███████▎  | 575/780 [04:36<00:57,  3.55it/s]"
     ]
    },
    {
     "name": "stdout",
     "output_type": "stream",
     "text": [
      "⚠️ Error al procesar prophet_features_parciales\\20801.parquet: __cinit__() got an unexpected keyword argument 'append'\n"
     ]
    },
    {
     "name": "stderr",
     "output_type": "stream",
     "text": [
      "📦 Procesando archivos:  74%|███████▍  | 576/780 [04:36<00:56,  3.59it/s]"
     ]
    },
    {
     "name": "stdout",
     "output_type": "stream",
     "text": [
      "⚠️ Error al procesar prophet_features_parciales\\20802.parquet: __cinit__() got an unexpected keyword argument 'append'\n"
     ]
    },
    {
     "name": "stderr",
     "output_type": "stream",
     "text": [
      "📦 Procesando archivos:  74%|███████▍  | 577/780 [04:37<01:04,  3.17it/s]"
     ]
    },
    {
     "name": "stdout",
     "output_type": "stream",
     "text": [
      "⚠️ Error al procesar prophet_features_parciales\\20803.parquet: __cinit__() got an unexpected keyword argument 'append'\n"
     ]
    },
    {
     "name": "stderr",
     "output_type": "stream",
     "text": [
      "📦 Procesando archivos:  74%|███████▍  | 578/780 [04:37<01:23,  2.41it/s]"
     ]
    },
    {
     "name": "stdout",
     "output_type": "stream",
     "text": [
      "⚠️ Error al procesar prophet_features_parciales\\20807.parquet: __cinit__() got an unexpected keyword argument 'append'\n"
     ]
    },
    {
     "name": "stderr",
     "output_type": "stream",
     "text": [
      "📦 Procesando archivos:  74%|███████▍  | 579/780 [04:38<01:15,  2.68it/s]"
     ]
    },
    {
     "name": "stdout",
     "output_type": "stream",
     "text": [
      "⚠️ Error al procesar prophet_features_parciales\\20809.parquet: __cinit__() got an unexpected keyword argument 'append'\n"
     ]
    },
    {
     "name": "stderr",
     "output_type": "stream",
     "text": [
      "📦 Procesando archivos:  74%|███████▍  | 580/780 [04:38<01:31,  2.18it/s]"
     ]
    },
    {
     "name": "stdout",
     "output_type": "stream",
     "text": [
      "⚠️ Error al procesar prophet_features_parciales\\20810.parquet: __cinit__() got an unexpected keyword argument 'append'\n"
     ]
    },
    {
     "name": "stderr",
     "output_type": "stream",
     "text": [
      "📦 Procesando archivos:  74%|███████▍  | 581/780 [04:39<01:30,  2.20it/s]"
     ]
    },
    {
     "name": "stdout",
     "output_type": "stream",
     "text": [
      "⚠️ Error al procesar prophet_features_parciales\\20811.parquet: __cinit__() got an unexpected keyword argument 'append'\n"
     ]
    },
    {
     "name": "stderr",
     "output_type": "stream",
     "text": [
      "📦 Procesando archivos:  75%|███████▍  | 583/780 [04:39<01:08,  2.88it/s]"
     ]
    },
    {
     "name": "stdout",
     "output_type": "stream",
     "text": [
      "⚠️ Error al procesar prophet_features_parciales\\20812.parquet: __cinit__() got an unexpected keyword argument 'append'\n",
      "⚠️ Error al procesar prophet_features_parciales\\20815.parquet: __cinit__() got an unexpected keyword argument 'append'\n"
     ]
    },
    {
     "name": "stderr",
     "output_type": "stream",
     "text": [
      "📦 Procesando archivos:  75%|███████▍  | 584/780 [04:39<00:57,  3.42it/s]"
     ]
    },
    {
     "name": "stdout",
     "output_type": "stream",
     "text": [
      "⚠️ Error al procesar prophet_features_parciales\\20817.parquet: __cinit__() got an unexpected keyword argument 'append'\n"
     ]
    },
    {
     "name": "stderr",
     "output_type": "stream",
     "text": [
      "📦 Procesando archivos:  75%|███████▌  | 585/780 [04:40<01:09,  2.81it/s]"
     ]
    },
    {
     "name": "stdout",
     "output_type": "stream",
     "text": [
      "⚠️ Error al procesar prophet_features_parciales\\20818.parquet: __cinit__() got an unexpected keyword argument 'append'\n"
     ]
    },
    {
     "name": "stderr",
     "output_type": "stream",
     "text": [
      "📦 Procesando archivos:  75%|███████▌  | 586/780 [04:41<01:33,  2.08it/s]"
     ]
    },
    {
     "name": "stdout",
     "output_type": "stream",
     "text": [
      "⚠️ Error al procesar prophet_features_parciales\\20820.parquet: __cinit__() got an unexpected keyword argument 'append'\n"
     ]
    },
    {
     "name": "stderr",
     "output_type": "stream",
     "text": [
      "📦 Procesando archivos:  75%|███████▌  | 587/780 [04:41<01:17,  2.50it/s]"
     ]
    },
    {
     "name": "stdout",
     "output_type": "stream",
     "text": [
      "⚠️ Error al procesar prophet_features_parciales\\20822.parquet: __cinit__() got an unexpected keyword argument 'append'\n"
     ]
    },
    {
     "name": "stderr",
     "output_type": "stream",
     "text": [
      "📦 Procesando archivos:  75%|███████▌  | 588/780 [04:42<01:31,  2.11it/s]"
     ]
    },
    {
     "name": "stdout",
     "output_type": "stream",
     "text": [
      "⚠️ Error al procesar prophet_features_parciales\\20823.parquet: __cinit__() got an unexpected keyword argument 'append'\n"
     ]
    },
    {
     "name": "stderr",
     "output_type": "stream",
     "text": [
      "📦 Procesando archivos:  76%|███████▌  | 589/780 [04:42<01:21,  2.34it/s]"
     ]
    },
    {
     "name": "stdout",
     "output_type": "stream",
     "text": [
      "⚠️ Error al procesar prophet_features_parciales\\20824.parquet: __cinit__() got an unexpected keyword argument 'append'\n"
     ]
    },
    {
     "name": "stderr",
     "output_type": "stream",
     "text": [
      "📦 Procesando archivos:  76%|███████▌  | 591/780 [04:42<01:03,  2.97it/s]"
     ]
    },
    {
     "name": "stdout",
     "output_type": "stream",
     "text": [
      "⚠️ Error al procesar prophet_features_parciales\\20826.parquet: __cinit__() got an unexpected keyword argument 'append'\n",
      "⚠️ Error al procesar prophet_features_parciales\\20827.parquet: __cinit__() got an unexpected keyword argument 'append'\n"
     ]
    },
    {
     "name": "stderr",
     "output_type": "stream",
     "text": [
      "📦 Procesando archivos:  76%|███████▌  | 592/780 [04:43<00:59,  3.16it/s]"
     ]
    },
    {
     "name": "stdout",
     "output_type": "stream",
     "text": [
      "⚠️ Error al procesar prophet_features_parciales\\20828.parquet: __cinit__() got an unexpected keyword argument 'append'\n"
     ]
    },
    {
     "name": "stderr",
     "output_type": "stream",
     "text": [
      "📦 Procesando archivos:  76%|███████▌  | 593/780 [04:43<01:02,  2.99it/s]"
     ]
    },
    {
     "name": "stdout",
     "output_type": "stream",
     "text": [
      "⚠️ Error al procesar prophet_features_parciales\\20830.parquet: __cinit__() got an unexpected keyword argument 'append'\n"
     ]
    },
    {
     "name": "stderr",
     "output_type": "stream",
     "text": [
      "📦 Procesando archivos:  76%|███████▌  | 594/780 [04:43<00:59,  3.12it/s]"
     ]
    },
    {
     "name": "stdout",
     "output_type": "stream",
     "text": [
      "⚠️ Error al procesar prophet_features_parciales\\20831.parquet: __cinit__() got an unexpected keyword argument 'append'\n"
     ]
    },
    {
     "name": "stderr",
     "output_type": "stream",
     "text": [
      "📦 Procesando archivos:  76%|███████▋  | 596/780 [04:44<00:47,  3.85it/s]"
     ]
    },
    {
     "name": "stdout",
     "output_type": "stream",
     "text": [
      "⚠️ Error al procesar prophet_features_parciales\\20832.parquet: __cinit__() got an unexpected keyword argument 'append'\n",
      "⚠️ Error al procesar prophet_features_parciales\\20835.parquet: __cinit__() got an unexpected keyword argument 'append'\n"
     ]
    },
    {
     "name": "stderr",
     "output_type": "stream",
     "text": [
      "📦 Procesando archivos:  77%|███████▋  | 597/780 [04:44<01:07,  2.71it/s]"
     ]
    },
    {
     "name": "stdout",
     "output_type": "stream",
     "text": [
      "⚠️ Error al procesar prophet_features_parciales\\20838.parquet: __cinit__() got an unexpected keyword argument 'append'\n"
     ]
    },
    {
     "name": "stderr",
     "output_type": "stream",
     "text": [
      "📦 Procesando archivos:  77%|███████▋  | 598/780 [04:45<01:24,  2.15it/s]"
     ]
    },
    {
     "name": "stdout",
     "output_type": "stream",
     "text": [
      "⚠️ Error al procesar prophet_features_parciales\\20840.parquet: __cinit__() got an unexpected keyword argument 'append'\n"
     ]
    },
    {
     "name": "stderr",
     "output_type": "stream",
     "text": [
      "📦 Procesando archivos:  77%|███████▋  | 599/780 [04:45<01:19,  2.27it/s]"
     ]
    },
    {
     "name": "stdout",
     "output_type": "stream",
     "text": [
      "⚠️ Error al procesar prophet_features_parciales\\20843.parquet: __cinit__() got an unexpected keyword argument 'append'\n",
      "⚠️ Error al procesar prophet_features_parciales\\20845.parquet: __cinit__() got an unexpected keyword argument 'append'\n"
     ]
    },
    {
     "name": "stderr",
     "output_type": "stream",
     "text": [
      "📦 Procesando archivos:  77%|███████▋  | 601/780 [04:46<00:59,  3.01it/s]"
     ]
    },
    {
     "name": "stdout",
     "output_type": "stream",
     "text": [
      "⚠️ Error al procesar prophet_features_parciales\\20846.parquet: __cinit__() got an unexpected keyword argument 'append'\n"
     ]
    },
    {
     "name": "stderr",
     "output_type": "stream",
     "text": [
      "📦 Procesando archivos:  77%|███████▋  | 602/780 [04:46<00:58,  3.07it/s]"
     ]
    },
    {
     "name": "stdout",
     "output_type": "stream",
     "text": [
      "⚠️ Error al procesar prophet_features_parciales\\20847.parquet: __cinit__() got an unexpected keyword argument 'append'\n"
     ]
    },
    {
     "name": "stderr",
     "output_type": "stream",
     "text": [
      "📦 Procesando archivos:  77%|███████▋  | 603/780 [04:47<01:17,  2.30it/s]"
     ]
    },
    {
     "name": "stdout",
     "output_type": "stream",
     "text": [
      "⚠️ Error al procesar prophet_features_parciales\\20849.parquet: __cinit__() got an unexpected keyword argument 'append'\n"
     ]
    },
    {
     "name": "stderr",
     "output_type": "stream",
     "text": [
      "📦 Procesando archivos:  78%|███████▊  | 605/780 [04:47<00:57,  3.06it/s]"
     ]
    },
    {
     "name": "stdout",
     "output_type": "stream",
     "text": [
      "⚠️ Error al procesar prophet_features_parciales\\20852.parquet: __cinit__() got an unexpected keyword argument 'append'\n",
      "⚠️ Error al procesar prophet_features_parciales\\20853.parquet: __cinit__() got an unexpected keyword argument 'append'\n"
     ]
    },
    {
     "name": "stderr",
     "output_type": "stream",
     "text": [
      "📦 Procesando archivos:  78%|███████▊  | 607/780 [04:48<00:56,  3.07it/s]"
     ]
    },
    {
     "name": "stdout",
     "output_type": "stream",
     "text": [
      "⚠️ Error al procesar prophet_features_parciales\\20855.parquet: __cinit__() got an unexpected keyword argument 'append'\n",
      "⚠️ Error al procesar prophet_features_parciales\\20859.parquet: __cinit__() got an unexpected keyword argument 'append'\n"
     ]
    },
    {
     "name": "stderr",
     "output_type": "stream",
     "text": [
      "📦 Procesando archivos:  78%|███████▊  | 608/780 [04:48<00:48,  3.56it/s]"
     ]
    },
    {
     "name": "stdout",
     "output_type": "stream",
     "text": [
      "⚠️ Error al procesar prophet_features_parciales\\20862.parquet: __cinit__() got an unexpected keyword argument 'append'\n"
     ]
    },
    {
     "name": "stderr",
     "output_type": "stream",
     "text": [
      "📦 Procesando archivos:  78%|███████▊  | 609/780 [04:49<01:03,  2.69it/s]"
     ]
    },
    {
     "name": "stdout",
     "output_type": "stream",
     "text": [
      "⚠️ Error al procesar prophet_features_parciales\\20863.parquet: __cinit__() got an unexpected keyword argument 'append'\n"
     ]
    },
    {
     "name": "stderr",
     "output_type": "stream",
     "text": [
      "📦 Procesando archivos:  78%|███████▊  | 610/780 [04:49<00:58,  2.93it/s]"
     ]
    },
    {
     "name": "stdout",
     "output_type": "stream",
     "text": [
      "⚠️ Error al procesar prophet_features_parciales\\20864.parquet: __cinit__() got an unexpected keyword argument 'append'\n"
     ]
    },
    {
     "name": "stderr",
     "output_type": "stream",
     "text": [
      "📦 Procesando archivos:  78%|███████▊  | 611/780 [04:49<00:53,  3.15it/s]"
     ]
    },
    {
     "name": "stdout",
     "output_type": "stream",
     "text": [
      "⚠️ Error al procesar prophet_features_parciales\\20865.parquet: __cinit__() got an unexpected keyword argument 'append'\n"
     ]
    },
    {
     "name": "stderr",
     "output_type": "stream",
     "text": [
      "📦 Procesando archivos:  78%|███████▊  | 612/780 [04:50<00:50,  3.33it/s]"
     ]
    },
    {
     "name": "stdout",
     "output_type": "stream",
     "text": [
      "⚠️ Error al procesar prophet_features_parciales\\20870.parquet: __cinit__() got an unexpected keyword argument 'append'\n"
     ]
    },
    {
     "name": "stderr",
     "output_type": "stream",
     "text": [
      "📦 Procesando archivos:  79%|███████▊  | 613/780 [04:50<00:59,  2.79it/s]"
     ]
    },
    {
     "name": "stdout",
     "output_type": "stream",
     "text": [
      "⚠️ Error al procesar prophet_features_parciales\\20877.parquet: __cinit__() got an unexpected keyword argument 'append'\n"
     ]
    },
    {
     "name": "stderr",
     "output_type": "stream",
     "text": [
      "📦 Procesando archivos:  79%|███████▉  | 615/780 [04:51<00:53,  3.07it/s]"
     ]
    },
    {
     "name": "stdout",
     "output_type": "stream",
     "text": [
      "⚠️ Error al procesar prophet_features_parciales\\20878.parquet: __cinit__() got an unexpected keyword argument 'append'\n",
      "⚠️ Error al procesar prophet_features_parciales\\20879.parquet: __cinit__() got an unexpected keyword argument 'append'\n"
     ]
    },
    {
     "name": "stderr",
     "output_type": "stream",
     "text": [
      "📦 Procesando archivos:  79%|███████▉  | 616/780 [04:51<00:51,  3.20it/s]"
     ]
    },
    {
     "name": "stdout",
     "output_type": "stream",
     "text": [
      "⚠️ Error al procesar prophet_features_parciales\\20882.parquet: __cinit__() got an unexpected keyword argument 'append'\n"
     ]
    },
    {
     "name": "stderr",
     "output_type": "stream",
     "text": [
      "📦 Procesando archivos:  79%|███████▉  | 617/780 [04:51<00:52,  3.09it/s]"
     ]
    },
    {
     "name": "stdout",
     "output_type": "stream",
     "text": [
      "⚠️ Error al procesar prophet_features_parciales\\20883.parquet: __cinit__() got an unexpected keyword argument 'append'\n"
     ]
    },
    {
     "name": "stderr",
     "output_type": "stream",
     "text": [
      "📦 Procesando archivos:  79%|███████▉  | 618/780 [04:52<00:51,  3.17it/s]"
     ]
    },
    {
     "name": "stdout",
     "output_type": "stream",
     "text": [
      "⚠️ Error al procesar prophet_features_parciales\\20885.parquet: __cinit__() got an unexpected keyword argument 'append'\n",
      "⚠️ Error al procesar prophet_features_parciales\\20886.parquet: __cinit__() got an unexpected keyword argument 'append'\n"
     ]
    },
    {
     "name": "stderr",
     "output_type": "stream",
     "text": [
      "📦 Procesando archivos:  80%|███████▉  | 621/780 [04:52<00:32,  4.95it/s]"
     ]
    },
    {
     "name": "stdout",
     "output_type": "stream",
     "text": [
      "⚠️ Error al procesar prophet_features_parciales\\20892.parquet: __cinit__() got an unexpected keyword argument 'append'\n",
      "⚠️ Error al procesar prophet_features_parciales\\20894.parquet: __cinit__() got an unexpected keyword argument 'append'\n",
      "⚠️ Error al procesar prophet_features_parciales\\20899.parquet: __cinit__() got an unexpected keyword argument 'append'\n"
     ]
    },
    {
     "name": "stderr",
     "output_type": "stream",
     "text": [
      "📦 Procesando archivos:  80%|████████  | 624/780 [04:53<00:31,  4.97it/s]"
     ]
    },
    {
     "name": "stdout",
     "output_type": "stream",
     "text": [
      "⚠️ Error al procesar prophet_features_parciales\\20901.parquet: __cinit__() got an unexpected keyword argument 'append'\n",
      "⚠️ Error al procesar prophet_features_parciales\\20902.parquet: __cinit__() got an unexpected keyword argument 'append'\n"
     ]
    },
    {
     "name": "stderr",
     "output_type": "stream",
     "text": [
      "📦 Procesando archivos:  80%|████████  | 625/780 [04:53<00:29,  5.25it/s]"
     ]
    },
    {
     "name": "stdout",
     "output_type": "stream",
     "text": [
      "⚠️ Error al procesar prophet_features_parciales\\20904.parquet: __cinit__() got an unexpected keyword argument 'append'\n"
     ]
    },
    {
     "name": "stderr",
     "output_type": "stream",
     "text": [
      "📦 Procesando archivos:  80%|████████  | 626/780 [04:53<00:34,  4.46it/s]"
     ]
    },
    {
     "name": "stdout",
     "output_type": "stream",
     "text": [
      "⚠️ Error al procesar prophet_features_parciales\\20906.parquet: __cinit__() got an unexpected keyword argument 'append'\n",
      "⚠️ Error al procesar prophet_features_parciales\\20907.parquet: __cinit__() got an unexpected keyword argument 'append'\n"
     ]
    },
    {
     "name": "stderr",
     "output_type": "stream",
     "text": [
      "📦 Procesando archivos:  81%|████████  | 629/780 [04:54<00:27,  5.41it/s]"
     ]
    },
    {
     "name": "stdout",
     "output_type": "stream",
     "text": [
      "⚠️ Error al procesar prophet_features_parciales\\20908.parquet: __cinit__() got an unexpected keyword argument 'append'\n",
      "⚠️ Error al procesar prophet_features_parciales\\20910.parquet: __cinit__() got an unexpected keyword argument 'append'\n"
     ]
    },
    {
     "name": "stderr",
     "output_type": "stream",
     "text": [
      "📦 Procesando archivos:  81%|████████  | 630/780 [04:54<00:24,  6.10it/s]"
     ]
    },
    {
     "name": "stdout",
     "output_type": "stream",
     "text": [
      "⚠️ Error al procesar prophet_features_parciales\\20912.parquet: __cinit__() got an unexpected keyword argument 'append'\n"
     ]
    },
    {
     "name": "stderr",
     "output_type": "stream",
     "text": [
      "📦 Procesando archivos:  81%|████████  | 631/780 [04:54<00:34,  4.35it/s]"
     ]
    },
    {
     "name": "stdout",
     "output_type": "stream",
     "text": [
      "⚠️ Error al procesar prophet_features_parciales\\20913.parquet: __cinit__() got an unexpected keyword argument 'append'\n"
     ]
    },
    {
     "name": "stderr",
     "output_type": "stream",
     "text": [
      "📦 Procesando archivos:  81%|████████  | 633/780 [04:55<00:32,  4.50it/s]"
     ]
    },
    {
     "name": "stdout",
     "output_type": "stream",
     "text": [
      "⚠️ Error al procesar prophet_features_parciales\\20914.parquet: __cinit__() got an unexpected keyword argument 'append'\n",
      "⚠️ Error al procesar prophet_features_parciales\\20917.parquet: __cinit__() got an unexpected keyword argument 'append'\n"
     ]
    },
    {
     "name": "stderr",
     "output_type": "stream",
     "text": [
      "📦 Procesando archivos:  81%|████████▏ | 635/780 [04:55<00:26,  5.45it/s]"
     ]
    },
    {
     "name": "stdout",
     "output_type": "stream",
     "text": [
      "⚠️ Error al procesar prophet_features_parciales\\20919.parquet: __cinit__() got an unexpected keyword argument 'append'\n",
      "⚠️ Error al procesar prophet_features_parciales\\20920.parquet: __cinit__() got an unexpected keyword argument 'append'\n"
     ]
    },
    {
     "name": "stderr",
     "output_type": "stream",
     "text": [
      "📦 Procesando archivos:  82%|████████▏ | 637/780 [04:55<00:26,  5.40it/s]"
     ]
    },
    {
     "name": "stdout",
     "output_type": "stream",
     "text": [
      "⚠️ Error al procesar prophet_features_parciales\\20922.parquet: __cinit__() got an unexpected keyword argument 'append'\n",
      "⚠️ Error al procesar prophet_features_parciales\\20924.parquet: __cinit__() got an unexpected keyword argument 'append'\n"
     ]
    },
    {
     "name": "stderr",
     "output_type": "stream",
     "text": [
      "📦 Procesando archivos:  82%|████████▏ | 640/780 [04:56<00:19,  7.27it/s]"
     ]
    },
    {
     "name": "stdout",
     "output_type": "stream",
     "text": [
      "⚠️ Error al procesar prophet_features_parciales\\20925.parquet: __cinit__() got an unexpected keyword argument 'append'\n",
      "⚠️ Error al procesar prophet_features_parciales\\20927.parquet: __cinit__() got an unexpected keyword argument 'append'\n",
      "⚠️ Error al procesar prophet_features_parciales\\20928.parquet: __cinit__() got an unexpected keyword argument 'append'\n"
     ]
    },
    {
     "name": "stderr",
     "output_type": "stream",
     "text": [
      "📦 Procesando archivos:  82%|████████▏ | 642/780 [04:56<00:19,  6.96it/s]"
     ]
    },
    {
     "name": "stdout",
     "output_type": "stream",
     "text": [
      "⚠️ Error al procesar prophet_features_parciales\\20931.parquet: __cinit__() got an unexpected keyword argument 'append'\n",
      "⚠️ Error al procesar prophet_features_parciales\\20932.parquet: __cinit__() got an unexpected keyword argument 'append'\n",
      "⚠️ Error al procesar prophet_features_parciales\\20933.parquet: __cinit__() got an unexpected keyword argument 'append'\n"
     ]
    },
    {
     "name": "stderr",
     "output_type": "stream",
     "text": [
      "📦 Procesando archivos:  83%|████████▎ | 644/780 [04:56<00:17,  7.83it/s]"
     ]
    },
    {
     "name": "stdout",
     "output_type": "stream",
     "text": [
      "⚠️ Error al procesar prophet_features_parciales\\20936.parquet: __cinit__() got an unexpected keyword argument 'append'\n"
     ]
    },
    {
     "name": "stderr",
     "output_type": "stream",
     "text": [
      "📦 Procesando archivos:  83%|████████▎ | 645/780 [04:56<00:20,  6.63it/s]"
     ]
    },
    {
     "name": "stdout",
     "output_type": "stream",
     "text": [
      "⚠️ Error al procesar prophet_features_parciales\\20937.parquet: __cinit__() got an unexpected keyword argument 'append'\n"
     ]
    },
    {
     "name": "stderr",
     "output_type": "stream",
     "text": [
      "📦 Procesando archivos:  83%|████████▎ | 647/780 [04:57<00:27,  4.91it/s]"
     ]
    },
    {
     "name": "stdout",
     "output_type": "stream",
     "text": [
      "⚠️ Error al procesar prophet_features_parciales\\20941.parquet: __cinit__() got an unexpected keyword argument 'append'\n",
      "⚠️ Error al procesar prophet_features_parciales\\20942.parquet: __cinit__() got an unexpected keyword argument 'append'\n"
     ]
    },
    {
     "name": "stderr",
     "output_type": "stream",
     "text": [
      "📦 Procesando archivos:  83%|████████▎ | 649/780 [04:57<00:28,  4.65it/s]"
     ]
    },
    {
     "name": "stdout",
     "output_type": "stream",
     "text": [
      "⚠️ Error al procesar prophet_features_parciales\\20945.parquet: __cinit__() got an unexpected keyword argument 'append'\n",
      "⚠️ Error al procesar prophet_features_parciales\\20946.parquet: __cinit__() got an unexpected keyword argument 'append'\n"
     ]
    },
    {
     "name": "stderr",
     "output_type": "stream",
     "text": [
      "📦 Procesando archivos:  83%|████████▎ | 650/780 [04:58<00:30,  4.31it/s]"
     ]
    },
    {
     "name": "stdout",
     "output_type": "stream",
     "text": [
      "⚠️ Error al procesar prophet_features_parciales\\20947.parquet: __cinit__() got an unexpected keyword argument 'append'\n"
     ]
    },
    {
     "name": "stderr",
     "output_type": "stream",
     "text": [
      "📦 Procesando archivos:  83%|████████▎ | 651/780 [04:58<00:33,  3.80it/s]"
     ]
    },
    {
     "name": "stdout",
     "output_type": "stream",
     "text": [
      "⚠️ Error al procesar prophet_features_parciales\\20948.parquet: __cinit__() got an unexpected keyword argument 'append'\n"
     ]
    },
    {
     "name": "stderr",
     "output_type": "stream",
     "text": [
      "📦 Procesando archivos:  84%|████████▎ | 652/780 [04:59<00:43,  2.95it/s]"
     ]
    },
    {
     "name": "stdout",
     "output_type": "stream",
     "text": [
      "⚠️ Error al procesar prophet_features_parciales\\20949.parquet: __cinit__() got an unexpected keyword argument 'append'\n"
     ]
    },
    {
     "name": "stderr",
     "output_type": "stream",
     "text": [
      "📦 Procesando archivos:  84%|████████▎ | 653/780 [04:59<00:47,  2.68it/s]"
     ]
    },
    {
     "name": "stdout",
     "output_type": "stream",
     "text": [
      "⚠️ Error al procesar prophet_features_parciales\\20951.parquet: __cinit__() got an unexpected keyword argument 'append'\n",
      "⚠️ Error al procesar prophet_features_parciales\\20953.parquet: __cinit__() got an unexpected keyword argument 'append'\n"
     ]
    },
    {
     "name": "stderr",
     "output_type": "stream",
     "text": [
      "📦 Procesando archivos:  84%|████████▍ | 655/780 [04:59<00:35,  3.55it/s]"
     ]
    },
    {
     "name": "stdout",
     "output_type": "stream",
     "text": [
      "⚠️ Error al procesar prophet_features_parciales\\20956.parquet: __cinit__() got an unexpected keyword argument 'append'\n"
     ]
    },
    {
     "name": "stderr",
     "output_type": "stream",
     "text": [
      "📦 Procesando archivos:  84%|████████▍ | 656/780 [05:00<00:35,  3.50it/s]"
     ]
    },
    {
     "name": "stdout",
     "output_type": "stream",
     "text": [
      "⚠️ Error al procesar prophet_features_parciales\\20957.parquet: __cinit__() got an unexpected keyword argument 'append'\n"
     ]
    },
    {
     "name": "stderr",
     "output_type": "stream",
     "text": [
      "📦 Procesando archivos:  84%|████████▍ | 658/780 [05:00<00:33,  3.69it/s]"
     ]
    },
    {
     "name": "stdout",
     "output_type": "stream",
     "text": [
      "⚠️ Error al procesar prophet_features_parciales\\20961.parquet: __cinit__() got an unexpected keyword argument 'append'\n",
      "⚠️ Error al procesar prophet_features_parciales\\20962.parquet: __cinit__() got an unexpected keyword argument 'append'\n"
     ]
    },
    {
     "name": "stderr",
     "output_type": "stream",
     "text": [
      "📦 Procesando archivos:  85%|████████▍ | 660/780 [05:01<00:29,  4.04it/s]"
     ]
    },
    {
     "name": "stdout",
     "output_type": "stream",
     "text": [
      "⚠️ Error al procesar prophet_features_parciales\\20965.parquet: __cinit__() got an unexpected keyword argument 'append'\n",
      "⚠️ Error al procesar prophet_features_parciales\\20966.parquet: __cinit__() got an unexpected keyword argument 'append'\n"
     ]
    },
    {
     "name": "stderr",
     "output_type": "stream",
     "text": [
      "📦 Procesando archivos:  85%|████████▍ | 662/780 [05:01<00:26,  4.41it/s]"
     ]
    },
    {
     "name": "stdout",
     "output_type": "stream",
     "text": [
      "⚠️ Error al procesar prophet_features_parciales\\20967.parquet: __cinit__() got an unexpected keyword argument 'append'\n",
      "⚠️ Error al procesar prophet_features_parciales\\20968.parquet: __cinit__() got an unexpected keyword argument 'append'\n"
     ]
    },
    {
     "name": "stderr",
     "output_type": "stream",
     "text": [
      "📦 Procesando archivos:  85%|████████▌ | 664/780 [05:02<00:23,  4.98it/s]"
     ]
    },
    {
     "name": "stdout",
     "output_type": "stream",
     "text": [
      "⚠️ Error al procesar prophet_features_parciales\\20970.parquet: __cinit__() got an unexpected keyword argument 'append'\n",
      "⚠️ Error al procesar prophet_features_parciales\\20975.parquet: __cinit__() got an unexpected keyword argument 'append'\n"
     ]
    },
    {
     "name": "stderr",
     "output_type": "stream",
     "text": [
      "📦 Procesando archivos:  85%|████████▌ | 666/780 [05:02<00:28,  4.04it/s]"
     ]
    },
    {
     "name": "stdout",
     "output_type": "stream",
     "text": [
      "⚠️ Error al procesar prophet_features_parciales\\20976.parquet: __cinit__() got an unexpected keyword argument 'append'\n",
      "⚠️ Error al procesar prophet_features_parciales\\20982.parquet: __cinit__() got an unexpected keyword argument 'append'\n"
     ]
    },
    {
     "name": "stderr",
     "output_type": "stream",
     "text": [
      "📦 Procesando archivos:  86%|████████▌ | 667/780 [05:02<00:28,  4.03it/s]"
     ]
    },
    {
     "name": "stdout",
     "output_type": "stream",
     "text": [
      "⚠️ Error al procesar prophet_features_parciales\\20985.parquet: __cinit__() got an unexpected keyword argument 'append'\n"
     ]
    },
    {
     "name": "stderr",
     "output_type": "stream",
     "text": [
      "📦 Procesando archivos:  86%|████████▌ | 670/780 [05:03<00:22,  4.97it/s]"
     ]
    },
    {
     "name": "stdout",
     "output_type": "stream",
     "text": [
      "⚠️ Error al procesar prophet_features_parciales\\20986.parquet: __cinit__() got an unexpected keyword argument 'append'\n",
      "⚠️ Error al procesar prophet_features_parciales\\20987.parquet: __cinit__() got an unexpected keyword argument 'append'\n",
      "⚠️ Error al procesar prophet_features_parciales\\20990.parquet: __cinit__() got an unexpected keyword argument 'append'\n"
     ]
    },
    {
     "name": "stderr",
     "output_type": "stream",
     "text": [
      "📦 Procesando archivos:  86%|████████▌ | 671/780 [05:03<00:19,  5.59it/s]"
     ]
    },
    {
     "name": "stdout",
     "output_type": "stream",
     "text": [
      "⚠️ Error al procesar prophet_features_parciales\\20991.parquet: __cinit__() got an unexpected keyword argument 'append'\n"
     ]
    },
    {
     "name": "stderr",
     "output_type": "stream",
     "text": [
      "📦 Procesando archivos:  86%|████████▌ | 672/780 [05:03<00:19,  5.44it/s]"
     ]
    },
    {
     "name": "stdout",
     "output_type": "stream",
     "text": [
      "⚠️ Error al procesar prophet_features_parciales\\20994.parquet: __cinit__() got an unexpected keyword argument 'append'\n",
      "⚠️ Error al procesar prophet_features_parciales\\20995.parquet: __cinit__() got an unexpected keyword argument 'append'\n"
     ]
    },
    {
     "name": "stderr",
     "output_type": "stream",
     "text": [
      "📦 Procesando archivos:  87%|████████▋ | 675/780 [05:04<00:21,  4.85it/s]"
     ]
    },
    {
     "name": "stdout",
     "output_type": "stream",
     "text": [
      "⚠️ Error al procesar prophet_features_parciales\\20996.parquet: __cinit__() got an unexpected keyword argument 'append'\n",
      "⚠️ Error al procesar prophet_features_parciales\\20997.parquet: __cinit__() got an unexpected keyword argument 'append'\n"
     ]
    },
    {
     "name": "stderr",
     "output_type": "stream",
     "text": [
      "📦 Procesando archivos:  87%|████████▋ | 676/780 [05:04<00:18,  5.49it/s]"
     ]
    },
    {
     "name": "stdout",
     "output_type": "stream",
     "text": [
      "⚠️ Error al procesar prophet_features_parciales\\21001.parquet: __cinit__() got an unexpected keyword argument 'append'\n"
     ]
    },
    {
     "name": "stderr",
     "output_type": "stream",
     "text": [
      "📦 Procesando archivos:  87%|████████▋ | 678/780 [05:05<00:21,  4.73it/s]"
     ]
    },
    {
     "name": "stdout",
     "output_type": "stream",
     "text": [
      "⚠️ Error al procesar prophet_features_parciales\\21003.parquet: __cinit__() got an unexpected keyword argument 'append'\n",
      "⚠️ Error al procesar prophet_features_parciales\\21006.parquet: __cinit__() got an unexpected keyword argument 'append'\n",
      "⚠️ Error al procesar prophet_features_parciales\\21007.parquet: __cinit__() got an unexpected keyword argument 'append'\n"
     ]
    },
    {
     "name": "stderr",
     "output_type": "stream",
     "text": [
      "📦 Procesando archivos:  87%|████████▋ | 680/780 [05:05<00:21,  4.58it/s]"
     ]
    },
    {
     "name": "stdout",
     "output_type": "stream",
     "text": [
      "⚠️ Error al procesar prophet_features_parciales\\21008.parquet: __cinit__() got an unexpected keyword argument 'append'\n"
     ]
    },
    {
     "name": "stderr",
     "output_type": "stream",
     "text": [
      "📦 Procesando archivos:  87%|████████▋ | 681/780 [05:06<00:28,  3.52it/s]"
     ]
    },
    {
     "name": "stdout",
     "output_type": "stream",
     "text": [
      "⚠️ Error al procesar prophet_features_parciales\\21014.parquet: __cinit__() got an unexpected keyword argument 'append'\n"
     ]
    },
    {
     "name": "stderr",
     "output_type": "stream",
     "text": [
      "📦 Procesando archivos:  88%|████████▊ | 683/780 [05:06<00:23,  4.19it/s]"
     ]
    },
    {
     "name": "stdout",
     "output_type": "stream",
     "text": [
      "⚠️ Error al procesar prophet_features_parciales\\21016.parquet: __cinit__() got an unexpected keyword argument 'append'\n",
      "⚠️ Error al procesar prophet_features_parciales\\21022.parquet: __cinit__() got an unexpected keyword argument 'append'\n"
     ]
    },
    {
     "name": "stderr",
     "output_type": "stream",
     "text": [
      "📦 Procesando archivos:  88%|████████▊ | 684/780 [05:06<00:21,  4.51it/s]"
     ]
    },
    {
     "name": "stdout",
     "output_type": "stream",
     "text": [
      "⚠️ Error al procesar prophet_features_parciales\\21024.parquet: __cinit__() got an unexpected keyword argument 'append'\n"
     ]
    },
    {
     "name": "stderr",
     "output_type": "stream",
     "text": [
      "📦 Procesando archivos:  88%|████████▊ | 685/780 [05:07<00:24,  3.83it/s]"
     ]
    },
    {
     "name": "stdout",
     "output_type": "stream",
     "text": [
      "⚠️ Error al procesar prophet_features_parciales\\21027.parquet: __cinit__() got an unexpected keyword argument 'append'\n"
     ]
    },
    {
     "name": "stderr",
     "output_type": "stream",
     "text": [
      "📦 Procesando archivos:  88%|████████▊ | 686/780 [05:07<00:24,  3.76it/s]"
     ]
    },
    {
     "name": "stdout",
     "output_type": "stream",
     "text": [
      "⚠️ Error al procesar prophet_features_parciales\\21028.parquet: __cinit__() got an unexpected keyword argument 'append'\n"
     ]
    },
    {
     "name": "stderr",
     "output_type": "stream",
     "text": [
      "📦 Procesando archivos:  88%|████████▊ | 688/780 [05:07<00:24,  3.78it/s]"
     ]
    },
    {
     "name": "stdout",
     "output_type": "stream",
     "text": [
      "⚠️ Error al procesar prophet_features_parciales\\21032.parquet: __cinit__() got an unexpected keyword argument 'append'\n",
      "⚠️ Error al procesar prophet_features_parciales\\21033.parquet: __cinit__() got an unexpected keyword argument 'append'\n"
     ]
    },
    {
     "name": "stderr",
     "output_type": "stream",
     "text": [
      "📦 Procesando archivos:  88%|████████▊ | 690/780 [05:08<00:18,  4.86it/s]"
     ]
    },
    {
     "name": "stdout",
     "output_type": "stream",
     "text": [
      "⚠️ Error al procesar prophet_features_parciales\\21034.parquet: __cinit__() got an unexpected keyword argument 'append'\n",
      "⚠️ Error al procesar prophet_features_parciales\\21035.parquet: __cinit__() got an unexpected keyword argument 'append'\n"
     ]
    },
    {
     "name": "stderr",
     "output_type": "stream",
     "text": [
      "📦 Procesando archivos:  89%|████████▊ | 692/780 [05:08<00:15,  5.68it/s]"
     ]
    },
    {
     "name": "stdout",
     "output_type": "stream",
     "text": [
      "⚠️ Error al procesar prophet_features_parciales\\21037.parquet: __cinit__() got an unexpected keyword argument 'append'\n",
      "⚠️ Error al procesar prophet_features_parciales\\21038.parquet: __cinit__() got an unexpected keyword argument 'append'\n",
      "⚠️ Error al procesar prophet_features_parciales\\21039.parquet: __cinit__() got an unexpected keyword argument 'append'\n"
     ]
    },
    {
     "name": "stderr",
     "output_type": "stream",
     "text": [
      "📦 Procesando archivos:  89%|████████▉ | 695/780 [05:08<00:13,  6.25it/s]"
     ]
    },
    {
     "name": "stdout",
     "output_type": "stream",
     "text": [
      "⚠️ Error al procesar prophet_features_parciales\\21040.parquet: __cinit__() got an unexpected keyword argument 'append'\n",
      "⚠️ Error al procesar prophet_features_parciales\\21042.parquet: __cinit__() got an unexpected keyword argument 'append'\n"
     ]
    },
    {
     "name": "stderr",
     "output_type": "stream",
     "text": [
      "📦 Procesando archivos:  89%|████████▉ | 696/780 [05:09<00:12,  6.58it/s]"
     ]
    },
    {
     "name": "stdout",
     "output_type": "stream",
     "text": [
      "⚠️ Error al procesar prophet_features_parciales\\21044.parquet: __cinit__() got an unexpected keyword argument 'append'\n"
     ]
    },
    {
     "name": "stderr",
     "output_type": "stream",
     "text": [
      "📦 Procesando archivos:  89%|████████▉ | 697/780 [05:09<00:17,  4.65it/s]"
     ]
    },
    {
     "name": "stdout",
     "output_type": "stream",
     "text": [
      "⚠️ Error al procesar prophet_features_parciales\\21048.parquet: __cinit__() got an unexpected keyword argument 'append'\n"
     ]
    },
    {
     "name": "stderr",
     "output_type": "stream",
     "text": [
      "📦 Procesando archivos:  89%|████████▉ | 698/780 [05:09<00:18,  4.50it/s]"
     ]
    },
    {
     "name": "stdout",
     "output_type": "stream",
     "text": [
      "⚠️ Error al procesar prophet_features_parciales\\21049.parquet: __cinit__() got an unexpected keyword argument 'append'\n"
     ]
    },
    {
     "name": "stderr",
     "output_type": "stream",
     "text": [
      "📦 Procesando archivos:  90%|████████▉ | 700/780 [05:10<00:16,  4.89it/s]"
     ]
    },
    {
     "name": "stdout",
     "output_type": "stream",
     "text": [
      "⚠️ Error al procesar prophet_features_parciales\\21055.parquet: __cinit__() got an unexpected keyword argument 'append'\n",
      "⚠️ Error al procesar prophet_features_parciales\\21056.parquet: __cinit__() got an unexpected keyword argument 'append'\n"
     ]
    },
    {
     "name": "stderr",
     "output_type": "stream",
     "text": [
      "📦 Procesando archivos:  90%|█████████ | 702/780 [05:10<00:14,  5.40it/s]"
     ]
    },
    {
     "name": "stdout",
     "output_type": "stream",
     "text": [
      "⚠️ Error al procesar prophet_features_parciales\\21057.parquet: __cinit__() got an unexpected keyword argument 'append'\n",
      "⚠️ Error al procesar prophet_features_parciales\\21058.parquet: __cinit__() got an unexpected keyword argument 'append'\n",
      "⚠️ Error al procesar prophet_features_parciales\\21064.parquet: __cinit__() got an unexpected keyword argument 'append'\n"
     ]
    },
    {
     "name": "stderr",
     "output_type": "stream",
     "text": [
      "📦 Procesando archivos:  90%|█████████ | 705/780 [05:10<00:10,  7.40it/s]"
     ]
    },
    {
     "name": "stdout",
     "output_type": "stream",
     "text": [
      "⚠️ Error al procesar prophet_features_parciales\\21065.parquet: __cinit__() got an unexpected keyword argument 'append'\n",
      "⚠️ Error al procesar prophet_features_parciales\\21073.parquet: __cinit__() got an unexpected keyword argument 'append'\n",
      "⚠️ Error al procesar prophet_features_parciales\\21074.parquet: __cinit__() got an unexpected keyword argument 'append'\n"
     ]
    },
    {
     "name": "stderr",
     "output_type": "stream",
     "text": [
      "📦 Procesando archivos:  91%|█████████ | 707/780 [05:10<00:09,  8.03it/s]"
     ]
    },
    {
     "name": "stdout",
     "output_type": "stream",
     "text": [
      "⚠️ Error al procesar prophet_features_parciales\\21077.parquet: __cinit__() got an unexpected keyword argument 'append'\n",
      "⚠️ Error al procesar prophet_features_parciales\\21079.parquet: __cinit__() got an unexpected keyword argument 'append'\n"
     ]
    },
    {
     "name": "stderr",
     "output_type": "stream",
     "text": [
      "📦 Procesando archivos:  91%|█████████ | 710/780 [05:11<00:11,  6.26it/s]"
     ]
    },
    {
     "name": "stdout",
     "output_type": "stream",
     "text": [
      "⚠️ Error al procesar prophet_features_parciales\\21080.parquet: __cinit__() got an unexpected keyword argument 'append'\n",
      "⚠️ Error al procesar prophet_features_parciales\\21084.parquet: __cinit__() got an unexpected keyword argument 'append'\n"
     ]
    },
    {
     "name": "stderr",
     "output_type": "stream",
     "text": [
      "📦 Procesando archivos:  91%|█████████▏| 712/780 [05:11<00:08,  7.77it/s]"
     ]
    },
    {
     "name": "stdout",
     "output_type": "stream",
     "text": [
      "⚠️ Error al procesar prophet_features_parciales\\21086.parquet: __cinit__() got an unexpected keyword argument 'append'\n",
      "⚠️ Error al procesar prophet_features_parciales\\21087.parquet: __cinit__() got an unexpected keyword argument 'append'\n"
     ]
    },
    {
     "name": "stderr",
     "output_type": "stream",
     "text": [
      "📦 Procesando archivos:  92%|█████████▏| 714/780 [05:12<00:10,  6.15it/s]"
     ]
    },
    {
     "name": "stdout",
     "output_type": "stream",
     "text": [
      "⚠️ Error al procesar prophet_features_parciales\\21088.parquet: __cinit__() got an unexpected keyword argument 'append'\n",
      "⚠️ Error al procesar prophet_features_parciales\\21092.parquet: __cinit__() got an unexpected keyword argument 'append'\n"
     ]
    },
    {
     "name": "stderr",
     "output_type": "stream",
     "text": [
      "📦 Procesando archivos:  92%|█████████▏| 717/780 [05:12<00:07,  8.47it/s]"
     ]
    },
    {
     "name": "stdout",
     "output_type": "stream",
     "text": [
      "⚠️ Error al procesar prophet_features_parciales\\21093.parquet: __cinit__() got an unexpected keyword argument 'append'\n",
      "⚠️ Error al procesar prophet_features_parciales\\21097.parquet: __cinit__() got an unexpected keyword argument 'append'\n",
      "⚠️ Error al procesar prophet_features_parciales\\21099.parquet: __cinit__() got an unexpected keyword argument 'append'\n"
     ]
    },
    {
     "name": "stderr",
     "output_type": "stream",
     "text": [
      "📦 Procesando archivos:  92%|█████████▏| 719/780 [05:12<00:07,  8.60it/s]"
     ]
    },
    {
     "name": "stdout",
     "output_type": "stream",
     "text": [
      "⚠️ Error al procesar prophet_features_parciales\\21105.parquet: __cinit__() got an unexpected keyword argument 'append'\n",
      "⚠️ Error al procesar prophet_features_parciales\\21109.parquet: __cinit__() got an unexpected keyword argument 'append'\n"
     ]
    },
    {
     "name": "stderr",
     "output_type": "stream",
     "text": [
      "📦 Procesando archivos:  92%|█████████▏| 721/780 [05:12<00:06,  9.39it/s]"
     ]
    },
    {
     "name": "stdout",
     "output_type": "stream",
     "text": [
      "⚠️ Error al procesar prophet_features_parciales\\21110.parquet: __cinit__() got an unexpected keyword argument 'append'\n",
      "⚠️ Error al procesar prophet_features_parciales\\21111.parquet: __cinit__() got an unexpected keyword argument 'append'\n",
      "⚠️ Error al procesar prophet_features_parciales\\21112.parquet: __cinit__() got an unexpected keyword argument 'append'\n"
     ]
    },
    {
     "name": "stderr",
     "output_type": "stream",
     "text": [
      "📦 Procesando archivos:  93%|█████████▎| 723/780 [05:12<00:05, 10.29it/s]"
     ]
    },
    {
     "name": "stdout",
     "output_type": "stream",
     "text": [
      "⚠️ Error al procesar prophet_features_parciales\\21114.parquet: __cinit__() got an unexpected keyword argument 'append'\n"
     ]
    },
    {
     "name": "stderr",
     "output_type": "stream",
     "text": [
      "📦 Procesando archivos:  93%|█████████▎| 725/780 [05:13<00:08,  6.26it/s]"
     ]
    },
    {
     "name": "stdout",
     "output_type": "stream",
     "text": [
      "⚠️ Error al procesar prophet_features_parciales\\21118.parquet: __cinit__() got an unexpected keyword argument 'append'\n",
      "⚠️ Error al procesar prophet_features_parciales\\21119.parquet: __cinit__() got an unexpected keyword argument 'append'\n"
     ]
    },
    {
     "name": "stderr",
     "output_type": "stream",
     "text": [
      "📦 Procesando archivos:  93%|█████████▎| 726/780 [05:13<00:08,  6.28it/s]"
     ]
    },
    {
     "name": "stdout",
     "output_type": "stream",
     "text": [
      "⚠️ Error al procesar prophet_features_parciales\\21126.parquet: __cinit__() got an unexpected keyword argument 'append'\n",
      "⚠️ Error al procesar prophet_features_parciales\\21129.parquet: __cinit__() got an unexpected keyword argument 'append'\n"
     ]
    },
    {
     "name": "stderr",
     "output_type": "stream",
     "text": [
      "📦 Procesando archivos:  94%|█████████▎| 730/780 [05:14<00:06,  7.37it/s]"
     ]
    },
    {
     "name": "stdout",
     "output_type": "stream",
     "text": [
      "⚠️ Error al procesar prophet_features_parciales\\21131.parquet: __cinit__() got an unexpected keyword argument 'append'\n",
      "⚠️ Error al procesar prophet_features_parciales\\21135.parquet: __cinit__() got an unexpected keyword argument 'append'\n",
      "⚠️ Error al procesar prophet_features_parciales\\21140.parquet: __cinit__() got an unexpected keyword argument 'append'\n",
      "⚠️ Error al procesar prophet_features_parciales\\21142.parquet: __cinit__() got an unexpected keyword argument 'append'\n"
     ]
    },
    {
     "name": "stderr",
     "output_type": "stream",
     "text": [
      "📦 Procesando archivos:  94%|█████████▍| 734/780 [05:14<00:04, 10.70it/s]"
     ]
    },
    {
     "name": "stdout",
     "output_type": "stream",
     "text": [
      "⚠️ Error al procesar prophet_features_parciales\\21144.parquet: __cinit__() got an unexpected keyword argument 'append'\n",
      "⚠️ Error al procesar prophet_features_parciales\\21146.parquet: __cinit__() got an unexpected keyword argument 'append'\n",
      "⚠️ Error al procesar prophet_features_parciales\\21153.parquet: __cinit__() got an unexpected keyword argument 'append'\n",
      "⚠️ Error al procesar prophet_features_parciales\\21154.parquet: __cinit__() got an unexpected keyword argument 'append'\n"
     ]
    },
    {
     "name": "stderr",
     "output_type": "stream",
     "text": [
      "📦 Procesando archivos:  95%|█████████▍| 738/780 [05:14<00:04,  9.88it/s]"
     ]
    },
    {
     "name": "stdout",
     "output_type": "stream",
     "text": [
      "⚠️ Error al procesar prophet_features_parciales\\21155.parquet: __cinit__() got an unexpected keyword argument 'append'\n",
      "⚠️ Error al procesar prophet_features_parciales\\21157.parquet: __cinit__() got an unexpected keyword argument 'append'\n",
      "⚠️ Error al procesar prophet_features_parciales\\21159.parquet: __cinit__() got an unexpected keyword argument 'append'\n"
     ]
    },
    {
     "name": "stderr",
     "output_type": "stream",
     "text": [
      "📦 Procesando archivos:  95%|█████████▍| 740/780 [05:15<00:04,  9.98it/s]"
     ]
    },
    {
     "name": "stdout",
     "output_type": "stream",
     "text": [
      "⚠️ Error al procesar prophet_features_parciales\\21163.parquet: __cinit__() got an unexpected keyword argument 'append'\n",
      "⚠️ Error al procesar prophet_features_parciales\\21164.parquet: __cinit__() got an unexpected keyword argument 'append'\n"
     ]
    },
    {
     "name": "stderr",
     "output_type": "stream",
     "text": [
      "📦 Procesando archivos:  95%|█████████▌| 742/780 [05:15<00:04,  9.47it/s]"
     ]
    },
    {
     "name": "stdout",
     "output_type": "stream",
     "text": [
      "⚠️ Error al procesar prophet_features_parciales\\21167.parquet: __cinit__() got an unexpected keyword argument 'append'\n",
      "⚠️ Error al procesar prophet_features_parciales\\21168.parquet: __cinit__() got an unexpected keyword argument 'append'\n",
      "⚠️ Error al procesar prophet_features_parciales\\21170.parquet: __cinit__() got an unexpected keyword argument 'append'\n"
     ]
    },
    {
     "name": "stderr",
     "output_type": "stream",
     "text": [
      "📦 Procesando archivos:  95%|█████████▌| 744/780 [05:15<00:03,  9.95it/s]"
     ]
    },
    {
     "name": "stdout",
     "output_type": "stream",
     "text": [
      "⚠️ Error al procesar prophet_features_parciales\\21171.parquet: __cinit__() got an unexpected keyword argument 'append'\n",
      "⚠️ Error al procesar prophet_features_parciales\\21176.parquet: __cinit__() got an unexpected keyword argument 'append'\n"
     ]
    },
    {
     "name": "stderr",
     "output_type": "stream",
     "text": [
      "📦 Procesando archivos:  96%|█████████▌| 748/780 [05:15<00:03,  9.89it/s]"
     ]
    },
    {
     "name": "stdout",
     "output_type": "stream",
     "text": [
      "⚠️ Error al procesar prophet_features_parciales\\21179.parquet: __cinit__() got an unexpected keyword argument 'append'\n",
      "⚠️ Error al procesar prophet_features_parciales\\21180.parquet: __cinit__() got an unexpected keyword argument 'append'\n",
      "⚠️ Error al procesar prophet_features_parciales\\21182.parquet: __cinit__() got an unexpected keyword argument 'append'\n",
      "⚠️ Error al procesar prophet_features_parciales\\21184.parquet: __cinit__() got an unexpected keyword argument 'append'\n"
     ]
    },
    {
     "name": "stderr",
     "output_type": "stream",
     "text": [
      "📦 Procesando archivos:  96%|█████████▋| 752/780 [05:16<00:03,  7.23it/s]"
     ]
    },
    {
     "name": "stdout",
     "output_type": "stream",
     "text": [
      "⚠️ Error al procesar prophet_features_parciales\\21190.parquet: __cinit__() got an unexpected keyword argument 'append'\n",
      "⚠️ Error al procesar prophet_features_parciales\\21191.parquet: __cinit__() got an unexpected keyword argument 'append'\n",
      "⚠️ Error al procesar prophet_features_parciales\\21192.parquet: __cinit__() got an unexpected keyword argument 'append'\n"
     ]
    },
    {
     "name": "stderr",
     "output_type": "stream",
     "text": [
      "📦 Procesando archivos:  97%|█████████▋| 754/780 [05:17<00:04,  5.63it/s]"
     ]
    },
    {
     "name": "stdout",
     "output_type": "stream",
     "text": [
      "⚠️ Error al procesar prophet_features_parciales\\21194.parquet: __cinit__() got an unexpected keyword argument 'append'\n",
      "⚠️ Error al procesar prophet_features_parciales\\21196.parquet: __cinit__() got an unexpected keyword argument 'append'\n"
     ]
    },
    {
     "name": "stderr",
     "output_type": "stream",
     "text": [
      "📦 Procesando archivos:  97%|█████████▋| 756/780 [05:17<00:04,  4.81it/s]"
     ]
    },
    {
     "name": "stdout",
     "output_type": "stream",
     "text": [
      "⚠️ Error al procesar prophet_features_parciales\\21200.parquet: __cinit__() got an unexpected keyword argument 'append'\n",
      "⚠️ Error al procesar prophet_features_parciales\\21201.parquet: __cinit__() got an unexpected keyword argument 'append'\n"
     ]
    },
    {
     "name": "stderr",
     "output_type": "stream",
     "text": [
      "📦 Procesando archivos:  97%|█████████▋| 757/780 [05:17<00:04,  5.19it/s]"
     ]
    },
    {
     "name": "stdout",
     "output_type": "stream",
     "text": [
      "⚠️ Error al procesar prophet_features_parciales\\21202.parquet: __cinit__() got an unexpected keyword argument 'append'\n"
     ]
    },
    {
     "name": "stderr",
     "output_type": "stream",
     "text": [
      "📦 Procesando archivos:  97%|█████████▋| 759/780 [05:18<00:04,  4.64it/s]"
     ]
    },
    {
     "name": "stdout",
     "output_type": "stream",
     "text": [
      "⚠️ Error al procesar prophet_features_parciales\\21207.parquet: __cinit__() got an unexpected keyword argument 'append'\n",
      "⚠️ Error al procesar prophet_features_parciales\\21209.parquet: __cinit__() got an unexpected keyword argument 'append'\n"
     ]
    },
    {
     "name": "stderr",
     "output_type": "stream",
     "text": [
      "📦 Procesando archivos:  98%|█████████▊| 762/780 [05:18<00:02,  6.35it/s]"
     ]
    },
    {
     "name": "stdout",
     "output_type": "stream",
     "text": [
      "⚠️ Error al procesar prophet_features_parciales\\21212.parquet: __cinit__() got an unexpected keyword argument 'append'\n",
      "⚠️ Error al procesar prophet_features_parciales\\21214.parquet: __cinit__() got an unexpected keyword argument 'append'\n",
      "⚠️ Error al procesar prophet_features_parciales\\21218.parquet: __cinit__() got an unexpected keyword argument 'append'\n"
     ]
    },
    {
     "name": "stderr",
     "output_type": "stream",
     "text": [
      "📦 Procesando archivos:  98%|█████████▊| 764/780 [05:19<00:02,  6.64it/s]"
     ]
    },
    {
     "name": "stdout",
     "output_type": "stream",
     "text": [
      "⚠️ Error al procesar prophet_features_parciales\\21222.parquet: __cinit__() got an unexpected keyword argument 'append'\n",
      "⚠️ Error al procesar prophet_features_parciales\\21224.parquet: __cinit__() got an unexpected keyword argument 'append'\n"
     ]
    },
    {
     "name": "stderr",
     "output_type": "stream",
     "text": [
      "📦 Procesando archivos:  98%|█████████▊| 767/780 [05:19<00:01,  8.47it/s]"
     ]
    },
    {
     "name": "stdout",
     "output_type": "stream",
     "text": [
      "⚠️ Error al procesar prophet_features_parciales\\21226.parquet: __cinit__() got an unexpected keyword argument 'append'\n",
      "⚠️ Error al procesar prophet_features_parciales\\21227.parquet: __cinit__() got an unexpected keyword argument 'append'\n",
      "⚠️ Error al procesar prophet_features_parciales\\21233.parquet: __cinit__() got an unexpected keyword argument 'append'\n",
      "⚠️ Error al procesar prophet_features_parciales\\21244.parquet: __cinit__() got an unexpected keyword argument 'append'\n"
     ]
    },
    {
     "name": "stderr",
     "output_type": "stream",
     "text": [
      "📦 Procesando archivos:  99%|█████████▉| 772/780 [05:19<00:00, 12.25it/s]"
     ]
    },
    {
     "name": "stdout",
     "output_type": "stream",
     "text": [
      "⚠️ Error al procesar prophet_features_parciales\\21245.parquet: __cinit__() got an unexpected keyword argument 'append'\n",
      "⚠️ Error al procesar prophet_features_parciales\\21246.parquet: __cinit__() got an unexpected keyword argument 'append'\n",
      "⚠️ Error al procesar prophet_features_parciales\\21248.parquet: __cinit__() got an unexpected keyword argument 'append'\n",
      "⚠️ Error al procesar prophet_features_parciales\\21252.parquet: __cinit__() got an unexpected keyword argument 'append'\n"
     ]
    },
    {
     "name": "stderr",
     "output_type": "stream",
     "text": [
      "📦 Procesando archivos: 100%|██████████| 780/780 [05:19<00:00,  2.44it/s]"
     ]
    },
    {
     "name": "stdout",
     "output_type": "stream",
     "text": [
      "⚠️ Error al procesar prophet_features_parciales\\21256.parquet: __cinit__() got an unexpected keyword argument 'append'\n",
      "⚠️ Error al procesar prophet_features_parciales\\21259.parquet: __cinit__() got an unexpected keyword argument 'append'\n",
      "⚠️ Error al procesar prophet_features_parciales\\21262.parquet: __cinit__() got an unexpected keyword argument 'append'\n",
      "⚠️ Error al procesar prophet_features_parciales\\21263.parquet: __cinit__() got an unexpected keyword argument 'append'\n",
      "⚠️ Error al procesar prophet_features_parciales\\21265.parquet: __cinit__() got an unexpected keyword argument 'append'\n",
      "⚠️ Error al procesar prophet_features_parciales\\21266.parquet: __cinit__() got an unexpected keyword argument 'append'\n",
      "⚠️ Error al procesar prophet_features_parciales\\21267.parquet: __cinit__() got an unexpected keyword argument 'append'\n",
      "⚠️ Error al procesar prophet_features_parciales\\21276.parquet: __cinit__() got an unexpected keyword argument 'append'\n"
     ]
    },
    {
     "name": "stderr",
     "output_type": "stream",
     "text": [
      "\n"
     ]
    }
   ],
   "source": [
    "import pandas as pd\n",
    "import glob\n",
    "import os\n",
    "from tqdm import tqdm\n",
    "\n",
    "carpeta_parquets = \"prophet_features_parciales\"\n",
    "archivos = sorted(glob.glob(os.path.join(carpeta_parquets, \"*.parquet\")))\n",
    "salida = \"df_features_prophet_final.parquet\"\n",
    "checkpoint_file = \"archivos_procesados.txt\"\n",
    "\n",
    "# Inicializar checkpoint\n",
    "procesados = set()\n",
    "if os.path.exists(checkpoint_file):\n",
    "    with open(checkpoint_file, \"r\") as f:\n",
    "        procesados = set(line.strip() for line in f)\n",
    "\n",
    "# Si existe salida vieja, eliminarla para evitar duplicaciones\n",
    "if not os.path.exists(salida):\n",
    "    primer_escritura = True\n",
    "else:\n",
    "    primer_escritura = False\n",
    "\n",
    "print(f\"🔁 Procesados previamente: {len(procesados)}\")\n",
    "\n",
    "for archivo in tqdm(archivos, desc=\"📦 Procesando archivos\"):\n",
    "    if archivo in procesados:\n",
    "        continue\n",
    "    try:\n",
    "        df = pd.read_parquet(archivo)\n",
    "        df.to_parquet(salida, index=False, append=not primer_escritura)\n",
    "        primer_escritura = False\n",
    "\n",
    "        with open(checkpoint_file, \"a\") as f:\n",
    "            f.write(archivo + \"\\n\")\n",
    "\n",
    "    except Exception as e:\n",
    "        print(f\"⚠️ Error al procesar {archivo}: {e}\")\n"
   ]
  },
  {
   "cell_type": "code",
   "execution_count": 5,
   "id": "ec86f75e",
   "metadata": {},
   "outputs": [
    {
     "name": "stdout",
     "output_type": "stream",
     "text": [
      "[0]\tvalidation_0-rmse:0.02945\n",
      "[1]\tvalidation_0-rmse:0.02681\n",
      "[2]\tvalidation_0-rmse:0.02441\n",
      "[3]\tvalidation_0-rmse:0.02227\n",
      "[4]\tvalidation_0-rmse:0.02028\n",
      "[5]\tvalidation_0-rmse:0.01853\n",
      "[6]\tvalidation_0-rmse:0.01686\n",
      "[7]\tvalidation_0-rmse:0.01539\n",
      "[8]\tvalidation_0-rmse:0.01404\n",
      "[9]\tvalidation_0-rmse:0.01279\n",
      "[10]\tvalidation_0-rmse:0.01167\n",
      "[11]\tvalidation_0-rmse:0.01067\n",
      "[12]\tvalidation_0-rmse:0.00976\n",
      "[13]\tvalidation_0-rmse:0.00898\n",
      "[14]\tvalidation_0-rmse:0.00824\n",
      "[15]\tvalidation_0-rmse:0.00755\n",
      "[16]\tvalidation_0-rmse:0.00692\n",
      "[17]\tvalidation_0-rmse:0.00639\n",
      "[18]\tvalidation_0-rmse:0.00588\n",
      "[19]\tvalidation_0-rmse:0.00541\n",
      "[20]\tvalidation_0-rmse:0.00499\n",
      "[21]\tvalidation_0-rmse:0.00463\n",
      "[22]\tvalidation_0-rmse:0.00429\n",
      "[23]\tvalidation_0-rmse:0.00400\n",
      "[24]\tvalidation_0-rmse:0.00372\n",
      "[25]\tvalidation_0-rmse:0.00343\n",
      "[26]\tvalidation_0-rmse:0.00321\n",
      "[27]\tvalidation_0-rmse:0.00300\n",
      "[28]\tvalidation_0-rmse:0.00278\n",
      "[29]\tvalidation_0-rmse:0.00258\n",
      "[30]\tvalidation_0-rmse:0.00243\n",
      "[31]\tvalidation_0-rmse:0.00226\n",
      "[32]\tvalidation_0-rmse:0.00211\n",
      "[33]\tvalidation_0-rmse:0.00198\n",
      "[34]\tvalidation_0-rmse:0.00185\n",
      "[35]\tvalidation_0-rmse:0.00174\n",
      "[36]\tvalidation_0-rmse:0.00164\n",
      "[37]\tvalidation_0-rmse:0.00157\n",
      "[38]\tvalidation_0-rmse:0.00150\n",
      "[39]\tvalidation_0-rmse:0.00145\n",
      "[40]\tvalidation_0-rmse:0.00140\n",
      "[41]\tvalidation_0-rmse:0.00133\n",
      "[42]\tvalidation_0-rmse:0.00129\n",
      "[43]\tvalidation_0-rmse:0.00124\n",
      "[44]\tvalidation_0-rmse:0.00121\n",
      "[45]\tvalidation_0-rmse:0.00116\n",
      "[46]\tvalidation_0-rmse:0.00113\n",
      "[47]\tvalidation_0-rmse:0.00111\n",
      "[48]\tvalidation_0-rmse:0.00109\n",
      "[49]\tvalidation_0-rmse:0.00108\n",
      "[50]\tvalidation_0-rmse:0.00105\n",
      "[51]\tvalidation_0-rmse:0.00104\n",
      "[52]\tvalidation_0-rmse:0.00103\n",
      "[53]\tvalidation_0-rmse:0.00102\n",
      "[54]\tvalidation_0-rmse:0.00098\n",
      "[55]\tvalidation_0-rmse:0.00098\n",
      "[56]\tvalidation_0-rmse:0.00097\n",
      "[57]\tvalidation_0-rmse:0.00096\n",
      "[58]\tvalidation_0-rmse:0.00096\n",
      "[59]\tvalidation_0-rmse:0.00096\n",
      "[60]\tvalidation_0-rmse:0.00095\n",
      "[61]\tvalidation_0-rmse:0.00095\n",
      "[62]\tvalidation_0-rmse:0.00094\n",
      "[63]\tvalidation_0-rmse:0.00094\n",
      "[64]\tvalidation_0-rmse:0.00094\n",
      "[65]\tvalidation_0-rmse:0.00093\n",
      "[66]\tvalidation_0-rmse:0.00093\n",
      "[67]\tvalidation_0-rmse:0.00093\n",
      "[68]\tvalidation_0-rmse:0.00093\n",
      "[69]\tvalidation_0-rmse:0.00093\n",
      "[70]\tvalidation_0-rmse:0.00092\n",
      "[71]\tvalidation_0-rmse:0.00092\n",
      "[72]\tvalidation_0-rmse:0.00092\n",
      "[73]\tvalidation_0-rmse:0.00092\n",
      "[74]\tvalidation_0-rmse:0.00092\n",
      "[75]\tvalidation_0-rmse:0.00092\n",
      "[76]\tvalidation_0-rmse:0.00092\n",
      "[77]\tvalidation_0-rmse:0.00092\n",
      "[78]\tvalidation_0-rmse:0.00092\n",
      "[79]\tvalidation_0-rmse:0.00092\n",
      "[80]\tvalidation_0-rmse:0.00092\n",
      "[81]\tvalidation_0-rmse:0.00092\n",
      "[82]\tvalidation_0-rmse:0.00092\n",
      "[83]\tvalidation_0-rmse:0.00092\n",
      "[84]\tvalidation_0-rmse:0.00092\n",
      "[85]\tvalidation_0-rmse:0.00092\n",
      "[86]\tvalidation_0-rmse:0.00092\n",
      "[87]\tvalidation_0-rmse:0.00092\n",
      "[88]\tvalidation_0-rmse:0.00092\n",
      "[89]\tvalidation_0-rmse:0.00092\n",
      "[90]\tvalidation_0-rmse:0.00092\n",
      "[91]\tvalidation_0-rmse:0.00092\n",
      "[92]\tvalidation_0-rmse:0.00092\n",
      "[93]\tvalidation_0-rmse:0.00092\n",
      "[94]\tvalidation_0-rmse:0.00090\n",
      "[95]\tvalidation_0-rmse:0.00090\n",
      "[96]\tvalidation_0-rmse:0.00090\n",
      "[97]\tvalidation_0-rmse:0.00090\n",
      "[98]\tvalidation_0-rmse:0.00090\n",
      "[99]\tvalidation_0-rmse:0.00090\n",
      "[100]\tvalidation_0-rmse:0.00090\n",
      "[101]\tvalidation_0-rmse:0.00090\n",
      "[102]\tvalidation_0-rmse:0.00090\n",
      "[103]\tvalidation_0-rmse:0.00090\n",
      "[104]\tvalidation_0-rmse:0.00090\n",
      "[105]\tvalidation_0-rmse:0.00090\n",
      "[106]\tvalidation_0-rmse:0.00090\n",
      "[107]\tvalidation_0-rmse:0.00090\n",
      "[108]\tvalidation_0-rmse:0.00090\n",
      "[109]\tvalidation_0-rmse:0.00090\n",
      "[110]\tvalidation_0-rmse:0.00090\n",
      "[111]\tvalidation_0-rmse:0.00090\n",
      "[112]\tvalidation_0-rmse:0.00090\n",
      "[113]\tvalidation_0-rmse:0.00090\n",
      "[114]\tvalidation_0-rmse:0.00090\n",
      "[115]\tvalidation_0-rmse:0.00090\n",
      "[116]\tvalidation_0-rmse:0.00090\n",
      "[117]\tvalidation_0-rmse:0.00090\n",
      "[118]\tvalidation_0-rmse:0.00090\n",
      "[119]\tvalidation_0-rmse:0.00090\n",
      "[120]\tvalidation_0-rmse:0.00090\n",
      "[121]\tvalidation_0-rmse:0.00090\n",
      "[122]\tvalidation_0-rmse:0.00090\n",
      "[123]\tvalidation_0-rmse:0.00090\n",
      "[124]\tvalidation_0-rmse:0.00090\n",
      "[125]\tvalidation_0-rmse:0.00090\n",
      "[126]\tvalidation_0-rmse:0.00090\n",
      "[127]\tvalidation_0-rmse:0.00090\n",
      "[128]\tvalidation_0-rmse:0.00090\n",
      "[129]\tvalidation_0-rmse:0.00090\n",
      "[130]\tvalidation_0-rmse:0.00090\n",
      "[131]\tvalidation_0-rmse:0.00090\n",
      "[132]\tvalidation_0-rmse:0.00090\n",
      "[133]\tvalidation_0-rmse:0.00090\n",
      "[134]\tvalidation_0-rmse:0.00090\n",
      "[135]\tvalidation_0-rmse:0.00090\n",
      "[136]\tvalidation_0-rmse:0.00090\n",
      "[137]\tvalidation_0-rmse:0.00090\n",
      "[138]\tvalidation_0-rmse:0.00090\n",
      "[139]\tvalidation_0-rmse:0.00090\n",
      "[140]\tvalidation_0-rmse:0.00090\n",
      "[141]\tvalidation_0-rmse:0.00090\n",
      "[142]\tvalidation_0-rmse:0.00090\n",
      "[143]\tvalidation_0-rmse:0.00090\n",
      "[144]\tvalidation_0-rmse:0.00090\n",
      "[145]\tvalidation_0-rmse:0.00090\n",
      "[146]\tvalidation_0-rmse:0.00090\n",
      "[147]\tvalidation_0-rmse:0.00090\n",
      "[148]\tvalidation_0-rmse:0.00090\n",
      "[149]\tvalidation_0-rmse:0.00090\n",
      "[150]\tvalidation_0-rmse:0.00090\n",
      "[151]\tvalidation_0-rmse:0.00090\n",
      "[152]\tvalidation_0-rmse:0.00090\n",
      "[153]\tvalidation_0-rmse:0.00090\n",
      "[154]\tvalidation_0-rmse:0.00090\n",
      "[155]\tvalidation_0-rmse:0.00090\n",
      "[156]\tvalidation_0-rmse:0.00090\n",
      "[157]\tvalidation_0-rmse:0.00090\n",
      "[158]\tvalidation_0-rmse:0.00090\n",
      "[159]\tvalidation_0-rmse:0.00090\n",
      "[160]\tvalidation_0-rmse:0.00090\n",
      "[161]\tvalidation_0-rmse:0.00090\n",
      "[162]\tvalidation_0-rmse:0.00090\n",
      "[163]\tvalidation_0-rmse:0.00090\n",
      "[164]\tvalidation_0-rmse:0.00090\n",
      "[165]\tvalidation_0-rmse:0.00090\n",
      "[166]\tvalidation_0-rmse:0.00090\n",
      "[167]\tvalidation_0-rmse:0.00090\n",
      "[168]\tvalidation_0-rmse:0.00090\n",
      "[169]\tvalidation_0-rmse:0.00090\n",
      "[170]\tvalidation_0-rmse:0.00090\n",
      "[171]\tvalidation_0-rmse:0.00090\n",
      "[172]\tvalidation_0-rmse:0.00090\n",
      "[173]\tvalidation_0-rmse:0.00090\n",
      "[174]\tvalidation_0-rmse:0.00090\n",
      "[175]\tvalidation_0-rmse:0.00090\n",
      "[176]\tvalidation_0-rmse:0.00090\n",
      "[177]\tvalidation_0-rmse:0.00090\n",
      "[178]\tvalidation_0-rmse:0.00090\n",
      "[179]\tvalidation_0-rmse:0.00090\n",
      "[180]\tvalidation_0-rmse:0.00090\n",
      "[181]\tvalidation_0-rmse:0.00090\n",
      "[182]\tvalidation_0-rmse:0.00090\n",
      "[183]\tvalidation_0-rmse:0.00090\n",
      "[184]\tvalidation_0-rmse:0.00090\n",
      "[185]\tvalidation_0-rmse:0.00090\n",
      "[186]\tvalidation_0-rmse:0.00090\n",
      "[187]\tvalidation_0-rmse:0.00090\n",
      "[188]\tvalidation_0-rmse:0.00090\n",
      "[189]\tvalidation_0-rmse:0.00090\n",
      "[190]\tvalidation_0-rmse:0.00090\n",
      "[191]\tvalidation_0-rmse:0.00090\n",
      "[192]\tvalidation_0-rmse:0.00090\n",
      "[193]\tvalidation_0-rmse:0.00090\n",
      "[194]\tvalidation_0-rmse:0.00090\n",
      "[195]\tvalidation_0-rmse:0.00090\n",
      "[196]\tvalidation_0-rmse:0.00090\n",
      "[197]\tvalidation_0-rmse:0.00090\n",
      "[198]\tvalidation_0-rmse:0.00090\n",
      "[199]\tvalidation_0-rmse:0.00090\n",
      "[200]\tvalidation_0-rmse:0.00090\n",
      "[201]\tvalidation_0-rmse:0.00090\n",
      "[202]\tvalidation_0-rmse:0.00090\n",
      "[203]\tvalidation_0-rmse:0.00090\n",
      "[204]\tvalidation_0-rmse:0.00090\n",
      "[205]\tvalidation_0-rmse:0.00090\n",
      "[206]\tvalidation_0-rmse:0.00090\n",
      "[207]\tvalidation_0-rmse:0.00090\n",
      "[208]\tvalidation_0-rmse:0.00090\n",
      "[209]\tvalidation_0-rmse:0.00090\n",
      "[210]\tvalidation_0-rmse:0.00090\n",
      "[211]\tvalidation_0-rmse:0.00090\n",
      "[212]\tvalidation_0-rmse:0.00090\n",
      "[213]\tvalidation_0-rmse:0.00090\n",
      "[214]\tvalidation_0-rmse:0.00090\n",
      "[215]\tvalidation_0-rmse:0.00090\n",
      "[216]\tvalidation_0-rmse:0.00090\n",
      "[217]\tvalidation_0-rmse:0.00090\n",
      "[218]\tvalidation_0-rmse:0.00090\n",
      "[219]\tvalidation_0-rmse:0.00090\n",
      "[220]\tvalidation_0-rmse:0.00090\n",
      "[221]\tvalidation_0-rmse:0.00090\n",
      "[222]\tvalidation_0-rmse:0.00090\n",
      "[223]\tvalidation_0-rmse:0.00090\n",
      "[224]\tvalidation_0-rmse:0.00090\n",
      "[225]\tvalidation_0-rmse:0.00090\n",
      "[226]\tvalidation_0-rmse:0.00090\n",
      "[227]\tvalidation_0-rmse:0.00090\n",
      "[228]\tvalidation_0-rmse:0.00090\n",
      "[229]\tvalidation_0-rmse:0.00090\n",
      "[230]\tvalidation_0-rmse:0.00090\n",
      "[231]\tvalidation_0-rmse:0.00090\n",
      "[232]\tvalidation_0-rmse:0.00090\n",
      "[233]\tvalidation_0-rmse:0.00090\n",
      "[234]\tvalidation_0-rmse:0.00090\n",
      "[235]\tvalidation_0-rmse:0.00090\n",
      "[236]\tvalidation_0-rmse:0.00090\n",
      "[237]\tvalidation_0-rmse:0.00090\n",
      "[238]\tvalidation_0-rmse:0.00090\n",
      "[239]\tvalidation_0-rmse:0.00090\n",
      "[240]\tvalidation_0-rmse:0.00090\n",
      "[241]\tvalidation_0-rmse:0.00090\n",
      "[242]\tvalidation_0-rmse:0.00090\n",
      "[243]\tvalidation_0-rmse:0.00090\n",
      "[244]\tvalidation_0-rmse:0.00090\n",
      "[245]\tvalidation_0-rmse:0.00090\n",
      "[246]\tvalidation_0-rmse:0.00090\n",
      "[247]\tvalidation_0-rmse:0.00090\n",
      "[248]\tvalidation_0-rmse:0.00090\n",
      "[249]\tvalidation_0-rmse:0.00090\n",
      "[250]\tvalidation_0-rmse:0.00090\n",
      "[251]\tvalidation_0-rmse:0.00090\n",
      "[252]\tvalidation_0-rmse:0.00090\n",
      "[253]\tvalidation_0-rmse:0.00090\n",
      "[254]\tvalidation_0-rmse:0.00090\n",
      "[255]\tvalidation_0-rmse:0.00090\n",
      "[256]\tvalidation_0-rmse:0.00090\n",
      "[257]\tvalidation_0-rmse:0.00090\n",
      "[258]\tvalidation_0-rmse:0.00090\n",
      "[259]\tvalidation_0-rmse:0.00090\n",
      "[260]\tvalidation_0-rmse:0.00090\n",
      "[261]\tvalidation_0-rmse:0.00090\n",
      "[262]\tvalidation_0-rmse:0.00090\n",
      "[263]\tvalidation_0-rmse:0.00090\n",
      "[264]\tvalidation_0-rmse:0.00090\n",
      "[265]\tvalidation_0-rmse:0.00090\n",
      "[266]\tvalidation_0-rmse:0.00090\n",
      "[267]\tvalidation_0-rmse:0.00090\n",
      "[268]\tvalidation_0-rmse:0.00090\n",
      "[269]\tvalidation_0-rmse:0.00090\n",
      "[270]\tvalidation_0-rmse:0.00090\n",
      "[271]\tvalidation_0-rmse:0.00090\n",
      "[272]\tvalidation_0-rmse:0.00090\n",
      "[273]\tvalidation_0-rmse:0.00090\n",
      "[274]\tvalidation_0-rmse:0.00090\n",
      "[275]\tvalidation_0-rmse:0.00090\n",
      "[276]\tvalidation_0-rmse:0.00090\n",
      "[277]\tvalidation_0-rmse:0.00090\n",
      "[278]\tvalidation_0-rmse:0.00090\n",
      "[279]\tvalidation_0-rmse:0.00090\n",
      "[280]\tvalidation_0-rmse:0.00090\n",
      "[281]\tvalidation_0-rmse:0.00090\n",
      "[282]\tvalidation_0-rmse:0.00090\n",
      "[283]\tvalidation_0-rmse:0.00090\n",
      "[284]\tvalidation_0-rmse:0.00090\n",
      "[285]\tvalidation_0-rmse:0.00090\n",
      "[286]\tvalidation_0-rmse:0.00090\n",
      "[287]\tvalidation_0-rmse:0.00090\n",
      "[288]\tvalidation_0-rmse:0.00090\n",
      "[289]\tvalidation_0-rmse:0.00090\n",
      "[290]\tvalidation_0-rmse:0.00090\n",
      "[291]\tvalidation_0-rmse:0.00090\n",
      "[292]\tvalidation_0-rmse:0.00090\n",
      "[293]\tvalidation_0-rmse:0.00090\n",
      "[294]\tvalidation_0-rmse:0.00090\n",
      "[295]\tvalidation_0-rmse:0.00090\n",
      "[296]\tvalidation_0-rmse:0.00090\n",
      "[297]\tvalidation_0-rmse:0.00090\n",
      "[298]\tvalidation_0-rmse:0.00090\n",
      "[299]\tvalidation_0-rmse:0.00090\n",
      "📊 MAE validación diciembre 2019: 0.001\n"
     ]
    }
   ],
   "source": [
    "# ⚙️ Entrenamiento con XGBoost + sample_weight\n",
    "import xgboost as xgb\n",
    "from sklearn.model_selection import train_test_split\n",
    "from sklearn.metrics import mean_absolute_error\n",
    "\n",
    "# 1. Eliminar filas con NaNs en features (por rolling, lags, etc.)\n",
    "df_modelo = df.dropna()\n",
    "\n",
    "# 2. Definir columnas a excluir\n",
    "cols_excluir = ['periodo', 'tn', 'product_id', 'customer_id']\n",
    "X = df_modelo.drop(columns=cols_excluir)\n",
    "y = df_modelo['tn']\n",
    "\n",
    "# 3. Crear sample_weight en base al promedio del producto (opcional pero común)\n",
    "promedios = df_modelo.groupby('product_id')['tn'].transform('mean')\n",
    "sample_weight = df_modelo['tn'] / promedios\n",
    "sample_weight = sample_weight.fillna(1.0)\n",
    "\n",
    "# 4. División temporal\n",
    "X_train = X[df_modelo['periodo'] < '2019-12-01']\n",
    "X_val   = X[df_modelo['periodo'] == '2019-12-01']\n",
    "y_train = y[df_modelo['periodo'] < '2019-12-01']\n",
    "y_val   = y[df_modelo['periodo'] == '2019-12-01']\n",
    "w_train = sample_weight[df_modelo['periodo'] < '2019-12-01']\n",
    "w_val   = sample_weight[df_modelo['periodo'] == '2019-12-01']\n",
    "\n",
    "# 5. Entrenar modelo\n",
    "modelo = xgb.XGBRegressor(\n",
    "    objective='reg:squarederror',\n",
    "    n_estimators=300,\n",
    "    learning_rate=0.1,\n",
    "    max_depth=6,\n",
    "    subsample=0.8,\n",
    "    colsample_bytree=0.8,\n",
    "    random_state=42,\n",
    "    tree_method='hist'\n",
    ")\n",
    "\n",
    "modelo.fit(X_train, y_train, sample_weight=w_train, eval_set=[(X_val, y_val)],verbose=True)\n",
    "           #early_stopping_rounds=30, \n",
    "\n",
    "# 6. Evaluación\n",
    "y_pred = modelo.predict(X_val)\n",
    "mae = mean_absolute_error(y_val, y_pred)\n",
    "print(f\"📊 MAE validación diciembre 2019: {mae:.3f}\")\n"
   ]
  },
  {
   "cell_type": "code",
   "execution_count": 6,
   "id": "e41330f4",
   "metadata": {},
   "outputs": [
    {
     "ename": "NameError",
     "evalue": "name 'study' is not defined",
     "output_type": "error",
     "traceback": [
      "\u001b[1;31m---------------------------------------------------------------------------\u001b[0m",
      "\u001b[1;31mNameError\u001b[0m                                 Traceback (most recent call last)",
      "Cell \u001b[1;32mIn[6], line 6\u001b[0m\n\u001b[0;32m      3\u001b[0m \u001b[38;5;28;01mfrom\u001b[39;00m\u001b[38;5;250m \u001b[39m\u001b[38;5;21;01msklearn\u001b[39;00m\u001b[38;5;21;01m.\u001b[39;00m\u001b[38;5;21;01mmetrics\u001b[39;00m\u001b[38;5;250m \u001b[39m\u001b[38;5;28;01mimport\u001b[39;00m mean_absolute_error\n\u001b[0;32m      5\u001b[0m \u001b[38;5;66;03m# 1. Extraer los mejores parámetros de Optuna y completarlos si hace falta\u001b[39;00m\n\u001b[1;32m----> 6\u001b[0m params_optimos \u001b[38;5;241m=\u001b[39m \u001b[43mstudy\u001b[49m\u001b[38;5;241m.\u001b[39mbest_params\n\u001b[0;32m      7\u001b[0m params_optimos\u001b[38;5;241m.\u001b[39mupdate({\n\u001b[0;32m      8\u001b[0m     \u001b[38;5;124m'\u001b[39m\u001b[38;5;124mobjective\u001b[39m\u001b[38;5;124m'\u001b[39m: \u001b[38;5;124m'\u001b[39m\u001b[38;5;124mreg:squarederror\u001b[39m\u001b[38;5;124m'\u001b[39m,\n\u001b[0;32m      9\u001b[0m     \u001b[38;5;124m'\u001b[39m\u001b[38;5;124mtree_method\u001b[39m\u001b[38;5;124m'\u001b[39m: \u001b[38;5;124m'\u001b[39m\u001b[38;5;124mhist\u001b[39m\u001b[38;5;124m'\u001b[39m,\n\u001b[0;32m     10\u001b[0m     \u001b[38;5;124m'\u001b[39m\u001b[38;5;124mrandom_state\u001b[39m\u001b[38;5;124m'\u001b[39m: \u001b[38;5;241m42\u001b[39m\n\u001b[0;32m     11\u001b[0m })\n\u001b[0;32m     13\u001b[0m \u001b[38;5;66;03m# 2. Entrenar modelo final\u001b[39;00m\n",
      "\u001b[1;31mNameError\u001b[0m: name 'study' is not defined"
     ]
    }
   ],
   "source": [
    "# ⚙️ Entrenamiento final con los mejores hiperparámetros de Optuna\n",
    "import xgboost as xgb\n",
    "from sklearn.metrics import mean_absolute_error\n",
    "\n",
    "# 1. Extraer los mejores parámetros de Optuna y completarlos si hace falta\n",
    "params_optimos = study.best_params\n",
    "params_optimos.update({\n",
    "    'objective': 'reg:squarederror',\n",
    "    'tree_method': 'hist',\n",
    "    'random_state': 42\n",
    "})\n",
    "\n",
    "# 2. Entrenar modelo final\n",
    "modelo_final = xgb.XGBRegressor(**params_optimos)\n",
    "\n",
    "modelo_final.fit(\n",
    "    X_train, y_train,\n",
    "    sample_weight=w_train,\n",
    "    eval_set=[(X_val, y_val)],\n",
    "    early_stopping_rounds=30,\n",
    "    verbose=True\n",
    ")\n",
    "\n",
    "# 3. Evaluar\n",
    "y_pred_final = modelo_final.predict(X_val)\n",
    "mae_final = mean_absolute_error(y_val, y_pred_final)\n",
    "print(f\"📊 MAE validación diciembre 2019 (modelo final): {mae_final:.3f}\")\n"
   ]
  },
  {
   "cell_type": "code",
   "execution_count": 7,
   "id": "a186a8fa",
   "metadata": {},
   "outputs": [
    {
     "ename": "ValueError",
     "evalue": "Length of values (184) does not match length of index (92)",
     "output_type": "error",
     "traceback": [
      "\u001b[1;31m---------------------------------------------------------------------------\u001b[0m",
      "\u001b[1;31mValueError\u001b[0m                                Traceback (most recent call last)",
      "Cell \u001b[1;32mIn[7], line 12\u001b[0m\n\u001b[0;32m     10\u001b[0m enero[\u001b[38;5;124m'\u001b[39m\u001b[38;5;124mperiodo\u001b[39m\u001b[38;5;124m'\u001b[39m] \u001b[38;5;241m=\u001b[39m pd\u001b[38;5;241m.\u001b[39mto_datetime(\u001b[38;5;124m'\u001b[39m\u001b[38;5;124m2020-01-01\u001b[39m\u001b[38;5;124m'\u001b[39m)\n\u001b[0;32m     11\u001b[0m enero[\u001b[38;5;124m'\u001b[39m\u001b[38;5;124mlag_1\u001b[39m\u001b[38;5;124m'\u001b[39m] \u001b[38;5;241m=\u001b[39m df_2019_12[\u001b[38;5;124m'\u001b[39m\u001b[38;5;124mtn\u001b[39m\u001b[38;5;124m'\u001b[39m]\n\u001b[1;32m---> 12\u001b[0m \u001b[43menero\u001b[49m\u001b[43m[\u001b[49m\u001b[38;5;124;43m'\u001b[39;49m\u001b[38;5;124;43mlag_2\u001b[39;49m\u001b[38;5;124;43m'\u001b[39;49m\u001b[43m]\u001b[49m \u001b[38;5;241m=\u001b[39m df_2019_11[\u001b[38;5;124m'\u001b[39m\u001b[38;5;124mtn\u001b[39m\u001b[38;5;124m'\u001b[39m]\u001b[38;5;241m.\u001b[39mvalues\n\u001b[0;32m     13\u001b[0m enero[\u001b[38;5;124m'\u001b[39m\u001b[38;5;124mlag_3\u001b[39m\u001b[38;5;124m'\u001b[39m] \u001b[38;5;241m=\u001b[39m df_2019_10[\u001b[38;5;124m'\u001b[39m\u001b[38;5;124mtn\u001b[39m\u001b[38;5;124m'\u001b[39m]\u001b[38;5;241m.\u001b[39mvalues\n\u001b[0;32m     14\u001b[0m enero[\u001b[38;5;124m'\u001b[39m\u001b[38;5;124mmes\u001b[39m\u001b[38;5;124m'\u001b[39m] \u001b[38;5;241m=\u001b[39m \u001b[38;5;241m1\u001b[39m\n",
      "File \u001b[1;32mc:\\Users\\waldo\\miniconda3\\envs\\tslearn_env\\lib\\site-packages\\pandas\\core\\frame.py:4316\u001b[0m, in \u001b[0;36mDataFrame.__setitem__\u001b[1;34m(self, key, value)\u001b[0m\n\u001b[0;32m   4313\u001b[0m     \u001b[38;5;28mself\u001b[39m\u001b[38;5;241m.\u001b[39m_setitem_array([key], value)\n\u001b[0;32m   4314\u001b[0m \u001b[38;5;28;01melse\u001b[39;00m:\n\u001b[0;32m   4315\u001b[0m     \u001b[38;5;66;03m# set column\u001b[39;00m\n\u001b[1;32m-> 4316\u001b[0m     \u001b[38;5;28;43mself\u001b[39;49m\u001b[38;5;241;43m.\u001b[39;49m\u001b[43m_set_item\u001b[49m\u001b[43m(\u001b[49m\u001b[43mkey\u001b[49m\u001b[43m,\u001b[49m\u001b[43m \u001b[49m\u001b[43mvalue\u001b[49m\u001b[43m)\u001b[49m\n",
      "File \u001b[1;32mc:\\Users\\waldo\\miniconda3\\envs\\tslearn_env\\lib\\site-packages\\pandas\\core\\frame.py:4529\u001b[0m, in \u001b[0;36mDataFrame._set_item\u001b[1;34m(self, key, value)\u001b[0m\n\u001b[0;32m   4519\u001b[0m \u001b[38;5;28;01mdef\u001b[39;00m\u001b[38;5;250m \u001b[39m\u001b[38;5;21m_set_item\u001b[39m(\u001b[38;5;28mself\u001b[39m, key, value) \u001b[38;5;241m-\u001b[39m\u001b[38;5;241m>\u001b[39m \u001b[38;5;28;01mNone\u001b[39;00m:\n\u001b[0;32m   4520\u001b[0m \u001b[38;5;250m    \u001b[39m\u001b[38;5;124;03m\"\"\"\u001b[39;00m\n\u001b[0;32m   4521\u001b[0m \u001b[38;5;124;03m    Add series to DataFrame in specified column.\u001b[39;00m\n\u001b[0;32m   4522\u001b[0m \n\u001b[1;32m   (...)\u001b[0m\n\u001b[0;32m   4527\u001b[0m \u001b[38;5;124;03m    ensure homogeneity.\u001b[39;00m\n\u001b[0;32m   4528\u001b[0m \u001b[38;5;124;03m    \"\"\"\u001b[39;00m\n\u001b[1;32m-> 4529\u001b[0m     value, refs \u001b[38;5;241m=\u001b[39m \u001b[38;5;28;43mself\u001b[39;49m\u001b[38;5;241;43m.\u001b[39;49m\u001b[43m_sanitize_column\u001b[49m\u001b[43m(\u001b[49m\u001b[43mvalue\u001b[49m\u001b[43m)\u001b[49m\n\u001b[0;32m   4531\u001b[0m     \u001b[38;5;28;01mif\u001b[39;00m (\n\u001b[0;32m   4532\u001b[0m         key \u001b[38;5;129;01min\u001b[39;00m \u001b[38;5;28mself\u001b[39m\u001b[38;5;241m.\u001b[39mcolumns\n\u001b[0;32m   4533\u001b[0m         \u001b[38;5;129;01mand\u001b[39;00m value\u001b[38;5;241m.\u001b[39mndim \u001b[38;5;241m==\u001b[39m \u001b[38;5;241m1\u001b[39m\n\u001b[0;32m   4534\u001b[0m         \u001b[38;5;129;01mand\u001b[39;00m \u001b[38;5;129;01mnot\u001b[39;00m \u001b[38;5;28misinstance\u001b[39m(value\u001b[38;5;241m.\u001b[39mdtype, ExtensionDtype)\n\u001b[0;32m   4535\u001b[0m     ):\n\u001b[0;32m   4536\u001b[0m         \u001b[38;5;66;03m# broadcast across multiple columns if necessary\u001b[39;00m\n\u001b[0;32m   4537\u001b[0m         \u001b[38;5;28;01mif\u001b[39;00m \u001b[38;5;129;01mnot\u001b[39;00m \u001b[38;5;28mself\u001b[39m\u001b[38;5;241m.\u001b[39mcolumns\u001b[38;5;241m.\u001b[39mis_unique \u001b[38;5;129;01mor\u001b[39;00m \u001b[38;5;28misinstance\u001b[39m(\u001b[38;5;28mself\u001b[39m\u001b[38;5;241m.\u001b[39mcolumns, MultiIndex):\n",
      "File \u001b[1;32mc:\\Users\\waldo\\miniconda3\\envs\\tslearn_env\\lib\\site-packages\\pandas\\core\\frame.py:5273\u001b[0m, in \u001b[0;36mDataFrame._sanitize_column\u001b[1;34m(self, value)\u001b[0m\n\u001b[0;32m   5270\u001b[0m     \u001b[38;5;28;01mreturn\u001b[39;00m _reindex_for_setitem(value, \u001b[38;5;28mself\u001b[39m\u001b[38;5;241m.\u001b[39mindex)\n\u001b[0;32m   5272\u001b[0m \u001b[38;5;28;01mif\u001b[39;00m is_list_like(value):\n\u001b[1;32m-> 5273\u001b[0m     \u001b[43mcom\u001b[49m\u001b[38;5;241;43m.\u001b[39;49m\u001b[43mrequire_length_match\u001b[49m\u001b[43m(\u001b[49m\u001b[43mvalue\u001b[49m\u001b[43m,\u001b[49m\u001b[43m \u001b[49m\u001b[38;5;28;43mself\u001b[39;49m\u001b[38;5;241;43m.\u001b[39;49m\u001b[43mindex\u001b[49m\u001b[43m)\u001b[49m\n\u001b[0;32m   5274\u001b[0m arr \u001b[38;5;241m=\u001b[39m sanitize_array(value, \u001b[38;5;28mself\u001b[39m\u001b[38;5;241m.\u001b[39mindex, copy\u001b[38;5;241m=\u001b[39m\u001b[38;5;28;01mTrue\u001b[39;00m, allow_2d\u001b[38;5;241m=\u001b[39m\u001b[38;5;28;01mTrue\u001b[39;00m)\n\u001b[0;32m   5275\u001b[0m \u001b[38;5;28;01mif\u001b[39;00m (\n\u001b[0;32m   5276\u001b[0m     \u001b[38;5;28misinstance\u001b[39m(value, Index)\n\u001b[0;32m   5277\u001b[0m     \u001b[38;5;129;01mand\u001b[39;00m value\u001b[38;5;241m.\u001b[39mdtype \u001b[38;5;241m==\u001b[39m \u001b[38;5;124m\"\u001b[39m\u001b[38;5;124mobject\u001b[39m\u001b[38;5;124m\"\u001b[39m\n\u001b[1;32m   (...)\u001b[0m\n\u001b[0;32m   5280\u001b[0m     \u001b[38;5;66;03m# TODO: Remove kludge in sanitize_array for string mode when enforcing\u001b[39;00m\n\u001b[0;32m   5281\u001b[0m     \u001b[38;5;66;03m# this deprecation\u001b[39;00m\n",
      "File \u001b[1;32mc:\\Users\\waldo\\miniconda3\\envs\\tslearn_env\\lib\\site-packages\\pandas\\core\\common.py:573\u001b[0m, in \u001b[0;36mrequire_length_match\u001b[1;34m(data, index)\u001b[0m\n\u001b[0;32m    569\u001b[0m \u001b[38;5;250m\u001b[39m\u001b[38;5;124;03m\"\"\"\u001b[39;00m\n\u001b[0;32m    570\u001b[0m \u001b[38;5;124;03mCheck the length of data matches the length of the index.\u001b[39;00m\n\u001b[0;32m    571\u001b[0m \u001b[38;5;124;03m\"\"\"\u001b[39;00m\n\u001b[0;32m    572\u001b[0m \u001b[38;5;28;01mif\u001b[39;00m \u001b[38;5;28mlen\u001b[39m(data) \u001b[38;5;241m!=\u001b[39m \u001b[38;5;28mlen\u001b[39m(index):\n\u001b[1;32m--> 573\u001b[0m     \u001b[38;5;28;01mraise\u001b[39;00m \u001b[38;5;167;01mValueError\u001b[39;00m(\n\u001b[0;32m    574\u001b[0m         \u001b[38;5;124m\"\u001b[39m\u001b[38;5;124mLength of values \u001b[39m\u001b[38;5;124m\"\u001b[39m\n\u001b[0;32m    575\u001b[0m         \u001b[38;5;124mf\u001b[39m\u001b[38;5;124m\"\u001b[39m\u001b[38;5;124m(\u001b[39m\u001b[38;5;132;01m{\u001b[39;00m\u001b[38;5;28mlen\u001b[39m(data)\u001b[38;5;132;01m}\u001b[39;00m\u001b[38;5;124m) \u001b[39m\u001b[38;5;124m\"\u001b[39m\n\u001b[0;32m    576\u001b[0m         \u001b[38;5;124m\"\u001b[39m\u001b[38;5;124mdoes not match length of index \u001b[39m\u001b[38;5;124m\"\u001b[39m\n\u001b[0;32m    577\u001b[0m         \u001b[38;5;124mf\u001b[39m\u001b[38;5;124m\"\u001b[39m\u001b[38;5;124m(\u001b[39m\u001b[38;5;132;01m{\u001b[39;00m\u001b[38;5;28mlen\u001b[39m(index)\u001b[38;5;132;01m}\u001b[39;00m\u001b[38;5;124m)\u001b[39m\u001b[38;5;124m\"\u001b[39m\n\u001b[0;32m    578\u001b[0m     )\n",
      "\u001b[1;31mValueError\u001b[0m: Length of values (184) does not match length of index (92)"
     ]
    }
   ],
   "source": [
    "# 🔮 Predicción para enero y febrero 2020\n",
    "\n",
    "# 1. Obtener los datos de diciembre 2019 para generar lags\n",
    "df_2019_12 = df[df['periodo'] == '2019-12-01'].copy()\n",
    "df_2019_11 = df[df['periodo'] == '2019-11-01'].copy()\n",
    "df_2019_10 = df[df['periodo'] == '2019-10-01'].copy()\n",
    "\n",
    "# 2. Predicción enero 2020\n",
    "enero = df_2019_12.copy()\n",
    "enero['periodo'] = pd.to_datetime('2020-01-01')\n",
    "enero['lag_1'] = df_2019_12['tn']\n",
    "enero['lag_2'] = df_2019_11['tn'].values\n",
    "enero['lag_3'] = df_2019_10['tn'].values\n",
    "enero['mes'] = 1\n",
    "enero['mes_absoluto'] = df_2019_12['mes_absoluto'].max() + 1\n",
    "enero['cos_mes'] = np.cos(2 * np.pi * 1 / 12)\n",
    "\n",
    "X_enero = enero[X_val.columns]\n",
    "enero['tn_pred'] = modelo_final.predict(X_enero)\n",
    "\n",
    "# 3. Predicción febrero 2020\n",
    "febrero = enero.copy()\n",
    "febrero['periodo'] = pd.to_datetime('2020-02-01')\n",
    "febrero['lag_1'] = enero['tn_pred']\n",
    "febrero['lag_2'] = df_2019_12['tn'].values\n",
    "febrero['lag_3'] = df_2019_11['tn'].values\n",
    "febrero['mes'] = 2\n",
    "febrero['mes_absoluto'] += 1\n",
    "febrero['cos_mes'] = np.cos(2 * np.pi * 2 / 12)\n",
    "\n",
    "X_febrero = febrero[X_val.columns]\n",
    "febrero['tn_predicho'] = modelo_final.predict(X_febrero)\n",
    "\n",
    "# 4. Guardar resultados\n",
    "resultado = febrero[['product_id', 'tn_predicho']]\n",
    "resultado.to_csv(\"prediccion_febrero2020_xgb.csv\", index=False)\n",
    "print(\"✅ Archivo generado: prediccion_febrero2020_xgb.csv\")\n"
   ]
  },
  {
   "cell_type": "code",
   "execution_count": 10,
   "id": "2c1a59da",
   "metadata": {},
   "outputs": [
    {
     "name": "stderr",
     "output_type": "stream",
     "text": [
      "[I 2025-06-26 01:06:47,603] A new study created in memory with name: no-name-9212ec9d-4d9c-43ca-a6bc-a0914fa44ffe\n"
     ]
    },
    {
     "name": "stderr",
     "output_type": "stream",
     "text": [
      "[I 2025-06-26 01:06:48,735] Trial 0 finished with value: 0.020677971569817998 and parameters: {'n_estimators': 820, 'max_depth': 5, 'learning_rate': 0.22564130397480178, 'min_child_weight': 5, 'subsample': 0.5800119333843776, 'colsample_bytree': 0.6825839564660157, 'reg_alpha': 6.056399567797762, 'reg_lambda': 0.9127312040832638}. Best is trial 0 with value: 0.020677971569817998.\n",
      "[I 2025-06-26 01:06:48,957] Trial 1 finished with value: 0.009629573346233886 and parameters: {'n_estimators': 110, 'max_depth': 20, 'learning_rate': 0.05702238198183828, 'min_child_weight': 8, 'subsample': 0.9535248876450441, 'colsample_bytree': 0.7591112636080086, 'reg_alpha': 2.3229167236580883, 'reg_lambda': 0.9472821342683652}. Best is trial 1 with value: 0.009629573346233886.\n",
      "[I 2025-06-26 01:06:50,029] Trial 2 finished with value: 0.01521912301890228 and parameters: {'n_estimators': 845, 'max_depth': 14, 'learning_rate': 0.13308924395279467, 'min_child_weight': 10, 'subsample': 0.6980505987213735, 'colsample_bytree': 0.9008314593179254, 'reg_alpha': 4.094802139770827, 'reg_lambda': 0.9734250498735318}. Best is trial 1 with value: 0.009629573346233886.\n",
      "[I 2025-06-26 01:06:50,598] Trial 3 finished with value: 0.01901844042353008 and parameters: {'n_estimators': 404, 'max_depth': 16, 'learning_rate': 0.16932474123289387, 'min_child_weight': 1, 'subsample': 0.8345688312433803, 'colsample_bytree': 0.5378639324271193, 'reg_alpha': 7.068887869954009, 'reg_lambda': 0.49865258489721453}. Best is trial 1 with value: 0.009629573346233886.\n",
      "[I 2025-06-26 01:06:51,789] Trial 4 finished with value: 0.02583732540718887 and parameters: {'n_estimators': 988, 'max_depth': 15, 'learning_rate': 0.2534944495845281, 'min_child_weight': 6, 'subsample': 0.6234104757185883, 'colsample_bytree': 0.8736365057712945, 'reg_alpha': 9.184622560967433, 'reg_lambda': 0.7493370870012418}. Best is trial 1 with value: 0.009629573346233886.\n",
      "[I 2025-06-26 01:06:52,464] Trial 5 finished with value: 0.006705617286342641 and parameters: {'n_estimators': 524, 'max_depth': 9, 'learning_rate': 0.14948662517197944, 'min_child_weight': 2, 'subsample': 0.986706577939125, 'colsample_bytree': 0.8310991329710019, 'reg_alpha': 1.1343343889343471, 'reg_lambda': 0.9159596182302591}. Best is trial 5 with value: 0.006705617286342641.\n",
      "[I 2025-06-26 01:06:53,612] Trial 6 finished with value: 0.02777078273705814 and parameters: {'n_estimators': 920, 'max_depth': 15, 'learning_rate': 0.10417599462807281, 'min_child_weight': 8, 'subsample': 0.5513263939594517, 'colsample_bytree': 0.5255247402631966, 'reg_alpha': 9.149067691077146, 'reg_lambda': 0.4584419385708546}. Best is trial 5 with value: 0.006705617286342641.\n",
      "[I 2025-06-26 01:06:54,051] Trial 7 finished with value: 0.0024448574095089796 and parameters: {'n_estimators': 322, 'max_depth': 6, 'learning_rate': 0.2653067273347099, 'min_child_weight': 3, 'subsample': 0.8820000797366704, 'colsample_bytree': 0.7454764751388315, 'reg_alpha': 0.11081442558260157, 'reg_lambda': 0.422420909142631}. Best is trial 7 with value: 0.0024448574095089796.\n",
      "[I 2025-06-26 01:06:54,763] Trial 8 finished with value: 0.003326868316443718 and parameters: {'n_estimators': 550, 'max_depth': 15, 'learning_rate': 0.2117655173988173, 'min_child_weight': 9, 'subsample': 0.5921513515604273, 'colsample_bytree': 0.6810708277254318, 'reg_alpha': 0.1666913164199768, 'reg_lambda': 0.29601031884556506}. Best is trial 7 with value: 0.0024448574095089796.\n",
      "[I 2025-06-26 01:06:55,495] Trial 9 finished with value: 0.010271910494190194 and parameters: {'n_estimators': 554, 'max_depth': 5, 'learning_rate': 0.027881537821760498, 'min_child_weight': 9, 'subsample': 0.9999183325629477, 'colsample_bytree': 0.6893543944451793, 'reg_alpha': 2.788084597914194, 'reg_lambda': 0.008440418318122478}. Best is trial 7 with value: 0.0024448574095089796.\n",
      "[I 2025-06-26 01:06:55,717] Trial 10 finished with value: 0.014961883341890313 and parameters: {'n_estimators': 115, 'max_depth': 8, 'learning_rate': 0.2987705628997781, 'min_child_weight': 3, 'subsample': 0.8212745616388507, 'colsample_bytree': 0.9920840282880646, 'reg_alpha': 4.508325912434612, 'reg_lambda': 0.1942011044091766}. Best is trial 7 with value: 0.0024448574095089796.\n",
      "[I 2025-06-26 01:06:56,219] Trial 11 finished with value: 0.004365044926573401 and parameters: {'n_estimators': 331, 'max_depth': 11, 'learning_rate': 0.21603435097370358, 'min_child_weight': 4, 'subsample': 0.8517700213513636, 'colsample_bytree': 0.6445543234528346, 'reg_alpha': 0.4141688927046472, 'reg_lambda': 0.2962545875090523}. Best is trial 7 with value: 0.0024448574095089796.\n",
      "[I 2025-06-26 01:06:57,134] Trial 12 finished with value: 0.002436742188532067 and parameters: {'n_estimators': 653, 'max_depth': 18, 'learning_rate': 0.2865793243773862, 'min_child_weight': 6, 'subsample': 0.502230162601839, 'colsample_bytree': 0.7758792845399727, 'reg_alpha': 0.0699129107234632, 'reg_lambda': 0.31167403288848705}. Best is trial 12 with value: 0.002436742188532067.\n",
      "[I 2025-06-26 01:06:58,476] Trial 13 finished with value: 0.011807463048022725 and parameters: {'n_estimators': 704, 'max_depth': 20, 'learning_rate': 0.29436568260170803, 'min_child_weight': 6, 'subsample': 0.5006591281323611, 'colsample_bytree': 0.7778231048697806, 'reg_alpha': 2.0732912398324905, 'reg_lambda': 0.6339478771853242}. Best is trial 12 with value: 0.002436742188532067.\n",
      "[I 2025-06-26 01:06:59,168] Trial 14 finished with value: 0.012570156631988027 and parameters: {'n_estimators': 305, 'max_depth': 8, 'learning_rate': 0.2592965201297657, 'min_child_weight': 4, 'subsample': 0.7440979615351436, 'colsample_bytree': 0.60560676107693, 'reg_alpha': 3.160459575088103, 'reg_lambda': 0.4132407185145077}. Best is trial 12 with value: 0.002436742188532067.\n",
      "[I 2025-06-26 01:07:00,421] Trial 15 finished with value: 0.007360206023260304 and parameters: {'n_estimators': 690, 'max_depth': 4, 'learning_rate': 0.1812306357001998, 'min_child_weight': 7, 'subsample': 0.9137129116054916, 'colsample_bytree': 0.8027700329467975, 'reg_alpha': 1.2870707845239517, 'reg_lambda': 0.6365083428395139}. Best is trial 12 with value: 0.002436742188532067.\n",
      "[I 2025-06-26 01:07:00,984] Trial 16 finished with value: 0.002427119328399067 and parameters: {'n_estimators': 279, 'max_depth': 12, 'learning_rate': 0.2632184316794002, 'min_child_weight': 3, 'subsample': 0.6765180061152476, 'colsample_bytree': 0.9407859473681608, 'reg_alpha': 0.08840012170193196, 'reg_lambda': 0.0847711760338914}. Best is trial 16 with value: 0.002427119328399067.\n",
      "[I 2025-06-26 01:07:01,492] Trial 17 finished with value: 0.018704176796596982 and parameters: {'n_estimators': 224, 'max_depth': 12, 'learning_rate': 0.2377758934512576, 'min_child_weight': 5, 'subsample': 0.670320946698822, 'colsample_bytree': 0.9941291376167113, 'reg_alpha': 5.6527071252264935, 'reg_lambda': 0.012843002648080248}. Best is trial 16 with value: 0.002427119328399067.\n",
      "[I 2025-06-26 01:07:02,293] Trial 18 finished with value: 0.02563995952717636 and parameters: {'n_estimators': 443, 'max_depth': 18, 'learning_rate': 0.19443478485745283, 'min_child_weight': 1, 'subsample': 0.5089944836985856, 'colsample_bytree': 0.9176295085050075, 'reg_alpha': 7.536501879736845, 'reg_lambda': 0.13715876044275993}. Best is trial 16 with value: 0.002427119328399067.\n",
      "[I 2025-06-26 01:07:03,436] Trial 19 finished with value: 0.013243658384304979 and parameters: {'n_estimators': 645, 'max_depth': 12, 'learning_rate': 0.2731099054263926, 'min_child_weight': 3, 'subsample': 0.7855270939754004, 'colsample_bytree': 0.9405446421153426, 'reg_alpha': 3.6303225399657437, 'reg_lambda': 0.17071102312344488}. Best is trial 16 with value: 0.002427119328399067.\n",
      "[I 2025-06-26 01:07:03,943] Trial 20 finished with value: 0.007801441675372745 and parameters: {'n_estimators': 225, 'max_depth': 18, 'learning_rate': 0.11892645927140694, 'min_child_weight': 7, 'subsample': 0.6625689503604437, 'colsample_bytree': 0.8474499932100857, 'reg_alpha': 1.1262389509333577, 'reg_lambda': 0.30783343776936833}. Best is trial 16 with value: 0.002427119328399067.\n",
      "[I 2025-06-26 01:07:04,729] Trial 21 finished with value: 0.0032947713468320992 and parameters: {'n_estimators': 426, 'max_depth': 3, 'learning_rate': 0.2726254909325739, 'min_child_weight': 3, 'subsample': 0.8988241688951648, 'colsample_bytree': 0.73469577027134, 'reg_alpha': 0.22869966287186863, 'reg_lambda': 0.38994935035875183}. Best is trial 16 with value: 0.002427119328399067.\n",
      "[I 2025-06-26 01:07:05,222] Trial 22 finished with value: 0.009001825730839502 and parameters: {'n_estimators': 236, 'max_depth': 6, 'learning_rate': 0.24875284302446188, 'min_child_weight': 4, 'subsample': 0.7450185716576968, 'colsample_bytree': 0.7278773750114916, 'reg_alpha': 1.6417147278838333, 'reg_lambda': 0.09536062661305231}. Best is trial 16 with value: 0.002427119328399067.\n",
      "[I 2025-06-26 01:07:05,853] Trial 23 finished with value: 0.0015147457316323466 and parameters: {'n_estimators': 324, 'max_depth': 9, 'learning_rate': 0.27490617621036284, 'min_child_weight': 2, 'subsample': 0.6990196193353984, 'colsample_bytree': 0.5908324081717236, 'reg_alpha': 0.019293869528202473, 'reg_lambda': 0.25101201168279336}. Best is trial 23 with value: 0.0015147457316323466.\n",
      "[I 2025-06-26 01:07:06,918] Trial 24 finished with value: 0.006706221269278423 and parameters: {'n_estimators': 598, 'max_depth': 10, 'learning_rate': 0.28831290439705204, 'min_child_weight': 2, 'subsample': 0.70500590469112, 'colsample_bytree': 0.5777461852572546, 'reg_alpha': 0.855629389416498, 'reg_lambda': 0.20233764173272664}. Best is trial 23 with value: 0.0015147457316323466.\n",
      "[I 2025-06-26 01:07:07,789] Trial 25 finished with value: 0.010268908841532209 and parameters: {'n_estimators': 479, 'max_depth': 13, 'learning_rate': 0.1996183811893112, 'min_child_weight': 2, 'subsample': 0.6515498759997677, 'colsample_bytree': 0.6252599094266507, 'reg_alpha': 1.9829635848526803, 'reg_lambda': 0.2730397869591036}. Best is trial 23 with value: 0.0015147457316323466.\n",
      "[I 2025-06-26 01:07:09,190] Trial 26 finished with value: 0.012787426738065221 and parameters: {'n_estimators': 755, 'max_depth': 10, 'learning_rate': 0.23479765688247384, 'min_child_weight': 5, 'subsample': 0.6226447369237629, 'colsample_bytree': 0.8096733863303149, 'reg_alpha': 2.824098836903196, 'reg_lambda': 0.07023516451913214}. Best is trial 23 with value: 0.0015147457316323466.\n",
      "[I 2025-06-26 01:07:10,075] Trial 27 finished with value: 0.005771575108086285 and parameters: {'n_estimators': 379, 'max_depth': 17, 'learning_rate': 0.08083217610795872, 'min_child_weight': 1, 'subsample': 0.786006326165562, 'colsample_bytree': 0.8674669460835046, 'reg_alpha': 0.7210620690762156, 'reg_lambda': 0.23341270270200998}. Best is trial 23 with value: 0.0015147457316323466.\n",
      "[I 2025-06-26 01:07:10,816] Trial 28 finished with value: 0.02906726944259975 and parameters: {'n_estimators': 267, 'max_depth': 8, 'learning_rate': 0.2807213955197034, 'min_child_weight': 4, 'subsample': 0.560376980229643, 'colsample_bytree': 0.9542220976846225, 'reg_alpha': 9.933482883091862, 'reg_lambda': 0.35077613074863334}. Best is trial 23 with value: 0.0015147457316323466.\n",
      "[I 2025-06-26 01:07:12,491] Trial 29 finished with value: 0.001447209255442671 and parameters: {'n_estimators': 793, 'max_depth': 13, 'learning_rate': 0.22387537351713807, 'min_child_weight': 5, 'subsample': 0.7074737855646137, 'colsample_bytree': 0.6869350093375899, 'reg_alpha': 0.01500178401949448, 'reg_lambda': 0.5455901623105204}. Best is trial 29 with value: 0.001447209255442671.\n",
      "[I 2025-06-26 01:07:12,939] Trial 30 finished with value: 0.017097665844481923 and parameters: {'n_estimators': 172, 'max_depth': 13, 'learning_rate': 0.23386676886148697, 'min_child_weight': 2, 'subsample': 0.7093205609053649, 'colsample_bytree': 0.5761348009776317, 'reg_alpha': 5.05079639754819, 'reg_lambda': 0.5564852970511421}. Best is trial 29 with value: 0.001447209255442671.\n",
      "[I 2025-06-26 01:07:14,772] Trial 31 finished with value: 0.0021366827391995037 and parameters: {'n_estimators': 796, 'max_depth': 10, 'learning_rate': 0.2508946989571371, 'min_child_weight': 5, 'subsample': 0.7805595387062784, 'colsample_bytree': 0.7028279054989446, 'reg_alpha': 0.06910815812036714, 'reg_lambda': 0.5658026113765251}. Best is trial 29 with value: 0.001447209255442671.\n",
      "[I 2025-06-26 01:07:16,388] Trial 32 finished with value: 0.008474382204607776 and parameters: {'n_estimators': 834, 'max_depth': 10, 'learning_rate': 0.22150903983599515, 'min_child_weight': 5, 'subsample': 0.773805269806002, 'colsample_bytree': 0.6863595545451984, 'reg_alpha': 1.5453261883999523, 'reg_lambda': 0.7817350833382136}. Best is trial 29 with value: 0.001447209255442671.\n",
      "[I 2025-06-26 01:07:17,834] Trial 33 finished with value: 0.006765724683339182 and parameters: {'n_estimators': 784, 'max_depth': 11, 'learning_rate': 0.24619728516326256, 'min_child_weight': 5, 'subsample': 0.7253405151671154, 'colsample_bytree': 0.6667720513780966, 'reg_alpha': 0.8903354559401816, 'reg_lambda': 0.5849291523223364}. Best is trial 29 with value: 0.001447209255442671.\n",
      "[I 2025-06-26 01:07:19,485] Trial 34 finished with value: 0.010367774320763091 and parameters: {'n_estimators': 910, 'max_depth': 13, 'learning_rate': 0.2623033210561001, 'min_child_weight': 4, 'subsample': 0.6931723681142423, 'colsample_bytree': 0.7120739410664106, 'reg_alpha': 2.137148860166126, 'reg_lambda': 0.7158114211041826}. Best is trial 29 with value: 0.001447209255442671.\n",
      "[I 2025-06-26 01:07:21,101] Trial 35 finished with value: 0.005379437709061996 and parameters: {'n_estimators': 892, 'max_depth': 9, 'learning_rate': 0.15792715990354209, 'min_child_weight': 7, 'subsample': 0.8090467110246898, 'colsample_bytree': 0.6473803344191547, 'reg_alpha': 0.6533230444591863, 'reg_lambda': 0.8236392343850817}. Best is trial 29 with value: 0.001447209255442671.\n",
      "[I 2025-06-26 01:07:22,726] Trial 36 finished with value: 0.00917420479306708 and parameters: {'n_estimators': 793, 'max_depth': 14, 'learning_rate': 0.19432843157940072, 'min_child_weight': 3, 'subsample': 0.627689167278042, 'colsample_bytree': 0.5753534719603695, 'reg_alpha': 1.5590949224062496, 'reg_lambda': 0.5301246697716673}. Best is trial 29 with value: 0.001447209255442671.\n",
      "[I 2025-06-26 01:07:24,664] Trial 37 finished with value: 0.01968760176723418 and parameters: {'n_estimators': 969, 'max_depth': 7, 'learning_rate': 0.2204004991563528, 'min_child_weight': 1, 'subsample': 0.7591536002793831, 'colsample_bytree': 0.5119717842188793, 'reg_alpha': 6.98260859919552, 'reg_lambda': 0.48868319992680836}. Best is trial 29 with value: 0.001447209255442671.\n",
      "[I 2025-06-26 01:07:25,447] Trial 38 finished with value: 0.01165570124052141 and parameters: {'n_estimators': 375, 'max_depth': 11, 'learning_rate': 0.2520443678917094, 'min_child_weight': 2, 'subsample': 0.6843329212786016, 'colsample_bytree': 0.6115652250037811, 'reg_alpha': 2.587571478992579, 'reg_lambda': 0.6827075393716695}. Best is trial 29 with value: 0.001447209255442671.\n",
      "[I 2025-06-26 01:07:26,447] Trial 39 finished with value: 0.0137832331564245 and parameters: {'n_estimators': 492, 'max_depth': 9, 'learning_rate': 0.175301079136658, 'min_child_weight': 6, 'subsample': 0.7273274634925377, 'colsample_bytree': 0.7020868954807444, 'reg_alpha': 3.600234654974886, 'reg_lambda': 0.6011369721564498}. Best is trial 29 with value: 0.001447209255442671.\n",
      "[I 2025-06-26 01:07:27,920] Trial 40 finished with value: 0.005805923539898965 and parameters: {'n_estimators': 748, 'max_depth': 14, 'learning_rate': 0.20684842791376573, 'min_child_weight': 5, 'subsample': 0.63730675936762, 'colsample_bytree': 0.536328167117778, 'reg_alpha': 0.5740332430094738, 'reg_lambda': 0.10086217026171619}. Best is trial 29 with value: 0.001447209255442671.\n",
      "[I 2025-06-26 01:07:29,110] Trial 41 finished with value: 0.001567400194417847 and parameters: {'n_estimators': 634, 'max_depth': 20, 'learning_rate': 0.2813522443636359, 'min_child_weight': 6, 'subsample': 0.5802466800229492, 'colsample_bytree': 0.7663428835970632, 'reg_alpha': 0.01768361267658887, 'reg_lambda': 0.353473737910758}. Best is trial 29 with value: 0.001447209255442671.\n",
      "[I 2025-06-26 01:07:30,673] Trial 42 finished with value: 0.001433481236754552 and parameters: {'n_estimators': 853, 'max_depth': 20, 'learning_rate': 0.27349312955835653, 'min_child_weight': 6, 'subsample': 0.607613208566985, 'colsample_bytree': 0.7571434469577842, 'reg_alpha': 0.011498811736107943, 'reg_lambda': 0.4509749112848259}. Best is trial 42 with value: 0.001433481236754552.\n",
      "[I 2025-06-26 01:07:32,142] Trial 43 finished with value: 0.007814951724086118 and parameters: {'n_estimators': 859, 'max_depth': 20, 'learning_rate': 0.27712039861335686, 'min_child_weight': 8, 'subsample': 0.5897875476231037, 'colsample_bytree': 0.7533711645555481, 'reg_alpha': 1.0162403787216512, 'reg_lambda': 0.43379217808092313}. Best is trial 42 with value: 0.001433481236754552.\n",
      "[I 2025-06-26 01:07:33,767] Trial 44 finished with value: 0.0015258656776194338 and parameters: {'n_estimators': 944, 'max_depth': 19, 'learning_rate': 0.2430404917891864, 'min_child_weight': 6, 'subsample': 0.5337560427668818, 'colsample_bytree': 0.7731402630070935, 'reg_alpha': 0.014075245307863572, 'reg_lambda': 0.5058303209134758}. Best is trial 42 with value: 0.001433481236754552.\n",
      "[I 2025-06-26 01:07:35,446] Trial 45 finished with value: 0.006345268538542415 and parameters: {'n_estimators': 958, 'max_depth': 19, 'learning_rate': 0.2952627900295865, 'min_child_weight': 6, 'subsample': 0.5379864549847356, 'colsample_bytree': 0.781549947450742, 'reg_alpha': 0.6098534793108653, 'reg_lambda': 0.36659617938554023}. Best is trial 42 with value: 0.001433481236754552.\n",
      "[I 2025-06-26 01:07:36,977] Trial 46 finished with value: 0.008662430971614692 and parameters: {'n_estimators': 866, 'max_depth': 19, 'learning_rate': 0.23110224182977024, 'min_child_weight': 7, 'subsample': 0.604996155465319, 'colsample_bytree': 0.8233537678367895, 'reg_alpha': 1.3072688350944475, 'reg_lambda': 0.4863174318062005}. Best is trial 42 with value: 0.001433481236754552.\n",
      "[I 2025-06-26 01:07:38,801] Trial 47 finished with value: 0.001650200789467148 and parameters: {'n_estimators': 999, 'max_depth': 17, 'learning_rate': 0.019500637630551626, 'min_child_weight': 7, 'subsample': 0.5677665104446306, 'colsample_bytree': 0.7634736174764808, 'reg_alpha': 0.026460579103202982, 'reg_lambda': 0.5127882676417838}. Best is trial 42 with value: 0.001433481236754552.\n",
      "[I 2025-06-26 01:07:39,844] Trial 48 finished with value: 0.010642709653092467 and parameters: {'n_estimators': 585, 'max_depth': 16, 'learning_rate': 0.29902350412717593, 'min_child_weight': 9, 'subsample': 0.5310512516352991, 'colsample_bytree': 0.7946979276294079, 'reg_alpha': 1.8092268915726197, 'reg_lambda': 0.43844332369933875}. Best is trial 42 with value: 0.001433481236754552.\n",
      "[I 2025-06-26 01:07:41,410] Trial 49 finished with value: 0.005609615925777217 and parameters: {'n_estimators': 947, 'max_depth': 19, 'learning_rate': 0.2713990786739478, 'min_child_weight': 6, 'subsample': 0.5755866929401777, 'colsample_bytree': 0.6624127251798204, 'reg_alpha': 0.5433143521658623, 'reg_lambda': 0.33966187338762327}. Best is trial 42 with value: 0.001433481236754552.\n"
     ]
    },
    {
     "name": "stdout",
     "output_type": "stream",
     "text": [
      "Mejores parámetros:\n",
      "{'n_estimators': 853, 'max_depth': 20, 'learning_rate': 0.27349312955835653, 'min_child_weight': 6, 'subsample': 0.607613208566985, 'colsample_bytree': 0.7571434469577842, 'reg_alpha': 0.011498811736107943, 'reg_lambda': 0.4509749112848259}\n"
     ]
    }
   ],
   "source": [
    "# 🔍 Búsqueda de hiperparámetros con Optuna\n",
    "# Requiere: pip install optuna\n",
    "\n",
    "import optuna\n",
    "from sklearn.metrics import mean_absolute_error\n",
    "import xgboost as xgb\n",
    "\n",
    "# 1. Definición de la función objetivo\n",
    "def objective(trial):\n",
    "    params = {\n",
    "        'objective': 'reg:squarederror',\n",
    "        'tree_method': 'hist',\n",
    "        'n_estimators': trial.suggest_int('n_estimators', 100, 1000),\n",
    "        'max_depth': trial.suggest_int('max_depth', 3, 20),\n",
    "        'learning_rate': trial.suggest_float('learning_rate', 0.01, 0.3),\n",
    "        'min_child_weight': trial.suggest_int('min_child_weight', 1, 10),\n",
    "        'subsample': trial.suggest_float('subsample', 0.5, 1.0),\n",
    "        'colsample_bytree': trial.suggest_float('colsample_bytree', 0.5, 1.0),\n",
    "        'reg_alpha': trial.suggest_float('reg_alpha', 0.0, 10.0),\n",
    "        'reg_lambda': trial.suggest_float('reg_lambda', 0.0, 1.0),\n",
    "        'random_state': 42\n",
    "    }\n",
    "\n",
    "    model = xgb.XGBRegressor(**params)\n",
    "    model.fit(X_train, y_train, sample_weight=w_train,\n",
    "              eval_set=[(X_val, y_val)],\n",
    "              #early_stopping_rounds=30,\n",
    "              verbose=False)\n",
    "    \n",
    "    preds = model.predict(X_val)\n",
    "    score = mean_absolute_error(y_val, preds)\n",
    "    return score\n",
    "\n",
    "# 2. Ejecutar la optimización\n",
    "study = optuna.create_study(direction='minimize')\n",
    "study.optimize(objective, n_trials=50)\n",
    "\n",
    "# 3. Mostrar los mejores parámetros\n",
    "print(\"Mejores parámetros:\")\n",
    "print(study.best_params)\n"
   ]
  },
  {
   "cell_type": "code",
   "execution_count": 12,
   "id": "8e28fb13",
   "metadata": {},
   "outputs": [
    {
     "name": "stdout",
     "output_type": "stream",
     "text": [
      "[0]\tvalidation_0-rmse:0.02437\n",
      "[1]\tvalidation_0-rmse:0.01850\n",
      "[2]\tvalidation_0-rmse:0.01408\n",
      "[3]\tvalidation_0-rmse:0.01109\n",
      "[4]\tvalidation_0-rmse:0.00877\n",
      "[5]\tvalidation_0-rmse:0.00684\n",
      "[6]\tvalidation_0-rmse:0.00546\n",
      "[7]\tvalidation_0-rmse:0.00462\n",
      "[8]\tvalidation_0-rmse:0.00380\n",
      "[9]\tvalidation_0-rmse:0.00335\n",
      "[10]\tvalidation_0-rmse:0.00300\n",
      "[11]\tvalidation_0-rmse:0.00257\n",
      "[12]\tvalidation_0-rmse:0.00231\n",
      "[13]\tvalidation_0-rmse:0.00215\n",
      "[14]\tvalidation_0-rmse:0.00195\n",
      "[15]\tvalidation_0-rmse:0.00188\n",
      "[16]\tvalidation_0-rmse:0.00179\n",
      "[17]\tvalidation_0-rmse:0.00168\n",
      "[18]\tvalidation_0-rmse:0.00164\n",
      "[19]\tvalidation_0-rmse:0.00162\n",
      "[20]\tvalidation_0-rmse:0.00160\n",
      "[21]\tvalidation_0-rmse:0.00157\n",
      "[22]\tvalidation_0-rmse:0.00157\n",
      "[23]\tvalidation_0-rmse:0.00152\n",
      "[24]\tvalidation_0-rmse:0.00151\n",
      "[25]\tvalidation_0-rmse:0.00151\n",
      "[26]\tvalidation_0-rmse:0.00151\n",
      "[27]\tvalidation_0-rmse:0.00151\n",
      "[28]\tvalidation_0-rmse:0.00149\n",
      "[29]\tvalidation_0-rmse:0.00149\n",
      "[30]\tvalidation_0-rmse:0.00149\n",
      "[31]\tvalidation_0-rmse:0.00149\n",
      "[32]\tvalidation_0-rmse:0.00149\n",
      "[33]\tvalidation_0-rmse:0.00149\n",
      "[34]\tvalidation_0-rmse:0.00149\n",
      "[35]\tvalidation_0-rmse:0.00149\n",
      "[36]\tvalidation_0-rmse:0.00149\n",
      "[37]\tvalidation_0-rmse:0.00149\n",
      "[38]\tvalidation_0-rmse:0.00149\n",
      "[39]\tvalidation_0-rmse:0.00149\n",
      "[40]\tvalidation_0-rmse:0.00149\n",
      "[41]\tvalidation_0-rmse:0.00149\n",
      "[42]\tvalidation_0-rmse:0.00149\n",
      "[43]\tvalidation_0-rmse:0.00149\n",
      "[44]\tvalidation_0-rmse:0.00149\n",
      "[45]\tvalidation_0-rmse:0.00149\n",
      "[46]\tvalidation_0-rmse:0.00149\n",
      "[47]\tvalidation_0-rmse:0.00149\n",
      "[48]\tvalidation_0-rmse:0.00149\n",
      "[49]\tvalidation_0-rmse:0.00149\n",
      "[50]\tvalidation_0-rmse:0.00149\n",
      "[51]\tvalidation_0-rmse:0.00149\n",
      "[52]\tvalidation_0-rmse:0.00149\n",
      "[53]\tvalidation_0-rmse:0.00149\n",
      "[54]\tvalidation_0-rmse:0.00149\n",
      "[55]\tvalidation_0-rmse:0.00149\n",
      "[56]\tvalidation_0-rmse:0.00149\n",
      "[57]\tvalidation_0-rmse:0.00149\n",
      "[58]\tvalidation_0-rmse:0.00149\n",
      "[59]\tvalidation_0-rmse:0.00149\n",
      "[60]\tvalidation_0-rmse:0.00149\n",
      "[61]\tvalidation_0-rmse:0.00149\n",
      "[62]\tvalidation_0-rmse:0.00149\n",
      "[63]\tvalidation_0-rmse:0.00149\n",
      "[64]\tvalidation_0-rmse:0.00149\n",
      "[65]\tvalidation_0-rmse:0.00149\n",
      "[66]\tvalidation_0-rmse:0.00149\n",
      "[67]\tvalidation_0-rmse:0.00149\n",
      "[68]\tvalidation_0-rmse:0.00149\n",
      "[69]\tvalidation_0-rmse:0.00149\n",
      "[70]\tvalidation_0-rmse:0.00149\n",
      "[71]\tvalidation_0-rmse:0.00149\n",
      "[72]\tvalidation_0-rmse:0.00149\n",
      "[73]\tvalidation_0-rmse:0.00149\n",
      "[74]\tvalidation_0-rmse:0.00149\n",
      "[75]\tvalidation_0-rmse:0.00149\n",
      "[76]\tvalidation_0-rmse:0.00149\n",
      "[77]\tvalidation_0-rmse:0.00149\n",
      "[78]\tvalidation_0-rmse:0.00149\n",
      "[79]\tvalidation_0-rmse:0.00149\n",
      "[80]\tvalidation_0-rmse:0.00149\n",
      "[81]\tvalidation_0-rmse:0.00149\n",
      "[82]\tvalidation_0-rmse:0.00149\n",
      "[83]\tvalidation_0-rmse:0.00149\n",
      "[84]\tvalidation_0-rmse:0.00149\n",
      "[85]\tvalidation_0-rmse:0.00149\n",
      "[86]\tvalidation_0-rmse:0.00149\n",
      "[87]\tvalidation_0-rmse:0.00149\n",
      "[88]\tvalidation_0-rmse:0.00149\n",
      "[89]\tvalidation_0-rmse:0.00149\n",
      "[90]\tvalidation_0-rmse:0.00149\n",
      "[91]\tvalidation_0-rmse:0.00149\n",
      "[92]\tvalidation_0-rmse:0.00149\n",
      "[93]\tvalidation_0-rmse:0.00149\n",
      "[94]\tvalidation_0-rmse:0.00149\n",
      "[95]\tvalidation_0-rmse:0.00149\n",
      "[96]\tvalidation_0-rmse:0.00149\n",
      "[97]\tvalidation_0-rmse:0.00149\n",
      "[98]\tvalidation_0-rmse:0.00149\n",
      "[99]\tvalidation_0-rmse:0.00149\n",
      "[100]\tvalidation_0-rmse:0.00149\n",
      "[101]\tvalidation_0-rmse:0.00149\n",
      "[102]\tvalidation_0-rmse:0.00149\n",
      "[103]\tvalidation_0-rmse:0.00149\n",
      "[104]\tvalidation_0-rmse:0.00149\n",
      "[105]\tvalidation_0-rmse:0.00149\n",
      "[106]\tvalidation_0-rmse:0.00149\n",
      "[107]\tvalidation_0-rmse:0.00149\n",
      "[108]\tvalidation_0-rmse:0.00149\n",
      "[109]\tvalidation_0-rmse:0.00149\n",
      "[110]\tvalidation_0-rmse:0.00149\n",
      "[111]\tvalidation_0-rmse:0.00149\n",
      "[112]\tvalidation_0-rmse:0.00149\n",
      "[113]\tvalidation_0-rmse:0.00149\n",
      "[114]\tvalidation_0-rmse:0.00149\n",
      "[115]\tvalidation_0-rmse:0.00149\n",
      "[116]\tvalidation_0-rmse:0.00149\n",
      "[117]\tvalidation_0-rmse:0.00149\n",
      "[118]\tvalidation_0-rmse:0.00149\n",
      "[119]\tvalidation_0-rmse:0.00149\n",
      "[120]\tvalidation_0-rmse:0.00149\n",
      "[121]\tvalidation_0-rmse:0.00149\n",
      "[122]\tvalidation_0-rmse:0.00149\n",
      "[123]\tvalidation_0-rmse:0.00149\n",
      "[124]\tvalidation_0-rmse:0.00149\n",
      "[125]\tvalidation_0-rmse:0.00149\n",
      "[126]\tvalidation_0-rmse:0.00149\n",
      "[127]\tvalidation_0-rmse:0.00149\n",
      "[128]\tvalidation_0-rmse:0.00149\n",
      "[129]\tvalidation_0-rmse:0.00149\n",
      "[130]\tvalidation_0-rmse:0.00149\n",
      "[131]\tvalidation_0-rmse:0.00149\n",
      "[132]\tvalidation_0-rmse:0.00149\n",
      "[133]\tvalidation_0-rmse:0.00149\n",
      "[134]\tvalidation_0-rmse:0.00149\n",
      "[135]\tvalidation_0-rmse:0.00149\n",
      "[136]\tvalidation_0-rmse:0.00149\n",
      "[137]\tvalidation_0-rmse:0.00149\n",
      "[138]\tvalidation_0-rmse:0.00149\n",
      "[139]\tvalidation_0-rmse:0.00149\n",
      "[140]\tvalidation_0-rmse:0.00149\n",
      "[141]\tvalidation_0-rmse:0.00149\n",
      "[142]\tvalidation_0-rmse:0.00149\n",
      "[143]\tvalidation_0-rmse:0.00149\n",
      "[144]\tvalidation_0-rmse:0.00149\n",
      "[145]\tvalidation_0-rmse:0.00149\n",
      "[146]\tvalidation_0-rmse:0.00149\n",
      "[147]\tvalidation_0-rmse:0.00149\n",
      "[148]\tvalidation_0-rmse:0.00149\n",
      "[149]\tvalidation_0-rmse:0.00149\n",
      "[150]\tvalidation_0-rmse:0.00149\n",
      "[151]\tvalidation_0-rmse:0.00149\n",
      "[152]\tvalidation_0-rmse:0.00149\n",
      "[153]\tvalidation_0-rmse:0.00149\n",
      "[154]\tvalidation_0-rmse:0.00149\n",
      "[155]\tvalidation_0-rmse:0.00149\n",
      "[156]\tvalidation_0-rmse:0.00149\n",
      "[157]\tvalidation_0-rmse:0.00149\n",
      "[158]\tvalidation_0-rmse:0.00149\n",
      "[159]\tvalidation_0-rmse:0.00149\n",
      "[160]\tvalidation_0-rmse:0.00149\n",
      "[161]\tvalidation_0-rmse:0.00149\n",
      "[162]\tvalidation_0-rmse:0.00149\n",
      "[163]\tvalidation_0-rmse:0.00149\n",
      "[164]\tvalidation_0-rmse:0.00149\n",
      "[165]\tvalidation_0-rmse:0.00149\n",
      "[166]\tvalidation_0-rmse:0.00149\n",
      "[167]\tvalidation_0-rmse:0.00149\n",
      "[168]\tvalidation_0-rmse:0.00149\n",
      "[169]\tvalidation_0-rmse:0.00149\n",
      "[170]\tvalidation_0-rmse:0.00149\n",
      "[171]\tvalidation_0-rmse:0.00149\n",
      "[172]\tvalidation_0-rmse:0.00149\n",
      "[173]\tvalidation_0-rmse:0.00149\n",
      "[174]\tvalidation_0-rmse:0.00149\n",
      "[175]\tvalidation_0-rmse:0.00149\n",
      "[176]\tvalidation_0-rmse:0.00149\n",
      "[177]\tvalidation_0-rmse:0.00149\n",
      "[178]\tvalidation_0-rmse:0.00149\n",
      "[179]\tvalidation_0-rmse:0.00149\n",
      "[180]\tvalidation_0-rmse:0.00149\n",
      "[181]\tvalidation_0-rmse:0.00149\n",
      "[182]\tvalidation_0-rmse:0.00149\n",
      "[183]\tvalidation_0-rmse:0.00149\n",
      "[184]\tvalidation_0-rmse:0.00149\n",
      "[185]\tvalidation_0-rmse:0.00149\n",
      "[186]\tvalidation_0-rmse:0.00149\n",
      "[187]\tvalidation_0-rmse:0.00149\n",
      "[188]\tvalidation_0-rmse:0.00149\n",
      "[189]\tvalidation_0-rmse:0.00149\n",
      "[190]\tvalidation_0-rmse:0.00149\n",
      "[191]\tvalidation_0-rmse:0.00149\n",
      "[192]\tvalidation_0-rmse:0.00149\n",
      "[193]\tvalidation_0-rmse:0.00149\n",
      "[194]\tvalidation_0-rmse:0.00149\n",
      "[195]\tvalidation_0-rmse:0.00149\n",
      "[196]\tvalidation_0-rmse:0.00149\n",
      "[197]\tvalidation_0-rmse:0.00149\n",
      "[198]\tvalidation_0-rmse:0.00149\n",
      "[199]\tvalidation_0-rmse:0.00149\n",
      "[200]\tvalidation_0-rmse:0.00149\n",
      "[201]\tvalidation_0-rmse:0.00149\n",
      "[202]\tvalidation_0-rmse:0.00149\n",
      "[203]\tvalidation_0-rmse:0.00149\n",
      "[204]\tvalidation_0-rmse:0.00149\n",
      "[205]\tvalidation_0-rmse:0.00149\n",
      "[206]\tvalidation_0-rmse:0.00149\n",
      "[207]\tvalidation_0-rmse:0.00149\n",
      "[208]\tvalidation_0-rmse:0.00149\n",
      "[209]\tvalidation_0-rmse:0.00149\n",
      "[210]\tvalidation_0-rmse:0.00149\n",
      "[211]\tvalidation_0-rmse:0.00149\n",
      "[212]\tvalidation_0-rmse:0.00149\n",
      "[213]\tvalidation_0-rmse:0.00149\n",
      "[214]\tvalidation_0-rmse:0.00149\n",
      "[215]\tvalidation_0-rmse:0.00149\n",
      "[216]\tvalidation_0-rmse:0.00149\n",
      "[217]\tvalidation_0-rmse:0.00149\n",
      "[218]\tvalidation_0-rmse:0.00149\n",
      "[219]\tvalidation_0-rmse:0.00149\n",
      "[220]\tvalidation_0-rmse:0.00149\n",
      "[221]\tvalidation_0-rmse:0.00149\n",
      "[222]\tvalidation_0-rmse:0.00149\n",
      "[223]\tvalidation_0-rmse:0.00149\n",
      "[224]\tvalidation_0-rmse:0.00149\n",
      "[225]\tvalidation_0-rmse:0.00149\n",
      "[226]\tvalidation_0-rmse:0.00149\n",
      "[227]\tvalidation_0-rmse:0.00149\n",
      "[228]\tvalidation_0-rmse:0.00149\n",
      "[229]\tvalidation_0-rmse:0.00149\n",
      "[230]\tvalidation_0-rmse:0.00149\n",
      "[231]\tvalidation_0-rmse:0.00149\n",
      "[232]\tvalidation_0-rmse:0.00149\n",
      "[233]\tvalidation_0-rmse:0.00149\n",
      "[234]\tvalidation_0-rmse:0.00149\n",
      "[235]\tvalidation_0-rmse:0.00149\n",
      "[236]\tvalidation_0-rmse:0.00149\n",
      "[237]\tvalidation_0-rmse:0.00149\n",
      "[238]\tvalidation_0-rmse:0.00149\n",
      "[239]\tvalidation_0-rmse:0.00149\n",
      "[240]\tvalidation_0-rmse:0.00149\n",
      "[241]\tvalidation_0-rmse:0.00149\n",
      "[242]\tvalidation_0-rmse:0.00149\n",
      "[243]\tvalidation_0-rmse:0.00149\n",
      "[244]\tvalidation_0-rmse:0.00149\n",
      "[245]\tvalidation_0-rmse:0.00149\n",
      "[246]\tvalidation_0-rmse:0.00149\n",
      "[247]\tvalidation_0-rmse:0.00149\n",
      "[248]\tvalidation_0-rmse:0.00149\n",
      "[249]\tvalidation_0-rmse:0.00149\n",
      "[250]\tvalidation_0-rmse:0.00149\n",
      "[251]\tvalidation_0-rmse:0.00149\n",
      "[252]\tvalidation_0-rmse:0.00149\n",
      "[253]\tvalidation_0-rmse:0.00149\n",
      "[254]\tvalidation_0-rmse:0.00149\n",
      "[255]\tvalidation_0-rmse:0.00149\n",
      "[256]\tvalidation_0-rmse:0.00149\n",
      "[257]\tvalidation_0-rmse:0.00149\n",
      "[258]\tvalidation_0-rmse:0.00149\n",
      "[259]\tvalidation_0-rmse:0.00149\n",
      "[260]\tvalidation_0-rmse:0.00149\n",
      "[261]\tvalidation_0-rmse:0.00149\n",
      "[262]\tvalidation_0-rmse:0.00149\n",
      "[263]\tvalidation_0-rmse:0.00149\n",
      "[264]\tvalidation_0-rmse:0.00149\n",
      "[265]\tvalidation_0-rmse:0.00149\n",
      "[266]\tvalidation_0-rmse:0.00149\n",
      "[267]\tvalidation_0-rmse:0.00149\n",
      "[268]\tvalidation_0-rmse:0.00149\n",
      "[269]\tvalidation_0-rmse:0.00149\n",
      "[270]\tvalidation_0-rmse:0.00149\n",
      "[271]\tvalidation_0-rmse:0.00149\n",
      "[272]\tvalidation_0-rmse:0.00149\n",
      "[273]\tvalidation_0-rmse:0.00149\n",
      "[274]\tvalidation_0-rmse:0.00149\n",
      "[275]\tvalidation_0-rmse:0.00149\n",
      "[276]\tvalidation_0-rmse:0.00149\n",
      "[277]\tvalidation_0-rmse:0.00149\n",
      "[278]\tvalidation_0-rmse:0.00149\n",
      "[279]\tvalidation_0-rmse:0.00149\n",
      "[280]\tvalidation_0-rmse:0.00149\n",
      "[281]\tvalidation_0-rmse:0.00149\n",
      "[282]\tvalidation_0-rmse:0.00149\n",
      "[283]\tvalidation_0-rmse:0.00149\n",
      "[284]\tvalidation_0-rmse:0.00149\n",
      "[285]\tvalidation_0-rmse:0.00149\n",
      "[286]\tvalidation_0-rmse:0.00149\n",
      "[287]\tvalidation_0-rmse:0.00149\n",
      "[288]\tvalidation_0-rmse:0.00149\n",
      "[289]\tvalidation_0-rmse:0.00149\n",
      "[290]\tvalidation_0-rmse:0.00149\n",
      "[291]\tvalidation_0-rmse:0.00149\n",
      "[292]\tvalidation_0-rmse:0.00149\n",
      "[293]\tvalidation_0-rmse:0.00149\n",
      "[294]\tvalidation_0-rmse:0.00149\n",
      "[295]\tvalidation_0-rmse:0.00149\n",
      "[296]\tvalidation_0-rmse:0.00149\n",
      "[297]\tvalidation_0-rmse:0.00149\n",
      "[298]\tvalidation_0-rmse:0.00149\n",
      "[299]\tvalidation_0-rmse:0.00149\n",
      "[300]\tvalidation_0-rmse:0.00149\n",
      "[301]\tvalidation_0-rmse:0.00149\n",
      "[302]\tvalidation_0-rmse:0.00149\n",
      "[303]\tvalidation_0-rmse:0.00149\n",
      "[304]\tvalidation_0-rmse:0.00149\n",
      "[305]\tvalidation_0-rmse:0.00149\n",
      "[306]\tvalidation_0-rmse:0.00149\n",
      "[307]\tvalidation_0-rmse:0.00149\n",
      "[308]\tvalidation_0-rmse:0.00149\n",
      "[309]\tvalidation_0-rmse:0.00149\n",
      "[310]\tvalidation_0-rmse:0.00149\n",
      "[311]\tvalidation_0-rmse:0.00149\n",
      "[312]\tvalidation_0-rmse:0.00149\n",
      "[313]\tvalidation_0-rmse:0.00149\n",
      "[314]\tvalidation_0-rmse:0.00149\n",
      "[315]\tvalidation_0-rmse:0.00149\n",
      "[316]\tvalidation_0-rmse:0.00149\n",
      "[317]\tvalidation_0-rmse:0.00149\n",
      "[318]\tvalidation_0-rmse:0.00149\n",
      "[319]\tvalidation_0-rmse:0.00149\n",
      "[320]\tvalidation_0-rmse:0.00149\n",
      "[321]\tvalidation_0-rmse:0.00149\n",
      "[322]\tvalidation_0-rmse:0.00149\n",
      "[323]\tvalidation_0-rmse:0.00149\n",
      "[324]\tvalidation_0-rmse:0.00149\n",
      "[325]\tvalidation_0-rmse:0.00149\n",
      "[326]\tvalidation_0-rmse:0.00149\n",
      "[327]\tvalidation_0-rmse:0.00149\n",
      "[328]\tvalidation_0-rmse:0.00149\n",
      "[329]\tvalidation_0-rmse:0.00149\n",
      "[330]\tvalidation_0-rmse:0.00149\n",
      "[331]\tvalidation_0-rmse:0.00149\n",
      "[332]\tvalidation_0-rmse:0.00149\n",
      "[333]\tvalidation_0-rmse:0.00149\n",
      "[334]\tvalidation_0-rmse:0.00149\n",
      "[335]\tvalidation_0-rmse:0.00149\n",
      "[336]\tvalidation_0-rmse:0.00149\n",
      "[337]\tvalidation_0-rmse:0.00149\n",
      "[338]\tvalidation_0-rmse:0.00149\n",
      "[339]\tvalidation_0-rmse:0.00148\n",
      "[340]\tvalidation_0-rmse:0.00148\n",
      "[341]\tvalidation_0-rmse:0.00148\n",
      "[342]\tvalidation_0-rmse:0.00148\n",
      "[343]\tvalidation_0-rmse:0.00148\n",
      "[344]\tvalidation_0-rmse:0.00148\n",
      "[345]\tvalidation_0-rmse:0.00148\n",
      "[346]\tvalidation_0-rmse:0.00148\n",
      "[347]\tvalidation_0-rmse:0.00148\n",
      "[348]\tvalidation_0-rmse:0.00148\n",
      "[349]\tvalidation_0-rmse:0.00148\n",
      "[350]\tvalidation_0-rmse:0.00148\n",
      "[351]\tvalidation_0-rmse:0.00148\n",
      "[352]\tvalidation_0-rmse:0.00148\n",
      "[353]\tvalidation_0-rmse:0.00148\n",
      "[354]\tvalidation_0-rmse:0.00148\n",
      "[355]\tvalidation_0-rmse:0.00148\n",
      "[356]\tvalidation_0-rmse:0.00148\n",
      "[357]\tvalidation_0-rmse:0.00148\n",
      "[358]\tvalidation_0-rmse:0.00148\n",
      "[359]\tvalidation_0-rmse:0.00148\n",
      "[360]\tvalidation_0-rmse:0.00148\n",
      "[361]\tvalidation_0-rmse:0.00148\n",
      "[362]\tvalidation_0-rmse:0.00148\n",
      "[363]\tvalidation_0-rmse:0.00148\n",
      "[364]\tvalidation_0-rmse:0.00148\n",
      "[365]\tvalidation_0-rmse:0.00148\n",
      "[366]\tvalidation_0-rmse:0.00148\n",
      "[367]\tvalidation_0-rmse:0.00148\n",
      "[368]\tvalidation_0-rmse:0.00148\n",
      "[369]\tvalidation_0-rmse:0.00148\n",
      "[370]\tvalidation_0-rmse:0.00148\n",
      "[371]\tvalidation_0-rmse:0.00148\n",
      "[372]\tvalidation_0-rmse:0.00148\n",
      "[373]\tvalidation_0-rmse:0.00148\n",
      "[374]\tvalidation_0-rmse:0.00148\n",
      "[375]\tvalidation_0-rmse:0.00148\n",
      "[376]\tvalidation_0-rmse:0.00148\n",
      "[377]\tvalidation_0-rmse:0.00148\n",
      "[378]\tvalidation_0-rmse:0.00148\n",
      "[379]\tvalidation_0-rmse:0.00148\n",
      "[380]\tvalidation_0-rmse:0.00148\n",
      "[381]\tvalidation_0-rmse:0.00148\n",
      "[382]\tvalidation_0-rmse:0.00148\n",
      "[383]\tvalidation_0-rmse:0.00148\n",
      "[384]\tvalidation_0-rmse:0.00148\n",
      "[385]\tvalidation_0-rmse:0.00148\n",
      "[386]\tvalidation_0-rmse:0.00148\n",
      "[387]\tvalidation_0-rmse:0.00148\n",
      "[388]\tvalidation_0-rmse:0.00148\n",
      "[389]\tvalidation_0-rmse:0.00148\n",
      "[390]\tvalidation_0-rmse:0.00148\n",
      "[391]\tvalidation_0-rmse:0.00148\n",
      "[392]\tvalidation_0-rmse:0.00148\n",
      "[393]\tvalidation_0-rmse:0.00148\n",
      "[394]\tvalidation_0-rmse:0.00148\n",
      "[395]\tvalidation_0-rmse:0.00148\n",
      "[396]\tvalidation_0-rmse:0.00148\n",
      "[397]\tvalidation_0-rmse:0.00148\n",
      "[398]\tvalidation_0-rmse:0.00148\n",
      "[399]\tvalidation_0-rmse:0.00148\n",
      "[400]\tvalidation_0-rmse:0.00148\n",
      "[401]\tvalidation_0-rmse:0.00148\n",
      "[402]\tvalidation_0-rmse:0.00148\n",
      "[403]\tvalidation_0-rmse:0.00148\n",
      "[404]\tvalidation_0-rmse:0.00148\n",
      "[405]\tvalidation_0-rmse:0.00148\n",
      "[406]\tvalidation_0-rmse:0.00148\n",
      "[407]\tvalidation_0-rmse:0.00148\n",
      "[408]\tvalidation_0-rmse:0.00148\n",
      "[409]\tvalidation_0-rmse:0.00148\n",
      "[410]\tvalidation_0-rmse:0.00148\n",
      "[411]\tvalidation_0-rmse:0.00148\n",
      "[412]\tvalidation_0-rmse:0.00148\n",
      "[413]\tvalidation_0-rmse:0.00148\n",
      "[414]\tvalidation_0-rmse:0.00148\n",
      "[415]\tvalidation_0-rmse:0.00148\n",
      "[416]\tvalidation_0-rmse:0.00148\n",
      "[417]\tvalidation_0-rmse:0.00148\n",
      "[418]\tvalidation_0-rmse:0.00148\n",
      "[419]\tvalidation_0-rmse:0.00148\n",
      "[420]\tvalidation_0-rmse:0.00148\n",
      "[421]\tvalidation_0-rmse:0.00148\n",
      "[422]\tvalidation_0-rmse:0.00148\n",
      "[423]\tvalidation_0-rmse:0.00148\n",
      "[424]\tvalidation_0-rmse:0.00148\n",
      "[425]\tvalidation_0-rmse:0.00148\n",
      "[426]\tvalidation_0-rmse:0.00148\n",
      "[427]\tvalidation_0-rmse:0.00148\n",
      "[428]\tvalidation_0-rmse:0.00148\n",
      "[429]\tvalidation_0-rmse:0.00148\n",
      "[430]\tvalidation_0-rmse:0.00148\n",
      "[431]\tvalidation_0-rmse:0.00148\n",
      "[432]\tvalidation_0-rmse:0.00148\n",
      "[433]\tvalidation_0-rmse:0.00148\n",
      "[434]\tvalidation_0-rmse:0.00148\n",
      "[435]\tvalidation_0-rmse:0.00148\n",
      "[436]\tvalidation_0-rmse:0.00148\n",
      "[437]\tvalidation_0-rmse:0.00148\n",
      "[438]\tvalidation_0-rmse:0.00148\n",
      "[439]\tvalidation_0-rmse:0.00148\n",
      "[440]\tvalidation_0-rmse:0.00148\n",
      "[441]\tvalidation_0-rmse:0.00148\n",
      "[442]\tvalidation_0-rmse:0.00148\n",
      "[443]\tvalidation_0-rmse:0.00148\n",
      "[444]\tvalidation_0-rmse:0.00148\n",
      "[445]\tvalidation_0-rmse:0.00148\n",
      "[446]\tvalidation_0-rmse:0.00148\n",
      "[447]\tvalidation_0-rmse:0.00148\n",
      "[448]\tvalidation_0-rmse:0.00148\n",
      "[449]\tvalidation_0-rmse:0.00148\n",
      "[450]\tvalidation_0-rmse:0.00148\n",
      "[451]\tvalidation_0-rmse:0.00148\n",
      "[452]\tvalidation_0-rmse:0.00148\n",
      "[453]\tvalidation_0-rmse:0.00148\n",
      "[454]\tvalidation_0-rmse:0.00148\n",
      "[455]\tvalidation_0-rmse:0.00148\n",
      "[456]\tvalidation_0-rmse:0.00148\n",
      "[457]\tvalidation_0-rmse:0.00148\n",
      "[458]\tvalidation_0-rmse:0.00148\n",
      "[459]\tvalidation_0-rmse:0.00148\n",
      "[460]\tvalidation_0-rmse:0.00148\n",
      "[461]\tvalidation_0-rmse:0.00148\n",
      "[462]\tvalidation_0-rmse:0.00148\n",
      "[463]\tvalidation_0-rmse:0.00148\n",
      "[464]\tvalidation_0-rmse:0.00148\n",
      "[465]\tvalidation_0-rmse:0.00148\n",
      "[466]\tvalidation_0-rmse:0.00148\n",
      "[467]\tvalidation_0-rmse:0.00148\n",
      "[468]\tvalidation_0-rmse:0.00148\n",
      "[469]\tvalidation_0-rmse:0.00148\n",
      "[470]\tvalidation_0-rmse:0.00148\n",
      "[471]\tvalidation_0-rmse:0.00148\n",
      "[472]\tvalidation_0-rmse:0.00148\n",
      "[473]\tvalidation_0-rmse:0.00148\n",
      "[474]\tvalidation_0-rmse:0.00148\n",
      "[475]\tvalidation_0-rmse:0.00148\n",
      "[476]\tvalidation_0-rmse:0.00148\n",
      "[477]\tvalidation_0-rmse:0.00148\n",
      "[478]\tvalidation_0-rmse:0.00148\n",
      "[479]\tvalidation_0-rmse:0.00148\n",
      "[480]\tvalidation_0-rmse:0.00148\n",
      "[481]\tvalidation_0-rmse:0.00148\n",
      "[482]\tvalidation_0-rmse:0.00148\n",
      "[483]\tvalidation_0-rmse:0.00148\n",
      "[484]\tvalidation_0-rmse:0.00148\n",
      "[485]\tvalidation_0-rmse:0.00148\n",
      "[486]\tvalidation_0-rmse:0.00148\n",
      "[487]\tvalidation_0-rmse:0.00148\n",
      "[488]\tvalidation_0-rmse:0.00148\n",
      "[489]\tvalidation_0-rmse:0.00148\n",
      "[490]\tvalidation_0-rmse:0.00148\n",
      "[491]\tvalidation_0-rmse:0.00148\n",
      "[492]\tvalidation_0-rmse:0.00148\n",
      "[493]\tvalidation_0-rmse:0.00148\n",
      "[494]\tvalidation_0-rmse:0.00148\n",
      "[495]\tvalidation_0-rmse:0.00148\n",
      "[496]\tvalidation_0-rmse:0.00148\n",
      "[497]\tvalidation_0-rmse:0.00148\n",
      "[498]\tvalidation_0-rmse:0.00148\n",
      "[499]\tvalidation_0-rmse:0.00148\n",
      "[500]\tvalidation_0-rmse:0.00148\n",
      "[501]\tvalidation_0-rmse:0.00148\n",
      "[502]\tvalidation_0-rmse:0.00148\n",
      "[503]\tvalidation_0-rmse:0.00148\n",
      "[504]\tvalidation_0-rmse:0.00148\n",
      "[505]\tvalidation_0-rmse:0.00148\n",
      "[506]\tvalidation_0-rmse:0.00148\n",
      "[507]\tvalidation_0-rmse:0.00148\n",
      "[508]\tvalidation_0-rmse:0.00148\n",
      "[509]\tvalidation_0-rmse:0.00148\n",
      "[510]\tvalidation_0-rmse:0.00148\n",
      "[511]\tvalidation_0-rmse:0.00148\n",
      "[512]\tvalidation_0-rmse:0.00148\n",
      "[513]\tvalidation_0-rmse:0.00148\n",
      "[514]\tvalidation_0-rmse:0.00148\n",
      "[515]\tvalidation_0-rmse:0.00148\n",
      "[516]\tvalidation_0-rmse:0.00148\n",
      "[517]\tvalidation_0-rmse:0.00148\n",
      "[518]\tvalidation_0-rmse:0.00148\n",
      "[519]\tvalidation_0-rmse:0.00148\n",
      "[520]\tvalidation_0-rmse:0.00148\n",
      "[521]\tvalidation_0-rmse:0.00148\n",
      "[522]\tvalidation_0-rmse:0.00148\n",
      "[523]\tvalidation_0-rmse:0.00148\n",
      "[524]\tvalidation_0-rmse:0.00148\n",
      "[525]\tvalidation_0-rmse:0.00148\n",
      "[526]\tvalidation_0-rmse:0.00148\n",
      "[527]\tvalidation_0-rmse:0.00148\n",
      "[528]\tvalidation_0-rmse:0.00148\n",
      "[529]\tvalidation_0-rmse:0.00148\n",
      "[530]\tvalidation_0-rmse:0.00148\n",
      "[531]\tvalidation_0-rmse:0.00148\n",
      "[532]\tvalidation_0-rmse:0.00148\n",
      "[533]\tvalidation_0-rmse:0.00148\n",
      "[534]\tvalidation_0-rmse:0.00148\n",
      "[535]\tvalidation_0-rmse:0.00148\n",
      "[536]\tvalidation_0-rmse:0.00148\n",
      "[537]\tvalidation_0-rmse:0.00148\n",
      "[538]\tvalidation_0-rmse:0.00148\n",
      "[539]\tvalidation_0-rmse:0.00148\n",
      "[540]\tvalidation_0-rmse:0.00148\n",
      "[541]\tvalidation_0-rmse:0.00148\n",
      "[542]\tvalidation_0-rmse:0.00148\n",
      "[543]\tvalidation_0-rmse:0.00148\n",
      "[544]\tvalidation_0-rmse:0.00148\n",
      "[545]\tvalidation_0-rmse:0.00148\n",
      "[546]\tvalidation_0-rmse:0.00148\n",
      "[547]\tvalidation_0-rmse:0.00148\n",
      "[548]\tvalidation_0-rmse:0.00148\n",
      "[549]\tvalidation_0-rmse:0.00148\n",
      "[550]\tvalidation_0-rmse:0.00148\n",
      "[551]\tvalidation_0-rmse:0.00148\n",
      "[552]\tvalidation_0-rmse:0.00148\n",
      "[553]\tvalidation_0-rmse:0.00148\n",
      "[554]\tvalidation_0-rmse:0.00148\n",
      "[555]\tvalidation_0-rmse:0.00148\n",
      "[556]\tvalidation_0-rmse:0.00148\n",
      "[557]\tvalidation_0-rmse:0.00148\n",
      "[558]\tvalidation_0-rmse:0.00148\n",
      "[559]\tvalidation_0-rmse:0.00148\n",
      "[560]\tvalidation_0-rmse:0.00148\n",
      "[561]\tvalidation_0-rmse:0.00148\n",
      "[562]\tvalidation_0-rmse:0.00148\n",
      "[563]\tvalidation_0-rmse:0.00148\n",
      "[564]\tvalidation_0-rmse:0.00148\n",
      "[565]\tvalidation_0-rmse:0.00148\n",
      "[566]\tvalidation_0-rmse:0.00148\n",
      "[567]\tvalidation_0-rmse:0.00148\n",
      "[568]\tvalidation_0-rmse:0.00148\n",
      "[569]\tvalidation_0-rmse:0.00148\n",
      "[570]\tvalidation_0-rmse:0.00148\n",
      "[571]\tvalidation_0-rmse:0.00148\n",
      "[572]\tvalidation_0-rmse:0.00148\n",
      "[573]\tvalidation_0-rmse:0.00148\n",
      "[574]\tvalidation_0-rmse:0.00148\n",
      "[575]\tvalidation_0-rmse:0.00148\n",
      "[576]\tvalidation_0-rmse:0.00148\n",
      "[577]\tvalidation_0-rmse:0.00148\n",
      "[578]\tvalidation_0-rmse:0.00148\n",
      "[579]\tvalidation_0-rmse:0.00148\n",
      "[580]\tvalidation_0-rmse:0.00148\n",
      "[581]\tvalidation_0-rmse:0.00148\n",
      "[582]\tvalidation_0-rmse:0.00148\n",
      "[583]\tvalidation_0-rmse:0.00148\n",
      "[584]\tvalidation_0-rmse:0.00148\n",
      "[585]\tvalidation_0-rmse:0.00148\n",
      "[586]\tvalidation_0-rmse:0.00148\n",
      "[587]\tvalidation_0-rmse:0.00148\n",
      "[588]\tvalidation_0-rmse:0.00148\n",
      "[589]\tvalidation_0-rmse:0.00148\n",
      "[590]\tvalidation_0-rmse:0.00148\n",
      "[591]\tvalidation_0-rmse:0.00148\n",
      "[592]\tvalidation_0-rmse:0.00148\n",
      "[593]\tvalidation_0-rmse:0.00148\n",
      "[594]\tvalidation_0-rmse:0.00148\n",
      "[595]\tvalidation_0-rmse:0.00148\n",
      "[596]\tvalidation_0-rmse:0.00148\n",
      "[597]\tvalidation_0-rmse:0.00148\n",
      "[598]\tvalidation_0-rmse:0.00148\n",
      "[599]\tvalidation_0-rmse:0.00148\n",
      "[600]\tvalidation_0-rmse:0.00148\n",
      "[601]\tvalidation_0-rmse:0.00148\n",
      "[602]\tvalidation_0-rmse:0.00148\n",
      "[603]\tvalidation_0-rmse:0.00148\n",
      "[604]\tvalidation_0-rmse:0.00148\n",
      "[605]\tvalidation_0-rmse:0.00148\n",
      "[606]\tvalidation_0-rmse:0.00148\n",
      "[607]\tvalidation_0-rmse:0.00148\n",
      "[608]\tvalidation_0-rmse:0.00148\n",
      "[609]\tvalidation_0-rmse:0.00148\n",
      "[610]\tvalidation_0-rmse:0.00148\n",
      "[611]\tvalidation_0-rmse:0.00148\n",
      "[612]\tvalidation_0-rmse:0.00148\n",
      "[613]\tvalidation_0-rmse:0.00148\n",
      "[614]\tvalidation_0-rmse:0.00148\n",
      "[615]\tvalidation_0-rmse:0.00148\n",
      "[616]\tvalidation_0-rmse:0.00148\n",
      "[617]\tvalidation_0-rmse:0.00148\n",
      "[618]\tvalidation_0-rmse:0.00148\n",
      "[619]\tvalidation_0-rmse:0.00148\n",
      "[620]\tvalidation_0-rmse:0.00148\n",
      "[621]\tvalidation_0-rmse:0.00148\n",
      "[622]\tvalidation_0-rmse:0.00148\n",
      "[623]\tvalidation_0-rmse:0.00148\n",
      "[624]\tvalidation_0-rmse:0.00148\n",
      "[625]\tvalidation_0-rmse:0.00148\n",
      "[626]\tvalidation_0-rmse:0.00148\n",
      "[627]\tvalidation_0-rmse:0.00148\n",
      "[628]\tvalidation_0-rmse:0.00148\n",
      "[629]\tvalidation_0-rmse:0.00148\n",
      "[630]\tvalidation_0-rmse:0.00148\n",
      "[631]\tvalidation_0-rmse:0.00148\n",
      "[632]\tvalidation_0-rmse:0.00148\n",
      "[633]\tvalidation_0-rmse:0.00148\n",
      "[634]\tvalidation_0-rmse:0.00148\n",
      "[635]\tvalidation_0-rmse:0.00148\n",
      "[636]\tvalidation_0-rmse:0.00148\n",
      "[637]\tvalidation_0-rmse:0.00148\n",
      "[638]\tvalidation_0-rmse:0.00148\n",
      "[639]\tvalidation_0-rmse:0.00148\n",
      "[640]\tvalidation_0-rmse:0.00148\n",
      "[641]\tvalidation_0-rmse:0.00148\n",
      "[642]\tvalidation_0-rmse:0.00148\n",
      "[643]\tvalidation_0-rmse:0.00148\n",
      "[644]\tvalidation_0-rmse:0.00148\n",
      "[645]\tvalidation_0-rmse:0.00148\n",
      "[646]\tvalidation_0-rmse:0.00148\n",
      "[647]\tvalidation_0-rmse:0.00148\n",
      "[648]\tvalidation_0-rmse:0.00148\n",
      "[649]\tvalidation_0-rmse:0.00148\n",
      "[650]\tvalidation_0-rmse:0.00148\n",
      "[651]\tvalidation_0-rmse:0.00148\n",
      "[652]\tvalidation_0-rmse:0.00148\n",
      "[653]\tvalidation_0-rmse:0.00148\n",
      "[654]\tvalidation_0-rmse:0.00148\n",
      "[655]\tvalidation_0-rmse:0.00148\n",
      "[656]\tvalidation_0-rmse:0.00148\n",
      "[657]\tvalidation_0-rmse:0.00148\n",
      "[658]\tvalidation_0-rmse:0.00148\n",
      "[659]\tvalidation_0-rmse:0.00148\n",
      "[660]\tvalidation_0-rmse:0.00148\n",
      "[661]\tvalidation_0-rmse:0.00148\n",
      "[662]\tvalidation_0-rmse:0.00148\n",
      "[663]\tvalidation_0-rmse:0.00148\n",
      "[664]\tvalidation_0-rmse:0.00148\n",
      "[665]\tvalidation_0-rmse:0.00148\n",
      "[666]\tvalidation_0-rmse:0.00148\n",
      "[667]\tvalidation_0-rmse:0.00148\n",
      "[668]\tvalidation_0-rmse:0.00148\n",
      "[669]\tvalidation_0-rmse:0.00148\n",
      "[670]\tvalidation_0-rmse:0.00148\n",
      "[671]\tvalidation_0-rmse:0.00148\n",
      "[672]\tvalidation_0-rmse:0.00148\n",
      "[673]\tvalidation_0-rmse:0.00148\n",
      "[674]\tvalidation_0-rmse:0.00148\n",
      "[675]\tvalidation_0-rmse:0.00148\n",
      "[676]\tvalidation_0-rmse:0.00148\n",
      "[677]\tvalidation_0-rmse:0.00148\n",
      "[678]\tvalidation_0-rmse:0.00148\n",
      "[679]\tvalidation_0-rmse:0.00148\n",
      "[680]\tvalidation_0-rmse:0.00148\n",
      "[681]\tvalidation_0-rmse:0.00148\n",
      "[682]\tvalidation_0-rmse:0.00148\n",
      "[683]\tvalidation_0-rmse:0.00148\n",
      "[684]\tvalidation_0-rmse:0.00148\n",
      "[685]\tvalidation_0-rmse:0.00148\n",
      "[686]\tvalidation_0-rmse:0.00148\n",
      "[687]\tvalidation_0-rmse:0.00148\n",
      "[688]\tvalidation_0-rmse:0.00148\n",
      "[689]\tvalidation_0-rmse:0.00148\n",
      "[690]\tvalidation_0-rmse:0.00148\n",
      "[691]\tvalidation_0-rmse:0.00148\n",
      "[692]\tvalidation_0-rmse:0.00148\n",
      "[693]\tvalidation_0-rmse:0.00148\n",
      "[694]\tvalidation_0-rmse:0.00148\n",
      "[695]\tvalidation_0-rmse:0.00149\n",
      "[696]\tvalidation_0-rmse:0.00149\n",
      "[697]\tvalidation_0-rmse:0.00149\n",
      "[698]\tvalidation_0-rmse:0.00149\n",
      "[699]\tvalidation_0-rmse:0.00149\n",
      "[700]\tvalidation_0-rmse:0.00149\n",
      "[701]\tvalidation_0-rmse:0.00149\n",
      "[702]\tvalidation_0-rmse:0.00149\n",
      "[703]\tvalidation_0-rmse:0.00149\n",
      "[704]\tvalidation_0-rmse:0.00149\n",
      "[705]\tvalidation_0-rmse:0.00149\n",
      "[706]\tvalidation_0-rmse:0.00149\n",
      "[707]\tvalidation_0-rmse:0.00149\n",
      "[708]\tvalidation_0-rmse:0.00149\n",
      "[709]\tvalidation_0-rmse:0.00149\n",
      "[710]\tvalidation_0-rmse:0.00149\n",
      "[711]\tvalidation_0-rmse:0.00149\n",
      "[712]\tvalidation_0-rmse:0.00149\n",
      "[713]\tvalidation_0-rmse:0.00149\n",
      "[714]\tvalidation_0-rmse:0.00149\n",
      "[715]\tvalidation_0-rmse:0.00149\n",
      "[716]\tvalidation_0-rmse:0.00149\n",
      "[717]\tvalidation_0-rmse:0.00149\n",
      "[718]\tvalidation_0-rmse:0.00149\n",
      "[719]\tvalidation_0-rmse:0.00149\n",
      "[720]\tvalidation_0-rmse:0.00149\n",
      "[721]\tvalidation_0-rmse:0.00149\n",
      "[722]\tvalidation_0-rmse:0.00149\n",
      "[723]\tvalidation_0-rmse:0.00149\n",
      "[724]\tvalidation_0-rmse:0.00149\n",
      "[725]\tvalidation_0-rmse:0.00149\n",
      "[726]\tvalidation_0-rmse:0.00149\n",
      "[727]\tvalidation_0-rmse:0.00149\n",
      "[728]\tvalidation_0-rmse:0.00149\n",
      "[729]\tvalidation_0-rmse:0.00149\n",
      "[730]\tvalidation_0-rmse:0.00149\n",
      "[731]\tvalidation_0-rmse:0.00149\n",
      "[732]\tvalidation_0-rmse:0.00149\n",
      "[733]\tvalidation_0-rmse:0.00149\n",
      "[734]\tvalidation_0-rmse:0.00149\n",
      "[735]\tvalidation_0-rmse:0.00149\n",
      "[736]\tvalidation_0-rmse:0.00149\n",
      "[737]\tvalidation_0-rmse:0.00149\n",
      "[738]\tvalidation_0-rmse:0.00149\n",
      "[739]\tvalidation_0-rmse:0.00149\n",
      "[740]\tvalidation_0-rmse:0.00149\n",
      "[741]\tvalidation_0-rmse:0.00149\n",
      "[742]\tvalidation_0-rmse:0.00149\n",
      "[743]\tvalidation_0-rmse:0.00149\n",
      "[744]\tvalidation_0-rmse:0.00149\n",
      "[745]\tvalidation_0-rmse:0.00149\n",
      "[746]\tvalidation_0-rmse:0.00149\n",
      "[747]\tvalidation_0-rmse:0.00149\n",
      "[748]\tvalidation_0-rmse:0.00149\n",
      "[749]\tvalidation_0-rmse:0.00149\n",
      "[750]\tvalidation_0-rmse:0.00149\n",
      "[751]\tvalidation_0-rmse:0.00149\n",
      "[752]\tvalidation_0-rmse:0.00149\n",
      "[753]\tvalidation_0-rmse:0.00149\n",
      "[754]\tvalidation_0-rmse:0.00149\n",
      "[755]\tvalidation_0-rmse:0.00149\n",
      "[756]\tvalidation_0-rmse:0.00149\n",
      "[757]\tvalidation_0-rmse:0.00149\n",
      "[758]\tvalidation_0-rmse:0.00149\n",
      "[759]\tvalidation_0-rmse:0.00149\n",
      "[760]\tvalidation_0-rmse:0.00149\n",
      "[761]\tvalidation_0-rmse:0.00149\n",
      "[762]\tvalidation_0-rmse:0.00149\n",
      "[763]\tvalidation_0-rmse:0.00149\n",
      "[764]\tvalidation_0-rmse:0.00149\n",
      "[765]\tvalidation_0-rmse:0.00149\n",
      "[766]\tvalidation_0-rmse:0.00149\n",
      "[767]\tvalidation_0-rmse:0.00149\n",
      "[768]\tvalidation_0-rmse:0.00149\n",
      "[769]\tvalidation_0-rmse:0.00149\n",
      "[770]\tvalidation_0-rmse:0.00149\n",
      "[771]\tvalidation_0-rmse:0.00149\n",
      "[772]\tvalidation_0-rmse:0.00149\n",
      "[773]\tvalidation_0-rmse:0.00149\n",
      "[774]\tvalidation_0-rmse:0.00149\n",
      "[775]\tvalidation_0-rmse:0.00149\n",
      "[776]\tvalidation_0-rmse:0.00149\n",
      "[777]\tvalidation_0-rmse:0.00149\n",
      "[778]\tvalidation_0-rmse:0.00149\n",
      "[779]\tvalidation_0-rmse:0.00149\n",
      "[780]\tvalidation_0-rmse:0.00149\n",
      "[781]\tvalidation_0-rmse:0.00149\n",
      "[782]\tvalidation_0-rmse:0.00149\n",
      "[783]\tvalidation_0-rmse:0.00149\n",
      "[784]\tvalidation_0-rmse:0.00149\n",
      "[785]\tvalidation_0-rmse:0.00149\n",
      "[786]\tvalidation_0-rmse:0.00149\n",
      "[787]\tvalidation_0-rmse:0.00149\n",
      "[788]\tvalidation_0-rmse:0.00149\n",
      "[789]\tvalidation_0-rmse:0.00149\n",
      "[790]\tvalidation_0-rmse:0.00149\n",
      "[791]\tvalidation_0-rmse:0.00149\n",
      "[792]\tvalidation_0-rmse:0.00149\n",
      "[793]\tvalidation_0-rmse:0.00149\n",
      "[794]\tvalidation_0-rmse:0.00149\n",
      "[795]\tvalidation_0-rmse:0.00149\n",
      "[796]\tvalidation_0-rmse:0.00149\n",
      "[797]\tvalidation_0-rmse:0.00149\n",
      "[798]\tvalidation_0-rmse:0.00149\n",
      "[799]\tvalidation_0-rmse:0.00149\n",
      "[800]\tvalidation_0-rmse:0.00149\n",
      "[801]\tvalidation_0-rmse:0.00149\n",
      "[802]\tvalidation_0-rmse:0.00149\n",
      "[803]\tvalidation_0-rmse:0.00149\n",
      "[804]\tvalidation_0-rmse:0.00149\n",
      "[805]\tvalidation_0-rmse:0.00149\n",
      "[806]\tvalidation_0-rmse:0.00149\n",
      "[807]\tvalidation_0-rmse:0.00149\n",
      "[808]\tvalidation_0-rmse:0.00149\n",
      "[809]\tvalidation_0-rmse:0.00149\n",
      "[810]\tvalidation_0-rmse:0.00149\n",
      "[811]\tvalidation_0-rmse:0.00149\n",
      "[812]\tvalidation_0-rmse:0.00149\n",
      "[813]\tvalidation_0-rmse:0.00149\n",
      "[814]\tvalidation_0-rmse:0.00149\n",
      "[815]\tvalidation_0-rmse:0.00149\n",
      "[816]\tvalidation_0-rmse:0.00149\n",
      "[817]\tvalidation_0-rmse:0.00149\n",
      "[818]\tvalidation_0-rmse:0.00149\n",
      "[819]\tvalidation_0-rmse:0.00149\n",
      "[820]\tvalidation_0-rmse:0.00149\n",
      "[821]\tvalidation_0-rmse:0.00149\n",
      "[822]\tvalidation_0-rmse:0.00149\n",
      "[823]\tvalidation_0-rmse:0.00149\n",
      "[824]\tvalidation_0-rmse:0.00149\n",
      "[825]\tvalidation_0-rmse:0.00149\n",
      "[826]\tvalidation_0-rmse:0.00149\n",
      "[827]\tvalidation_0-rmse:0.00149\n",
      "[828]\tvalidation_0-rmse:0.00149\n",
      "[829]\tvalidation_0-rmse:0.00149\n",
      "[830]\tvalidation_0-rmse:0.00149\n",
      "[831]\tvalidation_0-rmse:0.00149\n",
      "[832]\tvalidation_0-rmse:0.00149\n",
      "[833]\tvalidation_0-rmse:0.00149\n",
      "[834]\tvalidation_0-rmse:0.00149\n",
      "[835]\tvalidation_0-rmse:0.00149\n",
      "[836]\tvalidation_0-rmse:0.00149\n",
      "[837]\tvalidation_0-rmse:0.00149\n",
      "[838]\tvalidation_0-rmse:0.00149\n",
      "[839]\tvalidation_0-rmse:0.00149\n",
      "[840]\tvalidation_0-rmse:0.00149\n",
      "[841]\tvalidation_0-rmse:0.00149\n",
      "[842]\tvalidation_0-rmse:0.00149\n",
      "[843]\tvalidation_0-rmse:0.00149\n",
      "[844]\tvalidation_0-rmse:0.00149\n",
      "[845]\tvalidation_0-rmse:0.00149\n",
      "[846]\tvalidation_0-rmse:0.00149\n",
      "[847]\tvalidation_0-rmse:0.00149\n",
      "[848]\tvalidation_0-rmse:0.00149\n",
      "[849]\tvalidation_0-rmse:0.00149\n",
      "[850]\tvalidation_0-rmse:0.00149\n",
      "[851]\tvalidation_0-rmse:0.00149\n",
      "[852]\tvalidation_0-rmse:0.00149\n",
      "📊 MAE validación diciembre 2019 (modelo final): 0.001\n"
     ]
    }
   ],
   "source": [
    "# ⚙️ Entrenamiento final con los mejores hiperparámetros de Optuna\n",
    "import xgboost as xgb\n",
    "from sklearn.metrics import mean_absolute_error\n",
    "\n",
    "# 1. Extraer los mejores parámetros de Optuna y completarlos si hace falta\n",
    "params_optimos = study.best_params\n",
    "params_optimos.update({\n",
    "    'objective': 'reg:squarederror',\n",
    "    'tree_method': 'hist',\n",
    "    'random_state': 42\n",
    "})\n",
    "\n",
    "# 2. Entrenar modelo final\n",
    "modelo_final = xgb.XGBRegressor(**params_optimos)\n",
    "\n",
    "modelo_final.fit(\n",
    "    X_train, y_train,\n",
    "    sample_weight=w_train,\n",
    "    eval_set=[(X_val, y_val)],\n",
    "    #early_stopping_rounds=30,\n",
    "    verbose=True\n",
    ")\n",
    "\n",
    "# 3. Evaluar\n",
    "y_pred_final = modelo_final.predict(X_val)\n",
    "mae_final = mean_absolute_error(y_val, y_pred_final)\n",
    "print(f\"📊 MAE validación diciembre 2019 (modelo final): {mae_final:.3f}\")\n"
   ]
  },
  {
   "cell_type": "code",
   "execution_count": 14,
   "id": "83b3c978",
   "metadata": {},
   "outputs": [],
   "source": [
    "enero = enero.merge(df_2019_11[['product_id', 'tn']], on='product_id', how='left')\n",
    "enero.rename(columns={'tn': 'lag_2'}, inplace=True)\n"
   ]
  },
  {
   "cell_type": "code",
   "execution_count": 16,
   "id": "1d1554e8",
   "metadata": {},
   "outputs": [
    {
     "name": "stdout",
     "output_type": "stream",
     "text": [
      "Enero: (92, 114)\n",
      "Productos únicos en enero: 1\n",
      "Diciembre: (92, 114)\n",
      "Productos únicos en diciembre: 1\n",
      "Noviembre: (184, 114)\n",
      "Productos únicos en noviembre: 1\n",
      "Duplicados en df_2019_11: 183\n"
     ]
    }
   ],
   "source": [
    "print(\"Enero:\", enero.shape)\n",
    "print(\"Productos únicos en enero:\", enero['product_id'].nunique())\n",
    "\n",
    "print(\"Diciembre:\", df_2019_12.shape)\n",
    "print(\"Productos únicos en diciembre:\", df_2019_12['product_id'].nunique())\n",
    "\n",
    "print(\"Noviembre:\", df_2019_11.shape)\n",
    "print(\"Productos únicos en noviembre:\", df_2019_11['product_id'].nunique())\n",
    "\n",
    "print(\"Duplicados en df_2019_11:\", df_2019_11.duplicated('product_id').sum())\n"
   ]
  },
  {
   "cell_type": "code",
   "execution_count": 15,
   "id": "1698f9f5",
   "metadata": {},
   "outputs": [
    {
     "ename": "ValueError",
     "evalue": "Length of values (184) does not match length of index (92)",
     "output_type": "error",
     "traceback": [
      "\u001b[1;31m---------------------------------------------------------------------------\u001b[0m",
      "\u001b[1;31mValueError\u001b[0m                                Traceback (most recent call last)",
      "Cell \u001b[1;32mIn[15], line 12\u001b[0m\n\u001b[0;32m     10\u001b[0m enero[\u001b[38;5;124m'\u001b[39m\u001b[38;5;124mperiodo\u001b[39m\u001b[38;5;124m'\u001b[39m] \u001b[38;5;241m=\u001b[39m pd\u001b[38;5;241m.\u001b[39mto_datetime(\u001b[38;5;124m'\u001b[39m\u001b[38;5;124m2020-01-01\u001b[39m\u001b[38;5;124m'\u001b[39m)\n\u001b[0;32m     11\u001b[0m enero[\u001b[38;5;124m'\u001b[39m\u001b[38;5;124mlag_1\u001b[39m\u001b[38;5;124m'\u001b[39m] \u001b[38;5;241m=\u001b[39m df_2019_12[\u001b[38;5;124m'\u001b[39m\u001b[38;5;124mtn\u001b[39m\u001b[38;5;124m'\u001b[39m]\n\u001b[1;32m---> 12\u001b[0m \u001b[43menero\u001b[49m\u001b[43m[\u001b[49m\u001b[38;5;124;43m'\u001b[39;49m\u001b[38;5;124;43mlag_2\u001b[39;49m\u001b[38;5;124;43m'\u001b[39;49m\u001b[43m]\u001b[49m \u001b[38;5;241m=\u001b[39m df_2019_11[\u001b[38;5;124m'\u001b[39m\u001b[38;5;124mtn\u001b[39m\u001b[38;5;124m'\u001b[39m]\u001b[38;5;241m.\u001b[39mvalues\n\u001b[0;32m     13\u001b[0m enero[\u001b[38;5;124m'\u001b[39m\u001b[38;5;124mlag_3\u001b[39m\u001b[38;5;124m'\u001b[39m] \u001b[38;5;241m=\u001b[39m df_2019_10[\u001b[38;5;124m'\u001b[39m\u001b[38;5;124mtn\u001b[39m\u001b[38;5;124m'\u001b[39m]\u001b[38;5;241m.\u001b[39mvalues\n\u001b[0;32m     14\u001b[0m enero[\u001b[38;5;124m'\u001b[39m\u001b[38;5;124mmes\u001b[39m\u001b[38;5;124m'\u001b[39m] \u001b[38;5;241m=\u001b[39m \u001b[38;5;241m1\u001b[39m\n",
      "File \u001b[1;32mc:\\Users\\waldo\\miniconda3\\envs\\tslearn_env\\lib\\site-packages\\pandas\\core\\frame.py:4316\u001b[0m, in \u001b[0;36mDataFrame.__setitem__\u001b[1;34m(self, key, value)\u001b[0m\n\u001b[0;32m   4313\u001b[0m     \u001b[38;5;28mself\u001b[39m\u001b[38;5;241m.\u001b[39m_setitem_array([key], value)\n\u001b[0;32m   4314\u001b[0m \u001b[38;5;28;01melse\u001b[39;00m:\n\u001b[0;32m   4315\u001b[0m     \u001b[38;5;66;03m# set column\u001b[39;00m\n\u001b[1;32m-> 4316\u001b[0m     \u001b[38;5;28;43mself\u001b[39;49m\u001b[38;5;241;43m.\u001b[39;49m\u001b[43m_set_item\u001b[49m\u001b[43m(\u001b[49m\u001b[43mkey\u001b[49m\u001b[43m,\u001b[49m\u001b[43m \u001b[49m\u001b[43mvalue\u001b[49m\u001b[43m)\u001b[49m\n",
      "File \u001b[1;32mc:\\Users\\waldo\\miniconda3\\envs\\tslearn_env\\lib\\site-packages\\pandas\\core\\frame.py:4529\u001b[0m, in \u001b[0;36mDataFrame._set_item\u001b[1;34m(self, key, value)\u001b[0m\n\u001b[0;32m   4519\u001b[0m \u001b[38;5;28;01mdef\u001b[39;00m\u001b[38;5;250m \u001b[39m\u001b[38;5;21m_set_item\u001b[39m(\u001b[38;5;28mself\u001b[39m, key, value) \u001b[38;5;241m-\u001b[39m\u001b[38;5;241m>\u001b[39m \u001b[38;5;28;01mNone\u001b[39;00m:\n\u001b[0;32m   4520\u001b[0m \u001b[38;5;250m    \u001b[39m\u001b[38;5;124;03m\"\"\"\u001b[39;00m\n\u001b[0;32m   4521\u001b[0m \u001b[38;5;124;03m    Add series to DataFrame in specified column.\u001b[39;00m\n\u001b[0;32m   4522\u001b[0m \n\u001b[1;32m   (...)\u001b[0m\n\u001b[0;32m   4527\u001b[0m \u001b[38;5;124;03m    ensure homogeneity.\u001b[39;00m\n\u001b[0;32m   4528\u001b[0m \u001b[38;5;124;03m    \"\"\"\u001b[39;00m\n\u001b[1;32m-> 4529\u001b[0m     value, refs \u001b[38;5;241m=\u001b[39m \u001b[38;5;28;43mself\u001b[39;49m\u001b[38;5;241;43m.\u001b[39;49m\u001b[43m_sanitize_column\u001b[49m\u001b[43m(\u001b[49m\u001b[43mvalue\u001b[49m\u001b[43m)\u001b[49m\n\u001b[0;32m   4531\u001b[0m     \u001b[38;5;28;01mif\u001b[39;00m (\n\u001b[0;32m   4532\u001b[0m         key \u001b[38;5;129;01min\u001b[39;00m \u001b[38;5;28mself\u001b[39m\u001b[38;5;241m.\u001b[39mcolumns\n\u001b[0;32m   4533\u001b[0m         \u001b[38;5;129;01mand\u001b[39;00m value\u001b[38;5;241m.\u001b[39mndim \u001b[38;5;241m==\u001b[39m \u001b[38;5;241m1\u001b[39m\n\u001b[0;32m   4534\u001b[0m         \u001b[38;5;129;01mand\u001b[39;00m \u001b[38;5;129;01mnot\u001b[39;00m \u001b[38;5;28misinstance\u001b[39m(value\u001b[38;5;241m.\u001b[39mdtype, ExtensionDtype)\n\u001b[0;32m   4535\u001b[0m     ):\n\u001b[0;32m   4536\u001b[0m         \u001b[38;5;66;03m# broadcast across multiple columns if necessary\u001b[39;00m\n\u001b[0;32m   4537\u001b[0m         \u001b[38;5;28;01mif\u001b[39;00m \u001b[38;5;129;01mnot\u001b[39;00m \u001b[38;5;28mself\u001b[39m\u001b[38;5;241m.\u001b[39mcolumns\u001b[38;5;241m.\u001b[39mis_unique \u001b[38;5;129;01mor\u001b[39;00m \u001b[38;5;28misinstance\u001b[39m(\u001b[38;5;28mself\u001b[39m\u001b[38;5;241m.\u001b[39mcolumns, MultiIndex):\n",
      "File \u001b[1;32mc:\\Users\\waldo\\miniconda3\\envs\\tslearn_env\\lib\\site-packages\\pandas\\core\\frame.py:5273\u001b[0m, in \u001b[0;36mDataFrame._sanitize_column\u001b[1;34m(self, value)\u001b[0m\n\u001b[0;32m   5270\u001b[0m     \u001b[38;5;28;01mreturn\u001b[39;00m _reindex_for_setitem(value, \u001b[38;5;28mself\u001b[39m\u001b[38;5;241m.\u001b[39mindex)\n\u001b[0;32m   5272\u001b[0m \u001b[38;5;28;01mif\u001b[39;00m is_list_like(value):\n\u001b[1;32m-> 5273\u001b[0m     \u001b[43mcom\u001b[49m\u001b[38;5;241;43m.\u001b[39;49m\u001b[43mrequire_length_match\u001b[49m\u001b[43m(\u001b[49m\u001b[43mvalue\u001b[49m\u001b[43m,\u001b[49m\u001b[43m \u001b[49m\u001b[38;5;28;43mself\u001b[39;49m\u001b[38;5;241;43m.\u001b[39;49m\u001b[43mindex\u001b[49m\u001b[43m)\u001b[49m\n\u001b[0;32m   5274\u001b[0m arr \u001b[38;5;241m=\u001b[39m sanitize_array(value, \u001b[38;5;28mself\u001b[39m\u001b[38;5;241m.\u001b[39mindex, copy\u001b[38;5;241m=\u001b[39m\u001b[38;5;28;01mTrue\u001b[39;00m, allow_2d\u001b[38;5;241m=\u001b[39m\u001b[38;5;28;01mTrue\u001b[39;00m)\n\u001b[0;32m   5275\u001b[0m \u001b[38;5;28;01mif\u001b[39;00m (\n\u001b[0;32m   5276\u001b[0m     \u001b[38;5;28misinstance\u001b[39m(value, Index)\n\u001b[0;32m   5277\u001b[0m     \u001b[38;5;129;01mand\u001b[39;00m value\u001b[38;5;241m.\u001b[39mdtype \u001b[38;5;241m==\u001b[39m \u001b[38;5;124m\"\u001b[39m\u001b[38;5;124mobject\u001b[39m\u001b[38;5;124m\"\u001b[39m\n\u001b[1;32m   (...)\u001b[0m\n\u001b[0;32m   5280\u001b[0m     \u001b[38;5;66;03m# TODO: Remove kludge in sanitize_array for string mode when enforcing\u001b[39;00m\n\u001b[0;32m   5281\u001b[0m     \u001b[38;5;66;03m# this deprecation\u001b[39;00m\n",
      "File \u001b[1;32mc:\\Users\\waldo\\miniconda3\\envs\\tslearn_env\\lib\\site-packages\\pandas\\core\\common.py:573\u001b[0m, in \u001b[0;36mrequire_length_match\u001b[1;34m(data, index)\u001b[0m\n\u001b[0;32m    569\u001b[0m \u001b[38;5;250m\u001b[39m\u001b[38;5;124;03m\"\"\"\u001b[39;00m\n\u001b[0;32m    570\u001b[0m \u001b[38;5;124;03mCheck the length of data matches the length of the index.\u001b[39;00m\n\u001b[0;32m    571\u001b[0m \u001b[38;5;124;03m\"\"\"\u001b[39;00m\n\u001b[0;32m    572\u001b[0m \u001b[38;5;28;01mif\u001b[39;00m \u001b[38;5;28mlen\u001b[39m(data) \u001b[38;5;241m!=\u001b[39m \u001b[38;5;28mlen\u001b[39m(index):\n\u001b[1;32m--> 573\u001b[0m     \u001b[38;5;28;01mraise\u001b[39;00m \u001b[38;5;167;01mValueError\u001b[39;00m(\n\u001b[0;32m    574\u001b[0m         \u001b[38;5;124m\"\u001b[39m\u001b[38;5;124mLength of values \u001b[39m\u001b[38;5;124m\"\u001b[39m\n\u001b[0;32m    575\u001b[0m         \u001b[38;5;124mf\u001b[39m\u001b[38;5;124m\"\u001b[39m\u001b[38;5;124m(\u001b[39m\u001b[38;5;132;01m{\u001b[39;00m\u001b[38;5;28mlen\u001b[39m(data)\u001b[38;5;132;01m}\u001b[39;00m\u001b[38;5;124m) \u001b[39m\u001b[38;5;124m\"\u001b[39m\n\u001b[0;32m    576\u001b[0m         \u001b[38;5;124m\"\u001b[39m\u001b[38;5;124mdoes not match length of index \u001b[39m\u001b[38;5;124m\"\u001b[39m\n\u001b[0;32m    577\u001b[0m         \u001b[38;5;124mf\u001b[39m\u001b[38;5;124m\"\u001b[39m\u001b[38;5;124m(\u001b[39m\u001b[38;5;132;01m{\u001b[39;00m\u001b[38;5;28mlen\u001b[39m(index)\u001b[38;5;132;01m}\u001b[39;00m\u001b[38;5;124m)\u001b[39m\u001b[38;5;124m\"\u001b[39m\n\u001b[0;32m    578\u001b[0m     )\n",
      "\u001b[1;31mValueError\u001b[0m: Length of values (184) does not match length of index (92)"
     ]
    }
   ],
   "source": [
    "# 🔮 Predicción para enero y febrero 2020\n",
    "\n",
    "# 1. Obtener los datos de diciembre 2019 para generar lags\n",
    "df_2019_12 = df[df['periodo'] == '2019-12-01'].copy()\n",
    "df_2019_11 = df[df['periodo'] == '2019-11-01'].copy()\n",
    "df_2019_10 = df[df['periodo'] == '2019-10-01'].copy()\n",
    "\n",
    "# 2. Predicción enero 2020\n",
    "enero = df_2019_12.copy()\n",
    "enero['periodo'] = pd.to_datetime('2020-01-01')\n",
    "enero['lag_1'] = df_2019_12['tn']\n",
    "enero['lag_2'] = df_2019_11['tn'].values\n",
    "enero['lag_3'] = df_2019_10['tn'].values\n",
    "enero['mes'] = 1\n",
    "enero['mes_absoluto'] = df_2019_12['mes_absoluto'].max() + 1\n",
    "enero['cos_mes'] = np.cos(2 * np.pi * 1 / 12)\n",
    "\n",
    "X_enero = enero[X_val.columns]\n",
    "enero['tn_pred'] = modelo_final.predict(X_enero)\n",
    "\n",
    "# 3. Predicción febrero 2020\n",
    "febrero = enero.copy()\n",
    "febrero['periodo'] = pd.to_datetime('2020-02-01')\n",
    "febrero['lag_1'] = enero['tn_pred']\n",
    "febrero['lag_2'] = df_2019_12['tn'].values\n",
    "febrero['lag_3'] = df_2019_11['tn'].values\n",
    "febrero['mes'] = 2\n",
    "febrero['mes_absoluto'] += 1\n",
    "febrero['cos_mes'] = np.cos(2 * np.pi * 2 / 12)\n",
    "\n",
    "X_febrero = febrero[X_val.columns]\n",
    "febrero['tn_predicho'] = modelo_final.predict(X_febrero)\n",
    "\n",
    "# 4. Guardar resultados\n",
    "resultado = febrero[['product_id', 'tn_predicho']]\n",
    "resultado.to_csv(\"prediccion_febrero2020_xgb.csv\", index=False)\n",
    "print(\"✅ Archivo generado: prediccion_febrero2020_xgb.csv\")\n"
   ]
  },
  {
   "cell_type": "code",
   "execution_count": null,
   "id": "a9182278",
   "metadata": {},
   "outputs": [],
   "source": [
    "# 📦 Preparación del archivo de envío Kaggle\n",
    "\n",
    "# 1. Si tenés un archivo template de Kaggle, lo cargás así:\n",
    "# df_template = pd.read_csv(\"submission_template.csv\")\n",
    "# ids_kaggle = df_template['product_id']\n",
    "\n",
    "# Pero si no tenés un template y sólo querés asegurar un buen CSV:\n",
    "# 2. Asegurar que haya 1 fila por product_id (completar faltantes)\n",
    "todos_los_productos = df['product_id'].drop_duplicates()\n",
    "resultado_final = pd.DataFrame({'product_id': todos_los_productos})\n",
    "\n",
    "# 3. Merge con predicciones\n",
    "resultado = pd.read_csv(\"prediccion_febrero2020_xgb.csv\")\n",
    "resultado_final = resultado_final.merge(resultado, on='product_id', how='left')\n",
    "\n",
    "# 4. Si hay faltantes, imputarlos (opcional)\n",
    "# estrategia: 0 o media histórica del producto\n",
    "resultado_final['tn_predicho'] = resultado_final['tn_predicho'].fillna(0)\n",
    "\n",
    "# 5. Exportar CSV listo para envío\n",
    "resultado_final.to_csv(\"submission_kaggle_feb2020.csv\", index=False)\n",
    "print(\"📤 Archivo generado para Kaggle: submission_kaggle_feb2020.csv\")\n"
   ]
  },
  {
   "cell_type": "code",
   "execution_count": null,
   "id": "218e1101",
   "metadata": {},
   "outputs": [],
   "source": [
    "# 📈 Comparación TN real vs TN predicha para diciembre 2019\n",
    "import matplotlib.pyplot as plt\n",
    "import pandas as pd\n",
    "\n",
    "# Crear DataFrame de comparación\n",
    "df_eval = pd.DataFrame({\n",
    "    'product_id': X_val.index,\n",
    "    'tn_real': y_val,\n",
    "    'tn_predicha': y_pred_final\n",
    "})\n",
    "\n",
    "# Agrupar por producto si hay múltiples filas\n",
    "df_eval_grouped = df_eval.groupby('product_id').mean()\n",
    "\n",
    "# Graficar\n",
    "plt.figure(figsize=(8, 6))\n",
    "plt.scatter(df_eval_grouped['tn_real'], df_eval_grouped['tn_predicha'], alpha=0.5)\n",
    "plt.plot([0, df_eval_grouped['tn_real'].max()],\n",
    "         [0, df_eval_grouped['tn_real'].max()],\n",
    "         'r--', label='Ideal')\n",
    "\n",
    "plt.xlabel('TN real (diciembre 2019)')\n",
    "plt.ylabel('TN predicha')\n",
    "plt.title('Comparación por producto: TN real vs TN predicha')\n",
    "plt.legend()\n",
    "plt.grid(True)\n",
    "plt.tight_layout()\n",
    "plt.show()\n"
   ]
  },
  {
   "cell_type": "code",
   "execution_count": null,
   "id": "764ab1a1",
   "metadata": {},
   "outputs": [],
   "source": [
    "# 🕒 División antes de más transformación\n",
    "#df = df[df['periodo'] < '2020-01-01']  # o lo que corresponda al último mes del set\n"
   ]
  }
 ],
 "metadata": {
  "kernelspec": {
   "display_name": "tslearn_env",
   "language": "python",
   "name": "python3"
  },
  "language_info": {
   "codemirror_mode": {
    "name": "ipython",
    "version": 3
   },
   "file_extension": ".py",
   "mimetype": "text/x-python",
   "name": "python",
   "nbconvert_exporter": "python",
   "pygments_lexer": "ipython3",
   "version": "3.10.18"
  }
 },
 "nbformat": 4,
 "nbformat_minor": 5
}
