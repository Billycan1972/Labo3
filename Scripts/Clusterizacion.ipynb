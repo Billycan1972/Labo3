{
 "cells": [
  {
   "cell_type": "code",
   "execution_count": 1,
   "id": "58630587",
   "metadata": {},
   "outputs": [
    {
     "name": "stderr",
     "output_type": "stream",
     "text": [
      "c:\\Users\\waldo\\miniconda3\\envs\\tslearn_env\\lib\\site-packages\\tslearn\\bases\\bases.py:15: UserWarning: h5py not installed, hdf5 features will not be supported.\n",
      "Install h5py to use hdf5 features: http://docs.h5py.org/\n",
      "  warn(h5py_msg)\n",
      "c:\\Users\\waldo\\miniconda3\\envs\\tslearn_env\\lib\\site-packages\\sklearn\\utils\\deprecation.py:132: FutureWarning: 'force_all_finite' was renamed to 'ensure_all_finite' in 1.6 and will be removed in 1.8.\n",
      "  warnings.warn(\n",
      "c:\\Users\\waldo\\miniconda3\\envs\\tslearn_env\\lib\\site-packages\\sklearn\\utils\\deprecation.py:132: FutureWarning: 'force_all_finite' was renamed to 'ensure_all_finite' in 1.6 and will be removed in 1.8.\n",
      "  warnings.warn(\n",
      "c:\\Users\\waldo\\miniconda3\\envs\\tslearn_env\\lib\\site-packages\\sklearn\\utils\\deprecation.py:132: FutureWarning: 'force_all_finite' was renamed to 'ensure_all_finite' in 1.6 and will be removed in 1.8.\n",
      "  warnings.warn(\n",
      "c:\\Users\\waldo\\miniconda3\\envs\\tslearn_env\\lib\\site-packages\\sklearn\\utils\\deprecation.py:132: FutureWarning: 'force_all_finite' was renamed to 'ensure_all_finite' in 1.6 and will be removed in 1.8.\n",
      "  warnings.warn(\n"
     ]
    },
    {
     "name": "stdout",
     "output_type": "stream",
     "text": [
      "✅ Archivo 'dtw_clusters.csv' generado correctamente.\n"
     ]
    }
   ],
   "source": [
    "import pandas as pd\n",
    "import numpy as np\n",
    "from tslearn.clustering import TimeSeriesKMeans\n",
    "from tslearn.preprocessing import TimeSeriesScalerMeanVariance\n",
    "\n",
    "# 1. Cargar dataset\n",
    "df = pd.read_csv(\"sell-in.txt\", sep=\"\\t\")\n",
    "df['periodo'] = pd.to_datetime(df['periodo'], format='%Y%m')\n",
    "df = df.groupby(['product_id', 'periodo'])['tn'].sum().reset_index()\n",
    "\n",
    "# 2. Pivotear: cada fila es un producto, columnas = meses\n",
    "pivot = df.pivot(index='product_id', columns='periodo', values='tn').fillna(0)\n",
    "\n",
    "# 3. Formato para tslearn: array 3D (n_samples, n_timestamps, n_features)\n",
    "data_array = pivot.to_numpy()\n",
    "data_array = data_array[:, :, np.newaxis]  # agrega eje de \"features\"\n",
    "\n",
    "# 4. Normalización por producto\n",
    "scaler = TimeSeriesScalerMeanVariance()\n",
    "data_scaled = scaler.fit_transform(data_array)\n",
    "\n",
    "# 5. Clustering DTW\n",
    "n_clusters = 5\n",
    "model = TimeSeriesKMeans(n_clusters=n_clusters, metric=\"dtw\", random_state=42)\n",
    "labels = model.fit_predict(data_scaled)\n",
    "\n",
    "# 6. Guardar\n",
    "cluster_df = pd.DataFrame({'product_id': pivot.index, 'cluster': labels})\n",
    "cluster_df.to_csv(\"dtw_clusters.csv\", index=False)\n",
    "print(\"✅ Archivo 'dtw_clusters.csv' generado correctamente.\")\n"
   ]
  }
 ],
 "metadata": {
  "kernelspec": {
   "display_name": "tslearn_env",
   "language": "python",
   "name": "python3"
  },
  "language_info": {
   "codemirror_mode": {
    "name": "ipython",
    "version": 3
   },
   "file_extension": ".py",
   "mimetype": "text/x-python",
   "name": "python",
   "nbconvert_exporter": "python",
   "pygments_lexer": "ipython3",
   "version": "3.10.18"
  }
 },
 "nbformat": 4,
 "nbformat_minor": 5
}
