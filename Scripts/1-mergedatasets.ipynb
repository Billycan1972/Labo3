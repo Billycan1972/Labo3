{
 "cells": [
  {
   "cell_type": "code",
   "execution_count": 2,
   "id": "a6a9149d",
   "metadata": {},
   "outputs": [],
   "source": [
    "# Cargar archivos\n",
    "import pandas as pd\n",
    "df_sellin = pd.read_csv(\"sell-in.txt\", sep='\\t')\n",
    "df_prod = pd.read_csv(\"tb_productos.txt\", sep='\\t')\n",
    "df_stock = pd.read_csv(\"tb_stocks.txt\", sep='\\t')\n",
    "\n",
    "# Convertir periodo a datetime (si no lo hiciste antes)\n",
    "df_sellin['periodo'] = pd.to_datetime(df_sellin['periodo'], format='%Y%m')\n",
    "df_stock['periodo'] = pd.to_datetime(df_stock['periodo'], format='%Y%m')\n",
    "\n",
    "# Merge con productos (agrega info descriptiva)\n",
    "df_merged = df_sellin.merge(df_prod, on='product_id', how='left')\n",
    "\n",
    "# Merge con stock (opcional, si querés tener el stock por mes)\n",
    "df_merged = df_merged.merge(df_stock, on=['periodo', 'product_id'], how='left')\n",
    "\n"
   ]
  },
  {
   "cell_type": "code",
   "execution_count": 3,
   "id": "993ec6f0",
   "metadata": {},
   "outputs": [],
   "source": [
    "df_merged.to_csv(\"datos_finales.txt\", sep='\\t', index=False)\n"
   ]
  }
 ],
 "metadata": {
  "kernelspec": {
   "display_name": "nuevito",
   "language": "python",
   "name": "python3"
  },
  "language_info": {
   "codemirror_mode": {
    "name": "ipython",
    "version": 3
   },
   "file_extension": ".py",
   "mimetype": "text/x-python",
   "name": "python",
   "nbconvert_exporter": "python",
   "pygments_lexer": "ipython3",
   "version": "3.12.9"
  }
 },
 "nbformat": 4,
 "nbformat_minor": 5
}
