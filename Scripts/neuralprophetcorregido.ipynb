{
 "cells": [
  {
   "cell_type": "code",
   "execution_count": 1,
   "id": "4fe69508",
   "metadata": {},
   "outputs": [
    {
     "name": "stdout",
     "output_type": "stream",
     "text": [
      "✅ Archivo KAGGLE generado con 780 productos.\n"
     ]
    }
   ],
   "source": [
    "import pandas as pd\n",
    "\n",
    "# 1. Cargar predicciones originales\n",
    "df_pred = pd.read_csv(\"prediccion_feb2020_neuralprophet_CORREGIDO.csv\")\n",
    "\n",
    "# 2. Cargar dataset original\n",
    "df = pd.read_csv(\"datasetwg.csv\")\n",
    "\n",
    "# 3. Conjuntos de productos\n",
    "todos_los_productos = df['product_id'].unique()\n",
    "productos_predichos = df_pred['product_id'].unique()\n",
    "faltantes = sorted(list(set(todos_los_productos) - set(productos_predichos)))\n",
    "\n",
    "# 4. Completar con media de positivos\n",
    "completados = []\n",
    "for prod in faltantes:\n",
    "    positivos = df[(df['product_id'] == prod) & (df['tn'] > 0)]['tn']\n",
    "    media = positivos.mean() if not positivos.empty else 0.0\n",
    "    completados.append({'product_id': prod, 'tn_predicho': media})\n",
    "\n",
    "# 5. Concatenar, redondear, ordenar\n",
    "df_completados = pd.DataFrame(completados)\n",
    "df_final = pd.concat([df_pred, df_completados], ignore_index=True)\n",
    "df_final['tn_predicho'] = df_final['tn_predicho'].round(3)\n",
    "df_final = df_final.sort_values('product_id')\n",
    "\n",
    "# 6. Verificación y exportación\n",
    "assert df_final['product_id'].nunique() == 780, \"🚨 No hay 780 productos únicos\"\n",
    "df_final.to_csv(\"prediccion_feb2020_neuralprophet_KAGGLE.csv\", index=False)\n",
    "print(\"✅ Archivo KAGGLE generado con 780 productos.\")\n"
   ]
  }
 ],
 "metadata": {
  "kernelspec": {
   "display_name": "neuralprophet_env",
   "language": "python",
   "name": "python3"
  },
  "language_info": {
   "codemirror_mode": {
    "name": "ipython",
    "version": 3
   },
   "file_extension": ".py",
   "mimetype": "text/x-python",
   "name": "python",
   "nbconvert_exporter": "python",
   "pygments_lexer": "ipython3",
   "version": "3.10.18"
  }
 },
 "nbformat": 4,
 "nbformat_minor": 5
}
