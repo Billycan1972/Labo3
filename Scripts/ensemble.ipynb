{
 "cells": [
  {
   "cell_type": "code",
   "execution_count": null,
   "id": "9e19a9d5",
   "metadata": {},
   "outputs": [
    {
     "name": "stdout",
     "output_type": "stream",
     "text": [
      "Archivo guardado como predicciones_promediadas_para_kaggle.csv\n"
     ]
    }
   ],
   "source": [
    "import pandas as pd\n",
    "\n",
    "# Cargar archivos\n",
    "df1 = pd.read_csv(\"predicciones_febrero2020_porproducto3.csv\")\n",
    "df2 = pd.read_csv(\"predicciones_exp_07_lgb_v8.csv\")\n",
    "df3 = pd.read_csv(\"lgbm_predictions_median.csv\")\n",
    "\n",
    "\n",
    "# Renombrar columnas si es necesario para que coincidan\n",
    "df1.columns = [\"product_id\", \"tn_predicho\"]\n",
    "df2.columns = [\"product_id\", \"tn_predicho\"]\n",
    "df3.columns = [\"product_id\", \"tn_predicho\"]\n",
    "\n",
    "\n",
    "# Unir por product_id\n",
    "df_merge = df1.merge(df2, on=\"product_id\", suffixes=(\"_1\", \"_2\"))\n",
    "df_merge = df_merge.merge(df3, on=\"product_id\")\n",
    "df_merge.rename(columns={\"tn_predicho\": \"tn_predicho_3\"}, inplace=True)\n",
    "\n",
    "# Calcular promedio\n",
    "df_merge[\"tn_predicho\"] = df_merge[[\"tn_predicho_1\", \"tn_predicho_2\", \"tn_predicho_3\"]].mean(axis=1)\n",
    "\n",
    "# Seleccionar columnas finales\n",
    "df_final = df_merge[[\"product_id\", \"tn_predicho\"]]\n",
    "\n",
    "# Guardar archivo final\n",
    "df_final.to_csv(\"predicciones_promediadas_para_kaggle1.csv\", index=False)\n",
    "print(\"Archivo guardado como predicciones_promediadas_para_kaggle1.csv\")\n"
   ]
  },
  {
   "cell_type": "code",
   "execution_count": 4,
   "id": "791ee7bb",
   "metadata": {},
   "outputs": [
    {
     "name": "stdout",
     "output_type": "stream",
     "text": [
      "Archivo guardado como predicciones_promediadas_4modelos1.csv\n"
     ]
    }
   ],
   "source": [
    "import pandas as pd\n",
    "\n",
    "# Cargar archivos\n",
    "df1 = pd.read_csv(\"predicciones_febrero2020_porproducto3.csv\")\n",
    "df2 = pd.read_csv(\"predicciones_exp_07_lgb_v8_ensemble_3models.csv\")\n",
    "df3 = pd.read_csv(\"lgbm_predictions_median.csv\")\n",
    "df4 = pd.read_csv(\"lightgbm10FC.csv\")\n",
    "\n",
    "# Renombrar columnas para consistencia\n",
    "df1.columns = [\"product_id\", \"tn_predicho\"]\n",
    "df2.columns = [\"product_id\", \"tn_predicho\"]\n",
    "df3.columns = [\"product_id\", \"tn_predicho\"]\n",
    "df4.columns = [\"product_id\", \"tn_predicho\"]\n",
    "\n",
    "# Unir por product_id\n",
    "df_merge = df1.merge(df2, on=\"product_id\", suffixes=(\"_1\", \"_2\"))\n",
    "df_merge = df_merge.merge(df3, on=\"product_id\")\n",
    "df_merge.rename(columns={\"tn_predicho\": \"tn_predicho_3\"}, inplace=True)\n",
    "df_merge = df_merge.merge(df4, on=\"product_id\")\n",
    "df_merge.rename(columns={\"tn_predicho\": \"tn_predicho_4\"}, inplace=True)\n",
    "\n",
    "# Calcular promedio\n",
    "df_merge[\"tn_predicho\"] = df_merge[[\"tn_predicho_1\", \"tn_predicho_2\", \"tn_predicho_3\", \"tn_predicho_4\"]].mean(axis=1)\n",
    "\n",
    "# Seleccionar columnas finales\n",
    "df_final = df_merge[[\"product_id\", \"tn_predicho\"]]\n",
    "\n",
    "# Guardar archivo final\n",
    "df_final.to_csv(\"predicciones_promediadas_4modelos1.csv\", index=False)\n",
    "print(\"Archivo guardado como predicciones_promediadas_4modelos1.csv\")\n"
   ]
  },
  {
   "cell_type": "code",
   "execution_count": 5,
   "id": "88eaf5a3",
   "metadata": {},
   "outputs": [
    {
     "name": "stdout",
     "output_type": "stream",
     "text": [
      "Archivo guardado como predicciones_mediana_4modelos1.csv\n"
     ]
    }
   ],
   "source": [
    "import pandas as pd\n",
    "\n",
    "# Cargar archivos\n",
    "df1 = pd.read_csv(\"predicciones_febrero2020_porproducto3.csv\")\n",
    "df2 = pd.read_csv(\"predicciones_exp_07_lgb_v8_ensemble_3models.csv\")\n",
    "df3 = pd.read_csv(\"lgbm_predictions_median.csv\")\n",
    "df4 = pd.read_csv(\"lightgbm10FC.csv\")\n",
    "\n",
    "\n",
    "# Renombrar columnas para consistencia\n",
    "df1.columns = [\"product_id\", \"tn_predicho\"]\n",
    "df2.columns = [\"product_id\", \"tn_predicho\"]\n",
    "df3.columns = [\"product_id\", \"tn_predicho\"]\n",
    "df4.columns = [\"product_id\", \"tn_predicho\"]\n",
    "\n",
    "# Unir por product_id\n",
    "df_merge = df1.merge(df2, on=\"product_id\", suffixes=(\"_1\", \"_2\"))\n",
    "df_merge = df_merge.merge(df3, on=\"product_id\")\n",
    "df_merge.rename(columns={\"tn_predicho\": \"tn_predicho_3\"}, inplace=True)\n",
    "df_merge = df_merge.merge(df4, on=\"product_id\")\n",
    "df_merge.rename(columns={\"tn_predicho\": \"tn_predicho_4\"}, inplace=True)\n",
    "\n",
    "# Calcular mediana\n",
    "df_merge[\"tn_predicho\"] = df_merge[[\"tn_predicho_1\", \"tn_predicho_2\", \"tn_predicho_3\", \"tn_predicho_4\"]].median(axis=1)\n",
    "\n",
    "# Seleccionar columnas finales\n",
    "df_final = df_merge[[\"product_id\", \"tn_predicho\"]]\n",
    "\n",
    "# Guardar archivo final\n",
    "df_final.to_csv(\"predicciones_mediana_4modelos1.csv\", index=False)\n",
    "print(\"Archivo guardado como predicciones_mediana_4modelos1.csv\")\n"
   ]
  },
  {
   "cell_type": "code",
   "execution_count": 6,
   "id": "53aeb2e4",
   "metadata": {},
   "outputs": [
    {
     "name": "stdout",
     "output_type": "stream",
     "text": [
      "Archivo guardado como predicciones_promediadas_5modelos.csv\n"
     ]
    }
   ],
   "source": [
    "import pandas as pd\n",
    "\n",
    "# Cargar archivos\n",
    "df1 = pd.read_csv(\"predicciones_febrero2020_porproducto3.csv\")\n",
    "df2 = pd.read_csv(\"predicciones_exp_07_lgb_v8_ensemble_3models.csv\")\n",
    "df3 = pd.read_csv(\"lgbm_predictions_median.csv\")\n",
    "df4 = pd.read_csv(\"lightgbm10FC.csv\")\n",
    "df5 = pd.read_csv(\"reg_lineal5.csv\")\n",
    "\n",
    "# Renombrar columnas para consistencia\n",
    "df1.columns = [\"product_id\", \"tn_predicho\"]\n",
    "df2.columns = [\"product_id\", \"tn_predicho\"]\n",
    "df3.columns = [\"product_id\", \"tn_predicho\"]\n",
    "df4.columns = [\"product_id\", \"tn_predicho\"]\n",
    "df5.columns = [\"product_id\", \"tn_predicho\"]\n",
    "\n",
    "# Unir por product_id\n",
    "df_merge = df1.merge(df2, on=\"product_id\", suffixes=(\"_1\", \"_2\"))\n",
    "df_merge = df_merge.merge(df3, on=\"product_id\")\n",
    "df_merge.rename(columns={\"tn_predicho\": \"tn_predicho_3\"}, inplace=True)\n",
    "df_merge = df_merge.merge(df4, on=\"product_id\")\n",
    "df_merge.rename(columns={\"tn_predicho\": \"tn_predicho_4\"}, inplace=True)\n",
    "df_merge = df_merge.merge(df5, on=\"product_id\")\n",
    "df_merge.rename(columns={\"tn_predicho\": \"tn_predicho_5\"}, inplace=True)\n",
    "\n",
    "# Calcular promedio\n",
    "df_merge[\"tn_predicho\"] = df_merge[\n",
    "    [\"tn_predicho_1\", \"tn_predicho_2\", \"tn_predicho_3\", \"tn_predicho_4\", \"tn_predicho_5\"]\n",
    "].mean(axis=1)\n",
    "\n",
    "# Seleccionar columnas finales\n",
    "df_final = df_merge[[\"product_id\", \"tn_predicho\"]]\n",
    "\n",
    "# Guardar archivo final\n",
    "df_final.to_csv(\"predicciones_promediadas_5modelos.csv\", index=False)\n",
    "print(\"Archivo guardado como predicciones_promediadas_5modelos.csv\")\n"
   ]
  },
  {
   "cell_type": "code",
   "execution_count": 7,
   "id": "e33fab3b",
   "metadata": {},
   "outputs": [
    {
     "name": "stdout",
     "output_type": "stream",
     "text": [
      "Archivo guardado como predicciones_mediana_5modelos.csv\n"
     ]
    }
   ],
   "source": [
    "import pandas as pd\n",
    "\n",
    "# Cargar archivos\n",
    "df1 = pd.read_csv(\"predicciones_febrero2020_porproducto3.csv\")\n",
    "df2 = pd.read_csv(\"predicciones_exp_07_lgb_v8_ensemble_3models.csv\")\n",
    "df3 = pd.read_csv(\"lgbm_predictions_median.csv\")\n",
    "df4 = pd.read_csv(\"lightgbm10FC.csv\")\n",
    "df5 = pd.read_csv(\"reg_lineal5.csv\")\n",
    "\n",
    "# Renombrar columnas para consistencia\n",
    "df1.columns = [\"product_id\", \"tn_predicho\"]\n",
    "df2.columns = [\"product_id\", \"tn_predicho\"]\n",
    "df3.columns = [\"product_id\", \"tn_predicho\"]\n",
    "df4.columns = [\"product_id\", \"tn_predicho\"]\n",
    "df5.columns = [\"product_id\", \"tn_predicho\"]\n",
    "\n",
    "# Unir por product_id\n",
    "df_merge = df1.merge(df2, on=\"product_id\", suffixes=(\"_1\", \"_2\"))\n",
    "df_merge = df_merge.merge(df3, on=\"product_id\")\n",
    "df_merge.rename(columns={\"tn_predicho\": \"tn_predicho_3\"}, inplace=True)\n",
    "df_merge = df_merge.merge(df4, on=\"product_id\")\n",
    "df_merge.rename(columns={\"tn_predicho\": \"tn_predicho_4\"}, inplace=True)\n",
    "df_merge = df_merge.merge(df5, on=\"product_id\")\n",
    "df_merge.rename(columns={\"tn_predicho\": \"tn_predicho_5\"}, inplace=True)\n",
    "\n",
    "# Calcular mediana\n",
    "df_merge[\"tn_predicho\"] = df_merge[\n",
    "    [\"tn_predicho_1\", \"tn_predicho_2\", \"tn_predicho_3\", \"tn_predicho_4\", \"tn_predicho_5\"]\n",
    "].median(axis=1)\n",
    "\n",
    "# Seleccionar columnas finales\n",
    "df_final = df_merge[[\"product_id\", \"tn_predicho\"]]\n",
    "\n",
    "# Guardar archivo final\n",
    "df_final.to_csv(\"predicciones_mediana_5modelos.csv\", index=False)\n",
    "print(\"Archivo guardado como predicciones_mediana_5modelos.csv\")\n"
   ]
  },
  {
   "cell_type": "code",
   "execution_count": 8,
   "id": "096a3356",
   "metadata": {},
   "outputs": [
    {
     "name": "stdout",
     "output_type": "stream",
     "text": [
      "Archivo guardado como predicciones_minimo_5modelos.csv\n"
     ]
    }
   ],
   "source": [
    "import pandas as pd\n",
    "\n",
    "# Cargar archivos\n",
    "df1 = pd.read_csv(\"predicciones_febrero2020_porproducto3.csv\")\n",
    "df2 = pd.read_csv(\"predicciones_exp_07_lgb_v8_ensemble_3models.csv\")\n",
    "df3 = pd.read_csv(\"lgbm_predictions_median.csv\")\n",
    "df4 = pd.read_csv(\"lightgbm10FC.csv\")\n",
    "df5 = pd.read_csv(\"reg_lineal5.csv\")\n",
    "\n",
    "# Renombrar columnas para consistencia\n",
    "df1.columns = [\"product_id\", \"tn_predicho\"]\n",
    "df2.columns = [\"product_id\", \"tn_predicho\"]\n",
    "df3.columns = [\"product_id\", \"tn_predicho\"]\n",
    "df4.columns = [\"product_id\", \"tn_predicho\"]\n",
    "df5.columns = [\"product_id\", \"tn_predicho\"]\n",
    "\n",
    "# Unir por product_id\n",
    "df_merge = df1.merge(df2, on=\"product_id\", suffixes=(\"_1\", \"_2\"))\n",
    "df_merge = df_merge.merge(df3, on=\"product_id\")\n",
    "df_merge.rename(columns={\"tn_predicho\": \"tn_predicho_3\"}, inplace=True)\n",
    "df_merge = df_merge.merge(df4, on=\"product_id\")\n",
    "df_merge.rename(columns={\"tn_predicho\": \"tn_predicho_4\"}, inplace=True)\n",
    "df_merge = df_merge.merge(df5, on=\"product_id\")\n",
    "df_merge.rename(columns={\"tn_predicho\": \"tn_predicho_5\"}, inplace=True)\n",
    "\n",
    "# Calcular mínimo\n",
    "df_merge[\"tn_predicho\"] = df_merge[\n",
    "    [\"tn_predicho_1\", \"tn_predicho_2\", \"tn_predicho_3\", \"tn_predicho_4\", \"tn_predicho_5\"]\n",
    "].min(axis=1)\n",
    "\n",
    "# Exportar\n",
    "df_final = df_merge[[\"product_id\", \"tn_predicho\"]]\n",
    "df_final.to_csv(\"predicciones_minimo_5modelos.csv\", index=False)\n",
    "print(\"Archivo guardado como predicciones_minimo_5modelos.csv\")\n"
   ]
  },
  {
   "cell_type": "code",
   "execution_count": 9,
   "id": "0910b692",
   "metadata": {},
   "outputs": [
    {
     "name": "stdout",
     "output_type": "stream",
     "text": [
      "Archivo guardado como predicciones_maximo_5modelos.csv\n"
     ]
    }
   ],
   "source": [
    "import pandas as pd\n",
    "\n",
    "# Cargar archivos\n",
    "df1 = pd.read_csv(\"predicciones_febrero2020_porproducto3.csv\")\n",
    "df2 = pd.read_csv(\"predicciones_exp_07_lgb_v8_ensemble_3models.csv\")\n",
    "df3 = pd.read_csv(\"lgbm_predictions_median.csv\")\n",
    "df4 = pd.read_csv(\"lightgbm10FC.csv\")\n",
    "df5 = pd.read_csv(\"reg_lineal5.csv\")\n",
    "\n",
    "# Renombrar columnas para consistencia\n",
    "df1.columns = [\"product_id\", \"tn_predicho\"]\n",
    "df2.columns = [\"product_id\", \"tn_predicho\"]\n",
    "df3.columns = [\"product_id\", \"tn_predicho\"]\n",
    "df4.columns = [\"product_id\", \"tn_predicho\"]\n",
    "df5.columns = [\"product_id\", \"tn_predicho\"]\n",
    "\n",
    "# Unir por product_id\n",
    "df_merge = df1.merge(df2, on=\"product_id\", suffixes=(\"_1\", \"_2\"))\n",
    "df_merge = df_merge.merge(df3, on=\"product_id\")\n",
    "df_merge.rename(columns={\"tn_predicho\": \"tn_predicho_3\"}, inplace=True)\n",
    "df_merge = df_merge.merge(df4, on=\"product_id\")\n",
    "df_merge.rename(columns={\"tn_predicho\": \"tn_predicho_4\"}, inplace=True)\n",
    "df_merge = df_merge.merge(df5, on=\"product_id\")\n",
    "df_merge.rename(columns={\"tn_predicho\": \"tn_predicho_5\"}, inplace=True)\n",
    "\n",
    "# Calcular máximo\n",
    "df_merge[\"tn_predicho\"] = df_merge[\n",
    "    [\"tn_predicho_1\", \"tn_predicho_2\", \"tn_predicho_3\", \"tn_predicho_4\", \"tn_predicho_5\"]\n",
    "].max(axis=1)\n",
    "\n",
    "# Exportar\n",
    "df_final = df_merge[[\"product_id\", \"tn_predicho\"]]\n",
    "df_final.to_csv(\"predicciones_maximo_5modelos.csv\", index=False)\n",
    "print(\"Archivo guardado como predicciones_maximo_5modelos.csv\")\n"
   ]
  },
  {
   "cell_type": "code",
   "execution_count": 10,
   "id": "c8805e25",
   "metadata": {},
   "outputs": [
    {
     "name": "stdout",
     "output_type": "stream",
     "text": [
      "Archivo guardado como predicciones_promediadas_5modelos_5porcmas.csv\n"
     ]
    }
   ],
   "source": [
    "import pandas as pd\n",
    "\n",
    "# Cargar archivos\n",
    "df1 = pd.read_csv(\"predicciones_febrero2020_porproducto3.csv\")\n",
    "df2 = pd.read_csv(\"predicciones_exp_07_lgb_v8_ensemble_3models.csv\")\n",
    "df3 = pd.read_csv(\"lgbm_predictions_median.csv\")\n",
    "df4 = pd.read_csv(\"lightgbm10FC.csv\")\n",
    "df5 = pd.read_csv(\"reg_lineal5.csv\")\n",
    "\n",
    "# Renombrar columnas para consistencia\n",
    "df1.columns = [\"product_id\", \"tn_predicho\"]\n",
    "df2.columns = [\"product_id\", \"tn_predicho\"]\n",
    "df3.columns = [\"product_id\", \"tn_predicho\"]\n",
    "df4.columns = [\"product_id\", \"tn_predicho\"]\n",
    "df5.columns = [\"product_id\", \"tn_predicho\"]\n",
    "\n",
    "# Unir por product_id\n",
    "df_merge = df1.merge(df2, on=\"product_id\", suffixes=(\"_1\", \"_2\"))\n",
    "df_merge = df_merge.merge(df3, on=\"product_id\")\n",
    "df_merge.rename(columns={\"tn_predicho\": \"tn_predicho_3\"}, inplace=True)\n",
    "df_merge = df_merge.merge(df4, on=\"product_id\")\n",
    "df_merge.rename(columns={\"tn_predicho\": \"tn_predicho_4\"}, inplace=True)\n",
    "df_merge = df_merge.merge(df5, on=\"product_id\")\n",
    "df_merge.rename(columns={\"tn_predicho\": \"tn_predicho_5\"}, inplace=True)\n",
    "\n",
    "# Calcular promedio\n",
    "df_merge[\"tn_predicho\"] = df_merge[\n",
    "    [\"tn_predicho_1\", \"tn_predicho_2\", \"tn_predicho_3\", \"tn_predicho_4\", \"tn_predicho_5\"]\n",
    "].mean(axis=1)\n",
    "\n",
    "# Aplicar 5% extra\n",
    "df_merge[\"tn_predicho\"] *= 1.05\n",
    "\n",
    "# Seleccionar columnas finales\n",
    "df_final = df_merge[[\"product_id\", \"tn_predicho\"]]\n",
    "\n",
    "# Guardar archivo final\n",
    "df_final.to_csv(\"predicciones_promediadas_5modelos_5porcmas.csv\", index=False)\n",
    "print(\"Archivo guardado como predicciones_promediadas_5modelos_5porcmas.csv\")\n"
   ]
  },
  {
   "cell_type": "code",
   "execution_count": 11,
   "id": "1e23cec4",
   "metadata": {},
   "outputs": [
    {
     "name": "stdout",
     "output_type": "stream",
     "text": [
      "Archivo guardado como predicciones_promediadas_5modelos_5porcmenos.csv\n"
     ]
    }
   ],
   "source": [
    "import pandas as pd\n",
    "\n",
    "# Cargar archivos\n",
    "df1 = pd.read_csv(\"predicciones_febrero2020_porproducto3.csv\")\n",
    "df2 = pd.read_csv(\"predicciones_exp_07_lgb_v8_ensemble_3models.csv\")\n",
    "df3 = pd.read_csv(\"lgbm_predictions_median.csv\")\n",
    "df4 = pd.read_csv(\"lightgbm10FC.csv\")\n",
    "df5 = pd.read_csv(\"reg_lineal5.csv\")\n",
    "\n",
    "# Renombrar columnas para consistencia\n",
    "df1.columns = [\"product_id\", \"tn_predicho\"]\n",
    "df2.columns = [\"product_id\", \"tn_predicho\"]\n",
    "df3.columns = [\"product_id\", \"tn_predicho\"]\n",
    "df4.columns = [\"product_id\", \"tn_predicho\"]\n",
    "df5.columns = [\"product_id\", \"tn_predicho\"]\n",
    "\n",
    "# Unir por product_id\n",
    "df_merge = df1.merge(df2, on=\"product_id\", suffixes=(\"_1\", \"_2\"))\n",
    "df_merge = df_merge.merge(df3, on=\"product_id\")\n",
    "df_merge.rename(columns={\"tn_predicho\": \"tn_predicho_3\"}, inplace=True)\n",
    "df_merge = df_merge.merge(df4, on=\"product_id\")\n",
    "df_merge.rename(columns={\"tn_predicho\": \"tn_predicho_4\"}, inplace=True)\n",
    "df_merge = df_merge.merge(df5, on=\"product_id\")\n",
    "df_merge.rename(columns={\"tn_predicho\": \"tn_predicho_5\"}, inplace=True)\n",
    "\n",
    "# Calcular promedio\n",
    "df_merge[\"tn_predicho\"] = df_merge[\n",
    "    [\"tn_predicho_1\", \"tn_predicho_2\", \"tn_predicho_3\", \"tn_predicho_4\", \"tn_predicho_5\"]\n",
    "].mean(axis=1)\n",
    "\n",
    "# Aplicar 5% extra\n",
    "df_merge[\"tn_predicho\"] *= 0.95\n",
    "\n",
    "# Seleccionar columnas finales\n",
    "df_final = df_merge[[\"product_id\", \"tn_predicho\"]]\n",
    "\n",
    "# Guardar archivo final\n",
    "df_final.to_csv(\"predicciones_promediadas_5modelos_5porcmenoss.csv\", index=False)\n",
    "print(\"Archivo guardado como predicciones_promediadas_5modelos_5porcmenos.csv\")\n"
   ]
  },
  {
   "cell_type": "code",
   "execution_count": 17,
   "id": "07d8b513",
   "metadata": {},
   "outputs": [
    {
     "name": "stdout",
     "output_type": "stream",
     "text": [
      "['Iván', 'Waldo'] | ['Francisco', 'Pablo']\n"
     ]
    }
   ],
   "source": [
    "import random\n",
    "grupo = [\"Iván\", \"Francisco\", \"Pablo\", \"Waldo\"]\n",
    "random.shuffle(grupo)\n",
    "print(grupo[:2], \"|\", grupo[2:])\n"
   ]
  }
 ],
 "metadata": {
  "kernelspec": {
   "display_name": "predprod1",
   "language": "python",
   "name": "python3"
  },
  "language_info": {
   "codemirror_mode": {
    "name": "ipython",
    "version": 3
   },
   "file_extension": ".py",
   "mimetype": "text/x-python",
   "name": "python",
   "nbconvert_exporter": "python",
   "pygments_lexer": "ipython3",
   "version": "3.9.23"
  }
 },
 "nbformat": 4,
 "nbformat_minor": 5
}
