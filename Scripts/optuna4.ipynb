{
 "cells": [
  {
   "cell_type": "code",
   "execution_count": null,
   "id": "bb411c0d",
   "metadata": {},
   "outputs": [
    {
     "name": "stderr",
     "output_type": "stream",
     "text": [
      "c:\\Users\\waldo\\miniconda3\\envs\\lgbmgpu\\lib\\site-packages\\tqdm\\auto.py:21: TqdmWarning: IProgress not found. Please update jupyter and ipywidgets. See https://ipywidgets.readthedocs.io/en/stable/user_install.html\n",
      "  from .autonotebook import tqdm as notebook_tqdm\n",
      "[I 2025-07-12 21:53:13,406] A new study created in RDB with name: lgbm_dstn201\n",
      "[I 2025-07-12 22:24:18,028] Trial 0 finished with value: 0.0006900484413865793 and parameters: {'n_estimators': 828, 'learning_rate': 0.12429524985447538, 'max_depth': 15, 'num_leaves': 456, 'min_data_in_leaf': 286, 'min_child_weight': 0.5619194307398462, 'subsample': 0.726053141459008, 'subsample_freq': 7, 'colsample_bytree': 0.7797069254086433, 'colsample_bynode': 0.6383449194049172, 'reg_alpha': 4.072667326486733, 'reg_lambda': 0.34147791579771325, 'max_bin': 495, 'min_split_gain': 0.7124778300368457, 'cat_smooth': 42.47362024156224, 'boosting_type': 'dart'}. Best is trial 0 with value: 0.0006900484413865793.\n"
     ]
    }
   ],
   "source": [
    "import pandas as pd\n",
    "import lightgbm as lgb\n",
    "import optuna\n",
    "from sklearn.metrics import mean_absolute_error\n",
    "\n",
    "# === 1. Cargar dataset ===\n",
    "df = pd.read_csv(\"top20nuevo.csv\")\n",
    "df['periodo'] = pd.to_datetime(df['periodo'])\n",
    "\n",
    "# 🔧 Limpiar nombres de columnas\n",
    "df.columns = df.columns.str.replace(r\"[^\\w]\", \"_\", regex=True)\n",
    "\n",
    "# === 2. Features y target ===\n",
    "features = [col for col in df.columns if col not in ['product_id', 'periodo', 'tn']]\n",
    "target = 'tn'\n",
    "\n",
    "# === 3. Separar train y validación ===\n",
    "df_train = df[df['periodo'] < '2019-12-01']\n",
    "df_val = df[df['periodo'] == '2019-12-01']\n",
    "\n",
    "X_train = df_train[features].copy()\n",
    "y_train = df_train[target]\n",
    "X_val = df_val[features].copy()\n",
    "y_val = df_val[target]\n",
    "\n",
    "# 🔁 4. Convertir columnas object a category ===\n",
    "for col in X_train.select_dtypes(include='object').columns:\n",
    "    X_train[col] = X_train[col].astype('category')\n",
    "    X_val[col] = X_val[col].astype('category')\n",
    "\n",
    "# === 5. Función objetivo de Optuna ===\n",
    "def objective(trial):\n",
    "    params = {\n",
    "    'n_estimators': trial.suggest_int('n_estimators', 100, 1000),\n",
    "    'learning_rate': trial.suggest_float('learning_rate', 0.005, 0.3, log=True),\n",
    "    'max_depth': trial.suggest_int('max_depth', 3, 15),\n",
    "    'num_leaves': trial.suggest_int('num_leaves', 20, 512),\n",
    "    'min_data_in_leaf': trial.suggest_int('min_data_in_leaf', 10, 300),\n",
    "    'min_child_weight': trial.suggest_float('min_child_weight', 0.001, 10.0),  # Regulariza leaf-wise\n",
    "    'subsample': trial.suggest_float('subsample', 0.5, 1.0),  # aka bagging_fraction\n",
    "    'subsample_freq': trial.suggest_int('subsample_freq', 1, 10),\n",
    "    'colsample_bytree': trial.suggest_float('colsample_bytree', 0.5, 1.0),  # aka feature_fraction\n",
    "    'colsample_bynode': trial.suggest_float('colsample_bynode', 0.5, 1.0),\n",
    "    'reg_alpha': trial.suggest_float('reg_alpha', 0.0, 5.0),  # L1\n",
    "    'reg_lambda': trial.suggest_float('reg_lambda', 0.0, 5.0),  # L2\n",
    "    'max_bin': trial.suggest_int('max_bin', 64, 512),\n",
    "    'min_split_gain': trial.suggest_float('min_split_gain', 0.0, 1.0),  # gain mínimo para hacer split\n",
    "    'cat_smooth': trial.suggest_float('cat_smooth', 1.0, 100.0),\n",
    "    'boosting_type': trial.suggest_categorical('boosting_type', ['gbdt', 'dart']),  # o agregar 'goss' si no usás subsample\n",
    "    'random_state': 42,\n",
    "    'verbosity': -1\n",
    "}\n",
    "\n",
    "    \n",
    "\n",
    "    model = lgb.LGBMRegressor(**params)\n",
    "    model.fit(X_train, y_train)\n",
    "    y_pred = model.predict(X_val)\n",
    "    return mean_absolute_error(y_val, y_pred)\n",
    "\n",
    "# === 6. Ejecutar la búsqueda bayesiana con persistencia ===\n",
    "study = optuna.create_study(\n",
    "    direction=\"minimize\",\n",
    "    study_name=\"lgbm_dstn201\",\n",
    "    storage=\"sqlite:///optuna_lgbm_top201nuevo.db\",\n",
    "    load_if_exists=True\n",
    ")\n",
    "study.optimize(objective, n_trials=50)\n",
    "\n",
    "# === 7. Ver resultados ===\n",
    "print(\"✅ Mejor MAE:\", study.best_value)\n",
    "print(\"🧪 Mejores hiperparámetros:\", study.best_params)\n"
   ]
  }
 ],
 "metadata": {
  "kernelspec": {
   "display_name": "lgbmgpu",
   "language": "python",
   "name": "python3"
  },
  "language_info": {
   "codemirror_mode": {
    "name": "ipython",
    "version": 3
   },
   "file_extension": ".py",
   "mimetype": "text/x-python",
   "name": "python",
   "nbconvert_exporter": "python",
   "pygments_lexer": "ipython3",
   "version": "3.10.16"
  }
 },
 "nbformat": 4,
 "nbformat_minor": 5
}
