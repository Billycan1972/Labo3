{
 "cells": [
  {
   "cell_type": "code",
   "execution_count": 2,
   "id": "5f87bad9",
   "metadata": {},
   "outputs": [
    {
     "name": "stderr",
     "output_type": "stream",
     "text": [
      "100%|██████████| 780/780 [1:01:22<00:00,  4.72s/it]"
     ]
    },
    {
     "name": "stdout",
     "output_type": "stream",
     "text": [
      "✅ Predicciones ARIMA guardadas en prediccion_feb2020_pmdarima.csv\n"
     ]
    },
    {
     "name": "stderr",
     "output_type": "stream",
     "text": [
      "\n"
     ]
    }
   ],
   "source": [
    "# 📦 Librerías necesarias\n",
    "import pandas as pd\n",
    "import numpy as np\n",
    "import pmdarima as pm\n",
    "from tqdm import tqdm\n",
    "\n",
    "# 1. Cargar dataset\n",
    "df = pd.read_csv(\"datasetwg.csv\")\n",
    "df['periodo'] = pd.to_datetime(df['periodo'])\n",
    "\n",
    "# 2. Agregar ventas por producto y mes\n",
    "df_agg = df.groupby(['product_id', 'periodo'])['tn'].sum().reset_index()\n",
    "\n",
    "# 3. Crear una lista única de productos\n",
    "productos = df_agg['product_id'].unique()\n",
    "\n",
    "# 4. Inicializar lista de resultados\n",
    "resultados = []\n",
    "\n",
    "# 5. Loop por cada producto\n",
    "for prod in tqdm(productos):\n",
    "    df_prod = df_agg[df_agg['product_id'] == prod].copy()\n",
    "    df_prod = df_prod.set_index('periodo').asfreq('MS')  # MS: month start\n",
    "    df_prod = df_prod.fillna(0)\n",
    "\n",
    "    serie = df_prod['tn']\n",
    "\n",
    "    # 6. Ajustar auto_arima\n",
    "    try:\n",
    "        modelo = pm.auto_arima(\n",
    "            serie,\n",
    "            seasonal=True,\n",
    "            m=12,\n",
    "            suppress_warnings=True,\n",
    "            error_action='ignore'\n",
    "        )\n",
    "\n",
    "        # 7. Predecir enero y febrero 2020\n",
    "        forecast = modelo.predict(n_periods=2)\n",
    "\n",
    "        # 8. Guardar predicción de febrero\n",
    "        tn_pred_feb = forecast[1]  # segundo valor\n",
    "        resultados.append((prod, tn_pred_feb))\n",
    "    except:\n",
    "        # Si falla, guardar 0\n",
    "        resultados.append((prod, 0.0))\n",
    "\n",
    "# 9. Crear DataFrame de resultados\n",
    "df_resultado = pd.DataFrame(resultados, columns=['product_id', 'tn_predicho'])\n",
    "\n",
    "# 10. Exportar a CSV\n",
    "df_resultado.to_csv(\"prediccion_feb2020_pmdarima.csv\", index=False)\n",
    "print(\"✅ Predicciones ARIMA guardadas en prediccion_feb2020_pmdarima.csv\")\n"
   ]
  },
  {
   "cell_type": "code",
   "execution_count": 1,
   "id": "1e4813cc",
   "metadata": {},
   "outputs": [
    {
     "name": "stderr",
     "output_type": "stream",
     "text": [
      "100%|██████████| 780/780 [1:23:55<00:00,  6.46s/it]"
     ]
    },
    {
     "name": "stdout",
     "output_type": "stream",
     "text": [
      "✅ Predicciones SARIMAX guardadas en prediccion_feb2020_sarimax.csv\n"
     ]
    },
    {
     "name": "stderr",
     "output_type": "stream",
     "text": [
      "\n"
     ]
    }
   ],
   "source": [
    "# 📦 Librerías necesarias\n",
    "import pandas as pd\n",
    "import numpy as np\n",
    "from statsmodels.tsa.statespace.sarimax import SARIMAX\n",
    "from tqdm import tqdm\n",
    "import warnings\n",
    "\n",
    "warnings.filterwarnings(\"ignore\")\n",
    "\n",
    "# 1. Cargar dataset\n",
    "df = pd.read_csv(\"datasetwg.csv\")\n",
    "df['periodo'] = pd.to_datetime(df['periodo'])\n",
    "\n",
    "# 2. Agregar ventas por producto y mes\n",
    "df_agg = df.groupby(['product_id', 'periodo'])['tn'].sum().reset_index()\n",
    "\n",
    "# 3. Crear lista de productos únicos\n",
    "productos = df_agg['product_id'].unique()\n",
    "\n",
    "# 4. Inicializar resultados\n",
    "resultados = []\n",
    "\n",
    "# 5. Loop por producto\n",
    "for prod in tqdm(productos):\n",
    "    df_prod = df_agg[df_agg['product_id'] == prod].copy()\n",
    "    df_prod = df_prod.set_index('periodo').asfreq('MS')\n",
    "    df_prod = df_prod.fillna(0)\n",
    "    serie = df_prod['tn']\n",
    "\n",
    "    mejor_aic = np.inf\n",
    "    mejor_orden = None\n",
    "    mejor_estacional = None\n",
    "    mejor_modelo = None\n",
    "\n",
    "    # 6. Grid manual simple para SARIMAX: (p,d,q) x (P,D,Q,12)\n",
    "    for p in range(2):\n",
    "        for d in range(2):\n",
    "            for q in range(2):\n",
    "                for P in range(2):\n",
    "                    for D in range(2):\n",
    "                        for Q in range(2):\n",
    "                            try:\n",
    "                                modelo = SARIMAX(\n",
    "                                    serie,\n",
    "                                    order=(p, d, q),\n",
    "                                    seasonal_order=(P, D, Q, 12),\n",
    "                                    enforce_stationarity=False,\n",
    "                                    enforce_invertibility=False\n",
    "                                )\n",
    "                                modelo_fit = modelo.fit(disp=False)\n",
    "                                aic = modelo_fit.aic\n",
    "                                if aic < mejor_aic:\n",
    "                                    mejor_aic = aic\n",
    "                                    mejor_orden = (p, d, q)\n",
    "                                    mejor_estacional = (P, D, Q, 12)\n",
    "                                    mejor_modelo = modelo_fit\n",
    "                            except:\n",
    "                                continue\n",
    "\n",
    "    # 7. Predecir enero y febrero 2020\n",
    "    if mejor_modelo is not None:\n",
    "        try:\n",
    "            forecast = mejor_modelo.forecast(steps=2)\n",
    "            tn_pred_feb = forecast.iloc[1]  # segundo valor\n",
    "            resultados.append((prod, tn_pred_feb))\n",
    "        except:\n",
    "            resultados.append((prod, 0.0))\n",
    "    else:\n",
    "        resultados.append((prod, 0.0))\n",
    "\n",
    "# 8. Crear DataFrame de resultados\n",
    "df_resultado = pd.DataFrame(resultados, columns=['product_id', 'tn_predicho'])\n",
    "\n",
    "# 9. Exportar\n",
    "df_resultado.to_csv(\"prediccion_feb2020_sarimax.csv\", index=False)\n",
    "print(\"✅ Predicciones SARIMAX guardadas en prediccion_feb2020_sarimax.csv\")\n"
   ]
  }
 ],
 "metadata": {
  "kernelspec": {
   "display_name": "arima",
   "language": "python",
   "name": "python3"
  },
  "language_info": {
   "codemirror_mode": {
    "name": "ipython",
    "version": 3
   },
   "file_extension": ".py",
   "mimetype": "text/x-python",
   "name": "python",
   "nbconvert_exporter": "python",
   "pygments_lexer": "ipython3",
   "version": "3.10.18"
  }
 },
 "nbformat": 4,
 "nbformat_minor": 5
}
