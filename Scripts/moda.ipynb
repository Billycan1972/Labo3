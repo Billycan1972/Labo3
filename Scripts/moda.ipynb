{
 "cells": [
  {
   "cell_type": "code",
   "execution_count": 5,
   "id": "dee03883",
   "metadata": {},
   "outputs": [
    {
     "name": "stdout",
     "output_type": "stream",
     "text": [
      "✅ Predicción guardada como 'prediccion_moda_customer_product_6m0.csv'\n"
     ]
    },
    {
     "name": "stderr",
     "output_type": "stream",
     "text": [
      "C:\\Users\\waldo\\AppData\\Local\\Temp\\ipykernel_17076\\4053967206.py:19: FutureWarning: DataFrameGroupBy.apply operated on the grouping columns. This behavior is deprecated, and in a future version of pandas the grouping columns will be excluded from the operation. Either pass `include_groups=False` to exclude the groupings or explicitly select the grouping columns after groupby to silence this warning.\n",
      "  modas = df_ultimos12.groupby(['customer_id', 'product_id']).apply(moda_tn).reset_index()\n"
     ]
    }
   ],
   "source": [
    "import pandas as pd\n",
    "from scipy.stats import mode\n",
    "\n",
    "# 1. Cargar dataset\n",
    "df = pd.read_csv(\"datasetwg.csv\")\n",
    "df['periodo'] = pd.to_datetime(df['periodo'])\n",
    "\n",
    "# 2. Filtrar últimos 12 meses (enero a diciembre 2019)\n",
    "df_ultimos12 = df[(df['periodo'] >= '2019-07-01') & (df['periodo'] <= '2019-12-01')]\n",
    "\n",
    "# 3. Calcular moda de tn por customer_id y product_id (INCLUYENDO CEROS)\n",
    "def moda_tn(grupo):\n",
    "    tn_vals = grupo['tn']  # sin dropna() así respeta los 0\n",
    "    if tn_vals.empty:\n",
    "        return None\n",
    "    m = mode(tn_vals, keepdims=False).mode\n",
    "    return float(m) if hasattr(m, '__len__') else m\n",
    "\n",
    "modas = df_ultimos12.groupby(['customer_id', 'product_id']).apply(moda_tn).reset_index()\n",
    "modas.columns = ['customer_id', 'product_id', 'tn_moda']\n",
    "\n",
    "# 4. Agregar modas por product_id (suma de modas por cliente)\n",
    "predicciones = modas.groupby('product_id')['tn_moda'].sum().reset_index()\n",
    "predicciones.columns = ['product_id', 'tn_predicho']\n",
    "\n",
    "# 5. Exportar CSV\n",
    "predicciones.to_csv(\"prediccion_moda_customer_product_6m0.csv\", index=False)\n",
    "\n",
    "print(\"✅ Predicción guardada como 'prediccion_moda_customer_product_6m0.csv'\")\n"
   ]
  },
  {
   "cell_type": "code",
   "execution_count": 6,
   "id": "1472a54b",
   "metadata": {},
   "outputs": [
    {
     "name": "stdout",
     "output_type": "stream",
     "text": [
      "✅ Predicción guardada como 'prediccion_moda_customer_product_12m0.csv'\n"
     ]
    },
    {
     "name": "stderr",
     "output_type": "stream",
     "text": [
      "C:\\Users\\waldo\\AppData\\Local\\Temp\\ipykernel_17076\\1849845080.py:19: FutureWarning: DataFrameGroupBy.apply operated on the grouping columns. This behavior is deprecated, and in a future version of pandas the grouping columns will be excluded from the operation. Either pass `include_groups=False` to exclude the groupings or explicitly select the grouping columns after groupby to silence this warning.\n",
      "  modas = df_ultimos12.groupby(['customer_id', 'product_id']).apply(moda_tn).reset_index()\n"
     ]
    }
   ],
   "source": [
    "import pandas as pd\n",
    "from scipy.stats import mode\n",
    "\n",
    "# 1. Cargar dataset\n",
    "df = pd.read_csv(\"datasetwg.csv\")\n",
    "df['periodo'] = pd.to_datetime(df['periodo'])\n",
    "\n",
    "# 2. Filtrar últimos 12 meses (enero a diciembre 2019)\n",
    "df_ultimos12 = df[(df['periodo'] >= '2019-01-01') & (df['periodo'] <= '2019-12-01')]\n",
    "\n",
    "# 3. Calcular moda de tn por customer_id y product_id (INCLUYENDO CEROS)\n",
    "def moda_tn(grupo):\n",
    "    tn_vals = grupo['tn']  # sin dropna() así respeta los 0\n",
    "    if tn_vals.empty:\n",
    "        return None\n",
    "    m = mode(tn_vals, keepdims=False).mode\n",
    "    return float(m) if hasattr(m, '__len__') else m\n",
    "\n",
    "modas = df_ultimos12.groupby(['customer_id', 'product_id']).apply(moda_tn).reset_index()\n",
    "modas.columns = ['customer_id', 'product_id', 'tn_moda']\n",
    "\n",
    "# 4. Agregar modas por product_id (suma de modas por cliente)\n",
    "predicciones = modas.groupby('product_id')['tn_moda'].sum().reset_index()\n",
    "predicciones.columns = ['product_id', 'tn_predicho']\n",
    "\n",
    "# 5. Exportar CSV\n",
    "predicciones.to_csv(\"prediccion_moda_customer_product_12m0.csv\", index=False)\n",
    "\n",
    "print(\"✅ Predicción guardada como 'prediccion_moda_customer_product_12m0.csv'\")\n"
   ]
  }
 ],
 "metadata": {
  "kernelspec": {
   "display_name": "nuevito",
   "language": "python",
   "name": "python3"
  },
  "language_info": {
   "codemirror_mode": {
    "name": "ipython",
    "version": 3
   },
   "file_extension": ".py",
   "mimetype": "text/x-python",
   "name": "python",
   "nbconvert_exporter": "python",
   "pygments_lexer": "ipython3",
   "version": "3.12.9"
  }
 },
 "nbformat": 4,
 "nbformat_minor": 5
}
