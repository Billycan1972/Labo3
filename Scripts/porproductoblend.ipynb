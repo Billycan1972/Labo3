{
 "cells": [
  {
   "cell_type": "code",
   "execution_count": 1,
   "id": "3b3adaf5",
   "metadata": {},
   "outputs": [
    {
     "name": "stdout",
     "output_type": "stream",
     "text": [
      "✅ Archivos generados:\n",
      "📁 blend_promedio.csv\n",
      "📁 blend_minimo.csv\n",
      "📁 blend_ponderado.csv\n"
     ]
    }
   ],
   "source": [
    "import pandas as pd\n",
    "\n",
    "# 1. Cargar predicciones\n",
    "df_lgbm = pd.read_csv(\"predicciones_febrero2020_lgbm_lags12_deltas_combinado.csv\")\n",
    "df_xgb = pd.read_csv(\"predicciones_febrero2020_xgb_lags12_deltas_combinado.csv\")\n",
    "df_reg = pd.read_csv(\"predicciones_febrero2020_regresion_lags12_deltas_combinado.csv\")\n",
    "\n",
    "# 2. Renombrar columnas\n",
    "df_lgbm.rename(columns={\"tn_predicho\": \"lgbm\"}, inplace=True)\n",
    "df_xgb.rename(columns={\"tn_predicho\": \"xgb\"}, inplace=True)\n",
    "df_reg.rename(columns={\"tn_predicho\": \"regresion\"}, inplace=True)\n",
    "\n",
    "# 3. Merge por product_id\n",
    "df_blend = df_lgbm.merge(df_xgb, on=\"product_id\").merge(df_reg, on=\"product_id\")\n",
    "\n",
    "# 4. Crear blends\n",
    "df_blend[\"blend_promedio\"] = df_blend[[\"lgbm\", \"xgb\", \"regresion\"]].mean(axis=1)\n",
    "df_blend[\"blend_minimo\"] = df_blend[[\"lgbm\", \"xgb\", \"regresion\"]].min(axis=1)\n",
    "df_blend[\"blend_ponderado\"] = 0.9 * df_blend[\"blend_promedio\"] + 0.1 * df_blend[\"blend_minimo\"]\n",
    "\n",
    "# 5. Guardar salidas\n",
    "df_blend[[\"product_id\", \"blend_promedio\"]].rename(columns={\"blend_promedio\": \"tn_predicho\"}).to_csv(\"blend_promedio.csv\", index=False)\n",
    "df_blend[[\"product_id\", \"blend_minimo\"]].rename(columns={\"blend_minimo\": \"tn_predicho\"}).to_csv(\"blend_minimo.csv\", index=False)\n",
    "df_blend[[\"product_id\", \"blend_ponderado\"]].rename(columns={\"blend_ponderado\": \"tn_predicho\"}).to_csv(\"blend_ponderado.csv\", index=False)\n",
    "\n",
    "# 6. Confirmar\n",
    "print(\"✅ Archivos generados:\")\n",
    "print(\"📁 blend_promedio.csv\")\n",
    "print(\"📁 blend_minimo.csv\")\n",
    "print(\"📁 blend_ponderado.csv\")\n"
   ]
  },
  {
   "cell_type": "code",
   "execution_count": null,
   "id": "f8a34aa1",
   "metadata": {},
   "outputs": [
    {
     "name": "stdout",
     "output_type": "stream",
     "text": [
      "✅ Blends generados:\n",
      "- blend_febrero2020_min.csv\n",
      "- blend_febrero2020_max.csv\n",
      "- blend_febrero2020_mean.csv\n",
      "- blend_febrero2020_weighted.csv\n",
      "- blend_febrero2020_voto.csv\n"
     ]
    }
   ],
   "source": [
    "import pandas as pd\n",
    "import numpy as np\n",
    "\n",
    "# 1. Cargar predicciones\n",
    "lgbm = pd.read_csv(\"predicciones_febrero2020_lgbm_agosto_cv.csv\").rename(columns={\"tn_predicho\": \"lgbm\"})\n",
    "xgb = pd.read_csv(\"predicciones_febrero2020_xgb_agosto_cv.csv\").rename(columns={\"tn_predicho\": \"xgb\"})\n",
    "reg = pd.read_csv(\"predicciones_febrero2020_regresion_agosto_cv.csv\").rename(columns={\"tn_predicho\": \"regresion\"})\n",
    "\n",
    "# 2. Unir\n",
    "df = lgbm.merge(xgb, on=\"product_id\").merge(reg, on=\"product_id\")\n",
    "\n",
    "# 3. Mínimo\n",
    "df[\"blend_min\"] = df[[\"lgbm\", \"xgb\", \"regresion\"]].min(axis=1)\n",
    "\n",
    "# 4. Máximo\n",
    "df[\"blend_max\"] = df[[\"lgbm\", \"xgb\", \"regresion\"]].max(axis=1)\n",
    "\n",
    "# 5. Promedio simple\n",
    "df[\"blend_mean\"] = df[[\"lgbm\", \"xgb\", \"regresion\"]].mean(axis=1)\n",
    "\n",
    "# 6. Ponderado (40% LGBM, 40% XGB, 20% Regresión)\n",
    "df[\"blend_weighted\"] = 0.4 * df[\"lgbm\"] + 0.4 * df[\"xgb\"] + 0.2 * df[\"regresion\"]\n",
    "\n",
    "# 7. Votación por cercanía (si difieren <10%, usar promedio; si no, usar mediana)\n",
    "def blend_voto(row):\n",
    "    vals = [row[\"lgbm\"], row[\"xgb\"], row[\"regresion\"]]\n",
    "    r = max(vals) - min(vals)\n",
    "    if r < 0.1 * max(vals):  # diferencias chicas\n",
    "        return np.mean(vals)\n",
    "    else:\n",
    "        return np.median(vals)\n",
    "\n",
    "df[\"blend_voto\"] = df.apply(blend_voto, axis=1)\n",
    "\n",
    "# 8. Guardar archivos\n",
    "df[[\"product_id\", \"blend_min\"]].rename(columns={\"blend_min\": \"tn_predicho\"}).to_csv(\"blend_febrero2020_min.csv\", index=False)\n",
    "df[[\"product_id\", \"blend_max\"]].rename(columns={\"blend_max\": \"tn_predicho\"}).to_csv(\"blend_febrero2020_max.csv\", index=False)\n",
    "df[[\"product_id\", \"blend_mean\"]].rename(columns={\"blend_mean\": \"tn_predicho\"}).to_csv(\"blend_febrero2020_mean.csv\", index=False)\n",
    "df[[\"product_id\", \"blend_weighted\"]].rename(columns={\"blend_weighted\": \"tn_predicho\"}).to_csv(\"blend_febrero2020_weighted.csv\", index=False)\n",
    "df[[\"product_id\", \"blend_voto\"]].rename(columns={\"blend_voto\": \"tn_predicho\"}).to_csv(\"blend_febrero2020_voto.csv\", index=False)\n",
    "\n",
    "print(\"Blends generados:\")\n",
    "print(\"- blend_febrero2020_min.csv\")\n",
    "print(\"- blend_febrero2020_max.csv\")\n",
    "print(\"- blend_febrero2020_mean.csv\")\n",
    "print(\"- blend_febrero2020_weighted.csv\")\n",
    "print(\"- blend_febrero2020_voto.csv\")\n"
   ]
  },
  {
   "cell_type": "code",
   "execution_count": 5,
   "id": "8ac690a5",
   "metadata": {},
   "outputs": [
    {
     "name": "stdout",
     "output_type": "stream",
     "text": [
      "Archivo final generado: blend_febrero2020_cv1.csv\n"
     ]
    }
   ],
   "source": [
    "import pandas as pd\n",
    "\n",
    "# Cargar predicciones y MAEs\n",
    "pred_lgbm = pd.read_csv(\"predicciones_febrero2020_lgbm_agosto_cv1.csv\")\n",
    "mae_lgbm = pd.read_csv(\"mae_lgbm_cv1.csv\")\n",
    "pred_xgb = pd.read_csv(\"predicciones_febrero2020_xgb_agosto_cv1.csv\")\n",
    "mae_xgb = pd.read_csv(\"mae_xgb_cv1.csv\").rename(columns={\"mae_cv\": \"mae_cv_xgb\"})\n",
    "pred_reg = pd.read_csv(\"predicciones_febrero2020_regresion_agosto_cv1.csv\")\n",
    "mae_reg = pd.read_csv(\"mae_ridge_cv1.csv\").rename(columns={\"mae_cv\": \"mae_cv_reg\"})\n",
    "\n",
    "# Unificar todos en un único DataFrame\n",
    "predicciones = pd.DataFrame()\n",
    "predicciones[\"product_id\"] = pred_lgbm[\"product_id\"]\n",
    "predicciones[\"lgbm\"] = pred_lgbm[\"tn_predicho\"]\n",
    "predicciones[\"xgb\"] = pred_xgb[\"tn_predicho\"]\n",
    "predicciones[\"regresion\"] = pred_reg[\"tn_predicho\"]\n",
    "\n",
    "predicciones = predicciones.merge(mae_lgbm, on=\"product_id\", how=\"left\")\n",
    "predicciones = predicciones.merge(mae_xgb, on=\"product_id\", how=\"left\")\n",
    "predicciones = predicciones.merge(mae_reg, on=\"product_id\", how=\"left\")\n",
    "\n",
    "# Seleccionar el modelo con menor MAE para cada producto\n",
    "def elegir_prediccion(row):\n",
    "    maes = {\n",
    "        \"lgbm\": row[\"mae_cv\"],\n",
    "        \"xgb\": row[\"mae_cv_xgb\"],\n",
    "        \"regresion\": row[\"mae_cv_reg\"]\n",
    "    }\n",
    "    mejor_modelo = min(maes, key=maes.get)\n",
    "    return row[mejor_modelo]\n",
    "\n",
    "predicciones[\"tn_predicho\"] = predicciones.apply(elegir_prediccion, axis=1)\n",
    "\n",
    "# Resultado final\n",
    "salida = predicciones[[\"product_id\", \"tn_predicho\"]]\n",
    "salida.to_csv(\"blend_febrero2020_cv1.csv\", index=False)\n",
    "\n",
    "print(\"Archivo final generado: blend_febrero2020_cv1.csv\")"
   ]
  }
 ],
 "metadata": {
  "kernelspec": {
   "display_name": "predprod1",
   "language": "python",
   "name": "python3"
  },
  "language_info": {
   "codemirror_mode": {
    "name": "ipython",
    "version": 3
   },
   "file_extension": ".py",
   "mimetype": "text/x-python",
   "name": "python",
   "nbconvert_exporter": "python",
   "pygments_lexer": "ipython3",
   "version": "3.9.23"
  }
 },
 "nbformat": 4,
 "nbformat_minor": 5
}
