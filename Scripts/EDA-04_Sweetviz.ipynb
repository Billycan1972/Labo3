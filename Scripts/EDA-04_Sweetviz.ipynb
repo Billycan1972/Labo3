{
 "cells": [
  {
   "cell_type": "markdown",
   "metadata": {},
   "source": [
    "<a id = \"1.0\"></a>\n",
    "<p style=\"font-size:25px;color:#34656d;font-family:'Comic Sans MS';text-align:center;border-radius:5px 5px;\">\n",
    "<strong>Sweetviz</strong></p> "
   ]
  },
  {
   "cell_type": "markdown",
   "metadata": {},
   "source": [
    "<a id = \"1.0\"></a>\n",
    "<p style=\"font-size:15px;color:#34656d;font-family:'Comic Sans MS';text-align:center;border-radius:5px 5px;\">\n",
    "<strong>_____________________________________________________________</strong></p> "
   ]
  },
  {
   "cell_type": "code",
   "execution_count": 1,
   "metadata": {},
   "outputs": [
    {
     "name": "stderr",
     "output_type": "stream",
     "text": [
      "c:\\Users\\waldo\\miniconda3\\envs\\sweetviz\\lib\\site-packages\\sweetviz\\graph.py:8: UserWarning: pkg_resources is deprecated as an API. See https://setuptools.pypa.io/en/latest/pkg_resources.html. The pkg_resources package is slated for removal as early as 2025-11-30. Refrain from using this package or pin to Setuptools<81.\n",
      "  from pkg_resources import resource_filename\n"
     ]
    }
   ],
   "source": [
    "import sweetviz"
   ]
  },
  {
   "cell_type": "code",
   "execution_count": 2,
   "metadata": {},
   "outputs": [
    {
     "name": "stdout",
     "output_type": "stream",
     "text": [
      "Pandas Version: 2.2.3\n"
     ]
    }
   ],
   "source": [
    "import pandas as pd\n",
    "#Configuración de parametros de Pandas para mejor visualización\n",
    "pd.set_option('display.max_columns', None)\n",
    "pd.set_option('display.max_rows', None)\n",
    "pd.set_option('display.max_colwidth', None)\n",
    "pd.set_option('display.precision', 3)\n",
    "pd.set_option('plotting.backend', 'matplotlib') \n",
    "pd.options.mode.chained_assignment = None\n",
    "\n",
    "# En produccion eliminar, se incluye por informacion\n",
    "print(f'Pandas Version: {pd.__version__}') "
   ]
  },
  {
   "cell_type": "code",
   "execution_count": 3,
   "metadata": {},
   "outputs": [],
   "source": [
    "df = pd.read_csv('finalitoul.csv')"
   ]
  },
  {
   "cell_type": "code",
   "execution_count": 4,
   "metadata": {},
   "outputs": [
    {
     "data": {
      "application/vnd.microsoft.datawrangler.viewer.v0+json": {
       "columns": [
        {
         "name": "index",
         "rawType": "int64",
         "type": "integer"
        },
        {
         "name": "customer_id",
         "rawType": "int64",
         "type": "integer"
        },
        {
         "name": "product_id",
         "rawType": "int64",
         "type": "integer"
        },
        {
         "name": "periodo",
         "rawType": "object",
         "type": "string"
        },
        {
         "name": "plan_precios_cuidados",
         "rawType": "float64",
         "type": "float"
        },
        {
         "name": "cust_request_qty",
         "rawType": "float64",
         "type": "float"
        },
        {
         "name": "cust_request_tn",
         "rawType": "float64",
         "type": "float"
        },
        {
         "name": "tn",
         "rawType": "float64",
         "type": "float"
        },
        {
         "name": "stock_final",
         "rawType": "float64",
         "type": "float"
        },
        {
         "name": "cat1",
         "rawType": "object",
         "type": "string"
        },
        {
         "name": "cat2",
         "rawType": "object",
         "type": "string"
        },
        {
         "name": "cat3",
         "rawType": "object",
         "type": "string"
        },
        {
         "name": "brand",
         "rawType": "object",
         "type": "string"
        },
        {
         "name": "sku_size",
         "rawType": "int64",
         "type": "integer"
        }
       ],
       "ref": "04c81e95-7455-4472-be10-7b366963a6e2",
       "rows": [
        [
         "0",
         "10001",
         "20001",
         "2017-01-01",
         "0.0",
         "11.0",
         "99.43861",
         "99.43861",
         "0.0",
         "HC",
         "ROPA LAVADO",
         "Liquido",
         "ARIEL",
         "3000"
        ],
        [
         "1",
         "10001",
         "20001",
         "2017-02-01",
         "0.0",
         "23.0",
         "198.84365",
         "198.84365",
         "0.0",
         "HC",
         "ROPA LAVADO",
         "Liquido",
         "ARIEL",
         "3000"
        ],
        [
         "2",
         "10001",
         "20001",
         "2017-03-01",
         "0.0",
         "33.0",
         "92.46537",
         "92.46537",
         "0.0",
         "HC",
         "ROPA LAVADO",
         "Liquido",
         "ARIEL",
         "3000"
        ],
        [
         "3",
         "10001",
         "20001",
         "2017-04-01",
         "0.0",
         "8.0",
         "13.29728",
         "13.29728",
         "0.0",
         "HC",
         "ROPA LAVADO",
         "Liquido",
         "ARIEL",
         "3000"
        ],
        [
         "4",
         "10001",
         "20001",
         "2017-05-01",
         "0.0",
         "15.0",
         "101.20711",
         "101.00563",
         "0.0",
         "HC",
         "ROPA LAVADO",
         "Liquido",
         "ARIEL",
         "3000"
        ]
       ],
       "shape": {
        "columns": 13,
        "rows": 5
       }
      },
      "text/html": [
       "<div>\n",
       "<style scoped>\n",
       "    .dataframe tbody tr th:only-of-type {\n",
       "        vertical-align: middle;\n",
       "    }\n",
       "\n",
       "    .dataframe tbody tr th {\n",
       "        vertical-align: top;\n",
       "    }\n",
       "\n",
       "    .dataframe thead th {\n",
       "        text-align: right;\n",
       "    }\n",
       "</style>\n",
       "<table border=\"1\" class=\"dataframe\">\n",
       "  <thead>\n",
       "    <tr style=\"text-align: right;\">\n",
       "      <th></th>\n",
       "      <th>customer_id</th>\n",
       "      <th>product_id</th>\n",
       "      <th>periodo</th>\n",
       "      <th>plan_precios_cuidados</th>\n",
       "      <th>cust_request_qty</th>\n",
       "      <th>cust_request_tn</th>\n",
       "      <th>tn</th>\n",
       "      <th>stock_final</th>\n",
       "      <th>cat1</th>\n",
       "      <th>cat2</th>\n",
       "      <th>cat3</th>\n",
       "      <th>brand</th>\n",
       "      <th>sku_size</th>\n",
       "    </tr>\n",
       "  </thead>\n",
       "  <tbody>\n",
       "    <tr>\n",
       "      <th>0</th>\n",
       "      <td>10001</td>\n",
       "      <td>20001</td>\n",
       "      <td>2017-01-01</td>\n",
       "      <td>0.0</td>\n",
       "      <td>11.0</td>\n",
       "      <td>99.439</td>\n",
       "      <td>99.439</td>\n",
       "      <td>0.0</td>\n",
       "      <td>HC</td>\n",
       "      <td>ROPA LAVADO</td>\n",
       "      <td>Liquido</td>\n",
       "      <td>ARIEL</td>\n",
       "      <td>3000</td>\n",
       "    </tr>\n",
       "    <tr>\n",
       "      <th>1</th>\n",
       "      <td>10001</td>\n",
       "      <td>20001</td>\n",
       "      <td>2017-02-01</td>\n",
       "      <td>0.0</td>\n",
       "      <td>23.0</td>\n",
       "      <td>198.844</td>\n",
       "      <td>198.844</td>\n",
       "      <td>0.0</td>\n",
       "      <td>HC</td>\n",
       "      <td>ROPA LAVADO</td>\n",
       "      <td>Liquido</td>\n",
       "      <td>ARIEL</td>\n",
       "      <td>3000</td>\n",
       "    </tr>\n",
       "    <tr>\n",
       "      <th>2</th>\n",
       "      <td>10001</td>\n",
       "      <td>20001</td>\n",
       "      <td>2017-03-01</td>\n",
       "      <td>0.0</td>\n",
       "      <td>33.0</td>\n",
       "      <td>92.465</td>\n",
       "      <td>92.465</td>\n",
       "      <td>0.0</td>\n",
       "      <td>HC</td>\n",
       "      <td>ROPA LAVADO</td>\n",
       "      <td>Liquido</td>\n",
       "      <td>ARIEL</td>\n",
       "      <td>3000</td>\n",
       "    </tr>\n",
       "    <tr>\n",
       "      <th>3</th>\n",
       "      <td>10001</td>\n",
       "      <td>20001</td>\n",
       "      <td>2017-04-01</td>\n",
       "      <td>0.0</td>\n",
       "      <td>8.0</td>\n",
       "      <td>13.297</td>\n",
       "      <td>13.297</td>\n",
       "      <td>0.0</td>\n",
       "      <td>HC</td>\n",
       "      <td>ROPA LAVADO</td>\n",
       "      <td>Liquido</td>\n",
       "      <td>ARIEL</td>\n",
       "      <td>3000</td>\n",
       "    </tr>\n",
       "    <tr>\n",
       "      <th>4</th>\n",
       "      <td>10001</td>\n",
       "      <td>20001</td>\n",
       "      <td>2017-05-01</td>\n",
       "      <td>0.0</td>\n",
       "      <td>15.0</td>\n",
       "      <td>101.207</td>\n",
       "      <td>101.006</td>\n",
       "      <td>0.0</td>\n",
       "      <td>HC</td>\n",
       "      <td>ROPA LAVADO</td>\n",
       "      <td>Liquido</td>\n",
       "      <td>ARIEL</td>\n",
       "      <td>3000</td>\n",
       "    </tr>\n",
       "  </tbody>\n",
       "</table>\n",
       "</div>"
      ],
      "text/plain": [
       "   customer_id  product_id     periodo  plan_precios_cuidados  \\\n",
       "0        10001       20001  2017-01-01                    0.0   \n",
       "1        10001       20001  2017-02-01                    0.0   \n",
       "2        10001       20001  2017-03-01                    0.0   \n",
       "3        10001       20001  2017-04-01                    0.0   \n",
       "4        10001       20001  2017-05-01                    0.0   \n",
       "\n",
       "   cust_request_qty  cust_request_tn       tn  stock_final cat1         cat2  \\\n",
       "0              11.0           99.439   99.439          0.0   HC  ROPA LAVADO   \n",
       "1              23.0          198.844  198.844          0.0   HC  ROPA LAVADO   \n",
       "2              33.0           92.465   92.465          0.0   HC  ROPA LAVADO   \n",
       "3               8.0           13.297   13.297          0.0   HC  ROPA LAVADO   \n",
       "4              15.0          101.207  101.006          0.0   HC  ROPA LAVADO   \n",
       "\n",
       "      cat3  brand  sku_size  \n",
       "0  Liquido  ARIEL      3000  \n",
       "1  Liquido  ARIEL      3000  \n",
       "2  Liquido  ARIEL      3000  \n",
       "3  Liquido  ARIEL      3000  \n",
       "4  Liquido  ARIEL      3000  "
      ]
     },
     "execution_count": 4,
     "metadata": {},
     "output_type": "execute_result"
    }
   ],
   "source": [
    "df.head()"
   ]
  },
  {
   "cell_type": "code",
   "execution_count": null,
   "metadata": {},
   "outputs": [],
   "source": [
    "#columns = ['tn']\n",
    "#df.drop(columns, inplace=True, axis=1)"
   ]
  },
  {
   "cell_type": "code",
   "execution_count": 5,
   "metadata": {},
   "outputs": [
    {
     "data": {
      "application/vnd.jupyter.widget-view+json": {
       "model_id": "59b6bbfd58a54d41bf39819a71ba067c",
       "version_major": 2,
       "version_minor": 0
      },
      "text/plain": [
       "                                             |          | [  0%]   00:00 -> (? left)"
      ]
     },
     "metadata": {},
     "output_type": "display_data"
    }
   ],
   "source": [
    "my_report  = sweetviz.analyze(df)"
   ]
  },
  {
   "cell_type": "code",
   "execution_count": 6,
   "metadata": {},
   "outputs": [
    {
     "name": "stdout",
     "output_type": "stream",
     "text": [
      "Report SWEETVIZ_REPORT.html was generated! NOTEBOOK/COLAB USERS: the web browser MAY not pop up, regardless, the report IS saved in your notebook/colab files.\n"
     ]
    }
   ],
   "source": [
    "my_report.show_html()\n",
    "#my_report.show_html('FinalReport.html')"
   ]
  },
  {
   "cell_type": "markdown",
   "metadata": {},
   "source": [
    "<a id = \"1.0\"></a>\n",
    "<p style=\"font-size:15px;color:#34656d;font-family:'Comic Sans MS';text-align:center;border-radius:5px 5px;\">\n",
    "<strong>_____________________________________________________________</strong></p> "
   ]
  }
 ],
 "metadata": {
  "kernelspec": {
   "display_name": "sweetviz",
   "language": "python",
   "name": "python3"
  },
  "language_info": {
   "codemirror_mode": {
    "name": "ipython",
    "version": 3
   },
   "file_extension": ".py",
   "mimetype": "text/x-python",
   "name": "python",
   "nbconvert_exporter": "python",
   "pygments_lexer": "ipython3",
   "version": "3.10.17"
  }
 },
 "nbformat": 4,
 "nbformat_minor": 4
}
