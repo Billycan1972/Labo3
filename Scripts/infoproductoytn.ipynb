{
 "cells": [
  {
   "cell_type": "code",
   "execution_count": null,
   "id": "45d42cf8",
   "metadata": {},
   "outputs": [],
   "source": [
    "import pandas as pd\n",
    "\n",
    "# 1. Cargar archivo\n",
    "df = pd.read_csv(\"sell-in.txt\", sep=\"\\t\")\n",
    "df[\"periodo\"] = pd.to_datetime(df[\"periodo\"], format=\"%Y%m\")\n",
    "\n",
    "# 2. Agrupar\n",
    "df_grouped = df.groupby([\"product_id\", \"periodo\"])[\"tn\"].sum().reset_index()\n",
    "\n",
    "# 3. Pivotear\n",
    "df_pivot = df_grouped.pivot(index=\"product_id\", columns=\"periodo\", values=\"tn\")\n",
    "df_pivot = df_pivot.reindex(sorted(df_pivot.columns), axis=1)\n",
    "\n",
    "# 4. Agregar promedios últimos N meses con datos reales\n",
    "df_result = df_pivot.copy()\n",
    "\n",
    "def promedio_ultimos(data, n):\n",
    "    return data.apply(lambda row: row.dropna().tail(n).mean(), axis=1)\n",
    "\n",
    "df_result[\"prom_ultimos_3m\"] = promedio_ultimos(df_result, 3)\n",
    "df_result[\"prom_ultimos_6m\"] = promedio_ultimos(df_result, 6)\n",
    "df_result[\"prom_ultimos_12m\"] = promedio_ultimos(df_result, 12)\n",
    "\n",
    "# 5. Exportar\n",
    "df_result.reset_index().to_csv(\"sellin_por_producto_con_promedios.csv\", index=False)\n",
    "print(\"✅ Archivo generado: sellin_por_producto_con_promedios.csv\")\n"
   ]
  }
 ],
 "metadata": {
  "language_info": {
   "name": "python"
  }
 },
 "nbformat": 4,
 "nbformat_minor": 5
}
