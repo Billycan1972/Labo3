{
 "cells": [
  {
   "cell_type": "code",
   "execution_count": 4,
   "id": "38a9730a",
   "metadata": {},
   "outputs": [
    {
     "name": "stdout",
     "output_type": "stream",
     "text": [
      "Blends generados y guardados en archivos separados.\n"
     ]
    }
   ],
   "source": [
    "import pandas as pd\n",
    "\n",
    "# 1. Cargar archivos\n",
    "ruta1 = r\"C:\\Users\\waldo\\Dropbox\\Maestría Ciencia de Datos\\Labo 3\\Proceso\\prediccion_feb2020_datsetbasecondtw9.csv\"\n",
    "ruta2 = r\"C:\\Users\\waldo\\Dropbox\\Maestría Ciencia de Datos\\Labo 3\\Proceso\\predicciones_febrero2020_porproducto3.csv\"\n",
    "\n",
    "df1 = pd.read_csv(ruta1)\n",
    "df2 = pd.read_csv(ruta2)\n",
    "\n",
    "# 2. Renombrar para merge\n",
    "df1 = df1.rename(columns={\"tn_predicho\": \"pred1\"})\n",
    "df2 = df2.rename(columns={\"tn_predicho\": \"pred2\"})\n",
    "\n",
    "# 3. Unir por product_id\n",
    "blend = pd.merge(df1, df2, on=\"product_id\", how=\"inner\")\n",
    "\n",
    "# 4. Generar blends\n",
    "blend[\"blend_min\"] = blend[[\"pred1\", \"pred2\"]].min(axis=1)\n",
    "blend[\"blend_max\"] = blend[[\"pred1\", \"pred2\"]].max(axis=1)\n",
    "blend[\"blend_promedio\"] = blend[[\"pred1\", \"pred2\"]].mean(axis=1)\n",
    "blend[\"blend_ponderado90\"] = 0.9 * blend[\"blend_promedio\"]\n",
    "blend[\"blend_ponderado110\"] = 1.10 * blend[\"blend_promedio\"]\n",
    "\n",
    "# 5. Exportar cada uno\n",
    "blend[[\"product_id\", \"blend_min\"]].rename(columns={\"blend_min\": \"tn_predicho\"}) \\\n",
    "    .to_csv(\"blend_min_febrero2020.csv\", index=False)\n",
    "\n",
    "blend[[\"product_id\", \"blend_max\"]].rename(columns={\"blend_max\": \"tn_predicho\"}) \\\n",
    "    .to_csv(\"blend_max_febrero2020.csv\", index=False)\n",
    "\n",
    "blend[[\"product_id\", \"blend_promedio\"]].rename(columns={\"blend_promedio\": \"tn_predicho\"}) \\\n",
    "    .to_csv(\"blend_avg_febrero2020.csv\", index=False)\n",
    "\n",
    "blend[[\"product_id\", \"blend_ponderado90\"]].rename(columns={\"blend_ponderado90\": \"tn_predicho\"}) \\\n",
    "    .to_csv(\"blend_ponderado90_febrero2020.csv\", index=False)\n",
    "\n",
    "blend[[\"product_id\", \"blend_ponderado110\"]].rename(columns={\"blend_ponderado110\": \"tn_predicho\"}) \\\n",
    "    .to_csv(\"blend_ponderado110_febrero2020.csv\", index=False)\n",
    "\n",
    "print(\"Blends generados y guardados en archivos separados.\")\n"
   ]
  }
 ],
 "metadata": {
  "kernelspec": {
   "display_name": "predprod1",
   "language": "python",
   "name": "python3"
  },
  "language_info": {
   "codemirror_mode": {
    "name": "ipython",
    "version": 3
   },
   "file_extension": ".py",
   "mimetype": "text/x-python",
   "name": "python",
   "nbconvert_exporter": "python",
   "pygments_lexer": "ipython3",
   "version": "3.9.23"
  }
 },
 "nbformat": 4,
 "nbformat_minor": 5
}
