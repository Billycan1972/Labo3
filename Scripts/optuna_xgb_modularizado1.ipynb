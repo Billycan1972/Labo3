{
 "cells": [
  {
   "cell_type": "markdown",
   "id": "b23c3324-a95e-4519-a469-2cafe3153ea5",
   "metadata": {},
   "source": [
    "# 📦 Paso 1: Cargar y preparar datos"
   ]
  },
  {
   "cell_type": "code",
   "execution_count": 1,
   "id": "467d4829-7de0-48a1-86ab-9e91411c8c91",
   "metadata": {},
   "outputs": [
    {
     "name": "stdout",
     "output_type": "stream",
     "text": [
      "✅ Datos preparados y guardados\n"
     ]
    }
   ],
   "source": [
    "import pandas as pd\n",
    "import numpy as np\n",
    "from sklearn.model_selection import train_test_split\n",
    "import pickle\n",
    "\n",
    "# Cargar dataset\n",
    "df = pd.read_csv(\"dataset_top90_series_completas.csv\", parse_dates=[\"periodo\"])\n",
    "df[\"product_id\"] = df[\"product_id\"].astype(str)\n",
    "\n",
    "# Filtrar hasta octubre 2019\n",
    "train_df = df[df[\"periodo\"] <= \"2019-10-01\"].copy()\n",
    "\n",
    "# Seleccionar features\n",
    "exclude = [\"tn\", \"customer_id\", \"periodo\", \"product_id\"]\n",
    "y = train_df[\"tn\"]\n",
    "X = train_df.drop(columns=[col for col in exclude if col in train_df.columns])\n",
    "\n",
    "# División\n",
    "X_train, X_val, y_train, y_val = train_test_split(X, y, test_size=0.2, random_state=42)\n",
    "sample_weight = np.log1p(y_train + 1)\n",
    "\n",
    "# Guardar datos\n",
    "with open(\"datos_entrenamiento.pkl\", \"wb\") as f:\n",
    "    pickle.dump((X_train, X_val, y_train, y_val, sample_weight, X.columns.tolist()), f)\n",
    "\n",
    "print(\"✅ Datos preparados y guardados\")"
   ]
  },
  {
   "cell_type": "markdown",
   "id": "16552e76-b5f5-419e-83e4-3e7a0bfb35b4",
   "metadata": {},
   "source": [
    "# 🔍 Paso 2: Entrenamiento con Optuna + XGBoost"
   ]
  },
  {
   "cell_type": "code",
   "execution_count": 2,
   "id": "f248e86e-cc16-4898-a95e-6d7d9d87fca3",
   "metadata": {},
   "outputs": [
    {
     "name": "stderr",
     "output_type": "stream",
     "text": [
      "c:\\Users\\waldo\\miniconda3\\envs\\lgbmgpu\\lib\\site-packages\\tqdm\\auto.py:21: TqdmWarning: IProgress not found. Please update jupyter and ipywidgets. See https://ipywidgets.readthedocs.io/en/stable/user_install.html\n",
      "  from .autonotebook import tqdm as notebook_tqdm\n",
      "[I 2025-06-27 18:26:25,248] A new study created in RDB with name: prediccion_tn2\n",
      "[I 2025-06-27 18:26:50,034] Trial 0 finished with value: 0.5327711375604227 and parameters: {'n_estimators': 156, 'max_depth': 7, 'learning_rate': 0.0738073637122238, 'subsample': 0.6177512789924311, 'colsample_bytree': 0.99658319384641, 'reg_alpha': 0.004485314420782371, 'reg_lambda': 1.4114992973578566}. Best is trial 0 with value: 0.5327711375604227.\n",
      "[I 2025-06-27 18:27:25,431] Trial 1 finished with value: 0.5930630639209056 and parameters: {'n_estimators': 258, 'max_depth': 3, 'learning_rate': 0.09338766516365588, 'subsample': 0.7662707767155423, 'colsample_bytree': 0.9790768838224574, 'reg_alpha': 4.976585525681322, 'reg_lambda': 0.894024889772575}. Best is trial 0 with value: 0.5327711375604227.\n",
      "[I 2025-06-27 18:27:55,239] Trial 2 finished with value: 0.5228716802047851 and parameters: {'n_estimators': 300, 'max_depth': 6, 'learning_rate': 0.08974557082132752, 'subsample': 0.7921709937756123, 'colsample_bytree': 0.8925255249276227, 'reg_alpha': 1.300491022460527, 'reg_lambda': 2.999892338721826}. Best is trial 2 with value: 0.5228716802047851.\n",
      "[I 2025-06-27 18:28:15,708] Trial 3 finished with value: 0.5610904317062309 and parameters: {'n_estimators': 268, 'max_depth': 4, 'learning_rate': 0.037418065731490896, 'subsample': 0.8766887779318611, 'colsample_bytree': 0.7970199678745133, 'reg_alpha': 0.3381758162325099, 'reg_lambda': 3.195376587051386}. Best is trial 2 with value: 0.5228716802047851.\n",
      "[I 2025-06-27 18:28:30,296] Trial 4 finished with value: 0.5474258663060372 and parameters: {'n_estimators': 132, 'max_depth': 5, 'learning_rate': 0.0438150018671084, 'subsample': 0.8096069165531543, 'colsample_bytree': 0.7461791722693552, 'reg_alpha': 1.1497723577540904, 'reg_lambda': 0.7316919349417739}. Best is trial 2 with value: 0.5228716802047851.\n",
      "[I 2025-06-27 18:28:52,683] Trial 5 finished with value: 0.48407733816076165 and parameters: {'n_estimators': 274, 'max_depth': 5, 'learning_rate': 0.09266246437530944, 'subsample': 0.8537838957131558, 'colsample_bytree': 0.9853162793679823, 'reg_alpha': 4.070768521149115, 'reg_lambda': 1.1726329817375065}. Best is trial 5 with value: 0.48407733816076165.\n",
      "[I 2025-06-27 18:29:06,634] Trial 6 finished with value: 0.6189507770448618 and parameters: {'n_estimators': 126, 'max_depth': 6, 'learning_rate': 0.06398435018835555, 'subsample': 0.7122352767839245, 'colsample_bytree': 0.7570890957813721, 'reg_alpha': 3.38086089310179, 'reg_lambda': 0.06917319806835798}. Best is trial 5 with value: 0.48407733816076165.\n",
      "[I 2025-06-27 18:29:33,210] Trial 7 finished with value: 0.5349840931588908 and parameters: {'n_estimators': 233, 'max_depth': 6, 'learning_rate': 0.04945956571133375, 'subsample': 0.6314756602284314, 'colsample_bytree': 0.6567512721903151, 'reg_alpha': 1.2576809891584895, 'reg_lambda': 2.380408143743662}. Best is trial 5 with value: 0.48407733816076165.\n",
      "[I 2025-06-27 18:29:49,335] Trial 8 finished with value: 0.5888841587194974 and parameters: {'n_estimators': 135, 'max_depth': 6, 'learning_rate': 0.03321180391402894, 'subsample': 0.9635705918211089, 'colsample_bytree': 0.6809257744505096, 'reg_alpha': 3.706891771981831, 'reg_lambda': 1.0230279763677692}. Best is trial 5 with value: 0.48407733816076165.\n",
      "[I 2025-06-27 18:30:03,462] Trial 9 finished with value: 0.5584797860999466 and parameters: {'n_estimators': 108, 'max_depth': 6, 'learning_rate': 0.06088164111140355, 'subsample': 0.7451185083042975, 'colsample_bytree': 0.8048977685285714, 'reg_alpha': 4.091448332240462, 'reg_lambda': 1.7778847269920872}. Best is trial 5 with value: 0.48407733816076165.\n",
      "[I 2025-06-27 18:30:29,999] Trial 10 finished with value: 0.5576536719113239 and parameters: {'n_estimators': 336, 'max_depth': 4, 'learning_rate': 0.01052774853572707, 'subsample': 0.9729505258741484, 'colsample_bytree': 0.8975462225563487, 'reg_alpha': 2.445623689174041, 'reg_lambda': 4.6156533600288}. Best is trial 5 with value: 0.48407733816076165.\n",
      "[I 2025-06-27 18:30:53,505] Trial 11 finished with value: 0.5013442014878965 and parameters: {'n_estimators': 314, 'max_depth': 5, 'learning_rate': 0.09712985267550701, 'subsample': 0.8651875014247616, 'colsample_bytree': 0.9049984457777052, 'reg_alpha': 2.3121550547567673, 'reg_lambda': 3.341233670403662}. Best is trial 5 with value: 0.48407733816076165.\n",
      "[I 2025-06-27 18:31:18,070] Trial 12 finished with value: 0.48107615701557477 and parameters: {'n_estimators': 327, 'max_depth': 5, 'learning_rate': 0.09846908009718727, 'subsample': 0.8816036486837785, 'colsample_bytree': 0.9200846851080593, 'reg_alpha': 2.59616897410516, 'reg_lambda': 4.755378948623294}. Best is trial 12 with value: 0.48107615701557477.\n",
      "[I 2025-06-27 18:31:42,040] Trial 13 finished with value: 0.48231315876713393 and parameters: {'n_estimators': 350, 'max_depth': 4, 'learning_rate': 0.08454447155607327, 'subsample': 0.8924255783622774, 'colsample_bytree': 0.9448020967186028, 'reg_alpha': 4.545497822347893, 'reg_lambda': 4.936719077925669}. Best is trial 12 with value: 0.48107615701557477.\n",
      "[I 2025-06-27 18:32:04,648] Trial 14 finished with value: 0.5618827597680172 and parameters: {'n_estimators': 348, 'max_depth': 3, 'learning_rate': 0.07748788458989747, 'subsample': 0.9201254228932324, 'colsample_bytree': 0.9365083099176292, 'reg_alpha': 4.908227490549123, 'reg_lambda': 4.949254529263954}. Best is trial 12 with value: 0.48107615701557477.\n",
      "[I 2025-06-27 18:32:20,035] Trial 15 finished with value: 0.4993791372840709 and parameters: {'n_estimators': 187, 'max_depth': 4, 'learning_rate': 0.0807036321668107, 'subsample': 0.9387819631046845, 'colsample_bytree': 0.8387634281927152, 'reg_alpha': 2.9808083046869362, 'reg_lambda': 4.311986887037938}. Best is trial 12 with value: 0.48107615701557477.\n",
      "[I 2025-06-27 18:32:42,028] Trial 16 finished with value: 0.502117051832893 and parameters: {'n_estimators': 304, 'max_depth': 4, 'learning_rate': 0.09999233235329717, 'subsample': 0.8405329684287347, 'colsample_bytree': 0.8607517381713258, 'reg_alpha': 2.0026446801654427, 'reg_lambda': 4.01065262079045}. Best is trial 12 with value: 0.48107615701557477.\n",
      "[I 2025-06-27 18:32:57,091] Trial 17 finished with value: 0.6296523175582409 and parameters: {'n_estimators': 203, 'max_depth': 3, 'learning_rate': 0.08546467027958352, 'subsample': 0.9130539788005508, 'colsample_bytree': 0.6019185971361974, 'reg_alpha': 4.357285915622219, 'reg_lambda': 3.861471510616346}. Best is trial 12 with value: 0.48107615701557477.\n",
      "[I 2025-06-27 18:33:40,241] Trial 18 finished with value: 0.536896578865606 and parameters: {'n_estimators': 328, 'max_depth': 7, 'learning_rate': 0.06573206086739103, 'subsample': 0.9955704643536865, 'colsample_bytree': 0.9290417409664472, 'reg_alpha': 3.0806651048887437, 'reg_lambda': 4.886684394384744}. Best is trial 12 with value: 0.48107615701557477.\n",
      "[I 2025-06-27 18:34:18,031] Trial 19 finished with value: 0.4863098703244655 and parameters: {'n_estimators': 350, 'max_depth': 4, 'learning_rate': 0.07355712166278539, 'subsample': 0.896826154282073, 'colsample_bytree': 0.9529626009434669, 'reg_alpha': 2.7825112493011144, 'reg_lambda': 3.846163062509177}. Best is trial 12 with value: 0.48107615701557477.\n",
      "[I 2025-06-27 18:34:50,914] Trial 20 finished with value: 0.4854791658220511 and parameters: {'n_estimators': 281, 'max_depth': 5, 'learning_rate': 0.08431462722081944, 'subsample': 0.6752862764382517, 'colsample_bytree': 0.8548318112276899, 'reg_alpha': 1.8315751393639337, 'reg_lambda': 2.3139652166625955}. Best is trial 12 with value: 0.48107615701557477.\n",
      "[I 2025-06-27 18:35:27,527] Trial 21 finished with value: 0.515494145926894 and parameters: {'n_estimators': 291, 'max_depth': 5, 'learning_rate': 0.09982303113637088, 'subsample': 0.8377781168236393, 'colsample_bytree': 0.9692569065120985, 'reg_alpha': 4.391173239308083, 'reg_lambda': 1.8722061294394199}. Best is trial 12 with value: 0.48107615701557477.\n",
      "[I 2025-06-27 18:36:04,010] Trial 22 finished with value: 0.47201437070713886 and parameters: {'n_estimators': 318, 'max_depth': 5, 'learning_rate': 0.08952818244829028, 'subsample': 0.8488431642636798, 'colsample_bytree': 0.9255798223968413, 'reg_alpha': 3.628197862263562, 'reg_lambda': 0.19493909972075063}. Best is trial 22 with value: 0.47201437070713886.\n",
      "[I 2025-06-27 18:36:41,698] Trial 23 finished with value: 0.4957636563306036 and parameters: {'n_estimators': 324, 'max_depth': 5, 'learning_rate': 0.08822672037773166, 'subsample': 0.8182102839033015, 'colsample_bytree': 0.923155533574535, 'reg_alpha': 3.446013861837132, 'reg_lambda': 0.14755800319239507}. Best is trial 22 with value: 0.47201437070713886.\n",
      "[I 2025-06-27 18:37:02,938] Trial 24 finished with value: 0.5190551836271564 and parameters: {'n_estimators': 253, 'max_depth': 4, 'learning_rate': 0.07083151389422619, 'subsample': 0.8869772036403182, 'colsample_bytree': 0.8811379605744851, 'reg_alpha': 3.8854680851711465, 'reg_lambda': 4.375697018602153}. Best is trial 22 with value: 0.47201437070713886.\n",
      "[I 2025-06-27 18:37:35,574] Trial 25 finished with value: 0.455256786916409 and parameters: {'n_estimators': 318, 'max_depth': 5, 'learning_rate': 0.08216848770996366, 'subsample': 0.9281104193794921, 'colsample_bytree': 0.9476603459677261, 'reg_alpha': 4.482439604276862, 'reg_lambda': 2.8669562564971054}. Best is trial 25 with value: 0.455256786916409.\n",
      "[I 2025-06-27 18:38:04,366] Trial 26 finished with value: 0.5018792652252243 and parameters: {'n_estimators': 230, 'max_depth': 5, 'learning_rate': 0.057941174603009626, 'subsample': 0.9463585548363072, 'colsample_bytree': 0.8237705047453047, 'reg_alpha': 3.533707247322838, 'reg_lambda': 0.47097109982200314}. Best is trial 25 with value: 0.455256786916409.\n",
      "[I 2025-06-27 18:38:43,941] Trial 27 finished with value: 0.5233697296159461 and parameters: {'n_estimators': 317, 'max_depth': 6, 'learning_rate': 0.07918695850032599, 'subsample': 0.7839297212284639, 'colsample_bytree': 0.8659837938641262, 'reg_alpha': 3.1476984976461315, 'reg_lambda': 2.7466831473740685}. Best is trial 25 with value: 0.455256786916409.\n",
      "[I 2025-06-27 18:39:07,264] Trial 28 finished with value: 0.4846455125781665 and parameters: {'n_estimators': 291, 'max_depth': 5, 'learning_rate': 0.09388679438421597, 'subsample': 0.9296763632060122, 'colsample_bytree': 0.9178874639301272, 'reg_alpha': 2.703971550935861, 'reg_lambda': 3.5325321899746536}. Best is trial 25 with value: 0.455256786916409.\n",
      "[I 2025-06-27 18:39:28,011] Trial 29 finished with value: 0.5658722533244319 and parameters: {'n_estimators': 175, 'max_depth': 7, 'learning_rate': 0.0682434850440066, 'subsample': 0.8269328825345743, 'colsample_bytree': 0.9982188260730233, 'reg_alpha': 4.662780563329285, 'reg_lambda': 1.6330422117035224}. Best is trial 25 with value: 0.455256786916409.\n"
     ]
    },
    {
     "name": "stdout",
     "output_type": "stream",
     "text": [
      "✅ Modelo entrenado y guardado\n"
     ]
    }
   ],
   "source": [
    "import optuna\n",
    "from xgboost import XGBRegressor\n",
    "from sklearn.metrics import mean_squared_error\n",
    "import pickle\n",
    "import json\n",
    "import joblib\n",
    "\n",
    "# Cargar datos\n",
    "with open(\"datos_entrenamiento.pkl\", \"rb\") as f:\n",
    "    X_train, X_val, y_train, y_val, sample_weight, columnas = pickle.load(f)\n",
    "\n",
    "# Estudio Optuna\n",
    "storage = \"sqlite:///optuna_tn_study_protegidow.db\"\n",
    "study = optuna.create_study(\n",
    "    direction='minimize',\n",
    "    study_name=\"prediccion_tn2\",\n",
    "    storage=storage,\n",
    "    load_if_exists=True,\n",
    "    sampler=optuna.samplers.TPESampler(),\n",
    "    pruner=optuna.pruners.MedianPruner(n_startup_trials=5)\n",
    ")\n",
    "\n",
    "# Objetivo protegido\n",
    "def objective(trial):\n",
    "    try:\n",
    "        params = {\n",
    "            'n_estimators': trial.suggest_int('n_estimators', 100, 350),\n",
    "            'max_depth': trial.suggest_int('max_depth', 3, 7),\n",
    "            'learning_rate': trial.suggest_float('learning_rate', 0.01, 0.1),\n",
    "            'subsample': trial.suggest_float('subsample', 0.6, 1.0),\n",
    "            'colsample_bytree': trial.suggest_float('colsample_bytree', 0.6, 1.0),\n",
    "            'reg_alpha': trial.suggest_float('reg_alpha', 0.0, 5.0),\n",
    "            'reg_lambda': trial.suggest_float('reg_lambda', 0.0, 5.0),\n",
    "            'tree_method': 'hist',\n",
    "            'random_state': 42,\n",
    "            'n_jobs': -1,\n",
    "            'verbosity': 1\n",
    "        }\n",
    "        model = XGBRegressor(**params)\n",
    "        model.fit(X_train, y_train, sample_weight=sample_weight)\n",
    "        pred = model.predict(X_val)\n",
    "        return np.sqrt(mean_squared_error(y_val, pred))\n",
    "    except Exception as e:\n",
    "        trial.set_user_attr(\"failed_reason\", str(e))\n",
    "        return float(\"inf\")\n",
    "\n",
    "study.optimize(objective, n_trials=30)\n",
    "\n",
    "# Mejor modelo\n",
    "best_params = study.best_params\n",
    "best_params.update({'tree_method': 'hist', 'random_state': 42})\n",
    "model_final = XGBRegressor(**best_params)\n",
    "model_final.fit(pd.concat([X_train, X_val]), pd.concat([y_train, y_val]), sample_weight=np.log1p(pd.concat([y_train, y_val]) + 1))\n",
    "\n",
    "joblib.dump(model_final, \"modelo_xgb.pkl\")\n",
    "with open(\"mejores_parametros.json\", \"w\") as f:\n",
    "    json.dump(best_params, f)\n",
    "\n",
    "print(\"✅ Modelo entrenado y guardado\")"
   ]
  },
  {
   "cell_type": "markdown",
   "id": "763f7301-7fe1-4a28-87c9-4e67cb5a6e8b",
   "metadata": {},
   "source": [
    "# 📈 Paso 3: Predecir febrero 2020"
   ]
  },
  {
   "cell_type": "code",
   "execution_count": 3,
   "id": "700dd3e4-4bf0-49a8-9b83-db53815a647a",
   "metadata": {},
   "outputs": [
    {
     "name": "stdout",
     "output_type": "stream",
     "text": [
      "✅ Predicción exportada como 'prediccion_febrero_top90xgb.csv'\n"
     ]
    }
   ],
   "source": [
    "import joblib\n",
    "import pandas as pd\n",
    "\n",
    "# Cargar modelo y columnas\n",
    "model_final = joblib.load(\"modelo_xgb.pkl\")\n",
    "with open(\"datos_entrenamiento.pkl\", \"rb\") as f:\n",
    "    _, _, _, _, _, columnas = pickle.load(f)\n",
    "\n",
    "# Cargar base original\n",
    "df = pd.read_csv(\"dataset_top90_series_completas.csv\", parse_dates=[\"periodo\"])\n",
    "df[\"product_id\"] = df[\"product_id\"].astype(str)\n",
    "\n",
    "# Diciembre → febrero\n",
    "febrero = df[df[\"periodo\"] == \"2019-12-01\"].copy()\n",
    "febrero[\"periodo\"] = pd.to_datetime(\"2020-02-01\")\n",
    "febrero = febrero.groupby(\"product_id\", as_index=False).first()\n",
    "\n",
    "# Lags\n",
    "for i, mes in zip(range(1, 4), [\"2019-12-01\", \"2019-11-01\", \"2019-10-01\"]):\n",
    "    lag_df = (\n",
    "        df[df[\"periodo\"] == mes]\n",
    "        .groupby(\"product_id\", as_index=False)[\"tn\"]\n",
    "        .mean()\n",
    "        .rename(columns={\"tn\": f\"lag_{i}\"})\n",
    "    )\n",
    "    febrero = febrero.merge(lag_df, on=\"product_id\", how=\"left\")\n",
    "\n",
    "# Completar columnas faltantes\n",
    "faltantes = set(columnas) - set(febrero.columns)\n",
    "for col in faltantes:\n",
    "    febrero[col] = 0\n",
    "febrero_X = febrero[columnas]\n",
    "\n",
    "# Predecir y exportar\n",
    "febrero[\"tn_pred\"] = model_final.predict(febrero_X)\n",
    "febrero[[\"product_id\", \"tn_pred\"]].to_csv(\"prediccion_febrero_top90xgb.csv\", index=False)\n",
    "\n",
    "print(\"✅ Predicción exportada como 'prediccion_febrero_top90xgb.csv'\")"
   ]
  }
 ],
 "metadata": {
  "kernelspec": {
   "display_name": "lgbmgpu",
   "language": "python",
   "name": "python3"
  },
  "language_info": {
   "codemirror_mode": {
    "name": "ipython",
    "version": 3
   },
   "file_extension": ".py",
   "mimetype": "text/x-python",
   "name": "python",
   "nbconvert_exporter": "python",
   "pygments_lexer": "ipython3",
   "version": "3.10.16"
  }
 },
 "nbformat": 4,
 "nbformat_minor": 5
}
